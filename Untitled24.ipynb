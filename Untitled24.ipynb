{
  "nbformat": 4,
  "nbformat_minor": 0,
  "metadata": {
    "colab": {
      "provenance": [],
      "authorship_tag": "ABX9TyP3n0AIgPoYtSYoDdlQfCO/",
      "include_colab_link": true
    },
    "kernelspec": {
      "name": "python3",
      "display_name": "Python 3"
    },
    "language_info": {
      "name": "python"
    }
  },
  "cells": [
    {
      "cell_type": "markdown",
      "metadata": {
        "id": "view-in-github",
        "colab_type": "text"
      },
      "source": [
        "<a href=\"https://colab.research.google.com/github/rvjh/PythonPractice/blob/main/Untitled24.ipynb\" target=\"_parent\"><img src=\"https://colab.research.google.com/assets/colab-badge.svg\" alt=\"Open In Colab\"/></a>"
      ]
    },
    {
      "cell_type": "markdown",
      "source": [
        "Write a Python program to create a lambda function that adds 15 to a given number passed in as an argument, also create a lambda function that multiplies argument x with argument y and print the result."
      ],
      "metadata": {
        "id": "2NgmuokNqiVH"
      }
    },
    {
      "cell_type": "code",
      "execution_count": 4,
      "metadata": {
        "colab": {
          "base_uri": "https://localhost:8080/"
        },
        "id": "j03xaxQbqV3v",
        "outputId": "8298d588-da46-4616-c5e1-dbdcd54e6c9d"
      },
      "outputs": [
        {
          "output_type": "execute_result",
          "data": {
            "text/plain": [
              "25"
            ]
          },
          "metadata": {},
          "execution_count": 4
        }
      ],
      "source": [
        "a = lambda x : x+15\n",
        "\n",
        "a(10)"
      ]
    },
    {
      "cell_type": "code",
      "source": [
        "a = lambda x,y : x * y\n",
        "\n",
        "a(3,5)"
      ],
      "metadata": {
        "colab": {
          "base_uri": "https://localhost:8080/"
        },
        "id": "whMxnOkpqsT_",
        "outputId": "e1cb4ee3-8722-49a8-a38c-95f44ac88e47"
      },
      "execution_count": 5,
      "outputs": [
        {
          "output_type": "execute_result",
          "data": {
            "text/plain": [
              "15"
            ]
          },
          "metadata": {},
          "execution_count": 5
        }
      ]
    },
    {
      "cell_type": "code",
      "source": [
        "a_1 = lambda x : x * 1\n",
        "a_2 = lambda x : x * 2\n",
        "a_3 = lambda x : x * 3\n",
        "a_4 = lambda x : x * 4\n",
        "a_5 = lambda x : x * 5\n",
        "\n",
        "a = int(input(\"enter a no : \"))\n",
        "print(f\"Singl no : {a_1(a)}\")\n",
        "print(f\"double no : {a_2(a)}\")\n",
        "print(f\"triplel no : {a_3(a)}\")\n",
        "print(f\"quad no : {a_4(a)}\")\n",
        "print(f\"penta no : {a_5(a)}\")"
      ],
      "metadata": {
        "colab": {
          "base_uri": "https://localhost:8080/"
        },
        "id": "T5bqy-r3q_XO",
        "outputId": "a8cd37a0-5db2-48c8-8c02-14285723650f"
      },
      "execution_count": 6,
      "outputs": [
        {
          "output_type": "stream",
          "name": "stdout",
          "text": [
            "enter a no : 15\n",
            "Singl no : 15\n",
            "double no : 30\n",
            "triplel no : 45\n",
            "quad no : 60\n",
            "penta no : 75\n"
          ]
        }
      ]
    },
    {
      "cell_type": "markdown",
      "source": [
        "sort a list of tuples using Lambda"
      ],
      "metadata": {
        "id": "oIjm02dJsUGF"
      }
    },
    {
      "cell_type": "code",
      "source": [
        "a = [('English', 88), ('Science', 90), ('Maths', 97), ('Social sciences', 82)]\n",
        "a"
      ],
      "metadata": {
        "colab": {
          "base_uri": "https://localhost:8080/"
        },
        "id": "C0mwSUEDsNdH",
        "outputId": "ecc7963c-6246-4a8b-e035-6e82971efc28"
      },
      "execution_count": 8,
      "outputs": [
        {
          "output_type": "execute_result",
          "data": {
            "text/plain": [
              "[('English', 88), ('Science', 90), ('Maths', 97), ('Social sciences', 82)]"
            ]
          },
          "metadata": {},
          "execution_count": 8
        }
      ]
    },
    {
      "cell_type": "code",
      "source": [
        "a.sort(key=lambda x : x[1])\n",
        "print(a)"
      ],
      "metadata": {
        "colab": {
          "base_uri": "https://localhost:8080/"
        },
        "id": "jzYsSTSgsXi9",
        "outputId": "db6b96c7-e6c2-4fdd-b85a-7f4e6cd517ad"
      },
      "execution_count": 9,
      "outputs": [
        {
          "output_type": "stream",
          "name": "stdout",
          "text": [
            "[('Social sciences', 82), ('English', 88), ('Science', 90), ('Maths', 97)]\n"
          ]
        }
      ]
    },
    {
      "cell_type": "markdown",
      "source": [
        "Write a Python program to sort a list of dictionaries using Lambda"
      ],
      "metadata": {
        "id": "6qk96v6Esqj8"
      }
    },
    {
      "cell_type": "code",
      "source": [
        "a = [{'make': 'Nokia', 'model': 216, 'color': 'Black'}, {'make': 'Mi Max', 'model': '2', 'color': 'Gold'}, {'make': 'Samsung', 'model': 7, 'color': 'Blue'}]\n",
        "a.sort(key = lambda x : x['color'])\n",
        "print(a)"
      ],
      "metadata": {
        "colab": {
          "base_uri": "https://localhost:8080/"
        },
        "id": "NPJcY8vwsm4M",
        "outputId": "fccdd735-a85a-4d04-acb8-3fb0b23e279e"
      },
      "execution_count": 15,
      "outputs": [
        {
          "output_type": "stream",
          "name": "stdout",
          "text": [
            "[{'make': 'Nokia', 'model': 216, 'color': 'Black'}, {'make': 'Samsung', 'model': 7, 'color': 'Blue'}, {'make': 'Mi Max', 'model': '2', 'color': 'Gold'}]\n"
          ]
        }
      ]
    },
    {
      "cell_type": "markdown",
      "source": [
        "Write a Python program to filter a list of integers using Lambda"
      ],
      "metadata": {
        "id": "MtrHbYjqvqgC"
      }
    },
    {
      "cell_type": "code",
      "source": [
        "l = [1, 2, 3, 4, 5, 6, 7, 8, 9, 10]\n",
        "a_ev = list(filter(lambda x : x%2 == 0,l))\n",
        "a_odd = list(filter(lambda x : x%2 != 0,l))\n",
        "\n",
        "print(a_ev)\n",
        "print(a_odd)\n"
      ],
      "metadata": {
        "colab": {
          "base_uri": "https://localhost:8080/"
        },
        "id": "0XwnYpBYs3gb",
        "outputId": "2f2a5a4a-0b4c-4c91-d028-dd9d76598bac"
      },
      "execution_count": 16,
      "outputs": [
        {
          "output_type": "stream",
          "name": "stdout",
          "text": [
            "[2, 4, 6, 8, 10]\n",
            "[1, 3, 5, 7, 9]\n"
          ]
        }
      ]
    },
    {
      "cell_type": "markdown",
      "source": [
        "Write a Python program to create Fibonacci series upto n using Lambda"
      ],
      "metadata": {
        "id": "n7IXRrOhwRcq"
      }
    },
    {
      "cell_type": "code",
      "source": [],
      "metadata": {
        "colab": {
          "base_uri": "https://localhost:8080/"
        },
        "id": "hZVlfkcNwJ16",
        "outputId": "2023ba42-e44f-4272-c556-2203ed487bf0"
      },
      "execution_count": 20,
      "outputs": [
        {
          "output_type": "execute_result",
          "data": {
            "text/plain": [
              "[0, 1, 1, 1, 1]"
            ]
          },
          "metadata": {},
          "execution_count": 20
        }
      ]
    },
    {
      "cell_type": "code",
      "source": [],
      "metadata": {
        "id": "lSd71qp3w9_5"
      },
      "execution_count": null,
      "outputs": []
    }
  ]
}