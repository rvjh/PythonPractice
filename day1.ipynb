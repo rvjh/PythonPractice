{
 "cells": [
  {
   "cell_type": "markdown",
   "id": "87d79648",
   "metadata": {},
   "source": [
    "# Basics of Python\n",
    "\n",
    "## Simple pthon syntaxes"
   ]
  },
  {
   "cell_type": "code",
   "execution_count": 1,
   "id": "fc2eeb05",
   "metadata": {},
   "outputs": [
    {
     "data": {
      "text/plain": [
       "2"
      ]
     },
     "execution_count": 1,
     "metadata": {},
     "output_type": "execute_result"
    }
   ],
   "source": [
    "1+1"
   ]
  },
  {
   "cell_type": "code",
   "execution_count": 2,
   "id": "8fe410e3",
   "metadata": {},
   "outputs": [
    {
     "name": "stdout",
     "output_type": "stream",
     "text": [
      "Hi this is rohan\n"
     ]
    }
   ],
   "source": [
    "print(\"Hi this is rohan\")"
   ]
  },
  {
   "cell_type": "code",
   "execution_count": 3,
   "id": "bd6662cd",
   "metadata": {},
   "outputs": [
    {
     "name": "stdout",
     "output_type": "stream",
     "text": [
      "Hi this is rohan\n"
     ]
    }
   ],
   "source": [
    "print('Hi this is rohan')"
   ]
  },
  {
   "cell_type": "code",
   "execution_count": 5,
   "id": "dade7014",
   "metadata": {},
   "outputs": [
    {
     "data": {
      "text/plain": [
       "'Hi tis is really awesome food.!!!'"
      ]
     },
     "execution_count": 5,
     "metadata": {},
     "output_type": "execute_result"
    }
   ],
   "source": [
    "\"\"\"Hi tis is really awesome food.!!!\"\"\"\n"
   ]
  },
  {
   "cell_type": "code",
   "execution_count": 7,
   "id": "d20d70de",
   "metadata": {},
   "outputs": [
    {
     "data": {
      "text/plain": [
       "'Hi tis is really awesome food.!!!'"
      ]
     },
     "execution_count": 7,
     "metadata": {},
     "output_type": "execute_result"
    }
   ],
   "source": [
    "# this is really good\n",
    "'''Hi tis is really awesome food.!!!'''"
   ]
  },
  {
   "cell_type": "code",
   "execution_count": 8,
   "id": "737475e3",
   "metadata": {},
   "outputs": [
    {
     "data": {
      "text/plain": [
       "20"
      ]
     },
     "execution_count": 8,
     "metadata": {},
     "output_type": "execute_result"
    }
   ],
   "source": [
    "4*5"
   ]
  },
  {
   "cell_type": "code",
   "execution_count": 13,
   "id": "10e5a7b1",
   "metadata": {},
   "outputs": [
    {
     "name": "stdout",
     "output_type": "stream",
     "text": [
      "Enter a no2\n",
      "Enter a no3\n",
      "1st no is 2 and second no is 3\n",
      "addition is 5\n",
      "subtraction is -1\n",
      "mul is 6\n",
      "div is 0.6666666666666666\n",
      "mod is 2\n",
      "exponent is 1\n",
      "power is 8\n"
     ]
    }
   ],
   "source": [
    "a = int(input(\"Enter a no\"))\n",
    "b = int(input(\"Enter a no\"))\n",
    "\n",
    "def ma(x,y):\n",
    "    print(f'1st no is {x} and second no is {y}')\n",
    "    print(f'addition is {a+b}')\n",
    "    print(f'subtraction is {a-b}')\n",
    "    print(f'mul is {a*b}')\n",
    "    print(f'div is {a/b}')\n",
    "    print(f'mod is {a%b}')\n",
    "    print(f'exponent is {a^b}')\n",
    "    print(f'power is {a**b}')\n",
    "\n",
    "ma(a,b)\n"
   ]
  },
  {
   "cell_type": "code",
   "execution_count": 15,
   "id": "0fb65bb0",
   "metadata": {},
   "outputs": [
    {
     "data": {
      "text/plain": [
       "' Rohan Rohan Rohan Rohan Rohan Rohan Rohan Rohan Rohan Rohan'"
      ]
     },
     "execution_count": 15,
     "metadata": {},
     "output_type": "execute_result"
    }
   ],
   "source": [
    "10*' Rohan'"
   ]
  },
  {
   "cell_type": "code",
   "execution_count": 22,
   "id": "cc4663eb",
   "metadata": {},
   "outputs": [
    {
     "name": "stdout",
     "output_type": "stream",
     "text": [
      "<class 'int'>\n",
      "<class 'float'>\n",
      "<class 'complex'>\n",
      "<class 'str'>\n",
      "<class 'bool'>\n"
     ]
    }
   ],
   "source": [
    "## to know the datatype\n",
    "\n",
    "print(type(100))\n",
    "print(type(13.600))\n",
    "print(type(100+7j))\n",
    "print(type('rohan das'))\n",
    "print(type(True))"
   ]
  },
  {
   "cell_type": "code",
   "execution_count": 24,
   "id": "4a4494a6",
   "metadata": {},
   "outputs": [
    {
     "data": {
      "text/plain": [
       "int"
      ]
     },
     "execution_count": 24,
     "metadata": {},
     "output_type": "execute_result"
    }
   ],
   "source": [
    "a=10\n",
    "type(a)"
   ]
  },
  {
   "cell_type": "code",
   "execution_count": 25,
   "id": "145135f5",
   "metadata": {},
   "outputs": [
    {
     "data": {
      "text/plain": [
       "str"
      ]
     },
     "execution_count": 25,
     "metadata": {},
     "output_type": "execute_result"
    }
   ],
   "source": [
    "a='sup'\n",
    "type(a)"
   ]
  },
  {
   "cell_type": "code",
   "execution_count": 26,
   "id": "5ac2a329",
   "metadata": {},
   "outputs": [
    {
     "name": "stdout",
     "output_type": "stream",
     "text": [
      "first name is rohan and last nme is das\n"
     ]
    }
   ],
   "source": [
    "f_name = 'rohan'\n",
    "l_name = 'das'\n",
    "print(f'first name is {f_name} and last nme is {l_name}')"
   ]
  },
  {
   "cell_type": "code",
   "execution_count": 29,
   "id": "2b099a02",
   "metadata": {},
   "outputs": [
    {
     "data": {
      "text/plain": [
       "(1, 2, 3, 4, 5)"
      ]
     },
     "execution_count": 29,
     "metadata": {},
     "output_type": "execute_result"
    }
   ],
   "source": [
    "l = [1,2,3,4,5]\n",
    "type(l)\n",
    "tuple(l)"
   ]
  },
  {
   "cell_type": "code",
   "execution_count": 43,
   "id": "b8507585",
   "metadata": {},
   "outputs": [
    {
     "name": "stdout",
     "output_type": "stream",
     "text": [
      "Rohan das123\n",
      "rohan das123\n",
      "12\n",
      "False\n",
      "False\n",
      "False\n",
      "True\n",
      "True\n",
      "False\n"
     ]
    }
   ],
   "source": [
    "a = 'rohan das123'\n",
    "\n",
    "print(a.capitalize())\n",
    "print(a.casefold())\n",
    "print(len(a))\n",
    "print(a.isalnum())\n",
    "print(a.isalpha())\n",
    "print(a.isdecimal())\n",
    "print(a.islower())\n",
    "print(a.startswith('r'))\n",
    "print(a.endswith('k'))"
   ]
  },
  {
   "cell_type": "code",
   "execution_count": 47,
   "id": "3e2a822f",
   "metadata": {},
   "outputs": [
    {
     "data": {
      "text/plain": [
       "list"
      ]
     },
     "execution_count": 47,
     "metadata": {},
     "output_type": "execute_result"
    }
   ],
   "source": [
    "l = [1,2,3]\n",
    "type(l)"
   ]
  },
  {
   "cell_type": "code",
   "execution_count": 48,
   "id": "f0b4f020",
   "metadata": {},
   "outputs": [
    {
     "data": {
      "text/plain": [
       "3"
      ]
     },
     "execution_count": 48,
     "metadata": {},
     "output_type": "execute_result"
    }
   ],
   "source": [
    "len(l)"
   ]
  },
  {
   "cell_type": "code",
   "execution_count": 51,
   "id": "d48bb38e",
   "metadata": {},
   "outputs": [
    {
     "data": {
      "text/plain": [
       "4"
      ]
     },
     "execution_count": 51,
     "metadata": {},
     "output_type": "execute_result"
    }
   ],
   "source": [
    "l=['rohan','das',12,23]\n",
    "l\n",
    "len(l)"
   ]
  },
  {
   "cell_type": "code",
   "execution_count": 52,
   "id": "4fdc30c1",
   "metadata": {},
   "outputs": [
    {
     "data": {
      "text/plain": [
       "['rohan', 'das', 12, 23, 'supr']"
      ]
     },
     "execution_count": 52,
     "metadata": {},
     "output_type": "execute_result"
    }
   ],
   "source": [
    "l.append('supr')\n",
    "l"
   ]
  },
  {
   "cell_type": "code",
   "execution_count": 56,
   "id": "38348222",
   "metadata": {},
   "outputs": [
    {
     "data": {
      "text/plain": [
       "['rohan', 36]"
      ]
     },
     "execution_count": 56,
     "metadata": {},
     "output_type": "execute_result"
    }
   ],
   "source": [
    "l.pop()\n",
    "l.append(36)\n",
    "l"
   ]
  },
  {
   "cell_type": "code",
   "execution_count": 57,
   "id": "1cd6b220",
   "metadata": {},
   "outputs": [
    {
     "data": {
      "text/plain": [
       "['rohan', 36, 49, 454, 'suf']"
      ]
     },
     "execution_count": 57,
     "metadata": {},
     "output_type": "execute_result"
    }
   ],
   "source": [
    "l.append(49)\n",
    "l.append(454)\n",
    "l.append('suf')\n",
    "l"
   ]
  },
  {
   "cell_type": "code",
   "execution_count": 58,
   "id": "47c1991e",
   "metadata": {},
   "outputs": [
    {
     "data": {
      "text/plain": [
       "1"
      ]
     },
     "execution_count": 58,
     "metadata": {},
     "output_type": "execute_result"
    }
   ],
   "source": [
    "l.index(36)"
   ]
  },
  {
   "cell_type": "code",
   "execution_count": 59,
   "id": "85b22adc",
   "metadata": {},
   "outputs": [
    {
     "data": {
      "text/plain": [
       "2"
      ]
     },
     "execution_count": 59,
     "metadata": {},
     "output_type": "execute_result"
    }
   ],
   "source": [
    "l.index(49)"
   ]
  },
  {
   "cell_type": "code",
   "execution_count": 60,
   "id": "fa0f92cd",
   "metadata": {},
   "outputs": [
    {
     "data": {
      "text/plain": [
       "4"
      ]
     },
     "execution_count": 60,
     "metadata": {},
     "output_type": "execute_result"
    }
   ],
   "source": [
    "l.index('suf')"
   ]
  },
  {
   "cell_type": "code",
   "execution_count": 61,
   "id": "872072a2",
   "metadata": {},
   "outputs": [
    {
     "data": {
      "text/plain": [
       "['rohan', 36, 49, 'suchi', 454, 'suf']"
      ]
     },
     "execution_count": 61,
     "metadata": {},
     "output_type": "execute_result"
    }
   ],
   "source": [
    "l.insert(3,'suchi')\n",
    "l"
   ]
  },
  {
   "cell_type": "code",
   "execution_count": 67,
   "id": "fde2c108",
   "metadata": {},
   "outputs": [
    {
     "name": "stdout",
     "output_type": "stream",
     "text": [
      "rohan\n",
      "36\n",
      "49\n",
      "suchi\n",
      "454\n",
      "suf\n"
     ]
    }
   ],
   "source": [
    "## indexing \n",
    "\n",
    "for i in l:\n",
    "    print(i)"
   ]
  },
  {
   "cell_type": "code",
   "execution_count": 68,
   "id": "bc623837",
   "metadata": {},
   "outputs": [
    {
     "data": {
      "text/plain": [
       "['rohan', 36, 49, 'suchi', 454, 'suf']"
      ]
     },
     "execution_count": 68,
     "metadata": {},
     "output_type": "execute_result"
    }
   ],
   "source": [
    "[i for i in l]"
   ]
  },
  {
   "cell_type": "code",
   "execution_count": 70,
   "id": "c2e16a49",
   "metadata": {},
   "outputs": [
    {
     "data": {
      "text/plain": [
       "[36, 49, 'suchi']"
      ]
     },
     "execution_count": 70,
     "metadata": {},
     "output_type": "execute_result"
    }
   ],
   "source": [
    "l[1:4]"
   ]
  },
  {
   "cell_type": "code",
   "execution_count": 73,
   "id": "0622d8c8",
   "metadata": {},
   "outputs": [
    {
     "data": {
      "text/plain": [
       "['suchi', 454]"
      ]
     },
     "execution_count": 73,
     "metadata": {},
     "output_type": "execute_result"
    }
   ],
   "source": [
    "l[3:5]"
   ]
  },
  {
   "cell_type": "code",
   "execution_count": 74,
   "id": "83fb746c",
   "metadata": {},
   "outputs": [
    {
     "data": {
      "text/plain": [
       "['rohan', 36, 49, 'suchi', 454, 'suf', ['rohit', 'kohli']]"
      ]
     },
     "execution_count": 74,
     "metadata": {},
     "output_type": "execute_result"
    }
   ],
   "source": [
    "l.append(['rohit','kohli'])\n",
    "l"
   ]
  },
  {
   "cell_type": "code",
   "execution_count": 76,
   "id": "f245737c",
   "metadata": {},
   "outputs": [
    {
     "data": {
      "text/plain": [
       "['rohan',\n",
       " 36,\n",
       " 49,\n",
       " 'suchi',\n",
       " 454,\n",
       " 'suf',\n",
       " ['rohit', 'kohli'],\n",
       " '9,10,11',\n",
       " 9,\n",
       " 10,\n",
       " 11]"
      ]
     },
     "execution_count": 76,
     "metadata": {},
     "output_type": "execute_result"
    }
   ],
   "source": [
    "## extend\n",
    "\n",
    "l.extend([9,10,11])\n",
    "l"
   ]
  },
  {
   "cell_type": "code",
   "execution_count": 78,
   "id": "129d77d6",
   "metadata": {},
   "outputs": [
    {
     "data": {
      "text/plain": [
       "150"
      ]
     },
     "execution_count": 78,
     "metadata": {},
     "output_type": "execute_result"
    }
   ],
   "source": [
    "a = [20,30,10,40,50]\n",
    "sum(a)"
   ]
  },
  {
   "cell_type": "code",
   "execution_count": 79,
   "id": "e3c14674",
   "metadata": {},
   "outputs": [
    {
     "data": {
      "text/plain": [
       "5"
      ]
     },
     "execution_count": 79,
     "metadata": {},
     "output_type": "execute_result"
    }
   ],
   "source": [
    "## counting of a number of occuerance in a list\n",
    "\n",
    "a = [10,20,30,10,20,30,30,30,30]\n",
    "a.count(30)"
   ]
  },
  {
   "cell_type": "code",
   "execution_count": 80,
   "id": "d67bdce8",
   "metadata": {},
   "outputs": [
    {
     "data": {
      "text/plain": [
       "10"
      ]
     },
     "execution_count": 80,
     "metadata": {},
     "output_type": "execute_result"
    }
   ],
   "source": [
    "min(a)"
   ]
  },
  {
   "cell_type": "code",
   "execution_count": 81,
   "id": "548acd95",
   "metadata": {},
   "outputs": [
    {
     "data": {
      "text/plain": [
       "30"
      ]
     },
     "execution_count": 81,
     "metadata": {},
     "output_type": "execute_result"
    }
   ],
   "source": [
    "max(a)"
   ]
  },
  {
   "cell_type": "code",
   "execution_count": null,
   "id": "9124d409",
   "metadata": {},
   "outputs": [],
   "source": []
  }
 ],
 "metadata": {
  "kernelspec": {
   "display_name": "Python 3 (ipykernel)",
   "language": "python",
   "name": "python3"
  },
  "language_info": {
   "codemirror_mode": {
    "name": "ipython",
    "version": 3
   },
   "file_extension": ".py",
   "mimetype": "text/x-python",
   "name": "python",
   "nbconvert_exporter": "python",
   "pygments_lexer": "ipython3",
   "version": "3.9.7"
  }
 },
 "nbformat": 4,
 "nbformat_minor": 5
}
