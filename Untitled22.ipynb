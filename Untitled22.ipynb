{
  "nbformat": 4,
  "nbformat_minor": 0,
  "metadata": {
    "colab": {
      "provenance": [],
      "authorship_tag": "ABX9TyO63vLfuI1qdffEs2k+UTAh",
      "include_colab_link": true
    },
    "kernelspec": {
      "name": "python3",
      "display_name": "Python 3"
    },
    "language_info": {
      "name": "python"
    }
  },
  "cells": [
    {
      "cell_type": "markdown",
      "metadata": {
        "id": "view-in-github",
        "colab_type": "text"
      },
      "source": [
        "<a href=\"https://colab.research.google.com/github/rvjh/PythonPractice/blob/main/Untitled22.ipynb\" target=\"_parent\"><img src=\"https://colab.research.google.com/assets/colab-badge.svg\" alt=\"Open In Colab\"/></a>"
      ]
    },
    {
      "cell_type": "markdown",
      "source": [
        "#Python map() function"
      ],
      "metadata": {
        "id": "lMcPhUqmnO6_"
      }
    },
    {
      "cell_type": "code",
      "execution_count": 5,
      "metadata": {
        "id": "kp5XAH2DhQSz",
        "colab": {
          "base_uri": "https://localhost:8080/"
        },
        "outputId": "e2417a32-f183-42a9-dca8-b48ec7966c9b"
      },
      "outputs": [
        {
          "output_type": "execute_result",
          "data": {
            "text/plain": [
              "[2, 4, 6, 8]"
            ]
          },
          "metadata": {},
          "execution_count": 5
        }
      ],
      "source": [
        "a = [1,2,3,4]\n",
        "\n",
        "def sum(n):\n",
        "  return n + n\n",
        "\n",
        "res = map(sum,a)\n",
        "list(res)"
      ]
    },
    {
      "cell_type": "markdown",
      "source": [
        "Write a Python program to triple all numbers of a given list of integers. Use Python map"
      ],
      "metadata": {
        "id": "aIRg2t75pBWt"
      }
    },
    {
      "cell_type": "code",
      "source": [
        "def get_triple(n):\n",
        "  return n*n*n\n",
        "\n",
        "res = map(get_triple, [1,2,3,4])\n",
        "print(list(res))"
      ],
      "metadata": {
        "colab": {
          "base_uri": "https://localhost:8080/"
        },
        "id": "yY0OmYzkntVO",
        "outputId": "b4bf2452-3322-4e46-f0b2-6f85d7089782"
      },
      "execution_count": 6,
      "outputs": [
        {
          "output_type": "stream",
          "name": "stdout",
          "text": [
            "[1, 8, 27, 64]\n"
          ]
        }
      ]
    },
    {
      "cell_type": "markdown",
      "source": [
        "Write a Python program to add three given lists using Python map and lambda"
      ],
      "metadata": {
        "id": "uoXxccJJpVG7"
      }
    },
    {
      "cell_type": "code",
      "source": [
        "nums1 = [1, 2, 3] \n",
        "nums2 = [4, 5, 6] \n",
        "nums3 = [7, 8, 9] \n",
        "\n",
        "res = map(lambda  x, y, z: x + y + z , nums1, nums2, nums3)\n",
        "print(list(res))"
      ],
      "metadata": {
        "colab": {
          "base_uri": "https://localhost:8080/"
        },
        "id": "M-nffwCZpQNr",
        "outputId": "5f1ebc8f-84da-478d-a426-def595dedd3c"
      },
      "execution_count": 8,
      "outputs": [
        {
          "output_type": "stream",
          "name": "stdout",
          "text": [
            "[12, 15, 18]\n"
          ]
        }
      ]
    },
    {
      "cell_type": "code",
      "source": [
        "l = ['sat', 'bat', 'cat', 'mat']\n",
        "\n",
        "m = list(map(list, l))\n",
        "m"
      ],
      "metadata": {
        "colab": {
          "base_uri": "https://localhost:8080/"
        },
        "id": "rIbtbhQaqNDs",
        "outputId": "b66f9ea2-6285-4a36-b434-5f14fd4fe7ec"
      },
      "execution_count": 9,
      "outputs": [
        {
          "output_type": "execute_result",
          "data": {
            "text/plain": [
              "[['s', 'a', 't'], ['b', 'a', 't'], ['c', 'a', 't'], ['m', 'a', 't']]"
            ]
          },
          "metadata": {},
          "execution_count": 9
        }
      ]
    },
    {
      "cell_type": "markdown",
      "source": [
        "Write a Python program to square the elements of a list using map() function"
      ],
      "metadata": {
        "id": "l0FOFIL8qlEM"
      }
    },
    {
      "cell_type": "code",
      "source": [
        "def get_square(n):\n",
        "  return n**2\n",
        "\n",
        "nums1 = [1, 2, 3] \n",
        "\n",
        "m = list(map(get_square,nums1))\n",
        "m"
      ],
      "metadata": {
        "colab": {
          "base_uri": "https://localhost:8080/"
        },
        "id": "opMagtHUpaiM",
        "outputId": "29be9e03-2747-4f76-a0ef-785d7500fd69"
      },
      "execution_count": 10,
      "outputs": [
        {
          "output_type": "execute_result",
          "data": {
            "text/plain": [
              "[1, 4, 9]"
            ]
          },
          "metadata": {},
          "execution_count": 10
        }
      ]
    },
    {
      "cell_type": "markdown",
      "source": [
        "Write a Python program to convert all the characters in uppercase and lowercase and eliminate duplicate letters from a given sequence. Use map() function"
      ],
      "metadata": {
        "id": "pbDspQl2q2Mj"
      }
    },
    {
      "cell_type": "code",
      "source": [
        "def get_clean_text(s):\n",
        "  return str(s).upper() , str(s).lower()\n",
        "\n",
        "chrars = {'a', 'b', 'E', 'f', 'a', 'i', 'o', 'U', 'a'}\n",
        "\n",
        "m = list(map(get_clean_text,chrars ))\n",
        "m"
      ],
      "metadata": {
        "colab": {
          "base_uri": "https://localhost:8080/"
        },
        "id": "I57Fs_xSqyS7",
        "outputId": "da4eea6c-2187-42d5-b540-59f6fea26dc8"
      },
      "execution_count": 16,
      "outputs": [
        {
          "output_type": "execute_result",
          "data": {
            "text/plain": [
              "[('E', 'e'),\n",
              " ('I', 'i'),\n",
              " ('O', 'o'),\n",
              " ('A', 'a'),\n",
              " ('F', 'f'),\n",
              " ('U', 'u'),\n",
              " ('B', 'b')]"
            ]
          },
          "metadata": {},
          "execution_count": 16
        }
      ]
    },
    {
      "cell_type": "markdown",
      "source": [
        "Write a Python program to add two given lists and find the difference between lists. Use map() function"
      ],
      "metadata": {
        "id": "9bxQXsn6teAy"
      }
    },
    {
      "cell_type": "code",
      "source": [
        "def get_add_sub(x,y):\n",
        "  return x+y , x-y\n",
        "\n",
        "nums1 = [1, 2, 3] \n",
        "nums2 = [3, 4, 5] \n",
        "\n",
        "m1 = list(map(get_add_sub, nums1,nums2))\n",
        "print(m1)"
      ],
      "metadata": {
        "colab": {
          "base_uri": "https://localhost:8080/"
        },
        "id": "ly3qjjcDrQQL",
        "outputId": "9e9c9df3-0917-46ff-fdf7-6cc6ac184995"
      },
      "execution_count": 18,
      "outputs": [
        {
          "output_type": "stream",
          "name": "stdout",
          "text": [
            "[(4, -2), (6, -2), (8, -2)]\n"
          ]
        }
      ]
    },
    {
      "cell_type": "markdown",
      "source": [
        "Lambda"
      ],
      "metadata": {
        "id": "EDnX29ZrvboQ"
      }
    },
    {
      "cell_type": "code",
      "source": [
        "str1 = 'GeeksforGeeks'\n",
        "\n",
        "a = lambda str1 : str1.upper()[::-1]\n",
        "print(a(str1))"
      ],
      "metadata": {
        "colab": {
          "base_uri": "https://localhost:8080/"
        },
        "id": "HpC_jLdOuMza",
        "outputId": "9a457ea4-dea6-48e7-feba-8f8bf679b183"
      },
      "execution_count": 22,
      "outputs": [
        {
          "output_type": "stream",
          "name": "stdout",
          "text": [
            "SKEEGROFSKEEG\n"
          ]
        }
      ]
    },
    {
      "cell_type": "markdown",
      "source": [
        "cube"
      ],
      "metadata": {
        "id": "xqSQxrh2z7oa"
      }
    },
    {
      "cell_type": "code",
      "source": [
        "l3 = lambda y : y*y*y\n",
        "\n",
        "l3(5)"
      ],
      "metadata": {
        "colab": {
          "base_uri": "https://localhost:8080/"
        },
        "id": "pza4r6dMvjYo",
        "outputId": "9e3d4e17-0af7-40c0-93bb-d3269679d1d8"
      },
      "execution_count": 27,
      "outputs": [
        {
          "output_type": "execute_result",
          "data": {
            "text/plain": [
              "125"
            ]
          },
          "metadata": {},
          "execution_count": 27
        }
      ]
    },
    {
      "cell_type": "code",
      "source": [],
      "metadata": {
        "id": "vMmDZhtS0G6k"
      },
      "execution_count": null,
      "outputs": []
    }
  ]
}