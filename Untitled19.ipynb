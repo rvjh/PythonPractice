{
  "nbformat": 4,
  "nbformat_minor": 0,
  "metadata": {
    "colab": {
      "provenance": [],
      "authorship_tag": "ABX9TyN46vQxsLC0S9JPy30FoxVC",
      "include_colab_link": true
    },
    "kernelspec": {
      "name": "python3",
      "display_name": "Python 3"
    },
    "language_info": {
      "name": "python"
    }
  },
  "cells": [
    {
      "cell_type": "markdown",
      "metadata": {
        "id": "view-in-github",
        "colab_type": "text"
      },
      "source": [
        "<a href=\"https://colab.research.google.com/github/rvjh/PythonPractice/blob/main/Untitled19.ipynb\" target=\"_parent\"><img src=\"https://colab.research.google.com/assets/colab-badge.svg\" alt=\"Open In Colab\"/></a>"
      ]
    },
    {
      "cell_type": "code",
      "execution_count": 1,
      "metadata": {
        "id": "q7tOkdpXerFI"
      },
      "outputs": [],
      "source": [
        "alphabet = ['a','b','c','d','e','f','g','h','i','j','k','l','m','n','o','p','q','r','s','t','u','v','w','x','y','z']"
      ]
    },
    {
      "cell_type": "code",
      "source": [
        "def alpha_index(alphbet,word):\n",
        "  word = word.lower()\n",
        "  m=[]\n",
        "  for i in word:\n",
        "    m.append(alphabet.index(i))\n",
        "  return max(m),alphabet[max(m)]\n",
        "\n",
        "print(alpha_index(alphabet,'mnop'))\n",
        "print(alpha_index(alphabet,'Falvio'))\n",
        "print(alpha_index(alphabet,'Andryo'))\n",
        "print(alpha_index(alphabet,'Oscar'))"
      ],
      "metadata": {
        "colab": {
          "base_uri": "https://localhost:8080/"
        },
        "id": "JNUio7hJfwux",
        "outputId": "a2151e21-de58-4275-9d11-6a72cd99d060"
      },
      "execution_count": 14,
      "outputs": [
        {
          "output_type": "stream",
          "name": "stdout",
          "text": [
            "(15, 'p')\n",
            "(21, 'v')\n",
            "(24, 'y')\n",
            "(18, 's')\n"
          ]
        }
      ]
    },
    {
      "cell_type": "code",
      "source": [
        "alphabet[5]"
      ],
      "metadata": {
        "colab": {
          "base_uri": "https://localhost:8080/",
          "height": 36
        },
        "id": "mwiJBY-mheX2",
        "outputId": "cb3c9c55-032c-4e5a-9367-beaa47fb3c69"
      },
      "execution_count": 12,
      "outputs": [
        {
          "output_type": "execute_result",
          "data": {
            "text/plain": [
              "'f'"
            ],
            "application/vnd.google.colaboratory.intrinsic+json": {
              "type": "string"
            }
          },
          "metadata": {},
          "execution_count": 12
        }
      ]
    },
    {
      "cell_type": "code",
      "source": [],
      "metadata": {
        "id": "v3AkKm94pJBu"
      },
      "execution_count": null,
      "outputs": []
    }
  ]
}