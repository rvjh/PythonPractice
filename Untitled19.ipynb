{
  "nbformat": 4,
  "nbformat_minor": 0,
  "metadata": {
    "colab": {
      "provenance": [],
      "authorship_tag": "ABX9TyPkofQLLkMN1SOn77VBmHi1",
      "include_colab_link": true
    },
    "kernelspec": {
      "name": "python3",
      "display_name": "Python 3"
    },
    "language_info": {
      "name": "python"
    }
  },
  "cells": [
    {
      "cell_type": "markdown",
      "metadata": {
        "id": "view-in-github",
        "colab_type": "text"
      },
      "source": [
        "<a href=\"https://colab.research.google.com/github/rvjh/PythonPractice/blob/main/Untitled19.ipynb\" target=\"_parent\"><img src=\"https://colab.research.google.com/assets/colab-badge.svg\" alt=\"Open In Colab\"/></a>"
      ]
    },
    {
      "cell_type": "code",
      "execution_count": 1,
      "metadata": {
        "id": "q7tOkdpXerFI"
      },
      "outputs": [],
      "source": [
        "alphabet = ['a','b','c','d','e','f','g','h','i','j','k','l','m','n','o','p','q','r','s','t','u','v','w','x','y','z']"
      ]
    },
    {
      "cell_type": "code",
      "source": [
        "def alpha_index(alphbet,word):\n",
        "  word = word.lower()\n",
        "  m=[]\n",
        "  for i in word:\n",
        "    m.append(alphabet.index(i))\n",
        "  return max(m),alphabet[max(m)]\n",
        "\n",
        "print(alpha_index(alphabet,'mnop'))\n",
        "print(alpha_index(alphabet,'Falvio'))\n",
        "print(alpha_index(alphabet,'Andryo'))\n",
        "print(alpha_index(alphabet,'Oscar'))"
      ],
      "metadata": {
        "colab": {
          "base_uri": "https://localhost:8080/"
        },
        "id": "JNUio7hJfwux",
        "outputId": "b0b7cf49-d9b7-497e-a671-7d1f23e4c94c"
      },
      "execution_count": 16,
      "outputs": [
        {
          "output_type": "stream",
          "name": "stdout",
          "text": [
            "(15, 'p')\n",
            "(21, 'v')\n",
            "(24, 'y')\n",
            "(18, 's')\n"
          ]
        }
      ]
    },
    {
      "cell_type": "code",
      "source": [
        "alphabet[5]"
      ],
      "metadata": {
        "colab": {
          "base_uri": "https://localhost:8080/",
          "height": 36
        },
        "id": "mwiJBY-mheX2",
        "outputId": "cb3c9c55-032c-4e5a-9367-beaa47fb3c69"
      },
      "execution_count": 12,
      "outputs": [
        {
          "output_type": "execute_result",
          "data": {
            "text/plain": [
              "'f'"
            ],
            "application/vnd.google.colaboratory.intrinsic+json": {
              "type": "string"
            }
          },
          "metadata": {},
          "execution_count": 12
        }
      ]
    },
    {
      "cell_type": "code",
      "source": [
        "!ndvia -smi"
      ],
      "metadata": {
        "colab": {
          "base_uri": "https://localhost:8080/"
        },
        "id": "v3AkKm94pJBu",
        "outputId": "7ccddb76-9254-4c9d-df11-4289510344fd"
      },
      "execution_count": 18,
      "outputs": [
        {
          "output_type": "stream",
          "name": "stdout",
          "text": [
            "/bin/bash: ndvia: command not found\n"
          ]
        }
      ]
    },
    {
      "cell_type": "code",
      "source": [
        "import tensorflow as tf\n",
        "from tensorflow import keras"
      ],
      "metadata": {
        "id": "W5l4gh51tF1a"
      },
      "execution_count": 19,
      "outputs": []
    },
    {
      "cell_type": "code",
      "source": [
        "INPUT_SHAPE = (28,28,1)\n",
        "\n",
        "## Cnn begining model\n",
        "\n",
        "model = tf.keras.Sequential()\n",
        "model.add(tf.keras.layers.Conv2D(filters=16, kernel_size =(3,3),strides=(1, 1), activation = 'relu',input_shape = INPUT_SHAPE))\n",
        "model.add(tf.keras.layers.MaxPool2D(pool_size=(2,2),))\n",
        "model.add(tf.keras.layers.Conv2D(filters=32, kernal_size = (3,3),activation='relu')\n",
        "## flatten layer\n",
        "\n",
        "#model.add(tf.keras.layers.Flatten())\n",
        "\n",
        "model.add(tf.keras.layers.Dense(units=64,activation='relu'))\n",
        "model.add(tf.keras.layers.Dropout(rate=0.5))\n",
        "model.add(tf.keras.layers.Dense(units=32,activation='relu'))\n",
        "model.add(tf.keras.layers.Dense(units=10,activation='softmax'))\n",
        "\n",
        "model.compile(optimizer='adam', \n",
        "              loss='sparse_categorical_crossentropy')"
      ],
      "metadata": {
        "colab": {
          "base_uri": "https://localhost:8080/",
          "height": 131
        },
        "id": "TJTU2wmewXVH",
        "outputId": "02c54a8c-21a7-4d57-8e2c-5e2c92e21e5a"
      },
      "execution_count": 29,
      "outputs": [
        {
          "output_type": "error",
          "ename": "SyntaxError",
          "evalue": "ignored",
          "traceback": [
            "\u001b[0;36m  File \u001b[0;32m\"<ipython-input-29-eb374f33bdf4>\"\u001b[0;36m, line \u001b[0;32m13\u001b[0m\n\u001b[0;31m    model.add(tf.keras.layers.Dense(units=64,activation='relu'))\u001b[0m\n\u001b[0m        ^\u001b[0m\n\u001b[0;31mSyntaxError\u001b[0m\u001b[0;31m:\u001b[0m invalid syntax\n"
          ]
        }
      ]
    },
    {
      "cell_type": "code",
      "source": [],
      "metadata": {
        "id": "4BvG8baqwl63"
      },
      "execution_count": null,
      "outputs": []
    }
  ]
}