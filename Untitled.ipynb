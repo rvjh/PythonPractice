{
 "cells": [
  {
   "cell_type": "code",
   "execution_count": 1,
   "id": "4f0f602c",
   "metadata": {},
   "outputs": [
    {
     "data": {
      "text/plain": [
       "[1,\n",
       " 2,\n",
       " 3,\n",
       " 4,\n",
       " 5,\n",
       " 6,\n",
       " 7,\n",
       " 8,\n",
       " 9,\n",
       " 10,\n",
       " 11,\n",
       " 12,\n",
       " 13,\n",
       " 14,\n",
       " 15,\n",
       " 16,\n",
       " 17,\n",
       " 18,\n",
       " 19,\n",
       " 20,\n",
       " 21,\n",
       " 22,\n",
       " 23,\n",
       " 24,\n",
       " 25,\n",
       " 26,\n",
       " 27,\n",
       " 28,\n",
       " 29,\n",
       " 30,\n",
       " 31,\n",
       " 32,\n",
       " 33,\n",
       " 34,\n",
       " 35,\n",
       " 36,\n",
       " 37,\n",
       " 38,\n",
       " 39,\n",
       " 40,\n",
       " 41,\n",
       " 42,\n",
       " 43,\n",
       " 44,\n",
       " 45,\n",
       " 46,\n",
       " 47,\n",
       " 48,\n",
       " 49,\n",
       " 50,\n",
       " 51,\n",
       " 52,\n",
       " 53,\n",
       " 54,\n",
       " 55,\n",
       " 56,\n",
       " 57,\n",
       " 58,\n",
       " 59,\n",
       " 60,\n",
       " 61,\n",
       " 62,\n",
       " 63,\n",
       " 64,\n",
       " 65,\n",
       " 66,\n",
       " 67,\n",
       " 68,\n",
       " 69,\n",
       " 70,\n",
       " 71,\n",
       " 72,\n",
       " 73,\n",
       " 74,\n",
       " 75,\n",
       " 76,\n",
       " 77,\n",
       " 78,\n",
       " 79,\n",
       " 80,\n",
       " 81,\n",
       " 82,\n",
       " 83,\n",
       " 84,\n",
       " 85,\n",
       " 86,\n",
       " 87,\n",
       " 88,\n",
       " 89,\n",
       " 90,\n",
       " 91,\n",
       " 92,\n",
       " 93,\n",
       " 94,\n",
       " 95,\n",
       " 96,\n",
       " 97,\n",
       " 98,\n",
       " 99,\n",
       " 100]"
      ]
     },
     "execution_count": 1,
     "metadata": {},
     "output_type": "execute_result"
    }
   ],
   "source": [
    "l=[]\n",
    "for i in range(1,101):\n",
    "    l.append(i)\n",
    "l\n"
   ]
  },
  {
   "cell_type": "code",
   "execution_count": 2,
   "id": "e3914b78",
   "metadata": {},
   "outputs": [
    {
     "name": "stdout",
     "output_type": "stream",
     "text": [
      "2\n",
      "4\n",
      "6\n",
      "8\n",
      "10\n",
      "12\n",
      "14\n",
      "16\n",
      "18\n",
      "20\n",
      "22\n",
      "24\n",
      "26\n",
      "28\n",
      "30\n",
      "32\n",
      "34\n",
      "36\n",
      "38\n",
      "40\n",
      "42\n",
      "44\n",
      "46\n",
      "48\n",
      "50\n",
      "52\n",
      "54\n",
      "56\n",
      "58\n",
      "60\n",
      "62\n",
      "64\n",
      "66\n",
      "68\n",
      "70\n",
      "72\n",
      "74\n",
      "76\n",
      "78\n",
      "80\n",
      "82\n",
      "84\n",
      "86\n",
      "88\n",
      "90\n",
      "92\n",
      "94\n",
      "96\n",
      "98\n",
      "100\n"
     ]
    }
   ],
   "source": [
    "for i in l:\n",
    "    if i%2==0:\n",
    "        print(i)"
   ]
  },
  {
   "cell_type": "code",
   "execution_count": 4,
   "id": "007df1a7",
   "metadata": {},
   "outputs": [
    {
     "name": "stdout",
     "output_type": "stream",
     "text": [
      "2333856222208\n",
      "2333859941696\n"
     ]
    }
   ],
   "source": [
    "a = (1,2,3)\n",
    "print(id(a))\n",
    "a = (1,2)\n",
    "print(id(a))"
   ]
  },
  {
   "cell_type": "code",
   "execution_count": 36,
   "id": "eb6abf18",
   "metadata": {},
   "outputs": [
    {
     "data": {
      "text/plain": [
       "[2,\n",
       " 4,\n",
       " 6,\n",
       " 8,\n",
       " 10,\n",
       " 12,\n",
       " 14,\n",
       " 16,\n",
       " 18,\n",
       " 20,\n",
       " 22,\n",
       " 24,\n",
       " 26,\n",
       " 28,\n",
       " 30,\n",
       " 32,\n",
       " 34,\n",
       " 36,\n",
       " 38,\n",
       " 40,\n",
       " 42,\n",
       " 44,\n",
       " 46,\n",
       " 48,\n",
       " 50,\n",
       " 52,\n",
       " 54,\n",
       " 56,\n",
       " 58,\n",
       " 60,\n",
       " 62,\n",
       " 64,\n",
       " 66,\n",
       " 68,\n",
       " 70,\n",
       " 72,\n",
       " 74,\n",
       " 76,\n",
       " 78,\n",
       " 80,\n",
       " 82,\n",
       " 84,\n",
       " 86,\n",
       " 88,\n",
       " 90,\n",
       " 92,\n",
       " 94,\n",
       " 96,\n",
       " 98,\n",
       " 100]"
      ]
     },
     "execution_count": 36,
     "metadata": {},
     "output_type": "execute_result"
    }
   ],
   "source": [
    "[i for i in l if i%2==0]"
   ]
  },
  {
   "cell_type": "code",
   "execution_count": null,
   "id": "ef8f6220",
   "metadata": {},
   "outputs": [],
   "source": []
  },
  {
   "cell_type": "code",
   "execution_count": null,
   "id": "2b80af3d",
   "metadata": {},
   "outputs": [],
   "source": [
    "### Write a python function to return the Nth fibonacci number"
   ]
  },
  {
   "cell_type": "code",
   "execution_count": 37,
   "id": "ac805c4a",
   "metadata": {},
   "outputs": [
    {
     "data": {
      "text/plain": [
       "120"
      ]
     },
     "execution_count": 37,
     "metadata": {},
     "output_type": "execute_result"
    }
   ],
   "source": [
    "def fib(n):\n",
    "    if n<=0:\n",
    "        return 1\n",
    "    else:\n",
    "        return n*fib(n-1)\n",
    "    \n",
    "fib(5)"
   ]
  },
  {
   "cell_type": "code",
   "execution_count": null,
   "id": "520a1d13",
   "metadata": {},
   "outputs": [],
   "source": [
    "a=[]\n",
    "\n",
    "def fibo(n):\n",
    "    if n==0:\n",
    "        retun 0\n",
    "    if n==1 or n==2:\n",
    "        a[n]=1\n",
    "        return a[n]\n",
    "    if a[n]:\n",
    "        return a[n]\n",
    "    if (n and i):\n",
    "        k = (n+1)//2\n",
    "    else:\n",
    "        k = n//2\n",
    "    if ((n and i)):\n",
    "        a[n] = (fibo(k) * fibo(k) + fib(k-1)*fib(k-1))\n",
    "    else:\n",
    "        a[n] = 2*fibo(k-1)\n",
    "        \n",
    "        \n",
    "        "
   ]
  },
  {
   "cell_type": "code",
   "execution_count": 49,
   "id": "0ab2e8c2",
   "metadata": {},
   "outputs": [],
   "source": [
    "#We have a warehouse with shipments coming in and going out. The shipments are recorded in a transaction log with the item-id and the corresponding quantity being brought in or shipped out. \n",
    "#An example log is shown below:\n",
    "\n",
    "transaction_log = \"\"\"\n",
    "Item1   10  \n",
    "Item2 \t  1    \n",
    "Item1         -5          \n",
    "Item3     40        \n",
    "Item2    -1      \n",
    "\"\"\"\n",
    "\n",
    "a = transaction_log.split(\"Item \")\n",
    "a[0].count(' ')\n",
    "b = a[0].replace(\" \",'')"
   ]
  },
  {
   "cell_type": "code",
   "execution_count": 54,
   "id": "07b9e3b6",
   "metadata": {},
   "outputs": [],
   "source": [
    "#b = b.replace(\"\\n\",\"\")\n",
    "b = b.replace(\"\\t\",\"\")"
   ]
  },
  {
   "cell_type": "code",
   "execution_count": 59,
   "id": "5cc4b391",
   "metadata": {},
   "outputs": [
    {
     "data": {
      "text/plain": [
       "['Item110Item21Item1-5Item340Item2-1']"
      ]
     },
     "execution_count": 59,
     "metadata": {},
     "output_type": "execute_result"
    }
   ],
   "source": [
    "c = [i for i in b.split('Item'+i)]\n",
    "c"
   ]
  },
  {
   "cell_type": "code",
   "execution_count": null,
   "id": "e4b1ed13",
   "metadata": {},
   "outputs": [],
   "source": [
    "d = []\n",
    "for i in c"
   ]
  },
  {
   "cell_type": "code",
   "execution_count": 31,
   "id": "4a78c3d3",
   "metadata": {},
   "outputs": [],
   "source": [
    "for c in b:\n",
    "    b.remove(c)"
   ]
  },
  {
   "cell_type": "code",
   "execution_count": null,
   "id": "dc01f46f",
   "metadata": {},
   "outputs": [],
   "source": []
  },
  {
   "cell_type": "code",
   "execution_count": 32,
   "id": "fd09a9ae",
   "metadata": {},
   "outputs": [
    {
     "data": {
      "text/plain": [
       "[]"
      ]
     },
     "execution_count": 32,
     "metadata": {},
     "output_type": "execute_result"
    }
   ],
   "source": [
    "b "
   ]
  },
  {
   "cell_type": "code",
   "execution_count": 61,
   "id": "56c7e415",
   "metadata": {},
   "outputs": [
    {
     "name": "stdout",
     "output_type": "stream",
     "text": [
      "2333897391872\n",
      "2333901313856\n"
     ]
    }
   ],
   "source": [
    "a = (1,2,3)\n",
    "print(id(a))\n",
    "a = (1,2)\n",
    "print(id(a))"
   ]
  },
  {
   "cell_type": "code",
   "execution_count": 64,
   "id": "dbd8cd9d",
   "metadata": {},
   "outputs": [],
   "source": [
    "import numpy as np\n",
    "\n",
    "a = np.ones(2)\n",
    "b = np.zeros((2,2))"
   ]
  },
  {
   "cell_type": "code",
   "execution_count": 70,
   "id": "bdae279c",
   "metadata": {},
   "outputs": [
    {
     "data": {
      "text/plain": [
       "array([[2., 2.],\n",
       "       [2., 2.]])"
      ]
     },
     "execution_count": 70,
     "metadata": {},
     "output_type": "execute_result"
    }
   ],
   "source": [
    "a\n",
    "c = b+1\n",
    "c*2"
   ]
  },
  {
   "cell_type": "code",
   "execution_count": 72,
   "id": "96a145c0",
   "metadata": {},
   "outputs": [
    {
     "data": {
      "text/plain": [
       "array([2, 4])"
      ]
     },
     "execution_count": 72,
     "metadata": {},
     "output_type": "execute_result"
    }
   ],
   "source": [
    "a = np.arange(2,6,2)\n",
    "a"
   ]
  },
  {
   "cell_type": "code",
   "execution_count": 76,
   "id": "cf8f447a",
   "metadata": {},
   "outputs": [
    {
     "data": {
      "text/plain": [
       "array([[1, 1],\n",
       "       [2, 2]])"
      ]
     },
     "execution_count": 76,
     "metadata": {},
     "output_type": "execute_result"
    }
   ],
   "source": [
    "a = np.array([[1,1],[2,2]])\n",
    "a"
   ]
  },
  {
   "cell_type": "code",
   "execution_count": 78,
   "id": "e9122dcb",
   "metadata": {},
   "outputs": [
    {
     "data": {
      "text/plain": [
       "array([1])"
      ]
     },
     "execution_count": 78,
     "metadata": {},
     "output_type": "execute_result"
    }
   ],
   "source": [
    "a.diagonal()"
   ]
  },
  {
   "cell_type": "code",
   "execution_count": 79,
   "id": "15f1296f",
   "metadata": {},
   "outputs": [
    {
     "data": {
      "text/plain": [
       "array([[1, 1],\n",
       "       [2, 2]])"
      ]
     },
     "execution_count": 79,
     "metadata": {},
     "output_type": "execute_result"
    }
   ],
   "source": [
    "a"
   ]
  },
  {
   "cell_type": "code",
   "execution_count": 80,
   "id": "82ae975b",
   "metadata": {},
   "outputs": [
    {
     "data": {
      "text/plain": [
       "array([1, 1, 2, 2])"
      ]
     },
     "execution_count": 80,
     "metadata": {},
     "output_type": "execute_result"
    }
   ],
   "source": [
    "a.flatten()"
   ]
  },
  {
   "cell_type": "code",
   "execution_count": 83,
   "id": "392abc10",
   "metadata": {},
   "outputs": [
    {
     "data": {
      "text/plain": [
       "array([[1, 1, 2, 2]])"
      ]
     },
     "execution_count": 83,
     "metadata": {},
     "output_type": "execute_result"
    }
   ],
   "source": [
    "newarr = a.reshape(1,4)\n",
    "newarr"
   ]
  },
  {
   "cell_type": "code",
   "execution_count": 84,
   "id": "06a540af",
   "metadata": {},
   "outputs": [],
   "source": [
    "arr = np.array([[-1, 2, 0, 4],\n",
    "                [4, -0.5, 6, 0],\n",
    "                [2.6, 0, 7, 8],\n",
    "                [3, -7, 4, 2.0]])"
   ]
  },
  {
   "cell_type": "code",
   "execution_count": 92,
   "id": "5c943916",
   "metadata": {},
   "outputs": [
    {
     "data": {
      "text/plain": [
       "array([[ 2. ],\n",
       "       [-0.5]])"
      ]
     },
     "execution_count": 92,
     "metadata": {},
     "output_type": "execute_result"
    }
   ],
   "source": [
    "#Elements at indices (0, 3), (1, 2), (2, 1),\"\n",
    "                                    \"(3, 0"
   ]
  },
  {
   "cell_type": "code",
   "execution_count": 95,
   "id": "8e18b983",
   "metadata": {},
   "outputs": [
    {
     "data": {
      "text/plain": [
       "6.0"
      ]
     },
     "execution_count": 95,
     "metadata": {},
     "output_type": "execute_result"
    }
   ],
   "source": [
    "arr[0][3]\n",
    "arr[1][2]"
   ]
  },
  {
   "cell_type": "code",
   "execution_count": 97,
   "id": "cb8b32bd",
   "metadata": {},
   "outputs": [
    {
     "data": {
      "text/plain": [
       "array([1, 2, 3, 4, 5])"
      ]
     },
     "execution_count": 97,
     "metadata": {},
     "output_type": "execute_result"
    }
   ],
   "source": [
    "a = np.arange(1,6)\n",
    "a"
   ]
  },
  {
   "cell_type": "code",
   "execution_count": 98,
   "id": "fb30121d",
   "metadata": {},
   "outputs": [
    {
     "data": {
      "text/plain": [
       "array([2, 3, 4, 5, 6])"
      ]
     },
     "execution_count": 98,
     "metadata": {},
     "output_type": "execute_result"
    }
   ],
   "source": [
    "a+1"
   ]
  },
  {
   "cell_type": "code",
   "execution_count": 99,
   "id": "368215be",
   "metadata": {},
   "outputs": [
    {
     "data": {
      "text/plain": [
       "array([-2, -1,  0,  1,  2])"
      ]
     },
     "execution_count": 99,
     "metadata": {},
     "output_type": "execute_result"
    }
   ],
   "source": [
    "a-3"
   ]
  },
  {
   "cell_type": "code",
   "execution_count": 100,
   "id": "0fc27763",
   "metadata": {},
   "outputs": [
    {
     "data": {
      "text/plain": [
       "array([ 3,  6,  9, 12, 15])"
      ]
     },
     "execution_count": 100,
     "metadata": {},
     "output_type": "execute_result"
    }
   ],
   "source": [
    "a*3"
   ]
  },
  {
   "cell_type": "code",
   "execution_count": 101,
   "id": "110482d3",
   "metadata": {},
   "outputs": [
    {
     "data": {
      "text/plain": [
       "array([ 1,  4,  9, 16, 25], dtype=int32)"
      ]
     },
     "execution_count": 101,
     "metadata": {},
     "output_type": "execute_result"
    }
   ],
   "source": [
    "a**2"
   ]
  },
  {
   "cell_type": "code",
   "execution_count": 105,
   "id": "eff01552",
   "metadata": {},
   "outputs": [
    {
     "data": {
      "text/plain": [
       "1"
      ]
     },
     "execution_count": 105,
     "metadata": {},
     "output_type": "execute_result"
    }
   ],
   "source": [
    "a.max()\n",
    "a.min()"
   ]
  },
  {
   "cell_type": "code",
   "execution_count": 106,
   "id": "c43233e0",
   "metadata": {},
   "outputs": [
    {
     "data": {
      "text/plain": [
       "15"
      ]
     },
     "execution_count": 106,
     "metadata": {},
     "output_type": "execute_result"
    }
   ],
   "source": [
    "a.sum()"
   ]
  },
  {
   "cell_type": "code",
   "execution_count": 107,
   "id": "2d79c3bb",
   "metadata": {},
   "outputs": [
    {
     "data": {
      "text/plain": [
       "array([[19, 22],\n",
       "       [43, 50]])"
      ]
     },
     "execution_count": 107,
     "metadata": {},
     "output_type": "execute_result"
    }
   ],
   "source": [
    "a = np.array([[1,2],[3,4]])\n",
    "b = np.array([[5,6],[7,8]])\n",
    "\n",
    "#3 matrix multiplication:\n",
    "\n",
    "a.dot(b)"
   ]
  },
  {
   "cell_type": "code",
   "execution_count": 108,
   "id": "518aba70",
   "metadata": {},
   "outputs": [],
   "source": [
    "values = [('Hrithik', 2009, 8.5), ('Ajay', 2008, 8.7), \n",
    "           ('Pankaj', 2008, 7.9), ('Aakash', 2009, 9.0)]"
   ]
  },
  {
   "cell_type": "code",
   "execution_count": 109,
   "id": "40974477",
   "metadata": {},
   "outputs": [
    {
     "ename": "TypeError",
     "evalue": "'str' object is not callable",
     "output_type": "error",
     "traceback": [
      "\u001b[1;31m---------------------------------------------------------------------------\u001b[0m",
      "\u001b[1;31mTypeError\u001b[0m                                 Traceback (most recent call last)",
      "\u001b[1;32m~\\AppData\\Local\\Temp/ipykernel_17324/3391548400.py\u001b[0m in \u001b[0;36m<module>\u001b[1;34m\u001b[0m\n\u001b[1;32m----> 1\u001b[1;33m \u001b[0mvalues\u001b[0m\u001b[1;33m.\u001b[0m\u001b[0msort\u001b[0m\u001b[1;33m(\u001b[0m\u001b[0mkey\u001b[0m\u001b[1;33m=\u001b[0m\u001b[1;34m'name'\u001b[0m\u001b[1;33m)\u001b[0m\u001b[1;33m\u001b[0m\u001b[1;33m\u001b[0m\u001b[0m\n\u001b[0m",
      "\u001b[1;31mTypeError\u001b[0m: 'str' object is not callable"
     ]
    }
   ],
   "source": [
    "a = array(values,)"
   ]
  },
  {
   "cell_type": "code",
   "execution_count": 110,
   "id": "a692c78f",
   "metadata": {},
   "outputs": [],
   "source": [
    "A = np.array([[6, 1, 1],\n",
    "              [4, -2, 5],\n",
    "              [2, 8, 7]])"
   ]
  },
  {
   "cell_type": "code",
   "execution_count": 111,
   "id": "80f2dfe1",
   "metadata": {},
   "outputs": [
    {
     "data": {
      "text/plain": [
       "3"
      ]
     },
     "execution_count": 111,
     "metadata": {},
     "output_type": "execute_result"
    }
   ],
   "source": [
    "##  matrix rank\n",
    "\n",
    "np.linalg.matrix_rank(A)"
   ]
  },
  {
   "cell_type": "code",
   "execution_count": 112,
   "id": "0f1ebc7c",
   "metadata": {},
   "outputs": [
    {
     "data": {
      "text/plain": [
       "11"
      ]
     },
     "execution_count": 112,
     "metadata": {},
     "output_type": "execute_result"
    }
   ],
   "source": [
    "## TRACE\n",
    "\n",
    "np.trace(A)"
   ]
  },
  {
   "cell_type": "code",
   "execution_count": 113,
   "id": "0924a1e1",
   "metadata": {},
   "outputs": [
    {
     "data": {
      "text/plain": [
       "-306.0"
      ]
     },
     "execution_count": 113,
     "metadata": {},
     "output_type": "execute_result"
    }
   ],
   "source": [
    "## det of a \n",
    "\n",
    "np.linalg.det(A)"
   ]
  },
  {
   "cell_type": "code",
   "execution_count": 114,
   "id": "617fe1b2",
   "metadata": {},
   "outputs": [
    {
     "data": {
      "text/plain": [
       "array([[ 0.17647059, -0.00326797, -0.02287582],\n",
       "       [ 0.05882353, -0.13071895,  0.08496732],\n",
       "       [-0.11764706,  0.1503268 ,  0.05228758]])"
      ]
     },
     "execution_count": 114,
     "metadata": {},
     "output_type": "execute_result"
    }
   ],
   "source": [
    "## inverse A\n",
    "\n",
    "np.linalg.inv(A)"
   ]
  },
  {
   "cell_type": "markdown",
   "id": "21b2532d",
   "metadata": {},
   "source": [
    "###let us assume that we want to solve this linear equation set:\n",
    "\n",
    "x + 2*y = 8\n",
    "3*x + 4*y = 18"
   ]
  },
  {
   "cell_type": "code",
   "execution_count": 116,
   "id": "a9a267dd",
   "metadata": {},
   "outputs": [
    {
     "data": {
      "text/plain": [
       "array([2., 3.])"
      ]
     },
     "execution_count": 116,
     "metadata": {},
     "output_type": "execute_result"
    }
   ],
   "source": [
    "a = np.array([[1,2],[3,4]])\n",
    "b= np.array([8,18])\n",
    "\n",
    "np.linalg.solve(a,b)"
   ]
  },
  {
   "cell_type": "code",
   "execution_count": 131,
   "id": "2318a9c3",
   "metadata": {},
   "outputs": [
    {
     "data": {
      "text/plain": [
       "array([[[255, 255, 255],\n",
       "        [255, 255, 255],\n",
       "        [255, 255, 255],\n",
       "        ...,\n",
       "        [255, 255, 255],\n",
       "        [255, 255, 255],\n",
       "        [255, 255, 255]],\n",
       "\n",
       "       [[255, 255, 255],\n",
       "        [255, 255, 255],\n",
       "        [255, 255, 255],\n",
       "        ...,\n",
       "        [255, 255, 255],\n",
       "        [255, 255, 255],\n",
       "        [255, 255, 255]],\n",
       "\n",
       "       [[255, 255, 255],\n",
       "        [255, 255, 255],\n",
       "        [255, 255, 255],\n",
       "        ...,\n",
       "        [255, 255, 255],\n",
       "        [255, 255, 255],\n",
       "        [255, 255, 255]],\n",
       "\n",
       "       ...,\n",
       "\n",
       "       [[255, 255, 255],\n",
       "        [255, 255, 255],\n",
       "        [255, 255, 255],\n",
       "        ...,\n",
       "        [255, 255, 255],\n",
       "        [255, 255, 255],\n",
       "        [255, 255, 255]],\n",
       "\n",
       "       [[255, 255, 255],\n",
       "        [255, 255, 255],\n",
       "        [255, 255, 255],\n",
       "        ...,\n",
       "        [255, 255, 255],\n",
       "        [255, 255, 255],\n",
       "        [255, 255, 255]],\n",
       "\n",
       "       [[255, 255, 255],\n",
       "        [255, 255, 255],\n",
       "        [255, 255, 255],\n",
       "        ...,\n",
       "        [255, 255, 255],\n",
       "        [255, 255, 255],\n",
       "        [255, 255, 255]]], dtype=uint8)"
      ]
     },
     "execution_count": 131,
     "metadata": {},
     "output_type": "execute_result"
    }
   ],
   "source": [
    "## creating a black image\n",
    "\n",
    "a = np.ones([100,100,3],dtype=np.uint8)\n",
    "#a.fill#\n",
    "a=a*255\n",
    "a"
   ]
  },
  {
   "cell_type": "code",
   "execution_count": 133,
   "id": "4870be25",
   "metadata": {},
   "outputs": [
    {
     "name": "stdout",
     "output_type": "stream",
     "text": [
      "Initial Dictionary: \n",
      "{5: 'Welcome', 6: 'To', 7: 'Geeks', 'A': {1: 'Geeks', 2: 'For', 3: 'Geeks'}, 'B': {1: 'Geeks', 2: 'Life'}}\n"
     ]
    }
   ],
   "source": [
    "Dict = { 5 : 'Welcome', 6 : 'To', 7 : 'Geeks',\n",
    "        'A' : {1 : 'Geeks', 2 : 'For', 3 : 'Geeks'},\n",
    "        'B' : {1 : 'Geeks', 2 : 'Life'}}\n",
    "print(\"Initial Dictionary: \")\n",
    "print(Dict)"
   ]
  },
  {
   "cell_type": "code",
   "execution_count": 135,
   "id": "814ecf14",
   "metadata": {},
   "outputs": [],
   "source": [
    "del Dict[6]"
   ]
  },
  {
   "cell_type": "code",
   "execution_count": 136,
   "id": "84f8e447",
   "metadata": {},
   "outputs": [
    {
     "data": {
      "text/plain": [
       "{5: 'Welcome',\n",
       " 7: 'Geeks',\n",
       " 'A': {1: 'Geeks', 2: 'For', 3: 'Geeks'},\n",
       " 'B': {1: 'Geeks', 2: 'Life'}}"
      ]
     },
     "execution_count": 136,
     "metadata": {},
     "output_type": "execute_result"
    }
   ],
   "source": [
    "Dict"
   ]
  },
  {
   "cell_type": "code",
   "execution_count": 138,
   "id": "4319e785",
   "metadata": {},
   "outputs": [],
   "source": [
    "Dict.update({1:'rohan'})"
   ]
  },
  {
   "cell_type": "code",
   "execution_count": 139,
   "id": "fff78d8c",
   "metadata": {},
   "outputs": [
    {
     "data": {
      "text/plain": [
       "{5: 'Welcome',\n",
       " 7: 'Geeks',\n",
       " 'A': {1: 'Geeks', 2: 'For', 3: 'Geeks'},\n",
       " 'B': {1: 'Geeks', 2: 'Life'},\n",
       " 1: 'rohan'}"
      ]
     },
     "execution_count": 139,
     "metadata": {},
     "output_type": "execute_result"
    }
   ],
   "source": [
    "Dict"
   ]
  },
  {
   "cell_type": "code",
   "execution_count": 141,
   "id": "6cdb2562",
   "metadata": {},
   "outputs": [
    {
     "name": "stdout",
     "output_type": "stream",
     "text": [
      "5: Welcome\n",
      "7: Geeks\n",
      "A: {1: 'Geeks', 2: 'For', 3: 'Geeks'}\n",
      "B: {1: 'Geeks', 2: 'Life'}\n",
      "1: rohan\n"
     ]
    }
   ],
   "source": [
    "for x,y in Dict.items():\n",
    "    print(f\"{x}: {y}\")"
   ]
  },
  {
   "cell_type": "code",
   "execution_count": 144,
   "id": "4cb68e1f",
   "metadata": {},
   "outputs": [
    {
     "data": {
      "text/plain": [
       "{1: 3, 2: 4, 3: 5, 4: 6}"
      ]
     },
     "execution_count": 144,
     "metadata": {},
     "output_type": "execute_result"
    }
   ],
   "source": [
    "a = [1,2,3,4]\n",
    "b = [3,4,5,6]\n",
    "\n",
    "c = dict(zip(a,b))\n",
    "c"
   ]
  },
  {
   "cell_type": "code",
   "execution_count": 147,
   "id": "05acacfd",
   "metadata": {},
   "outputs": [
    {
     "data": {
      "text/plain": [
       "{'i': 2,\n",
       " ' ': 4,\n",
       " 'h': 1,\n",
       " 'a': 2,\n",
       " 'v': 1,\n",
       " 'e': 2,\n",
       " 'g': 1,\n",
       " 'o': 2,\n",
       " 'd': 2,\n",
       " 'f': 1,\n",
       " 'r': 1,\n",
       " 'n': 1}"
      ]
     },
     "execution_count": 147,
     "metadata": {},
     "output_type": "execute_result"
    }
   ],
   "source": [
    "s = \"i have a good friend\"\n",
    "d = {}\n",
    "for i in s:\n",
    "    if i in d:\n",
    "        d[i]=d[i]+1\n",
    "    else:\n",
    "        d[i]=1\n",
    "        \n",
    "d"
   ]
  },
  {
   "cell_type": "code",
   "execution_count": 149,
   "id": "9214ade3",
   "metadata": {},
   "outputs": [
    {
     "data": {
      "text/plain": [
       "[3, 4]"
      ]
     },
     "execution_count": 149,
     "metadata": {},
     "output_type": "execute_result"
    }
   ],
   "source": [
    "a = [1,2,3,4]\n",
    "b = [3,4,5,6]\n",
    "c=[]\n",
    "for i in a:\n",
    "    if i in b:\n",
    "        c.append(i)\n",
    "c"
   ]
  },
  {
   "cell_type": "code",
   "execution_count": 150,
   "id": "0e8cd267",
   "metadata": {},
   "outputs": [],
   "source": [
    "import pandas as pd\n",
    "train = pd.DataFrame(columns=[\"hotel_id\", \"user_id\", \"checkin_date\", \"checkout_date\", \"city\", \"state\", \"booking_info\", \"description\", \"amount_spent\"])\n",
    "\n",
    "train = train.append({\"hotel_id\" : \"H0001\", \"user_id\" : \"U0001\", \"booking_info\" : {\"Age\" : [30, 10, 28], \"Gender\" : [\"M\", \"F\", \"M\"]}, \"checkin_date\" : \"2020-05-01\",\"checkout_date\" : \"2020-05-02\", \"city\" : \"Bangalore\", \"state\" : \"Karnataka\",\"description\" : \"We have one of the largest infinity swimming pool in bangalore with other facilities like spa, gamezone etc\",\"amount_spent\" : 1200}, ignore_index=True)\n",
    "\n",
    "train = train.append({\"hotel_id\" : \"H0002\", \"user_id\" : \"U0001\", \"booking_info\" : {\"Age\" : [30, 28], \"Gender\" : [\"M\", \"F\"]}, \"checkin_date\" : \"2021-01-01\",\"checkout_date\" : \"2021-01-03\", \"city\" : \"Mysore\", \"state\" : \"Karnataka\",\"description\" : \"Free breakfast with welcome drink and airport pickup/drop facility. Get access to one of the largest casino in india. We have the largest pool table.\",\n",
    "\"amount_spent\" : 2000}, ignore_index=True)\n",
    "train = train.append({\"hotel_id\" : \"H0001\", \"user_id\" : \"U0002\", \"booking_info\" : {\"Age\" : [30], \"Gender\" : [\"M\"]}, \"checkin_date\" : \"2020-08-10\",\"checkout_date\" : \"2020-08-10\", \"city\" : \"Banglore\", \"state\" : \"Karnataka\",\"description\" : \"We have one of the largest infinity swimming pool in bangalore with other facilities like spa, gamezone etc\",\n",
    "\"amount_spent\" : 1000}, ignore_index=True)\n"
   ]
  },
  {
   "cell_type": "code",
   "execution_count": 151,
   "id": "8a5d3721",
   "metadata": {},
   "outputs": [
    {
     "data": {
      "text/html": [
       "<div>\n",
       "<style scoped>\n",
       "    .dataframe tbody tr th:only-of-type {\n",
       "        vertical-align: middle;\n",
       "    }\n",
       "\n",
       "    .dataframe tbody tr th {\n",
       "        vertical-align: top;\n",
       "    }\n",
       "\n",
       "    .dataframe thead th {\n",
       "        text-align: right;\n",
       "    }\n",
       "</style>\n",
       "<table border=\"1\" class=\"dataframe\">\n",
       "  <thead>\n",
       "    <tr style=\"text-align: right;\">\n",
       "      <th></th>\n",
       "      <th>hotel_id</th>\n",
       "      <th>user_id</th>\n",
       "      <th>checkin_date</th>\n",
       "      <th>checkout_date</th>\n",
       "      <th>city</th>\n",
       "      <th>state</th>\n",
       "      <th>booking_info</th>\n",
       "      <th>description</th>\n",
       "      <th>amount_spent</th>\n",
       "    </tr>\n",
       "  </thead>\n",
       "  <tbody>\n",
       "    <tr>\n",
       "      <th>0</th>\n",
       "      <td>H0001</td>\n",
       "      <td>U0001</td>\n",
       "      <td>2020-05-01</td>\n",
       "      <td>2020-05-02</td>\n",
       "      <td>Bangalore</td>\n",
       "      <td>Karnataka</td>\n",
       "      <td>{'Age': [30, 10, 28], 'Gender': ['M', 'F', 'M']}</td>\n",
       "      <td>We have one of the largest infinity swimming p...</td>\n",
       "      <td>1200</td>\n",
       "    </tr>\n",
       "    <tr>\n",
       "      <th>1</th>\n",
       "      <td>H0002</td>\n",
       "      <td>U0001</td>\n",
       "      <td>2021-01-01</td>\n",
       "      <td>2021-01-03</td>\n",
       "      <td>Mysore</td>\n",
       "      <td>Karnataka</td>\n",
       "      <td>{'Age': [30, 28], 'Gender': ['M', 'F']}</td>\n",
       "      <td>Free breakfast with welcome drink and airport ...</td>\n",
       "      <td>2000</td>\n",
       "    </tr>\n",
       "    <tr>\n",
       "      <th>2</th>\n",
       "      <td>H0001</td>\n",
       "      <td>U0002</td>\n",
       "      <td>2020-08-10</td>\n",
       "      <td>2020-08-10</td>\n",
       "      <td>Banglore</td>\n",
       "      <td>Karnataka</td>\n",
       "      <td>{'Age': [30], 'Gender': ['M']}</td>\n",
       "      <td>We have one of the largest infinity swimming p...</td>\n",
       "      <td>1000</td>\n",
       "    </tr>\n",
       "  </tbody>\n",
       "</table>\n",
       "</div>"
      ],
      "text/plain": [
       "  hotel_id user_id checkin_date checkout_date       city      state  \\\n",
       "0    H0001   U0001   2020-05-01    2020-05-02  Bangalore  Karnataka   \n",
       "1    H0002   U0001   2021-01-01    2021-01-03     Mysore  Karnataka   \n",
       "2    H0001   U0002   2020-08-10    2020-08-10   Banglore  Karnataka   \n",
       "\n",
       "                                       booking_info  \\\n",
       "0  {'Age': [30, 10, 28], 'Gender': ['M', 'F', 'M']}   \n",
       "1           {'Age': [30, 28], 'Gender': ['M', 'F']}   \n",
       "2                    {'Age': [30], 'Gender': ['M']}   \n",
       "\n",
       "                                         description amount_spent  \n",
       "0  We have one of the largest infinity swimming p...         1200  \n",
       "1  Free breakfast with welcome drink and airport ...         2000  \n",
       "2  We have one of the largest infinity swimming p...         1000  "
      ]
     },
     "execution_count": 151,
     "metadata": {},
     "output_type": "execute_result"
    }
   ],
   "source": [
    "train"
   ]
  },
  {
   "cell_type": "code",
   "execution_count": 152,
   "id": "d58e92e1",
   "metadata": {},
   "outputs": [],
   "source": [
    "train[['checkin_y','checkin_m','checkin_d']] = train.checkin_date.str.split('-')"
   ]
  },
  {
   "cell_type": "code",
   "execution_count": 153,
   "id": "7b50c8b4",
   "metadata": {},
   "outputs": [
    {
     "data": {
      "text/html": [
       "<div>\n",
       "<style scoped>\n",
       "    .dataframe tbody tr th:only-of-type {\n",
       "        vertical-align: middle;\n",
       "    }\n",
       "\n",
       "    .dataframe tbody tr th {\n",
       "        vertical-align: top;\n",
       "    }\n",
       "\n",
       "    .dataframe thead th {\n",
       "        text-align: right;\n",
       "    }\n",
       "</style>\n",
       "<table border=\"1\" class=\"dataframe\">\n",
       "  <thead>\n",
       "    <tr style=\"text-align: right;\">\n",
       "      <th></th>\n",
       "      <th>hotel_id</th>\n",
       "      <th>user_id</th>\n",
       "      <th>checkin_date</th>\n",
       "      <th>checkout_date</th>\n",
       "      <th>city</th>\n",
       "      <th>state</th>\n",
       "      <th>booking_info</th>\n",
       "      <th>description</th>\n",
       "      <th>amount_spent</th>\n",
       "      <th>checkin_y</th>\n",
       "      <th>checkin_m</th>\n",
       "      <th>checkin_d</th>\n",
       "    </tr>\n",
       "  </thead>\n",
       "  <tbody>\n",
       "    <tr>\n",
       "      <th>0</th>\n",
       "      <td>H0001</td>\n",
       "      <td>U0001</td>\n",
       "      <td>2020-05-01</td>\n",
       "      <td>2020-05-02</td>\n",
       "      <td>Bangalore</td>\n",
       "      <td>Karnataka</td>\n",
       "      <td>{'Age': [30, 10, 28], 'Gender': ['M', 'F', 'M']}</td>\n",
       "      <td>We have one of the largest infinity swimming p...</td>\n",
       "      <td>1200</td>\n",
       "      <td>2020</td>\n",
       "      <td>2021</td>\n",
       "      <td>2020</td>\n",
       "    </tr>\n",
       "    <tr>\n",
       "      <th>1</th>\n",
       "      <td>H0002</td>\n",
       "      <td>U0001</td>\n",
       "      <td>2021-01-01</td>\n",
       "      <td>2021-01-03</td>\n",
       "      <td>Mysore</td>\n",
       "      <td>Karnataka</td>\n",
       "      <td>{'Age': [30, 28], 'Gender': ['M', 'F']}</td>\n",
       "      <td>Free breakfast with welcome drink and airport ...</td>\n",
       "      <td>2000</td>\n",
       "      <td>05</td>\n",
       "      <td>01</td>\n",
       "      <td>08</td>\n",
       "    </tr>\n",
       "    <tr>\n",
       "      <th>2</th>\n",
       "      <td>H0001</td>\n",
       "      <td>U0002</td>\n",
       "      <td>2020-08-10</td>\n",
       "      <td>2020-08-10</td>\n",
       "      <td>Banglore</td>\n",
       "      <td>Karnataka</td>\n",
       "      <td>{'Age': [30], 'Gender': ['M']}</td>\n",
       "      <td>We have one of the largest infinity swimming p...</td>\n",
       "      <td>1000</td>\n",
       "      <td>01</td>\n",
       "      <td>01</td>\n",
       "      <td>10</td>\n",
       "    </tr>\n",
       "  </tbody>\n",
       "</table>\n",
       "</div>"
      ],
      "text/plain": [
       "  hotel_id user_id checkin_date checkout_date       city      state  \\\n",
       "0    H0001   U0001   2020-05-01    2020-05-02  Bangalore  Karnataka   \n",
       "1    H0002   U0001   2021-01-01    2021-01-03     Mysore  Karnataka   \n",
       "2    H0001   U0002   2020-08-10    2020-08-10   Banglore  Karnataka   \n",
       "\n",
       "                                       booking_info  \\\n",
       "0  {'Age': [30, 10, 28], 'Gender': ['M', 'F', 'M']}   \n",
       "1           {'Age': [30, 28], 'Gender': ['M', 'F']}   \n",
       "2                    {'Age': [30], 'Gender': ['M']}   \n",
       "\n",
       "                                         description amount_spent checkin_y  \\\n",
       "0  We have one of the largest infinity swimming p...         1200      2020   \n",
       "1  Free breakfast with welcome drink and airport ...         2000        05   \n",
       "2  We have one of the largest infinity swimming p...         1000        01   \n",
       "\n",
       "  checkin_m checkin_d  \n",
       "0      2021      2020  \n",
       "1        01        08  \n",
       "2        01        10  "
      ]
     },
     "execution_count": 153,
     "metadata": {},
     "output_type": "execute_result"
    }
   ],
   "source": [
    "train"
   ]
  },
  {
   "cell_type": "code",
   "execution_count": 154,
   "id": "fba0db68",
   "metadata": {},
   "outputs": [],
   "source": [
    "train[['checkout_y','checkout_m','checkout_d']] = train.checkout_date.str.split('-')"
   ]
  },
  {
   "cell_type": "code",
   "execution_count": 155,
   "id": "e7ab94d5",
   "metadata": {},
   "outputs": [
    {
     "data": {
      "text/html": [
       "<div>\n",
       "<style scoped>\n",
       "    .dataframe tbody tr th:only-of-type {\n",
       "        vertical-align: middle;\n",
       "    }\n",
       "\n",
       "    .dataframe tbody tr th {\n",
       "        vertical-align: top;\n",
       "    }\n",
       "\n",
       "    .dataframe thead th {\n",
       "        text-align: right;\n",
       "    }\n",
       "</style>\n",
       "<table border=\"1\" class=\"dataframe\">\n",
       "  <thead>\n",
       "    <tr style=\"text-align: right;\">\n",
       "      <th></th>\n",
       "      <th>hotel_id</th>\n",
       "      <th>user_id</th>\n",
       "      <th>checkin_date</th>\n",
       "      <th>checkout_date</th>\n",
       "      <th>city</th>\n",
       "      <th>state</th>\n",
       "      <th>booking_info</th>\n",
       "      <th>description</th>\n",
       "      <th>amount_spent</th>\n",
       "      <th>checkin_y</th>\n",
       "      <th>checkin_m</th>\n",
       "      <th>checkin_d</th>\n",
       "      <th>checkout_y</th>\n",
       "      <th>checkout_m</th>\n",
       "      <th>checkout_d</th>\n",
       "    </tr>\n",
       "  </thead>\n",
       "  <tbody>\n",
       "    <tr>\n",
       "      <th>0</th>\n",
       "      <td>H0001</td>\n",
       "      <td>U0001</td>\n",
       "      <td>2020-05-01</td>\n",
       "      <td>2020-05-02</td>\n",
       "      <td>Bangalore</td>\n",
       "      <td>Karnataka</td>\n",
       "      <td>{'Age': [30, 10, 28], 'Gender': ['M', 'F', 'M']}</td>\n",
       "      <td>We have one of the largest infinity swimming p...</td>\n",
       "      <td>1200</td>\n",
       "      <td>2020</td>\n",
       "      <td>2021</td>\n",
       "      <td>2020</td>\n",
       "      <td>2020</td>\n",
       "      <td>2021</td>\n",
       "      <td>2020</td>\n",
       "    </tr>\n",
       "    <tr>\n",
       "      <th>1</th>\n",
       "      <td>H0002</td>\n",
       "      <td>U0001</td>\n",
       "      <td>2021-01-01</td>\n",
       "      <td>2021-01-03</td>\n",
       "      <td>Mysore</td>\n",
       "      <td>Karnataka</td>\n",
       "      <td>{'Age': [30, 28], 'Gender': ['M', 'F']}</td>\n",
       "      <td>Free breakfast with welcome drink and airport ...</td>\n",
       "      <td>2000</td>\n",
       "      <td>05</td>\n",
       "      <td>01</td>\n",
       "      <td>08</td>\n",
       "      <td>05</td>\n",
       "      <td>01</td>\n",
       "      <td>08</td>\n",
       "    </tr>\n",
       "    <tr>\n",
       "      <th>2</th>\n",
       "      <td>H0001</td>\n",
       "      <td>U0002</td>\n",
       "      <td>2020-08-10</td>\n",
       "      <td>2020-08-10</td>\n",
       "      <td>Banglore</td>\n",
       "      <td>Karnataka</td>\n",
       "      <td>{'Age': [30], 'Gender': ['M']}</td>\n",
       "      <td>We have one of the largest infinity swimming p...</td>\n",
       "      <td>1000</td>\n",
       "      <td>01</td>\n",
       "      <td>01</td>\n",
       "      <td>10</td>\n",
       "      <td>02</td>\n",
       "      <td>03</td>\n",
       "      <td>10</td>\n",
       "    </tr>\n",
       "  </tbody>\n",
       "</table>\n",
       "</div>"
      ],
      "text/plain": [
       "  hotel_id user_id checkin_date checkout_date       city      state  \\\n",
       "0    H0001   U0001   2020-05-01    2020-05-02  Bangalore  Karnataka   \n",
       "1    H0002   U0001   2021-01-01    2021-01-03     Mysore  Karnataka   \n",
       "2    H0001   U0002   2020-08-10    2020-08-10   Banglore  Karnataka   \n",
       "\n",
       "                                       booking_info  \\\n",
       "0  {'Age': [30, 10, 28], 'Gender': ['M', 'F', 'M']}   \n",
       "1           {'Age': [30, 28], 'Gender': ['M', 'F']}   \n",
       "2                    {'Age': [30], 'Gender': ['M']}   \n",
       "\n",
       "                                         description amount_spent checkin_y  \\\n",
       "0  We have one of the largest infinity swimming p...         1200      2020   \n",
       "1  Free breakfast with welcome drink and airport ...         2000        05   \n",
       "2  We have one of the largest infinity swimming p...         1000        01   \n",
       "\n",
       "  checkin_m checkin_d checkout_y checkout_m checkout_d  \n",
       "0      2021      2020       2020       2021       2020  \n",
       "1        01        08         05         01         08  \n",
       "2        01        10         02         03         10  "
      ]
     },
     "execution_count": 155,
     "metadata": {},
     "output_type": "execute_result"
    }
   ],
   "source": [
    "train"
   ]
  },
  {
   "cell_type": "code",
   "execution_count": 159,
   "id": "1eec3146",
   "metadata": {},
   "outputs": [],
   "source": [
    "train['swimmingpool'] = np.where(train.description.str.contains(\"swimming pool\"),1,0)"
   ]
  },
  {
   "cell_type": "code",
   "execution_count": 160,
   "id": "224e9af0",
   "metadata": {},
   "outputs": [
    {
     "data": {
      "text/html": [
       "<div>\n",
       "<style scoped>\n",
       "    .dataframe tbody tr th:only-of-type {\n",
       "        vertical-align: middle;\n",
       "    }\n",
       "\n",
       "    .dataframe tbody tr th {\n",
       "        vertical-align: top;\n",
       "    }\n",
       "\n",
       "    .dataframe thead th {\n",
       "        text-align: right;\n",
       "    }\n",
       "</style>\n",
       "<table border=\"1\" class=\"dataframe\">\n",
       "  <thead>\n",
       "    <tr style=\"text-align: right;\">\n",
       "      <th></th>\n",
       "      <th>hotel_id</th>\n",
       "      <th>user_id</th>\n",
       "      <th>checkin_date</th>\n",
       "      <th>checkout_date</th>\n",
       "      <th>city</th>\n",
       "      <th>state</th>\n",
       "      <th>booking_info</th>\n",
       "      <th>description</th>\n",
       "      <th>amount_spent</th>\n",
       "      <th>checkin_y</th>\n",
       "      <th>checkin_m</th>\n",
       "      <th>checkin_d</th>\n",
       "      <th>checkout_y</th>\n",
       "      <th>checkout_m</th>\n",
       "      <th>checkout_d</th>\n",
       "      <th>swimmingpool</th>\n",
       "    </tr>\n",
       "  </thead>\n",
       "  <tbody>\n",
       "    <tr>\n",
       "      <th>0</th>\n",
       "      <td>H0001</td>\n",
       "      <td>U0001</td>\n",
       "      <td>2020-05-01</td>\n",
       "      <td>2020-05-02</td>\n",
       "      <td>Bangalore</td>\n",
       "      <td>Karnataka</td>\n",
       "      <td>{'Age': [30, 10, 28], 'Gender': ['M', 'F', 'M']}</td>\n",
       "      <td>We have one of the largest infinity swimming p...</td>\n",
       "      <td>1200</td>\n",
       "      <td>2020</td>\n",
       "      <td>2021</td>\n",
       "      <td>2020</td>\n",
       "      <td>2020</td>\n",
       "      <td>2021</td>\n",
       "      <td>2020</td>\n",
       "      <td>1</td>\n",
       "    </tr>\n",
       "    <tr>\n",
       "      <th>1</th>\n",
       "      <td>H0002</td>\n",
       "      <td>U0001</td>\n",
       "      <td>2021-01-01</td>\n",
       "      <td>2021-01-03</td>\n",
       "      <td>Mysore</td>\n",
       "      <td>Karnataka</td>\n",
       "      <td>{'Age': [30, 28], 'Gender': ['M', 'F']}</td>\n",
       "      <td>Free breakfast with welcome drink and airport ...</td>\n",
       "      <td>2000</td>\n",
       "      <td>05</td>\n",
       "      <td>01</td>\n",
       "      <td>08</td>\n",
       "      <td>05</td>\n",
       "      <td>01</td>\n",
       "      <td>08</td>\n",
       "      <td>0</td>\n",
       "    </tr>\n",
       "    <tr>\n",
       "      <th>2</th>\n",
       "      <td>H0001</td>\n",
       "      <td>U0002</td>\n",
       "      <td>2020-08-10</td>\n",
       "      <td>2020-08-10</td>\n",
       "      <td>Banglore</td>\n",
       "      <td>Karnataka</td>\n",
       "      <td>{'Age': [30], 'Gender': ['M']}</td>\n",
       "      <td>We have one of the largest infinity swimming p...</td>\n",
       "      <td>1000</td>\n",
       "      <td>01</td>\n",
       "      <td>01</td>\n",
       "      <td>10</td>\n",
       "      <td>02</td>\n",
       "      <td>03</td>\n",
       "      <td>10</td>\n",
       "      <td>1</td>\n",
       "    </tr>\n",
       "  </tbody>\n",
       "</table>\n",
       "</div>"
      ],
      "text/plain": [
       "  hotel_id user_id checkin_date checkout_date       city      state  \\\n",
       "0    H0001   U0001   2020-05-01    2020-05-02  Bangalore  Karnataka   \n",
       "1    H0002   U0001   2021-01-01    2021-01-03     Mysore  Karnataka   \n",
       "2    H0001   U0002   2020-08-10    2020-08-10   Banglore  Karnataka   \n",
       "\n",
       "                                       booking_info  \\\n",
       "0  {'Age': [30, 10, 28], 'Gender': ['M', 'F', 'M']}   \n",
       "1           {'Age': [30, 28], 'Gender': ['M', 'F']}   \n",
       "2                    {'Age': [30], 'Gender': ['M']}   \n",
       "\n",
       "                                         description amount_spent checkin_y  \\\n",
       "0  We have one of the largest infinity swimming p...         1200      2020   \n",
       "1  Free breakfast with welcome drink and airport ...         2000        05   \n",
       "2  We have one of the largest infinity swimming p...         1000        01   \n",
       "\n",
       "  checkin_m checkin_d checkout_y checkout_m checkout_d  swimmingpool  \n",
       "0      2021      2020       2020       2021       2020             1  \n",
       "1        01        08         05         01         08             0  \n",
       "2        01        10         02         03         10             1  "
      ]
     },
     "execution_count": 160,
     "metadata": {},
     "output_type": "execute_result"
    }
   ],
   "source": [
    "train"
   ]
  },
  {
   "cell_type": "code",
   "execution_count": 161,
   "id": "325d0b4a",
   "metadata": {},
   "outputs": [],
   "source": [
    "train['drink'] = np.where(train.description.str.contains(\"drink\"),1,0)"
   ]
  },
  {
   "cell_type": "code",
   "execution_count": 162,
   "id": "c6fd8c44",
   "metadata": {},
   "outputs": [
    {
     "data": {
      "text/html": [
       "<div>\n",
       "<style scoped>\n",
       "    .dataframe tbody tr th:only-of-type {\n",
       "        vertical-align: middle;\n",
       "    }\n",
       "\n",
       "    .dataframe tbody tr th {\n",
       "        vertical-align: top;\n",
       "    }\n",
       "\n",
       "    .dataframe thead th {\n",
       "        text-align: right;\n",
       "    }\n",
       "</style>\n",
       "<table border=\"1\" class=\"dataframe\">\n",
       "  <thead>\n",
       "    <tr style=\"text-align: right;\">\n",
       "      <th></th>\n",
       "      <th>hotel_id</th>\n",
       "      <th>user_id</th>\n",
       "      <th>checkin_date</th>\n",
       "      <th>checkout_date</th>\n",
       "      <th>city</th>\n",
       "      <th>state</th>\n",
       "      <th>booking_info</th>\n",
       "      <th>description</th>\n",
       "      <th>amount_spent</th>\n",
       "      <th>checkin_y</th>\n",
       "      <th>checkin_m</th>\n",
       "      <th>checkin_d</th>\n",
       "      <th>checkout_y</th>\n",
       "      <th>checkout_m</th>\n",
       "      <th>checkout_d</th>\n",
       "      <th>swimmingpool</th>\n",
       "      <th>drink</th>\n",
       "    </tr>\n",
       "  </thead>\n",
       "  <tbody>\n",
       "    <tr>\n",
       "      <th>0</th>\n",
       "      <td>H0001</td>\n",
       "      <td>U0001</td>\n",
       "      <td>2020-05-01</td>\n",
       "      <td>2020-05-02</td>\n",
       "      <td>Bangalore</td>\n",
       "      <td>Karnataka</td>\n",
       "      <td>{'Age': [30, 10, 28], 'Gender': ['M', 'F', 'M']}</td>\n",
       "      <td>We have one of the largest infinity swimming p...</td>\n",
       "      <td>1200</td>\n",
       "      <td>2020</td>\n",
       "      <td>2021</td>\n",
       "      <td>2020</td>\n",
       "      <td>2020</td>\n",
       "      <td>2021</td>\n",
       "      <td>2020</td>\n",
       "      <td>1</td>\n",
       "      <td>0</td>\n",
       "    </tr>\n",
       "    <tr>\n",
       "      <th>1</th>\n",
       "      <td>H0002</td>\n",
       "      <td>U0001</td>\n",
       "      <td>2021-01-01</td>\n",
       "      <td>2021-01-03</td>\n",
       "      <td>Mysore</td>\n",
       "      <td>Karnataka</td>\n",
       "      <td>{'Age': [30, 28], 'Gender': ['M', 'F']}</td>\n",
       "      <td>Free breakfast with welcome drink and airport ...</td>\n",
       "      <td>2000</td>\n",
       "      <td>05</td>\n",
       "      <td>01</td>\n",
       "      <td>08</td>\n",
       "      <td>05</td>\n",
       "      <td>01</td>\n",
       "      <td>08</td>\n",
       "      <td>0</td>\n",
       "      <td>1</td>\n",
       "    </tr>\n",
       "    <tr>\n",
       "      <th>2</th>\n",
       "      <td>H0001</td>\n",
       "      <td>U0002</td>\n",
       "      <td>2020-08-10</td>\n",
       "      <td>2020-08-10</td>\n",
       "      <td>Banglore</td>\n",
       "      <td>Karnataka</td>\n",
       "      <td>{'Age': [30], 'Gender': ['M']}</td>\n",
       "      <td>We have one of the largest infinity swimming p...</td>\n",
       "      <td>1000</td>\n",
       "      <td>01</td>\n",
       "      <td>01</td>\n",
       "      <td>10</td>\n",
       "      <td>02</td>\n",
       "      <td>03</td>\n",
       "      <td>10</td>\n",
       "      <td>1</td>\n",
       "      <td>0</td>\n",
       "    </tr>\n",
       "  </tbody>\n",
       "</table>\n",
       "</div>"
      ],
      "text/plain": [
       "  hotel_id user_id checkin_date checkout_date       city      state  \\\n",
       "0    H0001   U0001   2020-05-01    2020-05-02  Bangalore  Karnataka   \n",
       "1    H0002   U0001   2021-01-01    2021-01-03     Mysore  Karnataka   \n",
       "2    H0001   U0002   2020-08-10    2020-08-10   Banglore  Karnataka   \n",
       "\n",
       "                                       booking_info  \\\n",
       "0  {'Age': [30, 10, 28], 'Gender': ['M', 'F', 'M']}   \n",
       "1           {'Age': [30, 28], 'Gender': ['M', 'F']}   \n",
       "2                    {'Age': [30], 'Gender': ['M']}   \n",
       "\n",
       "                                         description amount_spent checkin_y  \\\n",
       "0  We have one of the largest infinity swimming p...         1200      2020   \n",
       "1  Free breakfast with welcome drink and airport ...         2000        05   \n",
       "2  We have one of the largest infinity swimming p...         1000        01   \n",
       "\n",
       "  checkin_m checkin_d checkout_y checkout_m checkout_d  swimmingpool  drink  \n",
       "0      2021      2020       2020       2021       2020             1      0  \n",
       "1        01        08         05         01         08             0      1  \n",
       "2        01        10         02         03         10             1      0  "
      ]
     },
     "execution_count": 162,
     "metadata": {},
     "output_type": "execute_result"
    }
   ],
   "source": [
    "train"
   ]
  },
  {
   "cell_type": "code",
   "execution_count": 167,
   "id": "a7bb2f31",
   "metadata": {},
   "outputs": [
    {
     "data": {
      "text/plain": [
       "['is', 'great']"
      ]
     },
     "execution_count": 167,
     "metadata": {},
     "output_type": "execute_result"
    }
   ],
   "source": [
    "## print duplicates\n",
    "\n",
    "s = \"Python is great and Java is also great\"\n",
    "\n",
    "l = s.split(\" \")\n",
    "l\n",
    "m = []\n",
    "\n",
    "for i in l:\n",
    "    if (s.count(i)>1) and (i not in m):\n",
    "        m.append(i)\n",
    "m"
   ]
  },
  {
   "cell_type": "code",
   "execution_count": null,
   "id": "d90232af",
   "metadata": {},
   "outputs": [],
   "source": []
  },
  {
   "cell_type": "code",
   "execution_count": null,
   "id": "a20f8064",
   "metadata": {},
   "outputs": [],
   "source": []
  },
  {
   "cell_type": "code",
   "execution_count": null,
   "id": "b62a67ea",
   "metadata": {},
   "outputs": [],
   "source": []
  },
  {
   "cell_type": "code",
   "execution_count": null,
   "id": "2d8eaf50",
   "metadata": {},
   "outputs": [],
   "source": []
  },
  {
   "cell_type": "code",
   "execution_count": null,
   "id": "4c4c4d92",
   "metadata": {},
   "outputs": [],
   "source": []
  },
  {
   "cell_type": "code",
   "execution_count": null,
   "id": "e3c412dc",
   "metadata": {},
   "outputs": [],
   "source": []
  },
  {
   "cell_type": "code",
   "execution_count": null,
   "id": "705e784b",
   "metadata": {},
   "outputs": [],
   "source": []
  },
  {
   "cell_type": "code",
   "execution_count": null,
   "id": "3a06547d",
   "metadata": {},
   "outputs": [],
   "source": []
  },
  {
   "cell_type": "code",
   "execution_count": null,
   "id": "46c001f3",
   "metadata": {},
   "outputs": [],
   "source": []
  }
 ],
 "metadata": {
  "kernelspec": {
   "display_name": "Python 3 (ipykernel)",
   "language": "python",
   "name": "python3"
  },
  "language_info": {
   "codemirror_mode": {
    "name": "ipython",
    "version": 3
   },
   "file_extension": ".py",
   "mimetype": "text/x-python",
   "name": "python",
   "nbconvert_exporter": "python",
   "pygments_lexer": "ipython3",
   "version": "3.9.7"
  }
 },
 "nbformat": 4,
 "nbformat_minor": 5
}
