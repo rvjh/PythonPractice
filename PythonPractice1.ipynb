{
  "nbformat": 4,
  "nbformat_minor": 0,
  "metadata": {
    "colab": {
      "name": "PythonPractice1.ipynb",
      "provenance": []
    },
    "kernelspec": {
      "name": "python3",
      "display_name": "Python 3"
    },
    "language_info": {
      "name": "python"
    }
  },
  "cells": [
    {
      "cell_type": "markdown",
      "metadata": {
        "id": "iy4Kd5UhiZFN"
      },
      "source": [
        "#### 1. Check if a list contains an element"
      ]
    },
    {
      "cell_type": "code",
      "metadata": {
        "colab": {
          "base_uri": "https://localhost:8080/"
        },
        "id": "uXEsXjqdh0tl",
        "outputId": "463b9650-4d0c-4d31-838f-ca9de7d631f5"
      },
      "source": [
        "l1 = [1,3,'a',6]\n",
        "\n",
        "num = int(input(\"Enter a number to search in the  list :\"))\n",
        "\n",
        "if num in l1:\n",
        "  print(\"Present\")\n",
        "else:\n",
        "  print(\"not\")"
      ],
      "execution_count": 5,
      "outputs": [
        {
          "output_type": "stream",
          "name": "stdout",
          "text": [
            "Enter a number to search in the  list :3\n",
            "Present\n"
          ]
        }
      ]
    },
    {
      "cell_type": "markdown",
      "metadata": {
        "id": "53DxuRzgjjsJ"
      },
      "source": [
        "#### 2. How to iterate over 2+ lists at the same time\n",
        "\n",
        "#### Use zip finction"
      ]
    },
    {
      "cell_type": "code",
      "metadata": {
        "colab": {
          "base_uri": "https://localhost:8080/"
        },
        "id": "cpbzH643ij-Q",
        "outputId": "59dc5be9-5a9f-4d17-cabb-d1039a1f73cc"
      },
      "source": [
        "a = [1,2,3,4]\n",
        "b= ['m','n','o']\n",
        "\n",
        "c= zip(a,b)\n",
        "\n",
        "for num, char in c:\n",
        "  print(f\"num is {num} and char is {char}\")"
      ],
      "execution_count": 7,
      "outputs": [
        {
          "output_type": "stream",
          "name": "stdout",
          "text": [
            "num is 1 and char is m\n",
            "num is 2 and char is n\n",
            "num is 3 and char is o\n"
          ]
        }
      ]
    },
    {
      "cell_type": "markdown",
      "metadata": {
        "id": "RURs6P-JkObi"
      },
      "source": [
        "#### 3. Using list as a dictonary"
      ]
    },
    {
      "cell_type": "code",
      "metadata": {
        "colab": {
          "base_uri": "https://localhost:8080/"
        },
        "id": "wuotCEUlj5sI",
        "outputId": "f882d335-18cb-40d8-cd4e-88052da067d9"
      },
      "source": [
        "a = [1,2,3,4]\n",
        "b= ['m','n','o']\n",
        "\n",
        "c = zip(a,b)\n",
        "d = dict(c)\n",
        "print(d)"
      ],
      "execution_count": 9,
      "outputs": [
        {
          "output_type": "stream",
          "name": "stdout",
          "text": [
            "{1: 'm', 2: 'n', 3: 'o'}\n"
          ]
        }
      ]
    },
    {
      "cell_type": "markdown",
      "metadata": {
        "id": "Ts57u51Mk2KJ"
      },
      "source": [
        "#### Find the index of the 1st matching element"
      ]
    },
    {
      "cell_type": "code",
      "metadata": {
        "colab": {
          "base_uri": "https://localhost:8080/"
        },
        "id": "fz2hgx_ykaRX",
        "outputId": "5a78db9b-0245-489e-f710-af6d918acec3"
      },
      "source": [
        "a = [1,2,3,1 ,2]\n",
        "print(a.index(1))\n",
        "print(a.index(2))"
      ],
      "execution_count": 11,
      "outputs": [
        {
          "output_type": "stream",
          "name": "stdout",
          "text": [
            "0\n",
            "1\n"
          ]
        }
      ]
    },
    {
      "cell_type": "markdown",
      "metadata": {
        "id": "I88yF8ITlaaW"
      },
      "source": [
        "#### Iterate over both the values in a list and their indices"
      ]
    },
    {
      "cell_type": "code",
      "metadata": {
        "colab": {
          "base_uri": "https://localhost:8080/"
        },
        "id": "cGct8JCflMNT",
        "outputId": "5e7c8314-cf57-40bf-d5a4-15c9850bf301"
      },
      "source": [
        "b= ['m','n','o']\n",
        "\n",
        "for i in b:\n",
        "  print(f\"Index {b.index(i)} values ==> {i}\")"
      ],
      "execution_count": 17,
      "outputs": [
        {
          "output_type": "stream",
          "name": "stdout",
          "text": [
            "Index 0 values ==> m\n",
            "Index 1 values ==> n\n",
            "Index 2 values ==> o\n"
          ]
        }
      ]
    },
    {
      "cell_type": "markdown",
      "metadata": {
        "id": "N14KHwSAmMFM"
      },
      "source": [
        "#### How to concatenate two lists"
      ]
    },
    {
      "cell_type": "code",
      "metadata": {
        "colab": {
          "base_uri": "https://localhost:8080/"
        },
        "id": "hwMgNDaJlrBr",
        "outputId": "c0e34b1a-9bc7-4172-a3c3-c7384a7155b2"
      },
      "source": [
        "a = [1,2,3,4]\n",
        "b= ['m','n','o']\n",
        "c = a+b\n",
        "print(c)"
      ],
      "execution_count": 19,
      "outputs": [
        {
          "output_type": "stream",
          "name": "stdout",
          "text": [
            "[1, 2, 3, 4, 'm', 'n', 'o']\n"
          ]
        }
      ]
    },
    {
      "cell_type": "markdown",
      "metadata": {
        "id": "jrYjOcPjmYxb"
      },
      "source": [
        "#### removing elements from a list"
      ]
    },
    {
      "cell_type": "code",
      "metadata": {
        "id": "o-etmUpQmTs1"
      },
      "source": [
        "a = [1,5,3,69,87,25]\n",
        "\n",
        "a.remove(25)"
      ],
      "execution_count": 20,
      "outputs": []
    },
    {
      "cell_type": "code",
      "metadata": {
        "colab": {
          "base_uri": "https://localhost:8080/"
        },
        "id": "8LLtKq7UmmEU",
        "outputId": "4db2c2e4-d90e-4059-fe81-793e0377cb57"
      },
      "source": [
        "a"
      ],
      "execution_count": 21,
      "outputs": [
        {
          "output_type": "execute_result",
          "data": {
            "text/plain": [
              "[1, 5, 3, 69, 87]"
            ]
          },
          "metadata": {},
          "execution_count": 21
        }
      ]
    },
    {
      "cell_type": "code",
      "metadata": {
        "colab": {
          "base_uri": "https://localhost:8080/"
        },
        "id": "mUQi505UmoG7",
        "outputId": "22a654fd-67ab-4efc-f267-a994d8b50e67"
      },
      "source": [
        "a = [1,5,3,69,87,25]\n",
        "\n",
        "num = int(input(\"Enter the num\"))\n",
        "i = a.index(num)\n",
        "a.remove(num)\n",
        "\n",
        "print(f\"{num} rmoved from list from index {i}\")\n",
        "print(a)"
      ],
      "execution_count": 23,
      "outputs": [
        {
          "output_type": "stream",
          "name": "stdout",
          "text": [
            "Enter the num69\n",
            "69 rmoved from list from index 3\n",
            "[1, 5, 3, 87, 25]\n"
          ]
        }
      ]
    },
    {
      "cell_type": "markdown",
      "metadata": {
        "id": "Exc9u847ngQk"
      },
      "source": [
        "#### How to manipulate every element in a list with list comprehension\n",
        "add 5 to each element"
      ]
    },
    {
      "cell_type": "code",
      "metadata": {
        "colab": {
          "base_uri": "https://localhost:8080/"
        },
        "id": "o5BDYfgFnKhV",
        "outputId": "283b913d-e9dd-4e58-8bd6-c960967c1d28"
      },
      "source": [
        "a = [1,5,3,69,87,25]\n",
        "\n",
        "print([i+5 for i in a])"
      ],
      "execution_count": 24,
      "outputs": [
        {
          "output_type": "stream",
          "name": "stdout",
          "text": [
            "[6, 10, 8, 74, 92, 30]\n"
          ]
        }
      ]
    },
    {
      "cell_type": "markdown",
      "metadata": {
        "id": "hmAScN3gnyEQ"
      },
      "source": [
        "#### Count the occurrence of a specific object in a list"
      ]
    },
    {
      "cell_type": "code",
      "metadata": {
        "colab": {
          "base_uri": "https://localhost:8080/"
        },
        "id": "5XWqfMJ9ntes",
        "outputId": "1f5e6529-da5d-417c-c71e-274cb0ef9d54"
      },
      "source": [
        "pets = ['dog','cat','fish','fish','cat','fish']\n",
        "\n",
        "s = input(\"Enter : \")\n",
        "\n",
        "print(pets.count(s))"
      ],
      "execution_count": 26,
      "outputs": [
        {
          "output_type": "stream",
          "name": "stdout",
          "text": [
            "Enter : fish\n",
            "3\n"
          ]
        }
      ]
    },
    {
      "cell_type": "markdown",
      "metadata": {
        "id": "BAvjf8J0oNlu"
      },
      "source": [
        "#### How to shallow copy a list?\n",
        ".copy() can be used to shallow copy a list."
      ]
    },
    {
      "cell_type": "code",
      "metadata": {
        "colab": {
          "base_uri": "https://localhost:8080/"
        },
        "id": "JOA_FbL3oBw5",
        "outputId": "7b44185a-22e5-4851-c397-c0ed2dd170a3"
      },
      "source": [
        "pets = ['dog','cat','fish','fish','cat','fish']\n",
        "\n",
        "p = pets.copy()\n",
        "\n",
        "p.remove(\"cat\")\n",
        "\n",
        "print(pets)\n",
        "\n",
        "print(p)"
      ],
      "execution_count": 28,
      "outputs": [
        {
          "output_type": "stream",
          "name": "stdout",
          "text": [
            "['dog', 'cat', 'fish', 'fish', 'cat', 'fish']\n",
            "['dog', 'fish', 'fish', 'cat', 'fish']\n"
          ]
        }
      ]
    },
    {
      "cell_type": "markdown",
      "metadata": {
        "id": "oa1f6YDkosdU"
      },
      "source": [
        "#### Return the length of a list"
      ]
    },
    {
      "cell_type": "code",
      "metadata": {
        "colab": {
          "base_uri": "https://localhost:8080/"
        },
        "id": "exrDrgD0oTmH",
        "outputId": "698345c0-4e97-4ead-cf83-16a0665e0c7d"
      },
      "source": [
        "pets = ['dog','cat','fish','fish','cat','fish']\n",
        "len(pets)"
      ],
      "execution_count": 29,
      "outputs": [
        {
          "output_type": "execute_result",
          "data": {
            "text/plain": [
              "6"
            ]
          },
          "metadata": {},
          "execution_count": 29
        }
      ]
    },
    {
      "cell_type": "markdown",
      "metadata": {
        "id": "z5B5XLtzo1lQ"
      },
      "source": [
        "Multiply every element in a list by 5 with the map function"
      ]
    },
    {
      "cell_type": "code",
      "metadata": {
        "colab": {
          "base_uri": "https://localhost:8080/"
        },
        "id": "ETuWUj0Jowyn",
        "outputId": "82a7757d-24ac-4def-81f2-05926b60d0a5"
      },
      "source": [
        "def m(num):\n",
        "  return num*5\n",
        "\n",
        "a = [10,20,30,40]\n",
        "\n",
        "[ val for val in map(m,a)]"
      ],
      "execution_count": 30,
      "outputs": [
        {
          "output_type": "execute_result",
          "data": {
            "text/plain": [
              "[50, 100, 150, 200]"
            ]
          },
          "metadata": {},
          "execution_count": 30
        }
      ]
    },
    {
      "cell_type": "markdown",
      "metadata": {
        "id": "eidon01FpO5Y"
      },
      "source": [
        "#### Combine 2 lists into a list of tuples with the zip function"
      ]
    },
    {
      "cell_type": "code",
      "metadata": {
        "colab": {
          "base_uri": "https://localhost:8080/"
        },
        "id": "s_h1tW2WpId6",
        "outputId": "8db9d2d5-9d91-4a10-f6bb-25e2842c9b61"
      },
      "source": [
        "a = [10,20,30,40]\n",
        "b = ['m','n','o','p']\n",
        "\n",
        "c= zip(a,b)\n",
        "t = tuple(c)\n",
        "t"
      ],
      "execution_count": 31,
      "outputs": [
        {
          "output_type": "execute_result",
          "data": {
            "text/plain": [
              "((10, 'm'), (20, 'n'), (30, 'o'), (40, 'p'))"
            ]
          },
          "metadata": {},
          "execution_count": 31
        }
      ]
    },
    {
      "cell_type": "markdown",
      "metadata": {
        "id": "3ixOXvGUpiI2"
      },
      "source": [
        "#### Insert a value at a specific index in an existing list"
      ]
    },
    {
      "cell_type": "code",
      "metadata": {
        "colab": {
          "base_uri": "https://localhost:8080/"
        },
        "id": "3XGUZr8RpdD2",
        "outputId": "7e8df167-9708-49b6-fcfc-52aa00ed42fb"
      },
      "source": [
        "a = [10,20,30,40]\n",
        "\n",
        "b = int(input(\"Enter num : \"))\n",
        "c = int(input(\"Enter index : \"))\n",
        "\n",
        "a[c]= b\n",
        "a"
      ],
      "execution_count": 33,
      "outputs": [
        {
          "name": "stdout",
          "output_type": "stream",
          "text": [
            "Enter num : 69\n",
            "Enter index : 2\n"
          ]
        },
        {
          "output_type": "execute_result",
          "data": {
            "text/plain": [
              "[10, 20, 69, 40]"
            ]
          },
          "metadata": {},
          "execution_count": 33
        }
      ]
    },
    {
      "cell_type": "code",
      "metadata": {
        "colab": {
          "base_uri": "https://localhost:8080/"
        },
        "id": "epiRfHn6pm9S",
        "outputId": "03338f9c-f2b3-40eb-c714-7df25e450f86"
      },
      "source": [
        "### we can also use .insert()\n",
        "\n",
        "a = [10,20,30,40]\n",
        "\n",
        "b = int(input(\"Enter num : \"))\n",
        "c = int(input(\"Enter index : \"))\n",
        "\n",
        "a.insert(c,b)\n",
        "a\n"
      ],
      "execution_count": 34,
      "outputs": [
        {
          "name": "stdout",
          "output_type": "stream",
          "text": [
            "Enter num : 69\n",
            "Enter index : 3\n"
          ]
        },
        {
          "output_type": "execute_result",
          "data": {
            "text/plain": [
              "[10, 20, 30, 69, 40]"
            ]
          },
          "metadata": {},
          "execution_count": 34
        }
      ]
    },
    {
      "cell_type": "markdown",
      "metadata": {
        "id": "Hz8u3Q1Cqmx7"
      },
      "source": [
        "#### Subtract values in a list from the first element with the reduce function"
      ]
    },
    {
      "cell_type": "code",
      "metadata": {
        "colab": {
          "base_uri": "https://localhost:8080/"
        },
        "id": "mOvp5ANcqQUE",
        "outputId": "cb1c16b8-72b3-4b2b-d619-9f22e824e5f9"
      },
      "source": [
        "from functools import reduce\n",
        "\n",
        "c = [10,20,30,40]\n",
        "\n",
        "def m(a,b):\n",
        "  return a-b\n",
        "\n",
        "reduce(m,c)"
      ],
      "execution_count": 37,
      "outputs": [
        {
          "output_type": "execute_result",
          "data": {
            "text/plain": [
              "-80"
            ]
          },
          "metadata": {},
          "execution_count": 37
        }
      ]
    },
    {
      "cell_type": "markdown",
      "metadata": {
        "id": "99dLwnTarKwq"
      },
      "source": [
        "#### Remove negative values from a list with the filter function"
      ]
    },
    {
      "cell_type": "code",
      "metadata": {
        "colab": {
          "base_uri": "https://localhost:8080/"
        },
        "id": "ljDCWZySqvfN",
        "outputId": "69ccd11e-abec-4bb9-faff-5004a48c1ebf"
      },
      "source": [
        "a = [-10, 27, 1000, -1, 0, -30]\n",
        "\n",
        "def m(x):\n",
        "  if x>=0:\n",
        "    return True\n",
        "  else:\n",
        "    return False\n",
        "\n",
        "[x for x in filter(m,a)]"
      ],
      "execution_count": 39,
      "outputs": [
        {
          "output_type": "execute_result",
          "data": {
            "text/plain": [
              "[27, 1000, 0]"
            ]
          },
          "metadata": {},
          "execution_count": 39
        }
      ]
    },
    {
      "cell_type": "markdown",
      "metadata": {
        "id": "rNxmXuGGskVd"
      },
      "source": [
        "#### Convert a list into a dictionary where list elements are keys"
      ]
    },
    {
      "cell_type": "code",
      "metadata": {
        "colab": {
          "base_uri": "https://localhost:8080/"
        },
        "id": "yKtELqwLsdij",
        "outputId": "198d7446-aa64-4230-8634-3e3be067ec64"
      },
      "source": [
        "a = [10,20,30,40]\n",
        "b = ['m','n','o','p']\n",
        "\n",
        "c= zip(b,a)\n",
        "d = dict(c)\n",
        "d"
      ],
      "execution_count": 41,
      "outputs": [
        {
          "output_type": "execute_result",
          "data": {
            "text/plain": [
              "{'m': 10, 'n': 20, 'o': 30, 'p': 40}"
            ]
          },
          "metadata": {},
          "execution_count": 41
        }
      ]
    },
    {
      "cell_type": "markdown",
      "metadata": {
        "id": "IF-w701Cs19l"
      },
      "source": [
        "#### Modify an existing list with a lambda function"
      ]
    },
    {
      "cell_type": "code",
      "metadata": {
        "colab": {
          "base_uri": "https://localhost:8080/"
        },
        "id": "gGIihN9TssYZ",
        "outputId": "e86a83ca-301b-4e2b-dbb4-9cd45cbb3e06"
      },
      "source": [
        "a = [10,20,30,40,50]\n",
        "list(map(lambda val:val*5, a))"
      ],
      "execution_count": 47,
      "outputs": [
        {
          "output_type": "execute_result",
          "data": {
            "text/plain": [
              "[50, 100, 150, 200, 250]"
            ]
          },
          "metadata": {},
          "execution_count": 47
        }
      ]
    },
    {
      "cell_type": "code",
      "metadata": {
        "colab": {
          "base_uri": "https://localhost:8080/"
        },
        "id": "4eM7AzWhtJqb",
        "outputId": "d14632d2-30d9-4c34-ede7-a569506e607f"
      },
      "source": [
        "b = ['m','n','o','p']\n",
        "\n",
        "list(map(lambda val : val+'abc' , b))"
      ],
      "execution_count": 49,
      "outputs": [
        {
          "output_type": "execute_result",
          "data": {
            "text/plain": [
              "['mabc', 'nabc', 'oabc', 'pabc']"
            ]
          },
          "metadata": {},
          "execution_count": 49
        }
      ]
    },
    {
      "cell_type": "markdown",
      "metadata": {
        "id": "_FK0CawkuNTx"
      },
      "source": [
        "#### Remove elements in a list after a specific index"
      ]
    },
    {
      "cell_type": "code",
      "metadata": {
        "colab": {
          "base_uri": "https://localhost:8080/"
        },
        "id": "sh9qF5U6uA24",
        "outputId": "17f98c46-224b-44e8-a558-f51960e16053"
      },
      "source": [
        "b = ['m','n','o','p']\n",
        "b[:2]  ## exclude"
      ],
      "execution_count": 50,
      "outputs": [
        {
          "output_type": "execute_result",
          "data": {
            "text/plain": [
              "['m', 'n']"
            ]
          },
          "metadata": {},
          "execution_count": 50
        }
      ]
    },
    {
      "cell_type": "markdown",
      "metadata": {
        "id": "uFQenNGTudYe"
      },
      "source": [
        "#### Remove elements in a list before a specific index"
      ]
    },
    {
      "cell_type": "code",
      "metadata": {
        "colab": {
          "base_uri": "https://localhost:8080/"
        },
        "id": "kQ5moa_vuUb1",
        "outputId": "d21682c4-b03c-4f23-ca5a-a89a9abdc599"
      },
      "source": [
        "b = ['m','n','o','p']\n",
        "b[1:]"
      ],
      "execution_count": 52,
      "outputs": [
        {
          "output_type": "execute_result",
          "data": {
            "text/plain": [
              "['n', 'o', 'p']"
            ]
          },
          "metadata": {},
          "execution_count": 52
        }
      ]
    },
    {
      "cell_type": "markdown",
      "metadata": {
        "id": "OyvQcJgzumyy"
      },
      "source": [
        "#### Remove elements in a list between 2 indices"
      ]
    },
    {
      "cell_type": "code",
      "metadata": {
        "colab": {
          "base_uri": "https://localhost:8080/"
        },
        "id": "qYqrbCnQug4N",
        "outputId": "72f51415-1798-4ca8-d74f-62d226801f47"
      },
      "source": [
        "b = ['m','n','o','p']\n",
        "\n",
        "b[0:2]"
      ],
      "execution_count": 53,
      "outputs": [
        {
          "output_type": "execute_result",
          "data": {
            "text/plain": [
              "['m', 'n']"
            ]
          },
          "metadata": {},
          "execution_count": 53
        }
      ]
    },
    {
      "cell_type": "markdown",
      "metadata": {
        "id": "Lco5MFxku2LV"
      },
      "source": [
        "#### Return every 2nd element in a list between 2 indices"
      ]
    },
    {
      "cell_type": "code",
      "metadata": {
        "colab": {
          "base_uri": "https://localhost:8080/"
        },
        "id": "yrhkf6IWuwsC",
        "outputId": "9fb8c952-c912-4fe5-e52e-f7ce4b386a52"
      },
      "source": [
        "li = [1,2,3,4,5,6,7,8,9,10,11,12,13,14,15,16,17,18,19,10]\n",
        "li[10:16:2]"
      ],
      "execution_count": 56,
      "outputs": [
        {
          "output_type": "execute_result",
          "data": {
            "text/plain": [
              "[11, 13, 15]"
            ]
          },
          "metadata": {},
          "execution_count": 56
        }
      ]
    },
    {
      "cell_type": "markdown",
      "metadata": {
        "id": "K3pa3qufvHmZ"
      },
      "source": [
        "#### Sort a list of integers in ascending order"
      ]
    },
    {
      "cell_type": "code",
      "metadata": {
        "colab": {
          "base_uri": "https://localhost:8080/"
        },
        "id": "tQ60nLfBu67i",
        "outputId": "1dcdebe1-e64e-4554-f592-5cb527aefa99"
      },
      "source": [
        "li = [1,2,3,4,5,6,7,8,9,10,11,12,13,14,15,16,17,18,19,10]\n",
        "li.sort()   ## by default ascendring\n",
        "li"
      ],
      "execution_count": 58,
      "outputs": [
        {
          "output_type": "execute_result",
          "data": {
            "text/plain": [
              "[1, 2, 3, 4, 5, 6, 7, 8, 9, 10, 10, 11, 12, 13, 14, 15, 16, 17, 18, 19]"
            ]
          },
          "metadata": {},
          "execution_count": 58
        }
      ]
    },
    {
      "cell_type": "code",
      "metadata": {
        "colab": {
          "base_uri": "https://localhost:8080/"
        },
        "id": "fYIgq8IgvN05",
        "outputId": "8c3b34a3-2031-44bd-866d-f9e8f9323337"
      },
      "source": [
        "li = [1,2,3,4,5,6,7,8,9,10,11,12,13,14,15,16,17,18,19,10]\n",
        "li.sort(reverse=True)   ## decendring\n",
        "li"
      ],
      "execution_count": 61,
      "outputs": [
        {
          "output_type": "execute_result",
          "data": {
            "text/plain": [
              "[19, 18, 17, 16, 15, 14, 13, 12, 11, 10, 10, 9, 8, 7, 6, 5, 4, 3, 2, 1]"
            ]
          },
          "metadata": {},
          "execution_count": 61
        }
      ]
    },
    {
      "cell_type": "markdown",
      "metadata": {
        "id": "47eqx_V_vlGu"
      },
      "source": [
        "#### Filter even values out of a list with list comprehension"
      ]
    },
    {
      "cell_type": "code",
      "metadata": {
        "colab": {
          "base_uri": "https://localhost:8080/"
        },
        "id": "vm4QieZEva_6",
        "outputId": "8cba85fa-fa1b-474c-eb25-e3ebe3d0c29e"
      },
      "source": [
        "li = [1,2,3,4,5,6,7,8,9,10,11,12,13,14,15,16,17,18,19,10]\n",
        "\n",
        "[ i for i in li if i%2 ==0 ]"
      ],
      "execution_count": 62,
      "outputs": [
        {
          "output_type": "execute_result",
          "data": {
            "text/plain": [
              "[2, 4, 6, 8, 10, 12, 14, 16, 18, 10]"
            ]
          },
          "metadata": {},
          "execution_count": 62
        }
      ]
    },
    {
      "cell_type": "code",
      "metadata": {
        "colab": {
          "base_uri": "https://localhost:8080/"
        },
        "id": "7gjV3PMqvw3N",
        "outputId": "39c9060d-b53d-4c9c-f0d2-d32383c435b1"
      },
      "source": [
        "li = [1,2,3,4,5,6,7,8,9,10,11,12,13,14,15,16,17,18,19,10]\n",
        "\n",
        "[ i for i in li if i%2 !=0 ]"
      ],
      "execution_count": 63,
      "outputs": [
        {
          "output_type": "execute_result",
          "data": {
            "text/plain": [
              "[1, 3, 5, 7, 9, 11, 13, 15, 17, 19]"
            ]
          },
          "metadata": {},
          "execution_count": 63
        }
      ]
    },
    {
      "cell_type": "markdown",
      "metadata": {
        "id": "DfyH_4Qcv686"
      },
      "source": [
        "#### Count occurrences of each value in a list and print as dictonary"
      ]
    },
    {
      "cell_type": "code",
      "metadata": {
        "colab": {
          "base_uri": "https://localhost:8080/"
        },
        "id": "0ylkTYKgvuD_",
        "outputId": "676a9ecc-ad94-4dc9-c4d3-8b3b1794a09e"
      },
      "source": [
        "li = ['blue', 'pink', 'green', 'green', 'yellow', 'pink', 'orange']\n",
        "\n",
        "c = []\n",
        "\n",
        "for i in li:\n",
        "  c.append(li.count(i))\n",
        "\n",
        "d = dict(zip(li,c))\n",
        "d"
      ],
      "execution_count": 70,
      "outputs": [
        {
          "output_type": "execute_result",
          "data": {
            "text/plain": [
              "{'blue': 1, 'green': 2, 'orange': 1, 'pink': 2, 'yellow': 1}"
            ]
          },
          "metadata": {},
          "execution_count": 70
        }
      ]
    },
    {
      "cell_type": "markdown",
      "metadata": {
        "id": "T3QeGA1bworv"
      },
      "source": [
        "#### Get the first element from each nested list in a list"
      ]
    },
    {
      "cell_type": "code",
      "metadata": {
        "colab": {
          "base_uri": "https://localhost:8080/"
        },
        "id": "FHPCLDNywCSg",
        "outputId": "ad37caee-0292-4776-dbad-88a6b802513b"
      },
      "source": [
        "li = [[1,2,3],[4,5,6],[7,8,9],[10,11,12],[13,14,15]]\n",
        "\n",
        "for i in li:\n",
        "  print(i[0])"
      ],
      "execution_count": 73,
      "outputs": [
        {
          "output_type": "stream",
          "name": "stdout",
          "text": [
            "1\n",
            "4\n",
            "7\n",
            "10\n",
            "13\n"
          ]
        }
      ]
    },
    {
      "cell_type": "markdown",
      "metadata": {
        "id": "fRtd8BoBxxlA"
      },
      "source": [
        "#### Combine elements in a list into a single string.\n",
        "This can be done with the join() function."
      ]
    },
    {
      "cell_type": "code",
      "metadata": {
        "colab": {
          "base_uri": "https://localhost:8080/",
          "height": 35
        },
        "id": "OBRip_aVw5JW",
        "outputId": "86a0a30c-3497-42b7-fa39-7e46096890c5"
      },
      "source": [
        "li = ['The','quick','brown', 'fox', 'jumped', 'over', 'the', 'lazy', 'dog']\n",
        "\n",
        "\" \".join(li)"
      ],
      "execution_count": 74,
      "outputs": [
        {
          "output_type": "execute_result",
          "data": {
            "application/vnd.google.colaboratory.intrinsic+json": {
              "type": "string"
            },
            "text/plain": [
              "'The quick brown fox jumped over the lazy dog'"
            ]
          },
          "metadata": {},
          "execution_count": 74
        }
      ]
    },
    {
      "cell_type": "markdown",
      "metadata": {
        "id": "1X2adbnnyI_r"
      },
      "source": [
        "#### reversing a list"
      ]
    },
    {
      "cell_type": "code",
      "metadata": {
        "colab": {
          "base_uri": "https://localhost:8080/"
        },
        "id": "G0YVkuuAx4tB",
        "outputId": "f25f48ad-945b-4b7a-e7f5-f4de54fe707b"
      },
      "source": [
        "li = [1,2,3,4,5,6,7,8,9,10]\n",
        "li.reverse()\n",
        "li"
      ],
      "execution_count": 75,
      "outputs": [
        {
          "output_type": "execute_result",
          "data": {
            "text/plain": [
              "[10, 9, 8, 7, 6, 5, 4, 3, 2, 1]"
            ]
          },
          "metadata": {},
          "execution_count": 75
        }
      ]
    },
    {
      "cell_type": "markdown",
      "metadata": {
        "id": "DlT7eW4CyUXr"
      },
      "source": [
        "#### Return the minimum , max value in a list"
      ]
    },
    {
      "cell_type": "code",
      "metadata": {
        "colab": {
          "base_uri": "https://localhost:8080/"
        },
        "id": "0ETbl5OxyLhf",
        "outputId": "c92ac74a-9fd2-4515-c019-5ec15f6adc9c"
      },
      "source": [
        "li = [1,2,3,4,5,6,7,8,9,10]\n",
        "print(min(li))\n",
        "print(max(li))\n",
        "print(sum(li))"
      ],
      "execution_count": 78,
      "outputs": [
        {
          "output_type": "stream",
          "name": "stdout",
          "text": [
            "1\n",
            "10\n",
            "55\n"
          ]
        }
      ]
    },
    {
      "cell_type": "markdown",
      "metadata": {
        "id": "4XIenA5Myu_r"
      },
      "source": [
        "#### Use a list as a stack"
      ]
    },
    {
      "cell_type": "code",
      "metadata": {
        "colab": {
          "base_uri": "https://localhost:8080/"
        },
        "id": "vK7EZ9n7yeBG",
        "outputId": "6e6c1616-13a1-404c-9841-ac50a73cb0b0"
      },
      "source": [
        "s = []\n",
        "s.append('rohan')\n",
        "s.append('das')\n",
        "s.append(7825)\n",
        "print(s)\n",
        "\n",
        "\n",
        "## LIFO\n",
        "s.pop()\n",
        "print(s)"
      ],
      "execution_count": 81,
      "outputs": [
        {
          "output_type": "stream",
          "name": "stdout",
          "text": [
            "['rohan', 'das', 7825]\n",
            "['rohan', 'das']\n"
          ]
        }
      ]
    },
    {
      "cell_type": "markdown",
      "metadata": {
        "id": "09w0DIdYzLk8"
      },
      "source": [
        "Find the intersection of 2 lists"
      ]
    },
    {
      "cell_type": "code",
      "metadata": {
        "colab": {
          "base_uri": "https://localhost:8080/"
        },
        "id": "ql3dLwf-yzvw",
        "outputId": "3cdd283c-ace5-40a9-f025-5422279f5722"
      },
      "source": [
        "li1 = [1,2,3]\n",
        "li2 = [2,3,4]\n",
        "set(li1) & set(li2)"
      ],
      "execution_count": 82,
      "outputs": [
        {
          "output_type": "execute_result",
          "data": {
            "text/plain": [
              "{2, 3}"
            ]
          },
          "metadata": {},
          "execution_count": 82
        }
      ]
    },
    {
      "cell_type": "markdown",
      "metadata": {
        "id": "GG46WfJXzURs"
      },
      "source": [
        " Find the difference between a set and another set"
      ]
    },
    {
      "cell_type": "code",
      "metadata": {
        "colab": {
          "base_uri": "https://localhost:8080/"
        },
        "id": "FpesIKzLzPoz",
        "outputId": "e976b28d-a373-40ed-dc04-a694c015e9b7"
      },
      "source": [
        "li1 = [1,2,3]\n",
        "li2 = [2,3,4]\n",
        "set(li1) - set(li2)"
      ],
      "execution_count": 83,
      "outputs": [
        {
          "output_type": "execute_result",
          "data": {
            "text/plain": [
              "{1}"
            ]
          },
          "metadata": {},
          "execution_count": 83
        }
      ]
    },
    {
      "cell_type": "code",
      "metadata": {
        "colab": {
          "base_uri": "https://localhost:8080/"
        },
        "id": "dQzGTtb2zYgi",
        "outputId": "1ede4d0e-d524-4583-fe65-a97c21b29c51"
      },
      "source": [
        "set(li2) - set(li1)"
      ],
      "execution_count": 84,
      "outputs": [
        {
          "output_type": "execute_result",
          "data": {
            "text/plain": [
              "{4}"
            ]
          },
          "metadata": {},
          "execution_count": 84
        }
      ]
    },
    {
      "cell_type": "markdown",
      "metadata": {
        "id": "lfsQSMVxzmbG"
      },
      "source": [
        "#### Reverse the order of a list using the slice syntax"
      ]
    },
    {
      "cell_type": "code",
      "metadata": {
        "colab": {
          "base_uri": "https://localhost:8080/"
        },
        "id": "y5iiYlDfzb8H",
        "outputId": "5f30ed3a-1523-4bd7-f6f4-adbd9fa1e0e8"
      },
      "source": [
        "li = ['a','b',3,4]\n",
        "\n",
        "li[::-1]"
      ],
      "execution_count": 85,
      "outputs": [
        {
          "output_type": "execute_result",
          "data": {
            "text/plain": [
              "[4, 3, 'b', 'a']"
            ]
          },
          "metadata": {},
          "execution_count": 85
        }
      ]
    },
    {
      "cell_type": "code",
      "metadata": {
        "colab": {
          "base_uri": "https://localhost:8080/"
        },
        "id": "r8z7QyqHzr-U",
        "outputId": "bc0cb8de-9fc9-4bd3-d792-296d1d806c28"
      },
      "source": [
        "lst = [-10, -20, 10, 20, 50]\n",
        "\n",
        "#create a new list with values doubled\n",
        "\n",
        "print([i*2 for i in lst])\n",
        "\n",
        "#filter the list to exclude negative numbers\n",
        "print([ i for i in lst if i >= 0])\n",
        "\n",
        "#create a list of tuples like (number, square_of_number)\n",
        "print([(i , i**2) for i in lst])"
      ],
      "execution_count": 91,
      "outputs": [
        {
          "output_type": "stream",
          "name": "stdout",
          "text": [
            "[-20, -40, 20, 40, 100]\n",
            "[10, 20, 50]\n",
            "[(-10, 100), (-20, 400), (10, 100), (20, 400), (50, 2500)]\n"
          ]
        }
      ]
    },
    {
      "cell_type": "code",
      "metadata": {
        "colab": {
          "base_uri": "https://localhost:8080/"
        },
        "id": "GJEbSzem0FLP",
        "outputId": "c550acb3-8eeb-4fd5-c814-6d891c6ac4c5"
      },
      "source": [
        "### Matrix\n",
        "\n",
        "a = [\n",
        "     [1,2,3],\n",
        "     [4,5,6],\n",
        "     [7,8,9]]\n",
        "print(a)\n",
        "\n",
        "### matrix transpose \n",
        "\n",
        "t = []\n",
        "for i in range(3):\n",
        "  l = []\n",
        "  for row in a:\n",
        "    l.append(row[i])\n",
        "  t.append(l)\n",
        "\n",
        "print(t)\n",
        "\n",
        "\n"
      ],
      "execution_count": 99,
      "outputs": [
        {
          "output_type": "stream",
          "name": "stdout",
          "text": [
            "[[1, 2, 3], [4, 5, 6], [7, 8, 9]]\n",
            "[[1, 4, 7], [2, 5, 8], [3, 6, 9]]\n"
          ]
        }
      ]
    },
    {
      "cell_type": "code",
      "metadata": {
        "colab": {
          "base_uri": "https://localhost:8080/"
        },
        "id": "fS2VMXpJ2cli",
        "outputId": "a3ad5e72-9b06-464f-9511-27476527354c"
      },
      "source": [
        "transposed = [[row[i] for row in a] for i in range(len(a[0]))]\n",
        "transposed"
      ],
      "execution_count": 101,
      "outputs": [
        {
          "output_type": "execute_result",
          "data": {
            "text/plain": [
              "[[1, 4, 7], [2, 5, 8], [3, 6, 9]]"
            ]
          },
          "metadata": {},
          "execution_count": 101
        }
      ]
    },
    {
      "cell_type": "markdown",
      "metadata": {
        "id": "6HELr5R23P8V"
      },
      "source": [
        "### HCF of two numbers"
      ]
    },
    {
      "cell_type": "code",
      "metadata": {
        "colab": {
          "base_uri": "https://localhost:8080/"
        },
        "id": "LMvmCUaG04us",
        "outputId": "0e547d04-7964-49de-ebb7-aaf558f5b54a"
      },
      "source": [
        "def HCF(a,b):\n",
        "  hcf = 1\n",
        "  smaller = b if b < a else a\n",
        "  for i in range(1,smaller+1):\n",
        "    if a%i == 0 and b%i == 0:\n",
        "      hcf = i\n",
        "  return hcf\n",
        "\n",
        "a = int(input(\"Enter : \"))\n",
        "b = int(input(\"Enter : \"))\n",
        "print(f\"HCF  of {a} and {b} is {HCF(a,b)}\")"
      ],
      "execution_count": 105,
      "outputs": [
        {
          "output_type": "stream",
          "name": "stdout",
          "text": [
            "Enter : 3\n",
            "Enter : 10\n",
            "HCF  of 3 and 10 is 1\n"
          ]
        }
      ]
    },
    {
      "cell_type": "code",
      "metadata": {
        "colab": {
          "base_uri": "https://localhost:8080/"
        },
        "id": "Apdp5oEh4Ahx",
        "outputId": "16ff925f-aa8e-45ba-d84b-49157d34cccb"
      },
      "source": [
        "def h(a,b):\n",
        "  small = b if b < a else a\n",
        "\n",
        "  hcf = []\n",
        "  for i in range(1,small+1):\n",
        "    if a%i == 0 and b%i==0:\n",
        "      hcf.append(i)\n",
        "  return hcf\n",
        "\n",
        "a = int(input(\"Enter : \"))\n",
        "b = int(input(\"Enter : \"))\n",
        "print(f\"HCF  of {a} and {b} is {h(a,b)}\")"
      ],
      "execution_count": 106,
      "outputs": [
        {
          "output_type": "stream",
          "name": "stdout",
          "text": [
            "Enter : 2\n",
            "Enter : 20\n",
            "HCF  of 2 and 20 is [1, 2]\n"
          ]
        }
      ]
    },
    {
      "cell_type": "markdown",
      "metadata": {
        "id": "YnZEhYoV8qLn"
      },
      "source": [
        "#### Consider a list (list = []). You can perform the following commands:\n",
        "\n",
        "insert i e: Insert integer  at position .\n",
        "print: Print the list.\n",
        "remove e: Delete the first occurrence of integer .\n",
        "append e: Insert integer  at the end of the list.\n",
        "sort: Sort the list.\n",
        "pop: Pop the last element from the list.\n",
        "reverse: Reverse the list.\n",
        "Initialize your list and read in the value of  followed by  lines of commands where each command will be of the  types listed above. Iterate through each command in order and perform the corresponding operation on your list.\n",
        "\n",
        "\n",
        "12\n",
        "insert 0 5\n",
        "insert 1 10\n",
        "insert 0 6\n",
        "print\n",
        "remove 6\n",
        "append 9\n",
        "append 1\n",
        "sort\n",
        "print\n",
        "pop\n",
        "reverse\n",
        "print\n",
        "Sample Output 0\n",
        "\n",
        "[6, 5, 10]\n",
        "[1, 5, 9, 10]\n",
        "[9, 5, 1]"
      ]
    },
    {
      "cell_type": "code",
      "metadata": {
        "colab": {
          "base_uri": "https://localhost:8080/"
        },
        "id": "Am2E7Mfr5GOt",
        "outputId": "406bcd3b-346c-4602-dd9c-659f55cae971"
      },
      "source": [
        "if __name__ == '__main__':\n",
        "    N = int(input())\n",
        "    l =[]\n",
        "    l.append(5)\n",
        "    l.append(10)\n",
        "    l.insert(0,6)\n",
        "    print(l)\n",
        "    l.remove(6)\n",
        "    l.append(9)\n",
        "    l.append(1)\n",
        "    l.sort()\n",
        "    print(l)\n",
        "    l.pop()\n",
        "    l.reverse()\n",
        "    print(l)\n",
        "    "
      ],
      "execution_count": 108,
      "outputs": [
        {
          "output_type": "stream",
          "name": "stdout",
          "text": [
            "12\n",
            "[6, 5, 10]\n",
            "[1, 5, 9, 10]\n",
            "[9, 5, 1]\n"
          ]
        }
      ]
    },
    {
      "cell_type": "code",
      "metadata": {
        "id": "bFdytLde86kz"
      },
      "source": [
        ""
      ],
      "execution_count": null,
      "outputs": []
    }
  ]
}