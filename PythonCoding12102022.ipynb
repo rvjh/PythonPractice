{
  "nbformat": 4,
  "nbformat_minor": 0,
  "metadata": {
    "colab": {
      "provenance": [],
      "authorship_tag": "ABX9TyMnfaiFQoXuTKEAy6BoChqE",
      "include_colab_link": true
    },
    "kernelspec": {
      "name": "python3",
      "display_name": "Python 3"
    },
    "language_info": {
      "name": "python"
    }
  },
  "cells": [
    {
      "cell_type": "markdown",
      "metadata": {
        "id": "view-in-github",
        "colab_type": "text"
      },
      "source": [
        "<a href=\"https://colab.research.google.com/github/rvjh/PythonPractice/blob/main/PythonCoding12102022.ipynb\" target=\"_parent\"><img src=\"https://colab.research.google.com/assets/colab-badge.svg\" alt=\"Open In Colab\"/></a>"
      ]
    },
    {
      "cell_type": "markdown",
      "source": [],
      "metadata": {
        "id": "PjVWeeoaYqPS"
      }
    },
    {
      "cell_type": "markdown",
      "source": [
        "Write a program which will find all such numbers which are divisible by 7 but are not a multiple of 5, between 2000 and 3200 (both included).The numbers obtained should be printed in a comma-separated sequence on a single line./"
      ],
      "metadata": {
        "id": "9xGuyEfSYxHE"
      }
    },
    {
      "cell_type": "code",
      "execution_count": null,
      "metadata": {
        "id": "npLpjcL9X9Lk"
      },
      "outputs": [],
      "source": [
        "x = 2000\n",
        "y = 3200\n",
        "\n",
        "def div_by_7(a,b):\n",
        "  for i in range(a,b+1):\n",
        "    if i%7 == 0 and i%5!=0:\n",
        "      print(i)\n",
        "    else:\n",
        "      pass\n",
        "\n",
        "div_by_7(x,y)\n"
      ]
    },
    {
      "cell_type": "markdown",
      "source": [
        "Write a program which can compute the factorial of a given numbers.The results should be printed in a comma-separated sequence on a single line.Suppose the following input is supplied to the program: 8 Then, the output should be:40320"
      ],
      "metadata": {
        "id": "55Z3HmlSZn1y"
      }
    },
    {
      "cell_type": "code",
      "source": [
        "def fact_num(n):\n",
        "  if n==0:\n",
        "    return 1\n",
        "  else:\n",
        "    return n*fact_num(n-1)\n",
        "\n",
        "def ret_fac(n):\n",
        "  for i in range(1,n+1):\n",
        "    print(f\"Factorial of {i} is {fact_num(i)}\")\n",
        "\n",
        "ret_fac(8)"
      ],
      "metadata": {
        "colab": {
          "base_uri": "https://localhost:8080/"
        },
        "id": "34EFkA_QZbff",
        "outputId": "0ab36360-7009-4a50-93f0-346855f672a1"
      },
      "execution_count": null,
      "outputs": [
        {
          "output_type": "stream",
          "name": "stdout",
          "text": [
            "Factorial of 1 is 1\n",
            "Factorial of 2 is 2\n",
            "Factorial of 3 is 6\n",
            "Factorial of 4 is 24\n",
            "Factorial of 5 is 120\n",
            "Factorial of 6 is 720\n",
            "Factorial of 7 is 5040\n",
            "Factorial of 8 is 40320\n"
          ]
        }
      ]
    },
    {
      "cell_type": "markdown",
      "source": [
        "With a given integral number n, write a program to generate a dictionary that contains (i, i x i) such that is an integral number between 1 and n (both included). and then the program should print the dictionary.Suppose the following input is supplied to the program: 8\n",
        "\n",
        "Then, the output should be:\n",
        "\n",
        "{1: 1, 2: 4, 3: 9, 4: 16, 5: 25, 6: 36, 7: 49, 8: 64}"
      ],
      "metadata": {
        "id": "K-qxv352anO4"
      }
    },
    {
      "cell_type": "code",
      "source": [
        "def print_dict(n):\n",
        "  a=[]\n",
        "  b=[]\n",
        "  for i in range(1,n+1):\n",
        "    a.append(i)\n",
        "    b.append(i**2)\n",
        "  d=dict(zip(a,b))\n",
        "  return d\n",
        "\n",
        "print_dict(8)"
      ],
      "metadata": {
        "colab": {
          "base_uri": "https://localhost:8080/"
        },
        "id": "_VyxJTroZ-VR",
        "outputId": "663ce959-a9d1-4580-d98a-4a1461ce8332"
      },
      "execution_count": null,
      "outputs": [
        {
          "output_type": "execute_result",
          "data": {
            "text/plain": [
              "{1: 1, 2: 4, 3: 9, 4: 16, 5: 25, 6: 36, 7: 49, 8: 64}"
            ]
          },
          "metadata": {},
          "execution_count": 4
        }
      ]
    },
    {
      "cell_type": "code",
      "source": [
        "def print_dict_1(n):\n",
        "  a=dict()\n",
        "  for i in range(1,i+1):\n",
        "    a[i] = i **2\n",
        "  return a\n",
        "\n",
        "print_dict(8)"
      ],
      "metadata": {
        "colab": {
          "base_uri": "https://localhost:8080/"
        },
        "id": "-ADocuAVbHdv",
        "outputId": "4a359acc-7a33-4579-f91e-ab9595fea4aa"
      },
      "execution_count": null,
      "outputs": [
        {
          "output_type": "execute_result",
          "data": {
            "text/plain": [
              "{1: 1, 2: 4, 3: 9, 4: 16, 5: 25, 6: 36, 7: 49, 8: 64}"
            ]
          },
          "metadata": {},
          "execution_count": 5
        }
      ]
    },
    {
      "cell_type": "markdown",
      "source": [
        "Write a program which accepts a sequence of comma-separated numbers from console and generate a list and a tuple which contains every number.Suppose the following input is supplied to the program:\n",
        "\n",
        "34,67,55,33,12,98\n",
        "Then, the output should be:\n",
        "\n",
        "['34', '67', '55', '33', '12', '98']\n",
        "('34', '67', '55', '33', '12', '98')"
      ],
      "metadata": {
        "id": "VoS4Q6aNbj5A"
      }
    },
    {
      "cell_type": "code",
      "source": [
        "def ret_lijst_tup():\n",
        "  n = int(input(\"Enter the no of terms : \"))\n",
        "  a = []\n",
        "  for i in range(1,n+1):\n",
        "    b = int(input(\"Enter the number : \"))\n",
        "    a.append(b)\n",
        "\n",
        "  print(f\"List is : {a}\")\n",
        "  print(f\"Tuple id : {tuple(a)}\")\n",
        "\n",
        "ret_lijst_tup()\n"
      ],
      "metadata": {
        "colab": {
          "base_uri": "https://localhost:8080/"
        },
        "id": "ghuaKamzbbLS",
        "outputId": "c9d673b7-8c75-4afa-96e2-3a90930c7eba"
      },
      "execution_count": null,
      "outputs": [
        {
          "output_type": "stream",
          "name": "stdout",
          "text": [
            "Enter the no of terms : 5\n",
            "Enter the number : 34\n",
            "Enter the number : 67\n",
            "Enter the number : 55\n",
            "Enter the number : 33\n",
            "Enter the number : 12\n",
            "List is : [34, 67, 55, 33, 12]\n",
            "Tuple id : (34, 67, 55, 33, 12)\n"
          ]
        }
      ]
    },
    {
      "cell_type": "markdown",
      "source": [
        "Define a class which has at least two methods:\n",
        "\n",
        "getString: to get a string from console input\n",
        "printString: to print the string in upper case.\n",
        "Also please include simple test function to test the class methods."
      ],
      "metadata": {
        "id": "94pJY44ncoVQ"
      }
    },
    {
      "cell_type": "code",
      "source": [
        "class AB:\n",
        "  def __init__(self):\n",
        "    self.s = \"\"\n",
        "\n",
        "  def getString(self):\n",
        "    self.s= input(\"Enter tyhe string : \") \n",
        "\n",
        "  def printString(self):\n",
        "    print(f\"The string is : {self.s.upper()}\")\n",
        "\n",
        "a = AB()\n",
        "a.getString()\n",
        "a.printString()"
      ],
      "metadata": {
        "colab": {
          "base_uri": "https://localhost:8080/"
        },
        "id": "vky6GbAVcTkE",
        "outputId": "c73b3a79-f6d5-4dbe-c6c1-a257485a4b8c"
      },
      "execution_count": null,
      "outputs": [
        {
          "output_type": "stream",
          "name": "stdout",
          "text": [
            "Enter tyhe string : Ajay Sharma\n",
            "The string is : AJAY SHARMA\n"
          ]
        }
      ]
    },
    {
      "cell_type": "markdown",
      "source": [
        "Write a program that calculates and prints the value according to the given formula:\n",
        "\n",
        "Q = Square root of [(2 _ C _ D)/H]\n",
        "\n",
        "Following are the fixed values of C and H:\n",
        "\n",
        "C is 50. H is 30.\n",
        "\n",
        "D is the variable whose values should be input to your program in a comma-separated sequence.For example Let us assume the following comma separated input sequence is given to the program:\n",
        "\n",
        "100,150,180\n",
        "The output of the program should be:\n",
        "\n",
        "18,22,24"
      ],
      "metadata": {
        "id": "-JVXV7Zudd-Y"
      }
    },
    {
      "cell_type": "code",
      "source": [
        "import math\n",
        "def calcu_num():\n",
        "  C = 50\n",
        "  H = 30\n",
        "  n = int(input(\"Enter the num of terms : \"))\n",
        "  for i in range(1,n+1):\n",
        "    b = int(input(\"Enter the number : \"))\n",
        "    q = math.sqrt((2*C*b)/H)\n",
        "    print(f\"Value of {b} is {math.floor(q)}\")\n",
        "\n",
        "\n",
        "calcu_num()\n",
        "  \n",
        "  \n",
        "\n"
      ],
      "metadata": {
        "colab": {
          "base_uri": "https://localhost:8080/"
        },
        "id": "v1bFuR8jdP-B",
        "outputId": "ba3cb1b6-c79d-47f1-c879-02c9f6f0472f"
      },
      "execution_count": null,
      "outputs": [
        {
          "output_type": "stream",
          "name": "stdout",
          "text": [
            "Enter the num of terms : 3\n",
            "Enter the number : 100\n",
            "Value of 100 is 18\n",
            "Enter the number : 150\n",
            "Value of 150 is 22\n",
            "Enter the number : 180\n",
            "Value of 180 is 24\n"
          ]
        }
      ]
    },
    {
      "cell_type": "markdown",
      "source": [
        "Write a program which takes 2 digits, X,Y as input and generates a 2-dimensional array. The element value in the i-th row and j-th column of the array should be i _ j.*\n",
        "\n",
        "Note: i=0,1.., X-1; j=0,1,¡­Y-1. Suppose the following inputs are given to the program: 3,5\n",
        "\n",
        "Then, the output of the program should be:\n",
        "\n",
        "[[0, 0, 0, 0, 0], [0, 1, 2, 3, 4], [0, 2, 4, 6, 8]]"
      ],
      "metadata": {
        "id": "fE91HRkEfk2z"
      }
    },
    {
      "cell_type": "code",
      "source": [
        "x,y = map(int,input().split(','))\n",
        "lst = []\n",
        "\n",
        "for i in range(x):\n",
        "    tmp = []\n",
        "    for j in range(y):\n",
        "        tmp.append(i*j)\n",
        "    lst.append(tmp)\n",
        "\n",
        "print(lst)"
      ],
      "metadata": {
        "colab": {
          "base_uri": "https://localhost:8080/"
        },
        "id": "vqWq1BZ6e923",
        "outputId": "cd7bafea-882f-4ca0-c065-c93a5709a291"
      },
      "execution_count": null,
      "outputs": [
        {
          "output_type": "stream",
          "name": "stdout",
          "text": [
            "3,5\n",
            "[[0, 0, 0, 0, 0], [0, 1, 2, 3, 4], [0, 2, 4, 6, 8]]\n"
          ]
        }
      ]
    },
    {
      "cell_type": "markdown",
      "source": [
        "Write a program that accepts a comma separated sequence of words as input and prints the words in a comma-separated sequence after sorting them alphabetically.\n",
        "\n",
        "Suppose the following input is supplied to the program:\n",
        "\n",
        "without,hello,bag,world\n",
        "Then, the output should be:\n",
        "\n",
        "bag,hello,without,world"
      ],
      "metadata": {
        "id": "Z6mRsST8gHRj"
      }
    },
    {
      "cell_type": "code",
      "source": [
        "def word_sort():\n",
        "  n = int(input(\"Enter the no of terms : \"))\n",
        "  a=[]\n",
        "  for i in range(1,n+1):\n",
        "    b = input(\"Enter the woird : \")\n",
        "    a.append(b)\n",
        "  a.sort()\n",
        "  print(\",\".join(a))\n",
        "\n",
        "word_sort()"
      ],
      "metadata": {
        "colab": {
          "base_uri": "https://localhost:8080/"
        },
        "id": "gB8t1w9_gCZ7",
        "outputId": "59153a2e-5be3-487d-89c8-45c147c87fe6"
      },
      "execution_count": null,
      "outputs": [
        {
          "output_type": "stream",
          "name": "stdout",
          "text": [
            "Enter the no of terms : 4\n",
            "Enter the woird : without\n",
            "Enter the woird : hello\n",
            "Enter the woird : bag\n",
            "Enter the woird : world\n",
            "bag,hello,without,world\n"
          ]
        }
      ]
    },
    {
      "cell_type": "markdown",
      "source": [
        "Write a program that accepts sequence of lines as input and prints the lines after making all characters in the sentence capitalized.\n",
        "\n",
        "Suppose the following input is supplied to the program:\n",
        "\n",
        "Hello world\n",
        "Practice makes perfect\n",
        "Then, the output should be:\n",
        "\n",
        "HELLO WORLD\n",
        "PRACTICE MAKES PERFECT"
      ],
      "metadata": {
        "id": "4y15FENih3zC"
      }
    },
    {
      "cell_type": "code",
      "source": [
        "def get_cap(a):\n",
        "  return a.upper()\n",
        "\n",
        "get_cap('Hello world Practice makes perfect')"
      ],
      "metadata": {
        "colab": {
          "base_uri": "https://localhost:8080/",
          "height": 35
        },
        "id": "WW-OQDB2gnTz",
        "outputId": "7643953e-4817-491c-8a58-8c28816b4c99"
      },
      "execution_count": null,
      "outputs": [
        {
          "output_type": "execute_result",
          "data": {
            "text/plain": [
              "'HELLO WORLD PRACTICE MAKES PERFECT'"
            ],
            "application/vnd.google.colaboratory.intrinsic+json": {
              "type": "string"
            }
          },
          "metadata": {},
          "execution_count": 20
        }
      ]
    },
    {
      "cell_type": "markdown",
      "source": [
        "Write a program that accepts a sequence of whitespace separated words as input and prints the words after removing all duplicate words and sorting them alphanumerically.\n",
        "\n",
        "Suppose the following input is supplied to the program:\n",
        "\n",
        "hello world and practice makes perfect and hello world again\n",
        "Then, the output should be:\n",
        "\n",
        "again and hello makes perfect practice world"
      ],
      "metadata": {
        "id": "KYeYtGrciYas"
      }
    },
    {
      "cell_type": "code",
      "source": [
        "def get_space(a):\n",
        "  l = a.split(\" \")\n",
        "  for i in l:\n",
        "    if l.count(i)>1:\n",
        "      l.remove(i)\n",
        "  \n",
        "  print(l)\n",
        "\n",
        "get_space('hello world and practice makes perfect and hello world again')"
      ],
      "metadata": {
        "colab": {
          "base_uri": "https://localhost:8080/"
        },
        "id": "Rws5Vs9TiGvL",
        "outputId": "b0f522c2-08e8-47b2-dea7-7d73f5f48a82"
      },
      "execution_count": null,
      "outputs": [
        {
          "output_type": "stream",
          "name": "stdout",
          "text": [
            "['practice', 'makes', 'perfect', 'and', 'hello', 'world', 'again']\n"
          ]
        }
      ]
    },
    {
      "cell_type": "markdown",
      "source": [
        "Write a program which accepts a sequence of comma separated 4 digit binary numbers as its input and then check whether they are divisible by 5 or not. The numbers that are divisible by 5 are to be printed in a comma separated sequence.\n",
        "\n",
        "Example:\n",
        "\n",
        "0100,0011,1010,1001\n",
        "Then the output should be:\n",
        "\n",
        "1010"
      ],
      "metadata": {
        "id": "uyEgzqrol2KJ"
      }
    },
    {
      "cell_type": "code",
      "source": [
        "def bi_to_deci(a):\n",
        "  return int(a,2)\n",
        "\n",
        "def dev_vy_5():\n",
        "  n = int(input(\"Enter the no of terms : \"))\n",
        "  m=[]\n",
        "  for i in range(1,n+1):\n",
        "    b=input(\"Enter the binary num : \")\n",
        "    m.append(b)\n",
        "  for i in m:\n",
        "    if bi_to_deci(i)%5==0:\n",
        "      print(f\"The binary no is {i} which is divisible by 5\")\n",
        "\n",
        "dev_vy_5()"
      ],
      "metadata": {
        "colab": {
          "base_uri": "https://localhost:8080/"
        },
        "id": "dTF4IyqciqaB",
        "outputId": "472d1f27-dfac-405c-80c8-d37475431e50"
      },
      "execution_count": null,
      "outputs": [
        {
          "output_type": "stream",
          "name": "stdout",
          "text": [
            "Enter the no of terms : 3\n",
            "Enter the binary num : 0100\n",
            "Enter the binary num : 0011\n",
            "Enter the binary num : 1010\n",
            "The binary no is 1010 which is divisible by 5\n"
          ]
        }
      ]
    },
    {
      "cell_type": "markdown",
      "source": [
        "Write a program, which will find all such numbers between 1000 and 3000 (both included) such that each digit of the number is an even number.The numbers obtained should be printed in a comma-separated sequence on a single line."
      ],
      "metadata": {
        "id": "YW3KgwkAr0tn"
      }
    },
    {
      "cell_type": "code",
      "source": [
        "v = []\n",
        "for i in range(1000,3001):\n",
        "  s = str(i)\n",
        "  if (int(s[0])%2 == 0) and (int(s[1])%2 == 0) and (int(s[2])%2 == 0) and (int(s[3])%2 == 0):\n",
        "    v.append(s)\n",
        "print(v)\n",
        "print(len(v))\n"
      ],
      "metadata": {
        "colab": {
          "base_uri": "https://localhost:8080/"
        },
        "id": "vXRI625KnYiu",
        "outputId": "aa08ffb6-c894-4965-a8f4-833b0f4431f5"
      },
      "execution_count": null,
      "outputs": [
        {
          "output_type": "stream",
          "name": "stdout",
          "text": [
            "['2000', '2002', '2004', '2006', '2008', '2020', '2022', '2024', '2026', '2028', '2040', '2042', '2044', '2046', '2048', '2060', '2062', '2064', '2066', '2068', '2080', '2082', '2084', '2086', '2088', '2200', '2202', '2204', '2206', '2208', '2220', '2222', '2224', '2226', '2228', '2240', '2242', '2244', '2246', '2248', '2260', '2262', '2264', '2266', '2268', '2280', '2282', '2284', '2286', '2288', '2400', '2402', '2404', '2406', '2408', '2420', '2422', '2424', '2426', '2428', '2440', '2442', '2444', '2446', '2448', '2460', '2462', '2464', '2466', '2468', '2480', '2482', '2484', '2486', '2488', '2600', '2602', '2604', '2606', '2608', '2620', '2622', '2624', '2626', '2628', '2640', '2642', '2644', '2646', '2648', '2660', '2662', '2664', '2666', '2668', '2680', '2682', '2684', '2686', '2688', '2800', '2802', '2804', '2806', '2808', '2820', '2822', '2824', '2826', '2828', '2840', '2842', '2844', '2846', '2848', '2860', '2862', '2864', '2866', '2868', '2880', '2882', '2884', '2886', '2888']\n",
            "125\n"
          ]
        }
      ]
    },
    {
      "cell_type": "markdown",
      "source": [
        "Write a program that accepts a sentence and calculate the number of letters and digits.\n",
        "\n",
        "Suppose the following input is supplied to the program:\n",
        "\n",
        "hello world! 123\n",
        "Then, the output should be:\n",
        "\n",
        "LETTERS 10\n",
        "DIGITS 3"
      ],
      "metadata": {
        "id": "ZAKEsvJXsmEv"
      }
    },
    {
      "cell_type": "code",
      "source": [
        "word = input()\n",
        "letter, digit = 0,0\n",
        "\n",
        "for i in word:\n",
        "    if i.isalpha(): # returns True if alphabet\n",
        "        letter += 1\n",
        "    elif i.isnumeric(): # returns True if numeric\n",
        "        digit += 1\n",
        "print(f\"LETTERS : {letter} and digits : {digit}\")"
      ],
      "metadata": {
        "colab": {
          "base_uri": "https://localhost:8080/"
        },
        "id": "b7w8IB0dsbwm",
        "outputId": "ea118d9d-6bf6-4796-f80f-cac157c8d369"
      },
      "execution_count": null,
      "outputs": [
        {
          "output_type": "stream",
          "name": "stdout",
          "text": [
            "hello world! 123\n",
            "LETTERS : 10 and digits : 3\n"
          ]
        }
      ]
    },
    {
      "cell_type": "markdown",
      "source": [
        "Write a program that accepts a sentence and calculate the number of upper case letters and lower case letters.\n",
        "\n",
        "Suppose the following input is supplied to the program:\n",
        "\n",
        "Hello world!\n",
        "Then, the output should be:\n",
        "\n",
        "UPPER CASE 1\n",
        "LOWER CASE 9"
      ],
      "metadata": {
        "id": "Qc-p9mN2TKiA"
      }
    },
    {
      "cell_type": "code",
      "source": [
        "word = input()\n",
        "upper,lower = 0,0\n",
        "\n",
        "for i in word:\n",
        "    if 'a'<=i and i<='z' :\n",
        "        lower+=1\n",
        "    if 'A'<=i and i<='Z':\n",
        "        upper+=1\n",
        "\n",
        "print(\"UPPER CASE {0}\\nLOWER CASE {1}\".format(upper,lower))\n"
      ],
      "metadata": {
        "id": "W7i6oluQs7JT",
        "colab": {
          "base_uri": "https://localhost:8080/"
        },
        "outputId": "abf33672-3613-4dec-f8ba-051041088d9a"
      },
      "execution_count": null,
      "outputs": [
        {
          "output_type": "stream",
          "name": "stdout",
          "text": [
            "Hello world!\n",
            "UPPER CASE 1\n",
            "LOWER CASE 9\n"
          ]
        }
      ]
    },
    {
      "cell_type": "markdown",
      "source": [],
      "metadata": {
        "id": "z19qNNcwUQFW"
      }
    },
    {
      "cell_type": "markdown",
      "source": [
        "Write a program that computes the value of a+aa+aaa+aaaa with a given digit as the value of a.\n",
        "\n",
        "Suppose the following input is supplied to the program:\n",
        "\n",
        "9\n",
        "Then, the output should be:\n",
        "\n",
        "11106"
      ],
      "metadata": {
        "id": "mwlAbL-XUTtG"
      }
    },
    {
      "cell_type": "code",
      "source": [
        "a = input()\n",
        "print(sum(int(i*a) for i in range(1,5)))"
      ],
      "metadata": {
        "colab": {
          "base_uri": "https://localhost:8080/"
        },
        "id": "F-jJbz--TxoX",
        "outputId": "b8e52c96-5029-4773-dced-3cdd133b904f"
      },
      "execution_count": null,
      "outputs": [
        {
          "output_type": "stream",
          "name": "stdout",
          "text": [
            "9\n",
            "11106\n"
          ]
        }
      ]
    },
    {
      "cell_type": "code",
      "source": [
        "def fi(n):\n",
        "  if n<0:\n",
        "    return \"Invalid \"\n",
        "  elif n==0:\n",
        "    return 0\n",
        "  elif n==1 or n==2:\n",
        "    return 1\n",
        "  else:\n",
        "    return fi(n-1)+fi(n-2)\n",
        "\n",
        "fi(9)"
      ],
      "metadata": {
        "colab": {
          "base_uri": "https://localhost:8080/"
        },
        "id": "i-TVJNVtV6Et",
        "outputId": "240569e0-7b50-4fae-f88a-648206304c97"
      },
      "execution_count": null,
      "outputs": [
        {
          "output_type": "execute_result",
          "data": {
            "text/plain": [
              "34"
            ]
          },
          "metadata": {},
          "execution_count": 10
        }
      ]
    },
    {
      "cell_type": "code",
      "source": [
        "def is_disarium(n):\n",
        "  l = len(str(n))\n",
        "  sum = 0\n",
        "  for i in range(l):\n",
        "    sum = sum + int(str(n)[i]) ** (i+1)\n",
        "  if sum == n:\n",
        "    return True\n",
        "  else:\n",
        "    return False\n",
        "\n",
        "\n",
        "is_disarium(135)"
      ],
      "metadata": {
        "colab": {
          "base_uri": "https://localhost:8080/"
        },
        "id": "54qy7uKwTZkv",
        "outputId": "cedcbd8c-8236-43c3-c5e0-4c21e578f02a"
      },
      "execution_count": null,
      "outputs": [
        {
          "output_type": "execute_result",
          "data": {
            "text/plain": [
              "True"
            ]
          },
          "metadata": {},
          "execution_count": 3
        }
      ]
    },
    {
      "cell_type": "code",
      "source": [
        "import numpy as np"
      ],
      "metadata": {
        "id": "6FmDDiinTZh-"
      },
      "execution_count": 1,
      "outputs": []
    },
    {
      "cell_type": "code",
      "source": [
        "np.__version__"
      ],
      "metadata": {
        "id": "5e-T-OMB_3Hl",
        "colab": {
          "base_uri": "https://localhost:8080/",
          "height": 36
        },
        "outputId": "2aa32eba-7c77-429f-c388-d5ba5e5370c8"
      },
      "execution_count": 3,
      "outputs": [
        {
          "output_type": "execute_result",
          "data": {
            "text/plain": [
              "'1.21.6'"
            ],
            "application/vnd.google.colaboratory.intrinsic+json": {
              "type": "string"
            }
          },
          "metadata": {},
          "execution_count": 3
        }
      ]
    },
    {
      "cell_type": "code",
      "source": [
        "## Creating arrays\n",
        "\n",
        "np.zeros(10)"
      ],
      "metadata": {
        "id": "xTBZJ6Ti_3Eo",
        "colab": {
          "base_uri": "https://localhost:8080/"
        },
        "outputId": "fec68a01-4fc2-422c-a6d8-25b000081447"
      },
      "execution_count": 4,
      "outputs": [
        {
          "output_type": "execute_result",
          "data": {
            "text/plain": [
              "array([0., 0., 0., 0., 0., 0., 0., 0., 0., 0.])"
            ]
          },
          "metadata": {},
          "execution_count": 4
        }
      ]
    },
    {
      "cell_type": "code",
      "source": [
        "np.ones([2,3])"
      ],
      "metadata": {
        "id": "8OSrb6lk_3Bt",
        "colab": {
          "base_uri": "https://localhost:8080/"
        },
        "outputId": "2defca6f-75f3-42ad-ed5a-fdb9951eb7b6"
      },
      "execution_count": 5,
      "outputs": [
        {
          "output_type": "execute_result",
          "data": {
            "text/plain": [
              "array([[1., 1., 1.],\n",
              "       [1., 1., 1.]])"
            ]
          },
          "metadata": {},
          "execution_count": 5
        }
      ]
    },
    {
      "cell_type": "code",
      "source": [
        "np.ones(10)"
      ],
      "metadata": {
        "id": "MERmNSQe_2-7",
        "colab": {
          "base_uri": "https://localhost:8080/"
        },
        "outputId": "ecbcf1ce-90d8-4ac0-ecaa-75d35daa039f"
      },
      "execution_count": 6,
      "outputs": [
        {
          "output_type": "execute_result",
          "data": {
            "text/plain": [
              "array([1., 1., 1., 1., 1., 1., 1., 1., 1., 1.])"
            ]
          },
          "metadata": {},
          "execution_count": 6
        }
      ]
    },
    {
      "cell_type": "code",
      "source": [
        "np.full(10,2.5)"
      ],
      "metadata": {
        "id": "9-reslV6_28U",
        "colab": {
          "base_uri": "https://localhost:8080/"
        },
        "outputId": "0b8eeef2-09c8-4739-98fe-10fbeb265436"
      },
      "execution_count": 7,
      "outputs": [
        {
          "output_type": "execute_result",
          "data": {
            "text/plain": [
              "array([2.5, 2.5, 2.5, 2.5, 2.5, 2.5, 2.5, 2.5, 2.5, 2.5])"
            ]
          },
          "metadata": {},
          "execution_count": 7
        }
      ]
    },
    {
      "cell_type": "code",
      "source": [
        "a = np.array([1,2,3])\n",
        "a"
      ],
      "metadata": {
        "id": "7z9vlcw8_25V",
        "colab": {
          "base_uri": "https://localhost:8080/"
        },
        "outputId": "5130ab25-5414-426e-8214-da877339f17a"
      },
      "execution_count": 9,
      "outputs": [
        {
          "output_type": "execute_result",
          "data": {
            "text/plain": [
              "array([1, 2, 3])"
            ]
          },
          "metadata": {},
          "execution_count": 9
        }
      ]
    },
    {
      "cell_type": "code",
      "source": [
        "a[0],a[1]"
      ],
      "metadata": {
        "colab": {
          "base_uri": "https://localhost:8080/"
        },
        "id": "7thUVmwo7LSf",
        "outputId": "ecd256a0-e196-4cb3-b884-ff642f3061c0"
      },
      "execution_count": 11,
      "outputs": [
        {
          "output_type": "execute_result",
          "data": {
            "text/plain": [
              "(1, 2)"
            ]
          },
          "metadata": {},
          "execution_count": 11
        }
      ]
    },
    {
      "cell_type": "code",
      "source": [
        "for i in a:\n",
        "  print(i)"
      ],
      "metadata": {
        "id": "NylGPEba_22k",
        "colab": {
          "base_uri": "https://localhost:8080/"
        },
        "outputId": "24cc0f95-925b-4fbf-ea98-4622ea05f191"
      },
      "execution_count": 10,
      "outputs": [
        {
          "output_type": "stream",
          "name": "stdout",
          "text": [
            "1\n",
            "2\n",
            "3\n"
          ]
        }
      ]
    },
    {
      "cell_type": "code",
      "source": [
        "np.arange(3,9)"
      ],
      "metadata": {
        "id": "eOVesSXi_2zs",
        "colab": {
          "base_uri": "https://localhost:8080/"
        },
        "outputId": "869254fe-c6b2-4aed-88fc-11a761f4cbd3"
      },
      "execution_count": 12,
      "outputs": [
        {
          "output_type": "execute_result",
          "data": {
            "text/plain": [
              "array([3, 4, 5, 6, 7, 8])"
            ]
          },
          "metadata": {},
          "execution_count": 12
        }
      ]
    },
    {
      "cell_type": "code",
      "source": [
        "np.linspace(10,100,11)"
      ],
      "metadata": {
        "id": "ItjnHwIDTZfm",
        "colab": {
          "base_uri": "https://localhost:8080/"
        },
        "outputId": "91084ecb-583d-4737-aed8-10e9a234fd7f"
      },
      "execution_count": 14,
      "outputs": [
        {
          "output_type": "execute_result",
          "data": {
            "text/plain": [
              "array([ 10.,  19.,  28.,  37.,  46.,  55.,  64.,  73.,  82.,  91., 100.])"
            ]
          },
          "metadata": {},
          "execution_count": 14
        }
      ]
    },
    {
      "cell_type": "code",
      "source": [
        "## Multi-dimensional arrays\n",
        "\n",
        "\n",
        "np.array([[2,3],\n",
        "          [5,6]])"
      ],
      "metadata": {
        "id": "fsGnzxLbTZcu",
        "colab": {
          "base_uri": "https://localhost:8080/"
        },
        "outputId": "b5f086db-98a5-4231-bd09-e3b2aa853ab5"
      },
      "execution_count": 17,
      "outputs": [
        {
          "output_type": "execute_result",
          "data": {
            "text/plain": [
              "array([[2, 3],\n",
              "       [5, 6]])"
            ]
          },
          "metadata": {},
          "execution_count": 17
        }
      ]
    },
    {
      "cell_type": "code",
      "source": [
        "np.zeros((5,2))"
      ],
      "metadata": {
        "id": "vkyekDDTTZaO",
        "colab": {
          "base_uri": "https://localhost:8080/"
        },
        "outputId": "2fb0d9af-48d7-41ef-ff7f-a7eac57e5a5e"
      },
      "execution_count": 18,
      "outputs": [
        {
          "output_type": "execute_result",
          "data": {
            "text/plain": [
              "array([[0., 0.],\n",
              "       [0., 0.],\n",
              "       [0., 0.],\n",
              "       [0., 0.],\n",
              "       [0., 0.]])"
            ]
          },
          "metadata": {},
          "execution_count": 18
        }
      ]
    },
    {
      "cell_type": "code",
      "source": [
        "## 3*3 idemtity matrix\n",
        "\n",
        "a = np.ones((3,3))\n",
        "a"
      ],
      "metadata": {
        "id": "zB0zH7AfTZXm",
        "colab": {
          "base_uri": "https://localhost:8080/"
        },
        "outputId": "46b100d4-a218-4662-8269-3a890d287994"
      },
      "execution_count": 19,
      "outputs": [
        {
          "output_type": "execute_result",
          "data": {
            "text/plain": [
              "array([[1., 1., 1.],\n",
              "       [1., 1., 1.],\n",
              "       [1., 1., 1.]])"
            ]
          },
          "metadata": {},
          "execution_count": 19
        }
      ]
    },
    {
      "cell_type": "code",
      "source": [
        "a[2,1] = 20\n",
        "a"
      ],
      "metadata": {
        "id": "bv5GREeHTZU-",
        "colab": {
          "base_uri": "https://localhost:8080/"
        },
        "outputId": "89b9d33c-644a-40f7-d6b0-dd0622e142d5"
      },
      "execution_count": 22,
      "outputs": [
        {
          "output_type": "execute_result",
          "data": {
            "text/plain": [
              "array([[ 1.,  1.,  1.],\n",
              "       [ 1.,  1.,  1.],\n",
              "       [ 1., 20., 20.]])"
            ]
          },
          "metadata": {},
          "execution_count": 22
        }
      ]
    },
    {
      "cell_type": "code",
      "source": [
        "## random \n",
        "\n",
        "np.random.random(3)"
      ],
      "metadata": {
        "id": "Hv_v-MNGTZSG",
        "colab": {
          "base_uri": "https://localhost:8080/"
        },
        "outputId": "77f58c2f-abde-4c7f-9484-02e8540b9fd8"
      },
      "execution_count": 25,
      "outputs": [
        {
          "output_type": "execute_result",
          "data": {
            "text/plain": [
              "array([0.98120025, 0.44861882, 0.07907128])"
            ]
          },
          "metadata": {},
          "execution_count": 25
        }
      ]
    },
    {
      "cell_type": "code",
      "source": [
        "np.random.randn(3,4)"
      ],
      "metadata": {
        "id": "zIG7j5VzTZPg",
        "colab": {
          "base_uri": "https://localhost:8080/"
        },
        "outputId": "f4b96d1d-8b40-48a9-f926-4a5f7cf96270"
      },
      "execution_count": 26,
      "outputs": [
        {
          "output_type": "execute_result",
          "data": {
            "text/plain": [
              "array([[ 0.72715777, -1.40379975,  1.59461133, -0.23535872],\n",
              "       [-0.06078121,  0.48694336,  0.35423667,  2.37537095],\n",
              "       [-0.38892552, -2.31802557,  0.47374719, -0.19168539]])"
            ]
          },
          "metadata": {},
          "execution_count": 26
        }
      ]
    },
    {
      "cell_type": "code",
      "source": [
        "a.std() , a.mean()"
      ],
      "metadata": {
        "id": "_uUAoruYTZMw",
        "colab": {
          "base_uri": "https://localhost:8080/"
        },
        "outputId": "d1713b40-9992-4956-e6c7-00882d747ed7"
      },
      "execution_count": 31,
      "outputs": [
        {
          "output_type": "execute_result",
          "data": {
            "text/plain": [
              "(7.899054483189432, 5.222222222222222)"
            ]
          },
          "metadata": {},
          "execution_count": 31
        }
      ]
    },
    {
      "cell_type": "code",
      "source": [
        "## Vector operations\n",
        "\n",
        "u = np.array([2,3,4,5])\n",
        "u*2"
      ],
      "metadata": {
        "id": "pOLA5tZbTZKH",
        "colab": {
          "base_uri": "https://localhost:8080/"
        },
        "outputId": "ae516091-80b8-422e-83c1-eead350d19d2"
      },
      "execution_count": 32,
      "outputs": [
        {
          "output_type": "execute_result",
          "data": {
            "text/plain": [
              "array([ 4,  6,  8, 10])"
            ]
          },
          "metadata": {},
          "execution_count": 32
        }
      ]
    },
    {
      "cell_type": "code",
      "source": [
        "v = np.array([1, 0, 0, 2])\n",
        "\n",
        "u + v"
      ],
      "metadata": {
        "colab": {
          "base_uri": "https://localhost:8080/"
        },
        "id": "2LFZIXZv-eZ0",
        "outputId": "c02471b9-c1f5-4bb3-d6eb-da39dfe128cd"
      },
      "execution_count": 33,
      "outputs": [
        {
          "output_type": "execute_result",
          "data": {
            "text/plain": [
              "array([3, 3, 4, 7])"
            ]
          },
          "metadata": {},
          "execution_count": 33
        }
      ]
    },
    {
      "cell_type": "code",
      "source": [
        "u * v"
      ],
      "metadata": {
        "colab": {
          "base_uri": "https://localhost:8080/"
        },
        "id": "-c0KwnXe-iMU",
        "outputId": "148115bc-20fa-4e78-a3ec-c584ccb5254c"
      },
      "execution_count": 34,
      "outputs": [
        {
          "output_type": "execute_result",
          "data": {
            "text/plain": [
              "array([ 2,  0,  0, 10])"
            ]
          },
          "metadata": {},
          "execution_count": 34
        }
      ]
    },
    {
      "cell_type": "code",
      "source": [
        "## Multiplication\n",
        "\n",
        "v.shape[0]"
      ],
      "metadata": {
        "colab": {
          "base_uri": "https://localhost:8080/"
        },
        "id": "sh0xhhAf-n6T",
        "outputId": "a1a8ef7e-26c5-42b5-f161-a7b0ab88654e"
      },
      "execution_count": 37,
      "outputs": [
        {
          "output_type": "execute_result",
          "data": {
            "text/plain": [
              "4"
            ]
          },
          "metadata": {},
          "execution_count": 37
        }
      ]
    },
    {
      "cell_type": "code",
      "source": [
        "def vector_vector_multiplication(u,v):\n",
        "  assert u.shape[0] == v.shape[0]\n",
        "  n = u.shape[0]\n",
        "  r = 0.0\n",
        "  for i in range(n):\n",
        "    r = r + u[i] * v[i]\n",
        "  return r\n",
        "\n",
        "vector_vector_multiplication(u,v)"
      ],
      "metadata": {
        "colab": {
          "base_uri": "https://localhost:8080/"
        },
        "id": "Y97PUD2r-xOE",
        "outputId": "67908b52-197c-481e-c36c-a3854ee902e5"
      },
      "execution_count": 39,
      "outputs": [
        {
          "output_type": "execute_result",
          "data": {
            "text/plain": [
              "12.0"
            ]
          },
          "metadata": {},
          "execution_count": 39
        }
      ]
    },
    {
      "cell_type": "code",
      "source": [
        "u.dot(v)"
      ],
      "metadata": {
        "colab": {
          "base_uri": "https://localhost:8080/"
        },
        "id": "7kfaM8O5_RVE",
        "outputId": "5868afa4-5371-4790-d9f1-53e528288294"
      },
      "execution_count": 40,
      "outputs": [
        {
          "output_type": "execute_result",
          "data": {
            "text/plain": [
              "12"
            ]
          },
          "metadata": {},
          "execution_count": 40
        }
      ]
    },
    {
      "cell_type": "code",
      "source": [
        "U = np.array([\n",
        "    [2, 4, 5, 6],\n",
        "    [1, 2, 1, 2],\n",
        "    [3, 1, 2, 1],\n",
        "])\n",
        "\n",
        "def matrix_vector_multiplication(U, v):\n",
        "    assert U.shape[1] == v.shape[0]\n",
        "    \n",
        "    num_rows = U.shape[0]\n",
        "    \n",
        "    result = np.zeros(num_rows)\n",
        "    \n",
        "    for i in range(num_rows):\n",
        "        result[i] = vector_vector_multiplication(U[i], v)\n",
        "    \n",
        "    return result\n",
        "\n",
        "matrix_vector_multiplication(U,v)\n"
      ],
      "metadata": {
        "colab": {
          "base_uri": "https://localhost:8080/"
        },
        "id": "gGR-Pfd__aQz",
        "outputId": "7563a9d4-a497-4824-ad81-b8a439701083"
      },
      "execution_count": 42,
      "outputs": [
        {
          "output_type": "execute_result",
          "data": {
            "text/plain": [
              "array([14.,  5.,  5.])"
            ]
          },
          "metadata": {},
          "execution_count": 42
        }
      ]
    },
    {
      "cell_type": "markdown",
      "source": [
        "DataFrames"
      ],
      "metadata": {
        "id": "q_tayZWeAObT"
      }
    },
    {
      "cell_type": "code",
      "source": [
        "import pandas as pd\n",
        "\n",
        "\n",
        "data = [\n",
        "    ['Nissan', 'Stanza', 1991, 138, 4, 'MANUAL', 'sedan', 2000],\n",
        "    ['Hyundai', 'Sonata', 2017, None, 4, 'AUTOMATIC', 'Sedan', 27150],\n",
        "    ['Lotus', 'Elise', 2010, 218, 4, 'MANUAL', 'convertible', 54990],\n",
        "    ['GMC', 'Acadia',  2017, 194, 4, 'AUTOMATIC', '4dr SUV', 34450],\n",
        "    ['Nissan', 'Frontier', 2017, 261, 6, 'MANUAL', 'Pickup', 32340],\n",
        "]\n",
        "\n",
        "columns = [\n",
        "    'Make', 'Model', 'Year', 'Engine HP', 'Engine Cylinders',\n",
        "    'Transmission Type', 'Vehicle_Style', 'MSRP'\n",
        "]\n",
        "\n",
        "df = pd.DataFrame(data,columns=columns)\n",
        "df"
      ],
      "metadata": {
        "colab": {
          "base_uri": "https://localhost:8080/",
          "height": 206
        },
        "id": "gWv18Mmu_iXz",
        "outputId": "fa5448ff-971a-4536-9dab-78af226baa05"
      },
      "execution_count": 44,
      "outputs": [
        {
          "output_type": "execute_result",
          "data": {
            "text/plain": [
              "      Make     Model  Year  Engine HP  Engine Cylinders Transmission Type  \\\n",
              "0   Nissan    Stanza  1991      138.0                 4            MANUAL   \n",
              "1  Hyundai    Sonata  2017        NaN                 4         AUTOMATIC   \n",
              "2    Lotus     Elise  2010      218.0                 4            MANUAL   \n",
              "3      GMC    Acadia  2017      194.0                 4         AUTOMATIC   \n",
              "4   Nissan  Frontier  2017      261.0                 6            MANUAL   \n",
              "\n",
              "  Vehicle_Style   MSRP  \n",
              "0         sedan   2000  \n",
              "1         Sedan  27150  \n",
              "2   convertible  54990  \n",
              "3       4dr SUV  34450  \n",
              "4        Pickup  32340  "
            ],
            "text/html": [
              "\n",
              "  <div id=\"df-51598de7-eeb3-4582-96f1-feebfc4c6130\">\n",
              "    <div class=\"colab-df-container\">\n",
              "      <div>\n",
              "<style scoped>\n",
              "    .dataframe tbody tr th:only-of-type {\n",
              "        vertical-align: middle;\n",
              "    }\n",
              "\n",
              "    .dataframe tbody tr th {\n",
              "        vertical-align: top;\n",
              "    }\n",
              "\n",
              "    .dataframe thead th {\n",
              "        text-align: right;\n",
              "    }\n",
              "</style>\n",
              "<table border=\"1\" class=\"dataframe\">\n",
              "  <thead>\n",
              "    <tr style=\"text-align: right;\">\n",
              "      <th></th>\n",
              "      <th>Make</th>\n",
              "      <th>Model</th>\n",
              "      <th>Year</th>\n",
              "      <th>Engine HP</th>\n",
              "      <th>Engine Cylinders</th>\n",
              "      <th>Transmission Type</th>\n",
              "      <th>Vehicle_Style</th>\n",
              "      <th>MSRP</th>\n",
              "    </tr>\n",
              "  </thead>\n",
              "  <tbody>\n",
              "    <tr>\n",
              "      <th>0</th>\n",
              "      <td>Nissan</td>\n",
              "      <td>Stanza</td>\n",
              "      <td>1991</td>\n",
              "      <td>138.0</td>\n",
              "      <td>4</td>\n",
              "      <td>MANUAL</td>\n",
              "      <td>sedan</td>\n",
              "      <td>2000</td>\n",
              "    </tr>\n",
              "    <tr>\n",
              "      <th>1</th>\n",
              "      <td>Hyundai</td>\n",
              "      <td>Sonata</td>\n",
              "      <td>2017</td>\n",
              "      <td>NaN</td>\n",
              "      <td>4</td>\n",
              "      <td>AUTOMATIC</td>\n",
              "      <td>Sedan</td>\n",
              "      <td>27150</td>\n",
              "    </tr>\n",
              "    <tr>\n",
              "      <th>2</th>\n",
              "      <td>Lotus</td>\n",
              "      <td>Elise</td>\n",
              "      <td>2010</td>\n",
              "      <td>218.0</td>\n",
              "      <td>4</td>\n",
              "      <td>MANUAL</td>\n",
              "      <td>convertible</td>\n",
              "      <td>54990</td>\n",
              "    </tr>\n",
              "    <tr>\n",
              "      <th>3</th>\n",
              "      <td>GMC</td>\n",
              "      <td>Acadia</td>\n",
              "      <td>2017</td>\n",
              "      <td>194.0</td>\n",
              "      <td>4</td>\n",
              "      <td>AUTOMATIC</td>\n",
              "      <td>4dr SUV</td>\n",
              "      <td>34450</td>\n",
              "    </tr>\n",
              "    <tr>\n",
              "      <th>4</th>\n",
              "      <td>Nissan</td>\n",
              "      <td>Frontier</td>\n",
              "      <td>2017</td>\n",
              "      <td>261.0</td>\n",
              "      <td>6</td>\n",
              "      <td>MANUAL</td>\n",
              "      <td>Pickup</td>\n",
              "      <td>32340</td>\n",
              "    </tr>\n",
              "  </tbody>\n",
              "</table>\n",
              "</div>\n",
              "      <button class=\"colab-df-convert\" onclick=\"convertToInteractive('df-51598de7-eeb3-4582-96f1-feebfc4c6130')\"\n",
              "              title=\"Convert this dataframe to an interactive table.\"\n",
              "              style=\"display:none;\">\n",
              "        \n",
              "  <svg xmlns=\"http://www.w3.org/2000/svg\" height=\"24px\"viewBox=\"0 0 24 24\"\n",
              "       width=\"24px\">\n",
              "    <path d=\"M0 0h24v24H0V0z\" fill=\"none\"/>\n",
              "    <path d=\"M18.56 5.44l.94 2.06.94-2.06 2.06-.94-2.06-.94-.94-2.06-.94 2.06-2.06.94zm-11 1L8.5 8.5l.94-2.06 2.06-.94-2.06-.94L8.5 2.5l-.94 2.06-2.06.94zm10 10l.94 2.06.94-2.06 2.06-.94-2.06-.94-.94-2.06-.94 2.06-2.06.94z\"/><path d=\"M17.41 7.96l-1.37-1.37c-.4-.4-.92-.59-1.43-.59-.52 0-1.04.2-1.43.59L10.3 9.45l-7.72 7.72c-.78.78-.78 2.05 0 2.83L4 21.41c.39.39.9.59 1.41.59.51 0 1.02-.2 1.41-.59l7.78-7.78 2.81-2.81c.8-.78.8-2.07 0-2.86zM5.41 20L4 18.59l7.72-7.72 1.47 1.35L5.41 20z\"/>\n",
              "  </svg>\n",
              "      </button>\n",
              "      \n",
              "  <style>\n",
              "    .colab-df-container {\n",
              "      display:flex;\n",
              "      flex-wrap:wrap;\n",
              "      gap: 12px;\n",
              "    }\n",
              "\n",
              "    .colab-df-convert {\n",
              "      background-color: #E8F0FE;\n",
              "      border: none;\n",
              "      border-radius: 50%;\n",
              "      cursor: pointer;\n",
              "      display: none;\n",
              "      fill: #1967D2;\n",
              "      height: 32px;\n",
              "      padding: 0 0 0 0;\n",
              "      width: 32px;\n",
              "    }\n",
              "\n",
              "    .colab-df-convert:hover {\n",
              "      background-color: #E2EBFA;\n",
              "      box-shadow: 0px 1px 2px rgba(60, 64, 67, 0.3), 0px 1px 3px 1px rgba(60, 64, 67, 0.15);\n",
              "      fill: #174EA6;\n",
              "    }\n",
              "\n",
              "    [theme=dark] .colab-df-convert {\n",
              "      background-color: #3B4455;\n",
              "      fill: #D2E3FC;\n",
              "    }\n",
              "\n",
              "    [theme=dark] .colab-df-convert:hover {\n",
              "      background-color: #434B5C;\n",
              "      box-shadow: 0px 1px 3px 1px rgba(0, 0, 0, 0.15);\n",
              "      filter: drop-shadow(0px 1px 2px rgba(0, 0, 0, 0.3));\n",
              "      fill: #FFFFFF;\n",
              "    }\n",
              "  </style>\n",
              "\n",
              "      <script>\n",
              "        const buttonEl =\n",
              "          document.querySelector('#df-51598de7-eeb3-4582-96f1-feebfc4c6130 button.colab-df-convert');\n",
              "        buttonEl.style.display =\n",
              "          google.colab.kernel.accessAllowed ? 'block' : 'none';\n",
              "\n",
              "        async function convertToInteractive(key) {\n",
              "          const element = document.querySelector('#df-51598de7-eeb3-4582-96f1-feebfc4c6130');\n",
              "          const dataTable =\n",
              "            await google.colab.kernel.invokeFunction('convertToInteractive',\n",
              "                                                     [key], {});\n",
              "          if (!dataTable) return;\n",
              "\n",
              "          const docLinkHtml = 'Like what you see? Visit the ' +\n",
              "            '<a target=\"_blank\" href=https://colab.research.google.com/notebooks/data_table.ipynb>data table notebook</a>'\n",
              "            + ' to learn more about interactive tables.';\n",
              "          element.innerHTML = '';\n",
              "          dataTable['output_type'] = 'display_data';\n",
              "          await google.colab.output.renderOutput(dataTable, element);\n",
              "          const docLink = document.createElement('div');\n",
              "          docLink.innerHTML = docLinkHtml;\n",
              "          element.appendChild(docLink);\n",
              "        }\n",
              "      </script>\n",
              "    </div>\n",
              "  </div>\n",
              "  "
            ]
          },
          "metadata": {},
          "execution_count": 44
        }
      ]
    },
    {
      "cell_type": "code",
      "source": [
        "data = [\n",
        "    {\n",
        "        \"Make\": \"Nissan\",\n",
        "        \"Model\": \"Stanza\",\n",
        "        \"Year\": 1991,\n",
        "        \"Engine HP\": 138.0,\n",
        "        \"Engine Cylinders\": 4,\n",
        "        \"Transmission Type\": \"MANUAL\",\n",
        "        \"Vehicle_Style\": \"sedan\",\n",
        "        \"MSRP\": 2000\n",
        "    },\n",
        "    {\n",
        "        \"Make\": \"Hyundai\",\n",
        "        \"Model\": \"Sonata\",\n",
        "        \"Year\": 2017,\n",
        "        \"Engine HP\": None,\n",
        "        \"Engine Cylinders\": 4,\n",
        "        \"Transmission Type\": \"AUTOMATIC\",\n",
        "        \"Vehicle_Style\": \"Sedan\",\n",
        "        \"MSRP\": 27150\n",
        "    },\n",
        "    {\n",
        "        \"Make\": \"Lotus\",\n",
        "        \"Model\": \"Elise\",\n",
        "        \"Year\": 2010,\n",
        "        \"Engine HP\": 218.0,\n",
        "        \"Engine Cylinders\": 4,\n",
        "        \"Transmission Type\": \"MANUAL\",\n",
        "        \"Vehicle_Style\": \"convertible\",\n",
        "        \"MSRP\": 54990\n",
        "    },\n",
        "    {\n",
        "        \"Make\": \"GMC\",\n",
        "        \"Model\": \"Acadia\",\n",
        "        \"Year\": 2017,\n",
        "        \"Engine HP\": 194.0,\n",
        "        \"Engine Cylinders\": 4,\n",
        "        \"Transmission Type\": \"AUTOMATIC\",\n",
        "        \"Vehicle_Style\": \"4dr SUV\",\n",
        "        \"MSRP\": 34450\n",
        "    },\n",
        "    {\n",
        "        \"Make\": \"Nissan\",\n",
        "        \"Model\": \"Frontier\",\n",
        "        \"Year\": 2017,\n",
        "        \"Engine HP\": 261.0,\n",
        "        \"Engine Cylinders\": 6,\n",
        "        \"Transmission Type\": \"MANUAL\",\n",
        "        \"Vehicle_Style\": \"Pickup\",\n",
        "        \"MSRP\": 32340\n",
        "    }\n",
        "]\n",
        "\n",
        "df1 = pd.DataFrame(data)\n",
        "df1"
      ],
      "metadata": {
        "colab": {
          "base_uri": "https://localhost:8080/",
          "height": 206
        },
        "id": "NtxGEoe2AM2D",
        "outputId": "757e480d-7012-4f5f-f800-c759dfcff0e3"
      },
      "execution_count": 45,
      "outputs": [
        {
          "output_type": "execute_result",
          "data": {
            "text/plain": [
              "      Make     Model  Year  Engine HP  Engine Cylinders Transmission Type  \\\n",
              "0   Nissan    Stanza  1991      138.0                 4            MANUAL   \n",
              "1  Hyundai    Sonata  2017        NaN                 4         AUTOMATIC   \n",
              "2    Lotus     Elise  2010      218.0                 4            MANUAL   \n",
              "3      GMC    Acadia  2017      194.0                 4         AUTOMATIC   \n",
              "4   Nissan  Frontier  2017      261.0                 6            MANUAL   \n",
              "\n",
              "  Vehicle_Style   MSRP  \n",
              "0         sedan   2000  \n",
              "1         Sedan  27150  \n",
              "2   convertible  54990  \n",
              "3       4dr SUV  34450  \n",
              "4        Pickup  32340  "
            ],
            "text/html": [
              "\n",
              "  <div id=\"df-9e85aff8-3528-4dbe-9f5e-e602abde0848\">\n",
              "    <div class=\"colab-df-container\">\n",
              "      <div>\n",
              "<style scoped>\n",
              "    .dataframe tbody tr th:only-of-type {\n",
              "        vertical-align: middle;\n",
              "    }\n",
              "\n",
              "    .dataframe tbody tr th {\n",
              "        vertical-align: top;\n",
              "    }\n",
              "\n",
              "    .dataframe thead th {\n",
              "        text-align: right;\n",
              "    }\n",
              "</style>\n",
              "<table border=\"1\" class=\"dataframe\">\n",
              "  <thead>\n",
              "    <tr style=\"text-align: right;\">\n",
              "      <th></th>\n",
              "      <th>Make</th>\n",
              "      <th>Model</th>\n",
              "      <th>Year</th>\n",
              "      <th>Engine HP</th>\n",
              "      <th>Engine Cylinders</th>\n",
              "      <th>Transmission Type</th>\n",
              "      <th>Vehicle_Style</th>\n",
              "      <th>MSRP</th>\n",
              "    </tr>\n",
              "  </thead>\n",
              "  <tbody>\n",
              "    <tr>\n",
              "      <th>0</th>\n",
              "      <td>Nissan</td>\n",
              "      <td>Stanza</td>\n",
              "      <td>1991</td>\n",
              "      <td>138.0</td>\n",
              "      <td>4</td>\n",
              "      <td>MANUAL</td>\n",
              "      <td>sedan</td>\n",
              "      <td>2000</td>\n",
              "    </tr>\n",
              "    <tr>\n",
              "      <th>1</th>\n",
              "      <td>Hyundai</td>\n",
              "      <td>Sonata</td>\n",
              "      <td>2017</td>\n",
              "      <td>NaN</td>\n",
              "      <td>4</td>\n",
              "      <td>AUTOMATIC</td>\n",
              "      <td>Sedan</td>\n",
              "      <td>27150</td>\n",
              "    </tr>\n",
              "    <tr>\n",
              "      <th>2</th>\n",
              "      <td>Lotus</td>\n",
              "      <td>Elise</td>\n",
              "      <td>2010</td>\n",
              "      <td>218.0</td>\n",
              "      <td>4</td>\n",
              "      <td>MANUAL</td>\n",
              "      <td>convertible</td>\n",
              "      <td>54990</td>\n",
              "    </tr>\n",
              "    <tr>\n",
              "      <th>3</th>\n",
              "      <td>GMC</td>\n",
              "      <td>Acadia</td>\n",
              "      <td>2017</td>\n",
              "      <td>194.0</td>\n",
              "      <td>4</td>\n",
              "      <td>AUTOMATIC</td>\n",
              "      <td>4dr SUV</td>\n",
              "      <td>34450</td>\n",
              "    </tr>\n",
              "    <tr>\n",
              "      <th>4</th>\n",
              "      <td>Nissan</td>\n",
              "      <td>Frontier</td>\n",
              "      <td>2017</td>\n",
              "      <td>261.0</td>\n",
              "      <td>6</td>\n",
              "      <td>MANUAL</td>\n",
              "      <td>Pickup</td>\n",
              "      <td>32340</td>\n",
              "    </tr>\n",
              "  </tbody>\n",
              "</table>\n",
              "</div>\n",
              "      <button class=\"colab-df-convert\" onclick=\"convertToInteractive('df-9e85aff8-3528-4dbe-9f5e-e602abde0848')\"\n",
              "              title=\"Convert this dataframe to an interactive table.\"\n",
              "              style=\"display:none;\">\n",
              "        \n",
              "  <svg xmlns=\"http://www.w3.org/2000/svg\" height=\"24px\"viewBox=\"0 0 24 24\"\n",
              "       width=\"24px\">\n",
              "    <path d=\"M0 0h24v24H0V0z\" fill=\"none\"/>\n",
              "    <path d=\"M18.56 5.44l.94 2.06.94-2.06 2.06-.94-2.06-.94-.94-2.06-.94 2.06-2.06.94zm-11 1L8.5 8.5l.94-2.06 2.06-.94-2.06-.94L8.5 2.5l-.94 2.06-2.06.94zm10 10l.94 2.06.94-2.06 2.06-.94-2.06-.94-.94-2.06-.94 2.06-2.06.94z\"/><path d=\"M17.41 7.96l-1.37-1.37c-.4-.4-.92-.59-1.43-.59-.52 0-1.04.2-1.43.59L10.3 9.45l-7.72 7.72c-.78.78-.78 2.05 0 2.83L4 21.41c.39.39.9.59 1.41.59.51 0 1.02-.2 1.41-.59l7.78-7.78 2.81-2.81c.8-.78.8-2.07 0-2.86zM5.41 20L4 18.59l7.72-7.72 1.47 1.35L5.41 20z\"/>\n",
              "  </svg>\n",
              "      </button>\n",
              "      \n",
              "  <style>\n",
              "    .colab-df-container {\n",
              "      display:flex;\n",
              "      flex-wrap:wrap;\n",
              "      gap: 12px;\n",
              "    }\n",
              "\n",
              "    .colab-df-convert {\n",
              "      background-color: #E8F0FE;\n",
              "      border: none;\n",
              "      border-radius: 50%;\n",
              "      cursor: pointer;\n",
              "      display: none;\n",
              "      fill: #1967D2;\n",
              "      height: 32px;\n",
              "      padding: 0 0 0 0;\n",
              "      width: 32px;\n",
              "    }\n",
              "\n",
              "    .colab-df-convert:hover {\n",
              "      background-color: #E2EBFA;\n",
              "      box-shadow: 0px 1px 2px rgba(60, 64, 67, 0.3), 0px 1px 3px 1px rgba(60, 64, 67, 0.15);\n",
              "      fill: #174EA6;\n",
              "    }\n",
              "\n",
              "    [theme=dark] .colab-df-convert {\n",
              "      background-color: #3B4455;\n",
              "      fill: #D2E3FC;\n",
              "    }\n",
              "\n",
              "    [theme=dark] .colab-df-convert:hover {\n",
              "      background-color: #434B5C;\n",
              "      box-shadow: 0px 1px 3px 1px rgba(0, 0, 0, 0.15);\n",
              "      filter: drop-shadow(0px 1px 2px rgba(0, 0, 0, 0.3));\n",
              "      fill: #FFFFFF;\n",
              "    }\n",
              "  </style>\n",
              "\n",
              "      <script>\n",
              "        const buttonEl =\n",
              "          document.querySelector('#df-9e85aff8-3528-4dbe-9f5e-e602abde0848 button.colab-df-convert');\n",
              "        buttonEl.style.display =\n",
              "          google.colab.kernel.accessAllowed ? 'block' : 'none';\n",
              "\n",
              "        async function convertToInteractive(key) {\n",
              "          const element = document.querySelector('#df-9e85aff8-3528-4dbe-9f5e-e602abde0848');\n",
              "          const dataTable =\n",
              "            await google.colab.kernel.invokeFunction('convertToInteractive',\n",
              "                                                     [key], {});\n",
              "          if (!dataTable) return;\n",
              "\n",
              "          const docLinkHtml = 'Like what you see? Visit the ' +\n",
              "            '<a target=\"_blank\" href=https://colab.research.google.com/notebooks/data_table.ipynb>data table notebook</a>'\n",
              "            + ' to learn more about interactive tables.';\n",
              "          element.innerHTML = '';\n",
              "          dataTable['output_type'] = 'display_data';\n",
              "          await google.colab.output.renderOutput(dataTable, element);\n",
              "          const docLink = document.createElement('div');\n",
              "          docLink.innerHTML = docLinkHtml;\n",
              "          element.appendChild(docLink);\n",
              "        }\n",
              "      </script>\n",
              "    </div>\n",
              "  </div>\n",
              "  "
            ]
          },
          "metadata": {},
          "execution_count": 45
        }
      ]
    },
    {
      "cell_type": "code",
      "source": [
        "df[['Make','Model','Year']]"
      ],
      "metadata": {
        "colab": {
          "base_uri": "https://localhost:8080/",
          "height": 206
        },
        "id": "gBjPpQFKAtai",
        "outputId": "f9a97a51-e1fd-4b8c-f849-27cc64782cee"
      },
      "execution_count": 46,
      "outputs": [
        {
          "output_type": "execute_result",
          "data": {
            "text/plain": [
              "      Make     Model  Year\n",
              "0   Nissan    Stanza  1991\n",
              "1  Hyundai    Sonata  2017\n",
              "2    Lotus     Elise  2010\n",
              "3      GMC    Acadia  2017\n",
              "4   Nissan  Frontier  2017"
            ],
            "text/html": [
              "\n",
              "  <div id=\"df-40b5acce-e733-48e3-894c-73ba300affd2\">\n",
              "    <div class=\"colab-df-container\">\n",
              "      <div>\n",
              "<style scoped>\n",
              "    .dataframe tbody tr th:only-of-type {\n",
              "        vertical-align: middle;\n",
              "    }\n",
              "\n",
              "    .dataframe tbody tr th {\n",
              "        vertical-align: top;\n",
              "    }\n",
              "\n",
              "    .dataframe thead th {\n",
              "        text-align: right;\n",
              "    }\n",
              "</style>\n",
              "<table border=\"1\" class=\"dataframe\">\n",
              "  <thead>\n",
              "    <tr style=\"text-align: right;\">\n",
              "      <th></th>\n",
              "      <th>Make</th>\n",
              "      <th>Model</th>\n",
              "      <th>Year</th>\n",
              "    </tr>\n",
              "  </thead>\n",
              "  <tbody>\n",
              "    <tr>\n",
              "      <th>0</th>\n",
              "      <td>Nissan</td>\n",
              "      <td>Stanza</td>\n",
              "      <td>1991</td>\n",
              "    </tr>\n",
              "    <tr>\n",
              "      <th>1</th>\n",
              "      <td>Hyundai</td>\n",
              "      <td>Sonata</td>\n",
              "      <td>2017</td>\n",
              "    </tr>\n",
              "    <tr>\n",
              "      <th>2</th>\n",
              "      <td>Lotus</td>\n",
              "      <td>Elise</td>\n",
              "      <td>2010</td>\n",
              "    </tr>\n",
              "    <tr>\n",
              "      <th>3</th>\n",
              "      <td>GMC</td>\n",
              "      <td>Acadia</td>\n",
              "      <td>2017</td>\n",
              "    </tr>\n",
              "    <tr>\n",
              "      <th>4</th>\n",
              "      <td>Nissan</td>\n",
              "      <td>Frontier</td>\n",
              "      <td>2017</td>\n",
              "    </tr>\n",
              "  </tbody>\n",
              "</table>\n",
              "</div>\n",
              "      <button class=\"colab-df-convert\" onclick=\"convertToInteractive('df-40b5acce-e733-48e3-894c-73ba300affd2')\"\n",
              "              title=\"Convert this dataframe to an interactive table.\"\n",
              "              style=\"display:none;\">\n",
              "        \n",
              "  <svg xmlns=\"http://www.w3.org/2000/svg\" height=\"24px\"viewBox=\"0 0 24 24\"\n",
              "       width=\"24px\">\n",
              "    <path d=\"M0 0h24v24H0V0z\" fill=\"none\"/>\n",
              "    <path d=\"M18.56 5.44l.94 2.06.94-2.06 2.06-.94-2.06-.94-.94-2.06-.94 2.06-2.06.94zm-11 1L8.5 8.5l.94-2.06 2.06-.94-2.06-.94L8.5 2.5l-.94 2.06-2.06.94zm10 10l.94 2.06.94-2.06 2.06-.94-2.06-.94-.94-2.06-.94 2.06-2.06.94z\"/><path d=\"M17.41 7.96l-1.37-1.37c-.4-.4-.92-.59-1.43-.59-.52 0-1.04.2-1.43.59L10.3 9.45l-7.72 7.72c-.78.78-.78 2.05 0 2.83L4 21.41c.39.39.9.59 1.41.59.51 0 1.02-.2 1.41-.59l7.78-7.78 2.81-2.81c.8-.78.8-2.07 0-2.86zM5.41 20L4 18.59l7.72-7.72 1.47 1.35L5.41 20z\"/>\n",
              "  </svg>\n",
              "      </button>\n",
              "      \n",
              "  <style>\n",
              "    .colab-df-container {\n",
              "      display:flex;\n",
              "      flex-wrap:wrap;\n",
              "      gap: 12px;\n",
              "    }\n",
              "\n",
              "    .colab-df-convert {\n",
              "      background-color: #E8F0FE;\n",
              "      border: none;\n",
              "      border-radius: 50%;\n",
              "      cursor: pointer;\n",
              "      display: none;\n",
              "      fill: #1967D2;\n",
              "      height: 32px;\n",
              "      padding: 0 0 0 0;\n",
              "      width: 32px;\n",
              "    }\n",
              "\n",
              "    .colab-df-convert:hover {\n",
              "      background-color: #E2EBFA;\n",
              "      box-shadow: 0px 1px 2px rgba(60, 64, 67, 0.3), 0px 1px 3px 1px rgba(60, 64, 67, 0.15);\n",
              "      fill: #174EA6;\n",
              "    }\n",
              "\n",
              "    [theme=dark] .colab-df-convert {\n",
              "      background-color: #3B4455;\n",
              "      fill: #D2E3FC;\n",
              "    }\n",
              "\n",
              "    [theme=dark] .colab-df-convert:hover {\n",
              "      background-color: #434B5C;\n",
              "      box-shadow: 0px 1px 3px 1px rgba(0, 0, 0, 0.15);\n",
              "      filter: drop-shadow(0px 1px 2px rgba(0, 0, 0, 0.3));\n",
              "      fill: #FFFFFF;\n",
              "    }\n",
              "  </style>\n",
              "\n",
              "      <script>\n",
              "        const buttonEl =\n",
              "          document.querySelector('#df-40b5acce-e733-48e3-894c-73ba300affd2 button.colab-df-convert');\n",
              "        buttonEl.style.display =\n",
              "          google.colab.kernel.accessAllowed ? 'block' : 'none';\n",
              "\n",
              "        async function convertToInteractive(key) {\n",
              "          const element = document.querySelector('#df-40b5acce-e733-48e3-894c-73ba300affd2');\n",
              "          const dataTable =\n",
              "            await google.colab.kernel.invokeFunction('convertToInteractive',\n",
              "                                                     [key], {});\n",
              "          if (!dataTable) return;\n",
              "\n",
              "          const docLinkHtml = 'Like what you see? Visit the ' +\n",
              "            '<a target=\"_blank\" href=https://colab.research.google.com/notebooks/data_table.ipynb>data table notebook</a>'\n",
              "            + ' to learn more about interactive tables.';\n",
              "          element.innerHTML = '';\n",
              "          dataTable['output_type'] = 'display_data';\n",
              "          await google.colab.output.renderOutput(dataTable, element);\n",
              "          const docLink = document.createElement('div');\n",
              "          docLink.innerHTML = docLinkHtml;\n",
              "          element.appendChild(docLink);\n",
              "        }\n",
              "      </script>\n",
              "    </div>\n",
              "  </div>\n",
              "  "
            ]
          },
          "metadata": {},
          "execution_count": 46
        }
      ]
    },
    {
      "cell_type": "code",
      "source": [
        "df.index = ['a','b','c','d','e']\n",
        "df"
      ],
      "metadata": {
        "colab": {
          "base_uri": "https://localhost:8080/",
          "height": 206
        },
        "id": "xoGqbHMgA8Yi",
        "outputId": "e3894af9-513e-4cc9-c247-3968b4f2f7fe"
      },
      "execution_count": 47,
      "outputs": [
        {
          "output_type": "execute_result",
          "data": {
            "text/plain": [
              "      Make     Model  Year  Engine HP  Engine Cylinders Transmission Type  \\\n",
              "a   Nissan    Stanza  1991      138.0                 4            MANUAL   \n",
              "b  Hyundai    Sonata  2017        NaN                 4         AUTOMATIC   \n",
              "c    Lotus     Elise  2010      218.0                 4            MANUAL   \n",
              "d      GMC    Acadia  2017      194.0                 4         AUTOMATIC   \n",
              "e   Nissan  Frontier  2017      261.0                 6            MANUAL   \n",
              "\n",
              "  Vehicle_Style   MSRP  \n",
              "a         sedan   2000  \n",
              "b         Sedan  27150  \n",
              "c   convertible  54990  \n",
              "d       4dr SUV  34450  \n",
              "e        Pickup  32340  "
            ],
            "text/html": [
              "\n",
              "  <div id=\"df-799939fd-3423-4b94-85bc-cabd6a2734b0\">\n",
              "    <div class=\"colab-df-container\">\n",
              "      <div>\n",
              "<style scoped>\n",
              "    .dataframe tbody tr th:only-of-type {\n",
              "        vertical-align: middle;\n",
              "    }\n",
              "\n",
              "    .dataframe tbody tr th {\n",
              "        vertical-align: top;\n",
              "    }\n",
              "\n",
              "    .dataframe thead th {\n",
              "        text-align: right;\n",
              "    }\n",
              "</style>\n",
              "<table border=\"1\" class=\"dataframe\">\n",
              "  <thead>\n",
              "    <tr style=\"text-align: right;\">\n",
              "      <th></th>\n",
              "      <th>Make</th>\n",
              "      <th>Model</th>\n",
              "      <th>Year</th>\n",
              "      <th>Engine HP</th>\n",
              "      <th>Engine Cylinders</th>\n",
              "      <th>Transmission Type</th>\n",
              "      <th>Vehicle_Style</th>\n",
              "      <th>MSRP</th>\n",
              "    </tr>\n",
              "  </thead>\n",
              "  <tbody>\n",
              "    <tr>\n",
              "      <th>a</th>\n",
              "      <td>Nissan</td>\n",
              "      <td>Stanza</td>\n",
              "      <td>1991</td>\n",
              "      <td>138.0</td>\n",
              "      <td>4</td>\n",
              "      <td>MANUAL</td>\n",
              "      <td>sedan</td>\n",
              "      <td>2000</td>\n",
              "    </tr>\n",
              "    <tr>\n",
              "      <th>b</th>\n",
              "      <td>Hyundai</td>\n",
              "      <td>Sonata</td>\n",
              "      <td>2017</td>\n",
              "      <td>NaN</td>\n",
              "      <td>4</td>\n",
              "      <td>AUTOMATIC</td>\n",
              "      <td>Sedan</td>\n",
              "      <td>27150</td>\n",
              "    </tr>\n",
              "    <tr>\n",
              "      <th>c</th>\n",
              "      <td>Lotus</td>\n",
              "      <td>Elise</td>\n",
              "      <td>2010</td>\n",
              "      <td>218.0</td>\n",
              "      <td>4</td>\n",
              "      <td>MANUAL</td>\n",
              "      <td>convertible</td>\n",
              "      <td>54990</td>\n",
              "    </tr>\n",
              "    <tr>\n",
              "      <th>d</th>\n",
              "      <td>GMC</td>\n",
              "      <td>Acadia</td>\n",
              "      <td>2017</td>\n",
              "      <td>194.0</td>\n",
              "      <td>4</td>\n",
              "      <td>AUTOMATIC</td>\n",
              "      <td>4dr SUV</td>\n",
              "      <td>34450</td>\n",
              "    </tr>\n",
              "    <tr>\n",
              "      <th>e</th>\n",
              "      <td>Nissan</td>\n",
              "      <td>Frontier</td>\n",
              "      <td>2017</td>\n",
              "      <td>261.0</td>\n",
              "      <td>6</td>\n",
              "      <td>MANUAL</td>\n",
              "      <td>Pickup</td>\n",
              "      <td>32340</td>\n",
              "    </tr>\n",
              "  </tbody>\n",
              "</table>\n",
              "</div>\n",
              "      <button class=\"colab-df-convert\" onclick=\"convertToInteractive('df-799939fd-3423-4b94-85bc-cabd6a2734b0')\"\n",
              "              title=\"Convert this dataframe to an interactive table.\"\n",
              "              style=\"display:none;\">\n",
              "        \n",
              "  <svg xmlns=\"http://www.w3.org/2000/svg\" height=\"24px\"viewBox=\"0 0 24 24\"\n",
              "       width=\"24px\">\n",
              "    <path d=\"M0 0h24v24H0V0z\" fill=\"none\"/>\n",
              "    <path d=\"M18.56 5.44l.94 2.06.94-2.06 2.06-.94-2.06-.94-.94-2.06-.94 2.06-2.06.94zm-11 1L8.5 8.5l.94-2.06 2.06-.94-2.06-.94L8.5 2.5l-.94 2.06-2.06.94zm10 10l.94 2.06.94-2.06 2.06-.94-2.06-.94-.94-2.06-.94 2.06-2.06.94z\"/><path d=\"M17.41 7.96l-1.37-1.37c-.4-.4-.92-.59-1.43-.59-.52 0-1.04.2-1.43.59L10.3 9.45l-7.72 7.72c-.78.78-.78 2.05 0 2.83L4 21.41c.39.39.9.59 1.41.59.51 0 1.02-.2 1.41-.59l7.78-7.78 2.81-2.81c.8-.78.8-2.07 0-2.86zM5.41 20L4 18.59l7.72-7.72 1.47 1.35L5.41 20z\"/>\n",
              "  </svg>\n",
              "      </button>\n",
              "      \n",
              "  <style>\n",
              "    .colab-df-container {\n",
              "      display:flex;\n",
              "      flex-wrap:wrap;\n",
              "      gap: 12px;\n",
              "    }\n",
              "\n",
              "    .colab-df-convert {\n",
              "      background-color: #E8F0FE;\n",
              "      border: none;\n",
              "      border-radius: 50%;\n",
              "      cursor: pointer;\n",
              "      display: none;\n",
              "      fill: #1967D2;\n",
              "      height: 32px;\n",
              "      padding: 0 0 0 0;\n",
              "      width: 32px;\n",
              "    }\n",
              "\n",
              "    .colab-df-convert:hover {\n",
              "      background-color: #E2EBFA;\n",
              "      box-shadow: 0px 1px 2px rgba(60, 64, 67, 0.3), 0px 1px 3px 1px rgba(60, 64, 67, 0.15);\n",
              "      fill: #174EA6;\n",
              "    }\n",
              "\n",
              "    [theme=dark] .colab-df-convert {\n",
              "      background-color: #3B4455;\n",
              "      fill: #D2E3FC;\n",
              "    }\n",
              "\n",
              "    [theme=dark] .colab-df-convert:hover {\n",
              "      background-color: #434B5C;\n",
              "      box-shadow: 0px 1px 3px 1px rgba(0, 0, 0, 0.15);\n",
              "      filter: drop-shadow(0px 1px 2px rgba(0, 0, 0, 0.3));\n",
              "      fill: #FFFFFF;\n",
              "    }\n",
              "  </style>\n",
              "\n",
              "      <script>\n",
              "        const buttonEl =\n",
              "          document.querySelector('#df-799939fd-3423-4b94-85bc-cabd6a2734b0 button.colab-df-convert');\n",
              "        buttonEl.style.display =\n",
              "          google.colab.kernel.accessAllowed ? 'block' : 'none';\n",
              "\n",
              "        async function convertToInteractive(key) {\n",
              "          const element = document.querySelector('#df-799939fd-3423-4b94-85bc-cabd6a2734b0');\n",
              "          const dataTable =\n",
              "            await google.colab.kernel.invokeFunction('convertToInteractive',\n",
              "                                                     [key], {});\n",
              "          if (!dataTable) return;\n",
              "\n",
              "          const docLinkHtml = 'Like what you see? Visit the ' +\n",
              "            '<a target=\"_blank\" href=https://colab.research.google.com/notebooks/data_table.ipynb>data table notebook</a>'\n",
              "            + ' to learn more about interactive tables.';\n",
              "          element.innerHTML = '';\n",
              "          dataTable['output_type'] = 'display_data';\n",
              "          await google.colab.output.renderOutput(dataTable, element);\n",
              "          const docLink = document.createElement('div');\n",
              "          docLink.innerHTML = docLinkHtml;\n",
              "          element.appendChild(docLink);\n",
              "        }\n",
              "      </script>\n",
              "    </div>\n",
              "  </div>\n",
              "  "
            ]
          },
          "metadata": {},
          "execution_count": 47
        }
      ]
    },
    {
      "cell_type": "code",
      "source": [
        "## accessinf only column \n",
        "\n",
        "\n",
        "df.iloc[[1,2,4]][['Model','Year']]"
      ],
      "metadata": {
        "colab": {
          "base_uri": "https://localhost:8080/",
          "height": 144
        },
        "id": "Tf8GsG95BMoB",
        "outputId": "d019dcd6-2bf6-4553-d4e3-063d8a91eb30"
      },
      "execution_count": 52,
      "outputs": [
        {
          "output_type": "execute_result",
          "data": {
            "text/plain": [
              "      Model  Year\n",
              "b    Sonata  2017\n",
              "c     Elise  2010\n",
              "e  Frontier  2017"
            ],
            "text/html": [
              "\n",
              "  <div id=\"df-45e7cb3b-f533-4f21-838b-bf2e9e486b9e\">\n",
              "    <div class=\"colab-df-container\">\n",
              "      <div>\n",
              "<style scoped>\n",
              "    .dataframe tbody tr th:only-of-type {\n",
              "        vertical-align: middle;\n",
              "    }\n",
              "\n",
              "    .dataframe tbody tr th {\n",
              "        vertical-align: top;\n",
              "    }\n",
              "\n",
              "    .dataframe thead th {\n",
              "        text-align: right;\n",
              "    }\n",
              "</style>\n",
              "<table border=\"1\" class=\"dataframe\">\n",
              "  <thead>\n",
              "    <tr style=\"text-align: right;\">\n",
              "      <th></th>\n",
              "      <th>Model</th>\n",
              "      <th>Year</th>\n",
              "    </tr>\n",
              "  </thead>\n",
              "  <tbody>\n",
              "    <tr>\n",
              "      <th>b</th>\n",
              "      <td>Sonata</td>\n",
              "      <td>2017</td>\n",
              "    </tr>\n",
              "    <tr>\n",
              "      <th>c</th>\n",
              "      <td>Elise</td>\n",
              "      <td>2010</td>\n",
              "    </tr>\n",
              "    <tr>\n",
              "      <th>e</th>\n",
              "      <td>Frontier</td>\n",
              "      <td>2017</td>\n",
              "    </tr>\n",
              "  </tbody>\n",
              "</table>\n",
              "</div>\n",
              "      <button class=\"colab-df-convert\" onclick=\"convertToInteractive('df-45e7cb3b-f533-4f21-838b-bf2e9e486b9e')\"\n",
              "              title=\"Convert this dataframe to an interactive table.\"\n",
              "              style=\"display:none;\">\n",
              "        \n",
              "  <svg xmlns=\"http://www.w3.org/2000/svg\" height=\"24px\"viewBox=\"0 0 24 24\"\n",
              "       width=\"24px\">\n",
              "    <path d=\"M0 0h24v24H0V0z\" fill=\"none\"/>\n",
              "    <path d=\"M18.56 5.44l.94 2.06.94-2.06 2.06-.94-2.06-.94-.94-2.06-.94 2.06-2.06.94zm-11 1L8.5 8.5l.94-2.06 2.06-.94-2.06-.94L8.5 2.5l-.94 2.06-2.06.94zm10 10l.94 2.06.94-2.06 2.06-.94-2.06-.94-.94-2.06-.94 2.06-2.06.94z\"/><path d=\"M17.41 7.96l-1.37-1.37c-.4-.4-.92-.59-1.43-.59-.52 0-1.04.2-1.43.59L10.3 9.45l-7.72 7.72c-.78.78-.78 2.05 0 2.83L4 21.41c.39.39.9.59 1.41.59.51 0 1.02-.2 1.41-.59l7.78-7.78 2.81-2.81c.8-.78.8-2.07 0-2.86zM5.41 20L4 18.59l7.72-7.72 1.47 1.35L5.41 20z\"/>\n",
              "  </svg>\n",
              "      </button>\n",
              "      \n",
              "  <style>\n",
              "    .colab-df-container {\n",
              "      display:flex;\n",
              "      flex-wrap:wrap;\n",
              "      gap: 12px;\n",
              "    }\n",
              "\n",
              "    .colab-df-convert {\n",
              "      background-color: #E8F0FE;\n",
              "      border: none;\n",
              "      border-radius: 50%;\n",
              "      cursor: pointer;\n",
              "      display: none;\n",
              "      fill: #1967D2;\n",
              "      height: 32px;\n",
              "      padding: 0 0 0 0;\n",
              "      width: 32px;\n",
              "    }\n",
              "\n",
              "    .colab-df-convert:hover {\n",
              "      background-color: #E2EBFA;\n",
              "      box-shadow: 0px 1px 2px rgba(60, 64, 67, 0.3), 0px 1px 3px 1px rgba(60, 64, 67, 0.15);\n",
              "      fill: #174EA6;\n",
              "    }\n",
              "\n",
              "    [theme=dark] .colab-df-convert {\n",
              "      background-color: #3B4455;\n",
              "      fill: #D2E3FC;\n",
              "    }\n",
              "\n",
              "    [theme=dark] .colab-df-convert:hover {\n",
              "      background-color: #434B5C;\n",
              "      box-shadow: 0px 1px 3px 1px rgba(0, 0, 0, 0.15);\n",
              "      filter: drop-shadow(0px 1px 2px rgba(0, 0, 0, 0.3));\n",
              "      fill: #FFFFFF;\n",
              "    }\n",
              "  </style>\n",
              "\n",
              "      <script>\n",
              "        const buttonEl =\n",
              "          document.querySelector('#df-45e7cb3b-f533-4f21-838b-bf2e9e486b9e button.colab-df-convert');\n",
              "        buttonEl.style.display =\n",
              "          google.colab.kernel.accessAllowed ? 'block' : 'none';\n",
              "\n",
              "        async function convertToInteractive(key) {\n",
              "          const element = document.querySelector('#df-45e7cb3b-f533-4f21-838b-bf2e9e486b9e');\n",
              "          const dataTable =\n",
              "            await google.colab.kernel.invokeFunction('convertToInteractive',\n",
              "                                                     [key], {});\n",
              "          if (!dataTable) return;\n",
              "\n",
              "          const docLinkHtml = 'Like what you see? Visit the ' +\n",
              "            '<a target=\"_blank\" href=https://colab.research.google.com/notebooks/data_table.ipynb>data table notebook</a>'\n",
              "            + ' to learn more about interactive tables.';\n",
              "          element.innerHTML = '';\n",
              "          dataTable['output_type'] = 'display_data';\n",
              "          await google.colab.output.renderOutput(dataTable, element);\n",
              "          const docLink = document.createElement('div');\n",
              "          docLink.innerHTML = docLinkHtml;\n",
              "          element.appendChild(docLink);\n",
              "        }\n",
              "      </script>\n",
              "    </div>\n",
              "  </div>\n",
              "  "
            ]
          },
          "metadata": {},
          "execution_count": 52
        }
      ]
    },
    {
      "cell_type": "code",
      "source": [
        "## Filtering\n",
        "\n",
        "df[df['Model'] == 'Acadia']"
      ],
      "metadata": {
        "colab": {
          "base_uri": "https://localhost:8080/",
          "height": 81
        },
        "id": "m91fhhvYBWoC",
        "outputId": "dd2d83a3-7def-4e0c-f0da-b68c1ac47037"
      },
      "execution_count": 54,
      "outputs": [
        {
          "output_type": "execute_result",
          "data": {
            "text/plain": [
              "  Make   Model  Year  Engine HP  Engine Cylinders Transmission Type  \\\n",
              "d  GMC  Acadia  2017      194.0                 4         AUTOMATIC   \n",
              "\n",
              "  Vehicle_Style   MSRP  \n",
              "d       4dr SUV  34450  "
            ],
            "text/html": [
              "\n",
              "  <div id=\"df-34b961ac-1286-49d4-be93-c1cdee892f0f\">\n",
              "    <div class=\"colab-df-container\">\n",
              "      <div>\n",
              "<style scoped>\n",
              "    .dataframe tbody tr th:only-of-type {\n",
              "        vertical-align: middle;\n",
              "    }\n",
              "\n",
              "    .dataframe tbody tr th {\n",
              "        vertical-align: top;\n",
              "    }\n",
              "\n",
              "    .dataframe thead th {\n",
              "        text-align: right;\n",
              "    }\n",
              "</style>\n",
              "<table border=\"1\" class=\"dataframe\">\n",
              "  <thead>\n",
              "    <tr style=\"text-align: right;\">\n",
              "      <th></th>\n",
              "      <th>Make</th>\n",
              "      <th>Model</th>\n",
              "      <th>Year</th>\n",
              "      <th>Engine HP</th>\n",
              "      <th>Engine Cylinders</th>\n",
              "      <th>Transmission Type</th>\n",
              "      <th>Vehicle_Style</th>\n",
              "      <th>MSRP</th>\n",
              "    </tr>\n",
              "  </thead>\n",
              "  <tbody>\n",
              "    <tr>\n",
              "      <th>d</th>\n",
              "      <td>GMC</td>\n",
              "      <td>Acadia</td>\n",
              "      <td>2017</td>\n",
              "      <td>194.0</td>\n",
              "      <td>4</td>\n",
              "      <td>AUTOMATIC</td>\n",
              "      <td>4dr SUV</td>\n",
              "      <td>34450</td>\n",
              "    </tr>\n",
              "  </tbody>\n",
              "</table>\n",
              "</div>\n",
              "      <button class=\"colab-df-convert\" onclick=\"convertToInteractive('df-34b961ac-1286-49d4-be93-c1cdee892f0f')\"\n",
              "              title=\"Convert this dataframe to an interactive table.\"\n",
              "              style=\"display:none;\">\n",
              "        \n",
              "  <svg xmlns=\"http://www.w3.org/2000/svg\" height=\"24px\"viewBox=\"0 0 24 24\"\n",
              "       width=\"24px\">\n",
              "    <path d=\"M0 0h24v24H0V0z\" fill=\"none\"/>\n",
              "    <path d=\"M18.56 5.44l.94 2.06.94-2.06 2.06-.94-2.06-.94-.94-2.06-.94 2.06-2.06.94zm-11 1L8.5 8.5l.94-2.06 2.06-.94-2.06-.94L8.5 2.5l-.94 2.06-2.06.94zm10 10l.94 2.06.94-2.06 2.06-.94-2.06-.94-.94-2.06-.94 2.06-2.06.94z\"/><path d=\"M17.41 7.96l-1.37-1.37c-.4-.4-.92-.59-1.43-.59-.52 0-1.04.2-1.43.59L10.3 9.45l-7.72 7.72c-.78.78-.78 2.05 0 2.83L4 21.41c.39.39.9.59 1.41.59.51 0 1.02-.2 1.41-.59l7.78-7.78 2.81-2.81c.8-.78.8-2.07 0-2.86zM5.41 20L4 18.59l7.72-7.72 1.47 1.35L5.41 20z\"/>\n",
              "  </svg>\n",
              "      </button>\n",
              "      \n",
              "  <style>\n",
              "    .colab-df-container {\n",
              "      display:flex;\n",
              "      flex-wrap:wrap;\n",
              "      gap: 12px;\n",
              "    }\n",
              "\n",
              "    .colab-df-convert {\n",
              "      background-color: #E8F0FE;\n",
              "      border: none;\n",
              "      border-radius: 50%;\n",
              "      cursor: pointer;\n",
              "      display: none;\n",
              "      fill: #1967D2;\n",
              "      height: 32px;\n",
              "      padding: 0 0 0 0;\n",
              "      width: 32px;\n",
              "    }\n",
              "\n",
              "    .colab-df-convert:hover {\n",
              "      background-color: #E2EBFA;\n",
              "      box-shadow: 0px 1px 2px rgba(60, 64, 67, 0.3), 0px 1px 3px 1px rgba(60, 64, 67, 0.15);\n",
              "      fill: #174EA6;\n",
              "    }\n",
              "\n",
              "    [theme=dark] .colab-df-convert {\n",
              "      background-color: #3B4455;\n",
              "      fill: #D2E3FC;\n",
              "    }\n",
              "\n",
              "    [theme=dark] .colab-df-convert:hover {\n",
              "      background-color: #434B5C;\n",
              "      box-shadow: 0px 1px 3px 1px rgba(0, 0, 0, 0.15);\n",
              "      filter: drop-shadow(0px 1px 2px rgba(0, 0, 0, 0.3));\n",
              "      fill: #FFFFFF;\n",
              "    }\n",
              "  </style>\n",
              "\n",
              "      <script>\n",
              "        const buttonEl =\n",
              "          document.querySelector('#df-34b961ac-1286-49d4-be93-c1cdee892f0f button.colab-df-convert');\n",
              "        buttonEl.style.display =\n",
              "          google.colab.kernel.accessAllowed ? 'block' : 'none';\n",
              "\n",
              "        async function convertToInteractive(key) {\n",
              "          const element = document.querySelector('#df-34b961ac-1286-49d4-be93-c1cdee892f0f');\n",
              "          const dataTable =\n",
              "            await google.colab.kernel.invokeFunction('convertToInteractive',\n",
              "                                                     [key], {});\n",
              "          if (!dataTable) return;\n",
              "\n",
              "          const docLinkHtml = 'Like what you see? Visit the ' +\n",
              "            '<a target=\"_blank\" href=https://colab.research.google.com/notebooks/data_table.ipynb>data table notebook</a>'\n",
              "            + ' to learn more about interactive tables.';\n",
              "          element.innerHTML = '';\n",
              "          dataTable['output_type'] = 'display_data';\n",
              "          await google.colab.output.renderOutput(dataTable, element);\n",
              "          const docLink = document.createElement('div');\n",
              "          docLink.innerHTML = docLinkHtml;\n",
              "          element.appendChild(docLink);\n",
              "        }\n",
              "      </script>\n",
              "    </div>\n",
              "  </div>\n",
              "  "
            ]
          },
          "metadata": {},
          "execution_count": 54
        }
      ]
    },
    {
      "cell_type": "code",
      "source": [
        "df[\n",
        "    (df['Make'] == 'Nissan') & (df['Year'] >= 2015)\n",
        "]\n"
      ],
      "metadata": {
        "colab": {
          "base_uri": "https://localhost:8080/",
          "height": 81
        },
        "id": "CQNidQZLBwEx",
        "outputId": "d337b049-22e7-4318-8ad6-2ce3daebf265"
      },
      "execution_count": 55,
      "outputs": [
        {
          "output_type": "execute_result",
          "data": {
            "text/plain": [
              "     Make     Model  Year  Engine HP  Engine Cylinders Transmission Type  \\\n",
              "e  Nissan  Frontier  2017      261.0                 6            MANUAL   \n",
              "\n",
              "  Vehicle_Style   MSRP  \n",
              "e        Pickup  32340  "
            ],
            "text/html": [
              "\n",
              "  <div id=\"df-42fd7cbe-3e4a-48d8-9d8a-b81eddab8fd0\">\n",
              "    <div class=\"colab-df-container\">\n",
              "      <div>\n",
              "<style scoped>\n",
              "    .dataframe tbody tr th:only-of-type {\n",
              "        vertical-align: middle;\n",
              "    }\n",
              "\n",
              "    .dataframe tbody tr th {\n",
              "        vertical-align: top;\n",
              "    }\n",
              "\n",
              "    .dataframe thead th {\n",
              "        text-align: right;\n",
              "    }\n",
              "</style>\n",
              "<table border=\"1\" class=\"dataframe\">\n",
              "  <thead>\n",
              "    <tr style=\"text-align: right;\">\n",
              "      <th></th>\n",
              "      <th>Make</th>\n",
              "      <th>Model</th>\n",
              "      <th>Year</th>\n",
              "      <th>Engine HP</th>\n",
              "      <th>Engine Cylinders</th>\n",
              "      <th>Transmission Type</th>\n",
              "      <th>Vehicle_Style</th>\n",
              "      <th>MSRP</th>\n",
              "    </tr>\n",
              "  </thead>\n",
              "  <tbody>\n",
              "    <tr>\n",
              "      <th>e</th>\n",
              "      <td>Nissan</td>\n",
              "      <td>Frontier</td>\n",
              "      <td>2017</td>\n",
              "      <td>261.0</td>\n",
              "      <td>6</td>\n",
              "      <td>MANUAL</td>\n",
              "      <td>Pickup</td>\n",
              "      <td>32340</td>\n",
              "    </tr>\n",
              "  </tbody>\n",
              "</table>\n",
              "</div>\n",
              "      <button class=\"colab-df-convert\" onclick=\"convertToInteractive('df-42fd7cbe-3e4a-48d8-9d8a-b81eddab8fd0')\"\n",
              "              title=\"Convert this dataframe to an interactive table.\"\n",
              "              style=\"display:none;\">\n",
              "        \n",
              "  <svg xmlns=\"http://www.w3.org/2000/svg\" height=\"24px\"viewBox=\"0 0 24 24\"\n",
              "       width=\"24px\">\n",
              "    <path d=\"M0 0h24v24H0V0z\" fill=\"none\"/>\n",
              "    <path d=\"M18.56 5.44l.94 2.06.94-2.06 2.06-.94-2.06-.94-.94-2.06-.94 2.06-2.06.94zm-11 1L8.5 8.5l.94-2.06 2.06-.94-2.06-.94L8.5 2.5l-.94 2.06-2.06.94zm10 10l.94 2.06.94-2.06 2.06-.94-2.06-.94-.94-2.06-.94 2.06-2.06.94z\"/><path d=\"M17.41 7.96l-1.37-1.37c-.4-.4-.92-.59-1.43-.59-.52 0-1.04.2-1.43.59L10.3 9.45l-7.72 7.72c-.78.78-.78 2.05 0 2.83L4 21.41c.39.39.9.59 1.41.59.51 0 1.02-.2 1.41-.59l7.78-7.78 2.81-2.81c.8-.78.8-2.07 0-2.86zM5.41 20L4 18.59l7.72-7.72 1.47 1.35L5.41 20z\"/>\n",
              "  </svg>\n",
              "      </button>\n",
              "      \n",
              "  <style>\n",
              "    .colab-df-container {\n",
              "      display:flex;\n",
              "      flex-wrap:wrap;\n",
              "      gap: 12px;\n",
              "    }\n",
              "\n",
              "    .colab-df-convert {\n",
              "      background-color: #E8F0FE;\n",
              "      border: none;\n",
              "      border-radius: 50%;\n",
              "      cursor: pointer;\n",
              "      display: none;\n",
              "      fill: #1967D2;\n",
              "      height: 32px;\n",
              "      padding: 0 0 0 0;\n",
              "      width: 32px;\n",
              "    }\n",
              "\n",
              "    .colab-df-convert:hover {\n",
              "      background-color: #E2EBFA;\n",
              "      box-shadow: 0px 1px 2px rgba(60, 64, 67, 0.3), 0px 1px 3px 1px rgba(60, 64, 67, 0.15);\n",
              "      fill: #174EA6;\n",
              "    }\n",
              "\n",
              "    [theme=dark] .colab-df-convert {\n",
              "      background-color: #3B4455;\n",
              "      fill: #D2E3FC;\n",
              "    }\n",
              "\n",
              "    [theme=dark] .colab-df-convert:hover {\n",
              "      background-color: #434B5C;\n",
              "      box-shadow: 0px 1px 3px 1px rgba(0, 0, 0, 0.15);\n",
              "      filter: drop-shadow(0px 1px 2px rgba(0, 0, 0, 0.3));\n",
              "      fill: #FFFFFF;\n",
              "    }\n",
              "  </style>\n",
              "\n",
              "      <script>\n",
              "        const buttonEl =\n",
              "          document.querySelector('#df-42fd7cbe-3e4a-48d8-9d8a-b81eddab8fd0 button.colab-df-convert');\n",
              "        buttonEl.style.display =\n",
              "          google.colab.kernel.accessAllowed ? 'block' : 'none';\n",
              "\n",
              "        async function convertToInteractive(key) {\n",
              "          const element = document.querySelector('#df-42fd7cbe-3e4a-48d8-9d8a-b81eddab8fd0');\n",
              "          const dataTable =\n",
              "            await google.colab.kernel.invokeFunction('convertToInteractive',\n",
              "                                                     [key], {});\n",
              "          if (!dataTable) return;\n",
              "\n",
              "          const docLinkHtml = 'Like what you see? Visit the ' +\n",
              "            '<a target=\"_blank\" href=https://colab.research.google.com/notebooks/data_table.ipynb>data table notebook</a>'\n",
              "            + ' to learn more about interactive tables.';\n",
              "          element.innerHTML = '';\n",
              "          dataTable['output_type'] = 'display_data';\n",
              "          await google.colab.output.renderOutput(dataTable, element);\n",
              "          const docLink = document.createElement('div');\n",
              "          docLink.innerHTML = docLinkHtml;\n",
              "          element.appendChild(docLink);\n",
              "        }\n",
              "      </script>\n",
              "    </div>\n",
              "  </div>\n",
              "  "
            ]
          },
          "metadata": {},
          "execution_count": 55
        }
      ]
    },
    {
      "cell_type": "code",
      "source": [
        "df['Transmission Type'].str.lower()"
      ],
      "metadata": {
        "colab": {
          "base_uri": "https://localhost:8080/"
        },
        "id": "ljMMkC89CJoZ",
        "outputId": "598c949f-d8ac-4d95-da4a-89019ded3d1d"
      },
      "execution_count": 56,
      "outputs": [
        {
          "output_type": "execute_result",
          "data": {
            "text/plain": [
              "a       manual\n",
              "b    automatic\n",
              "c       manual\n",
              "d    automatic\n",
              "e       manual\n",
              "Name: Transmission Type, dtype: object"
            ]
          },
          "metadata": {},
          "execution_count": 56
        }
      ]
    },
    {
      "cell_type": "code",
      "source": [
        "'machine learning zoomcamp'.replace(' ', '_')"
      ],
      "metadata": {
        "colab": {
          "base_uri": "https://localhost:8080/",
          "height": 36
        },
        "id": "7ui5csy8CJls",
        "outputId": "ca3181e3-6728-49af-c6b9-7c3571ab3f2e"
      },
      "execution_count": 57,
      "outputs": [
        {
          "output_type": "execute_result",
          "data": {
            "text/plain": [
              "'machine_learning_zoomcamp'"
            ],
            "application/vnd.google.colaboratory.intrinsic+json": {
              "type": "string"
            }
          },
          "metadata": {},
          "execution_count": 57
        }
      ]
    },
    {
      "cell_type": "markdown",
      "source": [
        "Grouping\n",
        "\n",
        "SELECT \n",
        "    transmission_type,\n",
        "    AVG(MSRP)\n",
        "FROM\n",
        "    cars\n",
        "GROUP BY\n",
        "    transmission_type"
      ],
      "metadata": {
        "id": "02rff0RICX4Z"
      }
    },
    {
      "cell_type": "code",
      "source": [
        "df"
      ],
      "metadata": {
        "colab": {
          "base_uri": "https://localhost:8080/",
          "height": 206
        },
        "id": "ZZIGdLxQCJi7",
        "outputId": "22cca137-af0a-4b9d-8b76-f4e82be854ea"
      },
      "execution_count": 58,
      "outputs": [
        {
          "output_type": "execute_result",
          "data": {
            "text/plain": [
              "      Make     Model  Year  Engine HP  Engine Cylinders Transmission Type  \\\n",
              "a   Nissan    Stanza  1991      138.0                 4            MANUAL   \n",
              "b  Hyundai    Sonata  2017        NaN                 4         AUTOMATIC   \n",
              "c    Lotus     Elise  2010      218.0                 4            MANUAL   \n",
              "d      GMC    Acadia  2017      194.0                 4         AUTOMATIC   \n",
              "e   Nissan  Frontier  2017      261.0                 6            MANUAL   \n",
              "\n",
              "  Vehicle_Style   MSRP  \n",
              "a         sedan   2000  \n",
              "b         Sedan  27150  \n",
              "c   convertible  54990  \n",
              "d       4dr SUV  34450  \n",
              "e        Pickup  32340  "
            ],
            "text/html": [
              "\n",
              "  <div id=\"df-5dbdf0c4-3487-4b8e-8ed1-3a4548722a2d\">\n",
              "    <div class=\"colab-df-container\">\n",
              "      <div>\n",
              "<style scoped>\n",
              "    .dataframe tbody tr th:only-of-type {\n",
              "        vertical-align: middle;\n",
              "    }\n",
              "\n",
              "    .dataframe tbody tr th {\n",
              "        vertical-align: top;\n",
              "    }\n",
              "\n",
              "    .dataframe thead th {\n",
              "        text-align: right;\n",
              "    }\n",
              "</style>\n",
              "<table border=\"1\" class=\"dataframe\">\n",
              "  <thead>\n",
              "    <tr style=\"text-align: right;\">\n",
              "      <th></th>\n",
              "      <th>Make</th>\n",
              "      <th>Model</th>\n",
              "      <th>Year</th>\n",
              "      <th>Engine HP</th>\n",
              "      <th>Engine Cylinders</th>\n",
              "      <th>Transmission Type</th>\n",
              "      <th>Vehicle_Style</th>\n",
              "      <th>MSRP</th>\n",
              "    </tr>\n",
              "  </thead>\n",
              "  <tbody>\n",
              "    <tr>\n",
              "      <th>a</th>\n",
              "      <td>Nissan</td>\n",
              "      <td>Stanza</td>\n",
              "      <td>1991</td>\n",
              "      <td>138.0</td>\n",
              "      <td>4</td>\n",
              "      <td>MANUAL</td>\n",
              "      <td>sedan</td>\n",
              "      <td>2000</td>\n",
              "    </tr>\n",
              "    <tr>\n",
              "      <th>b</th>\n",
              "      <td>Hyundai</td>\n",
              "      <td>Sonata</td>\n",
              "      <td>2017</td>\n",
              "      <td>NaN</td>\n",
              "      <td>4</td>\n",
              "      <td>AUTOMATIC</td>\n",
              "      <td>Sedan</td>\n",
              "      <td>27150</td>\n",
              "    </tr>\n",
              "    <tr>\n",
              "      <th>c</th>\n",
              "      <td>Lotus</td>\n",
              "      <td>Elise</td>\n",
              "      <td>2010</td>\n",
              "      <td>218.0</td>\n",
              "      <td>4</td>\n",
              "      <td>MANUAL</td>\n",
              "      <td>convertible</td>\n",
              "      <td>54990</td>\n",
              "    </tr>\n",
              "    <tr>\n",
              "      <th>d</th>\n",
              "      <td>GMC</td>\n",
              "      <td>Acadia</td>\n",
              "      <td>2017</td>\n",
              "      <td>194.0</td>\n",
              "      <td>4</td>\n",
              "      <td>AUTOMATIC</td>\n",
              "      <td>4dr SUV</td>\n",
              "      <td>34450</td>\n",
              "    </tr>\n",
              "    <tr>\n",
              "      <th>e</th>\n",
              "      <td>Nissan</td>\n",
              "      <td>Frontier</td>\n",
              "      <td>2017</td>\n",
              "      <td>261.0</td>\n",
              "      <td>6</td>\n",
              "      <td>MANUAL</td>\n",
              "      <td>Pickup</td>\n",
              "      <td>32340</td>\n",
              "    </tr>\n",
              "  </tbody>\n",
              "</table>\n",
              "</div>\n",
              "      <button class=\"colab-df-convert\" onclick=\"convertToInteractive('df-5dbdf0c4-3487-4b8e-8ed1-3a4548722a2d')\"\n",
              "              title=\"Convert this dataframe to an interactive table.\"\n",
              "              style=\"display:none;\">\n",
              "        \n",
              "  <svg xmlns=\"http://www.w3.org/2000/svg\" height=\"24px\"viewBox=\"0 0 24 24\"\n",
              "       width=\"24px\">\n",
              "    <path d=\"M0 0h24v24H0V0z\" fill=\"none\"/>\n",
              "    <path d=\"M18.56 5.44l.94 2.06.94-2.06 2.06-.94-2.06-.94-.94-2.06-.94 2.06-2.06.94zm-11 1L8.5 8.5l.94-2.06 2.06-.94-2.06-.94L8.5 2.5l-.94 2.06-2.06.94zm10 10l.94 2.06.94-2.06 2.06-.94-2.06-.94-.94-2.06-.94 2.06-2.06.94z\"/><path d=\"M17.41 7.96l-1.37-1.37c-.4-.4-.92-.59-1.43-.59-.52 0-1.04.2-1.43.59L10.3 9.45l-7.72 7.72c-.78.78-.78 2.05 0 2.83L4 21.41c.39.39.9.59 1.41.59.51 0 1.02-.2 1.41-.59l7.78-7.78 2.81-2.81c.8-.78.8-2.07 0-2.86zM5.41 20L4 18.59l7.72-7.72 1.47 1.35L5.41 20z\"/>\n",
              "  </svg>\n",
              "      </button>\n",
              "      \n",
              "  <style>\n",
              "    .colab-df-container {\n",
              "      display:flex;\n",
              "      flex-wrap:wrap;\n",
              "      gap: 12px;\n",
              "    }\n",
              "\n",
              "    .colab-df-convert {\n",
              "      background-color: #E8F0FE;\n",
              "      border: none;\n",
              "      border-radius: 50%;\n",
              "      cursor: pointer;\n",
              "      display: none;\n",
              "      fill: #1967D2;\n",
              "      height: 32px;\n",
              "      padding: 0 0 0 0;\n",
              "      width: 32px;\n",
              "    }\n",
              "\n",
              "    .colab-df-convert:hover {\n",
              "      background-color: #E2EBFA;\n",
              "      box-shadow: 0px 1px 2px rgba(60, 64, 67, 0.3), 0px 1px 3px 1px rgba(60, 64, 67, 0.15);\n",
              "      fill: #174EA6;\n",
              "    }\n",
              "\n",
              "    [theme=dark] .colab-df-convert {\n",
              "      background-color: #3B4455;\n",
              "      fill: #D2E3FC;\n",
              "    }\n",
              "\n",
              "    [theme=dark] .colab-df-convert:hover {\n",
              "      background-color: #434B5C;\n",
              "      box-shadow: 0px 1px 3px 1px rgba(0, 0, 0, 0.15);\n",
              "      filter: drop-shadow(0px 1px 2px rgba(0, 0, 0, 0.3));\n",
              "      fill: #FFFFFF;\n",
              "    }\n",
              "  </style>\n",
              "\n",
              "      <script>\n",
              "        const buttonEl =\n",
              "          document.querySelector('#df-5dbdf0c4-3487-4b8e-8ed1-3a4548722a2d button.colab-df-convert');\n",
              "        buttonEl.style.display =\n",
              "          google.colab.kernel.accessAllowed ? 'block' : 'none';\n",
              "\n",
              "        async function convertToInteractive(key) {\n",
              "          const element = document.querySelector('#df-5dbdf0c4-3487-4b8e-8ed1-3a4548722a2d');\n",
              "          const dataTable =\n",
              "            await google.colab.kernel.invokeFunction('convertToInteractive',\n",
              "                                                     [key], {});\n",
              "          if (!dataTable) return;\n",
              "\n",
              "          const docLinkHtml = 'Like what you see? Visit the ' +\n",
              "            '<a target=\"_blank\" href=https://colab.research.google.com/notebooks/data_table.ipynb>data table notebook</a>'\n",
              "            + ' to learn more about interactive tables.';\n",
              "          element.innerHTML = '';\n",
              "          dataTable['output_type'] = 'display_data';\n",
              "          await google.colab.output.renderOutput(dataTable, element);\n",
              "          const docLink = document.createElement('div');\n",
              "          docLink.innerHTML = docLinkHtml;\n",
              "          element.appendChild(docLink);\n",
              "        }\n",
              "      </script>\n",
              "    </div>\n",
              "  </div>\n",
              "  "
            ]
          },
          "metadata": {},
          "execution_count": 58
        }
      ]
    },
    {
      "cell_type": "code",
      "source": [
        "\n",
        "df.groupby('Transmission Type').MSRP.max()"
      ],
      "metadata": {
        "colab": {
          "base_uri": "https://localhost:8080/"
        },
        "id": "XtAATfNTCbpR",
        "outputId": "42881d7f-d149-415b-a6b7-e4b5a6185819"
      },
      "execution_count": 62,
      "outputs": [
        {
          "output_type": "execute_result",
          "data": {
            "text/plain": [
              "Transmission Type\n",
              "AUTOMATIC    34450\n",
              "MANUAL       54990\n",
              "Name: MSRP, dtype: int64"
            ]
          },
          "metadata": {},
          "execution_count": 62
        }
      ]
    },
    {
      "cell_type": "code",
      "source": [],
      "metadata": {
        "id": "iuNQjmpqCrqa"
      },
      "execution_count": null,
      "outputs": []
    }
  ]
}