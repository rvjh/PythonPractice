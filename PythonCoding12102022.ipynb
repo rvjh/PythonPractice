{
  "nbformat": 4,
  "nbformat_minor": 0,
  "metadata": {
    "colab": {
      "provenance": [],
      "authorship_tag": "ABX9TyN7fOGGi9hAswgb5hS/Li3m",
      "include_colab_link": true
    },
    "kernelspec": {
      "name": "python3",
      "display_name": "Python 3"
    },
    "language_info": {
      "name": "python"
    }
  },
  "cells": [
    {
      "cell_type": "markdown",
      "metadata": {
        "id": "view-in-github",
        "colab_type": "text"
      },
      "source": [
        "<a href=\"https://colab.research.google.com/github/rvjh/PythonPractice/blob/main/PythonCoding12102022.ipynb\" target=\"_parent\"><img src=\"https://colab.research.google.com/assets/colab-badge.svg\" alt=\"Open In Colab\"/></a>"
      ]
    },
    {
      "cell_type": "markdown",
      "source": [],
      "metadata": {
        "id": "PjVWeeoaYqPS"
      }
    },
    {
      "cell_type": "markdown",
      "source": [
        "Write a program which will find all such numbers which are divisible by 7 but are not a multiple of 5, between 2000 and 3200 (both included).The numbers obtained should be printed in a comma-separated sequence on a single line./"
      ],
      "metadata": {
        "id": "9xGuyEfSYxHE"
      }
    },
    {
      "cell_type": "code",
      "execution_count": null,
      "metadata": {
        "id": "npLpjcL9X9Lk"
      },
      "outputs": [],
      "source": [
        "x = 2000\n",
        "y = 3200\n",
        "\n",
        "def div_by_7(a,b):\n",
        "  for i in range(a,b+1):\n",
        "    if i%7 == 0 and i%5!=0:\n",
        "      print(i)\n",
        "    else:\n",
        "      pass\n",
        "\n",
        "div_by_7(x,y)\n"
      ]
    },
    {
      "cell_type": "markdown",
      "source": [
        "Write a program which can compute the factorial of a given numbers.The results should be printed in a comma-separated sequence on a single line.Suppose the following input is supplied to the program: 8 Then, the output should be:40320"
      ],
      "metadata": {
        "id": "55Z3HmlSZn1y"
      }
    },
    {
      "cell_type": "code",
      "source": [
        "def fact_num(n):\n",
        "  if n==0:\n",
        "    return 1\n",
        "  else:\n",
        "    return n*fact_num(n-1)\n",
        "\n",
        "def ret_fac(n):\n",
        "  for i in range(1,n+1):\n",
        "    print(f\"Factorial of {i} is {fact_num(i)}\")\n",
        "\n",
        "ret_fac(8)"
      ],
      "metadata": {
        "colab": {
          "base_uri": "https://localhost:8080/"
        },
        "id": "34EFkA_QZbff",
        "outputId": "0ab36360-7009-4a50-93f0-346855f672a1"
      },
      "execution_count": null,
      "outputs": [
        {
          "output_type": "stream",
          "name": "stdout",
          "text": [
            "Factorial of 1 is 1\n",
            "Factorial of 2 is 2\n",
            "Factorial of 3 is 6\n",
            "Factorial of 4 is 24\n",
            "Factorial of 5 is 120\n",
            "Factorial of 6 is 720\n",
            "Factorial of 7 is 5040\n",
            "Factorial of 8 is 40320\n"
          ]
        }
      ]
    },
    {
      "cell_type": "markdown",
      "source": [
        "With a given integral number n, write a program to generate a dictionary that contains (i, i x i) such that is an integral number between 1 and n (both included). and then the program should print the dictionary.Suppose the following input is supplied to the program: 8\n",
        "\n",
        "Then, the output should be:\n",
        "\n",
        "{1: 1, 2: 4, 3: 9, 4: 16, 5: 25, 6: 36, 7: 49, 8: 64}"
      ],
      "metadata": {
        "id": "K-qxv352anO4"
      }
    },
    {
      "cell_type": "code",
      "source": [
        "def print_dict(n):\n",
        "  a=[]\n",
        "  b=[]\n",
        "  for i in range(1,n+1):\n",
        "    a.append(i)\n",
        "    b.append(i**2)\n",
        "  d=dict(zip(a,b))\n",
        "  return d\n",
        "\n",
        "print_dict(8)"
      ],
      "metadata": {
        "colab": {
          "base_uri": "https://localhost:8080/"
        },
        "id": "_VyxJTroZ-VR",
        "outputId": "663ce959-a9d1-4580-d98a-4a1461ce8332"
      },
      "execution_count": null,
      "outputs": [
        {
          "output_type": "execute_result",
          "data": {
            "text/plain": [
              "{1: 1, 2: 4, 3: 9, 4: 16, 5: 25, 6: 36, 7: 49, 8: 64}"
            ]
          },
          "metadata": {},
          "execution_count": 4
        }
      ]
    },
    {
      "cell_type": "code",
      "source": [
        "def print_dict_1(n):\n",
        "  a=dict()\n",
        "  for i in range(1,i+1):\n",
        "    a[i] = i **2\n",
        "  return a\n",
        "\n",
        "print_dict(8)"
      ],
      "metadata": {
        "colab": {
          "base_uri": "https://localhost:8080/"
        },
        "id": "-ADocuAVbHdv",
        "outputId": "4a359acc-7a33-4579-f91e-ab9595fea4aa"
      },
      "execution_count": null,
      "outputs": [
        {
          "output_type": "execute_result",
          "data": {
            "text/plain": [
              "{1: 1, 2: 4, 3: 9, 4: 16, 5: 25, 6: 36, 7: 49, 8: 64}"
            ]
          },
          "metadata": {},
          "execution_count": 5
        }
      ]
    },
    {
      "cell_type": "markdown",
      "source": [
        "Write a program which accepts a sequence of comma-separated numbers from console and generate a list and a tuple which contains every number.Suppose the following input is supplied to the program:\n",
        "\n",
        "34,67,55,33,12,98\n",
        "Then, the output should be:\n",
        "\n",
        "['34', '67', '55', '33', '12', '98']\n",
        "('34', '67', '55', '33', '12', '98')"
      ],
      "metadata": {
        "id": "VoS4Q6aNbj5A"
      }
    },
    {
      "cell_type": "code",
      "source": [
        "def ret_lijst_tup():\n",
        "  n = int(input(\"Enter the no of terms : \"))\n",
        "  a = []\n",
        "  for i in range(1,n+1):\n",
        "    b = int(input(\"Enter the number : \"))\n",
        "    a.append(b)\n",
        "\n",
        "  print(f\"List is : {a}\")\n",
        "  print(f\"Tuple id : {tuple(a)}\")\n",
        "\n",
        "ret_lijst_tup()\n"
      ],
      "metadata": {
        "colab": {
          "base_uri": "https://localhost:8080/"
        },
        "id": "ghuaKamzbbLS",
        "outputId": "c9d673b7-8c75-4afa-96e2-3a90930c7eba"
      },
      "execution_count": null,
      "outputs": [
        {
          "output_type": "stream",
          "name": "stdout",
          "text": [
            "Enter the no of terms : 5\n",
            "Enter the number : 34\n",
            "Enter the number : 67\n",
            "Enter the number : 55\n",
            "Enter the number : 33\n",
            "Enter the number : 12\n",
            "List is : [34, 67, 55, 33, 12]\n",
            "Tuple id : (34, 67, 55, 33, 12)\n"
          ]
        }
      ]
    },
    {
      "cell_type": "markdown",
      "source": [
        "Define a class which has at least two methods:\n",
        "\n",
        "getString: to get a string from console input\n",
        "printString: to print the string in upper case.\n",
        "Also please include simple test function to test the class methods."
      ],
      "metadata": {
        "id": "94pJY44ncoVQ"
      }
    },
    {
      "cell_type": "code",
      "source": [
        "class AB:\n",
        "  def __init__(self):\n",
        "    self.s = \"\"\n",
        "\n",
        "  def getString(self):\n",
        "    self.s= input(\"Enter tyhe string : \") \n",
        "\n",
        "  def printString(self):\n",
        "    print(f\"The string is : {self.s.upper()}\")\n",
        "\n",
        "a = AB()\n",
        "a.getString()\n",
        "a.printString()"
      ],
      "metadata": {
        "colab": {
          "base_uri": "https://localhost:8080/"
        },
        "id": "vky6GbAVcTkE",
        "outputId": "c73b3a79-f6d5-4dbe-c6c1-a257485a4b8c"
      },
      "execution_count": null,
      "outputs": [
        {
          "output_type": "stream",
          "name": "stdout",
          "text": [
            "Enter tyhe string : Ajay Sharma\n",
            "The string is : AJAY SHARMA\n"
          ]
        }
      ]
    },
    {
      "cell_type": "markdown",
      "source": [
        "Write a program that calculates and prints the value according to the given formula:\n",
        "\n",
        "Q = Square root of [(2 _ C _ D)/H]\n",
        "\n",
        "Following are the fixed values of C and H:\n",
        "\n",
        "C is 50. H is 30.\n",
        "\n",
        "D is the variable whose values should be input to your program in a comma-separated sequence.For example Let us assume the following comma separated input sequence is given to the program:\n",
        "\n",
        "100,150,180\n",
        "The output of the program should be:\n",
        "\n",
        "18,22,24"
      ],
      "metadata": {
        "id": "-JVXV7Zudd-Y"
      }
    },
    {
      "cell_type": "code",
      "source": [
        "import math\n",
        "def calcu_num():\n",
        "  C = 50\n",
        "  H = 30\n",
        "  n = int(input(\"Enter the num of terms : \"))\n",
        "  for i in range(1,n+1):\n",
        "    b = int(input(\"Enter the number : \"))\n",
        "    q = math.sqrt((2*C*b)/H)\n",
        "    print(f\"Value of {b} is {math.floor(q)}\")\n",
        "\n",
        "\n",
        "calcu_num()\n",
        "  \n",
        "  \n",
        "\n"
      ],
      "metadata": {
        "colab": {
          "base_uri": "https://localhost:8080/"
        },
        "id": "v1bFuR8jdP-B",
        "outputId": "ba3cb1b6-c79d-47f1-c879-02c9f6f0472f"
      },
      "execution_count": null,
      "outputs": [
        {
          "output_type": "stream",
          "name": "stdout",
          "text": [
            "Enter the num of terms : 3\n",
            "Enter the number : 100\n",
            "Value of 100 is 18\n",
            "Enter the number : 150\n",
            "Value of 150 is 22\n",
            "Enter the number : 180\n",
            "Value of 180 is 24\n"
          ]
        }
      ]
    },
    {
      "cell_type": "markdown",
      "source": [
        "Write a program which takes 2 digits, X,Y as input and generates a 2-dimensional array. The element value in the i-th row and j-th column of the array should be i _ j.*\n",
        "\n",
        "Note: i=0,1.., X-1; j=0,1,¡­Y-1. Suppose the following inputs are given to the program: 3,5\n",
        "\n",
        "Then, the output of the program should be:\n",
        "\n",
        "[[0, 0, 0, 0, 0], [0, 1, 2, 3, 4], [0, 2, 4, 6, 8]]"
      ],
      "metadata": {
        "id": "fE91HRkEfk2z"
      }
    },
    {
      "cell_type": "code",
      "source": [
        "x,y = map(int,input().split(','))\n",
        "lst = []\n",
        "\n",
        "for i in range(x):\n",
        "    tmp = []\n",
        "    for j in range(y):\n",
        "        tmp.append(i*j)\n",
        "    lst.append(tmp)\n",
        "\n",
        "print(lst)"
      ],
      "metadata": {
        "colab": {
          "base_uri": "https://localhost:8080/"
        },
        "id": "vqWq1BZ6e923",
        "outputId": "cd7bafea-882f-4ca0-c065-c93a5709a291"
      },
      "execution_count": null,
      "outputs": [
        {
          "output_type": "stream",
          "name": "stdout",
          "text": [
            "3,5\n",
            "[[0, 0, 0, 0, 0], [0, 1, 2, 3, 4], [0, 2, 4, 6, 8]]\n"
          ]
        }
      ]
    },
    {
      "cell_type": "markdown",
      "source": [
        "Write a program that accepts a comma separated sequence of words as input and prints the words in a comma-separated sequence after sorting them alphabetically.\n",
        "\n",
        "Suppose the following input is supplied to the program:\n",
        "\n",
        "without,hello,bag,world\n",
        "Then, the output should be:\n",
        "\n",
        "bag,hello,without,world"
      ],
      "metadata": {
        "id": "Z6mRsST8gHRj"
      }
    },
    {
      "cell_type": "code",
      "source": [
        "def word_sort():\n",
        "  n = int(input(\"Enter the no of terms : \"))\n",
        "  a=[]\n",
        "  for i in range(1,n+1):\n",
        "    b = input(\"Enter the woird : \")\n",
        "    a.append(b)\n",
        "  a.sort()\n",
        "  print(\",\".join(a))\n",
        "\n",
        "word_sort()"
      ],
      "metadata": {
        "colab": {
          "base_uri": "https://localhost:8080/"
        },
        "id": "gB8t1w9_gCZ7",
        "outputId": "59153a2e-5be3-487d-89c8-45c147c87fe6"
      },
      "execution_count": null,
      "outputs": [
        {
          "output_type": "stream",
          "name": "stdout",
          "text": [
            "Enter the no of terms : 4\n",
            "Enter the woird : without\n",
            "Enter the woird : hello\n",
            "Enter the woird : bag\n",
            "Enter the woird : world\n",
            "bag,hello,without,world\n"
          ]
        }
      ]
    },
    {
      "cell_type": "markdown",
      "source": [
        "Write a program that accepts sequence of lines as input and prints the lines after making all characters in the sentence capitalized.\n",
        "\n",
        "Suppose the following input is supplied to the program:\n",
        "\n",
        "Hello world\n",
        "Practice makes perfect\n",
        "Then, the output should be:\n",
        "\n",
        "HELLO WORLD\n",
        "PRACTICE MAKES PERFECT"
      ],
      "metadata": {
        "id": "4y15FENih3zC"
      }
    },
    {
      "cell_type": "code",
      "source": [
        "def get_cap(a):\n",
        "  return a.upper()\n",
        "\n",
        "get_cap('Hello world Practice makes perfect')"
      ],
      "metadata": {
        "colab": {
          "base_uri": "https://localhost:8080/",
          "height": 35
        },
        "id": "WW-OQDB2gnTz",
        "outputId": "7643953e-4817-491c-8a58-8c28816b4c99"
      },
      "execution_count": null,
      "outputs": [
        {
          "output_type": "execute_result",
          "data": {
            "text/plain": [
              "'HELLO WORLD PRACTICE MAKES PERFECT'"
            ],
            "application/vnd.google.colaboratory.intrinsic+json": {
              "type": "string"
            }
          },
          "metadata": {},
          "execution_count": 20
        }
      ]
    },
    {
      "cell_type": "markdown",
      "source": [
        "Write a program that accepts a sequence of whitespace separated words as input and prints the words after removing all duplicate words and sorting them alphanumerically.\n",
        "\n",
        "Suppose the following input is supplied to the program:\n",
        "\n",
        "hello world and practice makes perfect and hello world again\n",
        "Then, the output should be:\n",
        "\n",
        "again and hello makes perfect practice world"
      ],
      "metadata": {
        "id": "KYeYtGrciYas"
      }
    },
    {
      "cell_type": "code",
      "source": [
        "def get_space(a):\n",
        "  l = a.split(\" \")\n",
        "  for i in l:\n",
        "    if l.count(i)>1:\n",
        "      l.remove(i)\n",
        "  \n",
        "  print(l)\n",
        "\n",
        "get_space('hello world and practice makes perfect and hello world again')"
      ],
      "metadata": {
        "colab": {
          "base_uri": "https://localhost:8080/"
        },
        "id": "Rws5Vs9TiGvL",
        "outputId": "b0f522c2-08e8-47b2-dea7-7d73f5f48a82"
      },
      "execution_count": null,
      "outputs": [
        {
          "output_type": "stream",
          "name": "stdout",
          "text": [
            "['practice', 'makes', 'perfect', 'and', 'hello', 'world', 'again']\n"
          ]
        }
      ]
    },
    {
      "cell_type": "markdown",
      "source": [
        "Write a program which accepts a sequence of comma separated 4 digit binary numbers as its input and then check whether they are divisible by 5 or not. The numbers that are divisible by 5 are to be printed in a comma separated sequence.\n",
        "\n",
        "Example:\n",
        "\n",
        "0100,0011,1010,1001\n",
        "Then the output should be:\n",
        "\n",
        "1010"
      ],
      "metadata": {
        "id": "uyEgzqrol2KJ"
      }
    },
    {
      "cell_type": "code",
      "source": [
        "def bi_to_deci(a):\n",
        "  return int(a,2)\n",
        "\n",
        "def dev_vy_5():\n",
        "  n = int(input(\"Enter the no of terms : \"))\n",
        "  m=[]\n",
        "  for i in range(1,n+1):\n",
        "    b=input(\"Enter the binary num : \")\n",
        "    m.append(b)\n",
        "  for i in m:\n",
        "    if bi_to_deci(i)%5==0:\n",
        "      print(f\"The binary no is {i} which is divisible by 5\")\n",
        "\n",
        "dev_vy_5()"
      ],
      "metadata": {
        "colab": {
          "base_uri": "https://localhost:8080/"
        },
        "id": "dTF4IyqciqaB",
        "outputId": "472d1f27-dfac-405c-80c8-d37475431e50"
      },
      "execution_count": null,
      "outputs": [
        {
          "output_type": "stream",
          "name": "stdout",
          "text": [
            "Enter the no of terms : 3\n",
            "Enter the binary num : 0100\n",
            "Enter the binary num : 0011\n",
            "Enter the binary num : 1010\n",
            "The binary no is 1010 which is divisible by 5\n"
          ]
        }
      ]
    },
    {
      "cell_type": "markdown",
      "source": [
        "Write a program, which will find all such numbers between 1000 and 3000 (both included) such that each digit of the number is an even number.The numbers obtained should be printed in a comma-separated sequence on a single line."
      ],
      "metadata": {
        "id": "YW3KgwkAr0tn"
      }
    },
    {
      "cell_type": "code",
      "source": [
        "v = []\n",
        "for i in range(1000,3001):\n",
        "  s = str(i)\n",
        "  if (int(s[0])%2 == 0) and (int(s[1])%2 == 0) and (int(s[2])%2 == 0) and (int(s[3])%2 == 0):\n",
        "    v.append(s)\n",
        "print(v)\n",
        "print(len(v))\n"
      ],
      "metadata": {
        "colab": {
          "base_uri": "https://localhost:8080/"
        },
        "id": "vXRI625KnYiu",
        "outputId": "aa08ffb6-c894-4965-a8f4-833b0f4431f5"
      },
      "execution_count": null,
      "outputs": [
        {
          "output_type": "stream",
          "name": "stdout",
          "text": [
            "['2000', '2002', '2004', '2006', '2008', '2020', '2022', '2024', '2026', '2028', '2040', '2042', '2044', '2046', '2048', '2060', '2062', '2064', '2066', '2068', '2080', '2082', '2084', '2086', '2088', '2200', '2202', '2204', '2206', '2208', '2220', '2222', '2224', '2226', '2228', '2240', '2242', '2244', '2246', '2248', '2260', '2262', '2264', '2266', '2268', '2280', '2282', '2284', '2286', '2288', '2400', '2402', '2404', '2406', '2408', '2420', '2422', '2424', '2426', '2428', '2440', '2442', '2444', '2446', '2448', '2460', '2462', '2464', '2466', '2468', '2480', '2482', '2484', '2486', '2488', '2600', '2602', '2604', '2606', '2608', '2620', '2622', '2624', '2626', '2628', '2640', '2642', '2644', '2646', '2648', '2660', '2662', '2664', '2666', '2668', '2680', '2682', '2684', '2686', '2688', '2800', '2802', '2804', '2806', '2808', '2820', '2822', '2824', '2826', '2828', '2840', '2842', '2844', '2846', '2848', '2860', '2862', '2864', '2866', '2868', '2880', '2882', '2884', '2886', '2888']\n",
            "125\n"
          ]
        }
      ]
    },
    {
      "cell_type": "markdown",
      "source": [
        "Write a program that accepts a sentence and calculate the number of letters and digits.\n",
        "\n",
        "Suppose the following input is supplied to the program:\n",
        "\n",
        "hello world! 123\n",
        "Then, the output should be:\n",
        "\n",
        "LETTERS 10\n",
        "DIGITS 3"
      ],
      "metadata": {
        "id": "ZAKEsvJXsmEv"
      }
    },
    {
      "cell_type": "code",
      "source": [
        "word = input()\n",
        "letter, digit = 0,0\n",
        "\n",
        "for i in word:\n",
        "    if i.isalpha(): # returns True if alphabet\n",
        "        letter += 1\n",
        "    elif i.isnumeric(): # returns True if numeric\n",
        "        digit += 1\n",
        "print(f\"LETTERS : {letter} and digits : {digit}\")"
      ],
      "metadata": {
        "colab": {
          "base_uri": "https://localhost:8080/"
        },
        "id": "b7w8IB0dsbwm",
        "outputId": "ea118d9d-6bf6-4796-f80f-cac157c8d369"
      },
      "execution_count": null,
      "outputs": [
        {
          "output_type": "stream",
          "name": "stdout",
          "text": [
            "hello world! 123\n",
            "LETTERS : 10 and digits : 3\n"
          ]
        }
      ]
    },
    {
      "cell_type": "markdown",
      "source": [
        "Write a program that accepts a sentence and calculate the number of upper case letters and lower case letters.\n",
        "\n",
        "Suppose the following input is supplied to the program:\n",
        "\n",
        "Hello world!\n",
        "Then, the output should be:\n",
        "\n",
        "UPPER CASE 1\n",
        "LOWER CASE 9"
      ],
      "metadata": {
        "id": "Qc-p9mN2TKiA"
      }
    },
    {
      "cell_type": "code",
      "source": [
        "word = input()\n",
        "upper,lower = 0,0\n",
        "\n",
        "for i in word:\n",
        "    if 'a'<=i and i<='z' :\n",
        "        lower+=1\n",
        "    if 'A'<=i and i<='Z':\n",
        "        upper+=1\n",
        "\n",
        "print(\"UPPER CASE {0}\\nLOWER CASE {1}\".format(upper,lower))\n"
      ],
      "metadata": {
        "id": "W7i6oluQs7JT",
        "colab": {
          "base_uri": "https://localhost:8080/"
        },
        "outputId": "abf33672-3613-4dec-f8ba-051041088d9a"
      },
      "execution_count": null,
      "outputs": [
        {
          "output_type": "stream",
          "name": "stdout",
          "text": [
            "Hello world!\n",
            "UPPER CASE 1\n",
            "LOWER CASE 9\n"
          ]
        }
      ]
    },
    {
      "cell_type": "markdown",
      "source": [],
      "metadata": {
        "id": "z19qNNcwUQFW"
      }
    },
    {
      "cell_type": "markdown",
      "source": [
        "Write a program that computes the value of a+aa+aaa+aaaa with a given digit as the value of a.\n",
        "\n",
        "Suppose the following input is supplied to the program:\n",
        "\n",
        "9\n",
        "Then, the output should be:\n",
        "\n",
        "11106"
      ],
      "metadata": {
        "id": "mwlAbL-XUTtG"
      }
    },
    {
      "cell_type": "code",
      "source": [
        "a = input()\n",
        "print(sum(int(i*a) for i in range(1,5)))"
      ],
      "metadata": {
        "colab": {
          "base_uri": "https://localhost:8080/"
        },
        "id": "F-jJbz--TxoX",
        "outputId": "b8e52c96-5029-4773-dced-3cdd133b904f"
      },
      "execution_count": null,
      "outputs": [
        {
          "output_type": "stream",
          "name": "stdout",
          "text": [
            "9\n",
            "11106\n"
          ]
        }
      ]
    },
    {
      "cell_type": "code",
      "source": [
        "def fi(n):\n",
        "  if n<0:\n",
        "    return \"Invalid \"\n",
        "  elif n==0:\n",
        "    return 0\n",
        "  elif n==1 or n==2:\n",
        "    return 1\n",
        "  else:\n",
        "    return fi(n-1)+fi(n-2)\n",
        "\n",
        "fi(9)"
      ],
      "metadata": {
        "colab": {
          "base_uri": "https://localhost:8080/"
        },
        "id": "i-TVJNVtV6Et",
        "outputId": "240569e0-7b50-4fae-f88a-648206304c97"
      },
      "execution_count": null,
      "outputs": [
        {
          "output_type": "execute_result",
          "data": {
            "text/plain": [
              "34"
            ]
          },
          "metadata": {},
          "execution_count": 10
        }
      ]
    },
    {
      "cell_type": "code",
      "source": [
        "def is_disarium(n):\n",
        "  l = len(str(n))\n",
        "  sum = 0\n",
        "  for i in range(l):\n",
        "    sum = sum + int(str(n)[i]) ** (i+1)\n",
        "  if sum == n:\n",
        "    return True\n",
        "  else:\n",
        "    return False\n",
        "\n",
        "\n",
        "is_disarium(135)"
      ],
      "metadata": {
        "colab": {
          "base_uri": "https://localhost:8080/"
        },
        "id": "54qy7uKwTZkv",
        "outputId": "cedcbd8c-8236-43c3-c5e0-4c21e578f02a"
      },
      "execution_count": null,
      "outputs": [
        {
          "output_type": "execute_result",
          "data": {
            "text/plain": [
              "True"
            ]
          },
          "metadata": {},
          "execution_count": 3
        }
      ]
    },
    {
      "cell_type": "code",
      "source": [
        "import numpy as np"
      ],
      "metadata": {
        "id": "6FmDDiinTZh-"
      },
      "execution_count": 1,
      "outputs": []
    },
    {
      "cell_type": "code",
      "source": [
        "np.__version__"
      ],
      "metadata": {
        "id": "5e-T-OMB_3Hl",
        "colab": {
          "base_uri": "https://localhost:8080/",
          "height": 36
        },
        "outputId": "2aa32eba-7c77-429f-c388-d5ba5e5370c8"
      },
      "execution_count": 3,
      "outputs": [
        {
          "output_type": "execute_result",
          "data": {
            "text/plain": [
              "'1.21.6'"
            ],
            "application/vnd.google.colaboratory.intrinsic+json": {
              "type": "string"
            }
          },
          "metadata": {},
          "execution_count": 3
        }
      ]
    },
    {
      "cell_type": "code",
      "source": [
        "## Creating arrays\n",
        "\n",
        "np.zeros(10)"
      ],
      "metadata": {
        "id": "xTBZJ6Ti_3Eo",
        "colab": {
          "base_uri": "https://localhost:8080/"
        },
        "outputId": "fec68a01-4fc2-422c-a6d8-25b000081447"
      },
      "execution_count": 4,
      "outputs": [
        {
          "output_type": "execute_result",
          "data": {
            "text/plain": [
              "array([0., 0., 0., 0., 0., 0., 0., 0., 0., 0.])"
            ]
          },
          "metadata": {},
          "execution_count": 4
        }
      ]
    },
    {
      "cell_type": "code",
      "source": [
        "np.ones([2,3])"
      ],
      "metadata": {
        "id": "8OSrb6lk_3Bt",
        "colab": {
          "base_uri": "https://localhost:8080/"
        },
        "outputId": "2defca6f-75f3-42ad-ed5a-fdb9951eb7b6"
      },
      "execution_count": 5,
      "outputs": [
        {
          "output_type": "execute_result",
          "data": {
            "text/plain": [
              "array([[1., 1., 1.],\n",
              "       [1., 1., 1.]])"
            ]
          },
          "metadata": {},
          "execution_count": 5
        }
      ]
    },
    {
      "cell_type": "code",
      "source": [
        "np.ones(10)"
      ],
      "metadata": {
        "id": "MERmNSQe_2-7",
        "colab": {
          "base_uri": "https://localhost:8080/"
        },
        "outputId": "ecbcf1ce-90d8-4ac0-ecaa-75d35daa039f"
      },
      "execution_count": 6,
      "outputs": [
        {
          "output_type": "execute_result",
          "data": {
            "text/plain": [
              "array([1., 1., 1., 1., 1., 1., 1., 1., 1., 1.])"
            ]
          },
          "metadata": {},
          "execution_count": 6
        }
      ]
    },
    {
      "cell_type": "code",
      "source": [
        "np.full(10,2.5)"
      ],
      "metadata": {
        "id": "9-reslV6_28U",
        "colab": {
          "base_uri": "https://localhost:8080/"
        },
        "outputId": "0b8eeef2-09c8-4739-98fe-10fbeb265436"
      },
      "execution_count": 7,
      "outputs": [
        {
          "output_type": "execute_result",
          "data": {
            "text/plain": [
              "array([2.5, 2.5, 2.5, 2.5, 2.5, 2.5, 2.5, 2.5, 2.5, 2.5])"
            ]
          },
          "metadata": {},
          "execution_count": 7
        }
      ]
    },
    {
      "cell_type": "code",
      "source": [
        "a = np.array([1,2,3])\n",
        "a"
      ],
      "metadata": {
        "id": "7z9vlcw8_25V",
        "colab": {
          "base_uri": "https://localhost:8080/"
        },
        "outputId": "5130ab25-5414-426e-8214-da877339f17a"
      },
      "execution_count": 9,
      "outputs": [
        {
          "output_type": "execute_result",
          "data": {
            "text/plain": [
              "array([1, 2, 3])"
            ]
          },
          "metadata": {},
          "execution_count": 9
        }
      ]
    },
    {
      "cell_type": "code",
      "source": [
        "a[0],a[1]"
      ],
      "metadata": {
        "colab": {
          "base_uri": "https://localhost:8080/"
        },
        "id": "7thUVmwo7LSf",
        "outputId": "ecd256a0-e196-4cb3-b884-ff642f3061c0"
      },
      "execution_count": 11,
      "outputs": [
        {
          "output_type": "execute_result",
          "data": {
            "text/plain": [
              "(1, 2)"
            ]
          },
          "metadata": {},
          "execution_count": 11
        }
      ]
    },
    {
      "cell_type": "code",
      "source": [
        "for i in a:\n",
        "  print(i)"
      ],
      "metadata": {
        "id": "NylGPEba_22k",
        "colab": {
          "base_uri": "https://localhost:8080/"
        },
        "outputId": "24cc0f95-925b-4fbf-ea98-4622ea05f191"
      },
      "execution_count": 10,
      "outputs": [
        {
          "output_type": "stream",
          "name": "stdout",
          "text": [
            "1\n",
            "2\n",
            "3\n"
          ]
        }
      ]
    },
    {
      "cell_type": "code",
      "source": [
        "np.arange(3,9)"
      ],
      "metadata": {
        "id": "eOVesSXi_2zs",
        "colab": {
          "base_uri": "https://localhost:8080/"
        },
        "outputId": "869254fe-c6b2-4aed-88fc-11a761f4cbd3"
      },
      "execution_count": 12,
      "outputs": [
        {
          "output_type": "execute_result",
          "data": {
            "text/plain": [
              "array([3, 4, 5, 6, 7, 8])"
            ]
          },
          "metadata": {},
          "execution_count": 12
        }
      ]
    },
    {
      "cell_type": "code",
      "source": [
        "np.linspace(10,100,11)"
      ],
      "metadata": {
        "id": "ItjnHwIDTZfm",
        "colab": {
          "base_uri": "https://localhost:8080/"
        },
        "outputId": "91084ecb-583d-4737-aed8-10e9a234fd7f"
      },
      "execution_count": 14,
      "outputs": [
        {
          "output_type": "execute_result",
          "data": {
            "text/plain": [
              "array([ 10.,  19.,  28.,  37.,  46.,  55.,  64.,  73.,  82.,  91., 100.])"
            ]
          },
          "metadata": {},
          "execution_count": 14
        }
      ]
    },
    {
      "cell_type": "code",
      "source": [
        "## Multi-dimensional arrays\n",
        "\n",
        "\n",
        "np.array([[2,3],\n",
        "          [5,6]])"
      ],
      "metadata": {
        "id": "fsGnzxLbTZcu",
        "colab": {
          "base_uri": "https://localhost:8080/"
        },
        "outputId": "b5f086db-98a5-4231-bd09-e3b2aa853ab5"
      },
      "execution_count": 17,
      "outputs": [
        {
          "output_type": "execute_result",
          "data": {
            "text/plain": [
              "array([[2, 3],\n",
              "       [5, 6]])"
            ]
          },
          "metadata": {},
          "execution_count": 17
        }
      ]
    },
    {
      "cell_type": "code",
      "source": [
        "np.zeros((5,2))"
      ],
      "metadata": {
        "id": "vkyekDDTTZaO",
        "colab": {
          "base_uri": "https://localhost:8080/"
        },
        "outputId": "2fb0d9af-48d7-41ef-ff7f-a7eac57e5a5e"
      },
      "execution_count": 18,
      "outputs": [
        {
          "output_type": "execute_result",
          "data": {
            "text/plain": [
              "array([[0., 0.],\n",
              "       [0., 0.],\n",
              "       [0., 0.],\n",
              "       [0., 0.],\n",
              "       [0., 0.]])"
            ]
          },
          "metadata": {},
          "execution_count": 18
        }
      ]
    },
    {
      "cell_type": "code",
      "source": [
        "## 3*3 idemtity matrix\n",
        "\n",
        "a = np.ones((3,3))\n",
        "a"
      ],
      "metadata": {
        "id": "zB0zH7AfTZXm",
        "colab": {
          "base_uri": "https://localhost:8080/"
        },
        "outputId": "46b100d4-a218-4662-8269-3a890d287994"
      },
      "execution_count": 19,
      "outputs": [
        {
          "output_type": "execute_result",
          "data": {
            "text/plain": [
              "array([[1., 1., 1.],\n",
              "       [1., 1., 1.],\n",
              "       [1., 1., 1.]])"
            ]
          },
          "metadata": {},
          "execution_count": 19
        }
      ]
    },
    {
      "cell_type": "code",
      "source": [
        "a[2,1] = 20\n",
        "a"
      ],
      "metadata": {
        "id": "bv5GREeHTZU-",
        "colab": {
          "base_uri": "https://localhost:8080/"
        },
        "outputId": "89b9d33c-644a-40f7-d6b0-dd0622e142d5"
      },
      "execution_count": 22,
      "outputs": [
        {
          "output_type": "execute_result",
          "data": {
            "text/plain": [
              "array([[ 1.,  1.,  1.],\n",
              "       [ 1.,  1.,  1.],\n",
              "       [ 1., 20., 20.]])"
            ]
          },
          "metadata": {},
          "execution_count": 22
        }
      ]
    },
    {
      "cell_type": "code",
      "source": [
        "## random \n",
        "\n",
        "np.random.random(3)"
      ],
      "metadata": {
        "id": "Hv_v-MNGTZSG",
        "colab": {
          "base_uri": "https://localhost:8080/"
        },
        "outputId": "77f58c2f-abde-4c7f-9484-02e8540b9fd8"
      },
      "execution_count": 25,
      "outputs": [
        {
          "output_type": "execute_result",
          "data": {
            "text/plain": [
              "array([0.98120025, 0.44861882, 0.07907128])"
            ]
          },
          "metadata": {},
          "execution_count": 25
        }
      ]
    },
    {
      "cell_type": "code",
      "source": [
        "np.random.randn(3,4)"
      ],
      "metadata": {
        "id": "zIG7j5VzTZPg",
        "colab": {
          "base_uri": "https://localhost:8080/"
        },
        "outputId": "f4b96d1d-8b40-48a9-f926-4a5f7cf96270"
      },
      "execution_count": 26,
      "outputs": [
        {
          "output_type": "execute_result",
          "data": {
            "text/plain": [
              "array([[ 0.72715777, -1.40379975,  1.59461133, -0.23535872],\n",
              "       [-0.06078121,  0.48694336,  0.35423667,  2.37537095],\n",
              "       [-0.38892552, -2.31802557,  0.47374719, -0.19168539]])"
            ]
          },
          "metadata": {},
          "execution_count": 26
        }
      ]
    },
    {
      "cell_type": "code",
      "source": [
        "a.std() , a.mean()"
      ],
      "metadata": {
        "id": "_uUAoruYTZMw",
        "colab": {
          "base_uri": "https://localhost:8080/"
        },
        "outputId": "d1713b40-9992-4956-e6c7-00882d747ed7"
      },
      "execution_count": 31,
      "outputs": [
        {
          "output_type": "execute_result",
          "data": {
            "text/plain": [
              "(7.899054483189432, 5.222222222222222)"
            ]
          },
          "metadata": {},
          "execution_count": 31
        }
      ]
    },
    {
      "cell_type": "code",
      "source": [
        "## Vector operations\n",
        "\n",
        "u = np.array([2,3,4,5])\n",
        "u*2"
      ],
      "metadata": {
        "id": "pOLA5tZbTZKH",
        "colab": {
          "base_uri": "https://localhost:8080/"
        },
        "outputId": "ae516091-80b8-422e-83c1-eead350d19d2"
      },
      "execution_count": 32,
      "outputs": [
        {
          "output_type": "execute_result",
          "data": {
            "text/plain": [
              "array([ 4,  6,  8, 10])"
            ]
          },
          "metadata": {},
          "execution_count": 32
        }
      ]
    },
    {
      "cell_type": "code",
      "source": [
        "v = np.array([1, 0, 0, 2])\n",
        "\n",
        "u + v"
      ],
      "metadata": {
        "colab": {
          "base_uri": "https://localhost:8080/"
        },
        "id": "2LFZIXZv-eZ0",
        "outputId": "c02471b9-c1f5-4bb3-d6eb-da39dfe128cd"
      },
      "execution_count": 33,
      "outputs": [
        {
          "output_type": "execute_result",
          "data": {
            "text/plain": [
              "array([3, 3, 4, 7])"
            ]
          },
          "metadata": {},
          "execution_count": 33
        }
      ]
    },
    {
      "cell_type": "code",
      "source": [
        "u * v"
      ],
      "metadata": {
        "colab": {
          "base_uri": "https://localhost:8080/"
        },
        "id": "-c0KwnXe-iMU",
        "outputId": "148115bc-20fa-4e78-a3ec-c584ccb5254c"
      },
      "execution_count": 34,
      "outputs": [
        {
          "output_type": "execute_result",
          "data": {
            "text/plain": [
              "array([ 2,  0,  0, 10])"
            ]
          },
          "metadata": {},
          "execution_count": 34
        }
      ]
    },
    {
      "cell_type": "code",
      "source": [
        "## Multiplication\n",
        "\n",
        "v.shape[0]"
      ],
      "metadata": {
        "colab": {
          "base_uri": "https://localhost:8080/"
        },
        "id": "sh0xhhAf-n6T",
        "outputId": "a1a8ef7e-26c5-42b5-f161-a7b0ab88654e"
      },
      "execution_count": 37,
      "outputs": [
        {
          "output_type": "execute_result",
          "data": {
            "text/plain": [
              "4"
            ]
          },
          "metadata": {},
          "execution_count": 37
        }
      ]
    },
    {
      "cell_type": "code",
      "source": [
        "def vector_vector_multiplication(u,v):\n",
        "  assert u.shape[0] == v.shape[0]\n",
        "  n = u.shape[0]\n",
        "  r = 0.0\n",
        "  for i in range(n):\n",
        "    r = r + u[i] * v[i]\n",
        "  return r\n",
        "\n",
        "vector_vector_multiplication(u,v)"
      ],
      "metadata": {
        "colab": {
          "base_uri": "https://localhost:8080/"
        },
        "id": "Y97PUD2r-xOE",
        "outputId": "67908b52-197c-481e-c36c-a3854ee902e5"
      },
      "execution_count": 39,
      "outputs": [
        {
          "output_type": "execute_result",
          "data": {
            "text/plain": [
              "12.0"
            ]
          },
          "metadata": {},
          "execution_count": 39
        }
      ]
    },
    {
      "cell_type": "code",
      "source": [
        "u.dot(v)"
      ],
      "metadata": {
        "colab": {
          "base_uri": "https://localhost:8080/"
        },
        "id": "7kfaM8O5_RVE",
        "outputId": "5868afa4-5371-4790-d9f1-53e528288294"
      },
      "execution_count": 40,
      "outputs": [
        {
          "output_type": "execute_result",
          "data": {
            "text/plain": [
              "12"
            ]
          },
          "metadata": {},
          "execution_count": 40
        }
      ]
    },
    {
      "cell_type": "code",
      "source": [
        "U = np.array([\n",
        "    [2, 4, 5, 6],\n",
        "    [1, 2, 1, 2],\n",
        "    [3, 1, 2, 1],\n",
        "])\n",
        "\n",
        "def matrix_vector_multiplication(U, v):\n",
        "    assert U.shape[1] == v.shape[0]\n",
        "    \n",
        "    num_rows = U.shape[0]\n",
        "    \n",
        "    result = np.zeros(num_rows)\n",
        "    \n",
        "    for i in range(num_rows):\n",
        "        result[i] = vector_vector_multiplication(U[i], v)\n",
        "    \n",
        "    return result\n",
        "\n",
        "matrix_vector_multiplication(U,v)\n"
      ],
      "metadata": {
        "colab": {
          "base_uri": "https://localhost:8080/"
        },
        "id": "gGR-Pfd__aQz",
        "outputId": "7563a9d4-a497-4824-ad81-b8a439701083"
      },
      "execution_count": 42,
      "outputs": [
        {
          "output_type": "execute_result",
          "data": {
            "text/plain": [
              "array([14.,  5.,  5.])"
            ]
          },
          "metadata": {},
          "execution_count": 42
        }
      ]
    },
    {
      "cell_type": "markdown",
      "source": [
        "DataFrames"
      ],
      "metadata": {
        "id": "q_tayZWeAObT"
      }
    },
    {
      "cell_type": "code",
      "source": [
        "import pandas as pd\n",
        "\n",
        "\n",
        "data = [\n",
        "    ['Nissan', 'Stanza', 1991, 138, 4, 'MANUAL', 'sedan', 2000],\n",
        "    ['Hyundai', 'Sonata', 2017, None, 4, 'AUTOMATIC', 'Sedan', 27150],\n",
        "    ['Lotus', 'Elise', 2010, 218, 4, 'MANUAL', 'convertible', 54990],\n",
        "    ['GMC', 'Acadia',  2017, 194, 4, 'AUTOMATIC', '4dr SUV', 34450],\n",
        "    ['Nissan', 'Frontier', 2017, 261, 6, 'MANUAL', 'Pickup', 32340],\n",
        "]\n",
        "\n",
        "columns = [\n",
        "    'Make', 'Model', 'Year', 'Engine HP', 'Engine Cylinders',\n",
        "    'Transmission Type', 'Vehicle_Style', 'MSRP'\n",
        "]\n",
        "\n",
        "df = pd.DataFrame(data,columns=columns)\n",
        "df"
      ],
      "metadata": {
        "colab": {
          "base_uri": "https://localhost:8080/",
          "height": 206
        },
        "id": "gWv18Mmu_iXz",
        "outputId": "fa5448ff-971a-4536-9dab-78af226baa05"
      },
      "execution_count": 44,
      "outputs": [
        {
          "output_type": "execute_result",
          "data": {
            "text/plain": [
              "      Make     Model  Year  Engine HP  Engine Cylinders Transmission Type  \\\n",
              "0   Nissan    Stanza  1991      138.0                 4            MANUAL   \n",
              "1  Hyundai    Sonata  2017        NaN                 4         AUTOMATIC   \n",
              "2    Lotus     Elise  2010      218.0                 4            MANUAL   \n",
              "3      GMC    Acadia  2017      194.0                 4         AUTOMATIC   \n",
              "4   Nissan  Frontier  2017      261.0                 6            MANUAL   \n",
              "\n",
              "  Vehicle_Style   MSRP  \n",
              "0         sedan   2000  \n",
              "1         Sedan  27150  \n",
              "2   convertible  54990  \n",
              "3       4dr SUV  34450  \n",
              "4        Pickup  32340  "
            ],
            "text/html": [
              "\n",
              "  <div id=\"df-51598de7-eeb3-4582-96f1-feebfc4c6130\">\n",
              "    <div class=\"colab-df-container\">\n",
              "      <div>\n",
              "<style scoped>\n",
              "    .dataframe tbody tr th:only-of-type {\n",
              "        vertical-align: middle;\n",
              "    }\n",
              "\n",
              "    .dataframe tbody tr th {\n",
              "        vertical-align: top;\n",
              "    }\n",
              "\n",
              "    .dataframe thead th {\n",
              "        text-align: right;\n",
              "    }\n",
              "</style>\n",
              "<table border=\"1\" class=\"dataframe\">\n",
              "  <thead>\n",
              "    <tr style=\"text-align: right;\">\n",
              "      <th></th>\n",
              "      <th>Make</th>\n",
              "      <th>Model</th>\n",
              "      <th>Year</th>\n",
              "      <th>Engine HP</th>\n",
              "      <th>Engine Cylinders</th>\n",
              "      <th>Transmission Type</th>\n",
              "      <th>Vehicle_Style</th>\n",
              "      <th>MSRP</th>\n",
              "    </tr>\n",
              "  </thead>\n",
              "  <tbody>\n",
              "    <tr>\n",
              "      <th>0</th>\n",
              "      <td>Nissan</td>\n",
              "      <td>Stanza</td>\n",
              "      <td>1991</td>\n",
              "      <td>138.0</td>\n",
              "      <td>4</td>\n",
              "      <td>MANUAL</td>\n",
              "      <td>sedan</td>\n",
              "      <td>2000</td>\n",
              "    </tr>\n",
              "    <tr>\n",
              "      <th>1</th>\n",
              "      <td>Hyundai</td>\n",
              "      <td>Sonata</td>\n",
              "      <td>2017</td>\n",
              "      <td>NaN</td>\n",
              "      <td>4</td>\n",
              "      <td>AUTOMATIC</td>\n",
              "      <td>Sedan</td>\n",
              "      <td>27150</td>\n",
              "    </tr>\n",
              "    <tr>\n",
              "      <th>2</th>\n",
              "      <td>Lotus</td>\n",
              "      <td>Elise</td>\n",
              "      <td>2010</td>\n",
              "      <td>218.0</td>\n",
              "      <td>4</td>\n",
              "      <td>MANUAL</td>\n",
              "      <td>convertible</td>\n",
              "      <td>54990</td>\n",
              "    </tr>\n",
              "    <tr>\n",
              "      <th>3</th>\n",
              "      <td>GMC</td>\n",
              "      <td>Acadia</td>\n",
              "      <td>2017</td>\n",
              "      <td>194.0</td>\n",
              "      <td>4</td>\n",
              "      <td>AUTOMATIC</td>\n",
              "      <td>4dr SUV</td>\n",
              "      <td>34450</td>\n",
              "    </tr>\n",
              "    <tr>\n",
              "      <th>4</th>\n",
              "      <td>Nissan</td>\n",
              "      <td>Frontier</td>\n",
              "      <td>2017</td>\n",
              "      <td>261.0</td>\n",
              "      <td>6</td>\n",
              "      <td>MANUAL</td>\n",
              "      <td>Pickup</td>\n",
              "      <td>32340</td>\n",
              "    </tr>\n",
              "  </tbody>\n",
              "</table>\n",
              "</div>\n",
              "      <button class=\"colab-df-convert\" onclick=\"convertToInteractive('df-51598de7-eeb3-4582-96f1-feebfc4c6130')\"\n",
              "              title=\"Convert this dataframe to an interactive table.\"\n",
              "              style=\"display:none;\">\n",
              "        \n",
              "  <svg xmlns=\"http://www.w3.org/2000/svg\" height=\"24px\"viewBox=\"0 0 24 24\"\n",
              "       width=\"24px\">\n",
              "    <path d=\"M0 0h24v24H0V0z\" fill=\"none\"/>\n",
              "    <path d=\"M18.56 5.44l.94 2.06.94-2.06 2.06-.94-2.06-.94-.94-2.06-.94 2.06-2.06.94zm-11 1L8.5 8.5l.94-2.06 2.06-.94-2.06-.94L8.5 2.5l-.94 2.06-2.06.94zm10 10l.94 2.06.94-2.06 2.06-.94-2.06-.94-.94-2.06-.94 2.06-2.06.94z\"/><path d=\"M17.41 7.96l-1.37-1.37c-.4-.4-.92-.59-1.43-.59-.52 0-1.04.2-1.43.59L10.3 9.45l-7.72 7.72c-.78.78-.78 2.05 0 2.83L4 21.41c.39.39.9.59 1.41.59.51 0 1.02-.2 1.41-.59l7.78-7.78 2.81-2.81c.8-.78.8-2.07 0-2.86zM5.41 20L4 18.59l7.72-7.72 1.47 1.35L5.41 20z\"/>\n",
              "  </svg>\n",
              "      </button>\n",
              "      \n",
              "  <style>\n",
              "    .colab-df-container {\n",
              "      display:flex;\n",
              "      flex-wrap:wrap;\n",
              "      gap: 12px;\n",
              "    }\n",
              "\n",
              "    .colab-df-convert {\n",
              "      background-color: #E8F0FE;\n",
              "      border: none;\n",
              "      border-radius: 50%;\n",
              "      cursor: pointer;\n",
              "      display: none;\n",
              "      fill: #1967D2;\n",
              "      height: 32px;\n",
              "      padding: 0 0 0 0;\n",
              "      width: 32px;\n",
              "    }\n",
              "\n",
              "    .colab-df-convert:hover {\n",
              "      background-color: #E2EBFA;\n",
              "      box-shadow: 0px 1px 2px rgba(60, 64, 67, 0.3), 0px 1px 3px 1px rgba(60, 64, 67, 0.15);\n",
              "      fill: #174EA6;\n",
              "    }\n",
              "\n",
              "    [theme=dark] .colab-df-convert {\n",
              "      background-color: #3B4455;\n",
              "      fill: #D2E3FC;\n",
              "    }\n",
              "\n",
              "    [theme=dark] .colab-df-convert:hover {\n",
              "      background-color: #434B5C;\n",
              "      box-shadow: 0px 1px 3px 1px rgba(0, 0, 0, 0.15);\n",
              "      filter: drop-shadow(0px 1px 2px rgba(0, 0, 0, 0.3));\n",
              "      fill: #FFFFFF;\n",
              "    }\n",
              "  </style>\n",
              "\n",
              "      <script>\n",
              "        const buttonEl =\n",
              "          document.querySelector('#df-51598de7-eeb3-4582-96f1-feebfc4c6130 button.colab-df-convert');\n",
              "        buttonEl.style.display =\n",
              "          google.colab.kernel.accessAllowed ? 'block' : 'none';\n",
              "\n",
              "        async function convertToInteractive(key) {\n",
              "          const element = document.querySelector('#df-51598de7-eeb3-4582-96f1-feebfc4c6130');\n",
              "          const dataTable =\n",
              "            await google.colab.kernel.invokeFunction('convertToInteractive',\n",
              "                                                     [key], {});\n",
              "          if (!dataTable) return;\n",
              "\n",
              "          const docLinkHtml = 'Like what you see? Visit the ' +\n",
              "            '<a target=\"_blank\" href=https://colab.research.google.com/notebooks/data_table.ipynb>data table notebook</a>'\n",
              "            + ' to learn more about interactive tables.';\n",
              "          element.innerHTML = '';\n",
              "          dataTable['output_type'] = 'display_data';\n",
              "          await google.colab.output.renderOutput(dataTable, element);\n",
              "          const docLink = document.createElement('div');\n",
              "          docLink.innerHTML = docLinkHtml;\n",
              "          element.appendChild(docLink);\n",
              "        }\n",
              "      </script>\n",
              "    </div>\n",
              "  </div>\n",
              "  "
            ]
          },
          "metadata": {},
          "execution_count": 44
        }
      ]
    },
    {
      "cell_type": "code",
      "source": [
        "data = [\n",
        "    {\n",
        "        \"Make\": \"Nissan\",\n",
        "        \"Model\": \"Stanza\",\n",
        "        \"Year\": 1991,\n",
        "        \"Engine HP\": 138.0,\n",
        "        \"Engine Cylinders\": 4,\n",
        "        \"Transmission Type\": \"MANUAL\",\n",
        "        \"Vehicle_Style\": \"sedan\",\n",
        "        \"MSRP\": 2000\n",
        "    },\n",
        "    {\n",
        "        \"Make\": \"Hyundai\",\n",
        "        \"Model\": \"Sonata\",\n",
        "        \"Year\": 2017,\n",
        "        \"Engine HP\": None,\n",
        "        \"Engine Cylinders\": 4,\n",
        "        \"Transmission Type\": \"AUTOMATIC\",\n",
        "        \"Vehicle_Style\": \"Sedan\",\n",
        "        \"MSRP\": 27150\n",
        "    },\n",
        "    {\n",
        "        \"Make\": \"Lotus\",\n",
        "        \"Model\": \"Elise\",\n",
        "        \"Year\": 2010,\n",
        "        \"Engine HP\": 218.0,\n",
        "        \"Engine Cylinders\": 4,\n",
        "        \"Transmission Type\": \"MANUAL\",\n",
        "        \"Vehicle_Style\": \"convertible\",\n",
        "        \"MSRP\": 54990\n",
        "    },\n",
        "    {\n",
        "        \"Make\": \"GMC\",\n",
        "        \"Model\": \"Acadia\",\n",
        "        \"Year\": 2017,\n",
        "        \"Engine HP\": 194.0,\n",
        "        \"Engine Cylinders\": 4,\n",
        "        \"Transmission Type\": \"AUTOMATIC\",\n",
        "        \"Vehicle_Style\": \"4dr SUV\",\n",
        "        \"MSRP\": 34450\n",
        "    },\n",
        "    {\n",
        "        \"Make\": \"Nissan\",\n",
        "        \"Model\": \"Frontier\",\n",
        "        \"Year\": 2017,\n",
        "        \"Engine HP\": 261.0,\n",
        "        \"Engine Cylinders\": 6,\n",
        "        \"Transmission Type\": \"MANUAL\",\n",
        "        \"Vehicle_Style\": \"Pickup\",\n",
        "        \"MSRP\": 32340\n",
        "    }\n",
        "]\n",
        "\n",
        "df1 = pd.DataFrame(data)\n",
        "df1"
      ],
      "metadata": {
        "colab": {
          "base_uri": "https://localhost:8080/",
          "height": 206
        },
        "id": "NtxGEoe2AM2D",
        "outputId": "757e480d-7012-4f5f-f800-c759dfcff0e3"
      },
      "execution_count": 45,
      "outputs": [
        {
          "output_type": "execute_result",
          "data": {
            "text/plain": [
              "      Make     Model  Year  Engine HP  Engine Cylinders Transmission Type  \\\n",
              "0   Nissan    Stanza  1991      138.0                 4            MANUAL   \n",
              "1  Hyundai    Sonata  2017        NaN                 4         AUTOMATIC   \n",
              "2    Lotus     Elise  2010      218.0                 4            MANUAL   \n",
              "3      GMC    Acadia  2017      194.0                 4         AUTOMATIC   \n",
              "4   Nissan  Frontier  2017      261.0                 6            MANUAL   \n",
              "\n",
              "  Vehicle_Style   MSRP  \n",
              "0         sedan   2000  \n",
              "1         Sedan  27150  \n",
              "2   convertible  54990  \n",
              "3       4dr SUV  34450  \n",
              "4        Pickup  32340  "
            ],
            "text/html": [
              "\n",
              "  <div id=\"df-9e85aff8-3528-4dbe-9f5e-e602abde0848\">\n",
              "    <div class=\"colab-df-container\">\n",
              "      <div>\n",
              "<style scoped>\n",
              "    .dataframe tbody tr th:only-of-type {\n",
              "        vertical-align: middle;\n",
              "    }\n",
              "\n",
              "    .dataframe tbody tr th {\n",
              "        vertical-align: top;\n",
              "    }\n",
              "\n",
              "    .dataframe thead th {\n",
              "        text-align: right;\n",
              "    }\n",
              "</style>\n",
              "<table border=\"1\" class=\"dataframe\">\n",
              "  <thead>\n",
              "    <tr style=\"text-align: right;\">\n",
              "      <th></th>\n",
              "      <th>Make</th>\n",
              "      <th>Model</th>\n",
              "      <th>Year</th>\n",
              "      <th>Engine HP</th>\n",
              "      <th>Engine Cylinders</th>\n",
              "      <th>Transmission Type</th>\n",
              "      <th>Vehicle_Style</th>\n",
              "      <th>MSRP</th>\n",
              "    </tr>\n",
              "  </thead>\n",
              "  <tbody>\n",
              "    <tr>\n",
              "      <th>0</th>\n",
              "      <td>Nissan</td>\n",
              "      <td>Stanza</td>\n",
              "      <td>1991</td>\n",
              "      <td>138.0</td>\n",
              "      <td>4</td>\n",
              "      <td>MANUAL</td>\n",
              "      <td>sedan</td>\n",
              "      <td>2000</td>\n",
              "    </tr>\n",
              "    <tr>\n",
              "      <th>1</th>\n",
              "      <td>Hyundai</td>\n",
              "      <td>Sonata</td>\n",
              "      <td>2017</td>\n",
              "      <td>NaN</td>\n",
              "      <td>4</td>\n",
              "      <td>AUTOMATIC</td>\n",
              "      <td>Sedan</td>\n",
              "      <td>27150</td>\n",
              "    </tr>\n",
              "    <tr>\n",
              "      <th>2</th>\n",
              "      <td>Lotus</td>\n",
              "      <td>Elise</td>\n",
              "      <td>2010</td>\n",
              "      <td>218.0</td>\n",
              "      <td>4</td>\n",
              "      <td>MANUAL</td>\n",
              "      <td>convertible</td>\n",
              "      <td>54990</td>\n",
              "    </tr>\n",
              "    <tr>\n",
              "      <th>3</th>\n",
              "      <td>GMC</td>\n",
              "      <td>Acadia</td>\n",
              "      <td>2017</td>\n",
              "      <td>194.0</td>\n",
              "      <td>4</td>\n",
              "      <td>AUTOMATIC</td>\n",
              "      <td>4dr SUV</td>\n",
              "      <td>34450</td>\n",
              "    </tr>\n",
              "    <tr>\n",
              "      <th>4</th>\n",
              "      <td>Nissan</td>\n",
              "      <td>Frontier</td>\n",
              "      <td>2017</td>\n",
              "      <td>261.0</td>\n",
              "      <td>6</td>\n",
              "      <td>MANUAL</td>\n",
              "      <td>Pickup</td>\n",
              "      <td>32340</td>\n",
              "    </tr>\n",
              "  </tbody>\n",
              "</table>\n",
              "</div>\n",
              "      <button class=\"colab-df-convert\" onclick=\"convertToInteractive('df-9e85aff8-3528-4dbe-9f5e-e602abde0848')\"\n",
              "              title=\"Convert this dataframe to an interactive table.\"\n",
              "              style=\"display:none;\">\n",
              "        \n",
              "  <svg xmlns=\"http://www.w3.org/2000/svg\" height=\"24px\"viewBox=\"0 0 24 24\"\n",
              "       width=\"24px\">\n",
              "    <path d=\"M0 0h24v24H0V0z\" fill=\"none\"/>\n",
              "    <path d=\"M18.56 5.44l.94 2.06.94-2.06 2.06-.94-2.06-.94-.94-2.06-.94 2.06-2.06.94zm-11 1L8.5 8.5l.94-2.06 2.06-.94-2.06-.94L8.5 2.5l-.94 2.06-2.06.94zm10 10l.94 2.06.94-2.06 2.06-.94-2.06-.94-.94-2.06-.94 2.06-2.06.94z\"/><path d=\"M17.41 7.96l-1.37-1.37c-.4-.4-.92-.59-1.43-.59-.52 0-1.04.2-1.43.59L10.3 9.45l-7.72 7.72c-.78.78-.78 2.05 0 2.83L4 21.41c.39.39.9.59 1.41.59.51 0 1.02-.2 1.41-.59l7.78-7.78 2.81-2.81c.8-.78.8-2.07 0-2.86zM5.41 20L4 18.59l7.72-7.72 1.47 1.35L5.41 20z\"/>\n",
              "  </svg>\n",
              "      </button>\n",
              "      \n",
              "  <style>\n",
              "    .colab-df-container {\n",
              "      display:flex;\n",
              "      flex-wrap:wrap;\n",
              "      gap: 12px;\n",
              "    }\n",
              "\n",
              "    .colab-df-convert {\n",
              "      background-color: #E8F0FE;\n",
              "      border: none;\n",
              "      border-radius: 50%;\n",
              "      cursor: pointer;\n",
              "      display: none;\n",
              "      fill: #1967D2;\n",
              "      height: 32px;\n",
              "      padding: 0 0 0 0;\n",
              "      width: 32px;\n",
              "    }\n",
              "\n",
              "    .colab-df-convert:hover {\n",
              "      background-color: #E2EBFA;\n",
              "      box-shadow: 0px 1px 2px rgba(60, 64, 67, 0.3), 0px 1px 3px 1px rgba(60, 64, 67, 0.15);\n",
              "      fill: #174EA6;\n",
              "    }\n",
              "\n",
              "    [theme=dark] .colab-df-convert {\n",
              "      background-color: #3B4455;\n",
              "      fill: #D2E3FC;\n",
              "    }\n",
              "\n",
              "    [theme=dark] .colab-df-convert:hover {\n",
              "      background-color: #434B5C;\n",
              "      box-shadow: 0px 1px 3px 1px rgba(0, 0, 0, 0.15);\n",
              "      filter: drop-shadow(0px 1px 2px rgba(0, 0, 0, 0.3));\n",
              "      fill: #FFFFFF;\n",
              "    }\n",
              "  </style>\n",
              "\n",
              "      <script>\n",
              "        const buttonEl =\n",
              "          document.querySelector('#df-9e85aff8-3528-4dbe-9f5e-e602abde0848 button.colab-df-convert');\n",
              "        buttonEl.style.display =\n",
              "          google.colab.kernel.accessAllowed ? 'block' : 'none';\n",
              "\n",
              "        async function convertToInteractive(key) {\n",
              "          const element = document.querySelector('#df-9e85aff8-3528-4dbe-9f5e-e602abde0848');\n",
              "          const dataTable =\n",
              "            await google.colab.kernel.invokeFunction('convertToInteractive',\n",
              "                                                     [key], {});\n",
              "          if (!dataTable) return;\n",
              "\n",
              "          const docLinkHtml = 'Like what you see? Visit the ' +\n",
              "            '<a target=\"_blank\" href=https://colab.research.google.com/notebooks/data_table.ipynb>data table notebook</a>'\n",
              "            + ' to learn more about interactive tables.';\n",
              "          element.innerHTML = '';\n",
              "          dataTable['output_type'] = 'display_data';\n",
              "          await google.colab.output.renderOutput(dataTable, element);\n",
              "          const docLink = document.createElement('div');\n",
              "          docLink.innerHTML = docLinkHtml;\n",
              "          element.appendChild(docLink);\n",
              "        }\n",
              "      </script>\n",
              "    </div>\n",
              "  </div>\n",
              "  "
            ]
          },
          "metadata": {},
          "execution_count": 45
        }
      ]
    },
    {
      "cell_type": "code",
      "source": [
        "df[['Make','Model','Year']]"
      ],
      "metadata": {
        "colab": {
          "base_uri": "https://localhost:8080/",
          "height": 206
        },
        "id": "gBjPpQFKAtai",
        "outputId": "f9a97a51-e1fd-4b8c-f849-27cc64782cee"
      },
      "execution_count": 46,
      "outputs": [
        {
          "output_type": "execute_result",
          "data": {
            "text/plain": [
              "      Make     Model  Year\n",
              "0   Nissan    Stanza  1991\n",
              "1  Hyundai    Sonata  2017\n",
              "2    Lotus     Elise  2010\n",
              "3      GMC    Acadia  2017\n",
              "4   Nissan  Frontier  2017"
            ],
            "text/html": [
              "\n",
              "  <div id=\"df-40b5acce-e733-48e3-894c-73ba300affd2\">\n",
              "    <div class=\"colab-df-container\">\n",
              "      <div>\n",
              "<style scoped>\n",
              "    .dataframe tbody tr th:only-of-type {\n",
              "        vertical-align: middle;\n",
              "    }\n",
              "\n",
              "    .dataframe tbody tr th {\n",
              "        vertical-align: top;\n",
              "    }\n",
              "\n",
              "    .dataframe thead th {\n",
              "        text-align: right;\n",
              "    }\n",
              "</style>\n",
              "<table border=\"1\" class=\"dataframe\">\n",
              "  <thead>\n",
              "    <tr style=\"text-align: right;\">\n",
              "      <th></th>\n",
              "      <th>Make</th>\n",
              "      <th>Model</th>\n",
              "      <th>Year</th>\n",
              "    </tr>\n",
              "  </thead>\n",
              "  <tbody>\n",
              "    <tr>\n",
              "      <th>0</th>\n",
              "      <td>Nissan</td>\n",
              "      <td>Stanza</td>\n",
              "      <td>1991</td>\n",
              "    </tr>\n",
              "    <tr>\n",
              "      <th>1</th>\n",
              "      <td>Hyundai</td>\n",
              "      <td>Sonata</td>\n",
              "      <td>2017</td>\n",
              "    </tr>\n",
              "    <tr>\n",
              "      <th>2</th>\n",
              "      <td>Lotus</td>\n",
              "      <td>Elise</td>\n",
              "      <td>2010</td>\n",
              "    </tr>\n",
              "    <tr>\n",
              "      <th>3</th>\n",
              "      <td>GMC</td>\n",
              "      <td>Acadia</td>\n",
              "      <td>2017</td>\n",
              "    </tr>\n",
              "    <tr>\n",
              "      <th>4</th>\n",
              "      <td>Nissan</td>\n",
              "      <td>Frontier</td>\n",
              "      <td>2017</td>\n",
              "    </tr>\n",
              "  </tbody>\n",
              "</table>\n",
              "</div>\n",
              "      <button class=\"colab-df-convert\" onclick=\"convertToInteractive('df-40b5acce-e733-48e3-894c-73ba300affd2')\"\n",
              "              title=\"Convert this dataframe to an interactive table.\"\n",
              "              style=\"display:none;\">\n",
              "        \n",
              "  <svg xmlns=\"http://www.w3.org/2000/svg\" height=\"24px\"viewBox=\"0 0 24 24\"\n",
              "       width=\"24px\">\n",
              "    <path d=\"M0 0h24v24H0V0z\" fill=\"none\"/>\n",
              "    <path d=\"M18.56 5.44l.94 2.06.94-2.06 2.06-.94-2.06-.94-.94-2.06-.94 2.06-2.06.94zm-11 1L8.5 8.5l.94-2.06 2.06-.94-2.06-.94L8.5 2.5l-.94 2.06-2.06.94zm10 10l.94 2.06.94-2.06 2.06-.94-2.06-.94-.94-2.06-.94 2.06-2.06.94z\"/><path d=\"M17.41 7.96l-1.37-1.37c-.4-.4-.92-.59-1.43-.59-.52 0-1.04.2-1.43.59L10.3 9.45l-7.72 7.72c-.78.78-.78 2.05 0 2.83L4 21.41c.39.39.9.59 1.41.59.51 0 1.02-.2 1.41-.59l7.78-7.78 2.81-2.81c.8-.78.8-2.07 0-2.86zM5.41 20L4 18.59l7.72-7.72 1.47 1.35L5.41 20z\"/>\n",
              "  </svg>\n",
              "      </button>\n",
              "      \n",
              "  <style>\n",
              "    .colab-df-container {\n",
              "      display:flex;\n",
              "      flex-wrap:wrap;\n",
              "      gap: 12px;\n",
              "    }\n",
              "\n",
              "    .colab-df-convert {\n",
              "      background-color: #E8F0FE;\n",
              "      border: none;\n",
              "      border-radius: 50%;\n",
              "      cursor: pointer;\n",
              "      display: none;\n",
              "      fill: #1967D2;\n",
              "      height: 32px;\n",
              "      padding: 0 0 0 0;\n",
              "      width: 32px;\n",
              "    }\n",
              "\n",
              "    .colab-df-convert:hover {\n",
              "      background-color: #E2EBFA;\n",
              "      box-shadow: 0px 1px 2px rgba(60, 64, 67, 0.3), 0px 1px 3px 1px rgba(60, 64, 67, 0.15);\n",
              "      fill: #174EA6;\n",
              "    }\n",
              "\n",
              "    [theme=dark] .colab-df-convert {\n",
              "      background-color: #3B4455;\n",
              "      fill: #D2E3FC;\n",
              "    }\n",
              "\n",
              "    [theme=dark] .colab-df-convert:hover {\n",
              "      background-color: #434B5C;\n",
              "      box-shadow: 0px 1px 3px 1px rgba(0, 0, 0, 0.15);\n",
              "      filter: drop-shadow(0px 1px 2px rgba(0, 0, 0, 0.3));\n",
              "      fill: #FFFFFF;\n",
              "    }\n",
              "  </style>\n",
              "\n",
              "      <script>\n",
              "        const buttonEl =\n",
              "          document.querySelector('#df-40b5acce-e733-48e3-894c-73ba300affd2 button.colab-df-convert');\n",
              "        buttonEl.style.display =\n",
              "          google.colab.kernel.accessAllowed ? 'block' : 'none';\n",
              "\n",
              "        async function convertToInteractive(key) {\n",
              "          const element = document.querySelector('#df-40b5acce-e733-48e3-894c-73ba300affd2');\n",
              "          const dataTable =\n",
              "            await google.colab.kernel.invokeFunction('convertToInteractive',\n",
              "                                                     [key], {});\n",
              "          if (!dataTable) return;\n",
              "\n",
              "          const docLinkHtml = 'Like what you see? Visit the ' +\n",
              "            '<a target=\"_blank\" href=https://colab.research.google.com/notebooks/data_table.ipynb>data table notebook</a>'\n",
              "            + ' to learn more about interactive tables.';\n",
              "          element.innerHTML = '';\n",
              "          dataTable['output_type'] = 'display_data';\n",
              "          await google.colab.output.renderOutput(dataTable, element);\n",
              "          const docLink = document.createElement('div');\n",
              "          docLink.innerHTML = docLinkHtml;\n",
              "          element.appendChild(docLink);\n",
              "        }\n",
              "      </script>\n",
              "    </div>\n",
              "  </div>\n",
              "  "
            ]
          },
          "metadata": {},
          "execution_count": 46
        }
      ]
    },
    {
      "cell_type": "code",
      "source": [
        "df.index = ['a','b','c','d','e']\n",
        "df"
      ],
      "metadata": {
        "colab": {
          "base_uri": "https://localhost:8080/",
          "height": 206
        },
        "id": "xoGqbHMgA8Yi",
        "outputId": "e3894af9-513e-4cc9-c247-3968b4f2f7fe"
      },
      "execution_count": 47,
      "outputs": [
        {
          "output_type": "execute_result",
          "data": {
            "text/plain": [
              "      Make     Model  Year  Engine HP  Engine Cylinders Transmission Type  \\\n",
              "a   Nissan    Stanza  1991      138.0                 4            MANUAL   \n",
              "b  Hyundai    Sonata  2017        NaN                 4         AUTOMATIC   \n",
              "c    Lotus     Elise  2010      218.0                 4            MANUAL   \n",
              "d      GMC    Acadia  2017      194.0                 4         AUTOMATIC   \n",
              "e   Nissan  Frontier  2017      261.0                 6            MANUAL   \n",
              "\n",
              "  Vehicle_Style   MSRP  \n",
              "a         sedan   2000  \n",
              "b         Sedan  27150  \n",
              "c   convertible  54990  \n",
              "d       4dr SUV  34450  \n",
              "e        Pickup  32340  "
            ],
            "text/html": [
              "\n",
              "  <div id=\"df-799939fd-3423-4b94-85bc-cabd6a2734b0\">\n",
              "    <div class=\"colab-df-container\">\n",
              "      <div>\n",
              "<style scoped>\n",
              "    .dataframe tbody tr th:only-of-type {\n",
              "        vertical-align: middle;\n",
              "    }\n",
              "\n",
              "    .dataframe tbody tr th {\n",
              "        vertical-align: top;\n",
              "    }\n",
              "\n",
              "    .dataframe thead th {\n",
              "        text-align: right;\n",
              "    }\n",
              "</style>\n",
              "<table border=\"1\" class=\"dataframe\">\n",
              "  <thead>\n",
              "    <tr style=\"text-align: right;\">\n",
              "      <th></th>\n",
              "      <th>Make</th>\n",
              "      <th>Model</th>\n",
              "      <th>Year</th>\n",
              "      <th>Engine HP</th>\n",
              "      <th>Engine Cylinders</th>\n",
              "      <th>Transmission Type</th>\n",
              "      <th>Vehicle_Style</th>\n",
              "      <th>MSRP</th>\n",
              "    </tr>\n",
              "  </thead>\n",
              "  <tbody>\n",
              "    <tr>\n",
              "      <th>a</th>\n",
              "      <td>Nissan</td>\n",
              "      <td>Stanza</td>\n",
              "      <td>1991</td>\n",
              "      <td>138.0</td>\n",
              "      <td>4</td>\n",
              "      <td>MANUAL</td>\n",
              "      <td>sedan</td>\n",
              "      <td>2000</td>\n",
              "    </tr>\n",
              "    <tr>\n",
              "      <th>b</th>\n",
              "      <td>Hyundai</td>\n",
              "      <td>Sonata</td>\n",
              "      <td>2017</td>\n",
              "      <td>NaN</td>\n",
              "      <td>4</td>\n",
              "      <td>AUTOMATIC</td>\n",
              "      <td>Sedan</td>\n",
              "      <td>27150</td>\n",
              "    </tr>\n",
              "    <tr>\n",
              "      <th>c</th>\n",
              "      <td>Lotus</td>\n",
              "      <td>Elise</td>\n",
              "      <td>2010</td>\n",
              "      <td>218.0</td>\n",
              "      <td>4</td>\n",
              "      <td>MANUAL</td>\n",
              "      <td>convertible</td>\n",
              "      <td>54990</td>\n",
              "    </tr>\n",
              "    <tr>\n",
              "      <th>d</th>\n",
              "      <td>GMC</td>\n",
              "      <td>Acadia</td>\n",
              "      <td>2017</td>\n",
              "      <td>194.0</td>\n",
              "      <td>4</td>\n",
              "      <td>AUTOMATIC</td>\n",
              "      <td>4dr SUV</td>\n",
              "      <td>34450</td>\n",
              "    </tr>\n",
              "    <tr>\n",
              "      <th>e</th>\n",
              "      <td>Nissan</td>\n",
              "      <td>Frontier</td>\n",
              "      <td>2017</td>\n",
              "      <td>261.0</td>\n",
              "      <td>6</td>\n",
              "      <td>MANUAL</td>\n",
              "      <td>Pickup</td>\n",
              "      <td>32340</td>\n",
              "    </tr>\n",
              "  </tbody>\n",
              "</table>\n",
              "</div>\n",
              "      <button class=\"colab-df-convert\" onclick=\"convertToInteractive('df-799939fd-3423-4b94-85bc-cabd6a2734b0')\"\n",
              "              title=\"Convert this dataframe to an interactive table.\"\n",
              "              style=\"display:none;\">\n",
              "        \n",
              "  <svg xmlns=\"http://www.w3.org/2000/svg\" height=\"24px\"viewBox=\"0 0 24 24\"\n",
              "       width=\"24px\">\n",
              "    <path d=\"M0 0h24v24H0V0z\" fill=\"none\"/>\n",
              "    <path d=\"M18.56 5.44l.94 2.06.94-2.06 2.06-.94-2.06-.94-.94-2.06-.94 2.06-2.06.94zm-11 1L8.5 8.5l.94-2.06 2.06-.94-2.06-.94L8.5 2.5l-.94 2.06-2.06.94zm10 10l.94 2.06.94-2.06 2.06-.94-2.06-.94-.94-2.06-.94 2.06-2.06.94z\"/><path d=\"M17.41 7.96l-1.37-1.37c-.4-.4-.92-.59-1.43-.59-.52 0-1.04.2-1.43.59L10.3 9.45l-7.72 7.72c-.78.78-.78 2.05 0 2.83L4 21.41c.39.39.9.59 1.41.59.51 0 1.02-.2 1.41-.59l7.78-7.78 2.81-2.81c.8-.78.8-2.07 0-2.86zM5.41 20L4 18.59l7.72-7.72 1.47 1.35L5.41 20z\"/>\n",
              "  </svg>\n",
              "      </button>\n",
              "      \n",
              "  <style>\n",
              "    .colab-df-container {\n",
              "      display:flex;\n",
              "      flex-wrap:wrap;\n",
              "      gap: 12px;\n",
              "    }\n",
              "\n",
              "    .colab-df-convert {\n",
              "      background-color: #E8F0FE;\n",
              "      border: none;\n",
              "      border-radius: 50%;\n",
              "      cursor: pointer;\n",
              "      display: none;\n",
              "      fill: #1967D2;\n",
              "      height: 32px;\n",
              "      padding: 0 0 0 0;\n",
              "      width: 32px;\n",
              "    }\n",
              "\n",
              "    .colab-df-convert:hover {\n",
              "      background-color: #E2EBFA;\n",
              "      box-shadow: 0px 1px 2px rgba(60, 64, 67, 0.3), 0px 1px 3px 1px rgba(60, 64, 67, 0.15);\n",
              "      fill: #174EA6;\n",
              "    }\n",
              "\n",
              "    [theme=dark] .colab-df-convert {\n",
              "      background-color: #3B4455;\n",
              "      fill: #D2E3FC;\n",
              "    }\n",
              "\n",
              "    [theme=dark] .colab-df-convert:hover {\n",
              "      background-color: #434B5C;\n",
              "      box-shadow: 0px 1px 3px 1px rgba(0, 0, 0, 0.15);\n",
              "      filter: drop-shadow(0px 1px 2px rgba(0, 0, 0, 0.3));\n",
              "      fill: #FFFFFF;\n",
              "    }\n",
              "  </style>\n",
              "\n",
              "      <script>\n",
              "        const buttonEl =\n",
              "          document.querySelector('#df-799939fd-3423-4b94-85bc-cabd6a2734b0 button.colab-df-convert');\n",
              "        buttonEl.style.display =\n",
              "          google.colab.kernel.accessAllowed ? 'block' : 'none';\n",
              "\n",
              "        async function convertToInteractive(key) {\n",
              "          const element = document.querySelector('#df-799939fd-3423-4b94-85bc-cabd6a2734b0');\n",
              "          const dataTable =\n",
              "            await google.colab.kernel.invokeFunction('convertToInteractive',\n",
              "                                                     [key], {});\n",
              "          if (!dataTable) return;\n",
              "\n",
              "          const docLinkHtml = 'Like what you see? Visit the ' +\n",
              "            '<a target=\"_blank\" href=https://colab.research.google.com/notebooks/data_table.ipynb>data table notebook</a>'\n",
              "            + ' to learn more about interactive tables.';\n",
              "          element.innerHTML = '';\n",
              "          dataTable['output_type'] = 'display_data';\n",
              "          await google.colab.output.renderOutput(dataTable, element);\n",
              "          const docLink = document.createElement('div');\n",
              "          docLink.innerHTML = docLinkHtml;\n",
              "          element.appendChild(docLink);\n",
              "        }\n",
              "      </script>\n",
              "    </div>\n",
              "  </div>\n",
              "  "
            ]
          },
          "metadata": {},
          "execution_count": 47
        }
      ]
    },
    {
      "cell_type": "code",
      "source": [
        "## accessinf only column \n",
        "\n",
        "\n",
        "df.iloc[[1,2,4]][['Model','Year']]"
      ],
      "metadata": {
        "colab": {
          "base_uri": "https://localhost:8080/",
          "height": 144
        },
        "id": "Tf8GsG95BMoB",
        "outputId": "d019dcd6-2bf6-4553-d4e3-063d8a91eb30"
      },
      "execution_count": 52,
      "outputs": [
        {
          "output_type": "execute_result",
          "data": {
            "text/plain": [
              "      Model  Year\n",
              "b    Sonata  2017\n",
              "c     Elise  2010\n",
              "e  Frontier  2017"
            ],
            "text/html": [
              "\n",
              "  <div id=\"df-45e7cb3b-f533-4f21-838b-bf2e9e486b9e\">\n",
              "    <div class=\"colab-df-container\">\n",
              "      <div>\n",
              "<style scoped>\n",
              "    .dataframe tbody tr th:only-of-type {\n",
              "        vertical-align: middle;\n",
              "    }\n",
              "\n",
              "    .dataframe tbody tr th {\n",
              "        vertical-align: top;\n",
              "    }\n",
              "\n",
              "    .dataframe thead th {\n",
              "        text-align: right;\n",
              "    }\n",
              "</style>\n",
              "<table border=\"1\" class=\"dataframe\">\n",
              "  <thead>\n",
              "    <tr style=\"text-align: right;\">\n",
              "      <th></th>\n",
              "      <th>Model</th>\n",
              "      <th>Year</th>\n",
              "    </tr>\n",
              "  </thead>\n",
              "  <tbody>\n",
              "    <tr>\n",
              "      <th>b</th>\n",
              "      <td>Sonata</td>\n",
              "      <td>2017</td>\n",
              "    </tr>\n",
              "    <tr>\n",
              "      <th>c</th>\n",
              "      <td>Elise</td>\n",
              "      <td>2010</td>\n",
              "    </tr>\n",
              "    <tr>\n",
              "      <th>e</th>\n",
              "      <td>Frontier</td>\n",
              "      <td>2017</td>\n",
              "    </tr>\n",
              "  </tbody>\n",
              "</table>\n",
              "</div>\n",
              "      <button class=\"colab-df-convert\" onclick=\"convertToInteractive('df-45e7cb3b-f533-4f21-838b-bf2e9e486b9e')\"\n",
              "              title=\"Convert this dataframe to an interactive table.\"\n",
              "              style=\"display:none;\">\n",
              "        \n",
              "  <svg xmlns=\"http://www.w3.org/2000/svg\" height=\"24px\"viewBox=\"0 0 24 24\"\n",
              "       width=\"24px\">\n",
              "    <path d=\"M0 0h24v24H0V0z\" fill=\"none\"/>\n",
              "    <path d=\"M18.56 5.44l.94 2.06.94-2.06 2.06-.94-2.06-.94-.94-2.06-.94 2.06-2.06.94zm-11 1L8.5 8.5l.94-2.06 2.06-.94-2.06-.94L8.5 2.5l-.94 2.06-2.06.94zm10 10l.94 2.06.94-2.06 2.06-.94-2.06-.94-.94-2.06-.94 2.06-2.06.94z\"/><path d=\"M17.41 7.96l-1.37-1.37c-.4-.4-.92-.59-1.43-.59-.52 0-1.04.2-1.43.59L10.3 9.45l-7.72 7.72c-.78.78-.78 2.05 0 2.83L4 21.41c.39.39.9.59 1.41.59.51 0 1.02-.2 1.41-.59l7.78-7.78 2.81-2.81c.8-.78.8-2.07 0-2.86zM5.41 20L4 18.59l7.72-7.72 1.47 1.35L5.41 20z\"/>\n",
              "  </svg>\n",
              "      </button>\n",
              "      \n",
              "  <style>\n",
              "    .colab-df-container {\n",
              "      display:flex;\n",
              "      flex-wrap:wrap;\n",
              "      gap: 12px;\n",
              "    }\n",
              "\n",
              "    .colab-df-convert {\n",
              "      background-color: #E8F0FE;\n",
              "      border: none;\n",
              "      border-radius: 50%;\n",
              "      cursor: pointer;\n",
              "      display: none;\n",
              "      fill: #1967D2;\n",
              "      height: 32px;\n",
              "      padding: 0 0 0 0;\n",
              "      width: 32px;\n",
              "    }\n",
              "\n",
              "    .colab-df-convert:hover {\n",
              "      background-color: #E2EBFA;\n",
              "      box-shadow: 0px 1px 2px rgba(60, 64, 67, 0.3), 0px 1px 3px 1px rgba(60, 64, 67, 0.15);\n",
              "      fill: #174EA6;\n",
              "    }\n",
              "\n",
              "    [theme=dark] .colab-df-convert {\n",
              "      background-color: #3B4455;\n",
              "      fill: #D2E3FC;\n",
              "    }\n",
              "\n",
              "    [theme=dark] .colab-df-convert:hover {\n",
              "      background-color: #434B5C;\n",
              "      box-shadow: 0px 1px 3px 1px rgba(0, 0, 0, 0.15);\n",
              "      filter: drop-shadow(0px 1px 2px rgba(0, 0, 0, 0.3));\n",
              "      fill: #FFFFFF;\n",
              "    }\n",
              "  </style>\n",
              "\n",
              "      <script>\n",
              "        const buttonEl =\n",
              "          document.querySelector('#df-45e7cb3b-f533-4f21-838b-bf2e9e486b9e button.colab-df-convert');\n",
              "        buttonEl.style.display =\n",
              "          google.colab.kernel.accessAllowed ? 'block' : 'none';\n",
              "\n",
              "        async function convertToInteractive(key) {\n",
              "          const element = document.querySelector('#df-45e7cb3b-f533-4f21-838b-bf2e9e486b9e');\n",
              "          const dataTable =\n",
              "            await google.colab.kernel.invokeFunction('convertToInteractive',\n",
              "                                                     [key], {});\n",
              "          if (!dataTable) return;\n",
              "\n",
              "          const docLinkHtml = 'Like what you see? Visit the ' +\n",
              "            '<a target=\"_blank\" href=https://colab.research.google.com/notebooks/data_table.ipynb>data table notebook</a>'\n",
              "            + ' to learn more about interactive tables.';\n",
              "          element.innerHTML = '';\n",
              "          dataTable['output_type'] = 'display_data';\n",
              "          await google.colab.output.renderOutput(dataTable, element);\n",
              "          const docLink = document.createElement('div');\n",
              "          docLink.innerHTML = docLinkHtml;\n",
              "          element.appendChild(docLink);\n",
              "        }\n",
              "      </script>\n",
              "    </div>\n",
              "  </div>\n",
              "  "
            ]
          },
          "metadata": {},
          "execution_count": 52
        }
      ]
    },
    {
      "cell_type": "code",
      "source": [
        "## Filtering\n",
        "\n",
        "df[df['Model'] == 'Acadia']"
      ],
      "metadata": {
        "colab": {
          "base_uri": "https://localhost:8080/",
          "height": 81
        },
        "id": "m91fhhvYBWoC",
        "outputId": "dd2d83a3-7def-4e0c-f0da-b68c1ac47037"
      },
      "execution_count": 54,
      "outputs": [
        {
          "output_type": "execute_result",
          "data": {
            "text/plain": [
              "  Make   Model  Year  Engine HP  Engine Cylinders Transmission Type  \\\n",
              "d  GMC  Acadia  2017      194.0                 4         AUTOMATIC   \n",
              "\n",
              "  Vehicle_Style   MSRP  \n",
              "d       4dr SUV  34450  "
            ],
            "text/html": [
              "\n",
              "  <div id=\"df-34b961ac-1286-49d4-be93-c1cdee892f0f\">\n",
              "    <div class=\"colab-df-container\">\n",
              "      <div>\n",
              "<style scoped>\n",
              "    .dataframe tbody tr th:only-of-type {\n",
              "        vertical-align: middle;\n",
              "    }\n",
              "\n",
              "    .dataframe tbody tr th {\n",
              "        vertical-align: top;\n",
              "    }\n",
              "\n",
              "    .dataframe thead th {\n",
              "        text-align: right;\n",
              "    }\n",
              "</style>\n",
              "<table border=\"1\" class=\"dataframe\">\n",
              "  <thead>\n",
              "    <tr style=\"text-align: right;\">\n",
              "      <th></th>\n",
              "      <th>Make</th>\n",
              "      <th>Model</th>\n",
              "      <th>Year</th>\n",
              "      <th>Engine HP</th>\n",
              "      <th>Engine Cylinders</th>\n",
              "      <th>Transmission Type</th>\n",
              "      <th>Vehicle_Style</th>\n",
              "      <th>MSRP</th>\n",
              "    </tr>\n",
              "  </thead>\n",
              "  <tbody>\n",
              "    <tr>\n",
              "      <th>d</th>\n",
              "      <td>GMC</td>\n",
              "      <td>Acadia</td>\n",
              "      <td>2017</td>\n",
              "      <td>194.0</td>\n",
              "      <td>4</td>\n",
              "      <td>AUTOMATIC</td>\n",
              "      <td>4dr SUV</td>\n",
              "      <td>34450</td>\n",
              "    </tr>\n",
              "  </tbody>\n",
              "</table>\n",
              "</div>\n",
              "      <button class=\"colab-df-convert\" onclick=\"convertToInteractive('df-34b961ac-1286-49d4-be93-c1cdee892f0f')\"\n",
              "              title=\"Convert this dataframe to an interactive table.\"\n",
              "              style=\"display:none;\">\n",
              "        \n",
              "  <svg xmlns=\"http://www.w3.org/2000/svg\" height=\"24px\"viewBox=\"0 0 24 24\"\n",
              "       width=\"24px\">\n",
              "    <path d=\"M0 0h24v24H0V0z\" fill=\"none\"/>\n",
              "    <path d=\"M18.56 5.44l.94 2.06.94-2.06 2.06-.94-2.06-.94-.94-2.06-.94 2.06-2.06.94zm-11 1L8.5 8.5l.94-2.06 2.06-.94-2.06-.94L8.5 2.5l-.94 2.06-2.06.94zm10 10l.94 2.06.94-2.06 2.06-.94-2.06-.94-.94-2.06-.94 2.06-2.06.94z\"/><path d=\"M17.41 7.96l-1.37-1.37c-.4-.4-.92-.59-1.43-.59-.52 0-1.04.2-1.43.59L10.3 9.45l-7.72 7.72c-.78.78-.78 2.05 0 2.83L4 21.41c.39.39.9.59 1.41.59.51 0 1.02-.2 1.41-.59l7.78-7.78 2.81-2.81c.8-.78.8-2.07 0-2.86zM5.41 20L4 18.59l7.72-7.72 1.47 1.35L5.41 20z\"/>\n",
              "  </svg>\n",
              "      </button>\n",
              "      \n",
              "  <style>\n",
              "    .colab-df-container {\n",
              "      display:flex;\n",
              "      flex-wrap:wrap;\n",
              "      gap: 12px;\n",
              "    }\n",
              "\n",
              "    .colab-df-convert {\n",
              "      background-color: #E8F0FE;\n",
              "      border: none;\n",
              "      border-radius: 50%;\n",
              "      cursor: pointer;\n",
              "      display: none;\n",
              "      fill: #1967D2;\n",
              "      height: 32px;\n",
              "      padding: 0 0 0 0;\n",
              "      width: 32px;\n",
              "    }\n",
              "\n",
              "    .colab-df-convert:hover {\n",
              "      background-color: #E2EBFA;\n",
              "      box-shadow: 0px 1px 2px rgba(60, 64, 67, 0.3), 0px 1px 3px 1px rgba(60, 64, 67, 0.15);\n",
              "      fill: #174EA6;\n",
              "    }\n",
              "\n",
              "    [theme=dark] .colab-df-convert {\n",
              "      background-color: #3B4455;\n",
              "      fill: #D2E3FC;\n",
              "    }\n",
              "\n",
              "    [theme=dark] .colab-df-convert:hover {\n",
              "      background-color: #434B5C;\n",
              "      box-shadow: 0px 1px 3px 1px rgba(0, 0, 0, 0.15);\n",
              "      filter: drop-shadow(0px 1px 2px rgba(0, 0, 0, 0.3));\n",
              "      fill: #FFFFFF;\n",
              "    }\n",
              "  </style>\n",
              "\n",
              "      <script>\n",
              "        const buttonEl =\n",
              "          document.querySelector('#df-34b961ac-1286-49d4-be93-c1cdee892f0f button.colab-df-convert');\n",
              "        buttonEl.style.display =\n",
              "          google.colab.kernel.accessAllowed ? 'block' : 'none';\n",
              "\n",
              "        async function convertToInteractive(key) {\n",
              "          const element = document.querySelector('#df-34b961ac-1286-49d4-be93-c1cdee892f0f');\n",
              "          const dataTable =\n",
              "            await google.colab.kernel.invokeFunction('convertToInteractive',\n",
              "                                                     [key], {});\n",
              "          if (!dataTable) return;\n",
              "\n",
              "          const docLinkHtml = 'Like what you see? Visit the ' +\n",
              "            '<a target=\"_blank\" href=https://colab.research.google.com/notebooks/data_table.ipynb>data table notebook</a>'\n",
              "            + ' to learn more about interactive tables.';\n",
              "          element.innerHTML = '';\n",
              "          dataTable['output_type'] = 'display_data';\n",
              "          await google.colab.output.renderOutput(dataTable, element);\n",
              "          const docLink = document.createElement('div');\n",
              "          docLink.innerHTML = docLinkHtml;\n",
              "          element.appendChild(docLink);\n",
              "        }\n",
              "      </script>\n",
              "    </div>\n",
              "  </div>\n",
              "  "
            ]
          },
          "metadata": {},
          "execution_count": 54
        }
      ]
    },
    {
      "cell_type": "code",
      "source": [
        "df[\n",
        "    (df['Make'] == 'Nissan') & (df['Year'] >= 2015)\n",
        "]\n"
      ],
      "metadata": {
        "colab": {
          "base_uri": "https://localhost:8080/",
          "height": 81
        },
        "id": "CQNidQZLBwEx",
        "outputId": "d337b049-22e7-4318-8ad6-2ce3daebf265"
      },
      "execution_count": 55,
      "outputs": [
        {
          "output_type": "execute_result",
          "data": {
            "text/plain": [
              "     Make     Model  Year  Engine HP  Engine Cylinders Transmission Type  \\\n",
              "e  Nissan  Frontier  2017      261.0                 6            MANUAL   \n",
              "\n",
              "  Vehicle_Style   MSRP  \n",
              "e        Pickup  32340  "
            ],
            "text/html": [
              "\n",
              "  <div id=\"df-42fd7cbe-3e4a-48d8-9d8a-b81eddab8fd0\">\n",
              "    <div class=\"colab-df-container\">\n",
              "      <div>\n",
              "<style scoped>\n",
              "    .dataframe tbody tr th:only-of-type {\n",
              "        vertical-align: middle;\n",
              "    }\n",
              "\n",
              "    .dataframe tbody tr th {\n",
              "        vertical-align: top;\n",
              "    }\n",
              "\n",
              "    .dataframe thead th {\n",
              "        text-align: right;\n",
              "    }\n",
              "</style>\n",
              "<table border=\"1\" class=\"dataframe\">\n",
              "  <thead>\n",
              "    <tr style=\"text-align: right;\">\n",
              "      <th></th>\n",
              "      <th>Make</th>\n",
              "      <th>Model</th>\n",
              "      <th>Year</th>\n",
              "      <th>Engine HP</th>\n",
              "      <th>Engine Cylinders</th>\n",
              "      <th>Transmission Type</th>\n",
              "      <th>Vehicle_Style</th>\n",
              "      <th>MSRP</th>\n",
              "    </tr>\n",
              "  </thead>\n",
              "  <tbody>\n",
              "    <tr>\n",
              "      <th>e</th>\n",
              "      <td>Nissan</td>\n",
              "      <td>Frontier</td>\n",
              "      <td>2017</td>\n",
              "      <td>261.0</td>\n",
              "      <td>6</td>\n",
              "      <td>MANUAL</td>\n",
              "      <td>Pickup</td>\n",
              "      <td>32340</td>\n",
              "    </tr>\n",
              "  </tbody>\n",
              "</table>\n",
              "</div>\n",
              "      <button class=\"colab-df-convert\" onclick=\"convertToInteractive('df-42fd7cbe-3e4a-48d8-9d8a-b81eddab8fd0')\"\n",
              "              title=\"Convert this dataframe to an interactive table.\"\n",
              "              style=\"display:none;\">\n",
              "        \n",
              "  <svg xmlns=\"http://www.w3.org/2000/svg\" height=\"24px\"viewBox=\"0 0 24 24\"\n",
              "       width=\"24px\">\n",
              "    <path d=\"M0 0h24v24H0V0z\" fill=\"none\"/>\n",
              "    <path d=\"M18.56 5.44l.94 2.06.94-2.06 2.06-.94-2.06-.94-.94-2.06-.94 2.06-2.06.94zm-11 1L8.5 8.5l.94-2.06 2.06-.94-2.06-.94L8.5 2.5l-.94 2.06-2.06.94zm10 10l.94 2.06.94-2.06 2.06-.94-2.06-.94-.94-2.06-.94 2.06-2.06.94z\"/><path d=\"M17.41 7.96l-1.37-1.37c-.4-.4-.92-.59-1.43-.59-.52 0-1.04.2-1.43.59L10.3 9.45l-7.72 7.72c-.78.78-.78 2.05 0 2.83L4 21.41c.39.39.9.59 1.41.59.51 0 1.02-.2 1.41-.59l7.78-7.78 2.81-2.81c.8-.78.8-2.07 0-2.86zM5.41 20L4 18.59l7.72-7.72 1.47 1.35L5.41 20z\"/>\n",
              "  </svg>\n",
              "      </button>\n",
              "      \n",
              "  <style>\n",
              "    .colab-df-container {\n",
              "      display:flex;\n",
              "      flex-wrap:wrap;\n",
              "      gap: 12px;\n",
              "    }\n",
              "\n",
              "    .colab-df-convert {\n",
              "      background-color: #E8F0FE;\n",
              "      border: none;\n",
              "      border-radius: 50%;\n",
              "      cursor: pointer;\n",
              "      display: none;\n",
              "      fill: #1967D2;\n",
              "      height: 32px;\n",
              "      padding: 0 0 0 0;\n",
              "      width: 32px;\n",
              "    }\n",
              "\n",
              "    .colab-df-convert:hover {\n",
              "      background-color: #E2EBFA;\n",
              "      box-shadow: 0px 1px 2px rgba(60, 64, 67, 0.3), 0px 1px 3px 1px rgba(60, 64, 67, 0.15);\n",
              "      fill: #174EA6;\n",
              "    }\n",
              "\n",
              "    [theme=dark] .colab-df-convert {\n",
              "      background-color: #3B4455;\n",
              "      fill: #D2E3FC;\n",
              "    }\n",
              "\n",
              "    [theme=dark] .colab-df-convert:hover {\n",
              "      background-color: #434B5C;\n",
              "      box-shadow: 0px 1px 3px 1px rgba(0, 0, 0, 0.15);\n",
              "      filter: drop-shadow(0px 1px 2px rgba(0, 0, 0, 0.3));\n",
              "      fill: #FFFFFF;\n",
              "    }\n",
              "  </style>\n",
              "\n",
              "      <script>\n",
              "        const buttonEl =\n",
              "          document.querySelector('#df-42fd7cbe-3e4a-48d8-9d8a-b81eddab8fd0 button.colab-df-convert');\n",
              "        buttonEl.style.display =\n",
              "          google.colab.kernel.accessAllowed ? 'block' : 'none';\n",
              "\n",
              "        async function convertToInteractive(key) {\n",
              "          const element = document.querySelector('#df-42fd7cbe-3e4a-48d8-9d8a-b81eddab8fd0');\n",
              "          const dataTable =\n",
              "            await google.colab.kernel.invokeFunction('convertToInteractive',\n",
              "                                                     [key], {});\n",
              "          if (!dataTable) return;\n",
              "\n",
              "          const docLinkHtml = 'Like what you see? Visit the ' +\n",
              "            '<a target=\"_blank\" href=https://colab.research.google.com/notebooks/data_table.ipynb>data table notebook</a>'\n",
              "            + ' to learn more about interactive tables.';\n",
              "          element.innerHTML = '';\n",
              "          dataTable['output_type'] = 'display_data';\n",
              "          await google.colab.output.renderOutput(dataTable, element);\n",
              "          const docLink = document.createElement('div');\n",
              "          docLink.innerHTML = docLinkHtml;\n",
              "          element.appendChild(docLink);\n",
              "        }\n",
              "      </script>\n",
              "    </div>\n",
              "  </div>\n",
              "  "
            ]
          },
          "metadata": {},
          "execution_count": 55
        }
      ]
    },
    {
      "cell_type": "code",
      "source": [
        "df['Transmission Type'].str.lower()"
      ],
      "metadata": {
        "colab": {
          "base_uri": "https://localhost:8080/"
        },
        "id": "ljMMkC89CJoZ",
        "outputId": "598c949f-d8ac-4d95-da4a-89019ded3d1d"
      },
      "execution_count": 56,
      "outputs": [
        {
          "output_type": "execute_result",
          "data": {
            "text/plain": [
              "a       manual\n",
              "b    automatic\n",
              "c       manual\n",
              "d    automatic\n",
              "e       manual\n",
              "Name: Transmission Type, dtype: object"
            ]
          },
          "metadata": {},
          "execution_count": 56
        }
      ]
    },
    {
      "cell_type": "code",
      "source": [
        "'machine learning zoomcamp'.replace(' ', '_')"
      ],
      "metadata": {
        "colab": {
          "base_uri": "https://localhost:8080/",
          "height": 36
        },
        "id": "7ui5csy8CJls",
        "outputId": "ca3181e3-6728-49af-c6b9-7c3571ab3f2e"
      },
      "execution_count": 57,
      "outputs": [
        {
          "output_type": "execute_result",
          "data": {
            "text/plain": [
              "'machine_learning_zoomcamp'"
            ],
            "application/vnd.google.colaboratory.intrinsic+json": {
              "type": "string"
            }
          },
          "metadata": {},
          "execution_count": 57
        }
      ]
    },
    {
      "cell_type": "markdown",
      "source": [
        "Grouping\n",
        "\n",
        "SELECT \n",
        "    transmission_type,\n",
        "    AVG(MSRP)\n",
        "FROM\n",
        "    cars\n",
        "GROUP BY\n",
        "    transmission_type"
      ],
      "metadata": {
        "id": "02rff0RICX4Z"
      }
    },
    {
      "cell_type": "code",
      "source": [
        "df"
      ],
      "metadata": {
        "colab": {
          "base_uri": "https://localhost:8080/",
          "height": 206
        },
        "id": "ZZIGdLxQCJi7",
        "outputId": "22cca137-af0a-4b9d-8b76-f4e82be854ea"
      },
      "execution_count": 58,
      "outputs": [
        {
          "output_type": "execute_result",
          "data": {
            "text/plain": [
              "      Make     Model  Year  Engine HP  Engine Cylinders Transmission Type  \\\n",
              "a   Nissan    Stanza  1991      138.0                 4            MANUAL   \n",
              "b  Hyundai    Sonata  2017        NaN                 4         AUTOMATIC   \n",
              "c    Lotus     Elise  2010      218.0                 4            MANUAL   \n",
              "d      GMC    Acadia  2017      194.0                 4         AUTOMATIC   \n",
              "e   Nissan  Frontier  2017      261.0                 6            MANUAL   \n",
              "\n",
              "  Vehicle_Style   MSRP  \n",
              "a         sedan   2000  \n",
              "b         Sedan  27150  \n",
              "c   convertible  54990  \n",
              "d       4dr SUV  34450  \n",
              "e        Pickup  32340  "
            ],
            "text/html": [
              "\n",
              "  <div id=\"df-5dbdf0c4-3487-4b8e-8ed1-3a4548722a2d\">\n",
              "    <div class=\"colab-df-container\">\n",
              "      <div>\n",
              "<style scoped>\n",
              "    .dataframe tbody tr th:only-of-type {\n",
              "        vertical-align: middle;\n",
              "    }\n",
              "\n",
              "    .dataframe tbody tr th {\n",
              "        vertical-align: top;\n",
              "    }\n",
              "\n",
              "    .dataframe thead th {\n",
              "        text-align: right;\n",
              "    }\n",
              "</style>\n",
              "<table border=\"1\" class=\"dataframe\">\n",
              "  <thead>\n",
              "    <tr style=\"text-align: right;\">\n",
              "      <th></th>\n",
              "      <th>Make</th>\n",
              "      <th>Model</th>\n",
              "      <th>Year</th>\n",
              "      <th>Engine HP</th>\n",
              "      <th>Engine Cylinders</th>\n",
              "      <th>Transmission Type</th>\n",
              "      <th>Vehicle_Style</th>\n",
              "      <th>MSRP</th>\n",
              "    </tr>\n",
              "  </thead>\n",
              "  <tbody>\n",
              "    <tr>\n",
              "      <th>a</th>\n",
              "      <td>Nissan</td>\n",
              "      <td>Stanza</td>\n",
              "      <td>1991</td>\n",
              "      <td>138.0</td>\n",
              "      <td>4</td>\n",
              "      <td>MANUAL</td>\n",
              "      <td>sedan</td>\n",
              "      <td>2000</td>\n",
              "    </tr>\n",
              "    <tr>\n",
              "      <th>b</th>\n",
              "      <td>Hyundai</td>\n",
              "      <td>Sonata</td>\n",
              "      <td>2017</td>\n",
              "      <td>NaN</td>\n",
              "      <td>4</td>\n",
              "      <td>AUTOMATIC</td>\n",
              "      <td>Sedan</td>\n",
              "      <td>27150</td>\n",
              "    </tr>\n",
              "    <tr>\n",
              "      <th>c</th>\n",
              "      <td>Lotus</td>\n",
              "      <td>Elise</td>\n",
              "      <td>2010</td>\n",
              "      <td>218.0</td>\n",
              "      <td>4</td>\n",
              "      <td>MANUAL</td>\n",
              "      <td>convertible</td>\n",
              "      <td>54990</td>\n",
              "    </tr>\n",
              "    <tr>\n",
              "      <th>d</th>\n",
              "      <td>GMC</td>\n",
              "      <td>Acadia</td>\n",
              "      <td>2017</td>\n",
              "      <td>194.0</td>\n",
              "      <td>4</td>\n",
              "      <td>AUTOMATIC</td>\n",
              "      <td>4dr SUV</td>\n",
              "      <td>34450</td>\n",
              "    </tr>\n",
              "    <tr>\n",
              "      <th>e</th>\n",
              "      <td>Nissan</td>\n",
              "      <td>Frontier</td>\n",
              "      <td>2017</td>\n",
              "      <td>261.0</td>\n",
              "      <td>6</td>\n",
              "      <td>MANUAL</td>\n",
              "      <td>Pickup</td>\n",
              "      <td>32340</td>\n",
              "    </tr>\n",
              "  </tbody>\n",
              "</table>\n",
              "</div>\n",
              "      <button class=\"colab-df-convert\" onclick=\"convertToInteractive('df-5dbdf0c4-3487-4b8e-8ed1-3a4548722a2d')\"\n",
              "              title=\"Convert this dataframe to an interactive table.\"\n",
              "              style=\"display:none;\">\n",
              "        \n",
              "  <svg xmlns=\"http://www.w3.org/2000/svg\" height=\"24px\"viewBox=\"0 0 24 24\"\n",
              "       width=\"24px\">\n",
              "    <path d=\"M0 0h24v24H0V0z\" fill=\"none\"/>\n",
              "    <path d=\"M18.56 5.44l.94 2.06.94-2.06 2.06-.94-2.06-.94-.94-2.06-.94 2.06-2.06.94zm-11 1L8.5 8.5l.94-2.06 2.06-.94-2.06-.94L8.5 2.5l-.94 2.06-2.06.94zm10 10l.94 2.06.94-2.06 2.06-.94-2.06-.94-.94-2.06-.94 2.06-2.06.94z\"/><path d=\"M17.41 7.96l-1.37-1.37c-.4-.4-.92-.59-1.43-.59-.52 0-1.04.2-1.43.59L10.3 9.45l-7.72 7.72c-.78.78-.78 2.05 0 2.83L4 21.41c.39.39.9.59 1.41.59.51 0 1.02-.2 1.41-.59l7.78-7.78 2.81-2.81c.8-.78.8-2.07 0-2.86zM5.41 20L4 18.59l7.72-7.72 1.47 1.35L5.41 20z\"/>\n",
              "  </svg>\n",
              "      </button>\n",
              "      \n",
              "  <style>\n",
              "    .colab-df-container {\n",
              "      display:flex;\n",
              "      flex-wrap:wrap;\n",
              "      gap: 12px;\n",
              "    }\n",
              "\n",
              "    .colab-df-convert {\n",
              "      background-color: #E8F0FE;\n",
              "      border: none;\n",
              "      border-radius: 50%;\n",
              "      cursor: pointer;\n",
              "      display: none;\n",
              "      fill: #1967D2;\n",
              "      height: 32px;\n",
              "      padding: 0 0 0 0;\n",
              "      width: 32px;\n",
              "    }\n",
              "\n",
              "    .colab-df-convert:hover {\n",
              "      background-color: #E2EBFA;\n",
              "      box-shadow: 0px 1px 2px rgba(60, 64, 67, 0.3), 0px 1px 3px 1px rgba(60, 64, 67, 0.15);\n",
              "      fill: #174EA6;\n",
              "    }\n",
              "\n",
              "    [theme=dark] .colab-df-convert {\n",
              "      background-color: #3B4455;\n",
              "      fill: #D2E3FC;\n",
              "    }\n",
              "\n",
              "    [theme=dark] .colab-df-convert:hover {\n",
              "      background-color: #434B5C;\n",
              "      box-shadow: 0px 1px 3px 1px rgba(0, 0, 0, 0.15);\n",
              "      filter: drop-shadow(0px 1px 2px rgba(0, 0, 0, 0.3));\n",
              "      fill: #FFFFFF;\n",
              "    }\n",
              "  </style>\n",
              "\n",
              "      <script>\n",
              "        const buttonEl =\n",
              "          document.querySelector('#df-5dbdf0c4-3487-4b8e-8ed1-3a4548722a2d button.colab-df-convert');\n",
              "        buttonEl.style.display =\n",
              "          google.colab.kernel.accessAllowed ? 'block' : 'none';\n",
              "\n",
              "        async function convertToInteractive(key) {\n",
              "          const element = document.querySelector('#df-5dbdf0c4-3487-4b8e-8ed1-3a4548722a2d');\n",
              "          const dataTable =\n",
              "            await google.colab.kernel.invokeFunction('convertToInteractive',\n",
              "                                                     [key], {});\n",
              "          if (!dataTable) return;\n",
              "\n",
              "          const docLinkHtml = 'Like what you see? Visit the ' +\n",
              "            '<a target=\"_blank\" href=https://colab.research.google.com/notebooks/data_table.ipynb>data table notebook</a>'\n",
              "            + ' to learn more about interactive tables.';\n",
              "          element.innerHTML = '';\n",
              "          dataTable['output_type'] = 'display_data';\n",
              "          await google.colab.output.renderOutput(dataTable, element);\n",
              "          const docLink = document.createElement('div');\n",
              "          docLink.innerHTML = docLinkHtml;\n",
              "          element.appendChild(docLink);\n",
              "        }\n",
              "      </script>\n",
              "    </div>\n",
              "  </div>\n",
              "  "
            ]
          },
          "metadata": {},
          "execution_count": 58
        }
      ]
    },
    {
      "cell_type": "code",
      "source": [
        "\n",
        "df.groupby('Transmission Type').MSRP.max()"
      ],
      "metadata": {
        "colab": {
          "base_uri": "https://localhost:8080/"
        },
        "id": "XtAATfNTCbpR",
        "outputId": "42881d7f-d149-415b-a6b7-e4b5a6185819"
      },
      "execution_count": 62,
      "outputs": [
        {
          "output_type": "execute_result",
          "data": {
            "text/plain": [
              "Transmission Type\n",
              "AUTOMATIC    34450\n",
              "MANUAL       54990\n",
              "Name: MSRP, dtype: int64"
            ]
          },
          "metadata": {},
          "execution_count": 62
        }
      ]
    },
    {
      "cell_type": "markdown",
      "source": [
        "Regression"
      ],
      "metadata": {
        "id": "dJDdkUKffKub"
      }
    },
    {
      "cell_type": "code",
      "source": [
        "import pandas as pd\n",
        "import matplotlib.pyplot as plt\n",
        "import seaborn as sns\n",
        "import numpy as np\n"
      ],
      "metadata": {
        "id": "CRyfkUsafVBz"
      },
      "execution_count": 3,
      "outputs": []
    },
    {
      "cell_type": "code",
      "source": [
        "!wget https://raw.githubusercontent.com/alexeygrigorev/mlbookcamp-code/master/chapter-02-car-price/data.csv"
      ],
      "metadata": {
        "colab": {
          "base_uri": "https://localhost:8080/"
        },
        "id": "iuNQjmpqCrqa",
        "outputId": "add8f928-a391-473b-cfe7-55baa1c4fd9a"
      },
      "execution_count": 1,
      "outputs": [
        {
          "output_type": "stream",
          "name": "stdout",
          "text": [
            "--2022-12-07 12:08:27--  https://raw.githubusercontent.com/alexeygrigorev/mlbookcamp-code/master/chapter-02-car-price/data.csv\n",
            "Resolving raw.githubusercontent.com (raw.githubusercontent.com)... 185.199.110.133, 185.199.109.133, 185.199.108.133, ...\n",
            "Connecting to raw.githubusercontent.com (raw.githubusercontent.com)|185.199.110.133|:443... connected.\n",
            "HTTP request sent, awaiting response... 200 OK\n",
            "Length: 1475504 (1.4M) [text/plain]\n",
            "Saving to: ‘data.csv’\n",
            "\n",
            "data.csv            100%[===================>]   1.41M  --.-KB/s    in 0.06s   \n",
            "\n",
            "2022-12-07 12:08:28 (24.8 MB/s) - ‘data.csv’ saved [1475504/1475504]\n",
            "\n"
          ]
        }
      ]
    },
    {
      "cell_type": "code",
      "source": [
        "df  = pd.read_csv(\"/content/data.csv\")\n",
        "df.head()"
      ],
      "metadata": {
        "colab": {
          "base_uri": "https://localhost:8080/",
          "height": 459
        },
        "id": "agz4LkG6fGLb",
        "outputId": "118f91e8-2d3d-4f1c-8b0f-00d48271b14e"
      },
      "execution_count": 4,
      "outputs": [
        {
          "output_type": "execute_result",
          "data": {
            "text/plain": [
              "  Make       Model  Year             Engine Fuel Type  Engine HP  \\\n",
              "0  BMW  1 Series M  2011  premium unleaded (required)      335.0   \n",
              "1  BMW    1 Series  2011  premium unleaded (required)      300.0   \n",
              "2  BMW    1 Series  2011  premium unleaded (required)      300.0   \n",
              "3  BMW    1 Series  2011  premium unleaded (required)      230.0   \n",
              "4  BMW    1 Series  2011  premium unleaded (required)      230.0   \n",
              "\n",
              "   Engine Cylinders Transmission Type     Driven_Wheels  Number of Doors  \\\n",
              "0               6.0            MANUAL  rear wheel drive              2.0   \n",
              "1               6.0            MANUAL  rear wheel drive              2.0   \n",
              "2               6.0            MANUAL  rear wheel drive              2.0   \n",
              "3               6.0            MANUAL  rear wheel drive              2.0   \n",
              "4               6.0            MANUAL  rear wheel drive              2.0   \n",
              "\n",
              "                         Market Category Vehicle Size Vehicle Style  \\\n",
              "0  Factory Tuner,Luxury,High-Performance      Compact         Coupe   \n",
              "1                     Luxury,Performance      Compact   Convertible   \n",
              "2                Luxury,High-Performance      Compact         Coupe   \n",
              "3                     Luxury,Performance      Compact         Coupe   \n",
              "4                                 Luxury      Compact   Convertible   \n",
              "\n",
              "   highway MPG  city mpg  Popularity   MSRP  \n",
              "0           26        19        3916  46135  \n",
              "1           28        19        3916  40650  \n",
              "2           28        20        3916  36350  \n",
              "3           28        18        3916  29450  \n",
              "4           28        18        3916  34500  "
            ],
            "text/html": [
              "\n",
              "  <div id=\"df-a30f7f6b-1e74-42a7-8886-52eb36d9f5f5\">\n",
              "    <div class=\"colab-df-container\">\n",
              "      <div>\n",
              "<style scoped>\n",
              "    .dataframe tbody tr th:only-of-type {\n",
              "        vertical-align: middle;\n",
              "    }\n",
              "\n",
              "    .dataframe tbody tr th {\n",
              "        vertical-align: top;\n",
              "    }\n",
              "\n",
              "    .dataframe thead th {\n",
              "        text-align: right;\n",
              "    }\n",
              "</style>\n",
              "<table border=\"1\" class=\"dataframe\">\n",
              "  <thead>\n",
              "    <tr style=\"text-align: right;\">\n",
              "      <th></th>\n",
              "      <th>Make</th>\n",
              "      <th>Model</th>\n",
              "      <th>Year</th>\n",
              "      <th>Engine Fuel Type</th>\n",
              "      <th>Engine HP</th>\n",
              "      <th>Engine Cylinders</th>\n",
              "      <th>Transmission Type</th>\n",
              "      <th>Driven_Wheels</th>\n",
              "      <th>Number of Doors</th>\n",
              "      <th>Market Category</th>\n",
              "      <th>Vehicle Size</th>\n",
              "      <th>Vehicle Style</th>\n",
              "      <th>highway MPG</th>\n",
              "      <th>city mpg</th>\n",
              "      <th>Popularity</th>\n",
              "      <th>MSRP</th>\n",
              "    </tr>\n",
              "  </thead>\n",
              "  <tbody>\n",
              "    <tr>\n",
              "      <th>0</th>\n",
              "      <td>BMW</td>\n",
              "      <td>1 Series M</td>\n",
              "      <td>2011</td>\n",
              "      <td>premium unleaded (required)</td>\n",
              "      <td>335.0</td>\n",
              "      <td>6.0</td>\n",
              "      <td>MANUAL</td>\n",
              "      <td>rear wheel drive</td>\n",
              "      <td>2.0</td>\n",
              "      <td>Factory Tuner,Luxury,High-Performance</td>\n",
              "      <td>Compact</td>\n",
              "      <td>Coupe</td>\n",
              "      <td>26</td>\n",
              "      <td>19</td>\n",
              "      <td>3916</td>\n",
              "      <td>46135</td>\n",
              "    </tr>\n",
              "    <tr>\n",
              "      <th>1</th>\n",
              "      <td>BMW</td>\n",
              "      <td>1 Series</td>\n",
              "      <td>2011</td>\n",
              "      <td>premium unleaded (required)</td>\n",
              "      <td>300.0</td>\n",
              "      <td>6.0</td>\n",
              "      <td>MANUAL</td>\n",
              "      <td>rear wheel drive</td>\n",
              "      <td>2.0</td>\n",
              "      <td>Luxury,Performance</td>\n",
              "      <td>Compact</td>\n",
              "      <td>Convertible</td>\n",
              "      <td>28</td>\n",
              "      <td>19</td>\n",
              "      <td>3916</td>\n",
              "      <td>40650</td>\n",
              "    </tr>\n",
              "    <tr>\n",
              "      <th>2</th>\n",
              "      <td>BMW</td>\n",
              "      <td>1 Series</td>\n",
              "      <td>2011</td>\n",
              "      <td>premium unleaded (required)</td>\n",
              "      <td>300.0</td>\n",
              "      <td>6.0</td>\n",
              "      <td>MANUAL</td>\n",
              "      <td>rear wheel drive</td>\n",
              "      <td>2.0</td>\n",
              "      <td>Luxury,High-Performance</td>\n",
              "      <td>Compact</td>\n",
              "      <td>Coupe</td>\n",
              "      <td>28</td>\n",
              "      <td>20</td>\n",
              "      <td>3916</td>\n",
              "      <td>36350</td>\n",
              "    </tr>\n",
              "    <tr>\n",
              "      <th>3</th>\n",
              "      <td>BMW</td>\n",
              "      <td>1 Series</td>\n",
              "      <td>2011</td>\n",
              "      <td>premium unleaded (required)</td>\n",
              "      <td>230.0</td>\n",
              "      <td>6.0</td>\n",
              "      <td>MANUAL</td>\n",
              "      <td>rear wheel drive</td>\n",
              "      <td>2.0</td>\n",
              "      <td>Luxury,Performance</td>\n",
              "      <td>Compact</td>\n",
              "      <td>Coupe</td>\n",
              "      <td>28</td>\n",
              "      <td>18</td>\n",
              "      <td>3916</td>\n",
              "      <td>29450</td>\n",
              "    </tr>\n",
              "    <tr>\n",
              "      <th>4</th>\n",
              "      <td>BMW</td>\n",
              "      <td>1 Series</td>\n",
              "      <td>2011</td>\n",
              "      <td>premium unleaded (required)</td>\n",
              "      <td>230.0</td>\n",
              "      <td>6.0</td>\n",
              "      <td>MANUAL</td>\n",
              "      <td>rear wheel drive</td>\n",
              "      <td>2.0</td>\n",
              "      <td>Luxury</td>\n",
              "      <td>Compact</td>\n",
              "      <td>Convertible</td>\n",
              "      <td>28</td>\n",
              "      <td>18</td>\n",
              "      <td>3916</td>\n",
              "      <td>34500</td>\n",
              "    </tr>\n",
              "  </tbody>\n",
              "</table>\n",
              "</div>\n",
              "      <button class=\"colab-df-convert\" onclick=\"convertToInteractive('df-a30f7f6b-1e74-42a7-8886-52eb36d9f5f5')\"\n",
              "              title=\"Convert this dataframe to an interactive table.\"\n",
              "              style=\"display:none;\">\n",
              "        \n",
              "  <svg xmlns=\"http://www.w3.org/2000/svg\" height=\"24px\"viewBox=\"0 0 24 24\"\n",
              "       width=\"24px\">\n",
              "    <path d=\"M0 0h24v24H0V0z\" fill=\"none\"/>\n",
              "    <path d=\"M18.56 5.44l.94 2.06.94-2.06 2.06-.94-2.06-.94-.94-2.06-.94 2.06-2.06.94zm-11 1L8.5 8.5l.94-2.06 2.06-.94-2.06-.94L8.5 2.5l-.94 2.06-2.06.94zm10 10l.94 2.06.94-2.06 2.06-.94-2.06-.94-.94-2.06-.94 2.06-2.06.94z\"/><path d=\"M17.41 7.96l-1.37-1.37c-.4-.4-.92-.59-1.43-.59-.52 0-1.04.2-1.43.59L10.3 9.45l-7.72 7.72c-.78.78-.78 2.05 0 2.83L4 21.41c.39.39.9.59 1.41.59.51 0 1.02-.2 1.41-.59l7.78-7.78 2.81-2.81c.8-.78.8-2.07 0-2.86zM5.41 20L4 18.59l7.72-7.72 1.47 1.35L5.41 20z\"/>\n",
              "  </svg>\n",
              "      </button>\n",
              "      \n",
              "  <style>\n",
              "    .colab-df-container {\n",
              "      display:flex;\n",
              "      flex-wrap:wrap;\n",
              "      gap: 12px;\n",
              "    }\n",
              "\n",
              "    .colab-df-convert {\n",
              "      background-color: #E8F0FE;\n",
              "      border: none;\n",
              "      border-radius: 50%;\n",
              "      cursor: pointer;\n",
              "      display: none;\n",
              "      fill: #1967D2;\n",
              "      height: 32px;\n",
              "      padding: 0 0 0 0;\n",
              "      width: 32px;\n",
              "    }\n",
              "\n",
              "    .colab-df-convert:hover {\n",
              "      background-color: #E2EBFA;\n",
              "      box-shadow: 0px 1px 2px rgba(60, 64, 67, 0.3), 0px 1px 3px 1px rgba(60, 64, 67, 0.15);\n",
              "      fill: #174EA6;\n",
              "    }\n",
              "\n",
              "    [theme=dark] .colab-df-convert {\n",
              "      background-color: #3B4455;\n",
              "      fill: #D2E3FC;\n",
              "    }\n",
              "\n",
              "    [theme=dark] .colab-df-convert:hover {\n",
              "      background-color: #434B5C;\n",
              "      box-shadow: 0px 1px 3px 1px rgba(0, 0, 0, 0.15);\n",
              "      filter: drop-shadow(0px 1px 2px rgba(0, 0, 0, 0.3));\n",
              "      fill: #FFFFFF;\n",
              "    }\n",
              "  </style>\n",
              "\n",
              "      <script>\n",
              "        const buttonEl =\n",
              "          document.querySelector('#df-a30f7f6b-1e74-42a7-8886-52eb36d9f5f5 button.colab-df-convert');\n",
              "        buttonEl.style.display =\n",
              "          google.colab.kernel.accessAllowed ? 'block' : 'none';\n",
              "\n",
              "        async function convertToInteractive(key) {\n",
              "          const element = document.querySelector('#df-a30f7f6b-1e74-42a7-8886-52eb36d9f5f5');\n",
              "          const dataTable =\n",
              "            await google.colab.kernel.invokeFunction('convertToInteractive',\n",
              "                                                     [key], {});\n",
              "          if (!dataTable) return;\n",
              "\n",
              "          const docLinkHtml = 'Like what you see? Visit the ' +\n",
              "            '<a target=\"_blank\" href=https://colab.research.google.com/notebooks/data_table.ipynb>data table notebook</a>'\n",
              "            + ' to learn more about interactive tables.';\n",
              "          element.innerHTML = '';\n",
              "          dataTable['output_type'] = 'display_data';\n",
              "          await google.colab.output.renderOutput(dataTable, element);\n",
              "          const docLink = document.createElement('div');\n",
              "          docLink.innerHTML = docLinkHtml;\n",
              "          element.appendChild(docLink);\n",
              "        }\n",
              "      </script>\n",
              "    </div>\n",
              "  </div>\n",
              "  "
            ]
          },
          "metadata": {},
          "execution_count": 4
        }
      ]
    },
    {
      "cell_type": "code",
      "source": [
        "df.columns = df.columns.str.lower().str.replace(\" \",'_')\n",
        "df.head()"
      ],
      "metadata": {
        "colab": {
          "base_uri": "https://localhost:8080/",
          "height": 374
        },
        "id": "T2Wt5OyVfSwK",
        "outputId": "f95e2e2d-032c-4e42-a3d5-181cb58f91b4"
      },
      "execution_count": 5,
      "outputs": [
        {
          "output_type": "execute_result",
          "data": {
            "text/plain": [
              "  make       model  year             engine_fuel_type  engine_hp  \\\n",
              "0  BMW  1 Series M  2011  premium unleaded (required)      335.0   \n",
              "1  BMW    1 Series  2011  premium unleaded (required)      300.0   \n",
              "2  BMW    1 Series  2011  premium unleaded (required)      300.0   \n",
              "3  BMW    1 Series  2011  premium unleaded (required)      230.0   \n",
              "4  BMW    1 Series  2011  premium unleaded (required)      230.0   \n",
              "\n",
              "   engine_cylinders transmission_type     driven_wheels  number_of_doors  \\\n",
              "0               6.0            MANUAL  rear wheel drive              2.0   \n",
              "1               6.0            MANUAL  rear wheel drive              2.0   \n",
              "2               6.0            MANUAL  rear wheel drive              2.0   \n",
              "3               6.0            MANUAL  rear wheel drive              2.0   \n",
              "4               6.0            MANUAL  rear wheel drive              2.0   \n",
              "\n",
              "                         market_category vehicle_size vehicle_style  \\\n",
              "0  Factory Tuner,Luxury,High-Performance      Compact         Coupe   \n",
              "1                     Luxury,Performance      Compact   Convertible   \n",
              "2                Luxury,High-Performance      Compact         Coupe   \n",
              "3                     Luxury,Performance      Compact         Coupe   \n",
              "4                                 Luxury      Compact   Convertible   \n",
              "\n",
              "   highway_mpg  city_mpg  popularity   msrp  \n",
              "0           26        19        3916  46135  \n",
              "1           28        19        3916  40650  \n",
              "2           28        20        3916  36350  \n",
              "3           28        18        3916  29450  \n",
              "4           28        18        3916  34500  "
            ],
            "text/html": [
              "\n",
              "  <div id=\"df-360ff254-bfed-43f5-a5f1-eb0173b86ce2\">\n",
              "    <div class=\"colab-df-container\">\n",
              "      <div>\n",
              "<style scoped>\n",
              "    .dataframe tbody tr th:only-of-type {\n",
              "        vertical-align: middle;\n",
              "    }\n",
              "\n",
              "    .dataframe tbody tr th {\n",
              "        vertical-align: top;\n",
              "    }\n",
              "\n",
              "    .dataframe thead th {\n",
              "        text-align: right;\n",
              "    }\n",
              "</style>\n",
              "<table border=\"1\" class=\"dataframe\">\n",
              "  <thead>\n",
              "    <tr style=\"text-align: right;\">\n",
              "      <th></th>\n",
              "      <th>make</th>\n",
              "      <th>model</th>\n",
              "      <th>year</th>\n",
              "      <th>engine_fuel_type</th>\n",
              "      <th>engine_hp</th>\n",
              "      <th>engine_cylinders</th>\n",
              "      <th>transmission_type</th>\n",
              "      <th>driven_wheels</th>\n",
              "      <th>number_of_doors</th>\n",
              "      <th>market_category</th>\n",
              "      <th>vehicle_size</th>\n",
              "      <th>vehicle_style</th>\n",
              "      <th>highway_mpg</th>\n",
              "      <th>city_mpg</th>\n",
              "      <th>popularity</th>\n",
              "      <th>msrp</th>\n",
              "    </tr>\n",
              "  </thead>\n",
              "  <tbody>\n",
              "    <tr>\n",
              "      <th>0</th>\n",
              "      <td>BMW</td>\n",
              "      <td>1 Series M</td>\n",
              "      <td>2011</td>\n",
              "      <td>premium unleaded (required)</td>\n",
              "      <td>335.0</td>\n",
              "      <td>6.0</td>\n",
              "      <td>MANUAL</td>\n",
              "      <td>rear wheel drive</td>\n",
              "      <td>2.0</td>\n",
              "      <td>Factory Tuner,Luxury,High-Performance</td>\n",
              "      <td>Compact</td>\n",
              "      <td>Coupe</td>\n",
              "      <td>26</td>\n",
              "      <td>19</td>\n",
              "      <td>3916</td>\n",
              "      <td>46135</td>\n",
              "    </tr>\n",
              "    <tr>\n",
              "      <th>1</th>\n",
              "      <td>BMW</td>\n",
              "      <td>1 Series</td>\n",
              "      <td>2011</td>\n",
              "      <td>premium unleaded (required)</td>\n",
              "      <td>300.0</td>\n",
              "      <td>6.0</td>\n",
              "      <td>MANUAL</td>\n",
              "      <td>rear wheel drive</td>\n",
              "      <td>2.0</td>\n",
              "      <td>Luxury,Performance</td>\n",
              "      <td>Compact</td>\n",
              "      <td>Convertible</td>\n",
              "      <td>28</td>\n",
              "      <td>19</td>\n",
              "      <td>3916</td>\n",
              "      <td>40650</td>\n",
              "    </tr>\n",
              "    <tr>\n",
              "      <th>2</th>\n",
              "      <td>BMW</td>\n",
              "      <td>1 Series</td>\n",
              "      <td>2011</td>\n",
              "      <td>premium unleaded (required)</td>\n",
              "      <td>300.0</td>\n",
              "      <td>6.0</td>\n",
              "      <td>MANUAL</td>\n",
              "      <td>rear wheel drive</td>\n",
              "      <td>2.0</td>\n",
              "      <td>Luxury,High-Performance</td>\n",
              "      <td>Compact</td>\n",
              "      <td>Coupe</td>\n",
              "      <td>28</td>\n",
              "      <td>20</td>\n",
              "      <td>3916</td>\n",
              "      <td>36350</td>\n",
              "    </tr>\n",
              "    <tr>\n",
              "      <th>3</th>\n",
              "      <td>BMW</td>\n",
              "      <td>1 Series</td>\n",
              "      <td>2011</td>\n",
              "      <td>premium unleaded (required)</td>\n",
              "      <td>230.0</td>\n",
              "      <td>6.0</td>\n",
              "      <td>MANUAL</td>\n",
              "      <td>rear wheel drive</td>\n",
              "      <td>2.0</td>\n",
              "      <td>Luxury,Performance</td>\n",
              "      <td>Compact</td>\n",
              "      <td>Coupe</td>\n",
              "      <td>28</td>\n",
              "      <td>18</td>\n",
              "      <td>3916</td>\n",
              "      <td>29450</td>\n",
              "    </tr>\n",
              "    <tr>\n",
              "      <th>4</th>\n",
              "      <td>BMW</td>\n",
              "      <td>1 Series</td>\n",
              "      <td>2011</td>\n",
              "      <td>premium unleaded (required)</td>\n",
              "      <td>230.0</td>\n",
              "      <td>6.0</td>\n",
              "      <td>MANUAL</td>\n",
              "      <td>rear wheel drive</td>\n",
              "      <td>2.0</td>\n",
              "      <td>Luxury</td>\n",
              "      <td>Compact</td>\n",
              "      <td>Convertible</td>\n",
              "      <td>28</td>\n",
              "      <td>18</td>\n",
              "      <td>3916</td>\n",
              "      <td>34500</td>\n",
              "    </tr>\n",
              "  </tbody>\n",
              "</table>\n",
              "</div>\n",
              "      <button class=\"colab-df-convert\" onclick=\"convertToInteractive('df-360ff254-bfed-43f5-a5f1-eb0173b86ce2')\"\n",
              "              title=\"Convert this dataframe to an interactive table.\"\n",
              "              style=\"display:none;\">\n",
              "        \n",
              "  <svg xmlns=\"http://www.w3.org/2000/svg\" height=\"24px\"viewBox=\"0 0 24 24\"\n",
              "       width=\"24px\">\n",
              "    <path d=\"M0 0h24v24H0V0z\" fill=\"none\"/>\n",
              "    <path d=\"M18.56 5.44l.94 2.06.94-2.06 2.06-.94-2.06-.94-.94-2.06-.94 2.06-2.06.94zm-11 1L8.5 8.5l.94-2.06 2.06-.94-2.06-.94L8.5 2.5l-.94 2.06-2.06.94zm10 10l.94 2.06.94-2.06 2.06-.94-2.06-.94-.94-2.06-.94 2.06-2.06.94z\"/><path d=\"M17.41 7.96l-1.37-1.37c-.4-.4-.92-.59-1.43-.59-.52 0-1.04.2-1.43.59L10.3 9.45l-7.72 7.72c-.78.78-.78 2.05 0 2.83L4 21.41c.39.39.9.59 1.41.59.51 0 1.02-.2 1.41-.59l7.78-7.78 2.81-2.81c.8-.78.8-2.07 0-2.86zM5.41 20L4 18.59l7.72-7.72 1.47 1.35L5.41 20z\"/>\n",
              "  </svg>\n",
              "      </button>\n",
              "      \n",
              "  <style>\n",
              "    .colab-df-container {\n",
              "      display:flex;\n",
              "      flex-wrap:wrap;\n",
              "      gap: 12px;\n",
              "    }\n",
              "\n",
              "    .colab-df-convert {\n",
              "      background-color: #E8F0FE;\n",
              "      border: none;\n",
              "      border-radius: 50%;\n",
              "      cursor: pointer;\n",
              "      display: none;\n",
              "      fill: #1967D2;\n",
              "      height: 32px;\n",
              "      padding: 0 0 0 0;\n",
              "      width: 32px;\n",
              "    }\n",
              "\n",
              "    .colab-df-convert:hover {\n",
              "      background-color: #E2EBFA;\n",
              "      box-shadow: 0px 1px 2px rgba(60, 64, 67, 0.3), 0px 1px 3px 1px rgba(60, 64, 67, 0.15);\n",
              "      fill: #174EA6;\n",
              "    }\n",
              "\n",
              "    [theme=dark] .colab-df-convert {\n",
              "      background-color: #3B4455;\n",
              "      fill: #D2E3FC;\n",
              "    }\n",
              "\n",
              "    [theme=dark] .colab-df-convert:hover {\n",
              "      background-color: #434B5C;\n",
              "      box-shadow: 0px 1px 3px 1px rgba(0, 0, 0, 0.15);\n",
              "      filter: drop-shadow(0px 1px 2px rgba(0, 0, 0, 0.3));\n",
              "      fill: #FFFFFF;\n",
              "    }\n",
              "  </style>\n",
              "\n",
              "      <script>\n",
              "        const buttonEl =\n",
              "          document.querySelector('#df-360ff254-bfed-43f5-a5f1-eb0173b86ce2 button.colab-df-convert');\n",
              "        buttonEl.style.display =\n",
              "          google.colab.kernel.accessAllowed ? 'block' : 'none';\n",
              "\n",
              "        async function convertToInteractive(key) {\n",
              "          const element = document.querySelector('#df-360ff254-bfed-43f5-a5f1-eb0173b86ce2');\n",
              "          const dataTable =\n",
              "            await google.colab.kernel.invokeFunction('convertToInteractive',\n",
              "                                                     [key], {});\n",
              "          if (!dataTable) return;\n",
              "\n",
              "          const docLinkHtml = 'Like what you see? Visit the ' +\n",
              "            '<a target=\"_blank\" href=https://colab.research.google.com/notebooks/data_table.ipynb>data table notebook</a>'\n",
              "            + ' to learn more about interactive tables.';\n",
              "          element.innerHTML = '';\n",
              "          dataTable['output_type'] = 'display_data';\n",
              "          await google.colab.output.renderOutput(dataTable, element);\n",
              "          const docLink = document.createElement('div');\n",
              "          docLink.innerHTML = docLinkHtml;\n",
              "          element.appendChild(docLink);\n",
              "        }\n",
              "      </script>\n",
              "    </div>\n",
              "  </div>\n",
              "  "
            ]
          },
          "metadata": {},
          "execution_count": 5
        }
      ]
    },
    {
      "cell_type": "code",
      "source": [
        "df['make'] = df['make'].str.lower()\n",
        "df.head()"
      ],
      "metadata": {
        "colab": {
          "base_uri": "https://localhost:8080/",
          "height": 374
        },
        "id": "Jy2wCZpSfpIa",
        "outputId": "1787d3f9-84d3-46cd-8a5f-8a90e6ff62cb"
      },
      "execution_count": 7,
      "outputs": [
        {
          "output_type": "execute_result",
          "data": {
            "text/plain": [
              "  make       model  year             engine_fuel_type  engine_hp  \\\n",
              "0  bmw  1 Series M  2011  premium unleaded (required)      335.0   \n",
              "1  bmw    1 Series  2011  premium unleaded (required)      300.0   \n",
              "2  bmw    1 Series  2011  premium unleaded (required)      300.0   \n",
              "3  bmw    1 Series  2011  premium unleaded (required)      230.0   \n",
              "4  bmw    1 Series  2011  premium unleaded (required)      230.0   \n",
              "\n",
              "   engine_cylinders transmission_type     driven_wheels  number_of_doors  \\\n",
              "0               6.0            MANUAL  rear wheel drive              2.0   \n",
              "1               6.0            MANUAL  rear wheel drive              2.0   \n",
              "2               6.0            MANUAL  rear wheel drive              2.0   \n",
              "3               6.0            MANUAL  rear wheel drive              2.0   \n",
              "4               6.0            MANUAL  rear wheel drive              2.0   \n",
              "\n",
              "                         market_category vehicle_size vehicle_style  \\\n",
              "0  Factory Tuner,Luxury,High-Performance      Compact         Coupe   \n",
              "1                     Luxury,Performance      Compact   Convertible   \n",
              "2                Luxury,High-Performance      Compact         Coupe   \n",
              "3                     Luxury,Performance      Compact         Coupe   \n",
              "4                                 Luxury      Compact   Convertible   \n",
              "\n",
              "   highway_mpg  city_mpg  popularity   msrp  \n",
              "0           26        19        3916  46135  \n",
              "1           28        19        3916  40650  \n",
              "2           28        20        3916  36350  \n",
              "3           28        18        3916  29450  \n",
              "4           28        18        3916  34500  "
            ],
            "text/html": [
              "\n",
              "  <div id=\"df-ffb47060-0d9f-4def-b05f-80f0ba3447d0\">\n",
              "    <div class=\"colab-df-container\">\n",
              "      <div>\n",
              "<style scoped>\n",
              "    .dataframe tbody tr th:only-of-type {\n",
              "        vertical-align: middle;\n",
              "    }\n",
              "\n",
              "    .dataframe tbody tr th {\n",
              "        vertical-align: top;\n",
              "    }\n",
              "\n",
              "    .dataframe thead th {\n",
              "        text-align: right;\n",
              "    }\n",
              "</style>\n",
              "<table border=\"1\" class=\"dataframe\">\n",
              "  <thead>\n",
              "    <tr style=\"text-align: right;\">\n",
              "      <th></th>\n",
              "      <th>make</th>\n",
              "      <th>model</th>\n",
              "      <th>year</th>\n",
              "      <th>engine_fuel_type</th>\n",
              "      <th>engine_hp</th>\n",
              "      <th>engine_cylinders</th>\n",
              "      <th>transmission_type</th>\n",
              "      <th>driven_wheels</th>\n",
              "      <th>number_of_doors</th>\n",
              "      <th>market_category</th>\n",
              "      <th>vehicle_size</th>\n",
              "      <th>vehicle_style</th>\n",
              "      <th>highway_mpg</th>\n",
              "      <th>city_mpg</th>\n",
              "      <th>popularity</th>\n",
              "      <th>msrp</th>\n",
              "    </tr>\n",
              "  </thead>\n",
              "  <tbody>\n",
              "    <tr>\n",
              "      <th>0</th>\n",
              "      <td>bmw</td>\n",
              "      <td>1 Series M</td>\n",
              "      <td>2011</td>\n",
              "      <td>premium unleaded (required)</td>\n",
              "      <td>335.0</td>\n",
              "      <td>6.0</td>\n",
              "      <td>MANUAL</td>\n",
              "      <td>rear wheel drive</td>\n",
              "      <td>2.0</td>\n",
              "      <td>Factory Tuner,Luxury,High-Performance</td>\n",
              "      <td>Compact</td>\n",
              "      <td>Coupe</td>\n",
              "      <td>26</td>\n",
              "      <td>19</td>\n",
              "      <td>3916</td>\n",
              "      <td>46135</td>\n",
              "    </tr>\n",
              "    <tr>\n",
              "      <th>1</th>\n",
              "      <td>bmw</td>\n",
              "      <td>1 Series</td>\n",
              "      <td>2011</td>\n",
              "      <td>premium unleaded (required)</td>\n",
              "      <td>300.0</td>\n",
              "      <td>6.0</td>\n",
              "      <td>MANUAL</td>\n",
              "      <td>rear wheel drive</td>\n",
              "      <td>2.0</td>\n",
              "      <td>Luxury,Performance</td>\n",
              "      <td>Compact</td>\n",
              "      <td>Convertible</td>\n",
              "      <td>28</td>\n",
              "      <td>19</td>\n",
              "      <td>3916</td>\n",
              "      <td>40650</td>\n",
              "    </tr>\n",
              "    <tr>\n",
              "      <th>2</th>\n",
              "      <td>bmw</td>\n",
              "      <td>1 Series</td>\n",
              "      <td>2011</td>\n",
              "      <td>premium unleaded (required)</td>\n",
              "      <td>300.0</td>\n",
              "      <td>6.0</td>\n",
              "      <td>MANUAL</td>\n",
              "      <td>rear wheel drive</td>\n",
              "      <td>2.0</td>\n",
              "      <td>Luxury,High-Performance</td>\n",
              "      <td>Compact</td>\n",
              "      <td>Coupe</td>\n",
              "      <td>28</td>\n",
              "      <td>20</td>\n",
              "      <td>3916</td>\n",
              "      <td>36350</td>\n",
              "    </tr>\n",
              "    <tr>\n",
              "      <th>3</th>\n",
              "      <td>bmw</td>\n",
              "      <td>1 Series</td>\n",
              "      <td>2011</td>\n",
              "      <td>premium unleaded (required)</td>\n",
              "      <td>230.0</td>\n",
              "      <td>6.0</td>\n",
              "      <td>MANUAL</td>\n",
              "      <td>rear wheel drive</td>\n",
              "      <td>2.0</td>\n",
              "      <td>Luxury,Performance</td>\n",
              "      <td>Compact</td>\n",
              "      <td>Coupe</td>\n",
              "      <td>28</td>\n",
              "      <td>18</td>\n",
              "      <td>3916</td>\n",
              "      <td>29450</td>\n",
              "    </tr>\n",
              "    <tr>\n",
              "      <th>4</th>\n",
              "      <td>bmw</td>\n",
              "      <td>1 Series</td>\n",
              "      <td>2011</td>\n",
              "      <td>premium unleaded (required)</td>\n",
              "      <td>230.0</td>\n",
              "      <td>6.0</td>\n",
              "      <td>MANUAL</td>\n",
              "      <td>rear wheel drive</td>\n",
              "      <td>2.0</td>\n",
              "      <td>Luxury</td>\n",
              "      <td>Compact</td>\n",
              "      <td>Convertible</td>\n",
              "      <td>28</td>\n",
              "      <td>18</td>\n",
              "      <td>3916</td>\n",
              "      <td>34500</td>\n",
              "    </tr>\n",
              "  </tbody>\n",
              "</table>\n",
              "</div>\n",
              "      <button class=\"colab-df-convert\" onclick=\"convertToInteractive('df-ffb47060-0d9f-4def-b05f-80f0ba3447d0')\"\n",
              "              title=\"Convert this dataframe to an interactive table.\"\n",
              "              style=\"display:none;\">\n",
              "        \n",
              "  <svg xmlns=\"http://www.w3.org/2000/svg\" height=\"24px\"viewBox=\"0 0 24 24\"\n",
              "       width=\"24px\">\n",
              "    <path d=\"M0 0h24v24H0V0z\" fill=\"none\"/>\n",
              "    <path d=\"M18.56 5.44l.94 2.06.94-2.06 2.06-.94-2.06-.94-.94-2.06-.94 2.06-2.06.94zm-11 1L8.5 8.5l.94-2.06 2.06-.94-2.06-.94L8.5 2.5l-.94 2.06-2.06.94zm10 10l.94 2.06.94-2.06 2.06-.94-2.06-.94-.94-2.06-.94 2.06-2.06.94z\"/><path d=\"M17.41 7.96l-1.37-1.37c-.4-.4-.92-.59-1.43-.59-.52 0-1.04.2-1.43.59L10.3 9.45l-7.72 7.72c-.78.78-.78 2.05 0 2.83L4 21.41c.39.39.9.59 1.41.59.51 0 1.02-.2 1.41-.59l7.78-7.78 2.81-2.81c.8-.78.8-2.07 0-2.86zM5.41 20L4 18.59l7.72-7.72 1.47 1.35L5.41 20z\"/>\n",
              "  </svg>\n",
              "      </button>\n",
              "      \n",
              "  <style>\n",
              "    .colab-df-container {\n",
              "      display:flex;\n",
              "      flex-wrap:wrap;\n",
              "      gap: 12px;\n",
              "    }\n",
              "\n",
              "    .colab-df-convert {\n",
              "      background-color: #E8F0FE;\n",
              "      border: none;\n",
              "      border-radius: 50%;\n",
              "      cursor: pointer;\n",
              "      display: none;\n",
              "      fill: #1967D2;\n",
              "      height: 32px;\n",
              "      padding: 0 0 0 0;\n",
              "      width: 32px;\n",
              "    }\n",
              "\n",
              "    .colab-df-convert:hover {\n",
              "      background-color: #E2EBFA;\n",
              "      box-shadow: 0px 1px 2px rgba(60, 64, 67, 0.3), 0px 1px 3px 1px rgba(60, 64, 67, 0.15);\n",
              "      fill: #174EA6;\n",
              "    }\n",
              "\n",
              "    [theme=dark] .colab-df-convert {\n",
              "      background-color: #3B4455;\n",
              "      fill: #D2E3FC;\n",
              "    }\n",
              "\n",
              "    [theme=dark] .colab-df-convert:hover {\n",
              "      background-color: #434B5C;\n",
              "      box-shadow: 0px 1px 3px 1px rgba(0, 0, 0, 0.15);\n",
              "      filter: drop-shadow(0px 1px 2px rgba(0, 0, 0, 0.3));\n",
              "      fill: #FFFFFF;\n",
              "    }\n",
              "  </style>\n",
              "\n",
              "      <script>\n",
              "        const buttonEl =\n",
              "          document.querySelector('#df-ffb47060-0d9f-4def-b05f-80f0ba3447d0 button.colab-df-convert');\n",
              "        buttonEl.style.display =\n",
              "          google.colab.kernel.accessAllowed ? 'block' : 'none';\n",
              "\n",
              "        async function convertToInteractive(key) {\n",
              "          const element = document.querySelector('#df-ffb47060-0d9f-4def-b05f-80f0ba3447d0');\n",
              "          const dataTable =\n",
              "            await google.colab.kernel.invokeFunction('convertToInteractive',\n",
              "                                                     [key], {});\n",
              "          if (!dataTable) return;\n",
              "\n",
              "          const docLinkHtml = 'Like what you see? Visit the ' +\n",
              "            '<a target=\"_blank\" href=https://colab.research.google.com/notebooks/data_table.ipynb>data table notebook</a>'\n",
              "            + ' to learn more about interactive tables.';\n",
              "          element.innerHTML = '';\n",
              "          dataTable['output_type'] = 'display_data';\n",
              "          await google.colab.output.renderOutput(dataTable, element);\n",
              "          const docLink = document.createElement('div');\n",
              "          docLink.innerHTML = docLinkHtml;\n",
              "          element.appendChild(docLink);\n",
              "        }\n",
              "      </script>\n",
              "    </div>\n",
              "  </div>\n",
              "  "
            ]
          },
          "metadata": {},
          "execution_count": 7
        }
      ]
    },
    {
      "cell_type": "code",
      "source": [
        "df.describe()"
      ],
      "metadata": {
        "colab": {
          "base_uri": "https://localhost:8080/",
          "height": 300
        },
        "id": "vPns8N-If6PE",
        "outputId": "4f6ddad7-ad9e-43eb-edb1-a5528662041d"
      },
      "execution_count": 8,
      "outputs": [
        {
          "output_type": "execute_result",
          "data": {
            "text/plain": [
              "               year    engine_hp  engine_cylinders  number_of_doors  \\\n",
              "count  11914.000000  11845.00000      11884.000000     11908.000000   \n",
              "mean    2010.384338    249.38607          5.628829         3.436093   \n",
              "std        7.579740    109.19187          1.780559         0.881315   \n",
              "min     1990.000000     55.00000          0.000000         2.000000   \n",
              "25%     2007.000000    170.00000          4.000000         2.000000   \n",
              "50%     2015.000000    227.00000          6.000000         4.000000   \n",
              "75%     2016.000000    300.00000          6.000000         4.000000   \n",
              "max     2017.000000   1001.00000         16.000000         4.000000   \n",
              "\n",
              "        highway_mpg      city_mpg    popularity          msrp  \n",
              "count  11914.000000  11914.000000  11914.000000  1.191400e+04  \n",
              "mean      26.637485     19.733255   1554.911197  4.059474e+04  \n",
              "std        8.863001      8.987798   1441.855347  6.010910e+04  \n",
              "min       12.000000      7.000000      2.000000  2.000000e+03  \n",
              "25%       22.000000     16.000000    549.000000  2.100000e+04  \n",
              "50%       26.000000     18.000000   1385.000000  2.999500e+04  \n",
              "75%       30.000000     22.000000   2009.000000  4.223125e+04  \n",
              "max      354.000000    137.000000   5657.000000  2.065902e+06  "
            ],
            "text/html": [
              "\n",
              "  <div id=\"df-0b76c8bd-fbb8-487b-811a-ac8184c48b0b\">\n",
              "    <div class=\"colab-df-container\">\n",
              "      <div>\n",
              "<style scoped>\n",
              "    .dataframe tbody tr th:only-of-type {\n",
              "        vertical-align: middle;\n",
              "    }\n",
              "\n",
              "    .dataframe tbody tr th {\n",
              "        vertical-align: top;\n",
              "    }\n",
              "\n",
              "    .dataframe thead th {\n",
              "        text-align: right;\n",
              "    }\n",
              "</style>\n",
              "<table border=\"1\" class=\"dataframe\">\n",
              "  <thead>\n",
              "    <tr style=\"text-align: right;\">\n",
              "      <th></th>\n",
              "      <th>year</th>\n",
              "      <th>engine_hp</th>\n",
              "      <th>engine_cylinders</th>\n",
              "      <th>number_of_doors</th>\n",
              "      <th>highway_mpg</th>\n",
              "      <th>city_mpg</th>\n",
              "      <th>popularity</th>\n",
              "      <th>msrp</th>\n",
              "    </tr>\n",
              "  </thead>\n",
              "  <tbody>\n",
              "    <tr>\n",
              "      <th>count</th>\n",
              "      <td>11914.000000</td>\n",
              "      <td>11845.00000</td>\n",
              "      <td>11884.000000</td>\n",
              "      <td>11908.000000</td>\n",
              "      <td>11914.000000</td>\n",
              "      <td>11914.000000</td>\n",
              "      <td>11914.000000</td>\n",
              "      <td>1.191400e+04</td>\n",
              "    </tr>\n",
              "    <tr>\n",
              "      <th>mean</th>\n",
              "      <td>2010.384338</td>\n",
              "      <td>249.38607</td>\n",
              "      <td>5.628829</td>\n",
              "      <td>3.436093</td>\n",
              "      <td>26.637485</td>\n",
              "      <td>19.733255</td>\n",
              "      <td>1554.911197</td>\n",
              "      <td>4.059474e+04</td>\n",
              "    </tr>\n",
              "    <tr>\n",
              "      <th>std</th>\n",
              "      <td>7.579740</td>\n",
              "      <td>109.19187</td>\n",
              "      <td>1.780559</td>\n",
              "      <td>0.881315</td>\n",
              "      <td>8.863001</td>\n",
              "      <td>8.987798</td>\n",
              "      <td>1441.855347</td>\n",
              "      <td>6.010910e+04</td>\n",
              "    </tr>\n",
              "    <tr>\n",
              "      <th>min</th>\n",
              "      <td>1990.000000</td>\n",
              "      <td>55.00000</td>\n",
              "      <td>0.000000</td>\n",
              "      <td>2.000000</td>\n",
              "      <td>12.000000</td>\n",
              "      <td>7.000000</td>\n",
              "      <td>2.000000</td>\n",
              "      <td>2.000000e+03</td>\n",
              "    </tr>\n",
              "    <tr>\n",
              "      <th>25%</th>\n",
              "      <td>2007.000000</td>\n",
              "      <td>170.00000</td>\n",
              "      <td>4.000000</td>\n",
              "      <td>2.000000</td>\n",
              "      <td>22.000000</td>\n",
              "      <td>16.000000</td>\n",
              "      <td>549.000000</td>\n",
              "      <td>2.100000e+04</td>\n",
              "    </tr>\n",
              "    <tr>\n",
              "      <th>50%</th>\n",
              "      <td>2015.000000</td>\n",
              "      <td>227.00000</td>\n",
              "      <td>6.000000</td>\n",
              "      <td>4.000000</td>\n",
              "      <td>26.000000</td>\n",
              "      <td>18.000000</td>\n",
              "      <td>1385.000000</td>\n",
              "      <td>2.999500e+04</td>\n",
              "    </tr>\n",
              "    <tr>\n",
              "      <th>75%</th>\n",
              "      <td>2016.000000</td>\n",
              "      <td>300.00000</td>\n",
              "      <td>6.000000</td>\n",
              "      <td>4.000000</td>\n",
              "      <td>30.000000</td>\n",
              "      <td>22.000000</td>\n",
              "      <td>2009.000000</td>\n",
              "      <td>4.223125e+04</td>\n",
              "    </tr>\n",
              "    <tr>\n",
              "      <th>max</th>\n",
              "      <td>2017.000000</td>\n",
              "      <td>1001.00000</td>\n",
              "      <td>16.000000</td>\n",
              "      <td>4.000000</td>\n",
              "      <td>354.000000</td>\n",
              "      <td>137.000000</td>\n",
              "      <td>5657.000000</td>\n",
              "      <td>2.065902e+06</td>\n",
              "    </tr>\n",
              "  </tbody>\n",
              "</table>\n",
              "</div>\n",
              "      <button class=\"colab-df-convert\" onclick=\"convertToInteractive('df-0b76c8bd-fbb8-487b-811a-ac8184c48b0b')\"\n",
              "              title=\"Convert this dataframe to an interactive table.\"\n",
              "              style=\"display:none;\">\n",
              "        \n",
              "  <svg xmlns=\"http://www.w3.org/2000/svg\" height=\"24px\"viewBox=\"0 0 24 24\"\n",
              "       width=\"24px\">\n",
              "    <path d=\"M0 0h24v24H0V0z\" fill=\"none\"/>\n",
              "    <path d=\"M18.56 5.44l.94 2.06.94-2.06 2.06-.94-2.06-.94-.94-2.06-.94 2.06-2.06.94zm-11 1L8.5 8.5l.94-2.06 2.06-.94-2.06-.94L8.5 2.5l-.94 2.06-2.06.94zm10 10l.94 2.06.94-2.06 2.06-.94-2.06-.94-.94-2.06-.94 2.06-2.06.94z\"/><path d=\"M17.41 7.96l-1.37-1.37c-.4-.4-.92-.59-1.43-.59-.52 0-1.04.2-1.43.59L10.3 9.45l-7.72 7.72c-.78.78-.78 2.05 0 2.83L4 21.41c.39.39.9.59 1.41.59.51 0 1.02-.2 1.41-.59l7.78-7.78 2.81-2.81c.8-.78.8-2.07 0-2.86zM5.41 20L4 18.59l7.72-7.72 1.47 1.35L5.41 20z\"/>\n",
              "  </svg>\n",
              "      </button>\n",
              "      \n",
              "  <style>\n",
              "    .colab-df-container {\n",
              "      display:flex;\n",
              "      flex-wrap:wrap;\n",
              "      gap: 12px;\n",
              "    }\n",
              "\n",
              "    .colab-df-convert {\n",
              "      background-color: #E8F0FE;\n",
              "      border: none;\n",
              "      border-radius: 50%;\n",
              "      cursor: pointer;\n",
              "      display: none;\n",
              "      fill: #1967D2;\n",
              "      height: 32px;\n",
              "      padding: 0 0 0 0;\n",
              "      width: 32px;\n",
              "    }\n",
              "\n",
              "    .colab-df-convert:hover {\n",
              "      background-color: #E2EBFA;\n",
              "      box-shadow: 0px 1px 2px rgba(60, 64, 67, 0.3), 0px 1px 3px 1px rgba(60, 64, 67, 0.15);\n",
              "      fill: #174EA6;\n",
              "    }\n",
              "\n",
              "    [theme=dark] .colab-df-convert {\n",
              "      background-color: #3B4455;\n",
              "      fill: #D2E3FC;\n",
              "    }\n",
              "\n",
              "    [theme=dark] .colab-df-convert:hover {\n",
              "      background-color: #434B5C;\n",
              "      box-shadow: 0px 1px 3px 1px rgba(0, 0, 0, 0.15);\n",
              "      filter: drop-shadow(0px 1px 2px rgba(0, 0, 0, 0.3));\n",
              "      fill: #FFFFFF;\n",
              "    }\n",
              "  </style>\n",
              "\n",
              "      <script>\n",
              "        const buttonEl =\n",
              "          document.querySelector('#df-0b76c8bd-fbb8-487b-811a-ac8184c48b0b button.colab-df-convert');\n",
              "        buttonEl.style.display =\n",
              "          google.colab.kernel.accessAllowed ? 'block' : 'none';\n",
              "\n",
              "        async function convertToInteractive(key) {\n",
              "          const element = document.querySelector('#df-0b76c8bd-fbb8-487b-811a-ac8184c48b0b');\n",
              "          const dataTable =\n",
              "            await google.colab.kernel.invokeFunction('convertToInteractive',\n",
              "                                                     [key], {});\n",
              "          if (!dataTable) return;\n",
              "\n",
              "          const docLinkHtml = 'Like what you see? Visit the ' +\n",
              "            '<a target=\"_blank\" href=https://colab.research.google.com/notebooks/data_table.ipynb>data table notebook</a>'\n",
              "            + ' to learn more about interactive tables.';\n",
              "          element.innerHTML = '';\n",
              "          dataTable['output_type'] = 'display_data';\n",
              "          await google.colab.output.renderOutput(dataTable, element);\n",
              "          const docLink = document.createElement('div');\n",
              "          docLink.innerHTML = docLinkHtml;\n",
              "          element.appendChild(docLink);\n",
              "        }\n",
              "      </script>\n",
              "    </div>\n",
              "  </div>\n",
              "  "
            ]
          },
          "metadata": {},
          "execution_count": 8
        }
      ]
    },
    {
      "cell_type": "code",
      "source": [
        "df.dtypes"
      ],
      "metadata": {
        "colab": {
          "base_uri": "https://localhost:8080/"
        },
        "id": "pT_o_06Af_00",
        "outputId": "fd10ced2-0da0-4280-e000-23d1c64bbae7"
      },
      "execution_count": 9,
      "outputs": [
        {
          "output_type": "execute_result",
          "data": {
            "text/plain": [
              "make                  object\n",
              "model                 object\n",
              "year                   int64\n",
              "engine_fuel_type      object\n",
              "engine_hp            float64\n",
              "engine_cylinders     float64\n",
              "transmission_type     object\n",
              "driven_wheels         object\n",
              "number_of_doors      float64\n",
              "market_category       object\n",
              "vehicle_size          object\n",
              "vehicle_style         object\n",
              "highway_mpg            int64\n",
              "city_mpg               int64\n",
              "popularity             int64\n",
              "msrp                   int64\n",
              "dtype: object"
            ]
          },
          "metadata": {},
          "execution_count": 9
        }
      ]
    },
    {
      "cell_type": "code",
      "source": [
        "strings = list(df.dtypes[df.dtypes == 'object'].index)\n",
        "strings"
      ],
      "metadata": {
        "colab": {
          "base_uri": "https://localhost:8080/"
        },
        "id": "obpH0qlpgCe0",
        "outputId": "3355102b-b4ef-4546-969b-acd03361752c"
      },
      "execution_count": 15,
      "outputs": [
        {
          "output_type": "execute_result",
          "data": {
            "text/plain": [
              "['make',\n",
              " 'model',\n",
              " 'engine_fuel_type',\n",
              " 'transmission_type',\n",
              " 'driven_wheels',\n",
              " 'market_category',\n",
              " 'vehicle_size',\n",
              " 'vehicle_style']"
            ]
          },
          "metadata": {},
          "execution_count": 15
        }
      ]
    },
    {
      "cell_type": "code",
      "source": [
        "for i in strings:\n",
        "  df[i].str.lower().str.replace(\" \",'_')"
      ],
      "metadata": {
        "id": "Yifr3rSMgK3Z"
      },
      "execution_count": 16,
      "outputs": []
    },
    {
      "cell_type": "code",
      "source": [
        "df.dtypes"
      ],
      "metadata": {
        "colab": {
          "base_uri": "https://localhost:8080/"
        },
        "id": "Q5c9lwc-gvmi",
        "outputId": "9b5176d9-ae48-4ca5-be08-2b539403e6eb"
      },
      "execution_count": 17,
      "outputs": [
        {
          "output_type": "execute_result",
          "data": {
            "text/plain": [
              "make                  object\n",
              "model                 object\n",
              "year                   int64\n",
              "engine_fuel_type      object\n",
              "engine_hp            float64\n",
              "engine_cylinders     float64\n",
              "transmission_type     object\n",
              "driven_wheels         object\n",
              "number_of_doors      float64\n",
              "market_category       object\n",
              "vehicle_size          object\n",
              "vehicle_style         object\n",
              "highway_mpg            int64\n",
              "city_mpg               int64\n",
              "popularity             int64\n",
              "msrp                   int64\n",
              "dtype: object"
            ]
          },
          "metadata": {},
          "execution_count": 17
        }
      ]
    },
    {
      "cell_type": "markdown",
      "source": [
        "Exploratory data analysis"
      ],
      "metadata": {
        "id": "O2dnLe4Wg3SJ"
      }
    },
    {
      "cell_type": "code",
      "source": [
        "## null valus \n",
        "\n",
        "df.isna().sum()"
      ],
      "metadata": {
        "colab": {
          "base_uri": "https://localhost:8080/"
        },
        "id": "XtGM3VgNgzs5",
        "outputId": "bae65ccf-00c8-4b78-f1f6-d3b10d964d28"
      },
      "execution_count": 18,
      "outputs": [
        {
          "output_type": "execute_result",
          "data": {
            "text/plain": [
              "make                    0\n",
              "model                   0\n",
              "year                    0\n",
              "engine_fuel_type        3\n",
              "engine_hp              69\n",
              "engine_cylinders       30\n",
              "transmission_type       0\n",
              "driven_wheels           0\n",
              "number_of_doors         6\n",
              "market_category      3742\n",
              "vehicle_size            0\n",
              "vehicle_style           0\n",
              "highway_mpg             0\n",
              "city_mpg                0\n",
              "popularity              0\n",
              "msrp                    0\n",
              "dtype: int64"
            ]
          },
          "metadata": {},
          "execution_count": 18
        }
      ]
    },
    {
      "cell_type": "code",
      "source": [
        "len(df),df.shape,df['market_category'].isna().sum()"
      ],
      "metadata": {
        "colab": {
          "base_uri": "https://localhost:8080/"
        },
        "id": "pTi6qFE1g625",
        "outputId": "af9cd7d6-8d30-4764-bd64-64684db049fc"
      },
      "execution_count": 21,
      "outputs": [
        {
          "output_type": "execute_result",
          "data": {
            "text/plain": [
              "(11914, (11914, 16), 3742)"
            ]
          },
          "metadata": {},
          "execution_count": 21
        }
      ]
    },
    {
      "cell_type": "code",
      "source": [
        "## % of null values present : \n",
        "\n",
        "for col in df.columns:\n",
        "  print(f\"% of null present in {col} is :=> {(df[col].isna().sum())/len(df)}\")"
      ],
      "metadata": {
        "colab": {
          "base_uri": "https://localhost:8080/"
        },
        "id": "cPxmZCEUhAxJ",
        "outputId": "d5d29ee4-3c49-48e8-de4b-a26690d8c203"
      },
      "execution_count": 23,
      "outputs": [
        {
          "output_type": "stream",
          "name": "stdout",
          "text": [
            "% of null present in make is :=> 0.0\n",
            "% of null present in model is :=> 0.0\n",
            "% of null present in year is :=> 0.0\n",
            "% of null present in engine_fuel_type is :=> 0.0002518045996306866\n",
            "% of null present in engine_hp is :=> 0.005791505791505791\n",
            "% of null present in engine_cylinders is :=> 0.002518045996306866\n",
            "% of null present in transmission_type is :=> 0.0\n",
            "% of null present in driven_wheels is :=> 0.0\n",
            "% of null present in number_of_doors is :=> 0.0005036091992613732\n",
            "% of null present in market_category is :=> 0.31408427060600974\n",
            "% of null present in vehicle_size is :=> 0.0\n",
            "% of null present in vehicle_style is :=> 0.0\n",
            "% of null present in highway_mpg is :=> 0.0\n",
            "% of null present in city_mpg is :=> 0.0\n",
            "% of null present in popularity is :=> 0.0\n",
            "% of null present in msrp is :=> 0.0\n"
          ]
        }
      ]
    },
    {
      "cell_type": "code",
      "source": [
        "## unique value present =>\n",
        "for i in strings:\n",
        "  print(f\"{i} has unique values : => {df[i].unique()}\")\n",
        "  print()\n",
        "  print(f\"length of {i} is => {df[i].nunique()}\")\n",
        "  print(\"*********************\")\n",
        "  print()\n"
      ],
      "metadata": {
        "colab": {
          "base_uri": "https://localhost:8080/"
        },
        "id": "tDm3DMZ_hp3B",
        "outputId": "2cfa9954-e9d0-42cc-d544-83d7935875c4"
      },
      "execution_count": 29,
      "outputs": [
        {
          "output_type": "stream",
          "name": "stdout",
          "text": [
            "make has unique values : => ['bmw' 'audi' 'fiat' 'mercedes-benz' 'chrysler' 'nissan' 'volvo' 'mazda'\n",
            " 'mitsubishi' 'ferrari' 'alfa romeo' 'toyota' 'mclaren' 'maybach'\n",
            " 'pontiac' 'porsche' 'saab' 'gmc' 'hyundai' 'plymouth' 'honda'\n",
            " 'oldsmobile' 'suzuki' 'ford' 'cadillac' 'kia' 'bentley' 'chevrolet'\n",
            " 'dodge' 'lamborghini' 'lincoln' 'subaru' 'volkswagen' 'spyker' 'buick'\n",
            " 'acura' 'rolls-royce' 'maserati' 'lexus' 'aston martin' 'land rover'\n",
            " 'lotus' 'infiniti' 'scion' 'genesis' 'hummer' 'tesla' 'bugatti']\n",
            "\n",
            "length of make is => 48\n",
            "*********************\n",
            "\n",
            "model has unique values : => ['1 Series M' '1 Series' '100' '124 Spider' '190-Class' '2 Series' '200'\n",
            " '200SX' '240SX' '240' '2' '3 Series Gran Turismo' '3 Series' '300-Class'\n",
            " '3000GT' '300' '300M' '300ZX' '323' '350-Class' '350Z' '360' '370Z' '3'\n",
            " '4 Series Gran Coupe' '4 Series' '400-Class' '420-Class' '456M'\n",
            " '458 Italia' '4C' '4Runner' '5 Series Gran Turismo' '5 Series'\n",
            " '500-Class' '500e' '500' '500L' '500X' '550' '560-Class' '570S' '575M'\n",
            " '57' '599' '5' '6 Series Gran Coupe' '6 Series' '600-Class' '6000'\n",
            " '612 Scaglietti' '626' '62' '650S Coupe' '650S Spider' '6' '7 Series'\n",
            " '718 Cayman' '740' '760' '780' '8 Series' '80' '850' '86' '9-2X'\n",
            " '9-3 Griffin' '9-3' '9-4X' '9-5' '9-7X' '9000' '900' '90' '911' '928'\n",
            " '929' '940' '944' '960' '968' 'A3' 'A4 allroad' 'A4' 'A5' 'A6' 'A7' 'A8'\n",
            " 'Acadia Limited' 'Acadia' 'Accent' 'Acclaim' 'Accord Crosstour'\n",
            " 'Accord Hybrid' 'Accord Plug-In Hybrid' 'Accord' 'Achieva'\n",
            " 'ActiveHybrid 5' 'ActiveHybrid 7' 'ActiveHybrid X6' 'Aerio' 'Aerostar'\n",
            " 'Alero' 'Allante' 'allroad quattro' 'allroad' 'ALPINA B6 Gran Coupe'\n",
            " 'ALPINA B7' 'Alpina' 'Altima Hybrid' 'Altima' 'Amanti' 'AMG GT' 'Armada'\n",
            " 'Arnage' 'Aspen' 'Aspire' 'Astro Cargo' 'Astro' 'ATS Coupe' 'ATS-V' 'ATS'\n",
            " 'Aurora' 'Avalanche' 'Avalon Hybrid' 'Avalon' 'Avenger' 'Aventador'\n",
            " 'Aveo' 'Aviator' 'Axxess' 'Azera' 'Aztek' 'Azure T' 'Azure'\n",
            " 'B-Class Electric Drive' 'B-Series Pickup' 'B-Series Truck' 'B-Series'\n",
            " 'B9 Tribeca' 'Baja' 'Beetle Convertible' 'Beetle' 'Beretta'\n",
            " 'Black Diamond Avalanche' 'Blackwood' 'Blazer' 'Bolt EV' 'Bonneville'\n",
            " 'Borrego' 'Boxster' 'Bravada' 'Breeze' 'Bronco II' 'Bronco' 'Brooklands'\n",
            " 'Brougham' 'BRZ' 'C-Class' 'C-Max Hybrid' 'C30' 'C36 AMG' 'C43 AMG' 'C70'\n",
            " 'C8' 'Cabriolet' 'Cabrio' 'Cadenza' 'Caliber' 'California T' 'California'\n",
            " 'Camaro' 'Camry Hybrid' 'Camry Solara' 'Camry' 'Canyon' 'Caprice'\n",
            " 'Captiva Sport' 'Caravan' 'Carrera GT' 'Cascada' 'Catera' 'Cavalier'\n",
            " 'Cayenne' 'Cayman S' 'Cayman' 'CC' 'Celebrity' 'Celica' 'Century'\n",
            " 'Challenger' 'Charger' 'Chevy Van' 'Ciera' 'Cirrus' 'City Express'\n",
            " 'Civic CRX' 'Civic del Sol' 'Civic' 'C/K 1500 Series' 'C/K 2500 Series'\n",
            " 'CL-Class' 'CLA-Class' 'CL' 'Classic' 'CLK-Class' 'CLS-Class' 'Cobalt'\n",
            " 'Colorado' 'Colt' 'Concorde' 'Continental Flying Spur Speed'\n",
            " 'Continental Flying Spur' 'Continental GT Speed Convertible'\n",
            " 'Continental GT Speed' 'Continental GT3-R' 'Continental GT'\n",
            " 'Continental GTC Speed' 'Continental GTC'\n",
            " 'Continental Supersports Convertible' 'Continental Supersports'\n",
            " 'Continental' 'Contour SVT' 'Contour' 'Corniche' 'Corolla iM' 'Corolla'\n",
            " 'Corrado' 'Corsica' 'Corvette Stingray' 'Corvette' 'Coupe' 'CR-V' 'CR-Z'\n",
            " 'Cressida' 'Crossfire' 'Crosstour' 'Crosstrek' 'Crown Victoria'\n",
            " 'Cruze Limited' 'Cruze' 'CT 200h' 'CT6' 'CTS Coupe' 'CTS-V Coupe'\n",
            " 'CTS-V Wagon' 'CTS-V' 'CTS Wagon' 'CTS' 'Cube' 'Custom Cruiser'\n",
            " 'Cutlass Calais' 'Cutlass Ciera' 'Cutlass Supreme' 'Cutlass' 'CX-3'\n",
            " 'CX-5' 'CX-7' 'CX-9' 'Dakota' 'Dart' 'Dawn' 'Daytona' 'DB7' 'DB9 GT'\n",
            " 'DB9' 'DBS' 'Defender' 'DeVille' 'Diablo' 'Diamante'\n",
            " 'Discovery Series II' 'Discovery Sport' 'Discovery' 'DTS' 'Durango'\n",
            " 'Dynasty' 'E-150' 'E-250' 'E-Class' 'e-Golf' 'E-Series Van'\n",
            " 'E-Series Wagon' 'E55 AMG' 'ECHO' 'Eclipse Spyder' 'Eclipse' 'Edge'\n",
            " 'Eighty-Eight Royale' 'Eighty-Eight' 'Elantra Coupe' 'Elantra GT'\n",
            " 'Elantra Touring' 'Elantra' 'Eldorado' 'Electra' 'Element' 'Elise'\n",
            " 'Enclave' 'Encore' 'Endeavor' 'Entourage' 'Envision' 'Envoy XL'\n",
            " 'Envoy XUV' 'Envoy' 'Enzo' 'Eos' 'Equator' 'Equinox' 'Equus' 'ES 250'\n",
            " 'ES 300h' 'ES 300' 'ES 330' 'ES 350' 'Escalade ESV' 'Escalade EXT'\n",
            " 'Escalade Hybrid' 'Escalade' 'Escape Hybrid' 'Escape' 'Escort' 'Esprit'\n",
            " 'Estate Wagon' 'Esteem' 'EuroVan' 'Evora 400' 'Evora' 'EX35' 'Excel'\n",
            " 'Exige' 'EX' 'Expedition' 'Explorer Sport Trac' 'Explorer Sport'\n",
            " 'Explorer' 'Expo' 'Express Cargo' 'Express' 'F-150 Heritage'\n",
            " 'F-150 SVT Lightning' 'F-150' 'F-250' 'F12 Berlinetta' 'F430' 'Festiva'\n",
            " 'FF' 'Fiesta' 'Firebird' 'Fit EV' 'Fit' 'Five Hundred' 'FJ Cruiser'\n",
            " 'Fleetwood' 'Flex' 'Flying Spur' 'Focus RS' 'Focus ST' 'Focus' 'Forenza'\n",
            " 'Forester' 'Forte' 'Fox' 'FR-S' 'Freelander' 'Freestar' 'Freestyle'\n",
            " 'Frontier' 'Fusion Hybrid' 'Fusion' 'FX35' 'FX45' 'FX50' 'FX' 'G-Class'\n",
            " 'G Convertible' 'G Coupe' 'G Sedan' 'G20' 'G35' 'G37 Convertible'\n",
            " 'G37 Coupe' 'G37 Sedan' 'G37' 'G3' 'G5' 'G6' 'G80' 'G8' 'Galant'\n",
            " 'Gallardo' 'Genesis Coupe' 'Genesis' 'Ghibli' 'Ghost Series II' 'Ghost'\n",
            " 'GL-Class' 'GLA-Class' 'GLC-Class' 'GLE-Class Coupe' 'GLE-Class' 'GLI'\n",
            " 'GLK-Class' 'GLS-Class' 'Golf Alltrack' 'Golf GTI' 'Golf R'\n",
            " 'Golf SportWagen' 'Golf' 'Grand Am' 'Grand Caravan' 'Grand Prix'\n",
            " 'Grand Vitara' 'Grand Voyager' 'GranSport' 'GranTurismo Convertible'\n",
            " 'GranTurismo' 'GS 200t' 'GS 300' 'GS 350' 'GS 400' 'GS 430' 'GS 450h'\n",
            " 'GS 460' 'GS F' 'GT-R' 'GT' 'GTI' 'GTO' 'GX 460' 'GX 470' 'H3' 'H3T'\n",
            " 'HHR' 'Highlander Hybrid' 'Highlander' 'Horizon' 'HR-V' 'HS 250h'\n",
            " 'Huracan' 'i-MiEV' 'I30' 'I35' 'i3' 'iA' 'ILX Hybrid' 'ILX'\n",
            " 'Impala Limited' 'Impala' 'Imperial' 'Impreza WRX' 'Impreza' 'iM'\n",
            " 'Insight' 'Integra' 'Intrepid' 'Intrigue' 'iQ' 'IS 200t' 'IS 250 C'\n",
            " 'IS 250' 'IS 300' 'IS 350 C' 'IS 350' 'IS F' 'J30' 'Jetta GLI'\n",
            " 'Jetta Hybrid' 'Jetta SportWagen' 'Jetta' 'Jimmy' 'Journey' 'Juke'\n",
            " 'Justy' 'JX' 'K900' 'Kizashi' 'LaCrosse' 'Lancer Evolution'\n",
            " 'Lancer Sportback' 'Lancer' 'Land Cruiser' 'Landaulet' 'Laser' 'Le Baron'\n",
            " 'Le Mans' 'Leaf' 'Legacy' 'Legend' 'LeSabre' 'Levante' 'LFA' 'LHS'\n",
            " 'Loyale' 'LR2' 'LR3' 'LR4' 'LS 400' 'LS 430' 'LS 460' 'LS 600h L' 'LS'\n",
            " 'LSS' 'LTD Crown Victoria' 'Lucerne' 'Lumina Minivan' 'Lumina' 'LX 450'\n",
            " 'LX 470' 'LX 570' 'M-Class' 'M2' 'M30' 'M35' 'M37' 'M3' 'M4 GTS' 'M45'\n",
            " 'M4' 'M56' 'M5' 'M6 Gran Coupe' 'M6' 'Macan' 'Magnum' 'Malibu Classic'\n",
            " 'Malibu Hybrid' 'Malibu Limited' 'Malibu Maxx' 'Malibu' 'Mark LT'\n",
            " 'Mark VIII' 'Mark VII' 'Matrix' 'Maxima' 'Maybach' 'Mazdaspeed 3'\n",
            " 'Mazdaspeed 6' 'Mazdaspeed MX-5 Miata' 'Mazdaspeed Protege' 'M' 'MDX'\n",
            " 'Metris' 'Metro' 'Mighty Max Pickup' 'Millenia' 'Mirage G4' 'Mirage'\n",
            " 'MKC' 'MKS' 'MKT' 'MKX' 'MKZ Hybrid' 'MKZ' 'ML55 AMG' 'Model S' 'Monaco'\n",
            " 'Montana SV6' 'Montana' 'Monte Carlo' 'Montero Sport' 'Montero' 'MP4-12C'\n",
            " 'MPV' 'MR2 Spyder' 'MR2' 'Mulsanne' 'Murano CrossCabriolet' 'Murano'\n",
            " 'Murcielago' 'Mustang SVT Cobra' 'Mustang' 'MX-3' 'MX-5 Miata' 'MX-6'\n",
            " 'Navajo' 'Navigator' 'Neon' 'New Beetle' 'New Yorker' 'Ninety-Eight'\n",
            " 'Nitro' 'NSX' 'NV200' 'NX 200t' 'NX 300h' 'NX' 'Odyssey' 'Omni'\n",
            " 'Optima Hybrid' 'Optima' 'Outback' 'Outlander Sport' 'Outlander'\n",
            " 'Pacifica' 'Panamera' 'Park Avenue' 'Park Ward' 'Paseo' 'Passat'\n",
            " 'Passport' 'Pathfinder' 'Phaeton' 'Phantom Coupe'\n",
            " 'Phantom Drophead Coupe' 'Phantom' 'Pickup' 'Pilot' 'Precis' 'Prelude'\n",
            " 'Previa' 'Prius c' 'Prius Prime' 'Prius v' 'Prius' 'Prizm' 'Probe'\n",
            " 'Protege5' 'Protege' 'Prowler' 'PT Cruiser' 'Pulsar' 'Q3' 'Q40' 'Q45'\n",
            " 'Q50' 'Q5' 'Q60 Convertible' 'Q60 Coupe' 'Q70' 'Q7' 'Quattroporte'\n",
            " 'Quest' 'QX4' 'QX50' 'QX56' 'QX60' 'QX70' 'QX80' 'QX' 'R-Class' 'R32'\n",
            " 'R8' 'Rabbit' 'Raider' 'Rainier' 'Rally Wagon' 'RAM 150' 'RAM 250'\n",
            " 'Ram 50 Pickup' 'Ram Cargo' 'Ram Pickup 1500' 'Ram Van' 'Ram Wagon'\n",
            " 'Ramcharger' 'Range Rover Evoque' 'Range Rover Sport' 'Range Rover'\n",
            " 'Ranger' 'Rapide S' 'Rapide' 'RAV4 EV' 'RAV4 Hybrid' 'RAV4' 'RC 200t'\n",
            " 'RC 300' 'RC 350' 'RC F' 'RDX' 'Reatta' 'Regal' 'Regency' 'Rendezvous'\n",
            " 'Reno' 'Reventon' 'Ridgeline' 'Rio' 'Riviera' 'RL' 'RLX' 'Roadmaster'\n",
            " 'Rogue Select' 'Rogue' 'Rondo' 'Routan' 'RS 4' 'RS 5' 'RS 6' 'RS 7' 'RSX'\n",
            " 'RX 300' 'RX 330' 'RX 350' 'RX 400h' 'RX 450h' 'RX-7' 'RX-8'\n",
            " 'S-10 Blazer' 'S-10' 'S-15 Jimmy' 'S-15' 'S-Class' 'S2000' 'S3' 'S40'\n",
            " 'S4' 'S5' 'S60 Cross Country' 'S60' 'S6' 'S70' 'S7' 'S80' 'S8' 'S90'\n",
            " 'Safari Cargo' 'Safari' 'Samurai' 'Santa Fe Sport' 'Santa Fe'\n",
            " 'Savana Cargo' 'Savana' 'SC 300' 'SC 400' 'SC 430' 'Scoupe' 'Sebring'\n",
            " 'Sedona' 'Sentra' 'Sephia' 'Sequoia' 'Seville' 'Shadow' 'Shelby GT350'\n",
            " 'Shelby GT500' 'Sidekick' 'Sienna' 'Sierra 1500 Classic'\n",
            " 'Sierra 1500 Hybrid' 'Sierra 1500' 'Sierra 1500HD' 'Sierra C3'\n",
            " 'Sierra Classic 1500' 'Sigma' 'Silhouette' 'Silver Seraph'\n",
            " 'Silverado 1500 Classic' 'Silverado 1500 Hybrid' 'Silverado 1500'\n",
            " 'Sixty Special' 'Skylark' 'SL-Class' 'SLC-Class' 'SLK-Class'\n",
            " 'SLR McLaren' 'SLS AMG GT Final Edition' 'SLS AMG GT' 'SLS AMG' 'SLX'\n",
            " 'Solstice' 'Sonata Hybrid' 'Sonata' 'Sonic' 'Sonoma' 'Sorento' 'Soul EV'\n",
            " 'Soul' 'Spark EV' 'Spark' 'Spectra' 'Spirit' 'Sportage' 'Sportvan'\n",
            " 'Spyder' 'SQ5' 'SRT Viper' 'SRX' 'SS' 'SSR' 'Stanza' 'Stealth' 'Stratus'\n",
            " 'STS-V' 'STS' 'Suburban' 'Sunbird' 'Sundance' 'Sunfire' 'Superamerica'\n",
            " 'Supersports Convertible ISR' 'Supra' 'SVX' 'Swift' 'SX4' 'Syclone'\n",
            " 'T100' 'Tacoma' 'Tahoe Hybrid' 'Tahoe Limited/Z71' 'Tahoe' 'Taurus X'\n",
            " 'Taurus' 'TC' 'tC' 'Tempo' 'Tercel' 'Terrain' 'Terraza' 'Thunderbird'\n",
            " 'Tiburon' 'Tiguan' 'Titan' 'TL' 'TLX' 'Toronado' 'Torrent' 'Touareg 2'\n",
            " 'Touareg' 'Town and Country' 'Town Car' 'Tracker' 'TrailBlazer EXT'\n",
            " 'TrailBlazer' 'Trans Sport' 'Transit Connect' 'Transit Wagon' 'Traverse'\n",
            " 'Trax' 'Tribeca' 'Tribute Hybrid' 'Tribute' 'Truck' 'TSX Sport Wagon'\n",
            " 'TSX' 'TT RS' 'TT' 'TTS' 'Tucson' 'Tundra' 'Typhoon' 'Uplander'\n",
            " 'V12 Vanquish' 'V12 Vantage S' 'V12 Vantage' 'V40' 'V50'\n",
            " 'V60 Cross Country' 'V60' 'V70' 'V8 Vantage' 'V8' 'V90' 'Vanagon'\n",
            " 'Vandura' 'Van' 'Vanquish' 'Vanwagon' 'Veloster' 'Venture' 'Venza'\n",
            " 'Veracruz' 'Verano' 'Verona' 'Versa Note' 'Versa' 'Veyron 16.4' 'Vibe'\n",
            " 'Vigor' 'Viper' 'Virage' 'Vitara' 'Voyager' 'Windstar Cargo' 'Windstar'\n",
            " 'Wraith' 'WRX' 'X-90' 'X1' 'X3' 'X4' 'X5 M' 'X5' 'X6 M' 'X6' 'xA' 'xB'\n",
            " 'XC60' 'XC70' 'XC90' 'XC' 'xD' 'XG300' 'XG350' 'XL-7' 'XL7' 'XLR-V' 'XLR'\n",
            " 'XT5' 'Xterra' 'XTS' 'XT' 'XV Crosstrek' 'Yaris iA' 'Yaris'\n",
            " 'Yukon Denali' 'Yukon Hybrid' 'Yukon XL' 'Yukon' 'Z3' 'Z4 M' 'Z4' 'Z8'\n",
            " 'ZDX' 'Zephyr']\n",
            "\n",
            "length of model is => 915\n",
            "*********************\n",
            "\n",
            "engine_fuel_type has unique values : => ['premium unleaded (required)' 'regular unleaded'\n",
            " 'premium unleaded (recommended)' 'flex-fuel (unleaded/E85)' 'diesel'\n",
            " 'electric' 'flex-fuel (premium unleaded recommended/E85)' 'natural gas'\n",
            " 'flex-fuel (premium unleaded required/E85)'\n",
            " 'flex-fuel (unleaded/natural gas)' nan]\n",
            "\n",
            "length of engine_fuel_type is => 10\n",
            "*********************\n",
            "\n",
            "transmission_type has unique values : => ['MANUAL' 'AUTOMATIC' 'AUTOMATED_MANUAL' 'DIRECT_DRIVE' 'UNKNOWN']\n",
            "\n",
            "length of transmission_type is => 5\n",
            "*********************\n",
            "\n",
            "driven_wheels has unique values : => ['rear wheel drive' 'front wheel drive' 'all wheel drive'\n",
            " 'four wheel drive']\n",
            "\n",
            "length of driven_wheels is => 4\n",
            "*********************\n",
            "\n",
            "market_category has unique values : => ['Factory Tuner,Luxury,High-Performance' 'Luxury,Performance'\n",
            " 'Luxury,High-Performance' 'Luxury' 'Performance' 'Flex Fuel'\n",
            " 'Flex Fuel,Performance' nan 'Hatchback' 'Hatchback,Luxury,Performance'\n",
            " 'Hatchback,Luxury' 'Luxury,High-Performance,Hybrid' 'Diesel,Luxury'\n",
            " 'Hatchback,Performance' 'Hatchback,Factory Tuner,Performance'\n",
            " 'High-Performance' 'Factory Tuner,High-Performance'\n",
            " 'Exotic,High-Performance' 'Exotic,Factory Tuner,High-Performance'\n",
            " 'Factory Tuner,Performance' 'Crossover' 'Exotic,Luxury'\n",
            " 'Exotic,Luxury,High-Performance' 'Exotic,Luxury,Performance'\n",
            " 'Factory Tuner,Luxury,Performance' 'Flex Fuel,Luxury' 'Crossover,Luxury'\n",
            " 'Hatchback,Factory Tuner,Luxury,Performance' 'Crossover,Hatchback'\n",
            " 'Hybrid' 'Luxury,Performance,Hybrid'\n",
            " 'Crossover,Luxury,Performance,Hybrid' 'Crossover,Luxury,Performance'\n",
            " 'Exotic,Factory Tuner,Luxury,High-Performance'\n",
            " 'Flex Fuel,Luxury,High-Performance' 'Crossover,Flex Fuel' 'Diesel'\n",
            " 'Hatchback,Diesel' 'Crossover,Luxury,Diesel'\n",
            " 'Crossover,Luxury,High-Performance'\n",
            " 'Exotic,Flex Fuel,Factory Tuner,Luxury,High-Performance'\n",
            " 'Exotic,Flex Fuel,Luxury,High-Performance'\n",
            " 'Exotic,Factory Tuner,Luxury,Performance' 'Hatchback,Hybrid'\n",
            " 'Crossover,Hybrid' 'Hatchback,Luxury,Hybrid'\n",
            " 'Flex Fuel,Luxury,Performance' 'Crossover,Performance' 'Luxury,Hybrid'\n",
            " 'Crossover,Flex Fuel,Luxury,Performance' 'Crossover,Flex Fuel,Luxury'\n",
            " 'Crossover,Flex Fuel,Performance'\n",
            " 'Hatchback,Factory Tuner,High-Performance' 'Hatchback,Flex Fuel'\n",
            " 'Factory Tuner,Luxury' 'Crossover,Factory Tuner,Luxury,High-Performance'\n",
            " 'Crossover,Factory Tuner,Luxury,Performance'\n",
            " 'Crossover,Hatchback,Factory Tuner,Performance'\n",
            " 'Crossover,Hatchback,Performance' 'Flex Fuel,Hybrid'\n",
            " 'Flex Fuel,Performance,Hybrid' 'Crossover,Exotic,Luxury,High-Performance'\n",
            " 'Crossover,Exotic,Luxury,Performance' 'Exotic,Performance'\n",
            " 'Exotic,Luxury,High-Performance,Hybrid' 'Crossover,Luxury,Hybrid'\n",
            " 'Flex Fuel,Factory Tuner,Luxury,High-Performance' 'Performance,Hybrid'\n",
            " 'Crossover,Factory Tuner,Performance' 'Crossover,Diesel'\n",
            " 'Flex Fuel,Diesel' 'Crossover,Hatchback,Luxury']\n",
            "\n",
            "length of market_category is => 71\n",
            "*********************\n",
            "\n",
            "vehicle_size has unique values : => ['Compact' 'Midsize' 'Large']\n",
            "\n",
            "length of vehicle_size is => 3\n",
            "*********************\n",
            "\n",
            "vehicle_style has unique values : => ['Coupe' 'Convertible' 'Sedan' 'Wagon' '4dr Hatchback' '2dr Hatchback'\n",
            " '4dr SUV' 'Passenger Minivan' 'Cargo Minivan' 'Crew Cab Pickup'\n",
            " 'Regular Cab Pickup' 'Extended Cab Pickup' '2dr SUV' 'Cargo Van'\n",
            " 'Convertible SUV' 'Passenger Van']\n",
            "\n",
            "length of vehicle_style is => 16\n",
            "*********************\n",
            "\n"
          ]
        }
      ]
    },
    {
      "cell_type": "code",
      "source": [
        "for col in strings:\n",
        "    df[col] = df[col].str.lower().str.replace(' ', '_')"
      ],
      "metadata": {
        "id": "4KXjvzlhivj3"
      },
      "execution_count": 31,
      "outputs": []
    },
    {
      "cell_type": "code",
      "source": [
        "df"
      ],
      "metadata": {
        "colab": {
          "base_uri": "https://localhost:8080/",
          "height": 505
        },
        "id": "p62m_IR2i1yX",
        "outputId": "14a55fb9-569e-4a96-f95e-4984aa35eff3"
      },
      "execution_count": 32,
      "outputs": [
        {
          "output_type": "execute_result",
          "data": {
            "text/plain": [
              "          make       model  year                engine_fuel_type  engine_hp  \\\n",
              "0          bmw  1_series_m  2011     premium_unleaded_(required)      335.0   \n",
              "1          bmw    1_series  2011     premium_unleaded_(required)      300.0   \n",
              "2          bmw    1_series  2011     premium_unleaded_(required)      300.0   \n",
              "3          bmw    1_series  2011     premium_unleaded_(required)      230.0   \n",
              "4          bmw    1_series  2011     premium_unleaded_(required)      230.0   \n",
              "...        ...         ...   ...                             ...        ...   \n",
              "11909    acura         zdx  2012     premium_unleaded_(required)      300.0   \n",
              "11910    acura         zdx  2012     premium_unleaded_(required)      300.0   \n",
              "11911    acura         zdx  2012     premium_unleaded_(required)      300.0   \n",
              "11912    acura         zdx  2013  premium_unleaded_(recommended)      300.0   \n",
              "11913  lincoln      zephyr  2006                regular_unleaded      221.0   \n",
              "\n",
              "       engine_cylinders transmission_type      driven_wheels  number_of_doors  \\\n",
              "0                   6.0            manual   rear_wheel_drive              2.0   \n",
              "1                   6.0            manual   rear_wheel_drive              2.0   \n",
              "2                   6.0            manual   rear_wheel_drive              2.0   \n",
              "3                   6.0            manual   rear_wheel_drive              2.0   \n",
              "4                   6.0            manual   rear_wheel_drive              2.0   \n",
              "...                 ...               ...                ...              ...   \n",
              "11909               6.0         automatic    all_wheel_drive              4.0   \n",
              "11910               6.0         automatic    all_wheel_drive              4.0   \n",
              "11911               6.0         automatic    all_wheel_drive              4.0   \n",
              "11912               6.0         automatic    all_wheel_drive              4.0   \n",
              "11913               6.0         automatic  front_wheel_drive              4.0   \n",
              "\n",
              "                             market_category vehicle_size  vehicle_style  \\\n",
              "0      factory_tuner,luxury,high-performance      compact          coupe   \n",
              "1                         luxury,performance      compact    convertible   \n",
              "2                    luxury,high-performance      compact          coupe   \n",
              "3                         luxury,performance      compact          coupe   \n",
              "4                                     luxury      compact    convertible   \n",
              "...                                      ...          ...            ...   \n",
              "11909             crossover,hatchback,luxury      midsize  4dr_hatchback   \n",
              "11910             crossover,hatchback,luxury      midsize  4dr_hatchback   \n",
              "11911             crossover,hatchback,luxury      midsize  4dr_hatchback   \n",
              "11912             crossover,hatchback,luxury      midsize  4dr_hatchback   \n",
              "11913                                 luxury      midsize          sedan   \n",
              "\n",
              "       highway_mpg  city_mpg  popularity   msrp  \n",
              "0               26        19        3916  46135  \n",
              "1               28        19        3916  40650  \n",
              "2               28        20        3916  36350  \n",
              "3               28        18        3916  29450  \n",
              "4               28        18        3916  34500  \n",
              "...            ...       ...         ...    ...  \n",
              "11909           23        16         204  46120  \n",
              "11910           23        16         204  56670  \n",
              "11911           23        16         204  50620  \n",
              "11912           23        16         204  50920  \n",
              "11913           26        17          61  28995  \n",
              "\n",
              "[11914 rows x 16 columns]"
            ],
            "text/html": [
              "\n",
              "  <div id=\"df-3df2174d-92f2-444f-b38b-a9b7cfe831a8\">\n",
              "    <div class=\"colab-df-container\">\n",
              "      <div>\n",
              "<style scoped>\n",
              "    .dataframe tbody tr th:only-of-type {\n",
              "        vertical-align: middle;\n",
              "    }\n",
              "\n",
              "    .dataframe tbody tr th {\n",
              "        vertical-align: top;\n",
              "    }\n",
              "\n",
              "    .dataframe thead th {\n",
              "        text-align: right;\n",
              "    }\n",
              "</style>\n",
              "<table border=\"1\" class=\"dataframe\">\n",
              "  <thead>\n",
              "    <tr style=\"text-align: right;\">\n",
              "      <th></th>\n",
              "      <th>make</th>\n",
              "      <th>model</th>\n",
              "      <th>year</th>\n",
              "      <th>engine_fuel_type</th>\n",
              "      <th>engine_hp</th>\n",
              "      <th>engine_cylinders</th>\n",
              "      <th>transmission_type</th>\n",
              "      <th>driven_wheels</th>\n",
              "      <th>number_of_doors</th>\n",
              "      <th>market_category</th>\n",
              "      <th>vehicle_size</th>\n",
              "      <th>vehicle_style</th>\n",
              "      <th>highway_mpg</th>\n",
              "      <th>city_mpg</th>\n",
              "      <th>popularity</th>\n",
              "      <th>msrp</th>\n",
              "    </tr>\n",
              "  </thead>\n",
              "  <tbody>\n",
              "    <tr>\n",
              "      <th>0</th>\n",
              "      <td>bmw</td>\n",
              "      <td>1_series_m</td>\n",
              "      <td>2011</td>\n",
              "      <td>premium_unleaded_(required)</td>\n",
              "      <td>335.0</td>\n",
              "      <td>6.0</td>\n",
              "      <td>manual</td>\n",
              "      <td>rear_wheel_drive</td>\n",
              "      <td>2.0</td>\n",
              "      <td>factory_tuner,luxury,high-performance</td>\n",
              "      <td>compact</td>\n",
              "      <td>coupe</td>\n",
              "      <td>26</td>\n",
              "      <td>19</td>\n",
              "      <td>3916</td>\n",
              "      <td>46135</td>\n",
              "    </tr>\n",
              "    <tr>\n",
              "      <th>1</th>\n",
              "      <td>bmw</td>\n",
              "      <td>1_series</td>\n",
              "      <td>2011</td>\n",
              "      <td>premium_unleaded_(required)</td>\n",
              "      <td>300.0</td>\n",
              "      <td>6.0</td>\n",
              "      <td>manual</td>\n",
              "      <td>rear_wheel_drive</td>\n",
              "      <td>2.0</td>\n",
              "      <td>luxury,performance</td>\n",
              "      <td>compact</td>\n",
              "      <td>convertible</td>\n",
              "      <td>28</td>\n",
              "      <td>19</td>\n",
              "      <td>3916</td>\n",
              "      <td>40650</td>\n",
              "    </tr>\n",
              "    <tr>\n",
              "      <th>2</th>\n",
              "      <td>bmw</td>\n",
              "      <td>1_series</td>\n",
              "      <td>2011</td>\n",
              "      <td>premium_unleaded_(required)</td>\n",
              "      <td>300.0</td>\n",
              "      <td>6.0</td>\n",
              "      <td>manual</td>\n",
              "      <td>rear_wheel_drive</td>\n",
              "      <td>2.0</td>\n",
              "      <td>luxury,high-performance</td>\n",
              "      <td>compact</td>\n",
              "      <td>coupe</td>\n",
              "      <td>28</td>\n",
              "      <td>20</td>\n",
              "      <td>3916</td>\n",
              "      <td>36350</td>\n",
              "    </tr>\n",
              "    <tr>\n",
              "      <th>3</th>\n",
              "      <td>bmw</td>\n",
              "      <td>1_series</td>\n",
              "      <td>2011</td>\n",
              "      <td>premium_unleaded_(required)</td>\n",
              "      <td>230.0</td>\n",
              "      <td>6.0</td>\n",
              "      <td>manual</td>\n",
              "      <td>rear_wheel_drive</td>\n",
              "      <td>2.0</td>\n",
              "      <td>luxury,performance</td>\n",
              "      <td>compact</td>\n",
              "      <td>coupe</td>\n",
              "      <td>28</td>\n",
              "      <td>18</td>\n",
              "      <td>3916</td>\n",
              "      <td>29450</td>\n",
              "    </tr>\n",
              "    <tr>\n",
              "      <th>4</th>\n",
              "      <td>bmw</td>\n",
              "      <td>1_series</td>\n",
              "      <td>2011</td>\n",
              "      <td>premium_unleaded_(required)</td>\n",
              "      <td>230.0</td>\n",
              "      <td>6.0</td>\n",
              "      <td>manual</td>\n",
              "      <td>rear_wheel_drive</td>\n",
              "      <td>2.0</td>\n",
              "      <td>luxury</td>\n",
              "      <td>compact</td>\n",
              "      <td>convertible</td>\n",
              "      <td>28</td>\n",
              "      <td>18</td>\n",
              "      <td>3916</td>\n",
              "      <td>34500</td>\n",
              "    </tr>\n",
              "    <tr>\n",
              "      <th>...</th>\n",
              "      <td>...</td>\n",
              "      <td>...</td>\n",
              "      <td>...</td>\n",
              "      <td>...</td>\n",
              "      <td>...</td>\n",
              "      <td>...</td>\n",
              "      <td>...</td>\n",
              "      <td>...</td>\n",
              "      <td>...</td>\n",
              "      <td>...</td>\n",
              "      <td>...</td>\n",
              "      <td>...</td>\n",
              "      <td>...</td>\n",
              "      <td>...</td>\n",
              "      <td>...</td>\n",
              "      <td>...</td>\n",
              "    </tr>\n",
              "    <tr>\n",
              "      <th>11909</th>\n",
              "      <td>acura</td>\n",
              "      <td>zdx</td>\n",
              "      <td>2012</td>\n",
              "      <td>premium_unleaded_(required)</td>\n",
              "      <td>300.0</td>\n",
              "      <td>6.0</td>\n",
              "      <td>automatic</td>\n",
              "      <td>all_wheel_drive</td>\n",
              "      <td>4.0</td>\n",
              "      <td>crossover,hatchback,luxury</td>\n",
              "      <td>midsize</td>\n",
              "      <td>4dr_hatchback</td>\n",
              "      <td>23</td>\n",
              "      <td>16</td>\n",
              "      <td>204</td>\n",
              "      <td>46120</td>\n",
              "    </tr>\n",
              "    <tr>\n",
              "      <th>11910</th>\n",
              "      <td>acura</td>\n",
              "      <td>zdx</td>\n",
              "      <td>2012</td>\n",
              "      <td>premium_unleaded_(required)</td>\n",
              "      <td>300.0</td>\n",
              "      <td>6.0</td>\n",
              "      <td>automatic</td>\n",
              "      <td>all_wheel_drive</td>\n",
              "      <td>4.0</td>\n",
              "      <td>crossover,hatchback,luxury</td>\n",
              "      <td>midsize</td>\n",
              "      <td>4dr_hatchback</td>\n",
              "      <td>23</td>\n",
              "      <td>16</td>\n",
              "      <td>204</td>\n",
              "      <td>56670</td>\n",
              "    </tr>\n",
              "    <tr>\n",
              "      <th>11911</th>\n",
              "      <td>acura</td>\n",
              "      <td>zdx</td>\n",
              "      <td>2012</td>\n",
              "      <td>premium_unleaded_(required)</td>\n",
              "      <td>300.0</td>\n",
              "      <td>6.0</td>\n",
              "      <td>automatic</td>\n",
              "      <td>all_wheel_drive</td>\n",
              "      <td>4.0</td>\n",
              "      <td>crossover,hatchback,luxury</td>\n",
              "      <td>midsize</td>\n",
              "      <td>4dr_hatchback</td>\n",
              "      <td>23</td>\n",
              "      <td>16</td>\n",
              "      <td>204</td>\n",
              "      <td>50620</td>\n",
              "    </tr>\n",
              "    <tr>\n",
              "      <th>11912</th>\n",
              "      <td>acura</td>\n",
              "      <td>zdx</td>\n",
              "      <td>2013</td>\n",
              "      <td>premium_unleaded_(recommended)</td>\n",
              "      <td>300.0</td>\n",
              "      <td>6.0</td>\n",
              "      <td>automatic</td>\n",
              "      <td>all_wheel_drive</td>\n",
              "      <td>4.0</td>\n",
              "      <td>crossover,hatchback,luxury</td>\n",
              "      <td>midsize</td>\n",
              "      <td>4dr_hatchback</td>\n",
              "      <td>23</td>\n",
              "      <td>16</td>\n",
              "      <td>204</td>\n",
              "      <td>50920</td>\n",
              "    </tr>\n",
              "    <tr>\n",
              "      <th>11913</th>\n",
              "      <td>lincoln</td>\n",
              "      <td>zephyr</td>\n",
              "      <td>2006</td>\n",
              "      <td>regular_unleaded</td>\n",
              "      <td>221.0</td>\n",
              "      <td>6.0</td>\n",
              "      <td>automatic</td>\n",
              "      <td>front_wheel_drive</td>\n",
              "      <td>4.0</td>\n",
              "      <td>luxury</td>\n",
              "      <td>midsize</td>\n",
              "      <td>sedan</td>\n",
              "      <td>26</td>\n",
              "      <td>17</td>\n",
              "      <td>61</td>\n",
              "      <td>28995</td>\n",
              "    </tr>\n",
              "  </tbody>\n",
              "</table>\n",
              "<p>11914 rows × 16 columns</p>\n",
              "</div>\n",
              "      <button class=\"colab-df-convert\" onclick=\"convertToInteractive('df-3df2174d-92f2-444f-b38b-a9b7cfe831a8')\"\n",
              "              title=\"Convert this dataframe to an interactive table.\"\n",
              "              style=\"display:none;\">\n",
              "        \n",
              "  <svg xmlns=\"http://www.w3.org/2000/svg\" height=\"24px\"viewBox=\"0 0 24 24\"\n",
              "       width=\"24px\">\n",
              "    <path d=\"M0 0h24v24H0V0z\" fill=\"none\"/>\n",
              "    <path d=\"M18.56 5.44l.94 2.06.94-2.06 2.06-.94-2.06-.94-.94-2.06-.94 2.06-2.06.94zm-11 1L8.5 8.5l.94-2.06 2.06-.94-2.06-.94L8.5 2.5l-.94 2.06-2.06.94zm10 10l.94 2.06.94-2.06 2.06-.94-2.06-.94-.94-2.06-.94 2.06-2.06.94z\"/><path d=\"M17.41 7.96l-1.37-1.37c-.4-.4-.92-.59-1.43-.59-.52 0-1.04.2-1.43.59L10.3 9.45l-7.72 7.72c-.78.78-.78 2.05 0 2.83L4 21.41c.39.39.9.59 1.41.59.51 0 1.02-.2 1.41-.59l7.78-7.78 2.81-2.81c.8-.78.8-2.07 0-2.86zM5.41 20L4 18.59l7.72-7.72 1.47 1.35L5.41 20z\"/>\n",
              "  </svg>\n",
              "      </button>\n",
              "      \n",
              "  <style>\n",
              "    .colab-df-container {\n",
              "      display:flex;\n",
              "      flex-wrap:wrap;\n",
              "      gap: 12px;\n",
              "    }\n",
              "\n",
              "    .colab-df-convert {\n",
              "      background-color: #E8F0FE;\n",
              "      border: none;\n",
              "      border-radius: 50%;\n",
              "      cursor: pointer;\n",
              "      display: none;\n",
              "      fill: #1967D2;\n",
              "      height: 32px;\n",
              "      padding: 0 0 0 0;\n",
              "      width: 32px;\n",
              "    }\n",
              "\n",
              "    .colab-df-convert:hover {\n",
              "      background-color: #E2EBFA;\n",
              "      box-shadow: 0px 1px 2px rgba(60, 64, 67, 0.3), 0px 1px 3px 1px rgba(60, 64, 67, 0.15);\n",
              "      fill: #174EA6;\n",
              "    }\n",
              "\n",
              "    [theme=dark] .colab-df-convert {\n",
              "      background-color: #3B4455;\n",
              "      fill: #D2E3FC;\n",
              "    }\n",
              "\n",
              "    [theme=dark] .colab-df-convert:hover {\n",
              "      background-color: #434B5C;\n",
              "      box-shadow: 0px 1px 3px 1px rgba(0, 0, 0, 0.15);\n",
              "      filter: drop-shadow(0px 1px 2px rgba(0, 0, 0, 0.3));\n",
              "      fill: #FFFFFF;\n",
              "    }\n",
              "  </style>\n",
              "\n",
              "      <script>\n",
              "        const buttonEl =\n",
              "          document.querySelector('#df-3df2174d-92f2-444f-b38b-a9b7cfe831a8 button.colab-df-convert');\n",
              "        buttonEl.style.display =\n",
              "          google.colab.kernel.accessAllowed ? 'block' : 'none';\n",
              "\n",
              "        async function convertToInteractive(key) {\n",
              "          const element = document.querySelector('#df-3df2174d-92f2-444f-b38b-a9b7cfe831a8');\n",
              "          const dataTable =\n",
              "            await google.colab.kernel.invokeFunction('convertToInteractive',\n",
              "                                                     [key], {});\n",
              "          if (!dataTable) return;\n",
              "\n",
              "          const docLinkHtml = 'Like what you see? Visit the ' +\n",
              "            '<a target=\"_blank\" href=https://colab.research.google.com/notebooks/data_table.ipynb>data table notebook</a>'\n",
              "            + ' to learn more about interactive tables.';\n",
              "          element.innerHTML = '';\n",
              "          dataTable['output_type'] = 'display_data';\n",
              "          await google.colab.output.renderOutput(dataTable, element);\n",
              "          const docLink = document.createElement('div');\n",
              "          docLink.innerHTML = docLinkHtml;\n",
              "          element.appendChild(docLink);\n",
              "        }\n",
              "      </script>\n",
              "    </div>\n",
              "  </div>\n",
              "  "
            ]
          },
          "metadata": {},
          "execution_count": 32
        }
      ]
    },
    {
      "cell_type": "code",
      "source": [
        "df.dtypes\n"
      ],
      "metadata": {
        "colab": {
          "base_uri": "https://localhost:8080/"
        },
        "id": "URFFFF-mi2hH",
        "outputId": "c7a50f65-1202-423d-8fde-1a780250f816"
      },
      "execution_count": 33,
      "outputs": [
        {
          "output_type": "execute_result",
          "data": {
            "text/plain": [
              "make                  object\n",
              "model                 object\n",
              "year                   int64\n",
              "engine_fuel_type      object\n",
              "engine_hp            float64\n",
              "engine_cylinders     float64\n",
              "transmission_type     object\n",
              "driven_wheels         object\n",
              "number_of_doors      float64\n",
              "market_category       object\n",
              "vehicle_size          object\n",
              "vehicle_style         object\n",
              "highway_mpg            int64\n",
              "city_mpg               int64\n",
              "popularity             int64\n",
              "msrp                   int64\n",
              "dtype: object"
            ]
          },
          "metadata": {},
          "execution_count": 33
        }
      ]
    },
    {
      "cell_type": "code",
      "source": [
        "integers = list(df.dtypes[df.dtypes != 'object'].index)\n",
        "integers"
      ],
      "metadata": {
        "colab": {
          "base_uri": "https://localhost:8080/"
        },
        "id": "MGEludKCjBaZ",
        "outputId": "2a8833e8-6e5f-47fa-a5e0-19e1c2168652"
      },
      "execution_count": 36,
      "outputs": [
        {
          "output_type": "execute_result",
          "data": {
            "text/plain": [
              "['year',\n",
              " 'engine_hp',\n",
              " 'engine_cylinders',\n",
              " 'number_of_doors',\n",
              " 'highway_mpg',\n",
              " 'city_mpg',\n",
              " 'popularity',\n",
              " 'msrp']"
            ]
          },
          "metadata": {},
          "execution_count": 36
        }
      ]
    },
    {
      "cell_type": "code",
      "source": [
        "## distribution of numerical features\n",
        "\n",
        "\n",
        "sns.histplot(df.msrp, bins=50)"
      ],
      "metadata": {
        "colab": {
          "base_uri": "https://localhost:8080/",
          "height": 296
        },
        "id": "XM4QlIirjL04",
        "outputId": "70ac20f3-18bb-4457-b7a5-5a08815b3481"
      },
      "execution_count": 42,
      "outputs": [
        {
          "output_type": "execute_result",
          "data": {
            "text/plain": [
              "<matplotlib.axes._subplots.AxesSubplot at 0x7f64beec13d0>"
            ]
          },
          "metadata": {},
          "execution_count": 42
        },
        {
          "output_type": "display_data",
          "data": {
            "text/plain": [
              "<Figure size 432x288 with 1 Axes>"
            ],
            "image/png": "[encoded data removed]"
          },
          "metadata": {
            "needs_background": "light"
          }
        }
      ]
    },
    {
      "cell_type": "code",
      "source": [
        "sns.histplot(df.msrp[df.msrp < 100000], bins=50)"
      ],
      "metadata": {
        "colab": {
          "base_uri": "https://localhost:8080/",
          "height": 296
        },
        "id": "bztWELoPjzzw",
        "outputId": "2919d3bc-af7c-4781-ebaf-8ecb8eb74ac5"
      },
      "execution_count": 43,
      "outputs": [
        {
          "output_type": "execute_result",
          "data": {
            "text/plain": [
              "<matplotlib.axes._subplots.AxesSubplot at 0x7f64beee3850>"
            ]
          },
          "metadata": {},
          "execution_count": 43
        },
        {
          "output_type": "display_data",
          "data": {
            "text/plain": [
              "<Figure size 432x288 with 1 Axes>"
            ],
            "image/png": "[encoded data removed]"
          },
          "metadata": {
            "needs_background": "light"
          }
        }
      ]
    },
    {
      "cell_type": "code",
      "source": [
        "price_logs = np.log1p(df.msrp)"
      ],
      "metadata": {
        "id": "rWyZ-TdPpNR7"
      },
      "execution_count": 44,
      "outputs": []
    },
    {
      "cell_type": "code",
      "source": [
        "sns.histplot(price_logs, bins=50)"
      ],
      "metadata": {
        "colab": {
          "base_uri": "https://localhost:8080/",
          "height": 296
        },
        "id": "YSxiJAVBpnG1",
        "outputId": "c0c403d0-8029-4599-899e-67542987fc82"
      },
      "execution_count": 45,
      "outputs": [
        {
          "output_type": "execute_result",
          "data": {
            "text/plain": [
              "<matplotlib.axes._subplots.AxesSubplot at 0x7f64bef8c7c0>"
            ]
          },
          "metadata": {},
          "execution_count": 45
        },
        {
          "output_type": "display_data",
          "data": {
            "text/plain": [
              "<Figure size 432x288 with 1 Axes>"
            ],
            "image/png": "[encoded data removed]"
          },
          "metadata": {
            "needs_background": "light"
          }
        }
      ]
    },
    {
      "cell_type": "markdown",
      "source": [
        "Setting up the validation framework"
      ],
      "metadata": {
        "id": "-EK_hsZcprjy"
      }
    },
    {
      "cell_type": "code",
      "source": [
        "n = len(df)\n",
        "n_val = int(n * 0.2)\n",
        "n_test = int(n * 0.2)\n",
        "n_train = n - n_val - n_test\n",
        "\n",
        "print(f\"train :=>{n_train}, test:=> {n_test}, val:=> {n_val}\")"
      ],
      "metadata": {
        "colab": {
          "base_uri": "https://localhost:8080/"
        },
        "id": "jyVYHtsDpnbi",
        "outputId": "c9baeec3-4804-495a-942f-66b2fb3eee4a"
      },
      "execution_count": 47,
      "outputs": [
        {
          "output_type": "stream",
          "name": "stdout",
          "text": [
            "train :=>7150, test:=> 2382, val:=> 2382\n"
          ]
        }
      ]
    },
    {
      "cell_type": "code",
      "source": [
        "idx = np.arange(n)\n",
        "np.random.seed(2)\n",
        "np.random.shuffle(idx)"
      ],
      "metadata": {
        "id": "NhFAOLZCqspK"
      },
      "execution_count": 50,
      "outputs": []
    },
    {
      "cell_type": "code",
      "source": [
        "df_train = df.iloc[idx[:n_train]]\n",
        "df_val = df.iloc[idx[n_train:n_train + n_val]]\n",
        "df_test = df.iloc[idx[n_train + n_val:]]"
      ],
      "metadata": {
        "id": "vX0zfQQepuvy"
      },
      "execution_count": 51,
      "outputs": []
    },
    {
      "cell_type": "code",
      "source": [
        "df_train.head()"
      ],
      "metadata": {
        "colab": {
          "base_uri": "https://localhost:8080/",
          "height": 288
        },
        "id": "iTQlxIBLq8fk",
        "outputId": "dacdda46-17f3-4db6-a011-be857d0d1488"
      },
      "execution_count": 52,
      "outputs": [
        {
          "output_type": "execute_result",
          "data": {
            "text/plain": [
              "             make    model  year          engine_fuel_type  engine_hp  \\\n",
              "2735    chevrolet   cobalt  2008          regular_unleaded      148.0   \n",
              "6720       toyota   matrix  2012          regular_unleaded      132.0   \n",
              "5878       subaru  impreza  2016          regular_unleaded      148.0   \n",
              "11190  volkswagen  vanagon  1991          regular_unleaded       90.0   \n",
              "4554         ford    f-150  2017  flex-fuel_(unleaded/e85)      385.0   \n",
              "\n",
              "       engine_cylinders transmission_type      driven_wheels  number_of_doors  \\\n",
              "2735                4.0            manual  front_wheel_drive              2.0   \n",
              "6720                4.0         automatic  front_wheel_drive              4.0   \n",
              "5878                4.0         automatic    all_wheel_drive              4.0   \n",
              "11190               4.0            manual   rear_wheel_drive              3.0   \n",
              "4554                8.0         automatic   four_wheel_drive              4.0   \n",
              "\n",
              "      market_category vehicle_size      vehicle_style  highway_mpg  city_mpg  \\\n",
              "2735              NaN      compact              coupe           33        24   \n",
              "6720        hatchback      compact      4dr_hatchback           32        25   \n",
              "5878        hatchback      compact      4dr_hatchback           37        28   \n",
              "11190             NaN        large  passenger_minivan           18        16   \n",
              "4554        flex_fuel        large    crew_cab_pickup           21        15   \n",
              "\n",
              "       popularity   msrp  \n",
              "2735         1385  14410  \n",
              "6720         2031  19685  \n",
              "5878          640  19795  \n",
              "11190         873   2000  \n",
              "4554         5657  56260  "
            ],
            "text/html": [
              "\n",
              "  <div id=\"df-f2041574-3275-4f2b-822c-fbd0057622ca\">\n",
              "    <div class=\"colab-df-container\">\n",
              "      <div>\n",
              "<style scoped>\n",
              "    .dataframe tbody tr th:only-of-type {\n",
              "        vertical-align: middle;\n",
              "    }\n",
              "\n",
              "    .dataframe tbody tr th {\n",
              "        vertical-align: top;\n",
              "    }\n",
              "\n",
              "    .dataframe thead th {\n",
              "        text-align: right;\n",
              "    }\n",
              "</style>\n",
              "<table border=\"1\" class=\"dataframe\">\n",
              "  <thead>\n",
              "    <tr style=\"text-align: right;\">\n",
              "      <th></th>\n",
              "      <th>make</th>\n",
              "      <th>model</th>\n",
              "      <th>year</th>\n",
              "      <th>engine_fuel_type</th>\n",
              "      <th>engine_hp</th>\n",
              "      <th>engine_cylinders</th>\n",
              "      <th>transmission_type</th>\n",
              "      <th>driven_wheels</th>\n",
              "      <th>number_of_doors</th>\n",
              "      <th>market_category</th>\n",
              "      <th>vehicle_size</th>\n",
              "      <th>vehicle_style</th>\n",
              "      <th>highway_mpg</th>\n",
              "      <th>city_mpg</th>\n",
              "      <th>popularity</th>\n",
              "      <th>msrp</th>\n",
              "    </tr>\n",
              "  </thead>\n",
              "  <tbody>\n",
              "    <tr>\n",
              "      <th>2735</th>\n",
              "      <td>chevrolet</td>\n",
              "      <td>cobalt</td>\n",
              "      <td>2008</td>\n",
              "      <td>regular_unleaded</td>\n",
              "      <td>148.0</td>\n",
              "      <td>4.0</td>\n",
              "      <td>manual</td>\n",
              "      <td>front_wheel_drive</td>\n",
              "      <td>2.0</td>\n",
              "      <td>NaN</td>\n",
              "      <td>compact</td>\n",
              "      <td>coupe</td>\n",
              "      <td>33</td>\n",
              "      <td>24</td>\n",
              "      <td>1385</td>\n",
              "      <td>14410</td>\n",
              "    </tr>\n",
              "    <tr>\n",
              "      <th>6720</th>\n",
              "      <td>toyota</td>\n",
              "      <td>matrix</td>\n",
              "      <td>2012</td>\n",
              "      <td>regular_unleaded</td>\n",
              "      <td>132.0</td>\n",
              "      <td>4.0</td>\n",
              "      <td>automatic</td>\n",
              "      <td>front_wheel_drive</td>\n",
              "      <td>4.0</td>\n",
              "      <td>hatchback</td>\n",
              "      <td>compact</td>\n",
              "      <td>4dr_hatchback</td>\n",
              "      <td>32</td>\n",
              "      <td>25</td>\n",
              "      <td>2031</td>\n",
              "      <td>19685</td>\n",
              "    </tr>\n",
              "    <tr>\n",
              "      <th>5878</th>\n",
              "      <td>subaru</td>\n",
              "      <td>impreza</td>\n",
              "      <td>2016</td>\n",
              "      <td>regular_unleaded</td>\n",
              "      <td>148.0</td>\n",
              "      <td>4.0</td>\n",
              "      <td>automatic</td>\n",
              "      <td>all_wheel_drive</td>\n",
              "      <td>4.0</td>\n",
              "      <td>hatchback</td>\n",
              "      <td>compact</td>\n",
              "      <td>4dr_hatchback</td>\n",
              "      <td>37</td>\n",
              "      <td>28</td>\n",
              "      <td>640</td>\n",
              "      <td>19795</td>\n",
              "    </tr>\n",
              "    <tr>\n",
              "      <th>11190</th>\n",
              "      <td>volkswagen</td>\n",
              "      <td>vanagon</td>\n",
              "      <td>1991</td>\n",
              "      <td>regular_unleaded</td>\n",
              "      <td>90.0</td>\n",
              "      <td>4.0</td>\n",
              "      <td>manual</td>\n",
              "      <td>rear_wheel_drive</td>\n",
              "      <td>3.0</td>\n",
              "      <td>NaN</td>\n",
              "      <td>large</td>\n",
              "      <td>passenger_minivan</td>\n",
              "      <td>18</td>\n",
              "      <td>16</td>\n",
              "      <td>873</td>\n",
              "      <td>2000</td>\n",
              "    </tr>\n",
              "    <tr>\n",
              "      <th>4554</th>\n",
              "      <td>ford</td>\n",
              "      <td>f-150</td>\n",
              "      <td>2017</td>\n",
              "      <td>flex-fuel_(unleaded/e85)</td>\n",
              "      <td>385.0</td>\n",
              "      <td>8.0</td>\n",
              "      <td>automatic</td>\n",
              "      <td>four_wheel_drive</td>\n",
              "      <td>4.0</td>\n",
              "      <td>flex_fuel</td>\n",
              "      <td>large</td>\n",
              "      <td>crew_cab_pickup</td>\n",
              "      <td>21</td>\n",
              "      <td>15</td>\n",
              "      <td>5657</td>\n",
              "      <td>56260</td>\n",
              "    </tr>\n",
              "  </tbody>\n",
              "</table>\n",
              "</div>\n",
              "      <button class=\"colab-df-convert\" onclick=\"convertToInteractive('df-f2041574-3275-4f2b-822c-fbd0057622ca')\"\n",
              "              title=\"Convert this dataframe to an interactive table.\"\n",
              "              style=\"display:none;\">\n",
              "        \n",
              "  <svg xmlns=\"http://www.w3.org/2000/svg\" height=\"24px\"viewBox=\"0 0 24 24\"\n",
              "       width=\"24px\">\n",
              "    <path d=\"M0 0h24v24H0V0z\" fill=\"none\"/>\n",
              "    <path d=\"M18.56 5.44l.94 2.06.94-2.06 2.06-.94-2.06-.94-.94-2.06-.94 2.06-2.06.94zm-11 1L8.5 8.5l.94-2.06 2.06-.94-2.06-.94L8.5 2.5l-.94 2.06-2.06.94zm10 10l.94 2.06.94-2.06 2.06-.94-2.06-.94-.94-2.06-.94 2.06-2.06.94z\"/><path d=\"M17.41 7.96l-1.37-1.37c-.4-.4-.92-.59-1.43-.59-.52 0-1.04.2-1.43.59L10.3 9.45l-7.72 7.72c-.78.78-.78 2.05 0 2.83L4 21.41c.39.39.9.59 1.41.59.51 0 1.02-.2 1.41-.59l7.78-7.78 2.81-2.81c.8-.78.8-2.07 0-2.86zM5.41 20L4 18.59l7.72-7.72 1.47 1.35L5.41 20z\"/>\n",
              "  </svg>\n",
              "      </button>\n",
              "      \n",
              "  <style>\n",
              "    .colab-df-container {\n",
              "      display:flex;\n",
              "      flex-wrap:wrap;\n",
              "      gap: 12px;\n",
              "    }\n",
              "\n",
              "    .colab-df-convert {\n",
              "      background-color: #E8F0FE;\n",
              "      border: none;\n",
              "      border-radius: 50%;\n",
              "      cursor: pointer;\n",
              "      display: none;\n",
              "      fill: #1967D2;\n",
              "      height: 32px;\n",
              "      padding: 0 0 0 0;\n",
              "      width: 32px;\n",
              "    }\n",
              "\n",
              "    .colab-df-convert:hover {\n",
              "      background-color: #E2EBFA;\n",
              "      box-shadow: 0px 1px 2px rgba(60, 64, 67, 0.3), 0px 1px 3px 1px rgba(60, 64, 67, 0.15);\n",
              "      fill: #174EA6;\n",
              "    }\n",
              "\n",
              "    [theme=dark] .colab-df-convert {\n",
              "      background-color: #3B4455;\n",
              "      fill: #D2E3FC;\n",
              "    }\n",
              "\n",
              "    [theme=dark] .colab-df-convert:hover {\n",
              "      background-color: #434B5C;\n",
              "      box-shadow: 0px 1px 3px 1px rgba(0, 0, 0, 0.15);\n",
              "      filter: drop-shadow(0px 1px 2px rgba(0, 0, 0, 0.3));\n",
              "      fill: #FFFFFF;\n",
              "    }\n",
              "  </style>\n",
              "\n",
              "      <script>\n",
              "        const buttonEl =\n",
              "          document.querySelector('#df-f2041574-3275-4f2b-822c-fbd0057622ca button.colab-df-convert');\n",
              "        buttonEl.style.display =\n",
              "          google.colab.kernel.accessAllowed ? 'block' : 'none';\n",
              "\n",
              "        async function convertToInteractive(key) {\n",
              "          const element = document.querySelector('#df-f2041574-3275-4f2b-822c-fbd0057622ca');\n",
              "          const dataTable =\n",
              "            await google.colab.kernel.invokeFunction('convertToInteractive',\n",
              "                                                     [key], {});\n",
              "          if (!dataTable) return;\n",
              "\n",
              "          const docLinkHtml = 'Like what you see? Visit the ' +\n",
              "            '<a target=\"_blank\" href=https://colab.research.google.com/notebooks/data_table.ipynb>data table notebook</a>'\n",
              "            + ' to learn more about interactive tables.';\n",
              "          element.innerHTML = '';\n",
              "          dataTable['output_type'] = 'display_data';\n",
              "          await google.colab.output.renderOutput(dataTable, element);\n",
              "          const docLink = document.createElement('div');\n",
              "          docLink.innerHTML = docLinkHtml;\n",
              "          element.appendChild(docLink);\n",
              "        }\n",
              "      </script>\n",
              "    </div>\n",
              "  </div>\n",
              "  "
            ]
          },
          "metadata": {},
          "execution_count": 52
        }
      ]
    },
    {
      "cell_type": "code",
      "source": [
        "len(df_train), len(df_val), len(df_test)"
      ],
      "metadata": {
        "colab": {
          "base_uri": "https://localhost:8080/"
        },
        "id": "6dx5uB6Qq9Tr",
        "outputId": "04b56453-1b00-4771-9fd3-dec9bd742996"
      },
      "execution_count": 53,
      "outputs": [
        {
          "output_type": "execute_result",
          "data": {
            "text/plain": [
              "(7150, 2382, 2382)"
            ]
          },
          "metadata": {},
          "execution_count": 53
        }
      ]
    },
    {
      "cell_type": "code",
      "source": [
        "for i in [df_train,df_val,df_test]:\n",
        "  i = i.reset_index(drop=True)"
      ],
      "metadata": {
        "id": "ih05oByZrCT5"
      },
      "execution_count": 54,
      "outputs": []
    },
    {
      "cell_type": "code",
      "source": [
        "df_train"
      ],
      "metadata": {
        "colab": {
          "base_uri": "https://localhost:8080/",
          "height": 488
        },
        "id": "gBJ82LEsrQIx",
        "outputId": "214e195a-d7e6-45e6-b8ea-50085a3754e9"
      },
      "execution_count": 55,
      "outputs": [
        {
          "output_type": "execute_result",
          "data": {
            "text/plain": [
              "              make        model  year                engine_fuel_type  \\\n",
              "2735     chevrolet       cobalt  2008                regular_unleaded   \n",
              "6720        toyota       matrix  2012                regular_unleaded   \n",
              "5878        subaru      impreza  2016                regular_unleaded   \n",
              "11190   volkswagen      vanagon  1991                regular_unleaded   \n",
              "4554          ford        f-150  2017        flex-fuel_(unleaded/e85)   \n",
              "...            ...          ...   ...                             ...   \n",
              "434            bmw     4_series  2015     premium_unleaded_(required)   \n",
              "1902    volkswagen       beetle  2015  premium_unleaded_(recommended)   \n",
              "9334           gmc  sierra_1500  2015        flex-fuel_(unleaded/e85)   \n",
              "5284   rolls-royce        ghost  2014     premium_unleaded_(required)   \n",
              "2420    volkswagen           cc  2017  premium_unleaded_(recommended)   \n",
              "\n",
              "       engine_hp  engine_cylinders transmission_type      driven_wheels  \\\n",
              "2735       148.0               4.0            manual  front_wheel_drive   \n",
              "6720       132.0               4.0         automatic  front_wheel_drive   \n",
              "5878       148.0               4.0         automatic    all_wheel_drive   \n",
              "11190       90.0               4.0            manual   rear_wheel_drive   \n",
              "4554       385.0               8.0         automatic   four_wheel_drive   \n",
              "...          ...               ...               ...                ...   \n",
              "434        300.0               6.0         automatic   rear_wheel_drive   \n",
              "1902       210.0               4.0  automated_manual  front_wheel_drive   \n",
              "9334       285.0               6.0         automatic   four_wheel_drive   \n",
              "5284       563.0              12.0         automatic   rear_wheel_drive   \n",
              "2420       200.0               4.0  automated_manual  front_wheel_drive   \n",
              "\n",
              "       number_of_doors            market_category vehicle_size  \\\n",
              "2735               2.0                        NaN      compact   \n",
              "6720               4.0                  hatchback      compact   \n",
              "5878               4.0                  hatchback      compact   \n",
              "11190              3.0                        NaN        large   \n",
              "4554               4.0                  flex_fuel        large   \n",
              "...                ...                        ...          ...   \n",
              "434                2.0         luxury,performance      midsize   \n",
              "1902               2.0      hatchback,performance      compact   \n",
              "9334               4.0                  flex_fuel        large   \n",
              "5284               4.0  exotic,luxury,performance        large   \n",
              "2420               4.0                performance      midsize   \n",
              "\n",
              "             vehicle_style  highway_mpg  city_mpg  popularity    msrp  \n",
              "2735                 coupe           33        24        1385   14410  \n",
              "6720         4dr_hatchback           32        25        2031   19685  \n",
              "5878         4dr_hatchback           37        28         640   19795  \n",
              "11190    passenger_minivan           18        16         873    2000  \n",
              "4554       crew_cab_pickup           21        15        5657   56260  \n",
              "...                    ...          ...       ...         ...     ...  \n",
              "434            convertible           31        20        3916   54900  \n",
              "1902         2dr_hatchback           30        24         873   29215  \n",
              "9334   extended_cab_pickup           22        17         549   34675  \n",
              "5284                 sedan           21        13          86  303300  \n",
              "2420                 sedan           31        22         873   37820  \n",
              "\n",
              "[7150 rows x 16 columns]"
            ],
            "text/html": [
              "\n",
              "  <div id=\"df-48d335ee-ce9d-427c-9e45-f2e354f04dc4\">\n",
              "    <div class=\"colab-df-container\">\n",
              "      <div>\n",
              "<style scoped>\n",
              "    .dataframe tbody tr th:only-of-type {\n",
              "        vertical-align: middle;\n",
              "    }\n",
              "\n",
              "    .dataframe tbody tr th {\n",
              "        vertical-align: top;\n",
              "    }\n",
              "\n",
              "    .dataframe thead th {\n",
              "        text-align: right;\n",
              "    }\n",
              "</style>\n",
              "<table border=\"1\" class=\"dataframe\">\n",
              "  <thead>\n",
              "    <tr style=\"text-align: right;\">\n",
              "      <th></th>\n",
              "      <th>make</th>\n",
              "      <th>model</th>\n",
              "      <th>year</th>\n",
              "      <th>engine_fuel_type</th>\n",
              "      <th>engine_hp</th>\n",
              "      <th>engine_cylinders</th>\n",
              "      <th>transmission_type</th>\n",
              "      <th>driven_wheels</th>\n",
              "      <th>number_of_doors</th>\n",
              "      <th>market_category</th>\n",
              "      <th>vehicle_size</th>\n",
              "      <th>vehicle_style</th>\n",
              "      <th>highway_mpg</th>\n",
              "      <th>city_mpg</th>\n",
              "      <th>popularity</th>\n",
              "      <th>msrp</th>\n",
              "    </tr>\n",
              "  </thead>\n",
              "  <tbody>\n",
              "    <tr>\n",
              "      <th>2735</th>\n",
              "      <td>chevrolet</td>\n",
              "      <td>cobalt</td>\n",
              "      <td>2008</td>\n",
              "      <td>regular_unleaded</td>\n",
              "      <td>148.0</td>\n",
              "      <td>4.0</td>\n",
              "      <td>manual</td>\n",
              "      <td>front_wheel_drive</td>\n",
              "      <td>2.0</td>\n",
              "      <td>NaN</td>\n",
              "      <td>compact</td>\n",
              "      <td>coupe</td>\n",
              "      <td>33</td>\n",
              "      <td>24</td>\n",
              "      <td>1385</td>\n",
              "      <td>14410</td>\n",
              "    </tr>\n",
              "    <tr>\n",
              "      <th>6720</th>\n",
              "      <td>toyota</td>\n",
              "      <td>matrix</td>\n",
              "      <td>2012</td>\n",
              "      <td>regular_unleaded</td>\n",
              "      <td>132.0</td>\n",
              "      <td>4.0</td>\n",
              "      <td>automatic</td>\n",
              "      <td>front_wheel_drive</td>\n",
              "      <td>4.0</td>\n",
              "      <td>hatchback</td>\n",
              "      <td>compact</td>\n",
              "      <td>4dr_hatchback</td>\n",
              "      <td>32</td>\n",
              "      <td>25</td>\n",
              "      <td>2031</td>\n",
              "      <td>19685</td>\n",
              "    </tr>\n",
              "    <tr>\n",
              "      <th>5878</th>\n",
              "      <td>subaru</td>\n",
              "      <td>impreza</td>\n",
              "      <td>2016</td>\n",
              "      <td>regular_unleaded</td>\n",
              "      <td>148.0</td>\n",
              "      <td>4.0</td>\n",
              "      <td>automatic</td>\n",
              "      <td>all_wheel_drive</td>\n",
              "      <td>4.0</td>\n",
              "      <td>hatchback</td>\n",
              "      <td>compact</td>\n",
              "      <td>4dr_hatchback</td>\n",
              "      <td>37</td>\n",
              "      <td>28</td>\n",
              "      <td>640</td>\n",
              "      <td>19795</td>\n",
              "    </tr>\n",
              "    <tr>\n",
              "      <th>11190</th>\n",
              "      <td>volkswagen</td>\n",
              "      <td>vanagon</td>\n",
              "      <td>1991</td>\n",
              "      <td>regular_unleaded</td>\n",
              "      <td>90.0</td>\n",
              "      <td>4.0</td>\n",
              "      <td>manual</td>\n",
              "      <td>rear_wheel_drive</td>\n",
              "      <td>3.0</td>\n",
              "      <td>NaN</td>\n",
              "      <td>large</td>\n",
              "      <td>passenger_minivan</td>\n",
              "      <td>18</td>\n",
              "      <td>16</td>\n",
              "      <td>873</td>\n",
              "      <td>2000</td>\n",
              "    </tr>\n",
              "    <tr>\n",
              "      <th>4554</th>\n",
              "      <td>ford</td>\n",
              "      <td>f-150</td>\n",
              "      <td>2017</td>\n",
              "      <td>flex-fuel_(unleaded/e85)</td>\n",
              "      <td>385.0</td>\n",
              "      <td>8.0</td>\n",
              "      <td>automatic</td>\n",
              "      <td>four_wheel_drive</td>\n",
              "      <td>4.0</td>\n",
              "      <td>flex_fuel</td>\n",
              "      <td>large</td>\n",
              "      <td>crew_cab_pickup</td>\n",
              "      <td>21</td>\n",
              "      <td>15</td>\n",
              "      <td>5657</td>\n",
              "      <td>56260</td>\n",
              "    </tr>\n",
              "    <tr>\n",
              "      <th>...</th>\n",
              "      <td>...</td>\n",
              "      <td>...</td>\n",
              "      <td>...</td>\n",
              "      <td>...</td>\n",
              "      <td>...</td>\n",
              "      <td>...</td>\n",
              "      <td>...</td>\n",
              "      <td>...</td>\n",
              "      <td>...</td>\n",
              "      <td>...</td>\n",
              "      <td>...</td>\n",
              "      <td>...</td>\n",
              "      <td>...</td>\n",
              "      <td>...</td>\n",
              "      <td>...</td>\n",
              "      <td>...</td>\n",
              "    </tr>\n",
              "    <tr>\n",
              "      <th>434</th>\n",
              "      <td>bmw</td>\n",
              "      <td>4_series</td>\n",
              "      <td>2015</td>\n",
              "      <td>premium_unleaded_(required)</td>\n",
              "      <td>300.0</td>\n",
              "      <td>6.0</td>\n",
              "      <td>automatic</td>\n",
              "      <td>rear_wheel_drive</td>\n",
              "      <td>2.0</td>\n",
              "      <td>luxury,performance</td>\n",
              "      <td>midsize</td>\n",
              "      <td>convertible</td>\n",
              "      <td>31</td>\n",
              "      <td>20</td>\n",
              "      <td>3916</td>\n",
              "      <td>54900</td>\n",
              "    </tr>\n",
              "    <tr>\n",
              "      <th>1902</th>\n",
              "      <td>volkswagen</td>\n",
              "      <td>beetle</td>\n",
              "      <td>2015</td>\n",
              "      <td>premium_unleaded_(recommended)</td>\n",
              "      <td>210.0</td>\n",
              "      <td>4.0</td>\n",
              "      <td>automated_manual</td>\n",
              "      <td>front_wheel_drive</td>\n",
              "      <td>2.0</td>\n",
              "      <td>hatchback,performance</td>\n",
              "      <td>compact</td>\n",
              "      <td>2dr_hatchback</td>\n",
              "      <td>30</td>\n",
              "      <td>24</td>\n",
              "      <td>873</td>\n",
              "      <td>29215</td>\n",
              "    </tr>\n",
              "    <tr>\n",
              "      <th>9334</th>\n",
              "      <td>gmc</td>\n",
              "      <td>sierra_1500</td>\n",
              "      <td>2015</td>\n",
              "      <td>flex-fuel_(unleaded/e85)</td>\n",
              "      <td>285.0</td>\n",
              "      <td>6.0</td>\n",
              "      <td>automatic</td>\n",
              "      <td>four_wheel_drive</td>\n",
              "      <td>4.0</td>\n",
              "      <td>flex_fuel</td>\n",
              "      <td>large</td>\n",
              "      <td>extended_cab_pickup</td>\n",
              "      <td>22</td>\n",
              "      <td>17</td>\n",
              "      <td>549</td>\n",
              "      <td>34675</td>\n",
              "    </tr>\n",
              "    <tr>\n",
              "      <th>5284</th>\n",
              "      <td>rolls-royce</td>\n",
              "      <td>ghost</td>\n",
              "      <td>2014</td>\n",
              "      <td>premium_unleaded_(required)</td>\n",
              "      <td>563.0</td>\n",
              "      <td>12.0</td>\n",
              "      <td>automatic</td>\n",
              "      <td>rear_wheel_drive</td>\n",
              "      <td>4.0</td>\n",
              "      <td>exotic,luxury,performance</td>\n",
              "      <td>large</td>\n",
              "      <td>sedan</td>\n",
              "      <td>21</td>\n",
              "      <td>13</td>\n",
              "      <td>86</td>\n",
              "      <td>303300</td>\n",
              "    </tr>\n",
              "    <tr>\n",
              "      <th>2420</th>\n",
              "      <td>volkswagen</td>\n",
              "      <td>cc</td>\n",
              "      <td>2017</td>\n",
              "      <td>premium_unleaded_(recommended)</td>\n",
              "      <td>200.0</td>\n",
              "      <td>4.0</td>\n",
              "      <td>automated_manual</td>\n",
              "      <td>front_wheel_drive</td>\n",
              "      <td>4.0</td>\n",
              "      <td>performance</td>\n",
              "      <td>midsize</td>\n",
              "      <td>sedan</td>\n",
              "      <td>31</td>\n",
              "      <td>22</td>\n",
              "      <td>873</td>\n",
              "      <td>37820</td>\n",
              "    </tr>\n",
              "  </tbody>\n",
              "</table>\n",
              "<p>7150 rows × 16 columns</p>\n",
              "</div>\n",
              "      <button class=\"colab-df-convert\" onclick=\"convertToInteractive('df-48d335ee-ce9d-427c-9e45-f2e354f04dc4')\"\n",
              "              title=\"Convert this dataframe to an interactive table.\"\n",
              "              style=\"display:none;\">\n",
              "        \n",
              "  <svg xmlns=\"http://www.w3.org/2000/svg\" height=\"24px\"viewBox=\"0 0 24 24\"\n",
              "       width=\"24px\">\n",
              "    <path d=\"M0 0h24v24H0V0z\" fill=\"none\"/>\n",
              "    <path d=\"M18.56 5.44l.94 2.06.94-2.06 2.06-.94-2.06-.94-.94-2.06-.94 2.06-2.06.94zm-11 1L8.5 8.5l.94-2.06 2.06-.94-2.06-.94L8.5 2.5l-.94 2.06-2.06.94zm10 10l.94 2.06.94-2.06 2.06-.94-2.06-.94-.94-2.06-.94 2.06-2.06.94z\"/><path d=\"M17.41 7.96l-1.37-1.37c-.4-.4-.92-.59-1.43-.59-.52 0-1.04.2-1.43.59L10.3 9.45l-7.72 7.72c-.78.78-.78 2.05 0 2.83L4 21.41c.39.39.9.59 1.41.59.51 0 1.02-.2 1.41-.59l7.78-7.78 2.81-2.81c.8-.78.8-2.07 0-2.86zM5.41 20L4 18.59l7.72-7.72 1.47 1.35L5.41 20z\"/>\n",
              "  </svg>\n",
              "      </button>\n",
              "      \n",
              "  <style>\n",
              "    .colab-df-container {\n",
              "      display:flex;\n",
              "      flex-wrap:wrap;\n",
              "      gap: 12px;\n",
              "    }\n",
              "\n",
              "    .colab-df-convert {\n",
              "      background-color: #E8F0FE;\n",
              "      border: none;\n",
              "      border-radius: 50%;\n",
              "      cursor: pointer;\n",
              "      display: none;\n",
              "      fill: #1967D2;\n",
              "      height: 32px;\n",
              "      padding: 0 0 0 0;\n",
              "      width: 32px;\n",
              "    }\n",
              "\n",
              "    .colab-df-convert:hover {\n",
              "      background-color: #E2EBFA;\n",
              "      box-shadow: 0px 1px 2px rgba(60, 64, 67, 0.3), 0px 1px 3px 1px rgba(60, 64, 67, 0.15);\n",
              "      fill: #174EA6;\n",
              "    }\n",
              "\n",
              "    [theme=dark] .colab-df-convert {\n",
              "      background-color: #3B4455;\n",
              "      fill: #D2E3FC;\n",
              "    }\n",
              "\n",
              "    [theme=dark] .colab-df-convert:hover {\n",
              "      background-color: #434B5C;\n",
              "      box-shadow: 0px 1px 3px 1px rgba(0, 0, 0, 0.15);\n",
              "      filter: drop-shadow(0px 1px 2px rgba(0, 0, 0, 0.3));\n",
              "      fill: #FFFFFF;\n",
              "    }\n",
              "  </style>\n",
              "\n",
              "      <script>\n",
              "        const buttonEl =\n",
              "          document.querySelector('#df-48d335ee-ce9d-427c-9e45-f2e354f04dc4 button.colab-df-convert');\n",
              "        buttonEl.style.display =\n",
              "          google.colab.kernel.accessAllowed ? 'block' : 'none';\n",
              "\n",
              "        async function convertToInteractive(key) {\n",
              "          const element = document.querySelector('#df-48d335ee-ce9d-427c-9e45-f2e354f04dc4');\n",
              "          const dataTable =\n",
              "            await google.colab.kernel.invokeFunction('convertToInteractive',\n",
              "                                                     [key], {});\n",
              "          if (!dataTable) return;\n",
              "\n",
              "          const docLinkHtml = 'Like what you see? Visit the ' +\n",
              "            '<a target=\"_blank\" href=https://colab.research.google.com/notebooks/data_table.ipynb>data table notebook</a>'\n",
              "            + ' to learn more about interactive tables.';\n",
              "          element.innerHTML = '';\n",
              "          dataTable['output_type'] = 'display_data';\n",
              "          await google.colab.output.renderOutput(dataTable, element);\n",
              "          const docLink = document.createElement('div');\n",
              "          docLink.innerHTML = docLinkHtml;\n",
              "          element.appendChild(docLink);\n",
              "        }\n",
              "      </script>\n",
              "    </div>\n",
              "  </div>\n",
              "  "
            ]
          },
          "metadata": {},
          "execution_count": 55
        }
      ]
    },
    {
      "cell_type": "code",
      "source": [
        "y_train = np.log1p(df_train.msrp.values)\n",
        "y_val = np.log1p(df_val.msrp.values)\n",
        "y_test = np.log1p(df_test.msrp.values)"
      ],
      "metadata": {
        "id": "6w-IGD-ErRsB"
      },
      "execution_count": 56,
      "outputs": []
    },
    {
      "cell_type": "code",
      "source": [
        "del df_train['msrp']\n",
        "del df_val['msrp']\n",
        "del df_test['msrp']"
      ],
      "metadata": {
        "id": "-OogewvQrYJB"
      },
      "execution_count": 57,
      "outputs": []
    },
    {
      "cell_type": "code",
      "source": [
        "len(y_train)"
      ],
      "metadata": {
        "colab": {
          "base_uri": "https://localhost:8080/"
        },
        "id": "NgmUMsF3rZyB",
        "outputId": "e77ed238-2b82-47cd-f1ff-4116b927fb00"
      },
      "execution_count": 58,
      "outputs": [
        {
          "output_type": "execute_result",
          "data": {
            "text/plain": [
              "7150"
            ]
          },
          "metadata": {},
          "execution_count": 58
        }
      ]
    },
    {
      "cell_type": "code",
      "source": [
        "# Linear regression\n",
        "\n",
        "\n",
        "df_train.iloc[10]\n"
      ],
      "metadata": {
        "colab": {
          "base_uri": "https://localhost:8080/"
        },
        "id": "WsN8NLAkrbrh",
        "outputId": "02e0dbf9-0f16-4845-f456-609b222fd819"
      },
      "execution_count": 59,
      "outputs": [
        {
          "output_type": "execute_result",
          "data": {
            "text/plain": [
              "make                                 rolls-royce\n",
              "model                     phantom_drophead_coupe\n",
              "year                                        2015\n",
              "engine_fuel_type     premium_unleaded_(required)\n",
              "engine_hp                                  453.0\n",
              "engine_cylinders                            12.0\n",
              "transmission_type                      automatic\n",
              "driven_wheels                   rear_wheel_drive\n",
              "number_of_doors                              2.0\n",
              "market_category        exotic,luxury,performance\n",
              "vehicle_size                               large\n",
              "vehicle_style                        convertible\n",
              "highway_mpg                                   19\n",
              "city_mpg                                      11\n",
              "popularity                                    86\n",
              "Name: 7557, dtype: object"
            ]
          },
          "metadata": {},
          "execution_count": 59
        }
      ]
    },
    {
      "cell_type": "code",
      "source": [],
      "metadata": {
        "id": "xVgicbm8rhPB"
      },
      "execution_count": null,
      "outputs": []
    }
  ]
}