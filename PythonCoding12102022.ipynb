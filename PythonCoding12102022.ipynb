{
  "nbformat": 4,
  "nbformat_minor": 0,
  "metadata": {
    "colab": {
      "provenance": [],
      "collapsed_sections": [],
      "authorship_tag": "ABX9TyP0eJNbBuMaBt979qCuHu7d",
      "include_colab_link": true
    },
    "kernelspec": {
      "name": "python3",
      "display_name": "Python 3"
    },
    "language_info": {
      "name": "python"
    }
  },
  "cells": [
    {
      "cell_type": "markdown",
      "metadata": {
        "id": "view-in-github",
        "colab_type": "text"
      },
      "source": [
        "<a href=\"https://colab.research.google.com/github/rvjh/PythonPractice/blob/main/PythonCoding12102022.ipynb\" target=\"_parent\"><img src=\"https://colab.research.google.com/assets/colab-badge.svg\" alt=\"Open In Colab\"/></a>"
      ]
    },
    {
      "cell_type": "markdown",
      "source": [],
      "metadata": {
        "id": "PjVWeeoaYqPS"
      }
    },
    {
      "cell_type": "markdown",
      "source": [
        "Write a program which will find all such numbers which are divisible by 7 but are not a multiple of 5, between 2000 and 3200 (both included).The numbers obtained should be printed in a comma-separated sequence on a single line./"
      ],
      "metadata": {
        "id": "9xGuyEfSYxHE"
      }
    },
    {
      "cell_type": "code",
      "execution_count": null,
      "metadata": {
        "id": "npLpjcL9X9Lk"
      },
      "outputs": [],
      "source": [
        "x = 2000\n",
        "y = 3200\n",
        "\n",
        "def div_by_7(a,b):\n",
        "  for i in range(a,b+1):\n",
        "    if i%7 == 0 and i%5!=0:\n",
        "      print(i)\n",
        "    else:\n",
        "      pass\n",
        "\n",
        "div_by_7(x,y)\n"
      ]
    },
    {
      "cell_type": "markdown",
      "source": [
        "Write a program which can compute the factorial of a given numbers.The results should be printed in a comma-separated sequence on a single line.Suppose the following input is supplied to the program: 8 Then, the output should be:40320"
      ],
      "metadata": {
        "id": "55Z3HmlSZn1y"
      }
    },
    {
      "cell_type": "code",
      "source": [
        "def fact_num(n):\n",
        "  if n==0:\n",
        "    return 1\n",
        "  else:\n",
        "    return n*fact_num(n-1)\n",
        "\n",
        "def ret_fac(n):\n",
        "  for i in range(1,n+1):\n",
        "    print(f\"Factorial of {i} is {fact_num(i)}\")\n",
        "\n",
        "ret_fac(8)"
      ],
      "metadata": {
        "colab": {
          "base_uri": "https://localhost:8080/"
        },
        "id": "34EFkA_QZbff",
        "outputId": "0ab36360-7009-4a50-93f0-346855f672a1"
      },
      "execution_count": null,
      "outputs": [
        {
          "output_type": "stream",
          "name": "stdout",
          "text": [
            "Factorial of 1 is 1\n",
            "Factorial of 2 is 2\n",
            "Factorial of 3 is 6\n",
            "Factorial of 4 is 24\n",
            "Factorial of 5 is 120\n",
            "Factorial of 6 is 720\n",
            "Factorial of 7 is 5040\n",
            "Factorial of 8 is 40320\n"
          ]
        }
      ]
    },
    {
      "cell_type": "markdown",
      "source": [
        "With a given integral number n, write a program to generate a dictionary that contains (i, i x i) such that is an integral number between 1 and n (both included). and then the program should print the dictionary.Suppose the following input is supplied to the program: 8\n",
        "\n",
        "Then, the output should be:\n",
        "\n",
        "{1: 1, 2: 4, 3: 9, 4: 16, 5: 25, 6: 36, 7: 49, 8: 64}"
      ],
      "metadata": {
        "id": "K-qxv352anO4"
      }
    },
    {
      "cell_type": "code",
      "source": [
        "def print_dict(n):\n",
        "  a=[]\n",
        "  b=[]\n",
        "  for i in range(1,n+1):\n",
        "    a.append(i)\n",
        "    b.append(i**2)\n",
        "  d=dict(zip(a,b))\n",
        "  return d\n",
        "\n",
        "print_dict(8)"
      ],
      "metadata": {
        "colab": {
          "base_uri": "https://localhost:8080/"
        },
        "id": "_VyxJTroZ-VR",
        "outputId": "663ce959-a9d1-4580-d98a-4a1461ce8332"
      },
      "execution_count": null,
      "outputs": [
        {
          "output_type": "execute_result",
          "data": {
            "text/plain": [
              "{1: 1, 2: 4, 3: 9, 4: 16, 5: 25, 6: 36, 7: 49, 8: 64}"
            ]
          },
          "metadata": {},
          "execution_count": 4
        }
      ]
    },
    {
      "cell_type": "code",
      "source": [
        "def print_dict_1(n):\n",
        "  a=dict()\n",
        "  for i in range(1,i+1):\n",
        "    a[i] = i **2\n",
        "  return a\n",
        "\n",
        "print_dict(8)"
      ],
      "metadata": {
        "colab": {
          "base_uri": "https://localhost:8080/"
        },
        "id": "-ADocuAVbHdv",
        "outputId": "4a359acc-7a33-4579-f91e-ab9595fea4aa"
      },
      "execution_count": null,
      "outputs": [
        {
          "output_type": "execute_result",
          "data": {
            "text/plain": [
              "{1: 1, 2: 4, 3: 9, 4: 16, 5: 25, 6: 36, 7: 49, 8: 64}"
            ]
          },
          "metadata": {},
          "execution_count": 5
        }
      ]
    },
    {
      "cell_type": "markdown",
      "source": [
        "Write a program which accepts a sequence of comma-separated numbers from console and generate a list and a tuple which contains every number.Suppose the following input is supplied to the program:\n",
        "\n",
        "34,67,55,33,12,98\n",
        "Then, the output should be:\n",
        "\n",
        "['34', '67', '55', '33', '12', '98']\n",
        "('34', '67', '55', '33', '12', '98')"
      ],
      "metadata": {
        "id": "VoS4Q6aNbj5A"
      }
    },
    {
      "cell_type": "code",
      "source": [
        "def ret_lijst_tup():\n",
        "  n = int(input(\"Enter the no of terms : \"))\n",
        "  a = []\n",
        "  for i in range(1,n+1):\n",
        "    b = int(input(\"Enter the number : \"))\n",
        "    a.append(b)\n",
        "\n",
        "  print(f\"List is : {a}\")\n",
        "  print(f\"Tuple id : {tuple(a)}\")\n",
        "\n",
        "ret_lijst_tup()\n"
      ],
      "metadata": {
        "colab": {
          "base_uri": "https://localhost:8080/"
        },
        "id": "ghuaKamzbbLS",
        "outputId": "c9d673b7-8c75-4afa-96e2-3a90930c7eba"
      },
      "execution_count": null,
      "outputs": [
        {
          "output_type": "stream",
          "name": "stdout",
          "text": [
            "Enter the no of terms : 5\n",
            "Enter the number : 34\n",
            "Enter the number : 67\n",
            "Enter the number : 55\n",
            "Enter the number : 33\n",
            "Enter the number : 12\n",
            "List is : [34, 67, 55, 33, 12]\n",
            "Tuple id : (34, 67, 55, 33, 12)\n"
          ]
        }
      ]
    },
    {
      "cell_type": "markdown",
      "source": [
        "Define a class which has at least two methods:\n",
        "\n",
        "getString: to get a string from console input\n",
        "printString: to print the string in upper case.\n",
        "Also please include simple test function to test the class methods."
      ],
      "metadata": {
        "id": "94pJY44ncoVQ"
      }
    },
    {
      "cell_type": "code",
      "source": [
        "class AB:\n",
        "  def __init__(self):\n",
        "    self.s = \"\"\n",
        "\n",
        "  def getString(self):\n",
        "    self.s= input(\"Enter tyhe string : \") \n",
        "\n",
        "  def printString(self):\n",
        "    print(f\"The string is : {self.s.upper()}\")\n",
        "\n",
        "a = AB()\n",
        "a.getString()\n",
        "a.printString()"
      ],
      "metadata": {
        "colab": {
          "base_uri": "https://localhost:8080/"
        },
        "id": "vky6GbAVcTkE",
        "outputId": "c73b3a79-f6d5-4dbe-c6c1-a257485a4b8c"
      },
      "execution_count": null,
      "outputs": [
        {
          "output_type": "stream",
          "name": "stdout",
          "text": [
            "Enter tyhe string : Ajay Sharma\n",
            "The string is : AJAY SHARMA\n"
          ]
        }
      ]
    },
    {
      "cell_type": "markdown",
      "source": [
        "Write a program that calculates and prints the value according to the given formula:\n",
        "\n",
        "Q = Square root of [(2 _ C _ D)/H]\n",
        "\n",
        "Following are the fixed values of C and H:\n",
        "\n",
        "C is 50. H is 30.\n",
        "\n",
        "D is the variable whose values should be input to your program in a comma-separated sequence.For example Let us assume the following comma separated input sequence is given to the program:\n",
        "\n",
        "100,150,180\n",
        "The output of the program should be:\n",
        "\n",
        "18,22,24"
      ],
      "metadata": {
        "id": "-JVXV7Zudd-Y"
      }
    },
    {
      "cell_type": "code",
      "source": [
        "import math\n",
        "def calcu_num():\n",
        "  C = 50\n",
        "  H = 30\n",
        "  n = int(input(\"Enter the num of terms : \"))\n",
        "  for i in range(1,n+1):\n",
        "    b = int(input(\"Enter the number : \"))\n",
        "    q = math.sqrt((2*C*b)/H)\n",
        "    print(f\"Value of {b} is {math.floor(q)}\")\n",
        "\n",
        "\n",
        "calcu_num()\n",
        "  \n",
        "  \n",
        "\n"
      ],
      "metadata": {
        "colab": {
          "base_uri": "https://localhost:8080/"
        },
        "id": "v1bFuR8jdP-B",
        "outputId": "ba3cb1b6-c79d-47f1-c879-02c9f6f0472f"
      },
      "execution_count": null,
      "outputs": [
        {
          "output_type": "stream",
          "name": "stdout",
          "text": [
            "Enter the num of terms : 3\n",
            "Enter the number : 100\n",
            "Value of 100 is 18\n",
            "Enter the number : 150\n",
            "Value of 150 is 22\n",
            "Enter the number : 180\n",
            "Value of 180 is 24\n"
          ]
        }
      ]
    },
    {
      "cell_type": "markdown",
      "source": [
        "Write a program which takes 2 digits, X,Y as input and generates a 2-dimensional array. The element value in the i-th row and j-th column of the array should be i _ j.*\n",
        "\n",
        "Note: i=0,1.., X-1; j=0,1,¡­Y-1. Suppose the following inputs are given to the program: 3,5\n",
        "\n",
        "Then, the output of the program should be:\n",
        "\n",
        "[[0, 0, 0, 0, 0], [0, 1, 2, 3, 4], [0, 2, 4, 6, 8]]"
      ],
      "metadata": {
        "id": "fE91HRkEfk2z"
      }
    },
    {
      "cell_type": "code",
      "source": [
        "x,y = map(int,input().split(','))\n",
        "lst = []\n",
        "\n",
        "for i in range(x):\n",
        "    tmp = []\n",
        "    for j in range(y):\n",
        "        tmp.append(i*j)\n",
        "    lst.append(tmp)\n",
        "\n",
        "print(lst)"
      ],
      "metadata": {
        "colab": {
          "base_uri": "https://localhost:8080/"
        },
        "id": "vqWq1BZ6e923",
        "outputId": "cd7bafea-882f-4ca0-c065-c93a5709a291"
      },
      "execution_count": null,
      "outputs": [
        {
          "output_type": "stream",
          "name": "stdout",
          "text": [
            "3,5\n",
            "[[0, 0, 0, 0, 0], [0, 1, 2, 3, 4], [0, 2, 4, 6, 8]]\n"
          ]
        }
      ]
    },
    {
      "cell_type": "markdown",
      "source": [
        "Write a program that accepts a comma separated sequence of words as input and prints the words in a comma-separated sequence after sorting them alphabetically.\n",
        "\n",
        "Suppose the following input is supplied to the program:\n",
        "\n",
        "without,hello,bag,world\n",
        "Then, the output should be:\n",
        "\n",
        "bag,hello,without,world"
      ],
      "metadata": {
        "id": "Z6mRsST8gHRj"
      }
    },
    {
      "cell_type": "code",
      "source": [
        "def word_sort():\n",
        "  n = int(input(\"Enter the no of terms : \"))\n",
        "  a=[]\n",
        "  for i in range(1,n+1):\n",
        "    b = input(\"Enter the woird : \")\n",
        "    a.append(b)\n",
        "  a.sort()\n",
        "  print(\",\".join(a))\n",
        "\n",
        "word_sort()"
      ],
      "metadata": {
        "colab": {
          "base_uri": "https://localhost:8080/"
        },
        "id": "gB8t1w9_gCZ7",
        "outputId": "59153a2e-5be3-487d-89c8-45c147c87fe6"
      },
      "execution_count": null,
      "outputs": [
        {
          "output_type": "stream",
          "name": "stdout",
          "text": [
            "Enter the no of terms : 4\n",
            "Enter the woird : without\n",
            "Enter the woird : hello\n",
            "Enter the woird : bag\n",
            "Enter the woird : world\n",
            "bag,hello,without,world\n"
          ]
        }
      ]
    },
    {
      "cell_type": "markdown",
      "source": [
        "Write a program that accepts sequence of lines as input and prints the lines after making all characters in the sentence capitalized.\n",
        "\n",
        "Suppose the following input is supplied to the program:\n",
        "\n",
        "Hello world\n",
        "Practice makes perfect\n",
        "Then, the output should be:\n",
        "\n",
        "HELLO WORLD\n",
        "PRACTICE MAKES PERFECT"
      ],
      "metadata": {
        "id": "4y15FENih3zC"
      }
    },
    {
      "cell_type": "code",
      "source": [
        "def get_cap(a):\n",
        "  return a.upper()\n",
        "\n",
        "get_cap('Hello world Practice makes perfect')"
      ],
      "metadata": {
        "colab": {
          "base_uri": "https://localhost:8080/",
          "height": 35
        },
        "id": "WW-OQDB2gnTz",
        "outputId": "7643953e-4817-491c-8a58-8c28816b4c99"
      },
      "execution_count": null,
      "outputs": [
        {
          "output_type": "execute_result",
          "data": {
            "text/plain": [
              "'HELLO WORLD PRACTICE MAKES PERFECT'"
            ],
            "application/vnd.google.colaboratory.intrinsic+json": {
              "type": "string"
            }
          },
          "metadata": {},
          "execution_count": 20
        }
      ]
    },
    {
      "cell_type": "markdown",
      "source": [
        "Write a program that accepts a sequence of whitespace separated words as input and prints the words after removing all duplicate words and sorting them alphanumerically.\n",
        "\n",
        "Suppose the following input is supplied to the program:\n",
        "\n",
        "hello world and practice makes perfect and hello world again\n",
        "Then, the output should be:\n",
        "\n",
        "again and hello makes perfect practice world"
      ],
      "metadata": {
        "id": "KYeYtGrciYas"
      }
    },
    {
      "cell_type": "code",
      "source": [
        "def get_space(a):\n",
        "  l = a.split(\" \")\n",
        "  for i in l:\n",
        "    if l.count(i)>1:\n",
        "      l.remove(i)\n",
        "  \n",
        "  print(l)\n",
        "\n",
        "get_space('hello world and practice makes perfect and hello world again')"
      ],
      "metadata": {
        "colab": {
          "base_uri": "https://localhost:8080/"
        },
        "id": "Rws5Vs9TiGvL",
        "outputId": "b0f522c2-08e8-47b2-dea7-7d73f5f48a82"
      },
      "execution_count": null,
      "outputs": [
        {
          "output_type": "stream",
          "name": "stdout",
          "text": [
            "['practice', 'makes', 'perfect', 'and', 'hello', 'world', 'again']\n"
          ]
        }
      ]
    },
    {
      "cell_type": "markdown",
      "source": [
        "Write a program which accepts a sequence of comma separated 4 digit binary numbers as its input and then check whether they are divisible by 5 or not. The numbers that are divisible by 5 are to be printed in a comma separated sequence.\n",
        "\n",
        "Example:\n",
        "\n",
        "0100,0011,1010,1001\n",
        "Then the output should be:\n",
        "\n",
        "1010"
      ],
      "metadata": {
        "id": "uyEgzqrol2KJ"
      }
    },
    {
      "cell_type": "code",
      "source": [
        "def bi_to_deci(a):\n",
        "  return int(a,2)\n",
        "\n",
        "def dev_vy_5():\n",
        "  n = int(input(\"Enter the no of terms : \"))\n",
        "  m=[]\n",
        "  for i in range(1,n+1):\n",
        "    b=input(\"Enter the binary num : \")\n",
        "    m.append(b)\n",
        "  for i in m:\n",
        "    if bi_to_deci(i)%5==0:\n",
        "      print(f\"The binary no is {i} which is divisible by 5\")\n",
        "\n",
        "dev_vy_5()"
      ],
      "metadata": {
        "colab": {
          "base_uri": "https://localhost:8080/"
        },
        "id": "dTF4IyqciqaB",
        "outputId": "472d1f27-dfac-405c-80c8-d37475431e50"
      },
      "execution_count": null,
      "outputs": [
        {
          "output_type": "stream",
          "name": "stdout",
          "text": [
            "Enter the no of terms : 3\n",
            "Enter the binary num : 0100\n",
            "Enter the binary num : 0011\n",
            "Enter the binary num : 1010\n",
            "The binary no is 1010 which is divisible by 5\n"
          ]
        }
      ]
    },
    {
      "cell_type": "markdown",
      "source": [
        "Write a program, which will find all such numbers between 1000 and 3000 (both included) such that each digit of the number is an even number.The numbers obtained should be printed in a comma-separated sequence on a single line."
      ],
      "metadata": {
        "id": "YW3KgwkAr0tn"
      }
    },
    {
      "cell_type": "code",
      "source": [
        "v = []\n",
        "for i in range(1000,3001):\n",
        "  s = str(i)\n",
        "  if (int(s[0])%2 == 0) and (int(s[1])%2 == 0) and (int(s[2])%2 == 0) and (int(s[3])%2 == 0):\n",
        "    v.append(s)\n",
        "print(v)\n",
        "print(len(v))\n"
      ],
      "metadata": {
        "colab": {
          "base_uri": "https://localhost:8080/"
        },
        "id": "vXRI625KnYiu",
        "outputId": "aa08ffb6-c894-4965-a8f4-833b0f4431f5"
      },
      "execution_count": null,
      "outputs": [
        {
          "output_type": "stream",
          "name": "stdout",
          "text": [
            "['2000', '2002', '2004', '2006', '2008', '2020', '2022', '2024', '2026', '2028', '2040', '2042', '2044', '2046', '2048', '2060', '2062', '2064', '2066', '2068', '2080', '2082', '2084', '2086', '2088', '2200', '2202', '2204', '2206', '2208', '2220', '2222', '2224', '2226', '2228', '2240', '2242', '2244', '2246', '2248', '2260', '2262', '2264', '2266', '2268', '2280', '2282', '2284', '2286', '2288', '2400', '2402', '2404', '2406', '2408', '2420', '2422', '2424', '2426', '2428', '2440', '2442', '2444', '2446', '2448', '2460', '2462', '2464', '2466', '2468', '2480', '2482', '2484', '2486', '2488', '2600', '2602', '2604', '2606', '2608', '2620', '2622', '2624', '2626', '2628', '2640', '2642', '2644', '2646', '2648', '2660', '2662', '2664', '2666', '2668', '2680', '2682', '2684', '2686', '2688', '2800', '2802', '2804', '2806', '2808', '2820', '2822', '2824', '2826', '2828', '2840', '2842', '2844', '2846', '2848', '2860', '2862', '2864', '2866', '2868', '2880', '2882', '2884', '2886', '2888']\n",
            "125\n"
          ]
        }
      ]
    },
    {
      "cell_type": "markdown",
      "source": [
        "Write a program that accepts a sentence and calculate the number of letters and digits.\n",
        "\n",
        "Suppose the following input is supplied to the program:\n",
        "\n",
        "hello world! 123\n",
        "Then, the output should be:\n",
        "\n",
        "LETTERS 10\n",
        "DIGITS 3"
      ],
      "metadata": {
        "id": "ZAKEsvJXsmEv"
      }
    },
    {
      "cell_type": "code",
      "source": [
        "word = input()\n",
        "letter, digit = 0,0\n",
        "\n",
        "for i in word:\n",
        "    if i.isalpha(): # returns True if alphabet\n",
        "        letter += 1\n",
        "    elif i.isnumeric(): # returns True if numeric\n",
        "        digit += 1\n",
        "print(f\"LETTERS : {letter} and digits : {digit}\")"
      ],
      "metadata": {
        "colab": {
          "base_uri": "https://localhost:8080/"
        },
        "id": "b7w8IB0dsbwm",
        "outputId": "ea118d9d-6bf6-4796-f80f-cac157c8d369"
      },
      "execution_count": null,
      "outputs": [
        {
          "output_type": "stream",
          "name": "stdout",
          "text": [
            "hello world! 123\n",
            "LETTERS : 10 and digits : 3\n"
          ]
        }
      ]
    },
    {
      "cell_type": "markdown",
      "source": [
        "Write a program that accepts a sentence and calculate the number of upper case letters and lower case letters.\n",
        "\n",
        "Suppose the following input is supplied to the program:\n",
        "\n",
        "Hello world!\n",
        "Then, the output should be:\n",
        "\n",
        "UPPER CASE 1\n",
        "LOWER CASE 9"
      ],
      "metadata": {
        "id": "Qc-p9mN2TKiA"
      }
    },
    {
      "cell_type": "code",
      "source": [
        "word = input()\n",
        "upper,lower = 0,0\n",
        "\n",
        "for i in word:\n",
        "    if 'a'<=i and i<='z' :\n",
        "        lower+=1\n",
        "    if 'A'<=i and i<='Z':\n",
        "        upper+=1\n",
        "\n",
        "print(\"UPPER CASE {0}\\nLOWER CASE {1}\".format(upper,lower))\n"
      ],
      "metadata": {
        "id": "W7i6oluQs7JT",
        "colab": {
          "base_uri": "https://localhost:8080/"
        },
        "outputId": "abf33672-3613-4dec-f8ba-051041088d9a"
      },
      "execution_count": 3,
      "outputs": [
        {
          "output_type": "stream",
          "name": "stdout",
          "text": [
            "Hello world!\n",
            "UPPER CASE 1\n",
            "LOWER CASE 9\n"
          ]
        }
      ]
    },
    {
      "cell_type": "markdown",
      "source": [],
      "metadata": {
        "id": "z19qNNcwUQFW"
      }
    },
    {
      "cell_type": "markdown",
      "source": [
        "Write a program that computes the value of a+aa+aaa+aaaa with a given digit as the value of a.\n",
        "\n",
        "Suppose the following input is supplied to the program:\n",
        "\n",
        "9\n",
        "Then, the output should be:\n",
        "\n",
        "11106"
      ],
      "metadata": {
        "id": "mwlAbL-XUTtG"
      }
    },
    {
      "cell_type": "code",
      "source": [
        "a = input()\n",
        "print(sum(int(i*a) for i in range(1,5)))"
      ],
      "metadata": {
        "colab": {
          "base_uri": "https://localhost:8080/"
        },
        "id": "F-jJbz--TxoX",
        "outputId": "b8e52c96-5029-4773-dced-3cdd133b904f"
      },
      "execution_count": 8,
      "outputs": [
        {
          "output_type": "stream",
          "name": "stdout",
          "text": [
            "9\n",
            "11106\n"
          ]
        }
      ]
    },
    {
      "cell_type": "code",
      "source": [
        "0 1 1 2 3 5 8 13 21 "
      ],
      "metadata": {
        "id": "wMNef_g6VG7m"
      },
      "execution_count": null,
      "outputs": []
    },
    {
      "cell_type": "code",
      "source": [
        "def fi(n):\n",
        "  if n<0:\n",
        "    return \"Invalid \"\n",
        "  elif n==0:\n",
        "    return 0\n",
        "  elif n==1 or n==2:\n",
        "    return 1\n",
        "  else:\n",
        "    return fi(n-1)+fi(n-2)\n",
        "\n",
        "fi(9)"
      ],
      "metadata": {
        "colab": {
          "base_uri": "https://localhost:8080/"
        },
        "id": "i-TVJNVtV6Et",
        "outputId": "240569e0-7b50-4fae-f88a-648206304c97"
      },
      "execution_count": 10,
      "outputs": [
        {
          "output_type": "execute_result",
          "data": {
            "text/plain": [
              "34"
            ]
          },
          "metadata": {},
          "execution_count": 10
        }
      ]
    },
    {
      "cell_type": "code",
      "source": [],
      "metadata": {
        "id": "HLthX9JRXJsy"
      },
      "execution_count": null,
      "outputs": []
    }
  ]
}