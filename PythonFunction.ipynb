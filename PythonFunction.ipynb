{
 "cells": [
  {
   "cell_type": "markdown",
   "id": "8940ceda",
   "metadata": {},
   "source": [
    "## Practice Questions On Functions"
   ]
  },
  {
   "cell_type": "markdown",
   "id": "974eb5c3",
   "metadata": {},
   "source": [
    "### 1. Write a function that inputs a number and prints the multiplication table of that number"
   ]
  },
  {
   "cell_type": "code",
   "execution_count": 1,
   "id": "072356a5",
   "metadata": {},
   "outputs": [
    {
     "name": "stdout",
     "output_type": "stream",
     "text": [
      "Multiplication table of 6\n",
      "6*1 = 6\n",
      "6*2 = 12\n",
      "6*3 = 18\n",
      "6*4 = 24\n",
      "6*5 = 30\n",
      "6*6 = 36\n",
      "6*7 = 42\n",
      "6*8 = 48\n",
      "6*9 = 54\n",
      "6*10 = 60\n"
     ]
    }
   ],
   "source": [
    "\n",
    "def get_mat_table(n):\n",
    "    print(f\"Multiplication table of {n}\")\n",
    "    for i in range(1,11):\n",
    "        print(f\"{n}*{i} = {n*i}\")\n",
    "        \n",
    "get_mat_table(6)"
   ]
  },
  {
   "cell_type": "markdown",
   "id": "4a381443",
   "metadata": {},
   "source": [
    "### 2. Write a program to print twin primes less than 1000. If two consecutive odd numbers are both prime then they are known as twin primes"
   ]
  },
  {
   "cell_type": "code",
   "execution_count": 12,
   "id": "c8eeec88",
   "metadata": {},
   "outputs": [
    {
     "name": "stdout",
     "output_type": "stream",
     "text": [
      "3 and 5\n",
      "5 and 7\n",
      "11 and 13\n",
      "17 and 19\n",
      "29 and 31\n",
      "41 and 43\n",
      "59 and 61\n",
      "71 and 73\n",
      "101 and 103\n",
      "107 and 109\n",
      "137 and 139\n",
      "149 and 151\n",
      "179 and 181\n",
      "191 and 193\n",
      "197 and 199\n",
      "227 and 229\n",
      "239 and 241\n",
      "269 and 271\n",
      "281 and 283\n",
      "311 and 313\n",
      "347 and 349\n",
      "419 and 421\n",
      "431 and 433\n",
      "461 and 463\n",
      "521 and 523\n",
      "569 and 571\n",
      "599 and 601\n",
      "617 and 619\n",
      "641 and 643\n",
      "659 and 661\n",
      "809 and 811\n",
      "821 and 823\n",
      "827 and 829\n",
      "857 and 859\n",
      "881 and 883\n"
     ]
    }
   ],
   "source": [
    "def is_prime(n):\n",
    "   for i in range(2, n):\n",
    "      if n % i == 0:\n",
    "         return False\n",
    "   return True\n",
    "\n",
    "def dual_prime(s,e):\n",
    "    for i in range(s,e):\n",
    "        j = i+2\n",
    "        if (is_prime(i) and is_prime(j)):\n",
    "            print(f\"{i} and {j}\")\n",
    "            \n",
    "dual_prime(2, 1000)"
   ]
  },
  {
   "cell_type": "markdown",
   "id": "416119af",
   "metadata": {},
   "source": [
    "### 3. Write a program to find out the prime factors of a number. Example: prime factors of 56 - 2, 2, 2, 7"
   ]
  },
  {
   "cell_type": "code",
   "execution_count": 14,
   "id": "00cef6ef",
   "metadata": {},
   "outputs": [
    {
     "name": "stdout",
     "output_type": "stream",
     "text": [
      "Enter the number : 650\n",
      "2\n",
      "5\n",
      "5\n",
      "13\n"
     ]
    }
   ],
   "source": [
    "import math\n",
    "\n",
    "def primeFactors(n):\n",
    "    ## for even number \n",
    "    while n%2==0:\n",
    "        print(2)\n",
    "        n=n/2\n",
    "    ## for odd number\n",
    "    for i in range(3,int(math.sqrt(n))+1,2):\n",
    "        while n%i==0:\n",
    "            print(i)\n",
    "            n=n/i\n",
    "    if n>2:\n",
    "        print(n)\n",
    "        \n",
    "a= int(input(\"Enter the number : \"))\n",
    "primeFactors(a)\n",
    "        "
   ]
  },
  {
   "cell_type": "markdown",
   "id": "09efce4c",
   "metadata": {},
   "source": [
    "### 4. Write a program to implement these formulae of permutations and combinations. Number of permutations of n objects taken r at a time: p(n, r) = n! / (n-r)!. Number of combinations of n objects taken r at a time is: c(n, r) = n! / (r!*(n-r)!) = p(n,r) / r!"
   ]
  },
  {
   "cell_type": "code",
   "execution_count": 23,
   "id": "8bcbb965",
   "metadata": {},
   "outputs": [
    {
     "name": "stdout",
     "output_type": "stream",
     "text": [
      "Enter no of items : 6\n",
      "Enter no of arrangements : 3\n",
      "Permutation : 120\n",
      "Combination : 20\n"
     ]
    }
   ],
   "source": [
    "def fact(n):\n",
    "    if (n==0 or n==1):\n",
    "        return 1\n",
    "    else:\n",
    "        return n*fact(n-1)\n",
    "    \n",
    "def per(n,r):\n",
    "    if r==0:\n",
    "        return 1\n",
    "    else:\n",
    "        return int((fact(n)/(fact(n-r))))\n",
    "    \n",
    "def com(n,r):\n",
    "    if r==0:\n",
    "        return 1\n",
    "    else:\n",
    "        return int(fact(n)/(fact(r)*fact(n-r)))\n",
    "    \n",
    "a = int(input(\"Enter no of items : \"))\n",
    "b = int(input(\"Enter no of arrangements : \"))\n",
    "\n",
    "print(f\"Permutation : {per(6,3)}\")\n",
    "print(f\"Combination : {com(6,3)}\")"
   ]
  },
  {
   "cell_type": "markdown",
   "id": "3d996214",
   "metadata": {},
   "source": [
    "### 5. Write a function that converts a decimal number to binary number"
   ]
  },
  {
   "cell_type": "code",
   "execution_count": 25,
   "id": "6f157e69",
   "metadata": {},
   "outputs": [
    {
     "name": "stdout",
     "output_type": "stream",
     "text": [
      "1010"
     ]
    }
   ],
   "source": [
    "def dec_to_bin(n):\n",
    "    if n>1:\n",
    "        dec_to_bin(n//2)\n",
    "    print(n%2,end='')\n",
    "    \n",
    "dec_to_bin(10)\n",
    "    "
   ]
  },
  {
   "cell_type": "markdown",
   "id": "dc0730e0",
   "metadata": {},
   "source": [
    "### 6. Write a function cubesum() that accepts an integer and returns the sum of the cubes of  individual digits of that number. Use this function to make functions PrintArmstrong() and  isArmstrong() to print Armstrong numbers and to find whether is an Armstrong number."
   ]
  },
  {
   "cell_type": "code",
   "execution_count": 35,
   "id": "8d054462",
   "metadata": {},
   "outputs": [
    {
     "name": "stdout",
     "output_type": "stream",
     "text": [
      "cube sum of all digits : 153\n"
     ]
    }
   ],
   "source": [
    "def cubesum(n):\n",
    "    s=0\n",
    "    while n!=0:\n",
    "        s = s + int(n%10)**3\n",
    "        n = int(n/10)\n",
    "    return s\n",
    "    \n",
    "print(f\"cube sum of all digits : {cubesum(153)}\")\n"
   ]
  },
  {
   "cell_type": "code",
   "execution_count": 36,
   "id": "b1fb92c8",
   "metadata": {},
   "outputs": [
    {
     "name": "stdout",
     "output_type": "stream",
     "text": [
      "153 is an amstrong num\n"
     ]
    }
   ],
   "source": [
    "def isArmstrong(n):\n",
    "    if n==cubesum(n):\n",
    "        print(f\"{n} is an amstrong num\")\n",
    "    else:\n",
    "        print(f\"{n} is not an amstrong \")\n",
    "        \n",
    "isArmstrong(153)\n",
    "    "
   ]
  },
  {
   "cell_type": "code",
   "execution_count": 37,
   "id": "78c06685",
   "metadata": {},
   "outputs": [
    {
     "name": "stdout",
     "output_type": "stream",
     "text": [
      "153\n",
      "370\n",
      "371\n",
      "407\n"
     ]
    }
   ],
   "source": [
    "def PrintArmstrong(s,e):\n",
    "    for i in range(s,e+1):\n",
    "        if i==cubesum(i):\n",
    "            print(i)\n",
    "            \n",
    "PrintArmstrong(100,1000)"
   ]
  },
  {
   "cell_type": "markdown",
   "id": "fb8b17fc",
   "metadata": {},
   "source": [
    "### 7. Write a function prodDigits() that inputs a number and returns the product of digits of that number."
   ]
  },
  {
   "cell_type": "code",
   "execution_count": 43,
   "id": "21daf2a4",
   "metadata": {},
   "outputs": [
    {
     "data": {
      "text/plain": [
       "24"
      ]
     },
     "execution_count": 43,
     "metadata": {},
     "output_type": "execute_result"
    }
   ],
   "source": [
    "def prodDigits(n):\n",
    "    m=1\n",
    "    while n!=0:\n",
    "        m = m * (n%10)\n",
    "        n=n//10\n",
    "    return m\n",
    "        \n",
    "prodDigits(1234)\n",
    "    "
   ]
  },
  {
   "cell_type": "code",
   "execution_count": null,
   "id": "06e9b3a6",
   "metadata": {},
   "outputs": [],
   "source": []
  }
 ],
 "metadata": {
  "kernelspec": {
   "display_name": "Python 3 (ipykernel)",
   "language": "python",
   "name": "python3"
  },
  "language_info": {
   "codemirror_mode": {
    "name": "ipython",
    "version": 3
   },
   "file_extension": ".py",
   "mimetype": "text/x-python",
   "name": "python",
   "nbconvert_exporter": "python",
   "pygments_lexer": "ipython3",
   "version": "3.9.7"
  }
 },
 "nbformat": 4,
 "nbformat_minor": 5
}
