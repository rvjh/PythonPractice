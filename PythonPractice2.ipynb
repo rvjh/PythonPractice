{
  "nbformat": 4,
  "nbformat_minor": 0,
  "metadata": {
    "colab": {
      "name": "PythonPractice2.ipynb",
      "provenance": [],
      "authorship_tag": "ABX9TyM9WrXfyaR+4MTlKKFn5KEU",
      "include_colab_link": true
    },
    "kernelspec": {
      "name": "python3",
      "display_name": "Python 3"
    },
    "language_info": {
      "name": "python"
    }
  },
  "cells": [
    {
      "cell_type": "markdown",
      "metadata": {
        "id": "view-in-github",
        "colab_type": "text"
      },
      "source": [
        "<a href=\"https://colab.research.google.com/github/rvjh/PythonPractice/blob/main/PythonPractice2.ipynb\" target=\"_parent\"><img src=\"https://colab.research.google.com/assets/colab-badge.svg\" alt=\"Open In Colab\"/></a>"
      ]
    },
    {
      "cell_type": "markdown",
      "metadata": {
        "id": "XxSA8vm3Dtz5"
      },
      "source": [
        "#Write a Python program to print the following string in a specific format \n",
        "\n",
        "####\"Twinkle, twinkle, little star, How I wonder what you are! Up above the world so high, Like a diamond in the sky. Twinkle, twinkle, little star, How I wonder what you are\" Output :\n",
        "\n",
        "Twinkle, twinkle, little star,\n",
        "\tHow I wonder what you are! \n",
        "\t\tUp above the world so high,   \t\t\n",
        "\t\tLike a diamond in the sky. \n",
        "Twinkle, twinkle, little star, \n",
        "\tHow I wonder what you are"
      ]
    },
    {
      "cell_type": "code",
      "metadata": {
        "colab": {
          "base_uri": "https://localhost:8080/"
        },
        "id": "zd6AXtARDFNn",
        "outputId": "2864a544-7ede-420f-f6d5-026b5728cc61"
      },
      "source": [
        "a = \"\"\"Twinkle, twinkle, little star,\n",
        "\tHow I wonder what you are! \n",
        "\t\tUp above the world so high,   \t\t\n",
        "\t\tLike a diamond in the sky. \n",
        "Twinkle, twinkle, little star, \n",
        "\tHow I wonder what you are\"\"\"\n",
        "\n",
        "print(a)"
      ],
      "execution_count": 1,
      "outputs": [
        {
          "output_type": "stream",
          "name": "stdout",
          "text": [
            "Twinkle, twinkle, little star,\n",
            "\tHow I wonder what you are! \n",
            "\t\tUp above the world so high,   \t\t\n",
            "\t\tLike a diamond in the sky. \n",
            "Twinkle, twinkle, little star, \n",
            "\tHow I wonder what you are\n"
          ]
        }
      ]
    },
    {
      "cell_type": "markdown",
      "metadata": {
        "id": "7F1uNcjlESNV"
      },
      "source": [
        "#Write a Python program to get the Python version you are using"
      ]
    },
    {
      "cell_type": "code",
      "metadata": {
        "colab": {
          "base_uri": "https://localhost:8080/"
        },
        "id": "c0anyWVJEEHD",
        "outputId": "e7102869-3d2a-44e6-d360-cab02ca602ed"
      },
      "source": [
        "import platform\n",
        "print(platform.python_version())"
      ],
      "execution_count": 9,
      "outputs": [
        {
          "output_type": "stream",
          "name": "stdout",
          "text": [
            "3.7.12\n"
          ]
        }
      ]
    },
    {
      "cell_type": "markdown",
      "metadata": {
        "id": "4lncoEj4FCSh"
      },
      "source": [
        "#Write a Python program which accepts the radius of a circle from the user and compute the area"
      ]
    },
    {
      "cell_type": "code",
      "metadata": {
        "colab": {
          "base_uri": "https://localhost:8080/"
        },
        "id": "WJJdm0u6Eeda",
        "outputId": "a77b68f9-2adf-4d90-93cf-a20d55ab1903"
      },
      "source": [
        "def ar(r):\n",
        "  pi = 3.14\n",
        "  area = pi*r*r\n",
        "  print(f\"the area is : {area}, unit\")\n",
        "\n",
        "a = float(input(\"Enter the radius : \"))\n",
        "ar(a)"
      ],
      "execution_count": 15,
      "outputs": [
        {
          "output_type": "stream",
          "name": "stdout",
          "text": [
            "Enter the radius : 1.1\n",
            "the area is : 3.7994000000000008, unit\n"
          ]
        }
      ]
    },
    {
      "cell_type": "markdown",
      "metadata": {
        "id": "nES1FLT8GCDu"
      },
      "source": [
        "#Write a Python program which accepts the user's first and last name and print them in reverse order with a space between them."
      ]
    },
    {
      "cell_type": "code",
      "metadata": {
        "colab": {
          "base_uri": "https://localhost:8080/"
        },
        "id": "RL9o77cGFiJp",
        "outputId": "9a9e97ab-73d8-4bc6-fc7a-1c9cdf15651c"
      },
      "source": [
        "a = input(\"Enter forst name : \")\n",
        "b = input(\"Enter last name : \")\n",
        "\n",
        "print (\"Hello \" + b + \" \" + a)"
      ],
      "execution_count": 20,
      "outputs": [
        {
          "output_type": "stream",
          "name": "stdout",
          "text": [
            "Enter forst name : rohan\n",
            "Enter last name : das\n",
            "Hello das rohan\n"
          ]
        }
      ]
    },
    {
      "cell_type": "markdown",
      "metadata": {
        "id": "MBjTRbKMHLeN"
      },
      "source": [
        "#Write a Python program which accepts a sequence of comma-separated numbers from user and generate a list and a tuple with those numbers."
      ]
    },
    {
      "cell_type": "code",
      "metadata": {
        "colab": {
          "base_uri": "https://localhost:8080/"
        },
        "id": "0ZYkJ8ztGaSB",
        "outputId": "97273e75-6264-4efd-8cc8-57cea4dd74cf"
      },
      "source": [
        "a = int(input(\"How many numbers want to add ? : \"))\n",
        "\n",
        "l=[]\n",
        "for i in range(a):\n",
        "  print(f\"Enter the {i} number : \")\n",
        "  b = int(input())\n",
        "  l.append(b)\n",
        "\n",
        "print(f\"the list is : {l}\")\n",
        "\n",
        "print(f\"The tuple is : {tuple(l)}\")\n"
      ],
      "execution_count": 22,
      "outputs": [
        {
          "output_type": "stream",
          "name": "stdout",
          "text": [
            "How many numbers want to add ? : 3\n",
            "Enter the 0 number : \n",
            "12\n",
            "Enter the 1 number : \n",
            "20\n",
            "Enter the 2 number : \n",
            "30\n",
            "the list is : [12, 20, 30]\n",
            "The tuple is : (12, 20, 30)\n"
          ]
        }
      ]
    },
    {
      "cell_type": "markdown",
      "metadata": {
        "id": "PJGQStv4ITsC"
      },
      "source": [
        "#Write a Python program to accept a filename from the user and print the extension of that."
      ]
    },
    {
      "cell_type": "code",
      "metadata": {
        "colab": {
          "base_uri": "https://localhost:8080/"
        },
        "id": "h9e-GD5_IFck",
        "outputId": "0ee93469-21a7-471c-d7e1-106d005e145e"
      },
      "source": [
        "a = input(\"Enter filename with extension : \")\n",
        "print(f\"The filename : {a}\")\n",
        "\n",
        "ex = a.split(\".\")\n",
        "\n",
        "print(f\"The extension is : {ex[1]}\")"
      ],
      "execution_count": 24,
      "outputs": [
        {
          "output_type": "stream",
          "name": "stdout",
          "text": [
            "Enter filename with extension : bakc.java\n",
            "The filename : bakc.java\n",
            "The extension is : java\n"
          ]
        }
      ]
    },
    {
      "cell_type": "markdown",
      "metadata": {
        "id": "RaQw5XEIJZm6"
      },
      "source": [
        "#Write a Python program to display the first and last colors from the following list. Go to the editor\n",
        "color_list = [\"Red\",\"Green\",\"White\" ,\"Black\"]"
      ]
    },
    {
      "cell_type": "code",
      "metadata": {
        "colab": {
          "base_uri": "https://localhost:8080/"
        },
        "id": "B9uQK1GnJD9U",
        "outputId": "b2b53296-0e58-473d-9e0c-b6798c26cb1e"
      },
      "source": [
        "color_list = [\"Red\",\"Green\",\"White\" ,\"Black\"]\n",
        "\n",
        "print(f\"First color : {color_list[0]}\")\n",
        "print(f\"Last color : {color_list[-1]}\")"
      ],
      "execution_count": 27,
      "outputs": [
        {
          "output_type": "stream",
          "name": "stdout",
          "text": [
            "First color : Red\n",
            "Last color : Black\n"
          ]
        }
      ]
    },
    {
      "cell_type": "markdown",
      "metadata": {
        "id": "RI55AW2QWMff"
      },
      "source": [
        "#Write a Python program that accepts an integer (n) and computes the value of n+nn+nnn."
      ]
    },
    {
      "cell_type": "code",
      "metadata": {
        "colab": {
          "base_uri": "https://localhost:8080/"
        },
        "id": "ZzDqSLRNJy_o",
        "outputId": "6c45c39a-f808-4818-da49-15c9ce3e809f"
      },
      "source": [
        "def com(n):\n",
        "  a = n\n",
        "  b = n**2\n",
        "  c = n**3\n",
        "  d = a+b+c\n",
        "  print(f\"The value : {d}\")\n",
        "\n",
        "n = int(input(\"Enter tge integer : \"))\n",
        "com(n)\n"
      ],
      "execution_count": 31,
      "outputs": [
        {
          "output_type": "stream",
          "name": "stdout",
          "text": [
            "Enter tge integer : 5\n",
            "The value : 155\n"
          ]
        }
      ]
    },
    {
      "cell_type": "markdown",
      "metadata": {
        "id": "k4mTmzFQXYYe"
      },
      "source": [
        "String - Exercises"
      ]
    },
    {
      "cell_type": "markdown",
      "metadata": {
        "id": "-5nipcezXhV0"
      },
      "source": [
        "Write a Python program to calculate the length of a string"
      ]
    },
    {
      "cell_type": "code",
      "metadata": {
        "colab": {
          "base_uri": "https://localhost:8080/"
        },
        "id": "TpPnzJrLWksd",
        "outputId": "3f4d631c-da8a-411b-db86-007c76370728"
      },
      "source": [
        "a = 'jcjckvlvljvlvkvk'\n",
        "\n",
        "len(a)"
      ],
      "execution_count": 33,
      "outputs": [
        {
          "output_type": "execute_result",
          "data": {
            "text/plain": [
              "16"
            ]
          },
          "metadata": {},
          "execution_count": 33
        }
      ]
    },
    {
      "cell_type": "markdown",
      "metadata": {
        "id": "6HEEi2kRXm1R"
      },
      "source": [
        "Write a Python program to count the number of characters (character frequency) in a string. Go to the editor\n",
        "Sample String : google.com'\n",
        "Expected Result : {'g': 2, 'o': 3, 'l': 1, 'e': 1, '.': 1, 'c': 1, 'm': 1}"
      ]
    },
    {
      "cell_type": "code",
      "metadata": {
        "colab": {
          "base_uri": "https://localhost:8080/"
        },
        "id": "SJbt-FQFXewS",
        "outputId": "ad92414c-1215-40bd-d282-ebdba12faa76"
      },
      "source": [
        "a = 'google.com'\n",
        "b=[]\n",
        "for i in a:\n",
        "  b.append(i)\n",
        "print(\"list\", b)\n",
        "\n",
        "for j in b:\n",
        "  print(f\"{j} and count {a.count(j)}\")"
      ],
      "execution_count": 41,
      "outputs": [
        {
          "output_type": "stream",
          "name": "stdout",
          "text": [
            "list ['g', 'o', 'o', 'g', 'l', 'e', '.', 'c', 'o', 'm']\n",
            "g and count 2\n",
            "o and count 3\n",
            "o and count 3\n",
            "g and count 2\n",
            "l and count 1\n",
            "e and count 1\n",
            ". and count 1\n",
            "c and count 1\n",
            "o and count 3\n",
            "m and count 1\n"
          ]
        }
      ]
    },
    {
      "cell_type": "code",
      "metadata": {
        "id": "iG7u6aIrYnv6"
      },
      "source": [
        ""
      ],
      "execution_count": null,
      "outputs": []
    }
  ]
}