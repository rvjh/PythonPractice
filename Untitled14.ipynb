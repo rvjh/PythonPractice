{
  "nbformat": 4,
  "nbformat_minor": 0,
  "metadata": {
    "colab": {
      "provenance": [],
      "authorship_tag": "ABX9TyPTbnnCa4WKtLD0YF/k9fxc",
      "include_colab_link": true
    },
    "kernelspec": {
      "name": "python3",
      "display_name": "Python 3"
    },
    "language_info": {
      "name": "python"
    }
  },
  "cells": [
    {
      "cell_type": "markdown",
      "metadata": {
        "id": "view-in-github",
        "colab_type": "text"
      },
      "source": [
        "<a href=\"https://colab.research.google.com/github/rvjh/PythonPractice/blob/main/Untitled14.ipynb\" target=\"_parent\"><img src=\"https://colab.research.google.com/assets/colab-badge.svg\" alt=\"Open In Colab\"/></a>"
      ]
    },
    {
      "cell_type": "code",
      "execution_count": null,
      "metadata": {
        "id": "rkXGa3kjjN_m"
      },
      "outputs": [],
      "source": [
        "##Write a program which will find all such numbers which are divisible by 7 but are not a multiple of 5, between 2000 and 3200 (both included).\n",
        "##The numbers obtained should be printed in a comma-separated sequence on a single line.\n",
        "for i in range(2000,3200):\n",
        "  #print(i)\n",
        "  if i%7==0 and i%5!=0:\n",
        "    print(i)"
      ]
    },
    {
      "cell_type": "code",
      "source": [
        "#Write a program which can compute the factorial of a given numbers.\n",
        "#The results should be printed in a comma-separated sequence on a single line.Suppose the following input is supplied to the program: 8 Then, the output should be:40320\n",
        "\n",
        "def fact(x):\n",
        "    if x == 0:\n",
        "        return 1\n",
        "    return x * fact(x - 1)\n",
        "\n",
        "x = int(input())\n",
        "fact(x)"
      ],
      "metadata": {
        "colab": {
          "base_uri": "https://localhost:8080/"
        },
        "id": "bDmOdrU8ngji",
        "outputId": "2e9fc7f8-8cf7-43a8-a81f-95220ee83bf6"
      },
      "execution_count": null,
      "outputs": [
        {
          "name": "stdout",
          "output_type": "stream",
          "text": [
            "8\n"
          ]
        },
        {
          "output_type": "execute_result",
          "data": {
            "text/plain": [
              "40320"
            ]
          },
          "metadata": {},
          "execution_count": 16
        }
      ]
    },
    {
      "cell_type": "code",
      "source": [
        "a = [1,2,3,4]\n",
        "b=[5,6,7,8]\n",
        "\n",
        "c = dict(zip(a,b))\n",
        "c"
      ],
      "metadata": {
        "colab": {
          "base_uri": "https://localhost:8080/"
        },
        "id": "ibWoF6jwp8uB",
        "outputId": "7e3744fc-e1be-4fda-dd97-7aa5931a8ae4"
      },
      "execution_count": null,
      "outputs": [
        {
          "output_type": "execute_result",
          "data": {
            "text/plain": [
              "{1: 5, 2: 6, 3: 7, 4: 8}"
            ]
          },
          "metadata": {},
          "execution_count": 18
        }
      ]
    },
    {
      "cell_type": "code",
      "source": [
        "#With a given integral number n, write a program to generate a dictionary that contains (i, i x i) such that is an integral number between 1 and n (both included).\n",
        "# and then the program should print the dictionary.Suppose the following input is supplied to the program: 8\n",
        "\n",
        "#Then, the output should be:\n",
        "\n",
        "#{1: 1, 2: 4, 3: 9, 4: 16, 5: 25, 6: 36, 7: 49, 8: 64}#\n",
        "\n",
        "a = int(input(\"Enter no of terms : \"))\n",
        "def d_i(a):\n",
        "  d={}\n",
        "  for i in range(1,a+1):\n",
        "    d.update({i:i**2})\n",
        "  return d\n",
        "\n",
        "d_i(a)"
      ],
      "metadata": {
        "colab": {
          "base_uri": "https://localhost:8080/"
        },
        "id": "BVt78hUtm_Sn",
        "outputId": "dce19d3e-ea24-4f1e-fa24-67db7f9b3620"
      },
      "execution_count": null,
      "outputs": [
        {
          "name": "stdout",
          "output_type": "stream",
          "text": [
            "Enter no of terms : 8\n"
          ]
        },
        {
          "output_type": "execute_result",
          "data": {
            "text/plain": [
              "{1: 1, 2: 4, 3: 9, 4: 16, 5: 25, 6: 36, 7: 49, 8: 64}"
            ]
          },
          "metadata": {},
          "execution_count": 26
        }
      ]
    },
    {
      "cell_type": "code",
      "source": [
        "a = [1,2,3,4]\n",
        "b= ['m','n','p','o']\n",
        "c= dict(zip(a,b))\n",
        "print(c)\n",
        "\n",
        "print(sorted(c.values()))\n"
      ],
      "metadata": {
        "colab": {
          "base_uri": "https://localhost:8080/"
        },
        "id": "Krbl6vvZqLuQ",
        "outputId": "35c26bf1-6c9b-4fea-ce8d-bac1eab34ec3"
      },
      "execution_count": null,
      "outputs": [
        {
          "output_type": "stream",
          "name": "stdout",
          "text": [
            "{1: 'm', 2: 'n', 3: 'p', 4: 'o'}\n",
            "['m', 'n', 'o', 'p']\n"
          ]
        }
      ]
    },
    {
      "cell_type": "code",
      "source": [
        "a = {0: 10, 1: 20}\n",
        "\n",
        "a.update({2:30,3:40})\n",
        "a"
      ],
      "metadata": {
        "colab": {
          "base_uri": "https://localhost:8080/"
        },
        "id": "o9hYpuu7u6q8",
        "outputId": "e74fd3fc-e7fa-46c3-9c9c-3a6481aafc4e"
      },
      "execution_count": null,
      "outputs": [
        {
          "output_type": "execute_result",
          "data": {
            "text/plain": [
              "{0: 10, 1: 20, 2: 30, 3: 40}"
            ]
          },
          "metadata": {},
          "execution_count": 34
        }
      ]
    },
    {
      "cell_type": "code",
      "source": [
        "#Write a program which accepts a sequence of comma-separated numbers from console and generate a list and a tuple which contains every number.\n",
        "#Suppose the following input is supplied to the program:\n",
        "#34,67,55,33,12,98\n",
        "#Then, the output should be:\n",
        "\n",
        "#['34', '67', '55', '33', '12', '98']\n",
        "#('34', '67', '55', '33', '12', '98')\n",
        "\n",
        "m = []\n",
        "a = int(input(\"Enter how many terms you want to enter : \"))\n",
        "while a!=0:\n",
        "  b=int(input(\"Enter hnos \"))\n",
        "  m.append(b)\n",
        "  a=a-1\n",
        "\n",
        "print(m)\n",
        "print(tuple(m))\n"
      ],
      "metadata": {
        "colab": {
          "base_uri": "https://localhost:8080/"
        },
        "id": "vFhMJT6Xvb4M",
        "outputId": "5d4fecf1-fd92-436c-8da0-d3c4550b8904"
      },
      "execution_count": null,
      "outputs": [
        {
          "output_type": "stream",
          "name": "stdout",
          "text": [
            "Enter how many terms you want to enter : 6\n",
            "Enter hnos 34\n",
            "Enter hnos 67\n",
            "Enter hnos 55\n",
            "Enter hnos 33\n",
            "Enter hnos 12\n",
            "Enter hnos 98\n",
            "[34, 67, 55, 33, 12, 98]\n",
            "(34, 67, 55, 33, 12, 98)\n"
          ]
        }
      ]
    },
    {
      "cell_type": "code",
      "source": [
        "#Write a program that calculates and prints the value according to the given formula:\n",
        "\n",
        "#Q = Square root of [(2 _ C _ D)/H]\n",
        "\n",
        "#Following are the fixed values of C and H:\n",
        "\n",
        "#C is 50. H is 30.\n",
        "\n",
        "#D is the variable whose values should be input to your program in a comma-separated sequence.For example Let us assume the following comma separated input sequence is given to the program:\n",
        "\n",
        "#100,150,180\n",
        "#The output of the program should be:\n",
        "\n",
        "#18,22,24\n",
        "\n",
        "from math import sqrt \n",
        "\n",
        "C,H = 50,30\n",
        "\n",
        "def calc(D):\n",
        "    return sqrt((2*C*D)/H)\n",
        "\n",
        "D = [int(i) for i in input().split(',')] \n",
        "D = [int(i) for i in D]   \n",
        "D = [calc(i) for i in D]  \n",
        "D = [round(i) for i in D] \n",
        "D = [str(i) for i in D]   \n",
        "print(\",\".join(D))"
      ],
      "metadata": {
        "colab": {
          "base_uri": "https://localhost:8080/"
        },
        "id": "TN5MZA96wfSb",
        "outputId": "9b4a0170-9b41-4358-fb32-6b7a0fc608c6"
      },
      "execution_count": null,
      "outputs": [
        {
          "output_type": "stream",
          "name": "stdout",
          "text": [
            "100,150,180\n",
            "18,22,24\n"
          ]
        }
      ]
    },
    {
      "cell_type": "code",
      "source": [
        "a = \"lknckw nwdvlnwekv pwjpne wfjpewjf jwjpe qpjqpdjq 987 lwnfw pwjhpf\"\n",
        "a.upper()"
      ],
      "metadata": {
        "colab": {
          "base_uri": "https://localhost:8080/",
          "height": 36
        },
        "id": "Tio2Zl1sza-N",
        "outputId": "547b6978-7d7e-4281-dcca-feedf0e5c4eb"
      },
      "execution_count": null,
      "outputs": [
        {
          "output_type": "execute_result",
          "data": {
            "text/plain": [
              "'LKNCKW NWDVLNWEKV PWJPNE WFJPEWJF JWJPE QPJQPDJQ 987 LWNFW PWJHPF'"
            ],
            "application/vnd.google.colaboratory.intrinsic+json": {
              "type": "string"
            }
          },
          "metadata": {},
          "execution_count": 42
        }
      ]
    },
    {
      "cell_type": "code",
      "source": [
        "s = \"hello world and practice makes perfect and hello world again\"\n",
        "l=s.split(\" \")\n",
        "sorted(list(set(l)))"
      ],
      "metadata": {
        "colab": {
          "base_uri": "https://localhost:8080/"
        },
        "id": "-M7bkOdq0zt4",
        "outputId": "36c9b198-28dd-4ead-b45f-b690c8d134c9"
      },
      "execution_count": null,
      "outputs": [
        {
          "output_type": "execute_result",
          "data": {
            "text/plain": [
              "['again', 'and', 'hello', 'makes', 'perfect', 'practice', 'world']"
            ]
          },
          "metadata": {},
          "execution_count": 47
        }
      ]
    },
    {
      "cell_type": "code",
      "source": [
        "for i in range(1000,3001):\n",
        "  if i%2==0:\n",
        "    print(i)"
      ],
      "metadata": {
        "id": "l0YSgZ-B1ISG"
      },
      "execution_count": null,
      "outputs": []
    },
    {
      "cell_type": "code",
      "source": [
        "fruits = [\"apple\", \"banana\", \"cherry\", \"kiwi\", \"mango\"]\n",
        "newlist = []\n",
        "\n",
        "for i in fruits:\n",
        "  if 'a' in i:\n",
        "    newlist.append(i)\n",
        "newlist"
      ],
      "metadata": {
        "id": "t2nwp51h2GSF",
        "colab": {
          "base_uri": "https://localhost:8080/"
        },
        "outputId": "eae372ca-e465-450f-fb31-718bd4ae35a0"
      },
      "execution_count": null,
      "outputs": [
        {
          "output_type": "execute_result",
          "data": {
            "text/plain": [
              "['apple', 'banana', 'mango']"
            ]
          },
          "metadata": {},
          "execution_count": 4
        }
      ]
    },
    {
      "cell_type": "code",
      "source": [
        "fruits = [\"apple\", \"banana\", \"cherry\", \"kiwi\", \"mango\"]\n",
        "\n",
        "m = [i for i in fruits if 'a' in i]\n",
        "m"
      ],
      "metadata": {
        "colab": {
          "base_uri": "https://localhost:8080/"
        },
        "id": "coUlLIHKRdYT",
        "outputId": "521de64e-e153-4309-bc48-5e8cf71d3099"
      },
      "execution_count": null,
      "outputs": [
        {
          "output_type": "execute_result",
          "data": {
            "text/plain": [
              "['apple', 'banana', 'mango']"
            ]
          },
          "metadata": {},
          "execution_count": 7
        }
      ]
    },
    {
      "cell_type": "code",
      "source": [
        "thislist = [\"banana\", \"Orange\", \"Kiwi\", \"cherry\"]\n",
        "#thislist.sort()\n",
        "#thislist\n",
        "print(thislist.reverse())"
      ],
      "metadata": {
        "colab": {
          "base_uri": "https://localhost:8080/"
        },
        "id": "DoXeNJ80RdVM",
        "outputId": "8a73e8b0-9248-4855-9ca9-b788ba675f83"
      },
      "execution_count": null,
      "outputs": [
        {
          "output_type": "stream",
          "name": "stdout",
          "text": [
            "None\n"
          ]
        }
      ]
    },
    {
      "cell_type": "markdown",
      "source": [
        "################"
      ],
      "metadata": {
        "id": "XMnaMqEiTWRC"
      }
    },
    {
      "cell_type": "code",
      "source": [
        "a = \"beautiful banana\"\n",
        "print(len(a))\n",
        "\n",
        "def le(s):\n",
        "  c=0\n",
        "  for i in s:\n",
        "    c = c+1\n",
        "  return c\n",
        "\n",
        "le(a)"
      ],
      "metadata": {
        "colab": {
          "base_uri": "https://localhost:8080/"
        },
        "id": "SBdzB9MiRdSP",
        "outputId": "025ca0d3-995d-43db-a980-fb7fdcaaee59"
      },
      "execution_count": null,
      "outputs": [
        {
          "output_type": "stream",
          "name": "stdout",
          "text": [
            "16\n"
          ]
        },
        {
          "output_type": "execute_result",
          "data": {
            "text/plain": [
              "16"
            ]
          },
          "metadata": {},
          "execution_count": 17
        }
      ]
    },
    {
      "cell_type": "code",
      "source": [
        "a = \"beautiful banana\"\n",
        "from collections import Counter\n",
        "\n",
        "Counter(a)"
      ],
      "metadata": {
        "colab": {
          "base_uri": "https://localhost:8080/"
        },
        "id": "pDXKqb1vRdPH",
        "outputId": "de092f3e-ef8a-4949-f69f-26a8c78a9623"
      },
      "execution_count": null,
      "outputs": [
        {
          "output_type": "execute_result",
          "data": {
            "text/plain": [
              "Counter({'b': 2,\n",
              "         'e': 1,\n",
              "         'a': 4,\n",
              "         'u': 2,\n",
              "         't': 1,\n",
              "         'i': 1,\n",
              "         'f': 1,\n",
              "         'l': 1,\n",
              "         ' ': 1,\n",
              "         'n': 2})"
            ]
          },
          "metadata": {},
          "execution_count": 30
        }
      ]
    },
    {
      "cell_type": "code",
      "source": [
        "def cha_cou(s):\n",
        "  d={}\n",
        "  for i in s:\n",
        "    keys = d.keys()\n",
        "    if i in keys:\n",
        "      d[i]+=1\n",
        "    else:\n",
        "      d[i]=1\n",
        "  return d\n",
        "\n",
        "cha_cou(a)\n",
        "\n"
      ],
      "metadata": {
        "colab": {
          "base_uri": "https://localhost:8080/"
        },
        "id": "7eU6tMAuRdL-",
        "outputId": "88a65ec2-09a9-4af5-bca6-25d8bc1a7d36"
      },
      "execution_count": null,
      "outputs": [
        {
          "output_type": "execute_result",
          "data": {
            "text/plain": [
              "{'b': 2,\n",
              " 'e': 1,\n",
              " 'a': 4,\n",
              " 'u': 2,\n",
              " 't': 1,\n",
              " 'i': 1,\n",
              " 'f': 1,\n",
              " 'l': 1,\n",
              " ' ': 1,\n",
              " 'n': 2}"
            ]
          },
          "metadata": {},
          "execution_count": 32
        }
      ]
    },
    {
      "cell_type": "code",
      "source": [
        "def ab(s):\n",
        "  u = set(s.replace(\" \",\"\"))\n",
        "  for i in u:\n",
        "    print(f\"{i} : {s.count(i)}\")\n",
        "\n",
        "ab(a)\n"
      ],
      "metadata": {
        "colab": {
          "base_uri": "https://localhost:8080/"
        },
        "id": "qblQa6YDRdI8",
        "outputId": "e8ebfe89-3c61-4fec-ed0b-46194d63ddeb"
      },
      "execution_count": null,
      "outputs": [
        {
          "output_type": "stream",
          "name": "stdout",
          "text": [
            "i : 1\n",
            "f : 1\n",
            "e : 1\n",
            "n : 2\n",
            "u : 2\n",
            "b : 2\n",
            "l : 1\n",
            "a : 4\n",
            "t : 1\n"
          ]
        }
      ]
    },
    {
      "cell_type": "code",
      "source": [
        "# get a string made of the first 2 and the last 2 chars from a given a string.\n",
        "a='rohan das'\n",
        "def get_st(a):\n",
        "  m=a[0:2]\n",
        "  n=a[-2:]\n",
        "  return m+n \n",
        "\n",
        "get_st(a)"
      ],
      "metadata": {
        "colab": {
          "base_uri": "https://localhost:8080/",
          "height": 36
        },
        "id": "QqltMamzRdGE",
        "outputId": "d02ce002-1a7a-427e-a353-accc0b0fbd3a"
      },
      "execution_count": null,
      "outputs": [
        {
          "output_type": "execute_result",
          "data": {
            "text/plain": [
              "'roas'"
            ],
            "application/vnd.google.colaboratory.intrinsic+json": {
              "type": "string"
            }
          },
          "metadata": {},
          "execution_count": 45
        }
      ]
    },
    {
      "cell_type": "code",
      "source": [
        "#get a single string from two given strings, separated by a space and swap the first two characters \n",
        "\n",
        "def swap():\n",
        "  a=input(\"enter 1st      : \")\n",
        "  b = input(\"Enter second : \")\n",
        "  a1 = a[:2]+b[2:]\n",
        "  a2 = b[:2]+a[2:]\n",
        "  return a1,a2\n",
        "swap()"
      ],
      "metadata": {
        "colab": {
          "base_uri": "https://localhost:8080/"
        },
        "id": "77S9QO7QRdDM",
        "outputId": "8178e161-24b0-41da-caa3-b89f4a4063eb"
      },
      "execution_count": null,
      "outputs": [
        {
          "name": "stdout",
          "output_type": "stream",
          "text": [
            "enter 1st      : abc\n",
            "Enter second : xyz\n"
          ]
        },
        {
          "output_type": "execute_result",
          "data": {
            "text/plain": [
              "('abz', 'xyc')"
            ]
          },
          "metadata": {},
          "execution_count": 59
        }
      ]
    },
    {
      "cell_type": "code",
      "source": [
        "def get_ing():\n",
        "  a=input(\"enter 1st      : \")  \n",
        "  if len(a)>=3:\n",
        "    print(\"ing/ly possible\")\n",
        "    if 'ing' in a:\n",
        "      return a+'ly'\n",
        "    else:\n",
        "      return a+'ing'\n",
        "  else:\n",
        "    print(\"ing/ly not possible len < 3\")\n",
        "get_ing()\n"
      ],
      "metadata": {
        "colab": {
          "base_uri": "https://localhost:8080/"
        },
        "id": "VpEZ2ObHRdAM",
        "outputId": "820b334f-6629-46a0-8c54-527609cd0a90"
      },
      "execution_count": null,
      "outputs": [
        {
          "output_type": "stream",
          "name": "stdout",
          "text": [
            "enter 1st      : ab\n",
            "ing/ly not possible len < 3\n"
          ]
        }
      ]
    },
    {
      "cell_type": "code",
      "source": [
        "from re import S\n",
        "def fact_1(n):\n",
        "  if n==0 or n==1:\n",
        "    return 1\n",
        "  else:\n",
        "    return n*fact_1(n-1)\n",
        "\n",
        "def fact_2():\n",
        "  e = int(input(\"Enter the no : \"))\n",
        "  s = 1\n",
        "  for i in range(1,e+1):\n",
        "    s = s * fact_1(i)\n",
        "  return s\n",
        "\n",
        "fact_2()"
      ],
      "metadata": {
        "id": "ihTqATT2Rc9E",
        "colab": {
          "base_uri": "https://localhost:8080/"
        },
        "outputId": "589ee01a-08dc-42b5-e648-b5c649a0375b"
      },
      "execution_count": 7,
      "outputs": [
        {
          "name": "stdout",
          "output_type": "stream",
          "text": [
            "Enter the no : 4\n"
          ]
        },
        {
          "output_type": "execute_result",
          "data": {
            "text/plain": [
              "288"
            ]
          },
          "metadata": {},
          "execution_count": 7
        }
      ]
    },
    {
      "cell_type": "code",
      "source": [
        " "
      ],
      "metadata": {
        "id": "Rp8e9qaqRc3U"
      },
      "execution_count": null,
      "outputs": []
    },
    {
      "cell_type": "code",
      "source": [],
      "metadata": {
        "id": "dD8dmKUORcwk"
      },
      "execution_count": null,
      "outputs": []
    }
  ]
}