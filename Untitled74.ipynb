{
  "nbformat": 4,
  "nbformat_minor": 0,
  "metadata": {
    "colab": {
      "name": "Untitled74.ipynb",
      "provenance": [],
      "authorship_tag": "ABX9TyP2f/3E55cRW2SXoYeIWxZK",
      "include_colab_link": true
    },
    "kernelspec": {
      "name": "python3",
      "display_name": "Python 3"
    },
    "language_info": {
      "name": "python"
    }
  },
  "cells": [
    {
      "cell_type": "markdown",
      "metadata": {
        "id": "view-in-github",
        "colab_type": "text"
      },
      "source": [
        "<a href=\"https://colab.research.google.com/github/rvjh/PythonPractice/blob/main/Untitled74.ipynb\" target=\"_parent\"><img src=\"https://colab.research.google.com/assets/colab-badge.svg\" alt=\"Open In Colab\"/></a>"
      ]
    },
    {
      "cell_type": "code",
      "metadata": {
        "colab": {
          "base_uri": "https://localhost:8080/"
        },
        "id": "JZIvvBEnJhOl",
        "outputId": "4974b13e-450b-4a9b-925f-2346d5df3022"
      },
      "source": [
        "class Car:\n",
        "  def __init__(self, door, tyer, engin):\n",
        "    self.door = door\n",
        "    self.tyer = tyer\n",
        "    self.engin = engin\n",
        "\n",
        "c1 = Car(4,4,'petrol')\n",
        "print(c1.door)\n",
        "print(c1.tyer)\n",
        "print(c1.engin)"
      ],
      "execution_count": 5,
      "outputs": [
        {
          "output_type": "stream",
          "name": "stdout",
          "text": [
            "4\n",
            "4\n",
            "petrol\n"
          ]
        }
      ]
    },
    {
      "cell_type": "code",
      "metadata": {
        "colab": {
          "base_uri": "https://localhost:8080/",
          "height": 86
        },
        "id": "JuDB8_URLf0N",
        "outputId": "8054cdd4-f2cf-4954-bb03-f6101c738c1f"
      },
      "source": [
        "class Car:\n",
        "  def __init__(self, door, tyer, engin):\n",
        "    self.door = door\n",
        "    self.tyer = tyer\n",
        "    self.engin = engin\n",
        "\n",
        "  def self_drive(self):\n",
        "    return f\"This car is {self.engin}\"\n",
        "\n",
        "c2 = Car(4,6,\"Battrey\")\n",
        "\n",
        "print(c2.door)\n",
        "print(c2.tyer)\n",
        "print(c2.engin)\n",
        "\n",
        "c2.self_drive()"
      ],
      "execution_count": 8,
      "outputs": [
        {
          "output_type": "stream",
          "name": "stdout",
          "text": [
            "4\n",
            "6\n",
            "Battrey\n"
          ]
        },
        {
          "output_type": "execute_result",
          "data": {
            "application/vnd.google.colaboratory.intrinsic+json": {
              "type": "string"
            },
            "text/plain": [
              "'This car is Battrey'"
            ]
          },
          "metadata": {},
          "execution_count": 8
        }
      ]
    },
    {
      "cell_type": "markdown",
      "metadata": {
        "id": "CAM1e2CmYgWY"
      },
      "source": [
        "Write a Python program to count the number of characters (character frequency) in a string."
      ]
    },
    {
      "cell_type": "code",
      "metadata": {
        "colab": {
          "base_uri": "https://localhost:8080/"
        },
        "id": "1KKreLZ6MR9n",
        "outputId": "679de1c6-24b8-4a2c-ca97-4635f1682c88"
      },
      "source": [
        "a = \"rohandas\"\n",
        "dict={}\n",
        "for i in a:\n",
        "  k = dict.keys()\n",
        "  if i in k:\n",
        "    dict[i]+=1\n",
        "  else:\n",
        "    dict[i]=1\n",
        "\n",
        "print(dict)\n"
      ],
      "execution_count": 5,
      "outputs": [
        {
          "output_type": "stream",
          "name": "stdout",
          "text": [
            "{'r': 1, 'o': 1, 'h': 1, 'a': 2, 'n': 1, 'd': 1, 's': 1}\n"
          ]
        }
      ]
    },
    {
      "cell_type": "markdown",
      "metadata": {
        "id": "iKG7SyBjZ8Wl"
      },
      "source": [
        "Write a Python program to get a string made of the first 2 and the last 2 chars from a given a string. If the string length is less than 2, return instead of the empty string."
      ]
    },
    {
      "cell_type": "code",
      "metadata": {
        "colab": {
          "base_uri": "https://localhost:8080/"
        },
        "id": "PasHjjL3Y2U3",
        "outputId": "beac3342-1e51-4c6d-cdd8-a2a53acfa84e"
      },
      "source": [
        "a=input(\"enter a string : \")\n",
        "\n",
        "if len(a)<2:\n",
        "  print(\"Empty string\")\n",
        "else:\n",
        "  print(a[:2]+a[-2:])\n"
      ],
      "execution_count": 13,
      "outputs": [
        {
          "output_type": "stream",
          "name": "stdout",
          "text": [
            "enter a string : rohan\n",
            "roan\n"
          ]
        }
      ]
    },
    {
      "cell_type": "markdown",
      "metadata": {
        "id": "IySs7KVBa_6u"
      },
      "source": [
        "Write a Python program to get a string from a given string where all occurrences of its first char have been changed to '$', except the first char itself"
      ]
    },
    {
      "cell_type": "code",
      "metadata": {
        "colab": {
          "base_uri": "https://localhost:8080/"
        },
        "id": "sd3cMwX6aTFh",
        "outputId": "c0f325ff-8479-472c-843b-1f6dcf87e896"
      },
      "source": [
        "a=input(\"enter a string : \")\n",
        "\n",
        "if len(a)==0:\n",
        "  print(\"Empty string\")\n",
        "else:\n",
        "  c = a[0]\n",
        "  a = a.replace(c,'$')\n",
        "  print(c+a[1:])"
      ],
      "execution_count": 17,
      "outputs": [
        {
          "output_type": "stream",
          "name": "stdout",
          "text": [
            "enter a string : restart\n",
            "resta$t\n"
          ]
        }
      ]
    },
    {
      "cell_type": "markdown",
      "metadata": {
        "id": "YiZwSTmfcapS"
      },
      "source": [
        "Write a Python program to get a single string from two given strings, separated by a space and swap the first two characters of each string\n",
        "\n",
        "'abc', 'xyz'\n",
        "\n",
        "'xyc abz'\n"
      ]
    },
    {
      "cell_type": "code",
      "metadata": {
        "colab": {
          "base_uri": "https://localhost:8080/",
          "height": 69
        },
        "id": "qMN2UAauaWm_",
        "outputId": "07d93df8-89cd-4308-abdd-26abbe7182dd"
      },
      "source": [
        "\"\"\"m = \"abc\"\n",
        "n = \"xyz\"\n",
        "c1,c2 = m[:2],m[2:]\n",
        "c3,c4 = n[:2],n[2:]\n",
        "\n",
        "print(c1,c2,c3,c4)\n",
        "\n",
        "print(c3+c2+\" \"+c1+c4)\"\"\"\n",
        "\n",
        "def st_sep(a,b):\n",
        "  c1,c2 = a[:2],a[2:]\n",
        "  c3,c4 = b[:2],b[2:]\n",
        "\n",
        "  return c3+c2+\" \"+c1+c4\n",
        "\n",
        "a = input(\"Enter 1st : \")\n",
        "b= input(\"Enter 2st : \")\n",
        "\n",
        "st_sep(a,b)"
      ],
      "execution_count": 20,
      "outputs": [
        {
          "name": "stdout",
          "output_type": "stream",
          "text": [
            "Enter 1st : abc\n",
            "Enter 2st : xyz\n"
          ]
        },
        {
          "output_type": "execute_result",
          "data": {
            "application/vnd.google.colaboratory.intrinsic+json": {
              "type": "string"
            },
            "text/plain": [
              "'xyc abz'"
            ]
          },
          "metadata": {},
          "execution_count": 20
        }
      ]
    },
    {
      "cell_type": "markdown",
      "metadata": {
        "id": "EZUbiD9VeYeY"
      },
      "source": [
        "Write a Python program to add 'ing' at the end of a given string (length should be at least 3). If the given string already ends with 'ing' then add 'ly' instead. If the string length of the given string is less than 3, leave it unchanged.\n",
        "\n",
        "Sample String : 'abc'\n",
        "\n",
        "Expected Result : 'abcing'\n",
        "\n",
        "Sample String : 'string'\n",
        "\n",
        "Expected Result : 'stringly'"
      ]
    },
    {
      "cell_type": "code",
      "metadata": {
        "colab": {
          "base_uri": "https://localhost:8080/",
          "height": 52
        },
        "id": "v53g_VjIejA6",
        "outputId": "5d73d5a7-6c48-4885-f3ec-9fe85978baf4"
      },
      "source": [
        "a = input(\"Enter a string : \")\n",
        "\n",
        "def rep(x):\n",
        "  if len(x)<3:\n",
        "    return \"Not possible.\"\n",
        "  else:\n",
        "    if \"ing\" not in x:\n",
        "      x=x+\"ing\"\n",
        "    else:\n",
        "      x= x.replace(\"ing\",\"ly\")\n",
        "  return x\n",
        "\n",
        "rep(a)\n"
      ],
      "execution_count": 29,
      "outputs": [
        {
          "name": "stdout",
          "output_type": "stream",
          "text": [
            "Enter a string : going\n"
          ]
        },
        {
          "output_type": "execute_result",
          "data": {
            "application/vnd.google.colaboratory.intrinsic+json": {
              "type": "string"
            },
            "text/plain": [
              "'goly'"
            ]
          },
          "metadata": {},
          "execution_count": 29
        }
      ]
    },
    {
      "cell_type": "markdown",
      "metadata": {
        "id": "zc9lc0fQgMY1"
      },
      "source": [
        "Write a Python program to find the first appearance of the substring 'not' and 'poor' from a given string, if 'not' follows the 'poor', replace the whole 'not'...'poor' substring with 'good'. Return the resulting string. \n",
        "\n",
        "Sample String : 'The lyrics is not that poor!'\n",
        "'The lyrics is poor!'\n",
        "\n",
        "Expected Result : 'The lyrics is good!'\n",
        "'The lyrics is poor!'"
      ]
    },
    {
      "cell_type": "code",
      "metadata": {
        "colab": {
          "base_uri": "https://localhost:8080/"
        },
        "id": "_UqVtOvSdZbm",
        "outputId": "a8eece0c-5584-4d03-b8d1-328b1d60b3e6"
      },
      "source": [
        "def not_poor(str1):\n",
        "  snot = str1.find('not')\n",
        "  spoor = str1.find('poor')\n",
        "  \n",
        "\n",
        "  if spoor > snot and snot>0 and spoor>0:\n",
        "    str1 = str1.replace(str1[snot:(spoor+4)], 'good')\n",
        "    return str1\n",
        "  else:\n",
        "    return str1\n",
        "print(not_poor('The lyrics is not that poor!'))\n",
        "print(not_poor('The lyrics is poor!'))"
      ],
      "execution_count": 36,
      "outputs": [
        {
          "output_type": "stream",
          "name": "stdout",
          "text": [
            "The lyrics is good!\n",
            "The lyrics is poor!\n"
          ]
        }
      ]
    },
    {
      "cell_type": "markdown",
      "metadata": {
        "id": "un4fKc_miTYX"
      },
      "source": [
        "Write a Python function that takes a list of words and return the longest word and the length of the longest one."
      ]
    },
    {
      "cell_type": "code",
      "metadata": {
        "colab": {
          "base_uri": "https://localhost:8080/",
          "height": 35
        },
        "id": "545hGk1FhMaw",
        "outputId": "da3497ff-43f0-4c66-c412-01c6ba6f616d"
      },
      "source": [
        "def st1(l):\n",
        "  n = {}\n",
        "  for i in l:\n",
        "    n.update({i:len(i)})\n",
        "  n=sorted(n.items(), key=lambda x: x[1],reverse=True)\n",
        "  return f\"Max word {n[0][0]} and length {n[0][1]}\"\n",
        "\n",
        "\n",
        "st1([\"PHP\", \"Exercises\", \"Backend\"])"
      ],
      "execution_count": 54,
      "outputs": [
        {
          "output_type": "execute_result",
          "data": {
            "application/vnd.google.colaboratory.intrinsic+json": {
              "type": "string"
            },
            "text/plain": [
              "'Max word Exercises and length 9'"
            ]
          },
          "metadata": {},
          "execution_count": 54
        }
      ]
    },
    {
      "cell_type": "code",
      "metadata": {
        "colab": {
          "base_uri": "https://localhost:8080/"
        },
        "id": "zusWNzW9j0IB",
        "outputId": "ab7d6555-d23d-4b25-bc7b-221708f56713"
      },
      "source": [
        "def st2(a):\n",
        "  d={}\n",
        "  for i in a:\n",
        "    k = d.keys()\n",
        "    if i in k:\n",
        "      d[i]+=1\n",
        "    else:\n",
        "      d[i]=1\n",
        "  return d\n",
        "\n",
        "st2(\"uttamdas\")\n"
      ],
      "execution_count": 56,
      "outputs": [
        {
          "output_type": "execute_result",
          "data": {
            "text/plain": [
              "{'a': 2, 'd': 1, 'm': 1, 's': 1, 't': 2, 'u': 1}"
            ]
          },
          "metadata": {},
          "execution_count": 56
        }
      ]
    },
    {
      "cell_type": "markdown",
      "metadata": {
        "id": "VpdXzYXAn-J5"
      },
      "source": [
        "Write a Python program to remove the nth index character from a nonempty string"
      ]
    },
    {
      "cell_type": "code",
      "metadata": {
        "colab": {
          "base_uri": "https://localhost:8080/",
          "height": 35
        },
        "id": "Hbaaebmenq-o",
        "outputId": "3e45225f-e165-4532-811a-2b87ad276cbe"
      },
      "source": [
        "def remo(s,n):\n",
        "  s1 = s[:n]\n",
        "  s2 = s[n+1:]\n",
        "  return s1+s2\n",
        "\n",
        "remo(\"rohan\",0)\n",
        "remo(\"rohan\",2)"
      ],
      "execution_count": 58,
      "outputs": [
        {
          "output_type": "execute_result",
          "data": {
            "application/vnd.google.colaboratory.intrinsic+json": {
              "type": "string"
            },
            "text/plain": [
              "'roan'"
            ]
          },
          "metadata": {},
          "execution_count": 58
        }
      ]
    },
    {
      "cell_type": "markdown",
      "metadata": {
        "id": "LY-7Qappoob8"
      },
      "source": [
        "Write a Python program to change a given string to a new string where the first and last chars have been exchanged."
      ]
    },
    {
      "cell_type": "code",
      "metadata": {
        "colab": {
          "base_uri": "https://localhost:8080/",
          "height": 35
        },
        "id": "LNaCOClCodbv",
        "outputId": "b8f70485-0858-4896-9288-4526fab8e551"
      },
      "source": [
        "def ch(str1):\n",
        "  return str1[-1:] + str1[1:-1] + str1[:1]\n",
        "\n",
        "ch(\"rohan\")\n",
        "\n"
      ],
      "execution_count": 59,
      "outputs": [
        {
          "output_type": "execute_result",
          "data": {
            "application/vnd.google.colaboratory.intrinsic+json": {
              "type": "string"
            },
            "text/plain": [
              "'nohar'"
            ]
          },
          "metadata": {},
          "execution_count": 59
        }
      ]
    },
    {
      "cell_type": "markdown",
      "metadata": {
        "id": "_WsCqJ-ZrZHp"
      },
      "source": [
        " Write a Python program to print a specified list after removing the 0th, 4th and 5th elements. Go to the editor\n",
        "Sample List : ['Red', 'Green', 'White', 'Black', 'Pink', 'Yellow']\n",
        "Expected Output : ['Green', 'White', 'Black']"
      ]
    },
    {
      "cell_type": "code",
      "metadata": {
        "colab": {
          "base_uri": "https://localhost:8080/"
        },
        "id": "BHz0OQrfpjvJ",
        "outputId": "6093afa3-a6a3-4d12-f69e-98010acbb212"
      },
      "source": [
        "l = ['Red', 'Green', 'White', 'Black', 'Pink', 'Yellow']\n",
        "\n",
        "def rem_in(s):\n",
        "  m=[]\n",
        "  for i in [0,4,5]:\n",
        "    m.append(s[i])\n",
        "  for i in m:\n",
        "    s.remove(i)\n",
        "  return s\n",
        "\n",
        "rem_in(l)"
      ],
      "execution_count": 89,
      "outputs": [
        {
          "output_type": "execute_result",
          "data": {
            "text/plain": [
              "['Green', 'White', 'Black']"
            ]
          },
          "metadata": {},
          "execution_count": 89
        }
      ]
    },
    {
      "cell_type": "markdown",
      "metadata": {
        "id": "a_afyFSox6rb"
      },
      "source": [
        "Write a Python program to generate a 3*4*6 3D array whose each element is *"
      ]
    },
    {
      "cell_type": "code",
      "metadata": {
        "colab": {
          "base_uri": "https://localhost:8080/"
        },
        "id": "FPPVoK_Mroz4",
        "outputId": "931316b8-ae2c-4a4d-f688-7a45cab7b1e0"
      },
      "source": [
        "print([[['*' for i in range(6)] for i in range(4)] for i in range(3)])"
      ],
      "execution_count": 97,
      "outputs": [
        {
          "output_type": "stream",
          "name": "stdout",
          "text": [
            "[[['*', '*', '*', '*', '*', '*'], ['*', '*', '*', '*', '*', '*'], ['*', '*', '*', '*', '*', '*'], ['*', '*', '*', '*', '*', '*']], [['*', '*', '*', '*', '*', '*'], ['*', '*', '*', '*', '*', '*'], ['*', '*', '*', '*', '*', '*'], ['*', '*', '*', '*', '*', '*']], [['*', '*', '*', '*', '*', '*'], ['*', '*', '*', '*', '*', '*'], ['*', '*', '*', '*', '*', '*'], ['*', '*', '*', '*', '*', '*']]]\n"
          ]
        }
      ]
    },
    {
      "cell_type": "code",
      "metadata": {
        "id": "duTFRvIayFgw"
      },
      "source": [
        ""
      ],
      "execution_count": null,
      "outputs": []
    }
  ]
}