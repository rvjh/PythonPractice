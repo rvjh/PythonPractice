{
  "nbformat": 4,
  "nbformat_minor": 0,
  "metadata": {
    "colab": {
      "name": "Dictionary_practice.ipynb",
      "provenance": [],
      "authorship_tag": "ABX9TyNy1TxjECCHY5NrLZ9K3D+W",
      "include_colab_link": true
    },
    "kernelspec": {
      "name": "python3",
      "display_name": "Python 3"
    },
    "language_info": {
      "name": "python"
    }
  },
  "cells": [
    {
      "cell_type": "markdown",
      "metadata": {
        "id": "view-in-github",
        "colab_type": "text"
      },
      "source": [
        "<a href=\"https://colab.research.google.com/github/rvjh/PythonPractice/blob/main/Dictionary_practice.ipynb\" target=\"_parent\"><img src=\"https://colab.research.google.com/assets/colab-badge.svg\" alt=\"Open In Colab\"/></a>"
      ]
    },
    {
      "cell_type": "code",
      "metadata": {
        "colab": {
          "base_uri": "https://localhost:8080/"
        },
        "id": "7KWWeOTUX0h8",
        "outputId": "5d8cf1da-5b25-4346-87db-9a4dab4be5d6"
      },
      "source": [
        "a = [1,2,3,4]\n",
        "b= ['m','n','p','o']\n",
        "\n",
        "c = dict(zip(a,b))\n",
        "c"
      ],
      "execution_count": 2,
      "outputs": [
        {
          "output_type": "execute_result",
          "data": {
            "text/plain": [
              "{1: 'm', 2: 'n', 3: 'p', 4: 'o'}"
            ]
          },
          "metadata": {},
          "execution_count": 2
        }
      ]
    },
    {
      "cell_type": "markdown",
      "metadata": {
        "id": "vTkwDiuLYn5-"
      },
      "source": [
        "1. Write a Python script to sort (ascending and descending) a dictionary by value."
      ]
    },
    {
      "cell_type": "code",
      "metadata": {
        "colab": {
          "base_uri": "https://localhost:8080/"
        },
        "id": "4Ghqr7T4YZYa",
        "outputId": "281bd286-0842-486c-c07c-36add57d9999"
      },
      "source": [
        "a = [1,2,3,4]\n",
        "b= ['m','n','p','o']\n",
        "\n",
        "c = dict(zip(a,b))\n",
        "\n",
        "## ascendring order\n",
        "print(sorted(c.values()))\n",
        "\n",
        "## decendring order\n",
        "print(sorted(c.values(),reverse=True))"
      ],
      "execution_count": 17,
      "outputs": [
        {
          "output_type": "stream",
          "name": "stdout",
          "text": [
            "['m', 'n', 'o', 'p']\n",
            "['p', 'o', 'n', 'm']\n"
          ]
        }
      ]
    },
    {
      "cell_type": "markdown",
      "metadata": {
        "id": "CEGlH__baBjU"
      },
      "source": [
        "Write a Python script to add a key to a dictionary.\n",
        "\n",
        "Sample Dictionary : {0: 10, 1: 20}\n",
        "\n",
        "Expected Result : {0: 10, 1: 20, 2: 30}"
      ]
    },
    {
      "cell_type": "code",
      "metadata": {
        "colab": {
          "base_uri": "https://localhost:8080/"
        },
        "id": "TiOyyLhfY1M3",
        "outputId": "0561625a-fea1-4bb7-d1d3-d3718b742c9d"
      },
      "source": [
        "a = {0: 10, 1: 20}\n",
        "a.update({2:20})\n",
        "a\n",
        "\n",
        "b = {'m':20, 'n':30}\n",
        "b.update({'o':50})\n",
        "print(b)"
      ],
      "execution_count": 21,
      "outputs": [
        {
          "output_type": "stream",
          "name": "stdout",
          "text": [
            "{'m': 20, 'n': 30, 'o': 50}\n"
          ]
        }
      ]
    },
    {
      "cell_type": "markdown",
      "metadata": {
        "id": "w-fWy0QAa4OE"
      },
      "source": [
        "Write a Python script to concatenate following dictionaries to create a new one.\n",
        "\n",
        "Sample Dictionary :\n",
        "\n",
        "dic1={1:10, 2:20}\n",
        "\n",
        "dic2={3:30, 4:40}\n",
        "\n",
        "dic3={5:50,6:60}\n",
        "\n",
        "Expected Result : {1: 10, 2: 20, 3: 30, 4: 40, 5: 50, 6: 60}"
      ]
    },
    {
      "cell_type": "code",
      "metadata": {
        "colab": {
          "base_uri": "https://localhost:8080/"
        },
        "id": "UsDbOB1jaM7g",
        "outputId": "a6dc77fd-51c4-4505-a6ea-8d802887a105"
      },
      "source": [
        "dic1={1:10, 2:20}\n",
        "dic2={3:30, 4:40}\n",
        "dic3={5:50,6:60}\n",
        "\n",
        "\n",
        "dic1.update(dic2)\n",
        "dic1.update(dic3)\n",
        "dic1"
      ],
      "execution_count": 28,
      "outputs": [
        {
          "output_type": "execute_result",
          "data": {
            "text/plain": [
              "{1: 10, 2: 20, 3: 30, 4: 40, 5: 50, 6: 60}"
            ]
          },
          "metadata": {},
          "execution_count": 28
        }
      ]
    },
    {
      "cell_type": "code",
      "metadata": {
        "colab": {
          "base_uri": "https://localhost:8080/"
        },
        "id": "-5enb4iPbMq2",
        "outputId": "6b13169c-c25a-414f-ec16-48ef4f1376a6"
      },
      "source": [
        "## or\n",
        "\n",
        "dic1={1:10, 2:20}\n",
        "dic2={3:30, 4:40}\n",
        "dic3={5:50,6:60}\n",
        "\n",
        "dic4 = {}\n",
        "\n",
        "for i in (dic1,dic2,dic3):\n",
        "  dic4.update(i)\n",
        "\n",
        "print(dic4)"
      ],
      "execution_count": 30,
      "outputs": [
        {
          "output_type": "stream",
          "name": "stdout",
          "text": [
            "{1: 10, 2: 20, 3: 30, 4: 40, 5: 50, 6: 60}\n"
          ]
        }
      ]
    },
    {
      "cell_type": "markdown",
      "metadata": {
        "id": "mqgNE1Jtb-kh"
      },
      "source": [
        "Write a Python script to check whether a given key already exists in a dictionary."
      ]
    },
    {
      "cell_type": "code",
      "metadata": {
        "colab": {
          "base_uri": "https://localhost:8080/"
        },
        "id": "09lDlsbIbtr-",
        "outputId": "669485bc-1aed-4021-ba31-dc49d3d58290"
      },
      "source": [
        "a = {1: 10, 2: 20, 3: 30, 4: 40, 5: 50, 6: 60}\n",
        "\n",
        "if 4 in a.keys():\n",
        "  print(\"True\")\n",
        "else:\n",
        "  print(\"false\")"
      ],
      "execution_count": 34,
      "outputs": [
        {
          "output_type": "stream",
          "name": "stdout",
          "text": [
            "True\n"
          ]
        }
      ]
    },
    {
      "cell_type": "markdown",
      "metadata": {
        "id": "-xDILd6OcbXs"
      },
      "source": [
        "Write a Python program to iterate over dictionaries using for loops"
      ]
    },
    {
      "cell_type": "code",
      "metadata": {
        "colab": {
          "base_uri": "https://localhost:8080/"
        },
        "id": "RlnmWwYmcNuN",
        "outputId": "1529e66f-ed43-4958-aeb8-91f9921f0a4f"
      },
      "source": [
        "a = {1: 10, 2: 20, 3: 30, 4: 40, 5: 50, 6: 60}\n",
        "\n",
        "for i in a.keys():\n",
        "  print(f\"items = {i} and values ={a[i]}\")\n",
        "\n",
        "\n",
        "## or\n",
        "\n",
        "for i, j in a.items():\n",
        "  print(f\"key {i} and value {j}\")"
      ],
      "execution_count": 42,
      "outputs": [
        {
          "output_type": "stream",
          "name": "stdout",
          "text": [
            "items = 1 and values =10\n",
            "items = 2 and values =20\n",
            "items = 3 and values =30\n",
            "items = 4 and values =40\n",
            "items = 5 and values =50\n",
            "items = 6 and values =60\n",
            "key 1 and value 10\n",
            "key 2 and value 20\n",
            "key 3 and value 30\n",
            "key 4 and value 40\n",
            "key 5 and value 50\n",
            "key 6 and value 60\n"
          ]
        }
      ]
    },
    {
      "cell_type": "markdown",
      "metadata": {
        "id": "7pepulRJd3df"
      },
      "source": [
        "Write a Python script to generate and print a dictionary that contains a number (between 1 and n) in the form (x, x*x). \n",
        "\n",
        "Sample Dictionary ( n = 5) :\n",
        "\n",
        "Expected Output : {1: 1, 2: 4, 3: 9, 4: 16, 5: 25}"
      ]
    },
    {
      "cell_type": "code",
      "metadata": {
        "colab": {
          "base_uri": "https://localhost:8080/"
        },
        "id": "vCsY659icekL",
        "outputId": "083e5325-010d-49cd-8139-84c088c7a85d"
      },
      "source": [
        "def f1(a):\n",
        "  d= {}\n",
        "  for i in range(1,a+1):\n",
        "    d.update({i: i**2})\n",
        "  return d\n",
        "\n",
        "f1(5)\n",
        "f1(6)\n"
      ],
      "execution_count": 46,
      "outputs": [
        {
          "output_type": "execute_result",
          "data": {
            "text/plain": [
              "{1: 1, 2: 4, 3: 9, 4: 16, 5: 25, 6: 36}"
            ]
          },
          "metadata": {},
          "execution_count": 46
        }
      ]
    },
    {
      "cell_type": "markdown",
      "metadata": {
        "id": "RNS57IkMesOy"
      },
      "source": [
        "Write a Python script to print a dictionary where the keys are numbers between 1 and 15 (both included) and the values are square of keys.\n",
        "\n",
        "Sample Dictionary\n",
        "{1: 1, 2: 4, 3: 9, 4: 16, 5: 25, 6: 36, 7: 49, 8: 64, 9: 81, 10: 100, 11: 121, 12: 144, 13: 169, 14: 196, 15: 225}"
      ]
    },
    {
      "cell_type": "code",
      "metadata": {
        "colab": {
          "base_uri": "https://localhost:8080/"
        },
        "id": "th8hyWa6ed8l",
        "outputId": "4ae706ff-3015-4e45-99d0-d610c7d2af61"
      },
      "source": [
        "def f2(a):\n",
        "  d={}\n",
        "  for i in range(1,a+1):\n",
        "    d.update({i : i**2})\n",
        "  return d\n",
        "\n",
        "f2(15)\n"
      ],
      "execution_count": 47,
      "outputs": [
        {
          "output_type": "execute_result",
          "data": {
            "text/plain": [
              "{1: 1,\n",
              " 2: 4,\n",
              " 3: 9,\n",
              " 4: 16,\n",
              " 5: 25,\n",
              " 6: 36,\n",
              " 7: 49,\n",
              " 8: 64,\n",
              " 9: 81,\n",
              " 10: 100,\n",
              " 11: 121,\n",
              " 12: 144,\n",
              " 13: 169,\n",
              " 14: 196,\n",
              " 15: 225}"
            ]
          },
          "metadata": {},
          "execution_count": 47
        }
      ]
    },
    {
      "cell_type": "markdown",
      "metadata": {
        "id": "BnNAEkZ1fJST"
      },
      "source": [
        "Write a Python script to merge two Python dictionaries."
      ]
    },
    {
      "cell_type": "code",
      "metadata": {
        "colab": {
          "base_uri": "https://localhost:8080/"
        },
        "id": "khQaOBmTfCf8",
        "outputId": "73af92ec-45ca-4fc3-f1be-50ff757fb738"
      },
      "source": [
        "dic1={1:10, 2:20}\n",
        "dic2={3:30, 4:40}\n",
        "\n",
        "dic1.update(dic2)\n",
        "dic1"
      ],
      "execution_count": 50,
      "outputs": [
        {
          "output_type": "execute_result",
          "data": {
            "text/plain": [
              "{1: 10, 2: 20, 3: 30, 4: 40}"
            ]
          },
          "metadata": {},
          "execution_count": 50
        }
      ]
    },
    {
      "cell_type": "markdown",
      "metadata": {
        "id": "CLPa7maYfriX"
      },
      "source": [
        "Write a Python program to iterate over dictionaries using for loops."
      ]
    },
    {
      "cell_type": "code",
      "metadata": {
        "colab": {
          "base_uri": "https://localhost:8080/"
        },
        "id": "17Js8-zWfVlj",
        "outputId": "a2debe7c-1afb-49eb-96cf-545aee4c1bfb"
      },
      "source": [
        "a = {1: 10, 2: 20, 3: 30, 4: 40}\n",
        "for i,j in a.items():\n",
        "  print(f\"keys {i} => items {j}\")"
      ],
      "execution_count": 52,
      "outputs": [
        {
          "output_type": "stream",
          "name": "stdout",
          "text": [
            "keys 1 => items 10\n",
            "keys 2 => items 20\n",
            "keys 3 => items 30\n",
            "keys 4 => items 40\n"
          ]
        }
      ]
    },
    {
      "cell_type": "markdown",
      "metadata": {
        "id": "kVtbjBesf952"
      },
      "source": [
        "Write a Python program to sum all the items in a dictionary. "
      ]
    },
    {
      "cell_type": "code",
      "metadata": {
        "colab": {
          "base_uri": "https://localhost:8080/"
        },
        "id": "y7ozawB2fwdn",
        "outputId": "808e58d0-03f7-49d4-caf1-0d320c57c2a5"
      },
      "source": [
        "a = {1: 10, 2: 20, 3: 30, 4: 40}\n",
        "b=[]\n",
        "for i,j in a.items():\n",
        "  b.append(i)\n",
        "print(sum(b))"
      ],
      "execution_count": 53,
      "outputs": [
        {
          "output_type": "stream",
          "name": "stdout",
          "text": [
            "10\n"
          ]
        }
      ]
    },
    {
      "cell_type": "markdown",
      "metadata": {
        "id": "0R4yH8JPgPvk"
      },
      "source": [
        "Write a Python program to multiply all the items in a dictionary."
      ]
    },
    {
      "cell_type": "code",
      "metadata": {
        "colab": {
          "base_uri": "https://localhost:8080/"
        },
        "id": "cvY7ftlNgLsG",
        "outputId": "79e07245-8f7a-49b6-ddf7-4810f8e46c05"
      },
      "source": [
        "a = {1: 10, 2: 20, 3: 30, 4: 40}\n",
        "b=[]\n",
        "for i,j in a.items():\n",
        "  b.append(i)\n",
        "\n",
        "s=1\n",
        "for k in b:\n",
        "  s=s*k\n",
        "print(s)\n"
      ],
      "execution_count": 55,
      "outputs": [
        {
          "output_type": "stream",
          "name": "stdout",
          "text": [
            "24\n"
          ]
        }
      ]
    },
    {
      "cell_type": "markdown",
      "metadata": {
        "id": "QT-_sPX5h8yi"
      },
      "source": [
        "Write a Python program to remove a key from a dictionary"
      ]
    },
    {
      "cell_type": "code",
      "metadata": {
        "colab": {
          "base_uri": "https://localhost:8080/"
        },
        "id": "9hI4IbTEgV3q",
        "outputId": "0af9d276-3e5a-489c-c002-3f2a36cea1eb"
      },
      "source": [
        "a = {1: 10, 2: 20, 3: 30, 4: 40}\n",
        "\n",
        "a.pop(3)\n",
        "\n",
        "a"
      ],
      "execution_count": 59,
      "outputs": [
        {
          "output_type": "execute_result",
          "data": {
            "text/plain": [
              "{1: 10, 2: 20, 4: 40}"
            ]
          },
          "metadata": {},
          "execution_count": 59
        }
      ]
    },
    {
      "cell_type": "markdown",
      "metadata": {
        "id": "Foej8SxziQ3v"
      },
      "source": [
        "Write a Python program to map two lists into a dictionary. "
      ]
    },
    {
      "cell_type": "code",
      "metadata": {
        "colab": {
          "base_uri": "https://localhost:8080/"
        },
        "id": "HbWS3ejHiEjx",
        "outputId": "27ffcf71-6106-42c4-8043-11afebb6051e"
      },
      "source": [
        "a = [1,2,3,4]\n",
        "b= ['m','n','p','o']\n",
        "\n",
        "c = zip(a,b)\n",
        "print(dict(c))"
      ],
      "execution_count": 60,
      "outputs": [
        {
          "output_type": "stream",
          "name": "stdout",
          "text": [
            "{1: 'm', 2: 'n', 3: 'p', 4: 'o'}\n"
          ]
        }
      ]
    },
    {
      "cell_type": "markdown",
      "metadata": {
        "id": "rQ4tjen3ihkh"
      },
      "source": [
        "Write a Python program to sort a given dictionary by key."
      ]
    },
    {
      "cell_type": "code",
      "metadata": {
        "colab": {
          "base_uri": "https://localhost:8080/"
        },
        "id": "kd0vUn0kiZRa",
        "outputId": "a8b14dd1-c334-4317-bfc1-bd35987fcbe1"
      },
      "source": [
        "color_dict = {'red':'#FF0000',\n",
        "          'green':'#008000',\n",
        "          'black':'#000000',\n",
        "          'white':'#FFFFFF'}\n",
        "\n",
        "for key in sorted(color_dict):\n",
        "    print(\"%s: %s\" % (key, color_dict[key]))"
      ],
      "execution_count": 64,
      "outputs": [
        {
          "output_type": "stream",
          "name": "stdout",
          "text": [
            "black: #000000\n",
            "green: #008000\n",
            "red: #FF0000\n",
            "white: #FFFFFF\n"
          ]
        }
      ]
    },
    {
      "cell_type": "markdown",
      "metadata": {
        "id": "Mr6ZKtMCjKMI"
      },
      "source": [
        "Write a Python program to get the maximum and minimum value in a dictionary"
      ]
    },
    {
      "cell_type": "code",
      "metadata": {
        "colab": {
          "base_uri": "https://localhost:8080/"
        },
        "id": "7AGkg2jmivd-",
        "outputId": "28d65118-1df8-4745-e474-70f82a4a0494"
      },
      "source": [
        "a = {1: 10, 2: 20, 3: 30, 4: 40}\n",
        "\n",
        "b=[]\n",
        "for i, j in a.items():\n",
        "  b.append(j)\n",
        "print(max(b))\n",
        "print(min(b))"
      ],
      "execution_count": 67,
      "outputs": [
        {
          "output_type": "stream",
          "name": "stdout",
          "text": [
            "40\n",
            "10\n"
          ]
        }
      ]
    },
    {
      "cell_type": "markdown",
      "metadata": {
        "id": "W0NhucNijvNu"
      },
      "source": [
        "Write a Python program to get a dictionary from an object's fields. "
      ]
    },
    {
      "cell_type": "code",
      "metadata": {
        "colab": {
          "base_uri": "https://localhost:8080/"
        },
        "id": "vxLujMHijNFq",
        "outputId": "d06838a8-0975-40ec-c25b-1a53244e8bdc"
      },
      "source": [
        "class rohan():\n",
        "  def __init__(self):\n",
        "    self.X = \"red\"\n",
        "    self.Y = \"green\"\n",
        "    self.Z = \"blue\"\n",
        "\n",
        "  def ab(self):\n",
        "    pass\n",
        "\n",
        "r = rohan()\n",
        "print(r.__dict__)"
      ],
      "execution_count": 71,
      "outputs": [
        {
          "output_type": "stream",
          "name": "stdout",
          "text": [
            "{'X': 'red', 'Y': 'green', 'Z': 'blue'}\n"
          ]
        }
      ]
    },
    {
      "cell_type": "markdown",
      "metadata": {
        "id": "7f8bhVZjmITK"
      },
      "source": [
        "Write a Python program to check a dictionary is empty or not."
      ]
    },
    {
      "cell_type": "code",
      "metadata": {
        "colab": {
          "base_uri": "https://localhost:8080/"
        },
        "id": "H1dGdfThkJk1",
        "outputId": "0dc2bb29-b37d-41f1-b8bc-a5a2cf69b9e3"
      },
      "source": [
        "d={}\n",
        "\n",
        "if not bool(d):\n",
        "  print(\"empty\")"
      ],
      "execution_count": 73,
      "outputs": [
        {
          "output_type": "stream",
          "name": "stdout",
          "text": [
            "empty\n"
          ]
        }
      ]
    },
    {
      "cell_type": "markdown",
      "metadata": {
        "id": "sRp_MEoImsGf"
      },
      "source": [
        "## Write a Python program to combine two dictionary adding values for common keys. \n",
        "\n",
        "d1 = {'a': 100, 'b': 200, 'c':300}\n",
        "\n",
        "d2 = {'a': 300, 'b': 200, 'd':400}\n",
        "\n",
        "Sample output: Counter({'a': 400, 'b': 400, 'd': 400, 'c': 300})"
      ]
    },
    {
      "cell_type": "code",
      "metadata": {
        "colab": {
          "base_uri": "https://localhost:8080/"
        },
        "id": "sqAFWYDVmXRg",
        "outputId": "13999605-289e-48d3-e8b5-834f3d1d933a"
      },
      "source": [
        "d1 = {'a': 100, 'b': 200, 'c':300}\n",
        "d2 = {'a': 300, 'b': 200, 'd':400}\n",
        "\n",
        "from collections import Counter\n",
        "d = Counter(d1) + Counter(d2)\n",
        "print(d)"
      ],
      "execution_count": 81,
      "outputs": [
        {
          "output_type": "stream",
          "name": "stdout",
          "text": [
            "Counter({'a': 400, 'b': 400, 'd': 400, 'c': 300})\n"
          ]
        }
      ]
    },
    {
      "cell_type": "markdown",
      "metadata": {
        "id": "qFFlXaPn5kyf"
      },
      "source": [
        "Write a Python program to print all unique values in a dictionary. Go to the editor\n",
        "\n",
        "Sample Data : \n",
        "[{\"V\":\"S001\"}, \n",
        "\n",
        "{\"V\": \"S002\"}, \n",
        "\n",
        "{\"VI\": \"S001\"}, \n",
        "\n",
        "{\"VI\": \"S005\"}, \n",
        "\n",
        "{\"VII\":\"S005\"}, \n",
        "\n",
        "{\"V\":\"S009\"},\n",
        "\n",
        "{\"VIII\":\"S007\"}]\n",
        "\n",
        "Expected Output : Unique Values: {'S005', 'S002', 'S007', 'S001', 'S009'}"
      ]
    },
    {
      "cell_type": "code",
      "metadata": {
        "colab": {
          "base_uri": "https://localhost:8080/"
        },
        "id": "3jPPQ10Vmx1e",
        "outputId": "9c31c007-364d-4123-9aaa-a1a95e8bd1bd"
      },
      "source": [
        "Data = [{\"V\":\"S001\"},\n",
        "\n",
        "              {\"V\": \"S002\"},\n",
        "\n",
        "              {\"VI\": \"S001\"},\n",
        "\n",
        "              {\"VI\": \"S005\"},\n",
        "\n",
        "              {\"VII\":\"S005\"},\n",
        "\n",
        "              {\"V\":\"S009\"},\n",
        "\n",
        "              {\"VIII\":\"S007\"}]\n",
        "\n",
        "b= []\n",
        "for i in Data:\n",
        "  for m,n in i.items():\n",
        "    b.append(n)\n",
        "\n",
        "set(b)\n"
      ],
      "execution_count": 86,
      "outputs": [
        {
          "output_type": "execute_result",
          "data": {
            "text/plain": [
              "{'S001', 'S002', 'S005', 'S007', 'S009'}"
            ]
          },
          "metadata": {},
          "execution_count": 86
        }
      ]
    },
    {
      "cell_type": "markdown",
      "metadata": {
        "id": "J0xhpgPn8uRS"
      },
      "source": [
        "Write a Python program to create and display all combinations of letters, selecting each letter from a different key in a dictionary. \n",
        "\n",
        "Sample data : {'1':['a','b'], '2':['c','d']}\n",
        "\n",
        "Expected Output:\n",
        "ac\n",
        "ad\n",
        "bc\n",
        "bd"
      ]
    },
    {
      "cell_type": "code",
      "metadata": {
        "colab": {
          "base_uri": "https://localhost:8080/"
        },
        "id": "dd7TB8x45_w-",
        "outputId": "11cca2e4-4237-4d0b-c1fc-5c8fcf1302c1"
      },
      "source": [
        "import itertools      \n",
        "d ={'1':['a','b'], '2':['c','d']}\n",
        "for combo in itertools.product(*[d[k] for k in sorted(d.keys())]):\n",
        "    print(''.join(combo))"
      ],
      "execution_count": 91,
      "outputs": [
        {
          "output_type": "stream",
          "name": "stdout",
          "text": [
            "ac\n",
            "ad\n",
            "bc\n",
            "bd\n"
          ]
        }
      ]
    },
    {
      "cell_type": "code",
      "metadata": {
        "id": "9Un8KSyN80Oo"
      },
      "source": [
        ""
      ],
      "execution_count": null,
      "outputs": []
    }
  ]
}