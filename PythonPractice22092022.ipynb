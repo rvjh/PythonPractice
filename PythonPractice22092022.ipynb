{
  "nbformat": 4,
  "nbformat_minor": 0,
  "metadata": {
    "colab": {
      "provenance": [],
      "authorship_tag": "ABX9TyNaCVXwgFAJ2aGijMvq1Lue",
      "include_colab_link": true
    },
    "kernelspec": {
      "name": "python3",
      "display_name": "Python 3"
    },
    "language_info": {
      "name": "python"
    }
  },
  "cells": [
    {
      "cell_type": "markdown",
      "metadata": {
        "id": "view-in-github",
        "colab_type": "text"
      },
      "source": [
        "<a href=\"https://colab.research.google.com/github/rvjh/PythonPractice/blob/main/PythonPractice22092022.ipynb\" target=\"_parent\"><img src=\"https://colab.research.google.com/assets/colab-badge.svg\" alt=\"Open In Colab\"/></a>"
      ]
    },
    {
      "cell_type": "markdown",
      "source": [
        "********DAY 1********\n",
        "\n",
        "Python coding question:\n",
        "\n",
        "Given a list of integers, return True if the array contains a 3 next to a 3 somewhere.\n",
        "\n",
        "Desired output:\n",
        "\n",
        "has_33([1, 3, 3]) → True\n",
        "\n",
        "has_33([1, 3, 1, 3]) → False\n",
        "\n",
        "has_33([3, 1, 3]) → False\n",
        "\n",
        "has_33([3,3,1]) → True"
      ],
      "metadata": {
        "id": "zSMxQl1oeER9"
      }
    },
    {
      "cell_type": "code",
      "execution_count": 8,
      "metadata": {
        "id": "Dw1pcyLaJSo4",
        "colab": {
          "base_uri": "https://localhost:8080/"
        },
        "outputId": "7a775ebd-1d0e-4991-ba7b-9e73e5fb5877"
      },
      "outputs": [
        {
          "output_type": "stream",
          "name": "stdout",
          "text": [
            "True\n",
            "False\n",
            "False\n"
          ]
        }
      ],
      "source": [
        "def has_33(arr):\n",
        "  for idx in range(1,len(arr)):\n",
        "    if arr[idx]== 3 and arr[idx-1]==3:\n",
        "      return True\n",
        "    return False\n",
        "\n",
        "print(has_33([3,3,1]))\n",
        "print(has_33([1,3,1]))\n",
        "print(has_33([3, 1, 3]))"
      ]
    },
    {
      "cell_type": "markdown",
      "source": [
        "*******DAY 2********\n",
        "Python coding question:\n",
        "\n",
        "LESSER OF TWO EVENS: Write a function that returns the lesser of two given numbers if both numbers are even, but returns the greater if one or both numbers are odd.\n",
        "\n",
        "Desired output:\n",
        "\n",
        "lesser_of_two_evens(2,4)---> 2\n",
        "\n",
        "lesser_of_two_evens(2,3)---> 3\n",
        "\n",
        "lesser_of_two_evens(3,4)---> 4"
      ],
      "metadata": {
        "id": "aTHHF2-tgoCH"
      }
    },
    {
      "cell_type": "code",
      "source": [
        "def lesser_of_two_evens(a,b):\n",
        "  if a%2==0 and b%2==0:\n",
        "    if a > b:\n",
        "      return b\n",
        "    else:\n",
        "      return a\n",
        "  else:\n",
        "    if a > b:\n",
        "      return a\n",
        "    else:\n",
        "      return b\n",
        "\n",
        "print(lesser_of_two_evens(2,4))\n",
        "print(lesser_of_two_evens(2,3))\n",
        "print(lesser_of_two_evens(3,4))"
      ],
      "metadata": {
        "colab": {
          "base_uri": "https://localhost:8080/"
        },
        "id": "_vcVmVzae1si",
        "outputId": "09e22bef-614c-416b-ce67-95e95036dd5a"
      },
      "execution_count": 12,
      "outputs": [
        {
          "output_type": "stream",
          "name": "stdout",
          "text": [
            "2\n",
            "3\n",
            "4\n"
          ]
        }
      ]
    },
    {
      "cell_type": "markdown",
      "source": [
        "********DAY 3********\n",
        "Python coding question:\n",
        "\n",
        "Write a Python function that takes a list and returns a new list with unique elements of the first list.\n",
        "\n",
        "Sample List : [1,1,1,1,2,2,3,3,3,3,4,5]\n",
        "Unique List : [1, 2, 3, 4, 5]"
      ],
      "metadata": {
        "id": "wsIjpgOYhuv_"
      }
    },
    {
      "cell_type": "code",
      "source": [
        "def uni_list(l):\n",
        "  s = set(l)\n",
        "  print(f\"old list : {l}\")\n",
        "  print(f\"new list : {list(s)}\")\n",
        "\n",
        "uni_list([1,1,1,1,2,2,3,3,3,3,4,5])\n"
      ],
      "metadata": {
        "colab": {
          "base_uri": "https://localhost:8080/"
        },
        "id": "P_4O4_3ghZl4",
        "outputId": "00af553c-b64a-46a0-b962-b60a64d05bef"
      },
      "execution_count": 13,
      "outputs": [
        {
          "output_type": "stream",
          "name": "stdout",
          "text": [
            "old list : [1, 1, 1, 1, 2, 2, 3, 3, 3, 3, 4, 5]\n",
            "new list : [1, 2, 3, 4, 5]\n"
          ]
        }
      ]
    },
    {
      "cell_type": "markdown",
      "source": [
        "********DAY 4********\n",
        "Python coding question:\n",
        "\n",
        "Write a Python function to check whether a string is pangram or not. \n",
        "\n",
        "(Assume the string passed in does not have any punctuation)\n",
        "Note:A pangram is a sentence containing every letter of the alphabet.\n",
        "\n",
        "Example:\n",
        "A quick brown fox jumps over the lazy dog."
      ],
      "metadata": {
        "id": "p21km3yZiTsO"
      }
    },
    {
      "cell_type": "code",
      "source": [
        "def pangram(s):\n",
        "  alphabet='abcdefghijklmnopqrstuvwxyz'\n",
        "  for char in alphabet:\n",
        "    if char not in s.lower():\n",
        "      return False\n",
        "  \n",
        "  return True\n",
        "\n",
        "pangram(\"A quick brown fox jumps over the lazy dog\")"
      ],
      "metadata": {
        "colab": {
          "base_uri": "https://localhost:8080/"
        },
        "id": "nslbqTmKiJ-k",
        "outputId": "e24fd7d6-1792-4b61-d879-f161a0b06e15"
      },
      "execution_count": 15,
      "outputs": [
        {
          "output_type": "execute_result",
          "data": {
            "text/plain": [
              "True"
            ]
          },
          "metadata": {},
          "execution_count": 15
        }
      ]
    },
    {
      "cell_type": "markdown",
      "source": [
        "********DAY 5********\n",
        "Python coding question:\n",
        "Write a function takes a two-word string and returns True if both words begin with same letter\n",
        "animal_crackers('Crazy Chocolate') --> True\n",
        "animal_crackers('Lazy Dog') --> False"
      ],
      "metadata": {
        "id": "GLbkpglVlIvs"
      }
    },
    {
      "cell_type": "code",
      "source": [
        "def animal_crackers(s):\n",
        "  s=s.lower()\n",
        "  l=s.split()\n",
        "  if l[0][0] == l[1][0]:\n",
        "    return True\n",
        "  else:\n",
        "    return False\n",
        "\n",
        "a=input(\"enter teo word string\")\n",
        "animal_crackers(a)"
      ],
      "metadata": {
        "colab": {
          "base_uri": "https://localhost:8080/"
        },
        "id": "aUFrA6Axk8rg",
        "outputId": "2c4727a8-a583-4c79-ebb5-da7346bd0a11"
      },
      "execution_count": 16,
      "outputs": [
        {
          "name": "stdout",
          "output_type": "stream",
          "text": [
            "enter teo word stringCrazy Chocolate\n"
          ]
        },
        {
          "output_type": "execute_result",
          "data": {
            "text/plain": [
              "True"
            ]
          },
          "metadata": {},
          "execution_count": 16
        }
      ]
    },
    {
      "cell_type": "code",
      "source": [
        "a=input(\"enter teo word string\")\n",
        "animal_crackers(a)"
      ],
      "metadata": {
        "colab": {
          "base_uri": "https://localhost:8080/"
        },
        "id": "g3hWQD1gmMOq",
        "outputId": "597899c1-296f-4ac1-f363-21ad19a0ba9f"
      },
      "execution_count": 17,
      "outputs": [
        {
          "name": "stdout",
          "output_type": "stream",
          "text": [
            "enter teo word stringLazy Dog\n"
          ]
        },
        {
          "output_type": "execute_result",
          "data": {
            "text/plain": [
              "False"
            ]
          },
          "metadata": {},
          "execution_count": 17
        }
      ]
    },
    {
      "cell_type": "markdown",
      "source": [
        "Write a function that takes in a list of integers and returns True if it contains 007 in order\n",
        "\n",
        " spy_game([1,2,4,0,0,7,5]) --> True\n",
        "\n",
        " spy_game([1,0,2,4,0,5,7]) --> True\n",
        " \n",
        " spy_game([1,7,2,0,4,5,0]) --> False"
      ],
      "metadata": {
        "id": "i5uyamdEmZYx"
      }
    },
    {
      "cell_type": "code",
      "source": [
        "def spy_game(l):\n",
        "  p=[]\n",
        "  for i in range(0,len(l)-1):\n",
        "    if l[i]==0 and l[i+1]==0 and l[i+2]==7:\n",
        "      p.append(l[i])\n",
        "      p.append(l[i+1])\n",
        "      p.append(l[i+2])\n",
        "  if p == [0,0,7]:\n",
        "    return True\n",
        "  else:\n",
        "    return False\n",
        "\n",
        "print(spy_game([1,2,4,0,0,7,5]))\n",
        "print(spy_game([1,0,2,4,0,5,7]))\n",
        "print(spy_game([1,7,2,0,4,5,0]))"
      ],
      "metadata": {
        "colab": {
          "base_uri": "https://localhost:8080/"
        },
        "id": "KdKzrpq3mRtE",
        "outputId": "8c725aef-fdfa-4846-a34b-122b14d849b9"
      },
      "execution_count": 20,
      "outputs": [
        {
          "output_type": "stream",
          "name": "stdout",
          "text": [
            "True\n",
            "False\n",
            "False\n"
          ]
        }
      ]
    },
    {
      "cell_type": "markdown",
      "source": [
        "********DAY 7********\n",
        "Python coding question:\n",
        "\n",
        "Define a function called myfunc that takes in a string,\n",
        "and returns a matching string where every even letter is uppercase, and every odd letter is lowercase. \n",
        "Desired output:\n",
        "myfunc('aNiMaL')-->True"
      ],
      "metadata": {
        "id": "GfmyndSPn3qF"
      }
    },
    {
      "cell_type": "code",
      "source": [
        "def myfunc(s):\n",
        "  m=''\n",
        "  for i in range(0,len(s)):\n",
        "    if i%2 !=0 :\n",
        "      m = m + s[i].upper()\n",
        "    else:\n",
        "      m = m + s[i].lower()\n",
        "  return m\n",
        "\n",
        "myfunc('abcdr')"
      ],
      "metadata": {
        "colab": {
          "base_uri": "https://localhost:8080/",
          "height": 35
        },
        "id": "Q8Tt1B0nnlQC",
        "outputId": "ce6da2cf-378f-422f-9371-ec3be27d5f83"
      },
      "execution_count": 24,
      "outputs": [
        {
          "output_type": "execute_result",
          "data": {
            "text/plain": [
              "'aBcDr'"
            ],
            "application/vnd.google.colaboratory.intrinsic+json": {
              "type": "string"
            }
          },
          "metadata": {},
          "execution_count": 24
        }
      ]
    },
    {
      "cell_type": "markdown",
      "source": [
        "Write a Python function that accepts a string and calculates the number of upper case letters and lower case letters.\n",
        "\n",
        "Sample String : 'Hello Mr. Rogers, how are you this fine Tuesday?'\n",
        "Expected Output : \n",
        "No. of Upper case characters : 4\n",
        "No. of Lower case Characters : 33"
      ],
      "metadata": {
        "id": "p7FbNJYcrEri"
      }
    },
    {
      "cell_type": "code",
      "source": [
        "def up_low(s):\n",
        "  d={\n",
        "      'upper':0,\n",
        "     'lower':0\n",
        "  }\n",
        "  for i in s:\n",
        "    if i.isupper():\n",
        "      d['upper'] = d['upper'] + 1\n",
        "    elif i.islower():\n",
        "      d['lower'] = d['lower'] + 1\n",
        "    else:\n",
        "      pass\n",
        "  return d\n",
        "\n",
        "\n",
        "up_low('Hello Mr. Rogers, how are you this fine Tuesday?')"
      ],
      "metadata": {
        "colab": {
          "base_uri": "https://localhost:8080/"
        },
        "id": "M2VNGZlppkJA",
        "outputId": "e6a9515c-8bf3-45d7-8e41-3e5bf228b6c9"
      },
      "execution_count": 28,
      "outputs": [
        {
          "output_type": "execute_result",
          "data": {
            "text/plain": [
              "{'upper': 4, 'lower': 33}"
            ]
          },
          "metadata": {},
          "execution_count": 28
        }
      ]
    },
    {
      "cell_type": "markdown",
      "source": [
        "Write a Python function that checks whether a word or phrase is palindrome or not.\n",
        "Example of Palindrome:\n",
        "Hannah\n",
        "Anna"
      ],
      "metadata": {
        "id": "ncLkLgqvslQt"
      }
    },
    {
      "cell_type": "code",
      "source": [
        "def palindrome(s):\n",
        "  s = s.lower()\n",
        "  if s[0:] == s[::-1]:\n",
        "    return \"Palindrome\"\n",
        "  else:\n",
        "    return \"Not plaindrome\"\n",
        "\n",
        "print(palindrome('Hannah'))\n",
        "\n",
        "print(palindrome('Anahna'))"
      ],
      "metadata": {
        "colab": {
          "base_uri": "https://localhost:8080/"
        },
        "id": "WQHYEop7rXeB",
        "outputId": "d00a72ea-de6d-4355-ffde-e3718ed62864"
      },
      "execution_count": 35,
      "outputs": [
        {
          "output_type": "stream",
          "name": "stdout",
          "text": [
            "Palindrome\n",
            "Not plaindrome\n"
          ]
        }
      ]
    },
    {
      "cell_type": "markdown",
      "source": [
        "Write a Python function to multiply all the numbers in a list.\n",
        "\n",
        "Sample List : [1, 2, 3, -4]\n",
        "Expected Output : -24"
      ],
      "metadata": {
        "id": "nQnHXkhdt8F5"
      }
    },
    {
      "cell_type": "code",
      "source": [
        "def mul_list(l):\n",
        "  m = 1\n",
        "  if len(l) == 0:\n",
        "    return \"mul not possible \"\n",
        "  else:\n",
        "    for i in l:\n",
        "      m = m*i\n",
        "    return f\"mul is {m}\"\n",
        "\n",
        "mul_list([1, 2, 3, -4])"
      ],
      "metadata": {
        "colab": {
          "base_uri": "https://localhost:8080/",
          "height": 35
        },
        "id": "kw1jwG0jtCmn",
        "outputId": "abac4e57-d72f-4ab0-f72e-69522ef5f23c"
      },
      "execution_count": 36,
      "outputs": [
        {
          "output_type": "execute_result",
          "data": {
            "text/plain": [
              "'mul is -24'"
            ],
            "application/vnd.google.colaboratory.intrinsic+json": {
              "type": "string"
            }
          },
          "metadata": {},
          "execution_count": 36
        }
      ]
    },
    {
      "cell_type": "markdown",
      "source": [
        "Given a string, return a string where for every character in the original there are three characters\n",
        "paper_doll('Hello') --> 'HHHeeellllllooo'\n",
        "paper_doll('Mississippi') --> 'MMMiiissssssiiippppppiii'"
      ],
      "metadata": {
        "id": "AKTB1Vj0upe6"
      }
    },
    {
      "cell_type": "code",
      "source": [
        "def mul_three(s):\n",
        "  m=''\n",
        "  for i in range(0,len(s)):\n",
        "    m = m + s[i]*3\n",
        "  return m\n",
        "\n",
        "print(mul_three('Hello'))\n",
        "print(mul_three('Mississippi'))\n",
        "\n"
      ],
      "metadata": {
        "colab": {
          "base_uri": "https://localhost:8080/"
        },
        "id": "dMGJ1NNVubKg",
        "outputId": "2140adc4-57a6-4542-fdec-510cddd93731"
      },
      "execution_count": 38,
      "outputs": [
        {
          "output_type": "stream",
          "name": "stdout",
          "text": [
            "HHHeeellllllooo\n",
            "MMMiiissssssiiissssssiiippppppiii\n"
          ]
        }
      ]
    },
    {
      "cell_type": "markdown",
      "source": [
        "Write a code to check whether a year is leap year or not.\n",
        "Note:A year that is evenly divisible by 100 is a leap year only if it is also evenly divisible by 400.\n",
        "\n",
        "Desired Output:\n",
        "is_leap(1994)-->Leap year\n",
        "is_leap(2100)-->not a Leap year\n",
        "is_leap(2000)—>Leap year"
      ],
      "metadata": {
        "id": "FlLOWRO3vh5h"
      }
    },
    {
      "cell_type": "code",
      "source": [
        "def is_leap(y):\n",
        "  if (y%4==0 and y%100!=0) or y%400 ==0 :\n",
        "    return (f\"{y} is a leap year\")\n",
        "  else:\n",
        "    return (f\"{y} not a leap year\")\n",
        "\n",
        "print(is_leap(1994))\n",
        "print(is_leap(2000))"
      ],
      "metadata": {
        "colab": {
          "base_uri": "https://localhost:8080/"
        },
        "id": "RbtFM1VKvIcL",
        "outputId": "120b9a8a-d4b5-4bd7-9285-c3354fc82883"
      },
      "execution_count": 43,
      "outputs": [
        {
          "output_type": "stream",
          "name": "stdout",
          "text": [
            "1994 not a leap year\n",
            "2000 is a leap year\n"
          ]
        }
      ]
    },
    {
      "cell_type": "markdown",
      "source": [
        "Python coding question:\n",
        "Write a function that capitalizes the first and fourth letters of a name.\n",
        "\n",
        "TC 1:capitalize(\"chandrali\")\n",
        "  'ChaNdrali'\n",
        "TC 2:capitalize(\"roy\")\n",
        "   'Name is too short!'"
      ],
      "metadata": {
        "id": "-5BxcA-OwuPX"
      }
    },
    {
      "cell_type": "code",
      "source": [
        "def cap_one_four(s):\n",
        "  if len(s) <4:\n",
        "    return 'Name is too short!'\n",
        "  else:\n",
        "    return s[0].upper() + s[1:3] + s[3].upper() + s[4:]\n",
        "\n",
        "print(cap_one_four('rohan'))\n",
        "print(cap_one_four('chandrali'))\n",
        "print(cap_one_four('roy'))"
      ],
      "metadata": {
        "colab": {
          "base_uri": "https://localhost:8080/"
        },
        "id": "VYP_aPVawB4Y",
        "outputId": "19c8c2a0-f3a2-4a36-9885-5775770e5a53"
      },
      "execution_count": 50,
      "outputs": [
        {
          "output_type": "stream",
          "name": "stdout",
          "text": [
            "RohAn\n",
            "ChaNdrali\n",
            "Name is too short!\n"
          ]
        }
      ]
    },
    {
      "cell_type": "markdown",
      "source": [
        "Print the list of integers from through as a string, without spaces.\n",
        "Sample Input\n",
        "3\n",
        "Sample Output\n",
        "123"
      ],
      "metadata": {
        "id": "6JBKZ6xayUF-"
      }
    },
    {
      "cell_type": "code",
      "source": [
        "def to_list_str(m):\n",
        "  l=[]\n",
        "  for i in range(1,m+1):\n",
        "    l.append(str(i))\n",
        "  return ''.join(l)\n",
        "\n",
        "to_list_str(3)\n"
      ],
      "metadata": {
        "colab": {
          "base_uri": "https://localhost:8080/",
          "height": 35
        },
        "id": "kG2D8a1txXGC",
        "outputId": "4e13bc97-f129-4f30-d63b-b6bed5520239"
      },
      "execution_count": 52,
      "outputs": [
        {
          "output_type": "execute_result",
          "data": {
            "text/plain": [
              "'123'"
            ],
            "application/vnd.google.colaboratory.intrinsic+json": {
              "type": "string"
            }
          },
          "metadata": {},
          "execution_count": 52
        }
      ]
    },
    {
      "cell_type": "markdown",
      "source": [
        "Print only the words that start with \"s\" in a sentence.\n",
        "\n",
        "Input:\n",
        "Salad is healthy snack.\n",
        "\n",
        "Output:\n",
        "Salad\n",
        "snack"
      ],
      "metadata": {
        "id": "6Sinvw_TzQQB"
      }
    },
    {
      "cell_type": "code",
      "source": [
        "def starts_s(s):\n",
        "  s = s.lower()\n",
        "  l = s.split()\n",
        "  m=[]\n",
        "  for i in l:\n",
        "    if i[0] =='s':\n",
        "      m.append(i)\n",
        "  return m\n",
        "\n",
        "starts_s('Salad is healthy snack')"
      ],
      "metadata": {
        "colab": {
          "base_uri": "https://localhost:8080/"
        },
        "id": "UYOrBfnDy-Ib",
        "outputId": "c85bb75f-a948-4671-ee9c-1eac29b8480a"
      },
      "execution_count": 56,
      "outputs": [
        {
          "output_type": "execute_result",
          "data": {
            "text/plain": [
              "['salad', 'snack']"
            ]
          },
          "metadata": {},
          "execution_count": 56
        }
      ]
    },
    {
      "cell_type": "code",
      "source": [],
      "metadata": {
        "id": "l0XY9b1Xzm_3"
      },
      "execution_count": null,
      "outputs": []
    }
  ]
}