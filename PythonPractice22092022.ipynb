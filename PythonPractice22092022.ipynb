{
  "nbformat": 4,
  "nbformat_minor": 0,
  "metadata": {
    "colab": {
      "provenance": [],
      "collapsed_sections": [],
      "authorship_tag": "ABX9TyMKV/3Q/QTXvSk3ztAnkb0Z",
      "include_colab_link": true
    },
    "kernelspec": {
      "name": "python3",
      "display_name": "Python 3"
    },
    "language_info": {
      "name": "python"
    }
  },
  "cells": [
    {
      "cell_type": "markdown",
      "metadata": {
        "id": "view-in-github",
        "colab_type": "text"
      },
      "source": [
        "<a href=\"https://colab.research.google.com/github/rvjh/PythonPractice/blob/main/PythonPractice22092022.ipynb\" target=\"_parent\"><img src=\"https://colab.research.google.com/assets/colab-badge.svg\" alt=\"Open In Colab\"/></a>"
      ]
    },
    {
      "cell_type": "markdown",
      "source": [
        "********DAY 1********\n",
        "\n",
        "Python coding question:\n",
        "\n",
        "Given a list of integers, return True if the array contains a 3 next to a 3 somewhere.\n",
        "\n",
        "Desired output:\n",
        "\n",
        "has_33([1, 3, 3]) → True\n",
        "\n",
        "has_33([1, 3, 1, 3]) → False\n",
        "\n",
        "has_33([3, 1, 3]) → False\n",
        "\n",
        "has_33([3,3,1]) → True"
      ],
      "metadata": {
        "id": "zSMxQl1oeER9"
      }
    },
    {
      "cell_type": "code",
      "execution_count": null,
      "metadata": {
        "id": "Dw1pcyLaJSo4",
        "colab": {
          "base_uri": "https://localhost:8080/"
        },
        "outputId": "7a775ebd-1d0e-4991-ba7b-9e73e5fb5877"
      },
      "outputs": [
        {
          "output_type": "stream",
          "name": "stdout",
          "text": [
            "True\n",
            "False\n",
            "False\n"
          ]
        }
      ],
      "source": [
        "def has_33(arr):\n",
        "  for idx in range(1,len(arr)):\n",
        "    if arr[idx]== 3 and arr[idx-1]==3:\n",
        "      return True\n",
        "    return False\n",
        "\n",
        "print(has_33([3,3,1]))\n",
        "print(has_33([1,3,1]))\n",
        "print(has_33([3, 1, 3]))"
      ]
    },
    {
      "cell_type": "markdown",
      "source": [
        "*******DAY 2********\n",
        "Python coding question:\n",
        "\n",
        "LESSER OF TWO EVENS: Write a function that returns the lesser of two given numbers if both numbers are even, but returns the greater if one or both numbers are odd.\n",
        "\n",
        "Desired output:\n",
        "\n",
        "lesser_of_two_evens(2,4)---> 2\n",
        "\n",
        "lesser_of_two_evens(2,3)---> 3\n",
        "\n",
        "lesser_of_two_evens(3,4)---> 4"
      ],
      "metadata": {
        "id": "aTHHF2-tgoCH"
      }
    },
    {
      "cell_type": "code",
      "source": [
        "def lesser_of_two_evens(a,b):\n",
        "  if a%2==0 and b%2==0:\n",
        "    if a > b:\n",
        "      return b\n",
        "    else:\n",
        "      return a\n",
        "  else:\n",
        "    if a > b:\n",
        "      return a\n",
        "    else:\n",
        "      return b\n",
        "\n",
        "print(lesser_of_two_evens(2,4))\n",
        "print(lesser_of_two_evens(2,3))\n",
        "print(lesser_of_two_evens(3,4))"
      ],
      "metadata": {
        "colab": {
          "base_uri": "https://localhost:8080/"
        },
        "id": "_vcVmVzae1si",
        "outputId": "09e22bef-614c-416b-ce67-95e95036dd5a"
      },
      "execution_count": null,
      "outputs": [
        {
          "output_type": "stream",
          "name": "stdout",
          "text": [
            "2\n",
            "3\n",
            "4\n"
          ]
        }
      ]
    },
    {
      "cell_type": "markdown",
      "source": [
        "********DAY 3********\n",
        "Python coding question:\n",
        "\n",
        "Write a Python function that takes a list and returns a new list with unique elements of the first list.\n",
        "\n",
        "Sample List : [1,1,1,1,2,2,3,3,3,3,4,5]\n",
        "Unique List : [1, 2, 3, 4, 5]"
      ],
      "metadata": {
        "id": "wsIjpgOYhuv_"
      }
    },
    {
      "cell_type": "code",
      "source": [
        "def uni_list(l):\n",
        "  s = set(l)\n",
        "  print(f\"old list : {l}\")\n",
        "  print(f\"new list : {list(s)}\")\n",
        "\n",
        "uni_list([1,1,1,1,2,2,3,3,3,3,4,5])\n"
      ],
      "metadata": {
        "colab": {
          "base_uri": "https://localhost:8080/"
        },
        "id": "P_4O4_3ghZl4",
        "outputId": "00af553c-b64a-46a0-b962-b60a64d05bef"
      },
      "execution_count": null,
      "outputs": [
        {
          "output_type": "stream",
          "name": "stdout",
          "text": [
            "old list : [1, 1, 1, 1, 2, 2, 3, 3, 3, 3, 4, 5]\n",
            "new list : [1, 2, 3, 4, 5]\n"
          ]
        }
      ]
    },
    {
      "cell_type": "markdown",
      "source": [
        "********DAY 4********\n",
        "Python coding question:\n",
        "\n",
        "Write a Python function to check whether a string is pangram or not. \n",
        "\n",
        "(Assume the string passed in does not have any punctuation)\n",
        "Note:A pangram is a sentence containing every letter of the alphabet.\n",
        "\n",
        "Example:\n",
        "A quick brown fox jumps over the lazy dog."
      ],
      "metadata": {
        "id": "p21km3yZiTsO"
      }
    },
    {
      "cell_type": "code",
      "source": [
        "def pangram(s):\n",
        "  alphabet='abcdefghijklmnopqrstuvwxyz'\n",
        "  for char in alphabet:\n",
        "    if char not in s.lower():\n",
        "      return False\n",
        "  \n",
        "  return True\n",
        "\n",
        "pangram(\"A quick brown fox jumps over the lazy dog\")"
      ],
      "metadata": {
        "colab": {
          "base_uri": "https://localhost:8080/"
        },
        "id": "nslbqTmKiJ-k",
        "outputId": "e24fd7d6-1792-4b61-d879-f161a0b06e15"
      },
      "execution_count": null,
      "outputs": [
        {
          "output_type": "execute_result",
          "data": {
            "text/plain": [
              "True"
            ]
          },
          "metadata": {},
          "execution_count": 15
        }
      ]
    },
    {
      "cell_type": "markdown",
      "source": [
        "********DAY 5********\n",
        "Python coding question:\n",
        "Write a function takes a two-word string and returns True if both words begin with same letter\n",
        "animal_crackers('Crazy Chocolate') --> True\n",
        "animal_crackers('Lazy Dog') --> False"
      ],
      "metadata": {
        "id": "GLbkpglVlIvs"
      }
    },
    {
      "cell_type": "code",
      "source": [
        "def animal_crackers(s):\n",
        "  s=s.lower()\n",
        "  l=s.split()\n",
        "  if l[0][0] == l[1][0]:\n",
        "    return True\n",
        "  else:\n",
        "    return False\n",
        "\n",
        "a=input(\"enter teo word string\")\n",
        "animal_crackers(a)"
      ],
      "metadata": {
        "colab": {
          "base_uri": "https://localhost:8080/"
        },
        "id": "aUFrA6Axk8rg",
        "outputId": "2c4727a8-a583-4c79-ebb5-da7346bd0a11"
      },
      "execution_count": null,
      "outputs": [
        {
          "name": "stdout",
          "output_type": "stream",
          "text": [
            "enter teo word stringCrazy Chocolate\n"
          ]
        },
        {
          "output_type": "execute_result",
          "data": {
            "text/plain": [
              "True"
            ]
          },
          "metadata": {},
          "execution_count": 16
        }
      ]
    },
    {
      "cell_type": "code",
      "source": [
        "a=input(\"enter teo word string\")\n",
        "animal_crackers(a)"
      ],
      "metadata": {
        "colab": {
          "base_uri": "https://localhost:8080/"
        },
        "id": "g3hWQD1gmMOq",
        "outputId": "597899c1-296f-4ac1-f363-21ad19a0ba9f"
      },
      "execution_count": null,
      "outputs": [
        {
          "name": "stdout",
          "output_type": "stream",
          "text": [
            "enter teo word stringLazy Dog\n"
          ]
        },
        {
          "output_type": "execute_result",
          "data": {
            "text/plain": [
              "False"
            ]
          },
          "metadata": {},
          "execution_count": 17
        }
      ]
    },
    {
      "cell_type": "markdown",
      "source": [
        "Write a function that takes in a list of integers and returns True if it contains 007 in order\n",
        "\n",
        " spy_game([1,2,4,0,0,7,5]) --> True\n",
        "\n",
        " spy_game([1,0,2,4,0,5,7]) --> True\n",
        " \n",
        " spy_game([1,7,2,0,4,5,0]) --> False"
      ],
      "metadata": {
        "id": "i5uyamdEmZYx"
      }
    },
    {
      "cell_type": "code",
      "source": [
        "def spy_game(l):\n",
        "  p=[]\n",
        "  for i in range(0,len(l)-1):\n",
        "    if l[i]==0 and l[i+1]==0 and l[i+2]==7:\n",
        "      p.append(l[i])\n",
        "      p.append(l[i+1])\n",
        "      p.append(l[i+2])\n",
        "  if p == [0,0,7]:\n",
        "    return True\n",
        "  else:\n",
        "    return False\n",
        "\n",
        "print(spy_game([1,2,4,0,0,7,5]))\n",
        "print(spy_game([1,0,2,4,0,5,7]))\n",
        "print(spy_game([1,7,2,0,4,5,0]))"
      ],
      "metadata": {
        "colab": {
          "base_uri": "https://localhost:8080/"
        },
        "id": "KdKzrpq3mRtE",
        "outputId": "8c725aef-fdfa-4846-a34b-122b14d849b9"
      },
      "execution_count": null,
      "outputs": [
        {
          "output_type": "stream",
          "name": "stdout",
          "text": [
            "True\n",
            "False\n",
            "False\n"
          ]
        }
      ]
    },
    {
      "cell_type": "markdown",
      "source": [
        "********DAY 7********\n",
        "Python coding question:\n",
        "\n",
        "Define a function called myfunc that takes in a string,\n",
        "and returns a matching string where every even letter is uppercase, and every odd letter is lowercase. \n",
        "Desired output:\n",
        "myfunc('aNiMaL')-->True"
      ],
      "metadata": {
        "id": "GfmyndSPn3qF"
      }
    },
    {
      "cell_type": "code",
      "source": [
        "def myfunc(s):\n",
        "  m=''\n",
        "  for i in range(0,len(s)):\n",
        "    if i%2 !=0 :\n",
        "      m = m + s[i].upper()\n",
        "    else:\n",
        "      m = m + s[i].lower()\n",
        "  return m\n",
        "\n",
        "myfunc('abcdr')"
      ],
      "metadata": {
        "colab": {
          "base_uri": "https://localhost:8080/",
          "height": 35
        },
        "id": "Q8Tt1B0nnlQC",
        "outputId": "ce6da2cf-378f-422f-9371-ec3be27d5f83"
      },
      "execution_count": null,
      "outputs": [
        {
          "output_type": "execute_result",
          "data": {
            "text/plain": [
              "'aBcDr'"
            ],
            "application/vnd.google.colaboratory.intrinsic+json": {
              "type": "string"
            }
          },
          "metadata": {},
          "execution_count": 24
        }
      ]
    },
    {
      "cell_type": "markdown",
      "source": [
        "Write a Python function that accepts a string and calculates the number of upper case letters and lower case letters.\n",
        "\n",
        "Sample String : 'Hello Mr. Rogers, how are you this fine Tuesday?'\n",
        "Expected Output : \n",
        "No. of Upper case characters : 4\n",
        "No. of Lower case Characters : 33"
      ],
      "metadata": {
        "id": "p7FbNJYcrEri"
      }
    },
    {
      "cell_type": "code",
      "source": [
        "def up_low(s):\n",
        "  d={\n",
        "      'upper':0,\n",
        "     'lower':0\n",
        "  }\n",
        "  for i in s:\n",
        "    if i.isupper():\n",
        "      d['upper'] = d['upper'] + 1\n",
        "    elif i.islower():\n",
        "      d['lower'] = d['lower'] + 1\n",
        "    else:\n",
        "      pass\n",
        "  return d\n",
        "\n",
        "\n",
        "up_low('Hello Mr. Rogers, how are you this fine Tuesday?')"
      ],
      "metadata": {
        "colab": {
          "base_uri": "https://localhost:8080/"
        },
        "id": "M2VNGZlppkJA",
        "outputId": "e6a9515c-8bf3-45d7-8e41-3e5bf228b6c9"
      },
      "execution_count": null,
      "outputs": [
        {
          "output_type": "execute_result",
          "data": {
            "text/plain": [
              "{'upper': 4, 'lower': 33}"
            ]
          },
          "metadata": {},
          "execution_count": 28
        }
      ]
    },
    {
      "cell_type": "markdown",
      "source": [
        "Write a Python function that checks whether a word or phrase is palindrome or not.\n",
        "Example of Palindrome:\n",
        "Hannah\n",
        "Anna"
      ],
      "metadata": {
        "id": "ncLkLgqvslQt"
      }
    },
    {
      "cell_type": "code",
      "source": [
        "def palindrome(s):\n",
        "  s = s.lower()\n",
        "  if s[0:] == s[::-1]:\n",
        "    return \"Palindrome\"\n",
        "  else:\n",
        "    return \"Not plaindrome\"\n",
        "\n",
        "print(palindrome('Hannah'))\n",
        "\n",
        "print(palindrome('Anahna'))"
      ],
      "metadata": {
        "colab": {
          "base_uri": "https://localhost:8080/"
        },
        "id": "WQHYEop7rXeB",
        "outputId": "d00a72ea-de6d-4355-ffde-e3718ed62864"
      },
      "execution_count": null,
      "outputs": [
        {
          "output_type": "stream",
          "name": "stdout",
          "text": [
            "Palindrome\n",
            "Not plaindrome\n"
          ]
        }
      ]
    },
    {
      "cell_type": "markdown",
      "source": [
        "Write a Python function to multiply all the numbers in a list.\n",
        "\n",
        "Sample List : [1, 2, 3, -4]\n",
        "Expected Output : -24"
      ],
      "metadata": {
        "id": "nQnHXkhdt8F5"
      }
    },
    {
      "cell_type": "code",
      "source": [
        "def mul_list(l):\n",
        "  m = 1\n",
        "  if len(l) == 0:\n",
        "    return \"mul not possible \"\n",
        "  else:\n",
        "    for i in l:\n",
        "      m = m*i\n",
        "    return f\"mul is {m}\"\n",
        "\n",
        "mul_list([1, 2, 3, -4])"
      ],
      "metadata": {
        "colab": {
          "base_uri": "https://localhost:8080/",
          "height": 35
        },
        "id": "kw1jwG0jtCmn",
        "outputId": "abac4e57-d72f-4ab0-f72e-69522ef5f23c"
      },
      "execution_count": null,
      "outputs": [
        {
          "output_type": "execute_result",
          "data": {
            "text/plain": [
              "'mul is -24'"
            ],
            "application/vnd.google.colaboratory.intrinsic+json": {
              "type": "string"
            }
          },
          "metadata": {},
          "execution_count": 36
        }
      ]
    },
    {
      "cell_type": "markdown",
      "source": [
        "Given a string, return a string where for every character in the original there are three characters\n",
        "paper_doll('Hello') --> 'HHHeeellllllooo'\n",
        "paper_doll('Mississippi') --> 'MMMiiissssssiiippppppiii'"
      ],
      "metadata": {
        "id": "AKTB1Vj0upe6"
      }
    },
    {
      "cell_type": "code",
      "source": [
        "def mul_three(s):\n",
        "  m=''\n",
        "  for i in range(0,len(s)):\n",
        "    m = m + s[i]*3\n",
        "  return m\n",
        "\n",
        "print(mul_three('Hello'))\n",
        "print(mul_three('Mississippi'))\n",
        "\n"
      ],
      "metadata": {
        "colab": {
          "base_uri": "https://localhost:8080/"
        },
        "id": "dMGJ1NNVubKg",
        "outputId": "2140adc4-57a6-4542-fdec-510cddd93731"
      },
      "execution_count": null,
      "outputs": [
        {
          "output_type": "stream",
          "name": "stdout",
          "text": [
            "HHHeeellllllooo\n",
            "MMMiiissssssiiissssssiiippppppiii\n"
          ]
        }
      ]
    },
    {
      "cell_type": "markdown",
      "source": [
        "Write a code to check whether a year is leap year or not.\n",
        "Note:A year that is evenly divisible by 100 is a leap year only if it is also evenly divisible by 400.\n",
        "\n",
        "Desired Output:\n",
        "is_leap(1994)-->Leap year\n",
        "is_leap(2100)-->not a Leap year\n",
        "is_leap(2000)—>Leap year"
      ],
      "metadata": {
        "id": "FlLOWRO3vh5h"
      }
    },
    {
      "cell_type": "code",
      "source": [
        "def is_leap(y):\n",
        "  if (y%4==0 and y%100!=0) or y%400 ==0 :\n",
        "    return (f\"{y} is a leap year\")\n",
        "  else:\n",
        "    return (f\"{y} not a leap year\")\n",
        "\n",
        "print(is_leap(1994))\n",
        "print(is_leap(2000))"
      ],
      "metadata": {
        "colab": {
          "base_uri": "https://localhost:8080/"
        },
        "id": "RbtFM1VKvIcL",
        "outputId": "120b9a8a-d4b5-4bd7-9285-c3354fc82883"
      },
      "execution_count": null,
      "outputs": [
        {
          "output_type": "stream",
          "name": "stdout",
          "text": [
            "1994 not a leap year\n",
            "2000 is a leap year\n"
          ]
        }
      ]
    },
    {
      "cell_type": "markdown",
      "source": [
        "Python coding question:\n",
        "Write a function that capitalizes the first and fourth letters of a name.\n",
        "\n",
        "TC 1:capitalize(\"chandrali\")\n",
        "  'ChaNdrali'\n",
        "TC 2:capitalize(\"roy\")\n",
        "   'Name is too short!'"
      ],
      "metadata": {
        "id": "-5BxcA-OwuPX"
      }
    },
    {
      "cell_type": "code",
      "source": [
        "def cap_one_four(s):\n",
        "  if len(s) <4:\n",
        "    return 'Name is too short!'\n",
        "  else:\n",
        "    return s[0].upper() + s[1:3] + s[3].upper() + s[4:]\n",
        "\n",
        "print(cap_one_four('rohan'))\n",
        "print(cap_one_four('chandrali'))\n",
        "print(cap_one_four('roy'))"
      ],
      "metadata": {
        "colab": {
          "base_uri": "https://localhost:8080/"
        },
        "id": "VYP_aPVawB4Y",
        "outputId": "19c8c2a0-f3a2-4a36-9885-5775770e5a53"
      },
      "execution_count": null,
      "outputs": [
        {
          "output_type": "stream",
          "name": "stdout",
          "text": [
            "RohAn\n",
            "ChaNdrali\n",
            "Name is too short!\n"
          ]
        }
      ]
    },
    {
      "cell_type": "markdown",
      "source": [
        "Print the list of integers from through as a string, without spaces.\n",
        "Sample Input\n",
        "3\n",
        "Sample Output\n",
        "123"
      ],
      "metadata": {
        "id": "6JBKZ6xayUF-"
      }
    },
    {
      "cell_type": "code",
      "source": [
        "def to_list_str(m):\n",
        "  l=[]\n",
        "  for i in range(1,m+1):\n",
        "    l.append(str(i))\n",
        "  return ''.join(l)\n",
        "\n",
        "to_list_str(3)\n"
      ],
      "metadata": {
        "colab": {
          "base_uri": "https://localhost:8080/",
          "height": 35
        },
        "id": "kG2D8a1txXGC",
        "outputId": "4e13bc97-f129-4f30-d63b-b6bed5520239"
      },
      "execution_count": null,
      "outputs": [
        {
          "output_type": "execute_result",
          "data": {
            "text/plain": [
              "'123'"
            ],
            "application/vnd.google.colaboratory.intrinsic+json": {
              "type": "string"
            }
          },
          "metadata": {},
          "execution_count": 52
        }
      ]
    },
    {
      "cell_type": "markdown",
      "source": [
        "Print only the words that start with \"s\" in a sentence.\n",
        "\n",
        "Input:\n",
        "Salad is healthy snack.\n",
        "\n",
        "Output:\n",
        "Salad\n",
        "snack"
      ],
      "metadata": {
        "id": "6Sinvw_TzQQB"
      }
    },
    {
      "cell_type": "code",
      "source": [
        "def starts_s(s):\n",
        "  s = s.lower()\n",
        "  l = s.split()\n",
        "  m=[]\n",
        "  for i in l:\n",
        "    if i[0] =='s':\n",
        "      m.append(i)\n",
        "  return m\n",
        "\n",
        "starts_s('Salad is healthy snack')"
      ],
      "metadata": {
        "colab": {
          "base_uri": "https://localhost:8080/"
        },
        "id": "UYOrBfnDy-Ib",
        "outputId": "c85bb75f-a948-4671-ee9c-1eac29b8480a"
      },
      "execution_count": null,
      "outputs": [
        {
          "output_type": "execute_result",
          "data": {
            "text/plain": [
              "['salad', 'snack']"
            ]
          },
          "metadata": {},
          "execution_count": 56
        }
      ]
    },
    {
      "cell_type": "markdown",
      "source": [
        "********DAY 18********\n",
        "Python coding question:\n",
        "\n",
        "Given an integer n, return True if n is within 10 of either 100 or 200.\n",
        "abs(90)--True\n",
        "abs(220)--False\n"
      ],
      "metadata": {
        "id": "bU4tGxx9Lh01"
      }
    },
    {
      "cell_type": "code",
      "source": [
        "def within(n):\n",
        "  if (n in range(90,111) or n in range(190,211)):\n",
        "    return True\n",
        "  else:\n",
        "    return False\n",
        "\n",
        "print(within(190))\n",
        "print(within(90))\n",
        "print(within(150))\n",
        "print(within(290))\n",
        "print(within(89))\n",
        "\n"
      ],
      "metadata": {
        "id": "l0XY9b1Xzm_3",
        "colab": {
          "base_uri": "https://localhost:8080/"
        },
        "outputId": "a549b29c-ea66-4f94-cc05-92ede0778c18"
      },
      "execution_count": null,
      "outputs": [
        {
          "output_type": "stream",
          "name": "stdout",
          "text": [
            "True\n",
            "True\n",
            "False\n",
            "False\n",
            "False\n"
          ]
        }
      ]
    },
    {
      "cell_type": "markdown",
      "source": [
        "********DAY 19********\n",
        "Python coding question:\n",
        "\n",
        "BLACKJACK: Given three integers between 1 and 11,\n",
        "if their sum is less than or equal to 21, return their sum. \n",
        "If their sum exceeds 21 and there's an eleven, reduce the total sum by 10. \n",
        "Finally, if the sum (even after adjustment) exceeds 21, return 'BUST'\n",
        "blackjack(5,6,7) --> 18\n",
        "blackjack(9,9,9) --> 'BUST'\n",
        "blackjack(9,9,11) --> 19"
      ],
      "metadata": {
        "id": "C7qj1HtINlHN"
      }
    },
    {
      "cell_type": "code",
      "source": [
        "def blackjack(a,b,c):\n",
        "  if a + b + c <= 21:\n",
        "    return a + b + c\n",
        "  elif (a+b+c) > 21 and (a == 11 or b == 11 or c == 11):\n",
        "    return a+b+c -10\n",
        "  else:\n",
        "    return 'BUST'\n",
        "    \n",
        "print(blackjack(5,6,7))\n",
        "print(blackjack(9,9,9))\n",
        "print(blackjack(9,9,11))"
      ],
      "metadata": {
        "colab": {
          "base_uri": "https://localhost:8080/"
        },
        "id": "RqikT0B7MYjm",
        "outputId": "0cf3cdd0-d45b-4f40-821a-5b764f25df02"
      },
      "execution_count": null,
      "outputs": [
        {
          "output_type": "stream",
          "name": "stdout",
          "text": [
            "18\n",
            "BUST\n",
            "19\n"
          ]
        }
      ]
    },
    {
      "cell_type": "markdown",
      "source": [
        "Write a Python code to accept a string and count the number of vowels and consonants.\n",
        "Print them separately."
      ],
      "metadata": {
        "id": "BTXDe8v95dFz"
      }
    },
    {
      "cell_type": "code",
      "source": [
        "def vol_con(s):\n",
        "  s = s.lower()\n",
        "  s = s.replace(\" \",'')\n",
        "  v = 0\n",
        "  c = 0\n",
        "  for i in s:\n",
        "    if i in ['a','e','i','o','u']:\n",
        "      v = v+1\n",
        "    else:\n",
        "      c = c+1\n",
        "\n",
        "  return f'no of voewls {v} and consonents {c}'\n",
        "\n",
        "vol_con(\"Emma is good developer. Emma is a writer\")"
      ],
      "metadata": {
        "colab": {
          "base_uri": "https://localhost:8080/",
          "height": 35
        },
        "id": "r_HiBo8M5cuv",
        "outputId": "a49d5299-04c5-4fab-d3aa-80f27d158215"
      },
      "execution_count": null,
      "outputs": [
        {
          "output_type": "execute_result",
          "data": {
            "text/plain": [
              "'no of voewls 15 and consonents 18'"
            ],
            "application/vnd.google.colaboratory.intrinsic+json": {
              "type": "string"
            }
          },
          "metadata": {},
          "execution_count": 10
        }
      ]
    },
    {
      "cell_type": "markdown",
      "source": [
        "Write a program to find the sum of squares of first 'n' natural numbers.\n",
        "Input : N = 4\n",
        "Output : 30"
      ],
      "metadata": {
        "id": "TapTvMOX3RVV"
      }
    },
    {
      "cell_type": "code",
      "source": [
        "\n",
        "def sum_of_n(a):\n",
        "  if a == 0:\n",
        "    return 0\n",
        "  else:\n",
        "    return (a*(a+1)*(2*a+1))/6\n",
        "\n",
        "m = int(input(\"Enter the nth term : \"))\n",
        "sum_of_n(m)"
      ],
      "metadata": {
        "colab": {
          "base_uri": "https://localhost:8080/"
        },
        "id": "FwPlsXNG3SKm",
        "outputId": "ad6d3f3f-8118-46ee-9db5-51f5b78c6739"
      },
      "execution_count": null,
      "outputs": [
        {
          "name": "stdout",
          "output_type": "stream",
          "text": [
            "Enter the nth term : 4\n"
          ]
        },
        {
          "output_type": "execute_result",
          "data": {
            "text/plain": [
              "30.0"
            ]
          },
          "metadata": {},
          "execution_count": 2
        }
      ]
    },
    {
      "cell_type": "markdown",
      "source": [
        "Write a program to find how many times substring “Emma” appears in the given string.\n",
        "input:\n",
        "str = \"Emma is good developer. Emma is a writer\"\n",
        "Output:\n",
        "Emma appeared 2 times\n"
      ],
      "metadata": {
        "id": "fk3BbccR4NJU"
      }
    },
    {
      "cell_type": "code",
      "source": [
        "def str_occ(s):\n",
        "  s = s.lower()\n",
        "  m = input(\"Enter the string to found : \")\n",
        "  c = s.count(m)\n",
        "\n",
        "  return f'the word {m} occuers {c} times. '\n",
        "\n",
        "str_occ(\"Emma is good developer. Emma is a writer\")\n"
      ],
      "metadata": {
        "colab": {
          "base_uri": "https://localhost:8080/",
          "height": 53
        },
        "id": "EHyHFluv3-G8",
        "outputId": "ff0e7331-365c-45b7-d85d-f5196f5bfe37"
      },
      "execution_count": null,
      "outputs": [
        {
          "name": "stdout",
          "output_type": "stream",
          "text": [
            "Enter the string to found : emma\n"
          ]
        },
        {
          "output_type": "execute_result",
          "data": {
            "text/plain": [
              "'the word emma occuers 2 times. '"
            ],
            "application/vnd.google.colaboratory.intrinsic+json": {
              "type": "string"
            }
          },
          "metadata": {},
          "execution_count": 7
        }
      ]
    },
    {
      "cell_type": "markdown",
      "source": [
        "Write a function in Python that accepts a credit card number. \n",
        "It should return a string where all the characters are hidden with an asterisk except the last four. \n",
        "For example, if the function gets sent \"4444444444444444\", then it should return \"4444\"."
      ],
      "metadata": {
        "id": "PHMzt4wk7JwM"
      }
    },
    {
      "cell_type": "code",
      "source": [
        "def return_credit(n):\n",
        "  if len(n)<12 or len(n)>12:\n",
        "    return 'Invalid card number '\n",
        "  else:\n",
        "    return 'X'*9+n[8:]\n",
        "\n",
        "return_credit('123456789012')"
      ],
      "metadata": {
        "colab": {
          "base_uri": "https://localhost:8080/",
          "height": 35
        },
        "id": "QDvyDuDV4dpK",
        "outputId": "46509eff-8d0d-472e-e43f-18845cefca3b"
      },
      "execution_count": null,
      "outputs": [
        {
          "output_type": "execute_result",
          "data": {
            "text/plain": [
              "'XXXXXXXXX9012'"
            ],
            "application/vnd.google.colaboratory.intrinsic+json": {
              "type": "string"
            }
          },
          "metadata": {},
          "execution_count": 23
        }
      ]
    },
    {
      "cell_type": "markdown",
      "source": [
        "Write a function in Python that accepts a list of any length that contains a mix of non-negative integers and strings.\n",
        "The function should return a list with only the integers in the original list in the same order.\n"
      ],
      "metadata": {
        "id": "E7RT3VM99m87"
      }
    },
    {
      "cell_type": "code",
      "source": [
        "def int_ret(l):\n",
        "  a=[]\n",
        "  for i in l:\n",
        "    if str(i).isdigit():\n",
        "      a.append(i)\n",
        "    else:\n",
        "      pass\n",
        "  return a\n",
        "\n",
        "a = [1,2,'rohan','ervb',23]\n",
        "int_ret(a)\n"
      ],
      "metadata": {
        "colab": {
          "base_uri": "https://localhost:8080/"
        },
        "id": "eOloK11t7p0m",
        "outputId": "8cfb0ade-8f74-4d2c-8ed4-1aa10bd45854"
      },
      "execution_count": null,
      "outputs": [
        {
          "output_type": "execute_result",
          "data": {
            "text/plain": [
              "[1, 2, 23]"
            ]
          },
          "metadata": {},
          "execution_count": 26
        }
      ]
    },
    {
      "cell_type": "code",
      "source": [
        "#SQL 1\n",
        "\n",
        "#ends with letter 'n'\n",
        "\n",
        "select country from Data\n",
        "where country like \"%n\""
      ],
      "metadata": {
        "id": "_x_RJ1dc-QxW"
      },
      "execution_count": null,
      "outputs": []
    },
    {
      "cell_type": "code",
      "source": [
        "size = 7\n",
        "m = (2 * size) - 2\n",
        "for i in range(0, size):\n",
        "    for j in range(0, m):\n",
        "        print(end=\" \")\n",
        "    # decrementing m after each loop\n",
        "    m = m - 1\n",
        "    for j in range(0, i + 1):\n",
        "        print(\"* \", end=' ')\n",
        "    print(\" \")"
      ],
      "metadata": {
        "colab": {
          "base_uri": "https://localhost:8080/"
        },
        "id": "ucRIrpubAGTd",
        "outputId": "860bfb5d-34e4-4fcb-f5ba-69b79e18985c"
      },
      "execution_count": null,
      "outputs": [
        {
          "output_type": "stream",
          "name": "stdout",
          "text": [
            "            *   \n",
            "           *  *   \n",
            "          *  *  *   \n",
            "         *  *  *  *   \n",
            "        *  *  *  *  *   \n",
            "       *  *  *  *  *  *   \n",
            "      *  *  *  *  *  *  *   \n"
          ]
        }
      ]
    },
    {
      "cell_type": "markdown",
      "source": [
        "Write a query that calculates the difference between the highest salaries found in the marketing and engineering departments. Output just the absolute difference in salaries"
      ],
      "metadata": {
        "id": "RDkBsRPwB6U4"
      }
    },
    {
      "cell_type": "code",
      "source": [
        "# Import your libraries\n",
        "import pandas as pd\n",
        "\n",
        "# Start writing code\n",
        "db_employee.head()\n",
        "\n",
        "#db_dept.head()\n",
        "\n",
        "c_df= db_dept.set_index('id').join(db_employee.set_index('department_id'))\n",
        "salary_difference = abs( c_df[c_df['department']=='engineering'].salary.max() - c_df[c_df['department']=='marketing'].salary.max())\n",
        "salary_difference"
      ],
      "metadata": {
        "id": "zZSHguCrAP3z"
      },
      "execution_count": null,
      "outputs": []
    },
    {
      "cell_type": "code",
      "source": [
        "SELECT\n",
        "ABS((SELECT max(salary)\n",
        "FROM db_employee emp\n",
        "JOIN db_dept dept ON emp.department_id = dept.id\n",
        "WHERE department = 'engineering') - (SELECT max(salary)\n",
        "FROM db_employee emp\n",
        "JOIN db_dept dept ON emp.department_id = dept.id\n",
        "WHERE department = 'marketing')) AS salary_diffe;"
      ],
      "metadata": {
        "id": "9MWMyzNVFptK"
      },
      "execution_count": null,
      "outputs": []
    },
    {
      "cell_type": "code",
      "source": [
        "def findSum(str1):\n",
        "    temp = \"0\"\n",
        "    Sum = 0\n",
        "    for ch in str1:\n",
        "      if (ch.isdigit()):\n",
        "        temp += ch\n",
        "\n",
        "      else:\n",
        "        Sum += int(temp)\n",
        "        temp = \"0\"\n",
        "    return Sum + int(temp)\n",
        " \n",
        "str1 = \"12abc20yz68\"\n",
        " \n",
        "# Function call\n",
        "print(findSum(str1))"
      ],
      "metadata": {
        "colab": {
          "base_uri": "https://localhost:8080/"
        },
        "id": "VFtZGjuh2UeU",
        "outputId": "4ee64953-8f20-4dad-ce8d-b023f9e45f7f"
      },
      "execution_count": null,
      "outputs": [
        {
          "output_type": "stream",
          "name": "stdout",
          "text": [
            "100\n"
          ]
        }
      ]
    },
    {
      "cell_type": "code",
      "source": [
        "## country name starts with a to z\n",
        "\n",
        "select * from Data\n",
        "where country like \"[a-z]%\""
      ],
      "metadata": {
        "id": "m0cr8YU93U9S"
      },
      "execution_count": null,
      "outputs": []
    },
    {
      "cell_type": "code",
      "source": [
        "def sum_of_two(a,b,v):\n",
        "  for i in a:\n",
        "    for j in b:\n",
        "      if i + j == v:\n",
        "        print(f\"Possibel Match : {i} and {j} and sum is : {i+j}\")\n",
        "\n",
        "sum_of_two([1,2,-3],[10,20,-30],22)"
      ],
      "metadata": {
        "colab": {
          "base_uri": "https://localhost:8080/"
        },
        "id": "131w7z5vRyUn",
        "outputId": "b0647343-9ce0-4077-bcb4-8b17ab9568c8"
      },
      "execution_count": null,
      "outputs": [
        {
          "output_type": "stream",
          "name": "stdout",
          "text": [
            "Possibel Match : 2 and 20 and sum is : 22\n"
          ]
        }
      ]
    },
    {
      "cell_type": "code",
      "source": [
        "#!/bin/python3\n",
        "\n",
        "import math\n",
        "import os\n",
        "import random\n",
        "import re\n",
        "import sys\n",
        "\n",
        "\n",
        "#\n",
        "# Complete the 'fizzBuzz' function below.\n",
        "#\n",
        "# The function accepts INTEGER n as parameter.\n",
        "#\n",
        "\n",
        "def fizzBuzz(n):\n",
        "    # Write your code here\n",
        "    for i in range(1,n+1):\n",
        "        if i%3==0 and i%5==0:\n",
        "            print(\"FizzBuzz\")\n",
        "        elif i%3==0 and i%5!=0:\n",
        "            print(\"Fizz\")\n",
        "        elif i%3!=0 and i%5==0:\n",
        "            print(\"Buzz\")\n",
        "        else:\n",
        "            print(i)\n",
        "if __name__ == '__main__':\n",
        "    n = int(input().strip())\n",
        "\n",
        "    fizzBuzz(n)\n"
      ],
      "metadata": {
        "colab": {
          "base_uri": "https://localhost:8080/"
        },
        "id": "H12UfNcPRyPX",
        "outputId": "a23a4bf5-4315-4329-d7d2-9d2f4f7d0621"
      },
      "execution_count": null,
      "outputs": [
        {
          "output_type": "stream",
          "name": "stdout",
          "text": [
            "15\n",
            "1\n",
            "2\n",
            "Fizz\n",
            "4\n",
            "Buzz\n",
            "Fizz\n",
            "7\n",
            "8\n",
            "Fizz\n",
            "Buzz\n",
            "11\n",
            "Fizz\n",
            "13\n",
            "14\n",
            "FizzBuzz\n"
          ]
        }
      ]
    },
    {
      "cell_type": "markdown",
      "source": [
        "Find the details of each customer regardless of whether the customer made an order. Output the customer's first name, last name, and the city along with the order details.\n",
        "You may have duplicate rows in your results due to a customer ordering several of the same items. Sort records based on the customer's first name and the order details in ascending order."
      ],
      "metadata": {
        "id": "sfZ0_UnZe7VN"
      }
    },
    {
      "cell_type": "markdown",
      "source": [],
      "metadata": {
        "id": "FWn8_gR1e8VL"
      }
    },
    {
      "cell_type": "code",
      "source": [
        "select first_name,\n",
        "       last_name,\n",
        "       city,\n",
        "       order_details\n",
        "from customers left join orders\n",
        "on customers.id = orders.cust_id\n",
        "order by first_name,order_details"
      ],
      "metadata": {
        "id": "lZzlh8yERyM5"
      },
      "execution_count": null,
      "outputs": []
    },
    {
      "cell_type": "code",
      "source": [
        "select c.first_name,\n",
        "       o.order_date,\n",
        "       o.order_details,\n",
        "       o.total_order_cost\n",
        "from customers c left join orders o\n",
        "on o.cust_id = c.id\n",
        "where c.first_name in ('Jill','Eva')\n",
        "order by cust_id"
      ],
      "metadata": {
        "id": "ToerQag8RyKC"
      },
      "execution_count": null,
      "outputs": []
    },
    {
      "cell_type": "code",
      "source": [
        "## select records that have a in the second position\n",
        "\n",
        "select country from Table\n",
        "where country like '%_a'"
      ],
      "metadata": {
        "id": "rSzLtC3tW-pb"
      },
      "execution_count": null,
      "outputs": []
    },
    {
      "cell_type": "code",
      "source": [
        "# Import your libraries\n",
        "import pandas as pd\n",
        "\n",
        "# Start writing code\n",
        "ms_employee_salary.head()\n",
        "\n",
        "r = ms_employee_salary.groupby(['id','first_name','last_name','department_id'])['salary'].max().reset_index().sort_values('id')"
      ],
      "metadata": {
        "id": "BuHLvf4QW-na"
      },
      "execution_count": null,
      "outputs": []
    },
    {
      "cell_type": "code",
      "source": [
        "# Import your libraries\n",
        "import pandas as pd\n",
        "\n",
        "# Start writing code\n",
        "customers.head()\n",
        "\n",
        "c = pd.merge(customers,orders,left_on='id',right_on='cust_id',how='left')\n",
        "\n",
        "r = c[['first_name','last_name','city','order_details']].sort_values(['first_name','order_details'])"
      ],
      "metadata": {
        "id": "F6dm1nT3W-kx"
      },
      "execution_count": null,
      "outputs": []
    },
    {
      "cell_type": "code",
      "source": [
        "import pandas as pd\n",
        "import numpy as np\n",
        "\n",
        "result = airbnb_search_details.groupby(['city','property_type'])['bedrooms','bathrooms'].mean().reset_index().rename(index=str, \n",
        "                                                                                                                     columns={\"bedrooms\": \"n_bedrooms_avg\", \"bathrooms\": \"n_bathrooms_avg\"})"
      ],
      "metadata": {
        "id": "gJjGtyg0W-iY"
      },
      "execution_count": null,
      "outputs": []
    },
    {
      "cell_type": "markdown",
      "source": [
        "Use a list comprehension to square each odd number in a list. The list is input by a sequence of comma-separated numbers. >Suppose the following input is supplied to the program:\n",
        "\n",
        "1,2,3,4,5,6,7,8,9\n",
        "Then, the output should be:\n",
        "\n",
        "1,9,25,49,81"
      ],
      "metadata": {
        "id": "gKbHCBkNnG3h"
      }
    },
    {
      "cell_type": "code",
      "source": [
        "def ret_square():\n",
        "  n = int(input(\"enter the no of turns : \"))\n",
        "  a=[]\n",
        "  for i in range(1,n+1):\n",
        "    b = int(input(\"Enter the no :\"))\n",
        "    a.append(b)\n",
        "  for i in a:\n",
        "    print(f\"{i} : {i**2}\")\n",
        "\n",
        "ret_square()"
      ],
      "metadata": {
        "id": "0YxDaaXAW-fh",
        "colab": {
          "base_uri": "https://localhost:8080/"
        },
        "outputId": "d49767de-27ba-461d-c8f8-0d4f4e352d7d"
      },
      "execution_count": null,
      "outputs": [
        {
          "output_type": "stream",
          "name": "stdout",
          "text": [
            "enter the no of turns : 6\n",
            "Enter the no :1\n",
            "Enter the no :2\n",
            "Enter the no :3\n",
            "Enter the no :4\n",
            "Enter the no :5\n",
            "Enter the no :6\n",
            "1 : 1\n",
            "2 : 4\n",
            "3 : 9\n",
            "4 : 16\n",
            "5 : 25\n",
            "6 : 36\n"
          ]
        }
      ]
    },
    {
      "cell_type": "markdown",
      "source": [
        "Write a program that computes the net amount of a bank account based a transaction log from console input. The transaction log format is shown as following:\n",
        "\n",
        "D 100\n",
        "W 200\n",
        "D means deposit while W means withdrawal.\n",
        "Suppose the following input is supplied to the program:\n",
        "\n",
        "D 300\n",
        "D 300\n",
        "W 200\n",
        "D 100\n",
        "Then, the output should be:\n",
        "\n",
        "500\n",
        "Hints:\n",
        "In case of input data being supplied to the question, it should be assumed to be a console input.\n",
        "\n"
      ],
      "metadata": {
        "id": "UFSAYAHvoD1K"
      }
    },
    {
      "cell_type": "code",
      "source": [
        "def bank_tran():\n",
        "  s = 0\n",
        "  while True:\n",
        "    n = input(\"enter d or w or b\").lower()\n",
        "    if n == 'd':\n",
        "      deposit = int(input(\"How much would you like to deposit? \"))\n",
        "      s = s + deposit\n",
        "    elif n == 'w':\n",
        "      wi = int(input(\"How much would you like to withdraw? \"))\n",
        "      s = s - wi\n",
        "    elif n == 'b':\n",
        "      print(s)\n",
        "    else:\n",
        "      break\n",
        "\n",
        "bank_tran()"
      ],
      "metadata": {
        "id": "1eDTso7nW-cm",
        "colab": {
          "base_uri": "https://localhost:8080/"
        },
        "outputId": "48c6372a-4379-4900-c432-949d87ca3b96"
      },
      "execution_count": null,
      "outputs": [
        {
          "name": "stdout",
          "output_type": "stream",
          "text": [
            "enter d or w or bd\n",
            "How much would you like to deposit? 300\n",
            "enter d or w or bd\n",
            "How much would you like to deposit? 300\n",
            "enter d or w or bb\n",
            "600\n",
            "enter d or w or bw\n",
            "How much would you like to withdraw? 200\n",
            "enter d or w or b\n"
          ]
        }
      ]
    },
    {
      "cell_type": "code",
      "source": [
        "# Import your libraries\n",
        "import pandas as pd\n",
        "\n",
        "# Start writing code\n",
        "facebook_employees.head()\n",
        "\n",
        "a = pd.merge(facebook_employees,facebook_hack_survey,left_on='id',right_on='employee_id')\n",
        "a.head(2)\n",
        "\n",
        "b = a.groupby(['location'])['popularity'].mean().reset_index()\n",
        "\n",
        "b\n",
        "\n",
        "#a['location'].unique()"
      ],
      "metadata": {
        "id": "FQx-wyMqW-ZO"
      },
      "execution_count": null,
      "outputs": []
    },
    {
      "cell_type": "code",
      "source": [
        "import pandas as pd\n",
        "import numpy as np\n",
        "\n",
        "employee['avg_salary'] = employee.groupby(['department'])['salary'].transform('mean')\n",
        "result = employee[['department','first_name','salary','avg_salary']]"
      ],
      "metadata": {
        "id": "wF3qGan7W-Wg"
      },
      "execution_count": null,
      "outputs": []
    },
    {
      "cell_type": "code",
      "source": [
        "# Import your libraries\n",
        "import pandas as pd\n",
        "\n",
        "# Start writing code\n",
        "employee.head()\n",
        "\n",
        "a = pd.merge(employee,employee,left_on='manager_id',right_on='id')\n",
        "a[a['salary_x'] > a['salary_y']][['first_name_x', 'salary_x']]"
      ],
      "metadata": {
        "id": "KQ05ZwbKW-T3"
      },
      "execution_count": null,
      "outputs": []
    },
    {
      "cell_type": "markdown",
      "source": [
        "Assuming that we have some email addresses in the \"username@companyname.com\" format, please write program to print the company name of a given email address. Both user names and company names are composed of letters only."
      ],
      "metadata": {
        "id": "rqQf3t4h3c-M"
      }
    },
    {
      "cell_type": "code",
      "source": [
        "def get_company():\n",
        "  n = input(\"Enter email : \")\n",
        "  n = n.lower()\n",
        "  l = n.split(\"@\")\n",
        "  a= l[1].replace('.com',\"\")\n",
        "  return f\"Company name : {a}\"\n",
        "get_company()\n"
      ],
      "metadata": {
        "colab": {
          "base_uri": "https://localhost:8080/",
          "height": 53
        },
        "id": "nOWl-4yW3dNZ",
        "outputId": "700d1212-a7b4-4dc1-dd4e-6f33433ce4be"
      },
      "execution_count": null,
      "outputs": [
        {
          "name": "stdout",
          "output_type": "stream",
          "text": [
            "Enter email : rohan.das@GLOBALIDS.COM\n"
          ]
        },
        {
          "output_type": "execute_result",
          "data": {
            "text/plain": [
              "'Company name : globalids'"
            ],
            "application/vnd.google.colaboratory.intrinsic+json": {
              "type": "string"
            }
          },
          "metadata": {},
          "execution_count": 4
        }
      ]
    },
    {
      "cell_type": "markdown",
      "source": [
        "Write a program which accepts a sequence of words separated by whitespace as input to print the words composed of digits only.\n",
        "\n",
        "Example: If the following words is given as input to the program:\n",
        "\n",
        "2 cats and 3 dogs.\n",
        "Then, the output of the program should be:\n",
        "\n",
        "['2', '3']"
      ],
      "metadata": {
        "id": "rfoOAlVZ4prp"
      }
    },
    {
      "cell_type": "code",
      "source": [
        "def is_word():\n",
        "  n  = input(\"Enter the sentence with space : \")\n",
        "  l = n.split(\" \")\n",
        "  a=[]\n",
        "  for i in l:\n",
        "    if i.isdigit()==True:\n",
        "      a.append(i)\n",
        "  return a\n",
        "\n",
        "is_word()\n",
        "\n",
        "\n",
        "\n",
        "\n"
      ],
      "metadata": {
        "colab": {
          "base_uri": "https://localhost:8080/"
        },
        "id": "_fbMBZd43zt_",
        "outputId": "8ac31988-d838-44ac-bb77-44f2d253055a"
      },
      "execution_count": null,
      "outputs": [
        {
          "name": "stdout",
          "output_type": "stream",
          "text": [
            "Enter the sentence with space : sum of 2 and 3 is 5\n"
          ]
        },
        {
          "output_type": "execute_result",
          "data": {
            "text/plain": [
              "['2', '3', '5']"
            ]
          },
          "metadata": {},
          "execution_count": 5
        }
      ]
    },
    {
      "cell_type": "markdown",
      "source": [
        "Print a unicode string \"hello world\"."
      ],
      "metadata": {
        "id": "u9ImqpY35x3X"
      }
    },
    {
      "cell_type": "code",
      "source": [
        "uni = u'hello world!'\n",
        "print(uni)"
      ],
      "metadata": {
        "colab": {
          "base_uri": "https://localhost:8080/"
        },
        "id": "Aw4eZnvz5gmV",
        "outputId": "f923cf74-8ad6-4cae-8567-e568281930f1"
      },
      "execution_count": null,
      "outputs": [
        {
          "output_type": "stream",
          "name": "stdout",
          "text": [
            "hello world!\n"
          ]
        }
      ]
    },
    {
      "cell_type": "markdown",
      "source": [
        "Write a program to compute 1/2+2/3+3/4+...+n/n+1 with a given n input by console (n>0)."
      ],
      "metadata": {
        "id": "GQ2DFRTo6Eu4"
      }
    },
    {
      "cell_type": "code",
      "source": [
        "def com_sum():\n",
        "  s = 0\n",
        "  n = int(input(\"for how many turn sum ? : \"))\n",
        "  for i in range(1,n+1):\n",
        "    s+= float(float(i)/(i+1))\n",
        "  return round(s,2)\n",
        "\n",
        "com_sum()"
      ],
      "metadata": {
        "colab": {
          "base_uri": "https://localhost:8080/"
        },
        "id": "Zu1XJKsD57lI",
        "outputId": "02d8111b-37d9-4c82-b028-ffe2b1940c4e"
      },
      "execution_count": null,
      "outputs": [
        {
          "name": "stdout",
          "output_type": "stream",
          "text": [
            "for how many turn sum ? : 5\n"
          ]
        },
        {
          "output_type": "execute_result",
          "data": {
            "text/plain": [
              "3.55"
            ]
          },
          "metadata": {},
          "execution_count": 10
        }
      ]
    },
    {
      "cell_type": "markdown",
      "source": [
        "Write a program to compute:\n",
        "\n",
        "f(n)=f(n-1)+100 when n>0\n",
        "and f(0)=0\n",
        "with a given n input by console (n>0).\n",
        "\n",
        "Example: If the following n is given as input to the program:"
      ],
      "metadata": {
        "id": "Lzz0Fm2S8SrH"
      }
    },
    {
      "cell_type": "code",
      "source": [
        "def f(n):\n",
        "  if n == 0:\n",
        "    return 0\n",
        "  else:\n",
        "    return f(n-1)+100\n",
        "\n",
        "f(5)"
      ],
      "metadata": {
        "colab": {
          "base_uri": "https://localhost:8080/"
        },
        "id": "FGAvEmsf6Qpm",
        "outputId": "54804001-a3f5-4306-d977-7bf8d805cfb2"
      },
      "execution_count": null,
      "outputs": [
        {
          "output_type": "execute_result",
          "data": {
            "text/plain": [
              "500"
            ]
          },
          "metadata": {},
          "execution_count": 11
        }
      ]
    },
    {
      "cell_type": "markdown",
      "source": [
        "he Fibonacci Sequence is computed based on the following formula:\n",
        "\n",
        "f(n)=0 if n=0\n",
        "f(n)=1 if n=1\n",
        "f(n)=f(n-1)+f(n-2) if n>1\n",
        "Please write a program to compute the value of f(n) with a given n input by console.\n",
        "\n",
        "Example: If the following n is given as input to the program:\n",
        "\n",
        "7\n",
        "Then, the output of the program should be:\n",
        "\n",
        "13"
      ],
      "metadata": {
        "id": "kmolnZny8t8F"
      }
    },
    {
      "cell_type": "code",
      "source": [
        "def f(n):\n",
        "    if n == 0: return 0\n",
        "    elif n == 1: return 1\n",
        "    else: return f(n-1)+f(n-2)\n",
        "\n",
        "n=int(input())\n",
        "print(f(n))"
      ],
      "metadata": {
        "colab": {
          "base_uri": "https://localhost:8080/"
        },
        "id": "hZevhaPm8jiw",
        "outputId": "043b24f0-81b1-4410-9f0d-db8fc63f5998"
      },
      "execution_count": null,
      "outputs": [
        {
          "output_type": "stream",
          "name": "stdout",
          "text": [
            "7\n",
            "13\n"
          ]
        }
      ]
    },
    {
      "cell_type": "code",
      "source": [
        "def fibo(n):\n",
        "  if n == 0: return 0\n",
        "  elif n == 1: return [0,1]\n",
        "  else:\n",
        "    s = [0,1]\n",
        "    a,b = 0,1\n",
        "    for i in range(2,n+1):\n",
        "      c = a + b\n",
        "      s.append(c)\n",
        "      a = b\n",
        "      b = c\n",
        "    return s\n",
        "fibo(10)\n",
        "\n"
      ],
      "metadata": {
        "colab": {
          "base_uri": "https://localhost:8080/"
        },
        "id": "DCE-ceUeAWvI",
        "outputId": "cb1d66ae-8f2b-4a81-e536-2bcf4e8f9b6b"
      },
      "execution_count": null,
      "outputs": [
        {
          "output_type": "execute_result",
          "data": {
            "text/plain": [
              "[0, 1, 1, 2, 3, 5, 8, 13, 21, 34, 55]"
            ]
          },
          "metadata": {},
          "execution_count": 16
        }
      ]
    },
    {
      "cell_type": "markdown",
      "source": [
        "even generator"
      ],
      "metadata": {
        "id": "wL6_P8iRzZDn"
      }
    },
    {
      "cell_type": "code",
      "source": [
        "def ev_gen(n):\n",
        "  a=[]\n",
        "  for i in range(0,n+1,2):\n",
        "    if i%2==0:\n",
        "      a.append(i)\n",
        "  return a\n",
        "\n",
        "ev_gen(10)"
      ],
      "metadata": {
        "id": "KEMNNMRR-_BT",
        "colab": {
          "base_uri": "https://localhost:8080/"
        },
        "outputId": "d55f8efa-0fa5-4606-8615-16100253af1f"
      },
      "execution_count": null,
      "outputs": [
        {
          "output_type": "execute_result",
          "data": {
            "text/plain": [
              "[0, 2, 4, 6, 8, 10]"
            ]
          },
          "metadata": {},
          "execution_count": 1
        }
      ]
    },
    {
      "cell_type": "markdown",
      "source": [
        "binary search"
      ],
      "metadata": {
        "id": "TIO5-80mLQVT"
      }
    },
    {
      "cell_type": "code",
      "source": [
        "def binary_search(lst, item):\n",
        "    low = 0\n",
        "    high = len(lst) - 1\n",
        "    \n",
        "    while low <= high:\n",
        "        mid = round((low + high) / 2)\n",
        "        \n",
        "        if lst[mid] == item:\n",
        "            return mid\n",
        "        elif lst[mid] > item:\n",
        "            high = mid - 1\n",
        "        else:\n",
        "            low = mid + 1\n",
        "    return None\n",
        "    \n",
        "lst = [1,3,5,7,]\n",
        "print(binary_search(lst, 9))"
      ],
      "metadata": {
        "id": "AkyeT-5l---e",
        "colab": {
          "base_uri": "https://localhost:8080/"
        },
        "outputId": "daf15cc6-c4d3-4276-a51f-dc0cfa7738c1"
      },
      "execution_count": null,
      "outputs": [
        {
          "output_type": "stream",
          "name": "stdout",
          "text": [
            "None\n"
          ]
        }
      ]
    },
    {
      "cell_type": "code",
      "source": [
        "def binary_search_Ascending(array, target):\n",
        "    lower = 0\n",
        "    upper = len(array)\n",
        "    print('Array Length:',upper)\n",
        "    while lower < upper:\n",
        "        x = (lower + upper) // 2\n",
        "        print('Middle Value:',x)\n",
        "        value = array[x]\n",
        "        if target == value:\n",
        "            return x\n",
        "        elif target > value:\n",
        "            lower = x\n",
        "        elif target < value:\n",
        "            upper = x\n",
        "\n",
        "Array = [1,5,8,10,12,13,55,66,73,78,82,85,88,99]\n",
        "print('The Value Found at Index:',binary_search_Ascending(Array, 82))"
      ],
      "metadata": {
        "id": "471Vd0Ha--7D",
        "colab": {
          "base_uri": "https://localhost:8080/"
        },
        "outputId": "e6ba27e0-8c3f-49d3-e00b-96b80bcd42f9"
      },
      "execution_count": null,
      "outputs": [
        {
          "output_type": "stream",
          "name": "stdout",
          "text": [
            "Array Length: 14\n",
            "Middle Value: 7\n",
            "Middle Value: 10\n",
            "The Value Found at Index: 10\n"
          ]
        }
      ]
    },
    {
      "cell_type": "markdown",
      "source": [
        "Please write a program to output a random even number between 0 and 10 inclusive using random module and list comprehension.\n",
        "\n"
      ],
      "metadata": {
        "id": "rfwESmAIOadD"
      }
    },
    {
      "cell_type": "code",
      "source": [
        "import random\n",
        "\n",
        "r = [i for i in range(0,11,2)]\n",
        "print(random.choice(r))"
      ],
      "metadata": {
        "id": "Oj3zzzEP--st",
        "colab": {
          "base_uri": "https://localhost:8080/"
        },
        "outputId": "07ac6baf-d800-4260-bfff-b66bddddb869"
      },
      "execution_count": null,
      "outputs": [
        {
          "output_type": "stream",
          "name": "stdout",
          "text": [
            "8\n"
          ]
        }
      ]
    },
    {
      "cell_type": "markdown",
      "source": [
        "Please write a program to output a random number, which is divisible by 5 and 7, between 10 and 150 inclusive using random module and list comprehension."
      ],
      "metadata": {
        "id": "EbQBW7kiS4QG"
      }
    },
    {
      "cell_type": "code",
      "source": [
        "import random\n",
        "\n",
        "r = [i for i in range(10,150) if i%5==0 and i%7==0 ]\n",
        "print(random.choice(r))"
      ],
      "metadata": {
        "colab": {
          "base_uri": "https://localhost:8080/"
        },
        "id": "UqpboVJpOsvu",
        "outputId": "d1cb5d05-8a59-458c-8e01-1fa8a2b98c08"
      },
      "execution_count": null,
      "outputs": [
        {
          "output_type": "stream",
          "name": "stdout",
          "text": [
            "70\n"
          ]
        }
      ]
    },
    {
      "cell_type": "markdown",
      "source": [
        "Please write a program to generate a list with 5 random numbers between 100 and 200 inclusive."
      ],
      "metadata": {
        "id": "SF4ER-YQTuHC"
      }
    },
    {
      "cell_type": "code",
      "source": [
        "import random\n",
        "\n",
        "r = [i for i in range(100,201)]\n",
        "print(random.sample(r,5))"
      ],
      "metadata": {
        "colab": {
          "base_uri": "https://localhost:8080/"
        },
        "id": "L0nDO1uLTXNk",
        "outputId": "f0f1a9a5-a238-4b75-fb3f-c608b641cfcf"
      },
      "execution_count": null,
      "outputs": [
        {
          "output_type": "stream",
          "name": "stdout",
          "text": [
            "[175, 178, 140, 149, 124]\n"
          ]
        }
      ]
    },
    {
      "cell_type": "code",
      "source": [
        "import random\n",
        "r = [i for i in range(100,201) if i%2==0]\n",
        "print(random.sample(r,5))"
      ],
      "metadata": {
        "colab": {
          "base_uri": "https://localhost:8080/"
        },
        "id": "09xKLmrjUD5o",
        "outputId": "6c14b38d-aef3-41d0-b806-2d33f0a61801"
      },
      "execution_count": null,
      "outputs": [
        {
          "output_type": "stream",
          "name": "stdout",
          "text": [
            "[148, 102, 128, 178, 130]\n"
          ]
        }
      ]
    },
    {
      "cell_type": "code",
      "source": [
        "import random\n",
        "r = [i for i in range(7,16)]\n",
        "print(random.choice(r))"
      ],
      "metadata": {
        "colab": {
          "base_uri": "https://localhost:8080/"
        },
        "id": "jpluzvx3Udlv",
        "outputId": "d4b2a512-b450-4182-f14d-d2d402339639"
      },
      "execution_count": null,
      "outputs": [
        {
          "output_type": "stream",
          "name": "stdout",
          "text": [
            "9\n"
          ]
        }
      ]
    },
    {
      "cell_type": "code",
      "source": [
        "import time\n",
        "\n",
        "before = time.time()\n",
        "for i in range(100):\n",
        "  x = 1 + 1\n",
        "after = time.time()\n",
        "e = after - before\n",
        "e\n"
      ],
      "metadata": {
        "colab": {
          "base_uri": "https://localhost:8080/"
        },
        "id": "wJ99Ai_EUyqM",
        "outputId": "f779c5df-a446-4f37-93e0-146f4e861446"
      },
      "execution_count": null,
      "outputs": [
        {
          "output_type": "execute_result",
          "data": {
            "text/plain": [
              "0.00011992454528808594"
            ]
          },
          "metadata": {},
          "execution_count": 8
        }
      ]
    },
    {
      "cell_type": "markdown",
      "source": [
        "Please write a program to generate all sentences where subject is in [\"I\", \"You\"] and verb is in [\"Play\", \"Love\"] and the object is in [\"Hockey\",\"Football\"]."
      ],
      "metadata": {
        "id": "pXtHWhxRW9j5"
      }
    },
    {
      "cell_type": "code",
      "source": [
        "for i in [\"I\", \"You\"]:\n",
        "  for j in [\"Play\", \"Love\"]:\n",
        "    for k in [\"Hockey\",\"Football\"]:\n",
        "      print(i +\" \"+ j + \" \" + k)"
      ],
      "metadata": {
        "colab": {
          "base_uri": "https://localhost:8080/"
        },
        "id": "Ay7GmGfcXMcs",
        "outputId": "8d5a1e17-3ece-41a9-8b57-9d71a662fc46"
      },
      "execution_count": null,
      "outputs": [
        {
          "output_type": "stream",
          "name": "stdout",
          "text": [
            "I Play Hockey\n",
            "I Play Football\n",
            "I Love Hockey\n",
            "I Love Football\n",
            "You Play Hockey\n",
            "You Play Football\n",
            "You Love Hockey\n",
            "You Love Football\n"
          ]
        }
      ]
    },
    {
      "cell_type": "markdown",
      "source": [
        "Please write a program to print the list after removing even numbers in [5,6,77,45,22,12,24]."
      ],
      "metadata": {
        "id": "RB8fCTxvZSmE"
      }
    },
    {
      "cell_type": "code",
      "source": [
        "l = [5,6,77,45,22,12,24]\n",
        "a = [i for i in l if i%2==0]\n",
        "a"
      ],
      "metadata": {
        "colab": {
          "base_uri": "https://localhost:8080/"
        },
        "id": "38Jkp9k1Y7wZ",
        "outputId": "127787aa-af9c-44a6-c2cc-1c8a39602365"
      },
      "execution_count": null,
      "outputs": [
        {
          "output_type": "execute_result",
          "data": {
            "text/plain": [
              "[6, 22, 12, 24]"
            ]
          },
          "metadata": {},
          "execution_count": 17
        }
      ]
    },
    {
      "cell_type": "markdown",
      "source": [
        "By using list comprehension, please write a program to print the list after removing numbers which are divisible by 5 and 7 in [12,24,35,70,88,120,155].\n",
        "\n"
      ],
      "metadata": {
        "id": "apnCcSXVZ3vI"
      }
    },
    {
      "cell_type": "code",
      "source": [
        "l = [12,24,35,70,88,120,155]\n",
        "a = [i for i in l if i%5==0 and i%7==0]\n",
        "a"
      ],
      "metadata": {
        "colab": {
          "base_uri": "https://localhost:8080/"
        },
        "id": "BFgL3pMmZhqA",
        "outputId": "295d4d5a-0b19-402d-a1c6-0e421748ac72"
      },
      "execution_count": null,
      "outputs": [
        {
          "output_type": "execute_result",
          "data": {
            "text/plain": [
              "[35, 70]"
            ]
          },
          "metadata": {},
          "execution_count": 18
        }
      ]
    },
    {
      "cell_type": "code",
      "source": [
        "li = [12,24,35,70,88,120,155]\n",
        "li = [li[i] for i in range(len(li)) if i%2 != 0 and i <= 6]\n",
        "print(li)"
      ],
      "metadata": {
        "colab": {
          "base_uri": "https://localhost:8080/"
        },
        "id": "i_lf2uSuaBw-",
        "outputId": "f14fac17-11b3-4b0b-e50d-a675b86ebf6c"
      },
      "execution_count": null,
      "outputs": [
        {
          "output_type": "stream",
          "name": "stdout",
          "text": [
            "[24, 70, 120]\n"
          ]
        }
      ]
    },
    {
      "cell_type": "markdown",
      "source": [
        "By using list comprehension, please write a program to print the list after removing the value 24 in [12,24,35,24,88,120,155]."
      ],
      "metadata": {
        "id": "JqKGjXajtg20"
      }
    },
    {
      "cell_type": "code",
      "source": [
        "l = [12,24,35,24,88,120,155]\n",
        "\n",
        "x = [ i for i in l if i!=24]\n",
        "x"
      ],
      "metadata": {
        "colab": {
          "base_uri": "https://localhost:8080/"
        },
        "id": "GaqwpBwYa75U",
        "outputId": "0134becb-cf40-46d1-b3b4-9b3c427f94b2"
      },
      "execution_count": null,
      "outputs": [
        {
          "output_type": "execute_result",
          "data": {
            "text/plain": [
              "[12, 35, 88, 120, 155]"
            ]
          },
          "metadata": {},
          "execution_count": 1
        }
      ]
    },
    {
      "cell_type": "markdown",
      "source": [
        "With two given lists [1,3,6,78,35,55] and [12,24,35,24,88,120,155], write a program to make a list whose elements are intersection of the above given lists."
      ],
      "metadata": {
        "id": "1v7TIXOQtvee"
      }
    },
    {
      "cell_type": "code",
      "source": [
        "a = [1,3,6,78,35,55]\n",
        "b = [12,24,35,24,88,120,155]\n",
        "c=[]\n",
        "for i in a:\n",
        "  if i in b:\n",
        "    c.append(i)\n",
        "\n",
        "c"
      ],
      "metadata": {
        "colab": {
          "base_uri": "https://localhost:8080/"
        },
        "id": "DjPS6Bzttn2S",
        "outputId": "47b6c8ab-4d3e-431a-b494-58ec3856e1e3"
      },
      "execution_count": null,
      "outputs": [
        {
          "output_type": "execute_result",
          "data": {
            "text/plain": [
              "[35]"
            ]
          },
          "metadata": {},
          "execution_count": 3
        }
      ]
    },
    {
      "cell_type": "markdown",
      "source": [
        "With a given list [12,24,35,24,88,120,155,88,120,155], write a program to print this list after removing all duplicate values with original order reserved."
      ],
      "metadata": {
        "id": "BQ5FbrGRuRHI"
      }
    },
    {
      "cell_type": "code",
      "source": [
        "a = [12,24,35,24,88,120,155,88,120,155]\n",
        "\n",
        "a = set(a)\n",
        "list(a).sort(reverse=False)"
      ],
      "metadata": {
        "id": "rkq6fXSet9Ib"
      },
      "execution_count": null,
      "outputs": []
    },
    {
      "cell_type": "markdown",
      "source": [
        "Define a class Person and its two child classes: Male and Female. All classes have a method \"getGender\" which can print \"Male\" for Male class and \"Female\" for Female class.\n",
        "\n"
      ],
      "metadata": {
        "id": "i2EmfTckvVel"
      }
    },
    {
      "cell_type": "code",
      "source": [
        "class Person():\n",
        "  def getGender(self):\n",
        "    return \"Unknown\"\n",
        "\n",
        "class Male(Person):\n",
        "  def getGender(self):\n",
        "    return \"Male\"\n",
        "\n",
        "class Female(Person):\n",
        "  def getGender(self):\n",
        "    return \"Female\"\n",
        "\n",
        "m = Male()\n",
        "f=Female()\n",
        "print(m.getGender())\n",
        "print(f.getGender())"
      ],
      "metadata": {
        "colab": {
          "base_uri": "https://localhost:8080/"
        },
        "id": "Ufl4R5yYuWqF",
        "outputId": "5206053a-8705-4152-ce34-e780b68cd959"
      },
      "execution_count": null,
      "outputs": [
        {
          "output_type": "stream",
          "name": "stdout",
          "text": [
            "Male\n",
            "Female\n"
          ]
        }
      ]
    },
    {
      "cell_type": "markdown",
      "source": [
        "Please write a program which count and print the numbers of each character in a string input by console.\n",
        "\n",
        "Example: If the following string is given as input to the program:\n",
        "\n",
        "abcdefgabc\n",
        "Then, the output of the program should be:\n",
        "\n",
        "a,2\n",
        "c,2\n",
        "b,2\n",
        "e,1\n",
        "d,1\n",
        "g,1\n",
        "f,1"
      ],
      "metadata": {
        "id": "NtYGJI8ZwORI"
      }
    },
    {
      "cell_type": "code",
      "source": [
        "def getString(s):\n",
        "  s = s.lower()\n",
        "  s = s.replace(\" \",\"\")\n",
        "  l = set([i for i in s])\n",
        "  for i in l:\n",
        "    print(f\"{i} : {s.count(i)}\")\n",
        "\n",
        "getString(\"Rohan Das\")\n",
        "print(\"*************\")\n",
        "getString(\"abcdefgabc\")"
      ],
      "metadata": {
        "colab": {
          "base_uri": "https://localhost:8080/"
        },
        "id": "KdaYVtl0v19g",
        "outputId": "527c6f6a-bf27-407a-fd56-c68f593af2d9"
      },
      "execution_count": null,
      "outputs": [
        {
          "output_type": "stream",
          "name": "stdout",
          "text": [
            "n : 1\n",
            "d : 1\n",
            "r : 1\n",
            "s : 1\n",
            "o : 1\n",
            "h : 1\n",
            "a : 2\n",
            "*************\n",
            "c : 2\n",
            "f : 1\n",
            "d : 1\n",
            "g : 1\n",
            "e : 1\n",
            "b : 2\n",
            "a : 2\n"
          ]
        }
      ]
    },
    {
      "cell_type": "markdown",
      "source": [
        "Please write a program which accepts a string from console and print it in reverse order.\n",
        "\n",
        "Example: If the following string is given as input to the program:*\n",
        "\n",
        "rise to vote sir\n",
        "Then, the output of the program should be:\n",
        "\n",
        "ris etov ot esir"
      ],
      "metadata": {
        "id": "P9mSAyCdxaiR"
      }
    },
    {
      "cell_type": "code",
      "source": [
        "def get_rev(s):\n",
        "  return s[::-1]\n",
        "\n",
        "get_rev(\"rohan das\")"
      ],
      "metadata": {
        "colab": {
          "base_uri": "https://localhost:8080/",
          "height": 35
        },
        "id": "IH9SYW2Jwfvd",
        "outputId": "92f1cc34-494d-4735-ccc0-b39bf12bf2b7"
      },
      "execution_count": null,
      "outputs": [
        {
          "output_type": "execute_result",
          "data": {
            "text/plain": [
              "'sad nahor'"
            ],
            "application/vnd.google.colaboratory.intrinsic+json": {
              "type": "string"
            }
          },
          "metadata": {},
          "execution_count": 27
        }
      ]
    },
    {
      "cell_type": "markdown",
      "source": [
        "Please write a program which prints all permutations of [1,2,3]"
      ],
      "metadata": {
        "id": "H2FA7MY3xtTA"
      }
    },
    {
      "cell_type": "code",
      "source": [
        "from itertools import permutations\n",
        "\n",
        "def permuation_generator(iterable):\n",
        "    p = permutations(iterable)\n",
        "    for i in p:\n",
        "        print(i)\n",
        "\n",
        "\n",
        "x = [1,2,3]\n",
        "permuation_generator(x)"
      ],
      "metadata": {
        "colab": {
          "base_uri": "https://localhost:8080/"
        },
        "id": "7SnbIUw2xkN8",
        "outputId": "785ff761-e247-4843-f888-a2e0b4a0552b"
      },
      "execution_count": null,
      "outputs": [
        {
          "output_type": "stream",
          "name": "stdout",
          "text": [
            "(1, 2, 3)\n",
            "(1, 3, 2)\n",
            "(2, 1, 3)\n",
            "(2, 3, 1)\n",
            "(3, 1, 2)\n",
            "(3, 2, 1)\n"
          ]
        }
      ]
    },
    {
      "cell_type": "markdown",
      "source": [
        "Given the participants' score sheet for your University Sports Day, you are required to find the runner-up score. You are given scores. Store them in a list and find the score of the runner-up.\n",
        "\n",
        "If the following string is given as input to the program:\n",
        "\n",
        "5\n",
        "2 3 6 6 5\n",
        "Then, the output of the program should be:\n",
        "\n",
        "5"
      ],
      "metadata": {
        "id": "4Lxfs2ebyoyd"
      }
    },
    {
      "cell_type": "code",
      "source": [
        "num = int(input())\n",
        "scores = list(map(int, input().split(' ')))\n",
        "winner = max(scores)\n",
        "lst = []\n",
        "\n",
        "if len(scores) != num:\n",
        "  print('length of score is greater than input given')\n",
        "  \n",
        "else:\n",
        "  for score in scores:\n",
        "    if winner > score:\n",
        "      lst.append(score)\n",
        "\n",
        "runnerup = max(lst)\n",
        "print(runnerup)"
      ],
      "metadata": {
        "colab": {
          "base_uri": "https://localhost:8080/"
        },
        "id": "Oqb2QExPyXzx",
        "outputId": "19e423aa-912a-4600-aca7-5b98ff3c6260"
      },
      "execution_count": null,
      "outputs": [
        {
          "output_type": "stream",
          "name": "stdout",
          "text": [
            "5\n",
            "2 3 6 6 5\n",
            "5\n"
          ]
        }
      ]
    },
    {
      "cell_type": "code",
      "source": [
        "from textwrap import wrap\n",
        "x = str(input(': '))\n",
        "w = int(input())\n",
        "z = list(wrap(x, w))\n",
        "for i in z:\n",
        "    print(i)"
      ],
      "metadata": {
        "colab": {
          "base_uri": "https://localhost:8080/"
        },
        "id": "TOPuWY-KyycO",
        "outputId": "9dd117e1-834f-4826-87b4-6e8ce6ee0432"
      },
      "execution_count": null,
      "outputs": [
        {
          "output_type": "stream",
          "name": "stdout",
          "text": [
            ": ABCDEFGHIJKLIMNOQRSTUVWXYZ\n",
            "4\n",
            "ABCD\n",
            "EFGH\n",
            "IJKL\n",
            "IMNO\n",
            "QRST\n",
            "UVWX\n",
            "YZ\n"
          ]
        }
      ]
    },
    {
      "cell_type": "markdown",
      "source": [
        "aemstrong"
      ],
      "metadata": {
        "id": "rA6EK3Otgs7i"
      }
    },
    {
      "cell_type": "code",
      "source": [
        "a = 'aba'\n",
        "\n",
        "if a[::] == a[::-1]:\n",
        "  print(\"a is palindrome\")\n",
        "else:\n",
        "  print(\"not\")"
      ],
      "metadata": {
        "id": "3CtlYSrvzVQ8",
        "colab": {
          "base_uri": "https://localhost:8080/"
        },
        "outputId": "06920586-abfd-4f56-f7d4-71bfa51f73c8"
      },
      "execution_count": null,
      "outputs": [
        {
          "output_type": "stream",
          "name": "stdout",
          "text": [
            "a is palindrome\n"
          ]
        }
      ]
    },
    {
      "cell_type": "markdown",
      "source": [
        "Capitalize\n"
      ],
      "metadata": {
        "id": "Asmuh5N3pXZ0"
      }
    },
    {
      "cell_type": "code",
      "source": [
        "\n",
        "import math\n",
        "import os\n",
        "import random\n",
        "import re\n",
        "import sys\n",
        "\n",
        "# Complete the solve function below.\n",
        "def solve(s):\n",
        "  return s.title()\n",
        "\n",
        "solve(\"rohan das\")\n",
        "    \n"
      ],
      "metadata": {
        "id": "9hsXJuvdg6nh",
        "colab": {
          "base_uri": "https://localhost:8080/",
          "height": 35
        },
        "outputId": "957e3ad2-06cd-4457-9da7-21375b602527"
      },
      "execution_count": null,
      "outputs": [
        {
          "output_type": "execute_result",
          "data": {
            "text/plain": [
              "'Rohan Das'"
            ],
            "application/vnd.google.colaboratory.intrinsic+json": {
              "type": "string"
            }
          },
          "metadata": {},
          "execution_count": 2
        }
      ]
    },
    {
      "cell_type": "code",
      "source": [
        "#!/bin/python3\n",
        "\n",
        "import math\n",
        "import os\n",
        "import random\n",
        "import re\n",
        "import sys\n",
        "\n",
        "# Complete the solve function below.\n",
        "def solve(s):\n",
        "    for i in s.split():\n",
        "        s = s.replace(i,i.capitalize())\n",
        "    return s\n",
        "\n",
        "if __name__ == '__main__':\n",
        "    fptr = open(os.environ['OUTPUT_PATH'], 'w')\n",
        "\n",
        "    s = input()\n",
        "\n",
        "    result = solve(s)\n",
        "\n",
        "    fptr.write(result + '\\n')\n",
        "\n",
        "    fptr.close()"
      ],
      "metadata": {
        "id": "f3DhQajRpbt5"
      },
      "execution_count": null,
      "outputs": []
    },
    {
      "cell_type": "code",
      "source": [
        "SELECT DISTINCT CITY\n",
        "FROM STATION\n",
        "WHERE CITY NOT REGEXP '[aeiou]$'"
      ],
      "metadata": {
        "id": "FaMQvGuS0NBv"
      },
      "execution_count": null,
      "outputs": []
    },
    {
      "cell_type": "code",
      "source": [
        "SELECT DISTINCT CITY\n",
        "FROM STATION\n",
        "WHERE CITY NOT RLIKE '^[aeiou]' OR CITY NOT REGEXP '[aeiou]$'"
      ],
      "metadata": {
        "id": "3UtCtGor07vQ"
      },
      "execution_count": null,
      "outputs": []
    },
    {
      "cell_type": "code",
      "source": [
        "SELECT DISTINCT CITY\n",
        "FROM STATION\n",
        "WHERE CITY NOT RLIKE '^[aeiou]' AND CITY NOT REGEXP '[aeiou]$'"
      ],
      "metadata": {
        "id": "XV8hQQHc1OHL"
      },
      "execution_count": null,
      "outputs": []
    },
    {
      "cell_type": "code",
      "source": [
        "def dict_square(n):\n",
        "  d=dict()\n",
        "  for i in range(1,n+1):\n",
        "    d[i] = i*i\n",
        "  return d\n",
        "\n",
        "dict_square(5)\n"
      ],
      "metadata": {
        "colab": {
          "base_uri": "https://localhost:8080/"
        },
        "id": "ipog0Zal2N55",
        "outputId": "4f98b19c-9ed7-40ba-9443-09941f85c606"
      },
      "execution_count": 1,
      "outputs": [
        {
          "output_type": "execute_result",
          "data": {
            "text/plain": [
              "{1: 1, 2: 4, 3: 9, 4: 16, 5: 25}"
            ]
          },
          "metadata": {},
          "execution_count": 1
        }
      ]
    },
    {
      "cell_type": "code",
      "source": [
        "thickness = int(input()) #This must be an odd number\n",
        "c = 'H'\n",
        "\n",
        "#Top Cone\n",
        "for i in range(thickness):\n",
        "  print((c*i).rjust(thickness-1)+c+(c*i).ljust(thickness-1))\n",
        "\n",
        "#Top Pillars\n",
        "for i in range(thickness+1):\n",
        "  print((c*thickness).center(thickness*2)+(c*thickness).center(thickness*6))\n",
        "\n",
        "#Middle Belt\n",
        "for i in range(int((thickness+1)/2)):\n",
        "  print((c*thickness*5).center(thickness*6) )   \n",
        "\n",
        "#Bottom Pillars\n",
        "for i in range(thickness+1):\n",
        "  print((c*thickness).center(thickness*2)+(c*thickness).center(thickness*6))\n",
        "\n",
        "#Bottom Cone\n",
        "for i in range(thickness):\n",
        "  print(((c*(thickness-i-1)).rjust(thickness)+c+(c*(thickness-i-1)).ljust(thickness)).rjust(thickness*6))"
      ],
      "metadata": {
        "colab": {
          "base_uri": "https://localhost:8080/"
        },
        "id": "U7JxMGxX2g8H",
        "outputId": "48359012-4cc2-4a98-ae38-bfc9d75bde0e"
      },
      "execution_count": 5,
      "outputs": [
        {
          "output_type": "stream",
          "name": "stdout",
          "text": [
            "5\n",
            "    H    \n",
            "   HHH   \n",
            "  HHHHH  \n",
            " HHHHHHH \n",
            "HHHHHHHHH\n",
            "  HHHHH               HHHHH             \n",
            "  HHHHH               HHHHH             \n",
            "  HHHHH               HHHHH             \n",
            "  HHHHH               HHHHH             \n",
            "  HHHHH               HHHHH             \n",
            "  HHHHH               HHHHH             \n",
            "  HHHHHHHHHHHHHHHHHHHHHHHHH   \n",
            "  HHHHHHHHHHHHHHHHHHHHHHHHH   \n",
            "  HHHHHHHHHHHHHHHHHHHHHHHHH   \n",
            "  HHHHH               HHHHH             \n",
            "  HHHHH               HHHHH             \n",
            "  HHHHH               HHHHH             \n",
            "  HHHHH               HHHHH             \n",
            "  HHHHH               HHHHH             \n",
            "  HHHHH               HHHHH             \n",
            "                    HHHHHHHHH \n",
            "                     HHHHHHH  \n",
            "                      HHHHH   \n",
            "                       HHH    \n",
            "                        H     \n"
          ]
        }
      ]
    },
    {
      "cell_type": "code",
      "source": [],
      "metadata": {
        "id": "-TKX0s2L3vkp"
      },
      "execution_count": null,
      "outputs": []
    }
  ]
}