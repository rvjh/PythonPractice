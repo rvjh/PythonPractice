{
  "nbformat": 4,
  "nbformat_minor": 0,
  "metadata": {
    "colab": {
      "provenance": [],
      "authorship_tag": "ABX9TyNP00dlAt6+vd/6pbbP7Jf9",
      "include_colab_link": true
    },
    "kernelspec": {
      "name": "python3",
      "display_name": "Python 3"
    },
    "language_info": {
      "name": "python"
    }
  },
  "cells": [
    {
      "cell_type": "markdown",
      "metadata": {
        "id": "view-in-github",
        "colab_type": "text"
      },
      "source": [
        "<a href=\"https://colab.research.google.com/github/rvjh/PythonPractice/blob/main/PythonPractice22092022.ipynb\" target=\"_parent\"><img src=\"https://colab.research.google.com/assets/colab-badge.svg\" alt=\"Open In Colab\"/></a>"
      ]
    },
    {
      "cell_type": "markdown",
      "source": [
        "********DAY 1********\n",
        "\n",
        "Python coding question:\n",
        "\n",
        "Given a list of integers, return True if the array contains a 3 next to a 3 somewhere.\n",
        "\n",
        "Desired output:\n",
        "\n",
        "has_33([1, 3, 3]) → True\n",
        "\n",
        "has_33([1, 3, 1, 3]) → False\n",
        "\n",
        "has_33([3, 1, 3]) → False\n",
        "\n",
        "has_33([3,3,1]) → True"
      ],
      "metadata": {
        "id": "zSMxQl1oeER9"
      }
    },
    {
      "cell_type": "code",
      "execution_count": null,
      "metadata": {
        "id": "Dw1pcyLaJSo4",
        "colab": {
          "base_uri": "https://localhost:8080/"
        },
        "outputId": "7a775ebd-1d0e-4991-ba7b-9e73e5fb5877"
      },
      "outputs": [
        {
          "output_type": "stream",
          "name": "stdout",
          "text": [
            "True\n",
            "False\n",
            "False\n"
          ]
        }
      ],
      "source": [
        "def has_33(arr):\n",
        "  for idx in range(1,len(arr)):\n",
        "    if arr[idx]== 3 and arr[idx-1]==3:\n",
        "      return True\n",
        "    return False\n",
        "\n",
        "print(has_33([3,3,1]))\n",
        "print(has_33([1,3,1]))\n",
        "print(has_33([3, 1, 3]))"
      ]
    },
    {
      "cell_type": "markdown",
      "source": [
        "*******DAY 2********\n",
        "Python coding question:\n",
        "\n",
        "LESSER OF TWO EVENS: Write a function that returns the lesser of two given numbers if both numbers are even, but returns the greater if one or both numbers are odd.\n",
        "\n",
        "Desired output:\n",
        "\n",
        "lesser_of_two_evens(2,4)---> 2\n",
        "\n",
        "lesser_of_two_evens(2,3)---> 3\n",
        "\n",
        "lesser_of_two_evens(3,4)---> 4"
      ],
      "metadata": {
        "id": "aTHHF2-tgoCH"
      }
    },
    {
      "cell_type": "code",
      "source": [
        "def lesser_of_two_evens(a,b):\n",
        "  if a%2==0 and b%2==0:\n",
        "    if a > b:\n",
        "      return b\n",
        "    else:\n",
        "      return a\n",
        "  else:\n",
        "    if a > b:\n",
        "      return a\n",
        "    else:\n",
        "      return b\n",
        "\n",
        "print(lesser_of_two_evens(2,4))\n",
        "print(lesser_of_two_evens(2,3))\n",
        "print(lesser_of_two_evens(3,4))"
      ],
      "metadata": {
        "colab": {
          "base_uri": "https://localhost:8080/"
        },
        "id": "_vcVmVzae1si",
        "outputId": "09e22bef-614c-416b-ce67-95e95036dd5a"
      },
      "execution_count": null,
      "outputs": [
        {
          "output_type": "stream",
          "name": "stdout",
          "text": [
            "2\n",
            "3\n",
            "4\n"
          ]
        }
      ]
    },
    {
      "cell_type": "markdown",
      "source": [
        "********DAY 3********\n",
        "Python coding question:\n",
        "\n",
        "Write a Python function that takes a list and returns a new list with unique elements of the first list.\n",
        "\n",
        "Sample List : [1,1,1,1,2,2,3,3,3,3,4,5]\n",
        "Unique List : [1, 2, 3, 4, 5]"
      ],
      "metadata": {
        "id": "wsIjpgOYhuv_"
      }
    },
    {
      "cell_type": "code",
      "source": [
        "def uni_list(l):\n",
        "  s = set(l)\n",
        "  print(f\"old list : {l}\")\n",
        "  print(f\"new list : {list(s)}\")\n",
        "\n",
        "uni_list([1,1,1,1,2,2,3,3,3,3,4,5])\n"
      ],
      "metadata": {
        "colab": {
          "base_uri": "https://localhost:8080/"
        },
        "id": "P_4O4_3ghZl4",
        "outputId": "00af553c-b64a-46a0-b962-b60a64d05bef"
      },
      "execution_count": null,
      "outputs": [
        {
          "output_type": "stream",
          "name": "stdout",
          "text": [
            "old list : [1, 1, 1, 1, 2, 2, 3, 3, 3, 3, 4, 5]\n",
            "new list : [1, 2, 3, 4, 5]\n"
          ]
        }
      ]
    },
    {
      "cell_type": "markdown",
      "source": [
        "********DAY 4********\n",
        "Python coding question:\n",
        "\n",
        "Write a Python function to check whether a string is pangram or not. \n",
        "\n",
        "(Assume the string passed in does not have any punctuation)\n",
        "Note:A pangram is a sentence containing every letter of the alphabet.\n",
        "\n",
        "Example:\n",
        "A quick brown fox jumps over the lazy dog."
      ],
      "metadata": {
        "id": "p21km3yZiTsO"
      }
    },
    {
      "cell_type": "code",
      "source": [
        "def pangram(s):\n",
        "  alphabet='abcdefghijklmnopqrstuvwxyz'\n",
        "  for char in alphabet:\n",
        "    if char not in s.lower():\n",
        "      return False\n",
        "  \n",
        "  return True\n",
        "\n",
        "pangram(\"A quick brown fox jumps over the lazy dog\")"
      ],
      "metadata": {
        "colab": {
          "base_uri": "https://localhost:8080/"
        },
        "id": "nslbqTmKiJ-k",
        "outputId": "e24fd7d6-1792-4b61-d879-f161a0b06e15"
      },
      "execution_count": null,
      "outputs": [
        {
          "output_type": "execute_result",
          "data": {
            "text/plain": [
              "True"
            ]
          },
          "metadata": {},
          "execution_count": 15
        }
      ]
    },
    {
      "cell_type": "markdown",
      "source": [
        "********DAY 5********\n",
        "Python coding question:\n",
        "Write a function takes a two-word string and returns True if both words begin with same letter\n",
        "animal_crackers('Crazy Chocolate') --> True\n",
        "animal_crackers('Lazy Dog') --> False"
      ],
      "metadata": {
        "id": "GLbkpglVlIvs"
      }
    },
    {
      "cell_type": "code",
      "source": [
        "def animal_crackers(s):\n",
        "  s=s.lower()\n",
        "  l=s.split()\n",
        "  if l[0][0] == l[1][0]:\n",
        "    return True\n",
        "  else:\n",
        "    return False\n",
        "\n",
        "a=input(\"enter teo word string\")\n",
        "animal_crackers(a)"
      ],
      "metadata": {
        "colab": {
          "base_uri": "https://localhost:8080/"
        },
        "id": "aUFrA6Axk8rg",
        "outputId": "2c4727a8-a583-4c79-ebb5-da7346bd0a11"
      },
      "execution_count": null,
      "outputs": [
        {
          "name": "stdout",
          "output_type": "stream",
          "text": [
            "enter teo word stringCrazy Chocolate\n"
          ]
        },
        {
          "output_type": "execute_result",
          "data": {
            "text/plain": [
              "True"
            ]
          },
          "metadata": {},
          "execution_count": 16
        }
      ]
    },
    {
      "cell_type": "code",
      "source": [
        "a=input(\"enter teo word string\")\n",
        "animal_crackers(a)"
      ],
      "metadata": {
        "colab": {
          "base_uri": "https://localhost:8080/"
        },
        "id": "g3hWQD1gmMOq",
        "outputId": "597899c1-296f-4ac1-f363-21ad19a0ba9f"
      },
      "execution_count": null,
      "outputs": [
        {
          "name": "stdout",
          "output_type": "stream",
          "text": [
            "enter teo word stringLazy Dog\n"
          ]
        },
        {
          "output_type": "execute_result",
          "data": {
            "text/plain": [
              "False"
            ]
          },
          "metadata": {},
          "execution_count": 17
        }
      ]
    },
    {
      "cell_type": "markdown",
      "source": [
        "Write a function that takes in a list of integers and returns True if it contains 007 in order\n",
        "\n",
        " spy_game([1,2,4,0,0,7,5]) --> True\n",
        "\n",
        " spy_game([1,0,2,4,0,5,7]) --> True\n",
        " \n",
        " spy_game([1,7,2,0,4,5,0]) --> False"
      ],
      "metadata": {
        "id": "i5uyamdEmZYx"
      }
    },
    {
      "cell_type": "code",
      "source": [
        "def spy_game(l):\n",
        "  p=[]\n",
        "  for i in range(0,len(l)-1):\n",
        "    if l[i]==0 and l[i+1]==0 and l[i+2]==7:\n",
        "      p.append(l[i])\n",
        "      p.append(l[i+1])\n",
        "      p.append(l[i+2])\n",
        "  if p == [0,0,7]:\n",
        "    return True\n",
        "  else:\n",
        "    return False\n",
        "\n",
        "print(spy_game([1,2,4,0,0,7,5]))\n",
        "print(spy_game([1,0,2,4,0,5,7]))\n",
        "print(spy_game([1,7,2,0,4,5,0]))"
      ],
      "metadata": {
        "colab": {
          "base_uri": "https://localhost:8080/"
        },
        "id": "KdKzrpq3mRtE",
        "outputId": "8c725aef-fdfa-4846-a34b-122b14d849b9"
      },
      "execution_count": null,
      "outputs": [
        {
          "output_type": "stream",
          "name": "stdout",
          "text": [
            "True\n",
            "False\n",
            "False\n"
          ]
        }
      ]
    },
    {
      "cell_type": "markdown",
      "source": [
        "********DAY 7********\n",
        "Python coding question:\n",
        "\n",
        "Define a function called myfunc that takes in a string,\n",
        "and returns a matching string where every even letter is uppercase, and every odd letter is lowercase. \n",
        "Desired output:\n",
        "myfunc('aNiMaL')-->True"
      ],
      "metadata": {
        "id": "GfmyndSPn3qF"
      }
    },
    {
      "cell_type": "code",
      "source": [
        "def myfunc(s):\n",
        "  m=''\n",
        "  for i in range(0,len(s)):\n",
        "    if i%2 !=0 :\n",
        "      m = m + s[i].upper()\n",
        "    else:\n",
        "      m = m + s[i].lower()\n",
        "  return m\n",
        "\n",
        "myfunc('abcdr')"
      ],
      "metadata": {
        "colab": {
          "base_uri": "https://localhost:8080/",
          "height": 35
        },
        "id": "Q8Tt1B0nnlQC",
        "outputId": "ce6da2cf-378f-422f-9371-ec3be27d5f83"
      },
      "execution_count": null,
      "outputs": [
        {
          "output_type": "execute_result",
          "data": {
            "text/plain": [
              "'aBcDr'"
            ],
            "application/vnd.google.colaboratory.intrinsic+json": {
              "type": "string"
            }
          },
          "metadata": {},
          "execution_count": 24
        }
      ]
    },
    {
      "cell_type": "markdown",
      "source": [
        "Write a Python function that accepts a string and calculates the number of upper case letters and lower case letters.\n",
        "\n",
        "Sample String : 'Hello Mr. Rogers, how are you this fine Tuesday?'\n",
        "Expected Output : \n",
        "No. of Upper case characters : 4\n",
        "No. of Lower case Characters : 33"
      ],
      "metadata": {
        "id": "p7FbNJYcrEri"
      }
    },
    {
      "cell_type": "code",
      "source": [
        "def up_low(s):\n",
        "  d={\n",
        "      'upper':0,\n",
        "     'lower':0\n",
        "  }\n",
        "  for i in s:\n",
        "    if i.isupper():\n",
        "      d['upper'] = d['upper'] + 1\n",
        "    elif i.islower():\n",
        "      d['lower'] = d['lower'] + 1\n",
        "    else:\n",
        "      pass\n",
        "  return d\n",
        "\n",
        "\n",
        "up_low('Hello Mr. Rogers, how are you this fine Tuesday?')"
      ],
      "metadata": {
        "colab": {
          "base_uri": "https://localhost:8080/"
        },
        "id": "M2VNGZlppkJA",
        "outputId": "e6a9515c-8bf3-45d7-8e41-3e5bf228b6c9"
      },
      "execution_count": null,
      "outputs": [
        {
          "output_type": "execute_result",
          "data": {
            "text/plain": [
              "{'upper': 4, 'lower': 33}"
            ]
          },
          "metadata": {},
          "execution_count": 28
        }
      ]
    },
    {
      "cell_type": "markdown",
      "source": [
        "Write a Python function that checks whether a word or phrase is palindrome or not.\n",
        "Example of Palindrome:\n",
        "Hannah\n",
        "Anna"
      ],
      "metadata": {
        "id": "ncLkLgqvslQt"
      }
    },
    {
      "cell_type": "code",
      "source": [
        "def palindrome(s):\n",
        "  s = s.lower()\n",
        "  if s[0:] == s[::-1]:\n",
        "    return \"Palindrome\"\n",
        "  else:\n",
        "    return \"Not plaindrome\"\n",
        "\n",
        "print(palindrome('Hannah'))\n",
        "\n",
        "print(palindrome('Anahna'))"
      ],
      "metadata": {
        "colab": {
          "base_uri": "https://localhost:8080/"
        },
        "id": "WQHYEop7rXeB",
        "outputId": "d00a72ea-de6d-4355-ffde-e3718ed62864"
      },
      "execution_count": null,
      "outputs": [
        {
          "output_type": "stream",
          "name": "stdout",
          "text": [
            "Palindrome\n",
            "Not plaindrome\n"
          ]
        }
      ]
    },
    {
      "cell_type": "markdown",
      "source": [
        "Write a Python function to multiply all the numbers in a list.\n",
        "\n",
        "Sample List : [1, 2, 3, -4]\n",
        "Expected Output : -24"
      ],
      "metadata": {
        "id": "nQnHXkhdt8F5"
      }
    },
    {
      "cell_type": "code",
      "source": [
        "def mul_list(l):\n",
        "  m = 1\n",
        "  if len(l) == 0:\n",
        "    return \"mul not possible \"\n",
        "  else:\n",
        "    for i in l:\n",
        "      m = m*i\n",
        "    return f\"mul is {m}\"\n",
        "\n",
        "mul_list([1, 2, 3, -4])"
      ],
      "metadata": {
        "colab": {
          "base_uri": "https://localhost:8080/",
          "height": 35
        },
        "id": "kw1jwG0jtCmn",
        "outputId": "abac4e57-d72f-4ab0-f72e-69522ef5f23c"
      },
      "execution_count": null,
      "outputs": [
        {
          "output_type": "execute_result",
          "data": {
            "text/plain": [
              "'mul is -24'"
            ],
            "application/vnd.google.colaboratory.intrinsic+json": {
              "type": "string"
            }
          },
          "metadata": {},
          "execution_count": 36
        }
      ]
    },
    {
      "cell_type": "markdown",
      "source": [
        "Given a string, return a string where for every character in the original there are three characters\n",
        "paper_doll('Hello') --> 'HHHeeellllllooo'\n",
        "paper_doll('Mississippi') --> 'MMMiiissssssiiippppppiii'"
      ],
      "metadata": {
        "id": "AKTB1Vj0upe6"
      }
    },
    {
      "cell_type": "code",
      "source": [
        "def mul_three(s):\n",
        "  m=''\n",
        "  for i in range(0,len(s)):\n",
        "    m = m + s[i]*3\n",
        "  return m\n",
        "\n",
        "print(mul_three('Hello'))\n",
        "print(mul_three('Mississippi'))\n",
        "\n"
      ],
      "metadata": {
        "colab": {
          "base_uri": "https://localhost:8080/"
        },
        "id": "dMGJ1NNVubKg",
        "outputId": "2140adc4-57a6-4542-fdec-510cddd93731"
      },
      "execution_count": null,
      "outputs": [
        {
          "output_type": "stream",
          "name": "stdout",
          "text": [
            "HHHeeellllllooo\n",
            "MMMiiissssssiiissssssiiippppppiii\n"
          ]
        }
      ]
    },
    {
      "cell_type": "markdown",
      "source": [
        "Write a code to check whether a year is leap year or not.\n",
        "Note:A year that is evenly divisible by 100 is a leap year only if it is also evenly divisible by 400.\n",
        "\n",
        "Desired Output:\n",
        "is_leap(1994)-->Leap year\n",
        "is_leap(2100)-->not a Leap year\n",
        "is_leap(2000)—>Leap year"
      ],
      "metadata": {
        "id": "FlLOWRO3vh5h"
      }
    },
    {
      "cell_type": "code",
      "source": [
        "def is_leap(y):\n",
        "  if (y%4==0 and y%100!=0) or y%400 ==0 :\n",
        "    return (f\"{y} is a leap year\")\n",
        "  else:\n",
        "    return (f\"{y} not a leap year\")\n",
        "\n",
        "print(is_leap(1994))\n",
        "print(is_leap(2000))"
      ],
      "metadata": {
        "colab": {
          "base_uri": "https://localhost:8080/"
        },
        "id": "RbtFM1VKvIcL",
        "outputId": "120b9a8a-d4b5-4bd7-9285-c3354fc82883"
      },
      "execution_count": null,
      "outputs": [
        {
          "output_type": "stream",
          "name": "stdout",
          "text": [
            "1994 not a leap year\n",
            "2000 is a leap year\n"
          ]
        }
      ]
    },
    {
      "cell_type": "markdown",
      "source": [
        "Python coding question:\n",
        "Write a function that capitalizes the first and fourth letters of a name.\n",
        "\n",
        "TC 1:capitalize(\"chandrali\")\n",
        "  'ChaNdrali'\n",
        "TC 2:capitalize(\"roy\")\n",
        "   'Name is too short!'"
      ],
      "metadata": {
        "id": "-5BxcA-OwuPX"
      }
    },
    {
      "cell_type": "code",
      "source": [
        "def cap_one_four(s):\n",
        "  if len(s) <4:\n",
        "    return 'Name is too short!'\n",
        "  else:\n",
        "    return s[0].upper() + s[1:3] + s[3].upper() + s[4:]\n",
        "\n",
        "print(cap_one_four('rohan'))\n",
        "print(cap_one_four('chandrali'))\n",
        "print(cap_one_four('roy'))"
      ],
      "metadata": {
        "colab": {
          "base_uri": "https://localhost:8080/"
        },
        "id": "VYP_aPVawB4Y",
        "outputId": "19c8c2a0-f3a2-4a36-9885-5775770e5a53"
      },
      "execution_count": null,
      "outputs": [
        {
          "output_type": "stream",
          "name": "stdout",
          "text": [
            "RohAn\n",
            "ChaNdrali\n",
            "Name is too short!\n"
          ]
        }
      ]
    },
    {
      "cell_type": "markdown",
      "source": [
        "Print the list of integers from through as a string, without spaces.\n",
        "Sample Input\n",
        "3\n",
        "Sample Output\n",
        "123"
      ],
      "metadata": {
        "id": "6JBKZ6xayUF-"
      }
    },
    {
      "cell_type": "code",
      "source": [
        "def to_list_str(m):\n",
        "  l=[]\n",
        "  for i in range(1,m+1):\n",
        "    l.append(str(i))\n",
        "  return ''.join(l)\n",
        "\n",
        "to_list_str(3)\n"
      ],
      "metadata": {
        "colab": {
          "base_uri": "https://localhost:8080/",
          "height": 35
        },
        "id": "kG2D8a1txXGC",
        "outputId": "4e13bc97-f129-4f30-d63b-b6bed5520239"
      },
      "execution_count": null,
      "outputs": [
        {
          "output_type": "execute_result",
          "data": {
            "text/plain": [
              "'123'"
            ],
            "application/vnd.google.colaboratory.intrinsic+json": {
              "type": "string"
            }
          },
          "metadata": {},
          "execution_count": 52
        }
      ]
    },
    {
      "cell_type": "markdown",
      "source": [
        "Print only the words that start with \"s\" in a sentence.\n",
        "\n",
        "Input:\n",
        "Salad is healthy snack.\n",
        "\n",
        "Output:\n",
        "Salad\n",
        "snack"
      ],
      "metadata": {
        "id": "6Sinvw_TzQQB"
      }
    },
    {
      "cell_type": "code",
      "source": [
        "def starts_s(s):\n",
        "  s = s.lower()\n",
        "  l = s.split()\n",
        "  m=[]\n",
        "  for i in l:\n",
        "    if i[0] =='s':\n",
        "      m.append(i)\n",
        "  return m\n",
        "\n",
        "starts_s('Salad is healthy snack')"
      ],
      "metadata": {
        "colab": {
          "base_uri": "https://localhost:8080/"
        },
        "id": "UYOrBfnDy-Ib",
        "outputId": "c85bb75f-a948-4671-ee9c-1eac29b8480a"
      },
      "execution_count": null,
      "outputs": [
        {
          "output_type": "execute_result",
          "data": {
            "text/plain": [
              "['salad', 'snack']"
            ]
          },
          "metadata": {},
          "execution_count": 56
        }
      ]
    },
    {
      "cell_type": "markdown",
      "source": [
        "********DAY 18********\n",
        "Python coding question:\n",
        "\n",
        "Given an integer n, return True if n is within 10 of either 100 or 200.\n",
        "abs(90)--True\n",
        "abs(220)--False\n"
      ],
      "metadata": {
        "id": "bU4tGxx9Lh01"
      }
    },
    {
      "cell_type": "code",
      "source": [
        "def within(n):\n",
        "  if (n in range(90,111) or n in range(190,211)):\n",
        "    return True\n",
        "  else:\n",
        "    return False\n",
        "\n",
        "print(within(190))\n",
        "print(within(90))\n",
        "print(within(150))\n",
        "print(within(290))\n",
        "print(within(89))\n",
        "\n"
      ],
      "metadata": {
        "id": "l0XY9b1Xzm_3",
        "colab": {
          "base_uri": "https://localhost:8080/"
        },
        "outputId": "a549b29c-ea66-4f94-cc05-92ede0778c18"
      },
      "execution_count": null,
      "outputs": [
        {
          "output_type": "stream",
          "name": "stdout",
          "text": [
            "True\n",
            "True\n",
            "False\n",
            "False\n",
            "False\n"
          ]
        }
      ]
    },
    {
      "cell_type": "markdown",
      "source": [
        "********DAY 19********\n",
        "Python coding question:\n",
        "\n",
        "BLACKJACK: Given three integers between 1 and 11,\n",
        "if their sum is less than or equal to 21, return their sum. \n",
        "If their sum exceeds 21 and there's an eleven, reduce the total sum by 10. \n",
        "Finally, if the sum (even after adjustment) exceeds 21, return 'BUST'\n",
        "blackjack(5,6,7) --> 18\n",
        "blackjack(9,9,9) --> 'BUST'\n",
        "blackjack(9,9,11) --> 19"
      ],
      "metadata": {
        "id": "C7qj1HtINlHN"
      }
    },
    {
      "cell_type": "code",
      "source": [
        "def blackjack(a,b,c):\n",
        "  if a + b + c <= 21:\n",
        "    return a + b + c\n",
        "  elif (a+b+c) > 21 and (a == 11 or b == 11 or c == 11):\n",
        "    return a+b+c -10\n",
        "  else:\n",
        "    return 'BUST'\n",
        "    \n",
        "print(blackjack(5,6,7))\n",
        "print(blackjack(9,9,9))\n",
        "print(blackjack(9,9,11))\n",
        "print(blackjack(5,6,7))\n",
        "print(blackjack(9,9,11))\n",
        "print(blackjack(9,9,11))"
      ],
      "metadata": {
        "colab": {
          "base_uri": "https://localhost:8080/"
        },
        "id": "RqikT0B7MYjm",
        "outputId": "943aab0c-70e9-41f5-be7e-1776e26d2274"
      },
      "execution_count": null,
      "outputs": [
        {
          "output_type": "stream",
          "name": "stdout",
          "text": [
            "18\n",
            "BUST\n",
            "19\n",
            "18\n",
            "19\n",
            "19\n"
          ]
        }
      ]
    },
    {
      "cell_type": "markdown",
      "source": [
        "Write a Python code to accept a string and count the number of vowels and consonants.\n",
        "Print them separately."
      ],
      "metadata": {
        "id": "BTXDe8v95dFz"
      }
    },
    {
      "cell_type": "code",
      "source": [
        "def vol_con(s):\n",
        "  s = s.lower()\n",
        "  s = s.replace(\" \",'')\n",
        "  v = 0\n",
        "  c = 0\n",
        "  for i in s:\n",
        "    if i in ['a','e','i','o','u']:\n",
        "      v = v+1\n",
        "    else:\n",
        "      c = c+1\n",
        "\n",
        "  return f'no of voewls {v} and consonents {c}'\n",
        "\n",
        "vol_con(\"Emma is good developer. Emma is a writer\")"
      ],
      "metadata": {
        "colab": {
          "base_uri": "https://localhost:8080/",
          "height": 35
        },
        "id": "r_HiBo8M5cuv",
        "outputId": "a49d5299-04c5-4fab-d3aa-80f27d158215"
      },
      "execution_count": null,
      "outputs": [
        {
          "output_type": "execute_result",
          "data": {
            "text/plain": [
              "'no of voewls 15 and consonents 18'"
            ],
            "application/vnd.google.colaboratory.intrinsic+json": {
              "type": "string"
            }
          },
          "metadata": {},
          "execution_count": 10
        }
      ]
    },
    {
      "cell_type": "markdown",
      "source": [
        "Write a program to find the sum of squares of first 'n' natural numbers.\n",
        "Input : N = 4\n",
        "Output : 30"
      ],
      "metadata": {
        "id": "TapTvMOX3RVV"
      }
    },
    {
      "cell_type": "code",
      "source": [
        "\n",
        "def sum_of_n(a):\n",
        "  if a == 0:\n",
        "    return 0\n",
        "  else:\n",
        "    return (a*(a+1)*(2*a+1))/6\n",
        "\n",
        "m = int(input(\"Enter the nth term : \"))\n",
        "sum_of_n(m)"
      ],
      "metadata": {
        "colab": {
          "base_uri": "https://localhost:8080/"
        },
        "id": "FwPlsXNG3SKm",
        "outputId": "ad6d3f3f-8118-46ee-9db5-51f5b78c6739"
      },
      "execution_count": null,
      "outputs": [
        {
          "name": "stdout",
          "output_type": "stream",
          "text": [
            "Enter the nth term : 4\n"
          ]
        },
        {
          "output_type": "execute_result",
          "data": {
            "text/plain": [
              "30.0"
            ]
          },
          "metadata": {},
          "execution_count": 2
        }
      ]
    },
    {
      "cell_type": "markdown",
      "source": [
        "Write a program to find how many times substring “Emma” appears in the given string.\n",
        "input:\n",
        "str = \"Emma is good developer. Emma is a writer\"\n",
        "Output:\n",
        "Emma appeared 2 times\n"
      ],
      "metadata": {
        "id": "fk3BbccR4NJU"
      }
    },
    {
      "cell_type": "code",
      "source": [
        "def str_occ(s):\n",
        "  s = s.lower()\n",
        "  m = input(\"Enter the string to found : \")\n",
        "  c = s.count(m)\n",
        "\n",
        "  return f'the word {m} occuers {c} times. '\n",
        "\n",
        "str_occ(\"Emma is good developer. Emma is a writer\")\n"
      ],
      "metadata": {
        "colab": {
          "base_uri": "https://localhost:8080/",
          "height": 53
        },
        "id": "EHyHFluv3-G8",
        "outputId": "ff0e7331-365c-45b7-d85d-f5196f5bfe37"
      },
      "execution_count": null,
      "outputs": [
        {
          "name": "stdout",
          "output_type": "stream",
          "text": [
            "Enter the string to found : emma\n"
          ]
        },
        {
          "output_type": "execute_result",
          "data": {
            "text/plain": [
              "'the word emma occuers 2 times. '"
            ],
            "application/vnd.google.colaboratory.intrinsic+json": {
              "type": "string"
            }
          },
          "metadata": {},
          "execution_count": 7
        }
      ]
    },
    {
      "cell_type": "markdown",
      "source": [
        "Write a function in Python that accepts a credit card number. \n",
        "It should return a string where all the characters are hidden with an asterisk except the last four. \n",
        "For example, if the function gets sent \"4444444444444444\", then it should return \"4444\"."
      ],
      "metadata": {
        "id": "PHMzt4wk7JwM"
      }
    },
    {
      "cell_type": "code",
      "source": [
        "def return_credit(n):\n",
        "  if len(n)<12 or len(n)>12:\n",
        "    return 'Invalid card number '\n",
        "  else:\n",
        "    return 'X'*9+n[8:]\n",
        "\n",
        "return_credit('123456789012')"
      ],
      "metadata": {
        "colab": {
          "base_uri": "https://localhost:8080/",
          "height": 35
        },
        "id": "QDvyDuDV4dpK",
        "outputId": "46509eff-8d0d-472e-e43f-18845cefca3b"
      },
      "execution_count": null,
      "outputs": [
        {
          "output_type": "execute_result",
          "data": {
            "text/plain": [
              "'XXXXXXXXX9012'"
            ],
            "application/vnd.google.colaboratory.intrinsic+json": {
              "type": "string"
            }
          },
          "metadata": {},
          "execution_count": 23
        }
      ]
    },
    {
      "cell_type": "markdown",
      "source": [
        "Write a function in Python that accepts a list of any length that contains a mix of non-negative integers and strings.\n",
        "The function should return a list with only the integers in the original list in the same order.\n"
      ],
      "metadata": {
        "id": "E7RT3VM99m87"
      }
    },
    {
      "cell_type": "code",
      "source": [
        "def int_ret(l):\n",
        "  a=[]\n",
        "  for i in l:\n",
        "    if str(i).isdigit():\n",
        "      a.append(i)\n",
        "    else:\n",
        "      pass\n",
        "  return a\n",
        "\n",
        "a = [1,2,'rohan','ervb',23]\n",
        "int_ret(a)\n"
      ],
      "metadata": {
        "colab": {
          "base_uri": "https://localhost:8080/"
        },
        "id": "eOloK11t7p0m",
        "outputId": "8cfb0ade-8f74-4d2c-8ed4-1aa10bd45854"
      },
      "execution_count": null,
      "outputs": [
        {
          "output_type": "execute_result",
          "data": {
            "text/plain": [
              "[1, 2, 23]"
            ]
          },
          "metadata": {},
          "execution_count": 26
        }
      ]
    },
    {
      "cell_type": "code",
      "source": [
        "#SQL 1\n",
        "\n",
        "#ends with letter 'n'\n",
        "\n",
        "select country from Data\n",
        "where country like \"%n\""
      ],
      "metadata": {
        "id": "_x_RJ1dc-QxW"
      },
      "execution_count": null,
      "outputs": []
    },
    {
      "cell_type": "code",
      "source": [
        "size = 7\n",
        "m = (2 * size) - 2\n",
        "for i in range(0, size):\n",
        "    for j in range(0, m):\n",
        "        print(end=\" \")\n",
        "    # decrementing m after each loop\n",
        "    m = m - 1\n",
        "    for j in range(0, i + 1):\n",
        "        print(\"* \", end=' ')\n",
        "    print(\" \")"
      ],
      "metadata": {
        "colab": {
          "base_uri": "https://localhost:8080/"
        },
        "id": "ucRIrpubAGTd",
        "outputId": "860bfb5d-34e4-4fcb-f5ba-69b79e18985c"
      },
      "execution_count": null,
      "outputs": [
        {
          "output_type": "stream",
          "name": "stdout",
          "text": [
            "            *   \n",
            "           *  *   \n",
            "          *  *  *   \n",
            "         *  *  *  *   \n",
            "        *  *  *  *  *   \n",
            "       *  *  *  *  *  *   \n",
            "      *  *  *  *  *  *  *   \n"
          ]
        }
      ]
    },
    {
      "cell_type": "markdown",
      "source": [
        "Write a query that calculates the difference between the highest salaries found in the marketing and engineering departments. Output just the absolute difference in salaries"
      ],
      "metadata": {
        "id": "RDkBsRPwB6U4"
      }
    },
    {
      "cell_type": "code",
      "source": [
        "# Import your libraries\n",
        "import pandas as pd\n",
        "\n",
        "# Start writing code\n",
        "db_employee.head()\n",
        "\n",
        "#db_dept.head()\n",
        "\n",
        "c_df= db_dept.set_index('id').join(db_employee.set_index('department_id'))\n",
        "salary_difference = abs( c_df[c_df['department']=='engineering'].salary.max() - c_df[c_df['department']=='marketing'].salary.max())\n",
        "salary_difference"
      ],
      "metadata": {
        "id": "zZSHguCrAP3z"
      },
      "execution_count": null,
      "outputs": []
    },
    {
      "cell_type": "code",
      "source": [
        "SELECT\n",
        "ABS((SELECT max(salary)\n",
        "FROM db_employee emp\n",
        "JOIN db_dept dept ON emp.department_id = dept.id\n",
        "WHERE department = 'engineering') - (SELECT max(salary)\n",
        "FROM db_employee emp\n",
        "JOIN db_dept dept ON emp.department_id = dept.id\n",
        "WHERE department = 'marketing')) AS salary_diffe;"
      ],
      "metadata": {
        "id": "9MWMyzNVFptK"
      },
      "execution_count": null,
      "outputs": []
    },
    {
      "cell_type": "code",
      "source": [
        "def findSum(str1):\n",
        "    temp = \"0\"\n",
        "    Sum = 0\n",
        "    for ch in str1:\n",
        "      if (ch.isdigit()):\n",
        "        temp += ch\n",
        "\n",
        "      else:\n",
        "        Sum += int(temp)\n",
        "        temp = \"0\"\n",
        "    return Sum + int(temp)\n",
        " \n",
        "str1 = \"12abc20yz68\"\n",
        " \n",
        "# Function call\n",
        "print(findSum(str1))"
      ],
      "metadata": {
        "colab": {
          "base_uri": "https://localhost:8080/"
        },
        "id": "VFtZGjuh2UeU",
        "outputId": "4ee64953-8f20-4dad-ce8d-b023f9e45f7f"
      },
      "execution_count": null,
      "outputs": [
        {
          "output_type": "stream",
          "name": "stdout",
          "text": [
            "100\n"
          ]
        }
      ]
    },
    {
      "cell_type": "code",
      "source": [
        "## country name starts with a to z\n",
        "\n",
        "select * from Data\n",
        "where country like \"[a-z]%\""
      ],
      "metadata": {
        "id": "m0cr8YU93U9S"
      },
      "execution_count": null,
      "outputs": []
    },
    {
      "cell_type": "code",
      "source": [
        "def sum_of_two(a,b,v):\n",
        "  for i in a:\n",
        "    for j in b:\n",
        "      if i + j == v:\n",
        "        print(f\"Possibel Match : {i} and {j} and sum is : {i+j}\")\n",
        "\n",
        "sum_of_two([1,2,-3],[10,20,-30],22)"
      ],
      "metadata": {
        "colab": {
          "base_uri": "https://localhost:8080/"
        },
        "id": "131w7z5vRyUn",
        "outputId": "b0647343-9ce0-4077-bcb4-8b17ab9568c8"
      },
      "execution_count": null,
      "outputs": [
        {
          "output_type": "stream",
          "name": "stdout",
          "text": [
            "Possibel Match : 2 and 20 and sum is : 22\n"
          ]
        }
      ]
    },
    {
      "cell_type": "code",
      "source": [
        "#!/bin/python3\n",
        "\n",
        "import math\n",
        "import os\n",
        "import random\n",
        "import re\n",
        "import sys\n",
        "\n",
        "\n",
        "#\n",
        "# Complete the 'fizzBuzz' function below.\n",
        "#\n",
        "# The function accepts INTEGER n as parameter.\n",
        "#\n",
        "\n",
        "def fizzBuzz(n):\n",
        "    # Write your code here\n",
        "    for i in range(1,n+1):\n",
        "        if i%3==0 and i%5==0:\n",
        "            print(\"FizzBuzz\")\n",
        "        elif i%3==0 and i%5!=0:\n",
        "            print(\"Fizz\")\n",
        "        elif i%3!=0 and i%5==0:\n",
        "            print(\"Buzz\")\n",
        "        else:\n",
        "            print(i)\n",
        "if __name__ == '__main__':\n",
        "    n = int(input().strip())\n",
        "\n",
        "    fizzBuzz(n)\n"
      ],
      "metadata": {
        "colab": {
          "base_uri": "https://localhost:8080/"
        },
        "id": "H12UfNcPRyPX",
        "outputId": "a23a4bf5-4315-4329-d7d2-9d2f4f7d0621"
      },
      "execution_count": null,
      "outputs": [
        {
          "output_type": "stream",
          "name": "stdout",
          "text": [
            "15\n",
            "1\n",
            "2\n",
            "Fizz\n",
            "4\n",
            "Buzz\n",
            "Fizz\n",
            "7\n",
            "8\n",
            "Fizz\n",
            "Buzz\n",
            "11\n",
            "Fizz\n",
            "13\n",
            "14\n",
            "FizzBuzz\n"
          ]
        }
      ]
    },
    {
      "cell_type": "markdown",
      "source": [
        "Find the details of each customer regardless of whether the customer made an order. Output the customer's first name, last name, and the city along with the order details.\n",
        "You may have duplicate rows in your results due to a customer ordering several of the same items. Sort records based on the customer's first name and the order details in ascending order."
      ],
      "metadata": {
        "id": "sfZ0_UnZe7VN"
      }
    },
    {
      "cell_type": "markdown",
      "source": [],
      "metadata": {
        "id": "FWn8_gR1e8VL"
      }
    },
    {
      "cell_type": "code",
      "source": [
        "select first_name,\n",
        "       last_name,\n",
        "       city,\n",
        "       order_details\n",
        "from customers left join orders\n",
        "on customers.id = orders.cust_id\n",
        "order by first_name,order_details"
      ],
      "metadata": {
        "id": "lZzlh8yERyM5"
      },
      "execution_count": null,
      "outputs": []
    },
    {
      "cell_type": "code",
      "source": [
        "select c.first_name,\n",
        "       o.order_date,\n",
        "       o.order_details,\n",
        "       o.total_order_cost\n",
        "from customers c left join orders o\n",
        "on o.cust_id = c.id\n",
        "where c.first_name in ('Jill','Eva')\n",
        "order by cust_id"
      ],
      "metadata": {
        "id": "ToerQag8RyKC"
      },
      "execution_count": null,
      "outputs": []
    },
    {
      "cell_type": "code",
      "source": [
        "## select records that have a in the second position\n",
        "\n",
        "select country from Table\n",
        "where country like '%_a'"
      ],
      "metadata": {
        "id": "rSzLtC3tW-pb"
      },
      "execution_count": null,
      "outputs": []
    },
    {
      "cell_type": "code",
      "source": [
        "# Import your libraries\n",
        "import pandas as pd\n",
        "\n",
        "# Start writing code\n",
        "ms_employee_salary.head()\n",
        "\n",
        "r = ms_employee_salary.groupby(['id','first_name','last_name','department_id'])['salary'].max().reset_index().sort_values('id')"
      ],
      "metadata": {
        "id": "BuHLvf4QW-na"
      },
      "execution_count": null,
      "outputs": []
    },
    {
      "cell_type": "code",
      "source": [
        "# Import your libraries\n",
        "import pandas as pd\n",
        "\n",
        "# Start writing code\n",
        "customers.head()\n",
        "\n",
        "c = pd.merge(customers,orders,left_on='id',right_on='cust_id',how='left')\n",
        "\n",
        "r = c[['first_name','last_name','city','order_details']].sort_values(['first_name','order_details'])"
      ],
      "metadata": {
        "id": "F6dm1nT3W-kx"
      },
      "execution_count": null,
      "outputs": []
    },
    {
      "cell_type": "code",
      "source": [
        "import pandas as pd\n",
        "import numpy as np\n",
        "\n",
        "result = airbnb_search_details.groupby(['city','property_type'])['bedrooms','bathrooms'].mean().reset_index().rename(index=str, \n",
        "                                                                                                                     columns={\"bedrooms\": \"n_bedrooms_avg\", \"bathrooms\": \"n_bathrooms_avg\"})"
      ],
      "metadata": {
        "id": "gJjGtyg0W-iY"
      },
      "execution_count": null,
      "outputs": []
    },
    {
      "cell_type": "markdown",
      "source": [
        "Use a list comprehension to square each odd number in a list. The list is input by a sequence of comma-separated numbers. >Suppose the following input is supplied to the program:\n",
        "\n",
        "1,2,3,4,5,6,7,8,9\n",
        "Then, the output should be:\n",
        "\n",
        "1,9,25,49,81"
      ],
      "metadata": {
        "id": "gKbHCBkNnG3h"
      }
    },
    {
      "cell_type": "code",
      "source": [
        "def ret_square():\n",
        "  n = int(input(\"enter the no of turns : \"))\n",
        "  a=[]\n",
        "  for i in range(1,n+1):\n",
        "    b = int(input(\"Enter the no :\"))\n",
        "    a.append(b)\n",
        "  for i in a:\n",
        "    print(f\"{i} : {i**2}\")\n",
        "\n",
        "ret_square()"
      ],
      "metadata": {
        "id": "0YxDaaXAW-fh",
        "colab": {
          "base_uri": "https://localhost:8080/"
        },
        "outputId": "d49767de-27ba-461d-c8f8-0d4f4e352d7d"
      },
      "execution_count": null,
      "outputs": [
        {
          "output_type": "stream",
          "name": "stdout",
          "text": [
            "enter the no of turns : 6\n",
            "Enter the no :1\n",
            "Enter the no :2\n",
            "Enter the no :3\n",
            "Enter the no :4\n",
            "Enter the no :5\n",
            "Enter the no :6\n",
            "1 : 1\n",
            "2 : 4\n",
            "3 : 9\n",
            "4 : 16\n",
            "5 : 25\n",
            "6 : 36\n"
          ]
        }
      ]
    },
    {
      "cell_type": "markdown",
      "source": [
        "Write a program that computes the net amount of a bank account based a transaction log from console input. The transaction log format is shown as following:\n",
        "\n",
        "D 100\n",
        "W 200\n",
        "D means deposit while W means withdrawal.\n",
        "Suppose the following input is supplied to the program:\n",
        "\n",
        "D 300\n",
        "D 300\n",
        "W 200\n",
        "D 100\n",
        "Then, the output should be:\n",
        "\n",
        "500\n",
        "Hints:\n",
        "In case of input data being supplied to the question, it should be assumed to be a console input.\n",
        "\n"
      ],
      "metadata": {
        "id": "UFSAYAHvoD1K"
      }
    },
    {
      "cell_type": "code",
      "source": [
        "def bank_tran():\n",
        "  s = 0\n",
        "  while True:\n",
        "    n = input(\"enter d or w or b\").lower()\n",
        "    if n == 'd':\n",
        "      deposit = int(input(\"How much would you like to deposit? \"))\n",
        "      s = s + deposit\n",
        "    elif n == 'w':\n",
        "      wi = int(input(\"How much would you like to withdraw? \"))\n",
        "      s = s - wi\n",
        "    elif n == 'b':\n",
        "      print(s)\n",
        "    else:\n",
        "      break\n",
        "\n",
        "bank_tran()"
      ],
      "metadata": {
        "id": "1eDTso7nW-cm",
        "colab": {
          "base_uri": "https://localhost:8080/"
        },
        "outputId": "48c6372a-4379-4900-c432-949d87ca3b96"
      },
      "execution_count": null,
      "outputs": [
        {
          "name": "stdout",
          "output_type": "stream",
          "text": [
            "enter d or w or bd\n",
            "How much would you like to deposit? 300\n",
            "enter d or w or bd\n",
            "How much would you like to deposit? 300\n",
            "enter d or w or bb\n",
            "600\n",
            "enter d or w or bw\n",
            "How much would you like to withdraw? 200\n",
            "enter d or w or b\n"
          ]
        }
      ]
    },
    {
      "cell_type": "code",
      "source": [
        "# Import your libraries\n",
        "import pandas as pd\n",
        "\n",
        "# Start writing code\n",
        "facebook_employees.head()\n",
        "\n",
        "a = pd.merge(facebook_employees,facebook_hack_survey,left_on='id',right_on='employee_id')\n",
        "a.head(2)\n",
        "\n",
        "b = a.groupby(['location'])['popularity'].mean().reset_index()\n",
        "\n",
        "b\n",
        "\n",
        "#a['location'].unique()"
      ],
      "metadata": {
        "id": "FQx-wyMqW-ZO"
      },
      "execution_count": null,
      "outputs": []
    },
    {
      "cell_type": "code",
      "source": [
        "import pandas as pd\n",
        "import numpy as np\n",
        "\n",
        "employee['avg_salary'] = employee.groupby(['department'])['salary'].transform('mean')\n",
        "result = employee[['department','first_name','salary','avg_salary']]"
      ],
      "metadata": {
        "id": "wF3qGan7W-Wg"
      },
      "execution_count": null,
      "outputs": []
    },
    {
      "cell_type": "code",
      "source": [
        "# Import your libraries\n",
        "import pandas as pd\n",
        "\n",
        "# Start writing code\n",
        "employee.head()\n",
        "\n",
        "a = pd.merge(employee,employee,left_on='manager_id',right_on='id')\n",
        "a[a['salary_x'] > a['salary_y']][['first_name_x', 'salary_x']]"
      ],
      "metadata": {
        "id": "KQ05ZwbKW-T3"
      },
      "execution_count": null,
      "outputs": []
    },
    {
      "cell_type": "markdown",
      "source": [
        "Assuming that we have some email addresses in the \"username@companyname.com\" format, please write program to print the company name of a given email address. Both user names and company names are composed of letters only."
      ],
      "metadata": {
        "id": "rqQf3t4h3c-M"
      }
    },
    {
      "cell_type": "code",
      "source": [
        "def get_company():\n",
        "  n = input(\"Enter email : \")\n",
        "  n = n.lower()\n",
        "  l = n.split(\"@\")\n",
        "  a= l[1].replace('.com',\"\")\n",
        "  return f\"Company name : {a}\"\n",
        "get_company()\n"
      ],
      "metadata": {
        "colab": {
          "base_uri": "https://localhost:8080/",
          "height": 53
        },
        "id": "nOWl-4yW3dNZ",
        "outputId": "700d1212-a7b4-4dc1-dd4e-6f33433ce4be"
      },
      "execution_count": null,
      "outputs": [
        {
          "name": "stdout",
          "output_type": "stream",
          "text": [
            "Enter email : rohan.das@GLOBALIDS.COM\n"
          ]
        },
        {
          "output_type": "execute_result",
          "data": {
            "text/plain": [
              "'Company name : globalids'"
            ],
            "application/vnd.google.colaboratory.intrinsic+json": {
              "type": "string"
            }
          },
          "metadata": {},
          "execution_count": 4
        }
      ]
    },
    {
      "cell_type": "markdown",
      "source": [
        "Write a program which accepts a sequence of words separated by whitespace as input to print the words composed of digits only.\n",
        "\n",
        "Example: If the following words is given as input to the program:\n",
        "\n",
        "2 cats and 3 dogs.\n",
        "Then, the output of the program should be:\n",
        "\n",
        "['2', '3']"
      ],
      "metadata": {
        "id": "rfoOAlVZ4prp"
      }
    },
    {
      "cell_type": "code",
      "source": [
        "def is_word():\n",
        "  n  = input(\"Enter the sentence with space : \")\n",
        "  l = n.split(\" \")\n",
        "  a=[]\n",
        "  for i in l:\n",
        "    if i.isdigit()==True:\n",
        "      a.append(i)\n",
        "  return a\n",
        "\n",
        "is_word()\n",
        "\n",
        "\n",
        "\n",
        "\n"
      ],
      "metadata": {
        "colab": {
          "base_uri": "https://localhost:8080/"
        },
        "id": "_fbMBZd43zt_",
        "outputId": "8ac31988-d838-44ac-bb77-44f2d253055a"
      },
      "execution_count": null,
      "outputs": [
        {
          "name": "stdout",
          "output_type": "stream",
          "text": [
            "Enter the sentence with space : sum of 2 and 3 is 5\n"
          ]
        },
        {
          "output_type": "execute_result",
          "data": {
            "text/plain": [
              "['2', '3', '5']"
            ]
          },
          "metadata": {},
          "execution_count": 5
        }
      ]
    },
    {
      "cell_type": "markdown",
      "source": [
        "Print a unicode string \"hello world\"."
      ],
      "metadata": {
        "id": "u9ImqpY35x3X"
      }
    },
    {
      "cell_type": "code",
      "source": [
        "uni = u'hello world!'\n",
        "print(uni)"
      ],
      "metadata": {
        "colab": {
          "base_uri": "https://localhost:8080/"
        },
        "id": "Aw4eZnvz5gmV",
        "outputId": "f923cf74-8ad6-4cae-8567-e568281930f1"
      },
      "execution_count": null,
      "outputs": [
        {
          "output_type": "stream",
          "name": "stdout",
          "text": [
            "hello world!\n"
          ]
        }
      ]
    },
    {
      "cell_type": "markdown",
      "source": [
        "Write a program to compute 1/2+2/3+3/4+...+n/n+1 with a given n input by console (n>0)."
      ],
      "metadata": {
        "id": "GQ2DFRTo6Eu4"
      }
    },
    {
      "cell_type": "code",
      "source": [
        "def com_sum():\n",
        "  s = 0\n",
        "  n = int(input(\"for how many turn sum ? : \"))\n",
        "  for i in range(1,n+1):\n",
        "    s+= float(float(i)/(i+1))\n",
        "  return round(s,2)\n",
        "\n",
        "com_sum()"
      ],
      "metadata": {
        "colab": {
          "base_uri": "https://localhost:8080/"
        },
        "id": "Zu1XJKsD57lI",
        "outputId": "02d8111b-37d9-4c82-b028-ffe2b1940c4e"
      },
      "execution_count": null,
      "outputs": [
        {
          "name": "stdout",
          "output_type": "stream",
          "text": [
            "for how many turn sum ? : 5\n"
          ]
        },
        {
          "output_type": "execute_result",
          "data": {
            "text/plain": [
              "3.55"
            ]
          },
          "metadata": {},
          "execution_count": 10
        }
      ]
    },
    {
      "cell_type": "markdown",
      "source": [
        "Write a program to compute:\n",
        "\n",
        "f(n)=f(n-1)+100 when n>0\n",
        "and f(0)=0\n",
        "with a given n input by console (n>0).\n",
        "\n",
        "Example: If the following n is given as input to the program:"
      ],
      "metadata": {
        "id": "Lzz0Fm2S8SrH"
      }
    },
    {
      "cell_type": "code",
      "source": [
        "def f(n):\n",
        "  if n == 0:\n",
        "    return 0\n",
        "  else:\n",
        "    return f(n-1)+100\n",
        "\n",
        "f(5)"
      ],
      "metadata": {
        "colab": {
          "base_uri": "https://localhost:8080/"
        },
        "id": "FGAvEmsf6Qpm",
        "outputId": "54804001-a3f5-4306-d977-7bf8d805cfb2"
      },
      "execution_count": null,
      "outputs": [
        {
          "output_type": "execute_result",
          "data": {
            "text/plain": [
              "500"
            ]
          },
          "metadata": {},
          "execution_count": 11
        }
      ]
    },
    {
      "cell_type": "markdown",
      "source": [
        "he Fibonacci Sequence is computed based on the following formula:\n",
        "\n",
        "f(n)=0 if n=0\n",
        "f(n)=1 if n=1\n",
        "f(n)=f(n-1)+f(n-2) if n>1\n",
        "Please write a program to compute the value of f(n) with a given n input by console.\n",
        "\n",
        "Example: If the following n is given as input to the program:\n",
        "\n",
        "7\n",
        "Then, the output of the program should be:\n",
        "\n",
        "13"
      ],
      "metadata": {
        "id": "kmolnZny8t8F"
      }
    },
    {
      "cell_type": "code",
      "source": [
        "def f(n):\n",
        "    if n == 0: return 0\n",
        "    elif n == 1: return 1\n",
        "    else: return f(n-1)+f(n-2)\n",
        "\n",
        "n=int(input())\n",
        "print(f(n))"
      ],
      "metadata": {
        "colab": {
          "base_uri": "https://localhost:8080/"
        },
        "id": "hZevhaPm8jiw",
        "outputId": "043b24f0-81b1-4410-9f0d-db8fc63f5998"
      },
      "execution_count": null,
      "outputs": [
        {
          "output_type": "stream",
          "name": "stdout",
          "text": [
            "7\n",
            "13\n"
          ]
        }
      ]
    },
    {
      "cell_type": "code",
      "source": [
        "def fibo(n):\n",
        "  if n == 0: return 0\n",
        "  elif n == 1: return [0,1]\n",
        "  else:\n",
        "    s = [0,1]\n",
        "    a,b = 0,1\n",
        "    for i in range(2,n+1):\n",
        "      c = a + b\n",
        "      s.append(c)\n",
        "      a = b\n",
        "      b = c\n",
        "    return s\n",
        "fibo(10)\n",
        "\n"
      ],
      "metadata": {
        "colab": {
          "base_uri": "https://localhost:8080/"
        },
        "id": "DCE-ceUeAWvI",
        "outputId": "cb1d66ae-8f2b-4a81-e536-2bcf4e8f9b6b"
      },
      "execution_count": null,
      "outputs": [
        {
          "output_type": "execute_result",
          "data": {
            "text/plain": [
              "[0, 1, 1, 2, 3, 5, 8, 13, 21, 34, 55]"
            ]
          },
          "metadata": {},
          "execution_count": 16
        }
      ]
    },
    {
      "cell_type": "markdown",
      "source": [
        "even generator"
      ],
      "metadata": {
        "id": "wL6_P8iRzZDn"
      }
    },
    {
      "cell_type": "code",
      "source": [
        "def ev_gen(n):\n",
        "  a=[]\n",
        "  for i in range(0,n+1,2):\n",
        "    if i%2==0:\n",
        "      a.append(i)\n",
        "  return a\n",
        "\n",
        "ev_gen(10)"
      ],
      "metadata": {
        "id": "KEMNNMRR-_BT",
        "colab": {
          "base_uri": "https://localhost:8080/"
        },
        "outputId": "d55f8efa-0fa5-4606-8615-16100253af1f"
      },
      "execution_count": null,
      "outputs": [
        {
          "output_type": "execute_result",
          "data": {
            "text/plain": [
              "[0, 2, 4, 6, 8, 10]"
            ]
          },
          "metadata": {},
          "execution_count": 1
        }
      ]
    },
    {
      "cell_type": "markdown",
      "source": [
        "binary search"
      ],
      "metadata": {
        "id": "TIO5-80mLQVT"
      }
    },
    {
      "cell_type": "code",
      "source": [
        "def binary_search(lst, item):\n",
        "    low = 0\n",
        "    high = len(lst) - 1\n",
        "    \n",
        "    while low <= high:\n",
        "        mid = round((low + high) / 2)\n",
        "        \n",
        "        if lst[mid] == item:\n",
        "            return mid\n",
        "        elif lst[mid] > item:\n",
        "            high = mid - 1\n",
        "        else:\n",
        "            low = mid + 1\n",
        "    return None\n",
        "    \n",
        "lst = [1,3,5,7,]\n",
        "print(binary_search(lst, 9))"
      ],
      "metadata": {
        "id": "AkyeT-5l---e",
        "colab": {
          "base_uri": "https://localhost:8080/"
        },
        "outputId": "daf15cc6-c4d3-4276-a51f-dc0cfa7738c1"
      },
      "execution_count": null,
      "outputs": [
        {
          "output_type": "stream",
          "name": "stdout",
          "text": [
            "None\n"
          ]
        }
      ]
    },
    {
      "cell_type": "code",
      "source": [
        "def binary_search_Ascending(array, target):\n",
        "    lower = 0\n",
        "    upper = len(array)\n",
        "    print('Array Length:',upper)\n",
        "    while lower < upper:\n",
        "        x = (lower + upper) // 2\n",
        "        print('Middle Value:',x)\n",
        "        value = array[x]\n",
        "        if target == value:\n",
        "            return x\n",
        "        elif target > value:\n",
        "            lower = x\n",
        "        elif target < value:\n",
        "            upper = x\n",
        "\n",
        "Array = [1,5,8,10,12,13,55,66,73,78,82,85,88,99]\n",
        "print('The Value Found at Index:',binary_search_Ascending(Array, 82))"
      ],
      "metadata": {
        "id": "471Vd0Ha--7D",
        "colab": {
          "base_uri": "https://localhost:8080/"
        },
        "outputId": "e6ba27e0-8c3f-49d3-e00b-96b80bcd42f9"
      },
      "execution_count": null,
      "outputs": [
        {
          "output_type": "stream",
          "name": "stdout",
          "text": [
            "Array Length: 14\n",
            "Middle Value: 7\n",
            "Middle Value: 10\n",
            "The Value Found at Index: 10\n"
          ]
        }
      ]
    },
    {
      "cell_type": "markdown",
      "source": [
        "Please write a program to output a random even number between 0 and 10 inclusive using random module and list comprehension.\n",
        "\n"
      ],
      "metadata": {
        "id": "rfwESmAIOadD"
      }
    },
    {
      "cell_type": "code",
      "source": [
        "import random\n",
        "\n",
        "r = [i for i in range(0,11,2)]\n",
        "print(random.choice(r))"
      ],
      "metadata": {
        "id": "Oj3zzzEP--st",
        "colab": {
          "base_uri": "https://localhost:8080/"
        },
        "outputId": "07ac6baf-d800-4260-bfff-b66bddddb869"
      },
      "execution_count": null,
      "outputs": [
        {
          "output_type": "stream",
          "name": "stdout",
          "text": [
            "8\n"
          ]
        }
      ]
    },
    {
      "cell_type": "markdown",
      "source": [
        "Please write a program to output a random number, which is divisible by 5 and 7, between 10 and 150 inclusive using random module and list comprehension."
      ],
      "metadata": {
        "id": "EbQBW7kiS4QG"
      }
    },
    {
      "cell_type": "code",
      "source": [
        "import random\n",
        "\n",
        "r = [i for i in range(10,150) if i%5==0 and i%7==0 ]\n",
        "print(random.choice(r))"
      ],
      "metadata": {
        "colab": {
          "base_uri": "https://localhost:8080/"
        },
        "id": "UqpboVJpOsvu",
        "outputId": "d1cb5d05-8a59-458c-8e01-1fa8a2b98c08"
      },
      "execution_count": null,
      "outputs": [
        {
          "output_type": "stream",
          "name": "stdout",
          "text": [
            "70\n"
          ]
        }
      ]
    },
    {
      "cell_type": "markdown",
      "source": [
        "Please write a program to generate a list with 5 random numbers between 100 and 200 inclusive."
      ],
      "metadata": {
        "id": "SF4ER-YQTuHC"
      }
    },
    {
      "cell_type": "code",
      "source": [
        "import random\n",
        "\n",
        "r = [i for i in range(100,201)]\n",
        "print(random.sample(r,5))"
      ],
      "metadata": {
        "colab": {
          "base_uri": "https://localhost:8080/"
        },
        "id": "L0nDO1uLTXNk",
        "outputId": "f0f1a9a5-a238-4b75-fb3f-c608b641cfcf"
      },
      "execution_count": null,
      "outputs": [
        {
          "output_type": "stream",
          "name": "stdout",
          "text": [
            "[175, 178, 140, 149, 124]\n"
          ]
        }
      ]
    },
    {
      "cell_type": "code",
      "source": [
        "import random\n",
        "r = [i for i in range(100,201) if i%2==0]\n",
        "print(random.sample(r,5))"
      ],
      "metadata": {
        "colab": {
          "base_uri": "https://localhost:8080/"
        },
        "id": "09xKLmrjUD5o",
        "outputId": "6c14b38d-aef3-41d0-b806-2d33f0a61801"
      },
      "execution_count": null,
      "outputs": [
        {
          "output_type": "stream",
          "name": "stdout",
          "text": [
            "[148, 102, 128, 178, 130]\n"
          ]
        }
      ]
    },
    {
      "cell_type": "code",
      "source": [
        "import random\n",
        "r = [i for i in range(7,16)]\n",
        "print(random.choice(r))"
      ],
      "metadata": {
        "colab": {
          "base_uri": "https://localhost:8080/"
        },
        "id": "jpluzvx3Udlv",
        "outputId": "d4b2a512-b450-4182-f14d-d2d402339639"
      },
      "execution_count": null,
      "outputs": [
        {
          "output_type": "stream",
          "name": "stdout",
          "text": [
            "9\n"
          ]
        }
      ]
    },
    {
      "cell_type": "code",
      "source": [
        "import time\n",
        "\n",
        "before = time.time()\n",
        "for i in range(100):\n",
        "  x = 1 + 1\n",
        "after = time.time()\n",
        "e = after - before\n",
        "e\n"
      ],
      "metadata": {
        "colab": {
          "base_uri": "https://localhost:8080/"
        },
        "id": "wJ99Ai_EUyqM",
        "outputId": "f779c5df-a446-4f37-93e0-146f4e861446"
      },
      "execution_count": null,
      "outputs": [
        {
          "output_type": "execute_result",
          "data": {
            "text/plain": [
              "0.00011992454528808594"
            ]
          },
          "metadata": {},
          "execution_count": 8
        }
      ]
    },
    {
      "cell_type": "markdown",
      "source": [
        "Please write a program to generate all sentences where subject is in [\"I\", \"You\"] and verb is in [\"Play\", \"Love\"] and the object is in [\"Hockey\",\"Football\"]."
      ],
      "metadata": {
        "id": "pXtHWhxRW9j5"
      }
    },
    {
      "cell_type": "code",
      "source": [
        "for i in [\"I\", \"You\"]:\n",
        "  for j in [\"Play\", \"Love\"]:\n",
        "    for k in [\"Hockey\",\"Football\"]:\n",
        "      print(i +\" \"+ j + \" \" + k)"
      ],
      "metadata": {
        "colab": {
          "base_uri": "https://localhost:8080/"
        },
        "id": "Ay7GmGfcXMcs",
        "outputId": "8d5a1e17-3ece-41a9-8b57-9d71a662fc46"
      },
      "execution_count": null,
      "outputs": [
        {
          "output_type": "stream",
          "name": "stdout",
          "text": [
            "I Play Hockey\n",
            "I Play Football\n",
            "I Love Hockey\n",
            "I Love Football\n",
            "You Play Hockey\n",
            "You Play Football\n",
            "You Love Hockey\n",
            "You Love Football\n"
          ]
        }
      ]
    },
    {
      "cell_type": "markdown",
      "source": [
        "Please write a program to print the list after removing even numbers in [5,6,77,45,22,12,24]."
      ],
      "metadata": {
        "id": "RB8fCTxvZSmE"
      }
    },
    {
      "cell_type": "code",
      "source": [
        "l = [5,6,77,45,22,12,24]\n",
        "a = [i for i in l if i%2==0]\n",
        "a"
      ],
      "metadata": {
        "colab": {
          "base_uri": "https://localhost:8080/"
        },
        "id": "38Jkp9k1Y7wZ",
        "outputId": "127787aa-af9c-44a6-c2cc-1c8a39602365"
      },
      "execution_count": null,
      "outputs": [
        {
          "output_type": "execute_result",
          "data": {
            "text/plain": [
              "[6, 22, 12, 24]"
            ]
          },
          "metadata": {},
          "execution_count": 17
        }
      ]
    },
    {
      "cell_type": "markdown",
      "source": [
        "By using list comprehension, please write a program to print the list after removing numbers which are divisible by 5 and 7 in [12,24,35,70,88,120,155].\n",
        "\n"
      ],
      "metadata": {
        "id": "apnCcSXVZ3vI"
      }
    },
    {
      "cell_type": "code",
      "source": [
        "l = [12,24,35,70,88,120,155]\n",
        "a = [i for i in l if i%5==0 and i%7==0]\n",
        "a"
      ],
      "metadata": {
        "colab": {
          "base_uri": "https://localhost:8080/"
        },
        "id": "BFgL3pMmZhqA",
        "outputId": "295d4d5a-0b19-402d-a1c6-0e421748ac72"
      },
      "execution_count": null,
      "outputs": [
        {
          "output_type": "execute_result",
          "data": {
            "text/plain": [
              "[35, 70]"
            ]
          },
          "metadata": {},
          "execution_count": 18
        }
      ]
    },
    {
      "cell_type": "code",
      "source": [
        "li = [12,24,35,70,88,120,155]\n",
        "li = [li[i] for i in range(len(li)) if i%2 != 0 and i <= 6]\n",
        "print(li)"
      ],
      "metadata": {
        "colab": {
          "base_uri": "https://localhost:8080/"
        },
        "id": "i_lf2uSuaBw-",
        "outputId": "f14fac17-11b3-4b0b-e50d-a675b86ebf6c"
      },
      "execution_count": null,
      "outputs": [
        {
          "output_type": "stream",
          "name": "stdout",
          "text": [
            "[24, 70, 120]\n"
          ]
        }
      ]
    },
    {
      "cell_type": "markdown",
      "source": [
        "By using list comprehension, please write a program to print the list after removing the value 24 in [12,24,35,24,88,120,155]."
      ],
      "metadata": {
        "id": "JqKGjXajtg20"
      }
    },
    {
      "cell_type": "code",
      "source": [
        "l = [12,24,35,24,88,120,155]\n",
        "\n",
        "x = [ i for i in l if i!=24]\n",
        "x"
      ],
      "metadata": {
        "colab": {
          "base_uri": "https://localhost:8080/"
        },
        "id": "GaqwpBwYa75U",
        "outputId": "0134becb-cf40-46d1-b3b4-9b3c427f94b2"
      },
      "execution_count": null,
      "outputs": [
        {
          "output_type": "execute_result",
          "data": {
            "text/plain": [
              "[12, 35, 88, 120, 155]"
            ]
          },
          "metadata": {},
          "execution_count": 1
        }
      ]
    },
    {
      "cell_type": "markdown",
      "source": [
        "With two given lists [1,3,6,78,35,55] and [12,24,35,24,88,120,155], write a program to make a list whose elements are intersection of the above given lists."
      ],
      "metadata": {
        "id": "1v7TIXOQtvee"
      }
    },
    {
      "cell_type": "code",
      "source": [
        "a = [1,3,6,78,35,55]\n",
        "b = [12,24,35,24,88,120,155]\n",
        "c=[]\n",
        "for i in a:\n",
        "  if i in b:\n",
        "    c.append(i)\n",
        "\n",
        "c"
      ],
      "metadata": {
        "colab": {
          "base_uri": "https://localhost:8080/"
        },
        "id": "DjPS6Bzttn2S",
        "outputId": "47b6c8ab-4d3e-431a-b494-58ec3856e1e3"
      },
      "execution_count": null,
      "outputs": [
        {
          "output_type": "execute_result",
          "data": {
            "text/plain": [
              "[35]"
            ]
          },
          "metadata": {},
          "execution_count": 3
        }
      ]
    },
    {
      "cell_type": "markdown",
      "source": [
        "With a given list [12,24,35,24,88,120,155,88,120,155], write a program to print this list after removing all duplicate values with original order reserved."
      ],
      "metadata": {
        "id": "BQ5FbrGRuRHI"
      }
    },
    {
      "cell_type": "code",
      "source": [
        "a = [12,24,35,24,88,120,155,88,120,155]\n",
        "\n",
        "a = set(a)\n",
        "list(a).sort(reverse=False)"
      ],
      "metadata": {
        "id": "rkq6fXSet9Ib"
      },
      "execution_count": null,
      "outputs": []
    },
    {
      "cell_type": "markdown",
      "source": [
        "Define a class Person and its two child classes: Male and Female. All classes have a method \"getGender\" which can print \"Male\" for Male class and \"Female\" for Female class.\n",
        "\n"
      ],
      "metadata": {
        "id": "i2EmfTckvVel"
      }
    },
    {
      "cell_type": "code",
      "source": [
        "class Person():\n",
        "  def getGender(self):\n",
        "    return \"Unknown\"\n",
        "\n",
        "class Male(Person):\n",
        "  def getGender(self):\n",
        "    return \"Male\"\n",
        "\n",
        "class Female(Person):\n",
        "  def getGender(self):\n",
        "    return \"Female\"\n",
        "\n",
        "m = Male()\n",
        "f=Female()\n",
        "print(m.getGender())\n",
        "print(f.getGender())"
      ],
      "metadata": {
        "colab": {
          "base_uri": "https://localhost:8080/"
        },
        "id": "Ufl4R5yYuWqF",
        "outputId": "5206053a-8705-4152-ce34-e780b68cd959"
      },
      "execution_count": null,
      "outputs": [
        {
          "output_type": "stream",
          "name": "stdout",
          "text": [
            "Male\n",
            "Female\n"
          ]
        }
      ]
    },
    {
      "cell_type": "markdown",
      "source": [
        "Please write a program which count and print the numbers of each character in a string input by console.\n",
        "\n",
        "Example: If the following string is given as input to the program:\n",
        "\n",
        "abcdefgabc\n",
        "Then, the output of the program should be:\n",
        "\n",
        "a,2\n",
        "c,2\n",
        "b,2\n",
        "e,1\n",
        "d,1\n",
        "g,1\n",
        "f,1"
      ],
      "metadata": {
        "id": "NtYGJI8ZwORI"
      }
    },
    {
      "cell_type": "code",
      "source": [
        "def getString(s):\n",
        "  s = s.lower()\n",
        "  s = s.replace(\" \",\"\")\n",
        "  l = set([i for i in s])\n",
        "  for i in l:\n",
        "    print(f\"{i} : {s.count(i)}\")\n",
        "\n",
        "getString(\"Rohan Das\")\n",
        "print(\"*************\")\n",
        "getString(\"abcdefgabc\")"
      ],
      "metadata": {
        "colab": {
          "base_uri": "https://localhost:8080/"
        },
        "id": "KdaYVtl0v19g",
        "outputId": "527c6f6a-bf27-407a-fd56-c68f593af2d9"
      },
      "execution_count": null,
      "outputs": [
        {
          "output_type": "stream",
          "name": "stdout",
          "text": [
            "n : 1\n",
            "d : 1\n",
            "r : 1\n",
            "s : 1\n",
            "o : 1\n",
            "h : 1\n",
            "a : 2\n",
            "*************\n",
            "c : 2\n",
            "f : 1\n",
            "d : 1\n",
            "g : 1\n",
            "e : 1\n",
            "b : 2\n",
            "a : 2\n"
          ]
        }
      ]
    },
    {
      "cell_type": "markdown",
      "source": [
        "Please write a program which accepts a string from console and print it in reverse order.\n",
        "\n",
        "Example: If the following string is given as input to the program:*\n",
        "\n",
        "rise to vote sir\n",
        "Then, the output of the program should be:\n",
        "\n",
        "ris etov ot esir"
      ],
      "metadata": {
        "id": "P9mSAyCdxaiR"
      }
    },
    {
      "cell_type": "code",
      "source": [
        "def get_rev(s):\n",
        "  return s[::-1]\n",
        "\n",
        "get_rev(\"rohan das\")"
      ],
      "metadata": {
        "colab": {
          "base_uri": "https://localhost:8080/",
          "height": 35
        },
        "id": "IH9SYW2Jwfvd",
        "outputId": "92f1cc34-494d-4735-ccc0-b39bf12bf2b7"
      },
      "execution_count": null,
      "outputs": [
        {
          "output_type": "execute_result",
          "data": {
            "text/plain": [
              "'sad nahor'"
            ],
            "application/vnd.google.colaboratory.intrinsic+json": {
              "type": "string"
            }
          },
          "metadata": {},
          "execution_count": 27
        }
      ]
    },
    {
      "cell_type": "markdown",
      "source": [
        "Please write a program which prints all permutations of [1,2,3]"
      ],
      "metadata": {
        "id": "H2FA7MY3xtTA"
      }
    },
    {
      "cell_type": "code",
      "source": [
        "from itertools import permutations\n",
        "\n",
        "def permuation_generator(iterable):\n",
        "    p = permutations(iterable)\n",
        "    for i in p:\n",
        "        print(i)\n",
        "\n",
        "\n",
        "x = [1,2,3]\n",
        "permuation_generator(x)"
      ],
      "metadata": {
        "colab": {
          "base_uri": "https://localhost:8080/"
        },
        "id": "7SnbIUw2xkN8",
        "outputId": "785ff761-e247-4843-f888-a2e0b4a0552b"
      },
      "execution_count": null,
      "outputs": [
        {
          "output_type": "stream",
          "name": "stdout",
          "text": [
            "(1, 2, 3)\n",
            "(1, 3, 2)\n",
            "(2, 1, 3)\n",
            "(2, 3, 1)\n",
            "(3, 1, 2)\n",
            "(3, 2, 1)\n"
          ]
        }
      ]
    },
    {
      "cell_type": "markdown",
      "source": [
        "Given the participants' score sheet for your University Sports Day, you are required to find the runner-up score. You are given scores. Store them in a list and find the score of the runner-up.\n",
        "\n",
        "If the following string is given as input to the program:\n",
        "\n",
        "5\n",
        "2 3 6 6 5\n",
        "Then, the output of the program should be:\n",
        "\n",
        "5"
      ],
      "metadata": {
        "id": "4Lxfs2ebyoyd"
      }
    },
    {
      "cell_type": "code",
      "source": [
        "num = int(input())\n",
        "scores = list(map(int, input().split(' ')))\n",
        "winner = max(scores)\n",
        "lst = []\n",
        "\n",
        "if len(scores) != num:\n",
        "  print('length of score is greater than input given')\n",
        "  \n",
        "else:\n",
        "  for score in scores:\n",
        "    if winner > score:\n",
        "      lst.append(score)\n",
        "\n",
        "runnerup = max(lst)\n",
        "print(runnerup)"
      ],
      "metadata": {
        "colab": {
          "base_uri": "https://localhost:8080/"
        },
        "id": "Oqb2QExPyXzx",
        "outputId": "19e423aa-912a-4600-aca7-5b98ff3c6260"
      },
      "execution_count": null,
      "outputs": [
        {
          "output_type": "stream",
          "name": "stdout",
          "text": [
            "5\n",
            "2 3 6 6 5\n",
            "5\n"
          ]
        }
      ]
    },
    {
      "cell_type": "code",
      "source": [
        "from textwrap import wrap\n",
        "x = str(input(': '))\n",
        "w = int(input())\n",
        "z = list(wrap(x, w))\n",
        "for i in z:\n",
        "    print(i)"
      ],
      "metadata": {
        "colab": {
          "base_uri": "https://localhost:8080/"
        },
        "id": "TOPuWY-KyycO",
        "outputId": "9dd117e1-834f-4826-87b4-6e8ce6ee0432"
      },
      "execution_count": null,
      "outputs": [
        {
          "output_type": "stream",
          "name": "stdout",
          "text": [
            ": ABCDEFGHIJKLIMNOQRSTUVWXYZ\n",
            "4\n",
            "ABCD\n",
            "EFGH\n",
            "IJKL\n",
            "IMNO\n",
            "QRST\n",
            "UVWX\n",
            "YZ\n"
          ]
        }
      ]
    },
    {
      "cell_type": "markdown",
      "source": [
        "aemstrong"
      ],
      "metadata": {
        "id": "rA6EK3Otgs7i"
      }
    },
    {
      "cell_type": "code",
      "source": [
        "a = 'aba'\n",
        "\n",
        "if a[::] == a[::-1]:\n",
        "  print(\"a is palindrome\")\n",
        "else:\n",
        "  print(\"not\")"
      ],
      "metadata": {
        "id": "3CtlYSrvzVQ8",
        "colab": {
          "base_uri": "https://localhost:8080/"
        },
        "outputId": "06920586-abfd-4f56-f7d4-71bfa51f73c8"
      },
      "execution_count": null,
      "outputs": [
        {
          "output_type": "stream",
          "name": "stdout",
          "text": [
            "a is palindrome\n"
          ]
        }
      ]
    },
    {
      "cell_type": "markdown",
      "source": [
        "Capitalize\n"
      ],
      "metadata": {
        "id": "Asmuh5N3pXZ0"
      }
    },
    {
      "cell_type": "code",
      "source": [
        "\n",
        "import math\n",
        "import os\n",
        "import random\n",
        "import re\n",
        "import sys\n",
        "\n",
        "# Complete the solve function below.\n",
        "def solve(s):\n",
        "  return s.title()\n",
        "\n",
        "solve(\"rohan das\")\n",
        "    \n"
      ],
      "metadata": {
        "id": "9hsXJuvdg6nh",
        "colab": {
          "base_uri": "https://localhost:8080/",
          "height": 35
        },
        "outputId": "957e3ad2-06cd-4457-9da7-21375b602527"
      },
      "execution_count": null,
      "outputs": [
        {
          "output_type": "execute_result",
          "data": {
            "text/plain": [
              "'Rohan Das'"
            ],
            "application/vnd.google.colaboratory.intrinsic+json": {
              "type": "string"
            }
          },
          "metadata": {},
          "execution_count": 2
        }
      ]
    },
    {
      "cell_type": "code",
      "source": [
        "#!/bin/python3\n",
        "\n",
        "import math\n",
        "import os\n",
        "import random\n",
        "import re\n",
        "import sys\n",
        "\n",
        "# Complete the solve function below.\n",
        "def solve(s):\n",
        "    for i in s.split():\n",
        "        s = s.replace(i,i.capitalize())\n",
        "    return s\n",
        "\n",
        "if __name__ == '__main__':\n",
        "    fptr = open(os.environ['OUTPUT_PATH'], 'w')\n",
        "\n",
        "    s = input()\n",
        "\n",
        "    result = solve(s)\n",
        "\n",
        "    fptr.write(result + '\\n')\n",
        "\n",
        "    fptr.close()"
      ],
      "metadata": {
        "id": "f3DhQajRpbt5"
      },
      "execution_count": null,
      "outputs": []
    },
    {
      "cell_type": "code",
      "source": [
        "SELECT DISTINCT CITY\n",
        "FROM STATION\n",
        "WHERE CITY NOT REGEXP '[aeiou]$'"
      ],
      "metadata": {
        "id": "FaMQvGuS0NBv"
      },
      "execution_count": null,
      "outputs": []
    },
    {
      "cell_type": "code",
      "source": [
        "SELECT DISTINCT CITY\n",
        "FROM STATION\n",
        "WHERE CITY NOT RLIKE '^[aeiou]' OR CITY NOT REGEXP '[aeiou]$'"
      ],
      "metadata": {
        "id": "3UtCtGor07vQ"
      },
      "execution_count": null,
      "outputs": []
    },
    {
      "cell_type": "code",
      "source": [
        "SELECT DISTINCT CITY\n",
        "FROM STATION\n",
        "WHERE CITY NOT RLIKE '^[aeiou]' AND CITY NOT REGEXP '[aeiou]$'"
      ],
      "metadata": {
        "id": "XV8hQQHc1OHL"
      },
      "execution_count": null,
      "outputs": []
    },
    {
      "cell_type": "code",
      "source": [
        "def dict_square(n):\n",
        "  d=dict()\n",
        "  for i in range(1,n+1):\n",
        "    d[i] = i*i\n",
        "  return d\n",
        "\n",
        "dict_square(5)\n"
      ],
      "metadata": {
        "colab": {
          "base_uri": "https://localhost:8080/"
        },
        "id": "ipog0Zal2N55",
        "outputId": "4f98b19c-9ed7-40ba-9443-09941f85c606"
      },
      "execution_count": null,
      "outputs": [
        {
          "output_type": "execute_result",
          "data": {
            "text/plain": [
              "{1: 1, 2: 4, 3: 9, 4: 16, 5: 25}"
            ]
          },
          "metadata": {},
          "execution_count": 1
        }
      ]
    },
    {
      "cell_type": "code",
      "source": [
        "thickness = int(input()) #This must be an odd number\n",
        "c = 'H'\n",
        "\n",
        "#Top Cone\n",
        "for i in range(thickness):\n",
        "  print((c*i).rjust(thickness-1)+c+(c*i).ljust(thickness-1))\n",
        "\n",
        "#Top Pillars\n",
        "for i in range(thickness+1):\n",
        "  print((c*thickness).center(thickness*2)+(c*thickness).center(thickness*6))\n",
        "\n",
        "#Middle Belt\n",
        "for i in range(int((thickness+1)/2)):\n",
        "  print((c*thickness*5).center(thickness*6) )   \n",
        "\n",
        "#Bottom Pillars\n",
        "for i in range(thickness+1):\n",
        "  print((c*thickness).center(thickness*2)+(c*thickness).center(thickness*6))\n",
        "\n",
        "#Bottom Cone\n",
        "for i in range(thickness):\n",
        "  print(((c*(thickness-i-1)).rjust(thickness)+c+(c*(thickness-i-1)).ljust(thickness)).rjust(thickness*6))"
      ],
      "metadata": {
        "colab": {
          "base_uri": "https://localhost:8080/"
        },
        "id": "U7JxMGxX2g8H",
        "outputId": "48359012-4cc2-4a98-ae38-bfc9d75bde0e"
      },
      "execution_count": null,
      "outputs": [
        {
          "output_type": "stream",
          "name": "stdout",
          "text": [
            "5\n",
            "    H    \n",
            "   HHH   \n",
            "  HHHHH  \n",
            " HHHHHHH \n",
            "HHHHHHHHH\n",
            "  HHHHH               HHHHH             \n",
            "  HHHHH               HHHHH             \n",
            "  HHHHH               HHHHH             \n",
            "  HHHHH               HHHHH             \n",
            "  HHHHH               HHHHH             \n",
            "  HHHHH               HHHHH             \n",
            "  HHHHHHHHHHHHHHHHHHHHHHHHH   \n",
            "  HHHHHHHHHHHHHHHHHHHHHHHHH   \n",
            "  HHHHHHHHHHHHHHHHHHHHHHHHH   \n",
            "  HHHHH               HHHHH             \n",
            "  HHHHH               HHHHH             \n",
            "  HHHHH               HHHHH             \n",
            "  HHHHH               HHHHH             \n",
            "  HHHHH               HHHHH             \n",
            "  HHHHH               HHHHH             \n",
            "                    HHHHHHHHH \n",
            "                     HHHHHHH  \n",
            "                      HHHHH   \n",
            "                       HHH    \n",
            "                        H     \n"
          ]
        }
      ]
    },
    {
      "cell_type": "code",
      "source": [],
      "metadata": {
        "id": "-TKX0s2L3vkp"
      },
      "execution_count": null,
      "outputs": []
    },
    {
      "cell_type": "code",
      "source": [
        "from itertools import permutations\n",
        "\n",
        "s,k = input().split()\n",
        "\n",
        "permu = list(permutations(s,int(k)))\n",
        "p=[]\n",
        "for i in permu:\n",
        "    a = ''.join(i)\n",
        "    p.append(a)\n",
        "p.sort()\n",
        "print('\\n'.join(p))"
      ],
      "metadata": {
        "colab": {
          "base_uri": "https://localhost:8080/"
        },
        "id": "aDKXqT3864cz",
        "outputId": "77ca5715-3ce9-4780-c19a-a9bcae30b7f6"
      },
      "execution_count": null,
      "outputs": [
        {
          "output_type": "stream",
          "name": "stdout",
          "text": [
            "ROHAN 2\n",
            "AH\n",
            "AN\n",
            "AO\n",
            "AR\n",
            "HA\n",
            "HN\n",
            "HO\n",
            "HR\n",
            "NA\n",
            "NH\n",
            "NO\n",
            "NR\n",
            "OA\n",
            "OH\n",
            "ON\n",
            "OR\n",
            "RA\n",
            "RH\n",
            "RN\n",
            "RO\n"
          ]
        }
      ]
    },
    {
      "cell_type": "code",
      "source": [
        "from itertools import combinations\n",
        "\n",
        "strings = list(input().split())\n",
        "string_0 = list(strings[0])\n",
        "string_0.sort()\n",
        "    \n",
        "for i in range(1, int(strings[1])+1):\n",
        "    combination = list(combinations(string_0, i))\n",
        "    combination.sort()\n",
        "    \n",
        "    for e in combination:\n",
        "        print(''.join(e))"
      ],
      "metadata": {
        "colab": {
          "base_uri": "https://localhost:8080/"
        },
        "id": "1fLhawCq64aT",
        "outputId": "0f4776d4-0d8c-402a-d2fc-e548dec6579e"
      },
      "execution_count": null,
      "outputs": [
        {
          "output_type": "stream",
          "name": "stdout",
          "text": [
            "ROHAN 2\n",
            "A\n",
            "H\n",
            "N\n",
            "O\n",
            "R\n",
            "AH\n",
            "AN\n",
            "AO\n",
            "AR\n",
            "HN\n",
            "HO\n",
            "HR\n",
            "NO\n",
            "NR\n",
            "OR\n"
          ]
        }
      ]
    },
    {
      "cell_type": "markdown",
      "source": [
        "i/p : x3y2z1 o/p : xxxyyz\n",
        "\n",
        "i/p : a4b3c2d1 o/p : aaaabbbccd"
      ],
      "metadata": {
        "id": "Pf1Nt6JfBjZV"
      }
    },
    {
      "cell_type": "code",
      "source": [
        "def con(s):\n",
        "  st =''\n",
        "  for i in s:\n",
        "    if i.isalpha():\n",
        "      c = i\n",
        "    else:\n",
        "      st = st + c*int(i)\n",
        "  print(st)\n",
        "\n",
        "con('a3b2')\n",
        "con('x3y2z')\n",
        "con('a4b3c2d1')"
      ],
      "metadata": {
        "colab": {
          "base_uri": "https://localhost:8080/"
        },
        "id": "_EcRBUES64W_",
        "outputId": "653c2ae2-0dc3-4736-d09b-b5ba6e8977a7"
      },
      "execution_count": null,
      "outputs": [
        {
          "output_type": "stream",
          "name": "stdout",
          "text": [
            "aaabb\n",
            "xxxyy\n",
            "aaaabbbccd\n"
          ]
        }
      ]
    },
    {
      "cell_type": "code",
      "source": [
        "def duplic(s):\n",
        "  s = s.split(\" \")\n",
        "  l = set(s)\n",
        "  print(f\"list is : {s}\")\n",
        "  print(f\"set is : {l}\")\n",
        "  for i in s:\n",
        "    if i.count()\n",
        "duplic(\"Missiccippi is the biggest river\")"
      ],
      "metadata": {
        "id": "WkpYgGdj64QI",
        "colab": {
          "base_uri": "https://localhost:8080/"
        },
        "outputId": "8d6698c3-667f-44d2-f619-93ea606dce54"
      },
      "execution_count": null,
      "outputs": [
        {
          "output_type": "stream",
          "name": "stdout",
          "text": [
            "list is : ['Missiccippi', 'is', 'the', 'biggest', 'river']\n",
            "set is : {'river', 'the', 'Missiccippi', 'is', 'biggest'}\n"
          ]
        }
      ]
    },
    {
      "cell_type": "markdown",
      "source": [
        "Write a Python program to check if a given positive integer is a power of two. Go to the editor\n",
        "Input : 4\n",
        "Output : True"
      ],
      "metadata": {
        "id": "Wk7kraRhLFyy"
      }
    },
    {
      "cell_type": "code",
      "source": [
        "import math\n",
        "def po_of_2():\n",
        "  n = int(input(\"Enter the no : \"))\n",
        "  if n == 0:\n",
        "    print(\"Not power of 2 \")\n",
        "  else:\n",
        "    a = int(input(\"Enter the upper limit of range : \"))\n",
        "    b = int(input(\"Enter the lower limit of range : \"))\n",
        "    for i in range(b,a+1):\n",
        "      if n == pow(2,i):\n",
        "        print(f\"{n} is powr of 2\")\n",
        "      else:\n",
        "        print(\"not possibel\")\n",
        "\n",
        "po_of_2()"
      ],
      "metadata": {
        "id": "qtOnZbJPBrOm",
        "colab": {
          "base_uri": "https://localhost:8080/"
        },
        "outputId": "c2087d16-86e3-4d43-aa00-02c67d7ede87"
      },
      "execution_count": null,
      "outputs": [
        {
          "output_type": "stream",
          "name": "stdout",
          "text": [
            "Enter the no : 16\n",
            "Enter the upper limit of range : 10\n",
            "Enter the lower limit of range : 1\n",
            "not possibel\n",
            "not possibel\n",
            "not possibel\n",
            "16 is powr of 2\n",
            "not possibel\n",
            "not possibel\n",
            "not possibel\n",
            "not possibel\n",
            "not possibel\n",
            "not possibel\n"
          ]
        }
      ]
    },
    {
      "cell_type": "markdown",
      "source": [
        "Write a Python program to check if a given positive integer is a power of three. Go to the editor\n",
        "Input : 9"
      ],
      "metadata": {
        "id": "MJXOH7nAMoM0"
      }
    },
    {
      "cell_type": "code",
      "source": [
        "def pow_of_3():\n",
        "  n = int(input(\"Enter the no : \"))\n",
        "  if n == 0:\n",
        "    return f\"Not power of 3\"\n",
        "  else:\n",
        "    a = int(input(\"Enter the upper limit of range : \"))\n",
        "    b = int(input(\"Enter the lower limit of range : \"))\n",
        "    for i in range(b,a+1):\n",
        "      if n == pow(3,i):\n",
        "        print(f\"{n} is powr of 2\")\n",
        "      else:\n",
        "        print(\"not possibel\")\n",
        "\n",
        "pow_of_3()"
      ],
      "metadata": {
        "colab": {
          "base_uri": "https://localhost:8080/"
        },
        "id": "4PXL5hTTMKLy",
        "outputId": "1759bcaf-f958-4ff3-96bb-c88c6df07935"
      },
      "execution_count": null,
      "outputs": [
        {
          "output_type": "stream",
          "name": "stdout",
          "text": [
            "Enter the no : 9\n",
            "Enter the upper limit of range : 4\n",
            "Enter the lower limit of range : 1\n",
            "not possibel\n",
            "9 is powr of 2\n",
            "not possibel\n",
            "not possibel\n"
          ]
        }
      ]
    },
    {
      "cell_type": "markdown",
      "source": [
        "Write a Python program to check if an integer is the power of another integer.Go to the editor\n",
        "Input : 16, 2\n",
        "Output : True"
      ],
      "metadata": {
        "id": "wk_f-n3xNcF_"
      }
    },
    {
      "cell_type": "code",
      "source": [
        "import math\n",
        "def po_int(n,x):\n",
        "  for i in range(0,50):\n",
        "    if pow(x,i) == n :\n",
        "      return True\n",
        "    else:\n",
        "      return False\n",
        "po_int(27,3)\n"
      ],
      "metadata": {
        "colab": {
          "base_uri": "https://localhost:8080/"
        },
        "id": "HxNvhjzaNG4E",
        "outputId": "b822702b-48f8-44e5-fba0-e096a2dc01d3"
      },
      "execution_count": null,
      "outputs": [
        {
          "output_type": "execute_result",
          "data": {
            "text/plain": [
              "False"
            ]
          },
          "metadata": {},
          "execution_count": 12
        }
      ]
    },
    {
      "cell_type": "markdown",
      "source": [
        "![image.png](data:image/png;base64,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)"
      ],
      "metadata": {
        "id": "w6kQrQML_U-r"
      }
    },
    {
      "cell_type": "code",
      "source": [
        "def pent(n):\n",
        "  print(int((5*(n**2) -(5*n) +2)/2))\n",
        "\n",
        "\n",
        "pent(1)\n",
        "pent(2)\n",
        "pent(3)\n",
        "pent(6)\n",
        "pent(8)"
      ],
      "metadata": {
        "id": "-5PCqaxBN-6m",
        "colab": {
          "base_uri": "https://localhost:8080/"
        },
        "outputId": "a61f973a-778a-492e-aa47-f9722a7145cc"
      },
      "execution_count": null,
      "outputs": [
        {
          "output_type": "stream",
          "name": "stdout",
          "text": [
            "1\n",
            "6\n",
            "16\n",
            "76\n",
            "141\n"
          ]
        }
      ]
    },
    {
      "cell_type": "markdown",
      "source": [
        "a ,b  a>b b/"
      ],
      "metadata": {
        "id": "C0aXcNdtvNKY"
      }
    },
    {
      "cell_type": "code",
      "source": [
        "def dib_by_b(a,b):\n",
        "  if a>b:\n",
        "    for i in range(a,a+b):\n",
        "      if i%b==0:\n",
        "        print(i)\n",
        "  else:\n",
        "    print(\"Not possible\")\n",
        "\n",
        "dib_by_b(17,8)\n",
        "dib_by_b(98,3)\n",
        "dib_by_b(14,11)"
      ],
      "metadata": {
        "id": "s9dC6w7m_xl4",
        "colab": {
          "base_uri": "https://localhost:8080/"
        },
        "outputId": "9e295a84-366d-47d2-a59c-20d287513b6e"
      },
      "execution_count": null,
      "outputs": [
        {
          "output_type": "stream",
          "name": "stdout",
          "text": [
            "24\n",
            "99\n",
            "22\n"
          ]
        }
      ]
    },
    {
      "cell_type": "code",
      "source": [
        "def sum_of_all(l):\n",
        "  s=0\n",
        "  for i in l:\n",
        "    s += i\n",
        "  return s\n",
        "\n",
        "sum_of_all([1,2,3])"
      ],
      "metadata": {
        "colab": {
          "base_uri": "https://localhost:8080/"
        },
        "id": "UoiHzI0zvvLC",
        "outputId": "1ec8222c-7a0f-4969-cc3f-84db897d7106"
      },
      "execution_count": null,
      "outputs": [
        {
          "output_type": "execute_result",
          "data": {
            "text/plain": [
              "6"
            ]
          },
          "metadata": {},
          "execution_count": 6
        }
      ]
    },
    {
      "cell_type": "code",
      "source": [
        "def sum_of_all(l):\n",
        "  s=1\n",
        "  for i in l:\n",
        "    s *= i\n",
        "  return s\n",
        "\n",
        "sum_of_all([1,2,3])"
      ],
      "metadata": {
        "colab": {
          "base_uri": "https://localhost:8080/"
        },
        "id": "EQsb2F032lvT",
        "outputId": "40cf26f2-6ff1-478f-d811-be62e0a1ece4"
      },
      "execution_count": null,
      "outputs": [
        {
          "output_type": "execute_result",
          "data": {
            "text/plain": [
              "6"
            ]
          },
          "metadata": {},
          "execution_count": 7
        }
      ]
    },
    {
      "cell_type": "markdown",
      "source": [
        "Write a Python program to get the largest number from a list."
      ],
      "metadata": {
        "id": "iUFmg7mE23tM"
      }
    },
    {
      "cell_type": "code",
      "source": [
        "max([1,2,3])"
      ],
      "metadata": {
        "colab": {
          "base_uri": "https://localhost:8080/"
        },
        "id": "uKD5uV1M2we6",
        "outputId": "ecd0d73f-3901-46ee-9e0e-363e8c404198"
      },
      "execution_count": null,
      "outputs": [
        {
          "output_type": "execute_result",
          "data": {
            "text/plain": [
              "3"
            ]
          },
          "metadata": {},
          "execution_count": 8
        }
      ]
    },
    {
      "cell_type": "markdown",
      "source": [
        "Write a Python program to count the number of strings where the string length is 2 or more and the first and last character are same from a given list of strings. Go to the editor\n",
        "Sample List : ['abc', 'xyz', 'aba', '1221']"
      ],
      "metadata": {
        "id": "DWvbJ9ZP3Hic"
      }
    },
    {
      "cell_type": "code",
      "source": [
        "def cou_st(l):\n",
        "  c = 0\n",
        "  m=[]\n",
        "  for i in l:\n",
        "    if len(i)>=2 and i[0]==i[-1]:\n",
        "      c += 1\n",
        "      m.append(i)\n",
        "  print(f\"items : {m}\")\n",
        "  print(f\"count : {c}\")\n",
        "\n",
        "cou_st(['abc', 'xyz', 'aba', '1221'])"
      ],
      "metadata": {
        "colab": {
          "base_uri": "https://localhost:8080/"
        },
        "id": "w7vXGydp2773",
        "outputId": "f35ccd09-066a-482d-b671-b55327f777db"
      },
      "execution_count": null,
      "outputs": [
        {
          "output_type": "stream",
          "name": "stdout",
          "text": [
            "items : ['aba', '1221']\n",
            "count : 2\n"
          ]
        }
      ]
    },
    {
      "cell_type": "markdown",
      "source": [
        "sort by odd position"
      ],
      "metadata": {
        "id": "9NMGjYWZ3jI3"
      }
    },
    {
      "cell_type": "code",
      "source": [
        "a = [13,2,4,15,12,10,5]\n",
        "\n",
        "def odd_index(a):\n",
        "  l = len(a)\n",
        "  m=[]\n",
        "  n=[]\n",
        "  for i  in range(l):\n",
        "    if i%2==0:\n",
        "      m.append(a[i])\n",
        "    else:\n",
        "      n.append(a[i])\n",
        "\n",
        "  m.sort(reverse=True)\n",
        "  n.sort()\n",
        "  out=[]\n",
        "  ind = len(n) if len(n)<len(m) else len(m)\n",
        "  for i in range(ind):\n",
        "    out.append(m[i])\n",
        "    out.append(n[i])\n",
        "  out.extend(m[ind:])\n",
        "  out.extend(n[ind:])\n",
        "  print(out)\n",
        "\n",
        "\n",
        "\n",
        "odd_index(a)\n",
        "odd_index([1,2,3,4,5,6,7,8,9])"
      ],
      "metadata": {
        "id": "xC1zAy8S4EXr",
        "colab": {
          "base_uri": "https://localhost:8080/"
        },
        "outputId": "413befd3-b1d7-43ec-d62e-ce5bf10fea74"
      },
      "execution_count": null,
      "outputs": [
        {
          "output_type": "stream",
          "name": "stdout",
          "text": [
            "[13, 2, 12, 10, 5, 15, 4]\n",
            "[9, 2, 7, 4, 5, 6, 3, 8, 1]\n"
          ]
        }
      ]
    },
    {
      "cell_type": "code",
      "source": [
        "import numpy as np\n",
        "\n",
        "def claculate_distance(X,Y):\n",
        "  return np.sqrt(np.square(X[0]-Y[0]) + np.square(X[1] - Y[1]))\n",
        "\n",
        "\n",
        "def perimeter_of_triangle(a):\n",
        "  m = claculate_distance(a[0],a[1])\n",
        "  n = claculate_distance(a[1],a[2])\n",
        "  o = claculate_distance(a[0],a[2])\n",
        "\n",
        "  return f\"Perimeter of Triangle is : {m+n+o}\"\n",
        "\n",
        "a = [[15,7],[5,22],[11,1]]\n",
        "\n",
        "perimeter_of_triangle(a)"
      ],
      "metadata": {
        "id": "xyN6pfgeKkBC",
        "colab": {
          "base_uri": "https://localhost:8080/",
          "height": 35
        },
        "outputId": "ce8b1627-f1ac-470b-ce57-cf38d697ccee"
      },
      "execution_count": null,
      "outputs": [
        {
          "output_type": "execute_result",
          "data": {
            "text/plain": [
              "'Perimeter of Triangle is : 47.07918859608948'"
            ],
            "application/vnd.google.colaboratory.intrinsic+json": {
              "type": "string"
            }
          },
          "metadata": {},
          "execution_count": 9
        }
      ]
    },
    {
      "cell_type": "markdown",
      "source": [
        "Create a function to check if a candidate is qualified in an imaginary coding interview of an imaginary tech startup.\n",
        "The criteria for a candidate to be qualified in the coding interview is:\n",
        "The candidate should have complete all the questions.\n",
        "The maximum time given to complete the interview is 120 minutes.\n",
        "The maximum time given for very easy questions is 5 minutes each.\n",
        "The maximum time given for easy questions is 10 minutes each.\n",
        "The maximum time given for medium questions is 15 minutes each.\n",
        "The maximum time given for hard questions is 20 minutes each.\n",
        "If all the above conditions are satisfied, return \"qualified\", else return \"disqualified\".\n",
        "You will be given a list of time taken by a candidate to solve a particular question and the total time taken by the candidate to complete the interview.\n",
        "Given a list , in a true condition will always be in the format [very easy, very easy, easy, easy, medium, medium, hard, hard].\n",
        "The maximum time to complete the interview includes a buffer time of 20 minutes.\n",
        "Examples\n",
        "interview([5, 5, 10, 10, 15, 15, 20, 20], 120) ➞ \"qualified\"\n",
        "\n",
        "interview([2, 3, 8, 6, 5, 12, 10, 18], 64) ➞ \"qualified\"\n",
        "\n",
        "interview([5, 5, 10, 10, 25, 15, 20, 20], 120) ➞ \"disqualified\"\n",
        "# Exceeded the time limit for a medium question.\n",
        "\n",
        "interview([5, 5, 10, 10, 15, 15, 20], 120) ➞ \"disqualified\"\n",
        "# Did not complete all the questions.\n",
        "\n",
        "interview([5, 5, 10, 10, 15, 15, 20, 20], 130) ➞ \"disqualified\"\n",
        "# Solved all the questions in their respected time limits but exceeded the total time limit of the interview."
      ],
      "metadata": {
        "id": "T1vRy7AQ6Hcs"
      }
    },
    {
      "cell_type": "code",
      "source": [
        "def interview():\n",
        "  print(\"Total 8 question\")\n",
        "  print(\"1-2 very easy -> max time 5 minutes\")\n",
        "  print(\"3-4 easy -> max time 10 minutes\")\n",
        "  print(\"5-6 mdium -> max time 15 minutes\")\n",
        "  print(\"7-8 hard -> max time 20 minutes\")\n",
        "  a=[]\n",
        "  x1 = int(input(\"Time taken to solve 1st very easy question : \"))\n",
        "  a.append(x1)\n",
        "  x2 = int(input(\"Time taken to solve 2nd very easy question : \"))\n",
        "  a.append(x2)\n",
        "  x3 = int(input(\"Time taken to solve 3rd easy question : \"))\n",
        "  a.append(x3)\n",
        "  x4 = int(input(\"Time taken to solve 4th easy question : \"))\n",
        "  a.append(x4)\n",
        "  x5 = int(input(\"Time taken to solve 5th medium question : \"))\n",
        "  a.append(x5)\n",
        "  x6 = int(input(\"Time taken to solve 6th medium question : \"))\n",
        "  a.append(x6)\n",
        "  x7 = int(input(\"Time taken to solve 7th hard question : \"))\n",
        "  a.append(x7)\n",
        "  x8 = int(input(\"Time taken to solve 7th hard question : \"))\n",
        "  a.append(x8)\n",
        "\n",
        "  print(\"Also you have additional buffer time 20 minutes and total allowed time is 120 minute\")\n",
        "  s = sum(a)\n",
        "  if s+20 > 120:\n",
        "    return \"Disqualified\"\n",
        "  else:\n",
        "    return \"Qualified\"\n",
        "  \n",
        "\n",
        "interview()\n"
      ],
      "metadata": {
        "colab": {
          "base_uri": "https://localhost:8080/",
          "height": 278
        },
        "id": "6-9Jy99y4XAW",
        "outputId": "055b32a1-63d4-4a5b-9074-a80c38477a06"
      },
      "execution_count": null,
      "outputs": [
        {
          "output_type": "stream",
          "name": "stdout",
          "text": [
            "Total 8 question\n",
            "1-2 very easy -> max time 5 minutes\n",
            "3-4 easy -> max time 10 minutes\n",
            "5-6 mdium -> max time 15 minutes\n",
            "7-8 hard -> max time 20 minutes\n",
            "Time taken to solve 1st very easy question : 5\n",
            "Time taken to solve 2nd very easy question : 5\n",
            "Time taken to solve 3rd easy question : 10\n",
            "Time taken to solve 4th easy question : 10\n",
            "Time taken to solve 5th medium question : 15\n",
            "Time taken to solve 6th medium question : 15\n",
            "Time taken to solve 7th hard question : 20\n",
            "Time taken to solve 7th hard question : 20\n",
            "Also you have additional buffer time 20 minutes and total allowed time is 120 minute\n"
          ]
        },
        {
          "output_type": "execute_result",
          "data": {
            "text/plain": [
              "'Qualified'"
            ],
            "application/vnd.google.colaboratory.intrinsic+json": {
              "type": "string"
            }
          },
          "metadata": {},
          "execution_count": 15
        }
      ]
    },
    {
      "cell_type": "code",
      "source": [
        "\n",
        "\n",
        "a[0][0]\n"
      ],
      "metadata": {
        "id": "K-7L_fNo40fi",
        "colab": {
          "base_uri": "https://localhost:8080/"
        },
        "outputId": "b8a8511d-e178-4450-da82-f4685f65f773"
      },
      "execution_count": null,
      "outputs": [
        {
          "output_type": "execute_result",
          "data": {
            "text/plain": [
              "15"
            ]
          },
          "metadata": {},
          "execution_count": 12
        }
      ]
    },
    {
      "cell_type": "code",
      "source": [
        "s = 'my name is   Rohan das'\n",
        "s.capitalize()"
      ],
      "metadata": {
        "id": "KZda2gPC2hZa",
        "colab": {
          "base_uri": "https://localhost:8080/",
          "height": 35
        },
        "outputId": "d1e94bea-01d2-42ad-ef43-96d1ee82533b"
      },
      "execution_count": null,
      "outputs": [
        {
          "output_type": "execute_result",
          "data": {
            "text/plain": [
              "'My name is   rohan das'"
            ],
            "application/vnd.google.colaboratory.intrinsic+json": {
              "type": "string"
            }
          },
          "metadata": {},
          "execution_count": 13
        }
      ]
    },
    {
      "cell_type": "code",
      "source": [
        "s.title()"
      ],
      "metadata": {
        "colab": {
          "base_uri": "https://localhost:8080/",
          "height": 35
        },
        "id": "acJWMD0sXGRq",
        "outputId": "e106c421-5316-4dcc-a2e1-437edb28299a"
      },
      "execution_count": null,
      "outputs": [
        {
          "output_type": "execute_result",
          "data": {
            "text/plain": [
              "'I Am Rohan Das'"
            ],
            "application/vnd.google.colaboratory.intrinsic+json": {
              "type": "string"
            }
          },
          "metadata": {},
          "execution_count": 3
        }
      ]
    },
    {
      "cell_type": "code",
      "source": [
        "m = str(\"abcd\")\n",
        "n= \"abcd\"\n",
        "m is n"
      ],
      "metadata": {
        "colab": {
          "base_uri": "https://localhost:8080/"
        },
        "id": "DE1zAxb2XOWh",
        "outputId": "049864d0-793d-4d61-ae95-368654235e4b"
      },
      "execution_count": null,
      "outputs": [
        {
          "output_type": "execute_result",
          "data": {
            "text/plain": [
              "True"
            ]
          },
          "metadata": {},
          "execution_count": 5
        }
      ]
    },
    {
      "cell_type": "code",
      "source": [
        "a = \" sal is 700\"\n",
        "a.isalnum()"
      ],
      "metadata": {
        "colab": {
          "base_uri": "https://localhost:8080/"
        },
        "id": "ipCNAxUJXczd",
        "outputId": "c3db7e17-2833-410e-a4d2-1a399c015c55"
      },
      "execution_count": null,
      "outputs": [
        {
          "output_type": "execute_result",
          "data": {
            "text/plain": [
              "False"
            ]
          },
          "metadata": {},
          "execution_count": 6
        }
      ]
    },
    {
      "cell_type": "code",
      "source": [
        "\"Emma\"<\"Emm\""
      ],
      "metadata": {
        "colab": {
          "base_uri": "https://localhost:8080/"
        },
        "id": "E6wJINsbXpZc",
        "outputId": "65ab60dd-d6e1-4735-fe92-183d332ec9cf"
      },
      "execution_count": null,
      "outputs": [
        {
          "output_type": "execute_result",
          "data": {
            "text/plain": [
              "False"
            ]
          },
          "metadata": {},
          "execution_count": 9
        }
      ]
    },
    {
      "cell_type": "code",
      "source": [
        "s1=\"my sal is 7000\"\n",
        "s2 = \"7000\"\n",
        "s2.isdigit()"
      ],
      "metadata": {
        "colab": {
          "base_uri": "https://localhost:8080/"
        },
        "id": "7Aztw7RFYPuG",
        "outputId": "c1605fb0-d894-4555-a973-7dd81755bd7c"
      },
      "execution_count": null,
      "outputs": [
        {
          "output_type": "execute_result",
          "data": {
            "text/plain": [
              "True"
            ]
          },
          "metadata": {},
          "execution_count": 11
        }
      ]
    },
    {
      "cell_type": "code",
      "source": [
        "n = int(input(\"Enter hour : \"))\n",
        "def hour_to_sec(n):\n",
        "  if n==0:\n",
        "    return \"please enter valid hour\"\n",
        "  else:\n",
        "    return f\"{n*60*60} seconds\"\n",
        "\n",
        "hour_to_sec(n)\n",
        "\n"
      ],
      "metadata": {
        "colab": {
          "base_uri": "https://localhost:8080/",
          "height": 53
        },
        "id": "7_mX44D9Y2sq",
        "outputId": "df6418b5-fb7f-4af8-f8c3-062beb70dd63"
      },
      "execution_count": null,
      "outputs": [
        {
          "name": "stdout",
          "output_type": "stream",
          "text": [
            "Enter hour : 3\n"
          ]
        },
        {
          "output_type": "execute_result",
          "data": {
            "text/plain": [
              "'10800 seconds'"
            ],
            "application/vnd.google.colaboratory.intrinsic+json": {
              "type": "string"
            }
          },
          "metadata": {},
          "execution_count": 16
        }
      ]
    },
    {
      "cell_type": "code",
      "source": [
        "import numpy as np\n",
        "\n",
        "def ret_identity_matrix():\n",
        "  m = int(input(\"Enter the size of matrix : \"))\n",
        "  return np.identity(m)\n",
        "\n",
        "ret_identity_matrix()"
      ],
      "metadata": {
        "id": "5GRo82FYmUFZ",
        "colab": {
          "base_uri": "https://localhost:8080/"
        },
        "outputId": "8356d864-46f7-4ec4-c0de-4d92f8371b70"
      },
      "execution_count": null,
      "outputs": [
        {
          "name": "stdout",
          "output_type": "stream",
          "text": [
            "Enter the size of matrix : 2\n"
          ]
        },
        {
          "output_type": "execute_result",
          "data": {
            "text/plain": [
              "array([[1., 0.],\n",
              "       [0., 1.]])"
            ]
          },
          "metadata": {},
          "execution_count": 5
        }
      ]
    },
    {
      "cell_type": "code",
      "source": [
        "p = \"Python Coding Fun\"\n",
        "p[-1]"
      ],
      "metadata": {
        "id": "k5TNQhr53-3S",
        "colab": {
          "base_uri": "https://localhost:8080/",
          "height": 35
        },
        "outputId": "68dcc075-bdb8-4870-fcd4-588836bb799b"
      },
      "execution_count": null,
      "outputs": [
        {
          "output_type": "execute_result",
          "data": {
            "text/plain": [
              "'n'"
            ],
            "application/vnd.google.colaboratory.intrinsic+json": {
              "type": "string"
            }
          },
          "metadata": {},
          "execution_count": 1
        }
      ]
    },
    {
      "cell_type": "code",
      "source": [
        "p[::-1]"
      ],
      "metadata": {
        "colab": {
          "base_uri": "https://localhost:8080/",
          "height": 35
        },
        "id": "xs-HnHtkLq4Y",
        "outputId": "de161b72-6d84-4516-856b-9506755d32cb"
      },
      "execution_count": null,
      "outputs": [
        {
          "output_type": "execute_result",
          "data": {
            "text/plain": [
              "'nuF gnidoC nohtyP'"
            ],
            "application/vnd.google.colaboratory.intrinsic+json": {
              "type": "string"
            }
          },
          "metadata": {},
          "execution_count": 3
        }
      ]
    },
    {
      "cell_type": "code",
      "source": [
        "import numpy as np\n",
        "\n",
        "x= np.array([[1,7,3],\n",
        "             [3,5,6],\n",
        "             [6,8,9]])\n",
        "\n",
        "y  = np.array([[1,1,1,2],\n",
        "               [6,7,3,0],\n",
        "               [4,5,9,1]])\n",
        "\n",
        "def mat_mul(x,y):\n",
        "  if x.shape[1]==y.shape[0]:\n",
        "    print(\"multiplication is possible\")\n",
        "    c = np.zeros([x.shape[0],y.shape[1]])\n",
        "    print(\"Empty matrix is : \", c)\n",
        "    for i in range(len(x)):\n",
        "      for j in range(len(y[0])):\n",
        "        for k in range(len(y)):\n",
        "          c[i][j] = c[i][j] + x[i][k] * y[k][j]\n",
        "    print(f\"matrix mul is {c}\")\n",
        "    \n",
        "  else:\n",
        "    print(\"matrix mul is not possible\")\n",
        "\n",
        "mat_mul(x,y)"
      ],
      "metadata": {
        "id": "FQ_RwXBhLuJZ",
        "colab": {
          "base_uri": "https://localhost:8080/"
        },
        "outputId": "ff220744-fd3d-4801-b500-aa417b7304bc"
      },
      "execution_count": null,
      "outputs": [
        {
          "output_type": "stream",
          "name": "stdout",
          "text": [
            "multiplication is possible\n",
            "Empty matrix is :  [[0. 0. 0. 0.]\n",
            " [0. 0. 0. 0.]\n",
            " [0. 0. 0. 0.]]\n",
            "matrix mul is [[ 55.  65.  49.   5.]\n",
            " [ 57.  68.  72.  12.]\n",
            " [ 90. 107. 111.  21.]]\n"
          ]
        }
      ]
    },
    {
      "cell_type": "code",
      "source": [
        "np.zeros(2)\n"
      ],
      "metadata": {
        "colab": {
          "base_uri": "https://localhost:8080/"
        },
        "id": "tqXLbRLwS4Gd",
        "outputId": "55e84acb-502f-4acc-8ce5-322c6aaf90bf"
      },
      "execution_count": null,
      "outputs": [
        {
          "output_type": "execute_result",
          "data": {
            "text/plain": [
              "array([0., 0.])"
            ]
          },
          "metadata": {},
          "execution_count": 5
        }
      ]
    },
    {
      "cell_type": "code",
      "source": [
        "arr = np.array([ [1], [1, 2] ])\n",
        "\n",
        "print(arr, arr.dtype)"
      ],
      "metadata": {
        "colab": {
          "base_uri": "https://localhost:8080/"
        },
        "id": "MdQwMptOVKUR",
        "outputId": "124e1375-a631-409d-866b-a543f1921c83"
      },
      "execution_count": null,
      "outputs": [
        {
          "output_type": "stream",
          "name": "stdout",
          "text": [
            "[list([1]) list([1, 2])] object\n"
          ]
        },
        {
          "output_type": "stream",
          "name": "stderr",
          "text": [
            "/usr/local/lib/python3.7/dist-packages/ipykernel_launcher.py:1: VisibleDeprecationWarning: Creating an ndarray from ragged nested sequences (which is a list-or-tuple of lists-or-tuples-or ndarrays with different lengths or shapes) is deprecated. If you meant to do this, you must specify 'dtype=object' when creating the ndarray.\n",
            "  \"\"\"Entry point for launching an IPython kernel.\n"
          ]
        }
      ]
    },
    {
      "cell_type": "code",
      "source": [
        "sum([i**0.5 for i in [4,9,16,25,36]])"
      ],
      "metadata": {
        "colab": {
          "base_uri": "https://localhost:8080/"
        },
        "id": "wAPCxvDJdgUV",
        "outputId": "2986c000-6aa6-4347-c1fe-30598db20081"
      },
      "execution_count": null,
      "outputs": [
        {
          "output_type": "execute_result",
          "data": {
            "text/plain": [
              "20.0"
            ]
          },
          "metadata": {},
          "execution_count": 9
        }
      ]
    },
    {
      "cell_type": "code",
      "source": [
        "my_tuple = (1,2,3,4)\n",
        "list(my_tuple).append((5,6,7))\n",
        "print(len(my_tuple))"
      ],
      "metadata": {
        "colab": {
          "base_uri": "https://localhost:8080/"
        },
        "id": "ovwPQ20oeD3U",
        "outputId": "832bcdd3-36d0-453e-89c1-c2a86c06d5cd"
      },
      "execution_count": null,
      "outputs": [
        {
          "output_type": "stream",
          "name": "stdout",
          "text": [
            "4\n"
          ]
        }
      ]
    },
    {
      "cell_type": "code",
      "source": [
        "def check_harshad():\n",
        "  n = int(input(\"enter no : \"))\n",
        "  s=0\n",
        "  for i in str(n):\n",
        "    s = s + int(i)\n",
        "  print(f\"sum of all digit is : {s}\")\n",
        "  if n%s== 0:\n",
        "    print(f\"{n} is divisible by {s}\")\n",
        "  else:\n",
        "    print(f\"{n} is not divisible by {s}\")\n",
        "    \n",
        "\n",
        "print(check_harshad())\n",
        "print(check_harshad())"
      ],
      "metadata": {
        "id": "_5gAcBLGf_QG",
        "colab": {
          "base_uri": "https://localhost:8080/"
        },
        "outputId": "e1463480-877a-45e8-da85-66f30ffbb423"
      },
      "execution_count": null,
      "outputs": [
        {
          "output_type": "stream",
          "name": "stdout",
          "text": [
            "enter no : 75\n",
            "sum of all digit is : 12\n",
            "not divisible\n",
            "None\n",
            "enter no : 171\n",
            "sum of all digit is : 9\n",
            "171 is divisible by 9\n",
            "None\n"
          ]
        }
      ]
    },
    {
      "cell_type": "code",
      "source": [],
      "metadata": {
        "id": "cXD-ueegfF62"
      },
      "execution_count": null,
      "outputs": []
    },
    {
      "cell_type": "code",
      "source": [
        "c = db_dept.set_index('id').join(db_employee.set_index('department_id'))\n",
        "sal_diff =abs(c[c['department']=='engineering'].salary.max() - c[c['department']=='marketing'] .salary.max()) \n",
        "\n",
        "sal_diff"
      ],
      "metadata": {
        "id": "yhm9HYILE0cd"
      },
      "execution_count": null,
      "outputs": []
    },
    {
      "cell_type": "code",
      "source": [
        "a = 100\n",
        "print(a/0)"
      ],
      "metadata": {
        "colab": {
          "base_uri": "https://localhost:8080/",
          "height": 183
        },
        "id": "Y3vs6PvuiVoH",
        "outputId": "30425f34-2a32-4c81-dd70-d74e0765435b"
      },
      "execution_count": null,
      "outputs": [
        {
          "output_type": "error",
          "ename": "ZeroDivisionError",
          "evalue": "ignored",
          "traceback": [
            "\u001b[0;31m---------------------------------------------------------------------------\u001b[0m",
            "\u001b[0;31mZeroDivisionError\u001b[0m                         Traceback (most recent call last)",
            "\u001b[0;32m<ipython-input-1-22b4b4a41223>\u001b[0m in \u001b[0;36m<module>\u001b[0;34m\u001b[0m\n\u001b[1;32m      1\u001b[0m \u001b[0ma\u001b[0m \u001b[0;34m=\u001b[0m \u001b[0;36m100\u001b[0m\u001b[0;34m\u001b[0m\u001b[0;34m\u001b[0m\u001b[0m\n\u001b[0;32m----> 2\u001b[0;31m \u001b[0mprint\u001b[0m\u001b[0;34m(\u001b[0m\u001b[0ma\u001b[0m\u001b[0;34m/\u001b[0m\u001b[0;36m0\u001b[0m\u001b[0;34m)\u001b[0m\u001b[0;34m\u001b[0m\u001b[0;34m\u001b[0m\u001b[0m\n\u001b[0m",
            "\u001b[0;31mZeroDivisionError\u001b[0m: division by zero"
          ]
        }
      ]
    },
    {
      "cell_type": "code",
      "source": [
        "a= 100\n",
        "try:\n",
        "  a = a/0\n",
        "  print(a)\n",
        "except Exception as e:\n",
        "  print(e)\n",
        "finally:\n",
        "  print(\"div by 0 error\")\n",
        "\n"
      ],
      "metadata": {
        "colab": {
          "base_uri": "https://localhost:8080/"
        },
        "id": "SYkifnzDjpqu",
        "outputId": "0692c88f-2a40-4fdd-9891-c054837262bb"
      },
      "execution_count": null,
      "outputs": [
        {
          "output_type": "stream",
          "name": "stdout",
          "text": [
            "division by zero\n",
            "div by 0 error\n"
          ]
        }
      ]
    },
    {
      "cell_type": "markdown",
      "source": [
        "decorattors"
      ],
      "metadata": {
        "id": "beRZYQPskwwM"
      }
    },
    {
      "cell_type": "code",
      "source": [
        "def a(s):\n",
        "  return \"s is unique\"\n",
        "\n",
        "def b(s):\n",
        "  return \"s is not unique\"\n",
        "\n",
        "def c(s):\n",
        "  return a(s) +\" \"+ b(s)\n",
        "\n",
        "c(\"rohan\")"
      ],
      "metadata": {
        "colab": {
          "base_uri": "https://localhost:8080/",
          "height": 35
        },
        "id": "dV6yOwgLjrs4",
        "outputId": "aad66f8c-21d6-468c-eff4-de5e2c7e1983"
      },
      "execution_count": null,
      "outputs": [
        {
          "output_type": "execute_result",
          "data": {
            "text/plain": [
              "'s is unique s is not unique'"
            ],
            "application/vnd.google.colaboratory.intrinsic+json": {
              "type": "string"
            }
          },
          "metadata": {},
          "execution_count": 6
        }
      ]
    },
    {
      "cell_type": "markdown",
      "source": [
        "Collections "
      ],
      "metadata": {
        "id": "seNZ9iUmla78"
      }
    },
    {
      "cell_type": "code",
      "source": [
        "from collections import Counter\n",
        "\n",
        "print(Counter(['b','b','a','c','a']))"
      ],
      "metadata": {
        "colab": {
          "base_uri": "https://localhost:8080/"
        },
        "id": "yCIK51BUlF6A",
        "outputId": "64bdcb89-a885-46a1-e95c-0f5a67aaf7f9"
      },
      "execution_count": null,
      "outputs": [
        {
          "output_type": "stream",
          "name": "stdout",
          "text": [
            "Counter({'b': 2, 'a': 2, 'c': 1})\n"
          ]
        }
      ]
    },
    {
      "cell_type": "code",
      "source": [
        "from collections import OrderedDict\n",
        "\n",
        "d = {}\n",
        "d['a']=5,\n",
        "d['b']=3,\n",
        "d['c']=6\n",
        "\n",
        "print(OrderedDict(d))"
      ],
      "metadata": {
        "colab": {
          "base_uri": "https://localhost:8080/"
        },
        "id": "o6Ma2EySl_Ri",
        "outputId": "86f13afd-3932-41ae-f90e-43a69818e487"
      },
      "execution_count": null,
      "outputs": [
        {
          "output_type": "stream",
          "name": "stdout",
          "text": [
            "OrderedDict([('a', (5,)), ('b', (3,)), ('c', 6)])\n"
          ]
        }
      ]
    },
    {
      "cell_type": "code",
      "source": [
        "def simpleGeneratorFun():\n",
        "    yield 1\n",
        "    yield 2\n",
        "    yield 3\n",
        "  \n",
        "# x is a generator object\n",
        "x = simpleGeneratorFun()\n",
        " \n",
        "# Iterating over the generator object using next\n",
        "print(next(x)) # In Python 3, __next__()\n",
        "print(next(x))\n",
        "print(next(x))"
      ],
      "metadata": {
        "colab": {
          "base_uri": "https://localhost:8080/"
        },
        "id": "K2XpC4NJmaKo",
        "outputId": "abb43589-9a7f-4275-ad8e-30c073f8e207"
      },
      "execution_count": null,
      "outputs": [
        {
          "output_type": "stream",
          "name": "stdout",
          "text": [
            "1\n",
            "2\n",
            "3\n"
          ]
        }
      ]
    },
    {
      "cell_type": "code",
      "source": [
        "def hello():\n",
        "  print(\"say hello\")\n",
        "\n",
        "a = hello()\n",
        "\n",
        "a"
      ],
      "metadata": {
        "id": "i9FZHnH_nDVY",
        "colab": {
          "base_uri": "https://localhost:8080/"
        },
        "outputId": "47a471b1-aa51-4e36-eb7c-3501d30c0dff"
      },
      "execution_count": null,
      "outputs": [
        {
          "output_type": "stream",
          "name": "stdout",
          "text": [
            "say hello\n"
          ]
        }
      ]
    },
    {
      "cell_type": "code",
      "source": [
        "list, tuple, dictionary, oops, lambda, reduce, map, Decorators, collections, Generators"
      ],
      "metadata": {
        "id": "lbxDJLzBRXrs"
      },
      "execution_count": null,
      "outputs": []
    },
    {
      "cell_type": "code",
      "source": [
        "def blackjack(a,b,c):\n",
        "  if a + b + c <= 21:\n",
        "    return a + b + c\n",
        "  elif (a+b+c) > 21 and (a == 11 or b == 11 or c == 11):\n",
        "    return a+b+c -10\n",
        "  else:\n",
        "    return 'BUST'\n",
        "    \n",
        "print(blackjack(5,6,7))\n",
        "print(blackjack(9,9,9))\n",
        "print(blackjack(9,9,11))\n",
        "print(blackjack(5,6,7))\n",
        "print(blackjack(9,9,11))\n",
        "print(blackjack(9,9,11))"
      ],
      "metadata": {
        "id": "iJvP7Bfx9K0e",
        "colab": {
          "base_uri": "https://localhost:8080/"
        },
        "outputId": "e3d8b617-a5b2-4187-aba6-a217738dae2f"
      },
      "execution_count": null,
      "outputs": [
        {
          "output_type": "stream",
          "name": "stdout",
          "text": [
            "18\n",
            "BUST\n",
            "19\n",
            "18\n",
            "19\n",
            "19\n"
          ]
        }
      ]
    },
    {
      "cell_type": "code",
      "source": [
        "l = [i for i  in range(0,15) if i%2==0]\n",
        "l"
      ],
      "metadata": {
        "id": "w2vUk-9H9L_m",
        "colab": {
          "base_uri": "https://localhost:8080/"
        },
        "outputId": "26f24008-1f2e-477a-dc12-4ec8afb7fe2b"
      },
      "execution_count": null,
      "outputs": [
        {
          "output_type": "execute_result",
          "data": {
            "text/plain": [
              "[0, 2, 4, 6, 8, 10, 12, 14]"
            ]
          },
          "metadata": {},
          "execution_count": 3
        }
      ]
    },
    {
      "cell_type": "markdown",
      "source": [
        "![image.png](data:image/png;base64,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)"
      ],
      "metadata": {
        "id": "Mb_bSPvWeqGh"
      }
    },
    {
      "cell_type": "code",
      "source": [
        "a = [1,2,3,4,5]\n",
        "s = 0\n",
        "for i in a:\n",
        "  s += i\n",
        "print(s) "
      ],
      "metadata": {
        "id": "WGcS7esu9L8e",
        "colab": {
          "base_uri": "https://localhost:8080/"
        },
        "outputId": "966821c4-6f49-4073-fa08-097f71ac02b8"
      },
      "execution_count": 2,
      "outputs": [
        {
          "output_type": "stream",
          "name": "stdout",
          "text": [
            "15\n"
          ]
        }
      ]
    },
    {
      "cell_type": "markdown",
      "source": [
        "![image.png](data:image/png;base64,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)\n",
        "\n",
        "![image.png](data:image/png;base64,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)"
      ],
      "metadata": {
        "id": "JXGCKV0OfOc2"
      }
    },
    {
      "cell_type": "code",
      "source": [
        "def q1(n,t):\n",
        "  for i in range(len(n)):\n",
        "    for j in range(i+1 , len(n)):\n",
        "      if n[i] + n[j] == t:\n",
        "        return [i,j]\n",
        "\n",
        "\n",
        "q1([1,5,7,2],12)"
      ],
      "metadata": {
        "id": "kRWtxcB59L5k",
        "colab": {
          "base_uri": "https://localhost:8080/"
        },
        "outputId": "22ab3e82-3aac-4aff-cd73-071b02b5301f"
      },
      "execution_count": 10,
      "outputs": [
        {
          "output_type": "execute_result",
          "data": {
            "text/plain": [
              "[1, 2]"
            ]
          },
          "metadata": {},
          "execution_count": 10
        }
      ]
    },
    {
      "cell_type": "markdown",
      "source": [
        "![image.png](data:image/png;base64,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)"
      ],
      "metadata": {
        "id": "oxzWaJns1jLi"
      }
    },
    {
      "cell_type": "code",
      "source": [
        "def find_mistake(num):\n",
        "  m=[]\n",
        "  for i in range(1,len(num)+1):\n",
        "    m.append(i)\n",
        "  b = set(m) - set(num)\n",
        "  for i in num:\n",
        "    if num.count(i) == 2:\n",
        "      c = list(b)[0] + i\n",
        "  return c\n",
        "\n",
        "find_mistake([4,3,3,1])"
      ],
      "metadata": {
        "id": "qprVcToO9L28",
        "colab": {
          "base_uri": "https://localhost:8080/"
        },
        "outputId": "dba09540-cc56-4ff4-a93c-ca4061b0d0e6"
      },
      "execution_count": 27,
      "outputs": [
        {
          "output_type": "execute_result",
          "data": {
            "text/plain": [
              "5"
            ]
          },
          "metadata": {},
          "execution_count": 27
        }
      ]
    },
    {
      "cell_type": "code",
      "source": [],
      "metadata": {
        "id": "gRmP7QR19Lz8"
      },
      "execution_count": null,
      "outputs": []
    },
    {
      "cell_type": "code",
      "source": [],
      "metadata": {
        "id": "q_XBK37t9LxB"
      },
      "execution_count": null,
      "outputs": []
    },
    {
      "cell_type": "code",
      "source": [],
      "metadata": {
        "id": "gLIZ7hfTOsnH"
      },
      "execution_count": null,
      "outputs": []
    },
    {
      "cell_type": "code",
      "source": [],
      "metadata": {
        "id": "vIz6JLVvbAZl"
      },
      "execution_count": null,
      "outputs": []
    },
    {
      "cell_type": "code",
      "source": [],
      "metadata": {
        "id": "rwAjbmc5xz1q"
      },
      "execution_count": null,
      "outputs": []
    },
    {
      "cell_type": "code",
      "source": [],
      "metadata": {
        "id": "7P5oGiMrvOKq"
      },
      "execution_count": null,
      "outputs": []
    }
  ]
}