{
  "nbformat": 4,
  "nbformat_minor": 0,
  "metadata": {
    "colab": {
      "provenance": [],
      "collapsed_sections": [],
      "authorship_tag": "ABX9TyPe/91rbNoFOcIAlLgQlpd/",
      "include_colab_link": true
    },
    "kernelspec": {
      "name": "python3",
      "display_name": "Python 3"
    },
    "language_info": {
      "name": "python"
    }
  },
  "cells": [
    {
      "cell_type": "markdown",
      "metadata": {
        "id": "view-in-github",
        "colab_type": "text"
      },
      "source": [
        "<a href=\"https://colab.research.google.com/github/rvjh/PythonPractice/blob/main/PythonPractice22092022.ipynb\" target=\"_parent\"><img src=\"https://colab.research.google.com/assets/colab-badge.svg\" alt=\"Open In Colab\"/></a>"
      ]
    },
    {
      "cell_type": "markdown",
      "source": [
        "********DAY 1********\n",
        "\n",
        "Python coding question:\n",
        "\n",
        "Given a list of integers, return True if the array contains a 3 next to a 3 somewhere.\n",
        "\n",
        "Desired output:\n",
        "\n",
        "has_33([1, 3, 3]) → True\n",
        "\n",
        "has_33([1, 3, 1, 3]) → False\n",
        "\n",
        "has_33([3, 1, 3]) → False\n",
        "\n",
        "has_33([3,3,1]) → True"
      ],
      "metadata": {
        "id": "zSMxQl1oeER9"
      }
    },
    {
      "cell_type": "code",
      "execution_count": null,
      "metadata": {
        "id": "Dw1pcyLaJSo4",
        "colab": {
          "base_uri": "https://localhost:8080/"
        },
        "outputId": "7a775ebd-1d0e-4991-ba7b-9e73e5fb5877"
      },
      "outputs": [
        {
          "output_type": "stream",
          "name": "stdout",
          "text": [
            "True\n",
            "False\n",
            "False\n"
          ]
        }
      ],
      "source": [
        "def has_33(arr):\n",
        "  for idx in range(1,len(arr)):\n",
        "    if arr[idx]== 3 and arr[idx-1]==3:\n",
        "      return True\n",
        "    return False\n",
        "\n",
        "print(has_33([3,3,1]))\n",
        "print(has_33([1,3,1]))\n",
        "print(has_33([3, 1, 3]))"
      ]
    },
    {
      "cell_type": "markdown",
      "source": [
        "*******DAY 2********\n",
        "Python coding question:\n",
        "\n",
        "LESSER OF TWO EVENS: Write a function that returns the lesser of two given numbers if both numbers are even, but returns the greater if one or both numbers are odd.\n",
        "\n",
        "Desired output:\n",
        "\n",
        "lesser_of_two_evens(2,4)---> 2\n",
        "\n",
        "lesser_of_two_evens(2,3)---> 3\n",
        "\n",
        "lesser_of_two_evens(3,4)---> 4"
      ],
      "metadata": {
        "id": "aTHHF2-tgoCH"
      }
    },
    {
      "cell_type": "code",
      "source": [
        "def lesser_of_two_evens(a,b):\n",
        "  if a%2==0 and b%2==0:\n",
        "    if a > b:\n",
        "      return b\n",
        "    else:\n",
        "      return a\n",
        "  else:\n",
        "    if a > b:\n",
        "      return a\n",
        "    else:\n",
        "      return b\n",
        "\n",
        "print(lesser_of_two_evens(2,4))\n",
        "print(lesser_of_two_evens(2,3))\n",
        "print(lesser_of_two_evens(3,4))"
      ],
      "metadata": {
        "colab": {
          "base_uri": "https://localhost:8080/"
        },
        "id": "_vcVmVzae1si",
        "outputId": "09e22bef-614c-416b-ce67-95e95036dd5a"
      },
      "execution_count": null,
      "outputs": [
        {
          "output_type": "stream",
          "name": "stdout",
          "text": [
            "2\n",
            "3\n",
            "4\n"
          ]
        }
      ]
    },
    {
      "cell_type": "markdown",
      "source": [
        "********DAY 3********\n",
        "Python coding question:\n",
        "\n",
        "Write a Python function that takes a list and returns a new list with unique elements of the first list.\n",
        "\n",
        "Sample List : [1,1,1,1,2,2,3,3,3,3,4,5]\n",
        "Unique List : [1, 2, 3, 4, 5]"
      ],
      "metadata": {
        "id": "wsIjpgOYhuv_"
      }
    },
    {
      "cell_type": "code",
      "source": [
        "def uni_list(l):\n",
        "  s = set(l)\n",
        "  print(f\"old list : {l}\")\n",
        "  print(f\"new list : {list(s)}\")\n",
        "\n",
        "uni_list([1,1,1,1,2,2,3,3,3,3,4,5])\n"
      ],
      "metadata": {
        "colab": {
          "base_uri": "https://localhost:8080/"
        },
        "id": "P_4O4_3ghZl4",
        "outputId": "00af553c-b64a-46a0-b962-b60a64d05bef"
      },
      "execution_count": null,
      "outputs": [
        {
          "output_type": "stream",
          "name": "stdout",
          "text": [
            "old list : [1, 1, 1, 1, 2, 2, 3, 3, 3, 3, 4, 5]\n",
            "new list : [1, 2, 3, 4, 5]\n"
          ]
        }
      ]
    },
    {
      "cell_type": "markdown",
      "source": [
        "********DAY 4********\n",
        "Python coding question:\n",
        "\n",
        "Write a Python function to check whether a string is pangram or not. \n",
        "\n",
        "(Assume the string passed in does not have any punctuation)\n",
        "Note:A pangram is a sentence containing every letter of the alphabet.\n",
        "\n",
        "Example:\n",
        "A quick brown fox jumps over the lazy dog."
      ],
      "metadata": {
        "id": "p21km3yZiTsO"
      }
    },
    {
      "cell_type": "code",
      "source": [
        "def pangram(s):\n",
        "  alphabet='abcdefghijklmnopqrstuvwxyz'\n",
        "  for char in alphabet:\n",
        "    if char not in s.lower():\n",
        "      return False\n",
        "  \n",
        "  return True\n",
        "\n",
        "pangram(\"A quick brown fox jumps over the lazy dog\")"
      ],
      "metadata": {
        "colab": {
          "base_uri": "https://localhost:8080/"
        },
        "id": "nslbqTmKiJ-k",
        "outputId": "e24fd7d6-1792-4b61-d879-f161a0b06e15"
      },
      "execution_count": null,
      "outputs": [
        {
          "output_type": "execute_result",
          "data": {
            "text/plain": [
              "True"
            ]
          },
          "metadata": {},
          "execution_count": 15
        }
      ]
    },
    {
      "cell_type": "markdown",
      "source": [
        "********DAY 5********\n",
        "Python coding question:\n",
        "Write a function takes a two-word string and returns True if both words begin with same letter\n",
        "animal_crackers('Crazy Chocolate') --> True\n",
        "animal_crackers('Lazy Dog') --> False"
      ],
      "metadata": {
        "id": "GLbkpglVlIvs"
      }
    },
    {
      "cell_type": "code",
      "source": [
        "def animal_crackers(s):\n",
        "  s=s.lower()\n",
        "  l=s.split()\n",
        "  if l[0][0] == l[1][0]:\n",
        "    return True\n",
        "  else:\n",
        "    return False\n",
        "\n",
        "a=input(\"enter teo word string\")\n",
        "animal_crackers(a)"
      ],
      "metadata": {
        "colab": {
          "base_uri": "https://localhost:8080/"
        },
        "id": "aUFrA6Axk8rg",
        "outputId": "2c4727a8-a583-4c79-ebb5-da7346bd0a11"
      },
      "execution_count": null,
      "outputs": [
        {
          "name": "stdout",
          "output_type": "stream",
          "text": [
            "enter teo word stringCrazy Chocolate\n"
          ]
        },
        {
          "output_type": "execute_result",
          "data": {
            "text/plain": [
              "True"
            ]
          },
          "metadata": {},
          "execution_count": 16
        }
      ]
    },
    {
      "cell_type": "code",
      "source": [
        "a=input(\"enter teo word string\")\n",
        "animal_crackers(a)"
      ],
      "metadata": {
        "colab": {
          "base_uri": "https://localhost:8080/"
        },
        "id": "g3hWQD1gmMOq",
        "outputId": "597899c1-296f-4ac1-f363-21ad19a0ba9f"
      },
      "execution_count": null,
      "outputs": [
        {
          "name": "stdout",
          "output_type": "stream",
          "text": [
            "enter teo word stringLazy Dog\n"
          ]
        },
        {
          "output_type": "execute_result",
          "data": {
            "text/plain": [
              "False"
            ]
          },
          "metadata": {},
          "execution_count": 17
        }
      ]
    },
    {
      "cell_type": "markdown",
      "source": [
        "Write a function that takes in a list of integers and returns True if it contains 007 in order\n",
        "\n",
        " spy_game([1,2,4,0,0,7,5]) --> True\n",
        "\n",
        " spy_game([1,0,2,4,0,5,7]) --> True\n",
        " \n",
        " spy_game([1,7,2,0,4,5,0]) --> False"
      ],
      "metadata": {
        "id": "i5uyamdEmZYx"
      }
    },
    {
      "cell_type": "code",
      "source": [
        "def spy_game(l):\n",
        "  p=[]\n",
        "  for i in range(0,len(l)-1):\n",
        "    if l[i]==0 and l[i+1]==0 and l[i+2]==7:\n",
        "      p.append(l[i])\n",
        "      p.append(l[i+1])\n",
        "      p.append(l[i+2])\n",
        "  if p == [0,0,7]:\n",
        "    return True\n",
        "  else:\n",
        "    return False\n",
        "\n",
        "print(spy_game([1,2,4,0,0,7,5]))\n",
        "print(spy_game([1,0,2,4,0,5,7]))\n",
        "print(spy_game([1,7,2,0,4,5,0]))"
      ],
      "metadata": {
        "colab": {
          "base_uri": "https://localhost:8080/"
        },
        "id": "KdKzrpq3mRtE",
        "outputId": "8c725aef-fdfa-4846-a34b-122b14d849b9"
      },
      "execution_count": null,
      "outputs": [
        {
          "output_type": "stream",
          "name": "stdout",
          "text": [
            "True\n",
            "False\n",
            "False\n"
          ]
        }
      ]
    },
    {
      "cell_type": "markdown",
      "source": [
        "********DAY 7********\n",
        "Python coding question:\n",
        "\n",
        "Define a function called myfunc that takes in a string,\n",
        "and returns a matching string where every even letter is uppercase, and every odd letter is lowercase. \n",
        "Desired output:\n",
        "myfunc('aNiMaL')-->True"
      ],
      "metadata": {
        "id": "GfmyndSPn3qF"
      }
    },
    {
      "cell_type": "code",
      "source": [
        "def myfunc(s):\n",
        "  m=''\n",
        "  for i in range(0,len(s)):\n",
        "    if i%2 !=0 :\n",
        "      m = m + s[i].upper()\n",
        "    else:\n",
        "      m = m + s[i].lower()\n",
        "  return m\n",
        "\n",
        "myfunc('abcdr')"
      ],
      "metadata": {
        "colab": {
          "base_uri": "https://localhost:8080/",
          "height": 35
        },
        "id": "Q8Tt1B0nnlQC",
        "outputId": "ce6da2cf-378f-422f-9371-ec3be27d5f83"
      },
      "execution_count": null,
      "outputs": [
        {
          "output_type": "execute_result",
          "data": {
            "text/plain": [
              "'aBcDr'"
            ],
            "application/vnd.google.colaboratory.intrinsic+json": {
              "type": "string"
            }
          },
          "metadata": {},
          "execution_count": 24
        }
      ]
    },
    {
      "cell_type": "markdown",
      "source": [
        "Write a Python function that accepts a string and calculates the number of upper case letters and lower case letters.\n",
        "\n",
        "Sample String : 'Hello Mr. Rogers, how are you this fine Tuesday?'\n",
        "Expected Output : \n",
        "No. of Upper case characters : 4\n",
        "No. of Lower case Characters : 33"
      ],
      "metadata": {
        "id": "p7FbNJYcrEri"
      }
    },
    {
      "cell_type": "code",
      "source": [
        "def up_low(s):\n",
        "  d={\n",
        "      'upper':0,\n",
        "     'lower':0\n",
        "  }\n",
        "  for i in s:\n",
        "    if i.isupper():\n",
        "      d['upper'] = d['upper'] + 1\n",
        "    elif i.islower():\n",
        "      d['lower'] = d['lower'] + 1\n",
        "    else:\n",
        "      pass\n",
        "  return d\n",
        "\n",
        "\n",
        "up_low('Hello Mr. Rogers, how are you this fine Tuesday?')"
      ],
      "metadata": {
        "colab": {
          "base_uri": "https://localhost:8080/"
        },
        "id": "M2VNGZlppkJA",
        "outputId": "e6a9515c-8bf3-45d7-8e41-3e5bf228b6c9"
      },
      "execution_count": null,
      "outputs": [
        {
          "output_type": "execute_result",
          "data": {
            "text/plain": [
              "{'upper': 4, 'lower': 33}"
            ]
          },
          "metadata": {},
          "execution_count": 28
        }
      ]
    },
    {
      "cell_type": "markdown",
      "source": [
        "Write a Python function that checks whether a word or phrase is palindrome or not.\n",
        "Example of Palindrome:\n",
        "Hannah\n",
        "Anna"
      ],
      "metadata": {
        "id": "ncLkLgqvslQt"
      }
    },
    {
      "cell_type": "code",
      "source": [
        "def palindrome(s):\n",
        "  s = s.lower()\n",
        "  if s[0:] == s[::-1]:\n",
        "    return \"Palindrome\"\n",
        "  else:\n",
        "    return \"Not plaindrome\"\n",
        "\n",
        "print(palindrome('Hannah'))\n",
        "\n",
        "print(palindrome('Anahna'))"
      ],
      "metadata": {
        "colab": {
          "base_uri": "https://localhost:8080/"
        },
        "id": "WQHYEop7rXeB",
        "outputId": "d00a72ea-de6d-4355-ffde-e3718ed62864"
      },
      "execution_count": null,
      "outputs": [
        {
          "output_type": "stream",
          "name": "stdout",
          "text": [
            "Palindrome\n",
            "Not plaindrome\n"
          ]
        }
      ]
    },
    {
      "cell_type": "markdown",
      "source": [
        "Write a Python function to multiply all the numbers in a list.\n",
        "\n",
        "Sample List : [1, 2, 3, -4]\n",
        "Expected Output : -24"
      ],
      "metadata": {
        "id": "nQnHXkhdt8F5"
      }
    },
    {
      "cell_type": "code",
      "source": [
        "def mul_list(l):\n",
        "  m = 1\n",
        "  if len(l) == 0:\n",
        "    return \"mul not possible \"\n",
        "  else:\n",
        "    for i in l:\n",
        "      m = m*i\n",
        "    return f\"mul is {m}\"\n",
        "\n",
        "mul_list([1, 2, 3, -4])"
      ],
      "metadata": {
        "colab": {
          "base_uri": "https://localhost:8080/",
          "height": 35
        },
        "id": "kw1jwG0jtCmn",
        "outputId": "abac4e57-d72f-4ab0-f72e-69522ef5f23c"
      },
      "execution_count": null,
      "outputs": [
        {
          "output_type": "execute_result",
          "data": {
            "text/plain": [
              "'mul is -24'"
            ],
            "application/vnd.google.colaboratory.intrinsic+json": {
              "type": "string"
            }
          },
          "metadata": {},
          "execution_count": 36
        }
      ]
    },
    {
      "cell_type": "markdown",
      "source": [
        "Given a string, return a string where for every character in the original there are three characters\n",
        "paper_doll('Hello') --> 'HHHeeellllllooo'\n",
        "paper_doll('Mississippi') --> 'MMMiiissssssiiippppppiii'"
      ],
      "metadata": {
        "id": "AKTB1Vj0upe6"
      }
    },
    {
      "cell_type": "code",
      "source": [
        "def mul_three(s):\n",
        "  m=''\n",
        "  for i in range(0,len(s)):\n",
        "    m = m + s[i]*3\n",
        "  return m\n",
        "\n",
        "print(mul_three('Hello'))\n",
        "print(mul_three('Mississippi'))\n",
        "\n"
      ],
      "metadata": {
        "colab": {
          "base_uri": "https://localhost:8080/"
        },
        "id": "dMGJ1NNVubKg",
        "outputId": "2140adc4-57a6-4542-fdec-510cddd93731"
      },
      "execution_count": null,
      "outputs": [
        {
          "output_type": "stream",
          "name": "stdout",
          "text": [
            "HHHeeellllllooo\n",
            "MMMiiissssssiiissssssiiippppppiii\n"
          ]
        }
      ]
    },
    {
      "cell_type": "markdown",
      "source": [
        "Write a code to check whether a year is leap year or not.\n",
        "Note:A year that is evenly divisible by 100 is a leap year only if it is also evenly divisible by 400.\n",
        "\n",
        "Desired Output:\n",
        "is_leap(1994)-->Leap year\n",
        "is_leap(2100)-->not a Leap year\n",
        "is_leap(2000)—>Leap year"
      ],
      "metadata": {
        "id": "FlLOWRO3vh5h"
      }
    },
    {
      "cell_type": "code",
      "source": [
        "def is_leap(y):\n",
        "  if (y%4==0 and y%100!=0) or y%400 ==0 :\n",
        "    return (f\"{y} is a leap year\")\n",
        "  else:\n",
        "    return (f\"{y} not a leap year\")\n",
        "\n",
        "print(is_leap(1994))\n",
        "print(is_leap(2000))"
      ],
      "metadata": {
        "colab": {
          "base_uri": "https://localhost:8080/"
        },
        "id": "RbtFM1VKvIcL",
        "outputId": "120b9a8a-d4b5-4bd7-9285-c3354fc82883"
      },
      "execution_count": null,
      "outputs": [
        {
          "output_type": "stream",
          "name": "stdout",
          "text": [
            "1994 not a leap year\n",
            "2000 is a leap year\n"
          ]
        }
      ]
    },
    {
      "cell_type": "markdown",
      "source": [
        "Python coding question:\n",
        "Write a function that capitalizes the first and fourth letters of a name.\n",
        "\n",
        "TC 1:capitalize(\"chandrali\")\n",
        "  'ChaNdrali'\n",
        "TC 2:capitalize(\"roy\")\n",
        "   'Name is too short!'"
      ],
      "metadata": {
        "id": "-5BxcA-OwuPX"
      }
    },
    {
      "cell_type": "code",
      "source": [
        "def cap_one_four(s):\n",
        "  if len(s) <4:\n",
        "    return 'Name is too short!'\n",
        "  else:\n",
        "    return s[0].upper() + s[1:3] + s[3].upper() + s[4:]\n",
        "\n",
        "print(cap_one_four('rohan'))\n",
        "print(cap_one_four('chandrali'))\n",
        "print(cap_one_four('roy'))"
      ],
      "metadata": {
        "colab": {
          "base_uri": "https://localhost:8080/"
        },
        "id": "VYP_aPVawB4Y",
        "outputId": "19c8c2a0-f3a2-4a36-9885-5775770e5a53"
      },
      "execution_count": null,
      "outputs": [
        {
          "output_type": "stream",
          "name": "stdout",
          "text": [
            "RohAn\n",
            "ChaNdrali\n",
            "Name is too short!\n"
          ]
        }
      ]
    },
    {
      "cell_type": "markdown",
      "source": [
        "Print the list of integers from through as a string, without spaces.\n",
        "Sample Input\n",
        "3\n",
        "Sample Output\n",
        "123"
      ],
      "metadata": {
        "id": "6JBKZ6xayUF-"
      }
    },
    {
      "cell_type": "code",
      "source": [
        "def to_list_str(m):\n",
        "  l=[]\n",
        "  for i in range(1,m+1):\n",
        "    l.append(str(i))\n",
        "  return ''.join(l)\n",
        "\n",
        "to_list_str(3)\n"
      ],
      "metadata": {
        "colab": {
          "base_uri": "https://localhost:8080/",
          "height": 35
        },
        "id": "kG2D8a1txXGC",
        "outputId": "4e13bc97-f129-4f30-d63b-b6bed5520239"
      },
      "execution_count": null,
      "outputs": [
        {
          "output_type": "execute_result",
          "data": {
            "text/plain": [
              "'123'"
            ],
            "application/vnd.google.colaboratory.intrinsic+json": {
              "type": "string"
            }
          },
          "metadata": {},
          "execution_count": 52
        }
      ]
    },
    {
      "cell_type": "markdown",
      "source": [
        "Print only the words that start with \"s\" in a sentence.\n",
        "\n",
        "Input:\n",
        "Salad is healthy snack.\n",
        "\n",
        "Output:\n",
        "Salad\n",
        "snack"
      ],
      "metadata": {
        "id": "6Sinvw_TzQQB"
      }
    },
    {
      "cell_type": "code",
      "source": [
        "def starts_s(s):\n",
        "  s = s.lower()\n",
        "  l = s.split()\n",
        "  m=[]\n",
        "  for i in l:\n",
        "    if i[0] =='s':\n",
        "      m.append(i)\n",
        "  return m\n",
        "\n",
        "starts_s('Salad is healthy snack')"
      ],
      "metadata": {
        "colab": {
          "base_uri": "https://localhost:8080/"
        },
        "id": "UYOrBfnDy-Ib",
        "outputId": "c85bb75f-a948-4671-ee9c-1eac29b8480a"
      },
      "execution_count": null,
      "outputs": [
        {
          "output_type": "execute_result",
          "data": {
            "text/plain": [
              "['salad', 'snack']"
            ]
          },
          "metadata": {},
          "execution_count": 56
        }
      ]
    },
    {
      "cell_type": "markdown",
      "source": [
        "********DAY 18********\n",
        "Python coding question:\n",
        "\n",
        "Given an integer n, return True if n is within 10 of either 100 or 200.\n",
        "abs(90)--True\n",
        "abs(220)--False\n"
      ],
      "metadata": {
        "id": "bU4tGxx9Lh01"
      }
    },
    {
      "cell_type": "code",
      "source": [
        "def within(n):\n",
        "  if (n in range(90,111) or n in range(190,211)):\n",
        "    return True\n",
        "  else:\n",
        "    return False\n",
        "\n",
        "print(within(190))\n",
        "print(within(90))\n",
        "print(within(150))\n",
        "print(within(290))\n",
        "print(within(89))\n",
        "\n"
      ],
      "metadata": {
        "id": "l0XY9b1Xzm_3",
        "colab": {
          "base_uri": "https://localhost:8080/"
        },
        "outputId": "a549b29c-ea66-4f94-cc05-92ede0778c18"
      },
      "execution_count": null,
      "outputs": [
        {
          "output_type": "stream",
          "name": "stdout",
          "text": [
            "True\n",
            "True\n",
            "False\n",
            "False\n",
            "False\n"
          ]
        }
      ]
    },
    {
      "cell_type": "markdown",
      "source": [
        "********DAY 19********\n",
        "Python coding question:\n",
        "\n",
        "BLACKJACK: Given three integers between 1 and 11,\n",
        "if their sum is less than or equal to 21, return their sum. \n",
        "If their sum exceeds 21 and there's an eleven, reduce the total sum by 10. \n",
        "Finally, if the sum (even after adjustment) exceeds 21, return 'BUST'\n",
        "blackjack(5,6,7) --> 18\n",
        "blackjack(9,9,9) --> 'BUST'\n",
        "blackjack(9,9,11) --> 19"
      ],
      "metadata": {
        "id": "C7qj1HtINlHN"
      }
    },
    {
      "cell_type": "code",
      "source": [
        "def blackjack(a,b,c):\n",
        "  if a + b + c <= 21:\n",
        "    return a + b + c\n",
        "  elif (a+b+c) > 21 and (a == 11 or b == 11 or c == 11):\n",
        "    return a+b+c -10\n",
        "  else:\n",
        "    return 'BUST'\n",
        "    \n",
        "print(blackjack(5,6,7))\n",
        "print(blackjack(9,9,9))\n",
        "print(blackjack(9,9,11))"
      ],
      "metadata": {
        "colab": {
          "base_uri": "https://localhost:8080/"
        },
        "id": "RqikT0B7MYjm",
        "outputId": "0cf3cdd0-d45b-4f40-821a-5b764f25df02"
      },
      "execution_count": null,
      "outputs": [
        {
          "output_type": "stream",
          "name": "stdout",
          "text": [
            "18\n",
            "BUST\n",
            "19\n"
          ]
        }
      ]
    },
    {
      "cell_type": "markdown",
      "source": [
        "Write a Python code to accept a string and count the number of vowels and consonants.\n",
        "Print them separately."
      ],
      "metadata": {
        "id": "BTXDe8v95dFz"
      }
    },
    {
      "cell_type": "code",
      "source": [
        "def vol_con(s):\n",
        "  s = s.lower()\n",
        "  s = s.replace(\" \",'')\n",
        "  v = 0\n",
        "  c = 0\n",
        "  for i in s:\n",
        "    if i in ['a','e','i','o','u']:\n",
        "      v = v+1\n",
        "    else:\n",
        "      c = c+1\n",
        "\n",
        "  return f'no of voewls {v} and consonents {c}'\n",
        "\n",
        "vol_con(\"Emma is good developer. Emma is a writer\")"
      ],
      "metadata": {
        "colab": {
          "base_uri": "https://localhost:8080/",
          "height": 35
        },
        "id": "r_HiBo8M5cuv",
        "outputId": "a49d5299-04c5-4fab-d3aa-80f27d158215"
      },
      "execution_count": null,
      "outputs": [
        {
          "output_type": "execute_result",
          "data": {
            "text/plain": [
              "'no of voewls 15 and consonents 18'"
            ],
            "application/vnd.google.colaboratory.intrinsic+json": {
              "type": "string"
            }
          },
          "metadata": {},
          "execution_count": 10
        }
      ]
    },
    {
      "cell_type": "markdown",
      "source": [
        "Write a program to find the sum of squares of first 'n' natural numbers.\n",
        "Input : N = 4\n",
        "Output : 30"
      ],
      "metadata": {
        "id": "TapTvMOX3RVV"
      }
    },
    {
      "cell_type": "code",
      "source": [
        "\n",
        "def sum_of_n(a):\n",
        "  if a == 0:\n",
        "    return 0\n",
        "  else:\n",
        "    return (a*(a+1)*(2*a+1))/6\n",
        "\n",
        "m = int(input(\"Enter the nth term : \"))\n",
        "sum_of_n(m)"
      ],
      "metadata": {
        "colab": {
          "base_uri": "https://localhost:8080/"
        },
        "id": "FwPlsXNG3SKm",
        "outputId": "ad6d3f3f-8118-46ee-9db5-51f5b78c6739"
      },
      "execution_count": null,
      "outputs": [
        {
          "name": "stdout",
          "output_type": "stream",
          "text": [
            "Enter the nth term : 4\n"
          ]
        },
        {
          "output_type": "execute_result",
          "data": {
            "text/plain": [
              "30.0"
            ]
          },
          "metadata": {},
          "execution_count": 2
        }
      ]
    },
    {
      "cell_type": "markdown",
      "source": [
        "Write a program to find how many times substring “Emma” appears in the given string.\n",
        "input:\n",
        "str = \"Emma is good developer. Emma is a writer\"\n",
        "Output:\n",
        "Emma appeared 2 times\n"
      ],
      "metadata": {
        "id": "fk3BbccR4NJU"
      }
    },
    {
      "cell_type": "code",
      "source": [
        "def str_occ(s):\n",
        "  s = s.lower()\n",
        "  m = input(\"Enter the string to found : \")\n",
        "  c = s.count(m)\n",
        "\n",
        "  return f'the word {m} occuers {c} times. '\n",
        "\n",
        "str_occ(\"Emma is good developer. Emma is a writer\")\n"
      ],
      "metadata": {
        "colab": {
          "base_uri": "https://localhost:8080/",
          "height": 53
        },
        "id": "EHyHFluv3-G8",
        "outputId": "ff0e7331-365c-45b7-d85d-f5196f5bfe37"
      },
      "execution_count": null,
      "outputs": [
        {
          "name": "stdout",
          "output_type": "stream",
          "text": [
            "Enter the string to found : emma\n"
          ]
        },
        {
          "output_type": "execute_result",
          "data": {
            "text/plain": [
              "'the word emma occuers 2 times. '"
            ],
            "application/vnd.google.colaboratory.intrinsic+json": {
              "type": "string"
            }
          },
          "metadata": {},
          "execution_count": 7
        }
      ]
    },
    {
      "cell_type": "markdown",
      "source": [
        "Write a function in Python that accepts a credit card number. \n",
        "It should return a string where all the characters are hidden with an asterisk except the last four. \n",
        "For example, if the function gets sent \"4444444444444444\", then it should return \"4444\"."
      ],
      "metadata": {
        "id": "PHMzt4wk7JwM"
      }
    },
    {
      "cell_type": "code",
      "source": [
        "def return_credit(n):\n",
        "  if len(n)<12 or len(n)>12:\n",
        "    return 'Invalid card number '\n",
        "  else:\n",
        "    return 'X'*9+n[8:]\n",
        "\n",
        "return_credit('123456789012')"
      ],
      "metadata": {
        "colab": {
          "base_uri": "https://localhost:8080/",
          "height": 35
        },
        "id": "QDvyDuDV4dpK",
        "outputId": "46509eff-8d0d-472e-e43f-18845cefca3b"
      },
      "execution_count": null,
      "outputs": [
        {
          "output_type": "execute_result",
          "data": {
            "text/plain": [
              "'XXXXXXXXX9012'"
            ],
            "application/vnd.google.colaboratory.intrinsic+json": {
              "type": "string"
            }
          },
          "metadata": {},
          "execution_count": 23
        }
      ]
    },
    {
      "cell_type": "markdown",
      "source": [
        "Write a function in Python that accepts a list of any length that contains a mix of non-negative integers and strings.\n",
        "The function should return a list with only the integers in the original list in the same order.\n"
      ],
      "metadata": {
        "id": "E7RT3VM99m87"
      }
    },
    {
      "cell_type": "code",
      "source": [
        "def int_ret(l):\n",
        "  a=[]\n",
        "  for i in l:\n",
        "    if str(i).isdigit():\n",
        "      a.append(i)\n",
        "    else:\n",
        "      pass\n",
        "  return a\n",
        "\n",
        "a = [1,2,'rohan','ervb',23]\n",
        "int_ret(a)\n"
      ],
      "metadata": {
        "colab": {
          "base_uri": "https://localhost:8080/"
        },
        "id": "eOloK11t7p0m",
        "outputId": "8cfb0ade-8f74-4d2c-8ed4-1aa10bd45854"
      },
      "execution_count": null,
      "outputs": [
        {
          "output_type": "execute_result",
          "data": {
            "text/plain": [
              "[1, 2, 23]"
            ]
          },
          "metadata": {},
          "execution_count": 26
        }
      ]
    },
    {
      "cell_type": "code",
      "source": [
        "#SQL 1\n",
        "\n",
        "#ends with letter 'n'\n",
        "\n",
        "select country from Data\n",
        "where country like \"%n\""
      ],
      "metadata": {
        "id": "_x_RJ1dc-QxW"
      },
      "execution_count": null,
      "outputs": []
    },
    {
      "cell_type": "code",
      "source": [
        "size = 7\n",
        "m = (2 * size) - 2\n",
        "for i in range(0, size):\n",
        "    for j in range(0, m):\n",
        "        print(end=\" \")\n",
        "    # decrementing m after each loop\n",
        "    m = m - 1\n",
        "    for j in range(0, i + 1):\n",
        "        print(\"* \", end=' ')\n",
        "    print(\" \")"
      ],
      "metadata": {
        "colab": {
          "base_uri": "https://localhost:8080/"
        },
        "id": "ucRIrpubAGTd",
        "outputId": "860bfb5d-34e4-4fcb-f5ba-69b79e18985c"
      },
      "execution_count": null,
      "outputs": [
        {
          "output_type": "stream",
          "name": "stdout",
          "text": [
            "            *   \n",
            "           *  *   \n",
            "          *  *  *   \n",
            "         *  *  *  *   \n",
            "        *  *  *  *  *   \n",
            "       *  *  *  *  *  *   \n",
            "      *  *  *  *  *  *  *   \n"
          ]
        }
      ]
    },
    {
      "cell_type": "markdown",
      "source": [
        "Write a query that calculates the difference between the highest salaries found in the marketing and engineering departments. Output just the absolute difference in salaries"
      ],
      "metadata": {
        "id": "RDkBsRPwB6U4"
      }
    },
    {
      "cell_type": "code",
      "source": [
        "# Import your libraries\n",
        "import pandas as pd\n",
        "\n",
        "# Start writing code\n",
        "db_employee.head()\n",
        "\n",
        "#db_dept.head()\n",
        "\n",
        "c_df= db_dept.set_index('id').join(db_employee.set_index('department_id'))\n",
        "salary_difference = abs( c_df[c_df['department']=='engineering'].salary.max() - c_df[c_df['department']=='marketing'].salary.max())\n",
        "salary_difference"
      ],
      "metadata": {
        "id": "zZSHguCrAP3z"
      },
      "execution_count": null,
      "outputs": []
    },
    {
      "cell_type": "code",
      "source": [
        "SELECT\n",
        "ABS((SELECT max(salary)\n",
        "FROM db_employee emp\n",
        "JOIN db_dept dept ON emp.department_id = dept.id\n",
        "WHERE department = 'engineering') - (SELECT max(salary)\n",
        "FROM db_employee emp\n",
        "JOIN db_dept dept ON emp.department_id = dept.id\n",
        "WHERE department = 'marketing')) AS salary_diffe;"
      ],
      "metadata": {
        "id": "9MWMyzNVFptK"
      },
      "execution_count": null,
      "outputs": []
    },
    {
      "cell_type": "code",
      "source": [
        "def findSum(str1):\n",
        "    temp = \"0\"\n",
        "    Sum = 0\n",
        "    for ch in str1:\n",
        "      if (ch.isdigit()):\n",
        "        temp += ch\n",
        "\n",
        "      else:\n",
        "        Sum += int(temp)\n",
        "        temp = \"0\"\n",
        "    return Sum + int(temp)\n",
        " \n",
        "str1 = \"12abc20yz68\"\n",
        " \n",
        "# Function call\n",
        "print(findSum(str1))"
      ],
      "metadata": {
        "colab": {
          "base_uri": "https://localhost:8080/"
        },
        "id": "VFtZGjuh2UeU",
        "outputId": "4ee64953-8f20-4dad-ce8d-b023f9e45f7f"
      },
      "execution_count": null,
      "outputs": [
        {
          "output_type": "stream",
          "name": "stdout",
          "text": [
            "100\n"
          ]
        }
      ]
    },
    {
      "cell_type": "code",
      "source": [
        "## country name starts with a to z\n",
        "\n",
        "select * from Data\n",
        "where country like \"[a-z]%\""
      ],
      "metadata": {
        "id": "m0cr8YU93U9S"
      },
      "execution_count": null,
      "outputs": []
    },
    {
      "cell_type": "code",
      "source": [
        "def sum_of_two(a,b,v):\n",
        "  for i in a:\n",
        "    for j in b:\n",
        "      if i + j == v:\n",
        "        print(f\"Possibel Match : {i} and {j} and sum is : {i+j}\")\n",
        "\n",
        "sum_of_two([1,2,-3],[10,20,-30],22)"
      ],
      "metadata": {
        "colab": {
          "base_uri": "https://localhost:8080/"
        },
        "id": "131w7z5vRyUn",
        "outputId": "b0647343-9ce0-4077-bcb4-8b17ab9568c8"
      },
      "execution_count": 4,
      "outputs": [
        {
          "output_type": "stream",
          "name": "stdout",
          "text": [
            "Possibel Match : 2 and 20 and sum is : 22\n"
          ]
        }
      ]
    },
    {
      "cell_type": "code",
      "source": [
        "#!/bin/python3\n",
        "\n",
        "import math\n",
        "import os\n",
        "import random\n",
        "import re\n",
        "import sys\n",
        "\n",
        "\n",
        "#\n",
        "# Complete the 'fizzBuzz' function below.\n",
        "#\n",
        "# The function accepts INTEGER n as parameter.\n",
        "#\n",
        "\n",
        "def fizzBuzz(n):\n",
        "    # Write your code here\n",
        "    for i in range(1,n+1):\n",
        "        if i%3==0 and i%5==0:\n",
        "            print(\"FizzBuzz\")\n",
        "        elif i%3==0 and i%5!=0:\n",
        "            print(\"Fizz\")\n",
        "        elif i%3!=0 and i%5==0:\n",
        "            print(\"Buzz\")\n",
        "        else:\n",
        "            print(i)\n",
        "if __name__ == '__main__':\n",
        "    n = int(input().strip())\n",
        "\n",
        "    fizzBuzz(n)\n"
      ],
      "metadata": {
        "colab": {
          "base_uri": "https://localhost:8080/"
        },
        "id": "H12UfNcPRyPX",
        "outputId": "a23a4bf5-4315-4329-d7d2-9d2f4f7d0621"
      },
      "execution_count": 5,
      "outputs": [
        {
          "output_type": "stream",
          "name": "stdout",
          "text": [
            "15\n",
            "1\n",
            "2\n",
            "Fizz\n",
            "4\n",
            "Buzz\n",
            "Fizz\n",
            "7\n",
            "8\n",
            "Fizz\n",
            "Buzz\n",
            "11\n",
            "Fizz\n",
            "13\n",
            "14\n",
            "FizzBuzz\n"
          ]
        }
      ]
    },
    {
      "cell_type": "markdown",
      "source": [
        "Find the details of each customer regardless of whether the customer made an order. Output the customer's first name, last name, and the city along with the order details.\n",
        "You may have duplicate rows in your results due to a customer ordering several of the same items. Sort records based on the customer's first name and the order details in ascending order."
      ],
      "metadata": {
        "id": "sfZ0_UnZe7VN"
      }
    },
    {
      "cell_type": "markdown",
      "source": [],
      "metadata": {
        "id": "FWn8_gR1e8VL"
      }
    },
    {
      "cell_type": "code",
      "source": [
        "select first_name,\n",
        "       last_name,\n",
        "       city,\n",
        "       order_details\n",
        "from customers left join orders\n",
        "on customers.id = orders.cust_id\n",
        "order by first_name,order_details"
      ],
      "metadata": {
        "id": "lZzlh8yERyM5"
      },
      "execution_count": null,
      "outputs": []
    },
    {
      "cell_type": "code",
      "source": [
        "select c.first_name,\n",
        "       o.order_date,\n",
        "       o.order_details,\n",
        "       o.total_order_cost\n",
        "from customers c left join orders o\n",
        "on o.cust_id = c.id\n",
        "where c.first_name in ('Jill','Eva')\n",
        "order by cust_id"
      ],
      "metadata": {
        "id": "ToerQag8RyKC"
      },
      "execution_count": null,
      "outputs": []
    },
    {
      "cell_type": "code",
      "source": [
        "## select records that have a in the second position\n",
        "\n",
        "select country from Table\n",
        "where country like '%_a'"
      ],
      "metadata": {
        "id": "rSzLtC3tW-pb"
      },
      "execution_count": null,
      "outputs": []
    },
    {
      "cell_type": "code",
      "source": [
        "# Import your libraries\n",
        "import pandas as pd\n",
        "\n",
        "# Start writing code\n",
        "ms_employee_salary.head()\n",
        "\n",
        "r = ms_employee_salary.groupby(['id','first_name','last_name','department_id'])['salary'].max().reset_index().sort_values('id')"
      ],
      "metadata": {
        "id": "BuHLvf4QW-na"
      },
      "execution_count": null,
      "outputs": []
    },
    {
      "cell_type": "code",
      "source": [
        "# Import your libraries\n",
        "import pandas as pd\n",
        "\n",
        "# Start writing code\n",
        "customers.head()\n",
        "\n",
        "c = pd.merge(customers,orders,left_on='id',right_on='cust_id',how='left')\n",
        "\n",
        "r = c[['first_name','last_name','city','order_details']].sort_values(['first_name','order_details'])"
      ],
      "metadata": {
        "id": "F6dm1nT3W-kx"
      },
      "execution_count": null,
      "outputs": []
    },
    {
      "cell_type": "code",
      "source": [],
      "metadata": {
        "id": "gJjGtyg0W-iY"
      },
      "execution_count": null,
      "outputs": []
    },
    {
      "cell_type": "code",
      "source": [],
      "metadata": {
        "id": "0YxDaaXAW-fh"
      },
      "execution_count": null,
      "outputs": []
    },
    {
      "cell_type": "code",
      "source": [],
      "metadata": {
        "id": "1eDTso7nW-cm"
      },
      "execution_count": null,
      "outputs": []
    },
    {
      "cell_type": "code",
      "source": [],
      "metadata": {
        "id": "FQx-wyMqW-ZO"
      },
      "execution_count": null,
      "outputs": []
    },
    {
      "cell_type": "code",
      "source": [],
      "metadata": {
        "id": "wF3qGan7W-Wg"
      },
      "execution_count": null,
      "outputs": []
    },
    {
      "cell_type": "code",
      "source": [],
      "metadata": {
        "id": "KQ05ZwbKW-T3"
      },
      "execution_count": null,
      "outputs": []
    }
  ]
}