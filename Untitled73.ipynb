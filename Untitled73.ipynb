{
  "nbformat": 4,
  "nbformat_minor": 0,
  "metadata": {
    "colab": {
      "name": "Untitled73.ipynb",
      "provenance": [],
      "authorship_tag": "ABX9TyOS6hoSQF/3sr17Xm3VtAUr",
      "include_colab_link": true
    },
    "kernelspec": {
      "name": "python3",
      "display_name": "Python 3"
    },
    "language_info": {
      "name": "python"
    }
  },
  "cells": [
    {
      "cell_type": "markdown",
      "metadata": {
        "id": "view-in-github",
        "colab_type": "text"
      },
      "source": [
        "<a href=\"https://colab.research.google.com/github/rvjh/PythonPractice/blob/main/Untitled73.ipynb\" target=\"_parent\"><img src=\"https://colab.research.google.com/assets/colab-badge.svg\" alt=\"Open In Colab\"/></a>"
      ]
    },
    {
      "cell_type": "code",
      "metadata": {
        "colab": {
          "base_uri": "https://localhost:8080/"
        },
        "id": "QkPuqdctYvLI",
        "outputId": "79356d7e-4540-493e-de87-004dff345266"
      },
      "source": [
        "l1= ['a','b','c']\n",
        "l2 = [1,2,3]\n",
        "\n",
        "d = dict(zip(l1,l2))\n",
        "d"
      ],
      "execution_count": 1,
      "outputs": [
        {
          "output_type": "execute_result",
          "data": {
            "text/plain": [
              "{'a': 1, 'b': 2, 'c': 3}"
            ]
          },
          "metadata": {},
          "execution_count": 1
        }
      ]
    },
    {
      "cell_type": "code",
      "metadata": {
        "id": "4NmMfn-CnELp"
      },
      "source": [
        ""
      ],
      "execution_count": 13,
      "outputs": []
    },
    {
      "cell_type": "code",
      "metadata": {
        "colab": {
          "base_uri": "https://localhost:8080/",
          "height": 142
        },
        "id": "C_8jwUgGg8h8",
        "outputId": "4e62f69b-84b5-4ca7-b7cc-4c3b00c90a5e"
      },
      "source": [
        "import pandas as pd\n",
        "\n",
        "pd.DataFrame(l2,index=l1)\n"
      ],
      "execution_count": 10,
      "outputs": [
        {
          "output_type": "execute_result",
          "data": {
            "text/html": [
              "<div>\n",
              "<style scoped>\n",
              "    .dataframe tbody tr th:only-of-type {\n",
              "        vertical-align: middle;\n",
              "    }\n",
              "\n",
              "    .dataframe tbody tr th {\n",
              "        vertical-align: top;\n",
              "    }\n",
              "\n",
              "    .dataframe thead th {\n",
              "        text-align: right;\n",
              "    }\n",
              "</style>\n",
              "<table border=\"1\" class=\"dataframe\">\n",
              "  <thead>\n",
              "    <tr style=\"text-align: right;\">\n",
              "      <th></th>\n",
              "      <th>0</th>\n",
              "    </tr>\n",
              "  </thead>\n",
              "  <tbody>\n",
              "    <tr>\n",
              "      <th>a</th>\n",
              "      <td>1</td>\n",
              "    </tr>\n",
              "    <tr>\n",
              "      <th>b</th>\n",
              "      <td>2</td>\n",
              "    </tr>\n",
              "    <tr>\n",
              "      <th>c</th>\n",
              "      <td>3</td>\n",
              "    </tr>\n",
              "  </tbody>\n",
              "</table>\n",
              "</div>"
            ],
            "text/plain": [
              "   0\n",
              "a  1\n",
              "b  2\n",
              "c  3"
            ]
          },
          "metadata": {},
          "execution_count": 10
        }
      ]
    },
    {
      "cell_type": "markdown",
      "metadata": {
        "id": "1NKqrUyziC_G"
      },
      "source": [
        "Write a Python function that takes a sequence of numbers and determines whether all the numbers are different from each other"
      ]
    },
    {
      "cell_type": "code",
      "metadata": {
        "colab": {
          "base_uri": "https://localhost:8080/"
        },
        "id": "2qXg0mvyhB7E",
        "outputId": "961af20e-2e64-4448-fa80-ce6afda72ff7"
      },
      "source": [
        "def test_distinct(data):\n",
        "  if len(data) == len(set(data)):\n",
        "    return True\n",
        "  else:\n",
        "    return False;\n",
        "print(test_distinct([1,5,7,9]))\n",
        "print(test_distinct([2,4,5,5,7,9]))"
      ],
      "execution_count": 20,
      "outputs": [
        {
          "output_type": "stream",
          "name": "stdout",
          "text": [
            "True\n",
            "False\n"
          ]
        }
      ]
    },
    {
      "cell_type": "markdown",
      "metadata": {
        "id": "UctPkZJQpMJS"
      },
      "source": [
        "Write a Python program to create all possible strings by using 'a', 'e', 'i', 'o', 'u'. Use the characters exactly once."
      ]
    },
    {
      "cell_type": "code",
      "metadata": {
        "colab": {
          "base_uri": "https://localhost:8080/"
        },
        "id": "g31pS97Xnvn3",
        "outputId": "b3efb85d-a301-425c-a71f-3691d805a05b"
      },
      "source": [
        "import random\n",
        "ch = ['a', 'e', 'i', 'o', 'u']\n",
        "random.shuffle(ch)\n",
        "\n",
        "print(' '.join(ch))"
      ],
      "execution_count": 22,
      "outputs": [
        {
          "output_type": "stream",
          "name": "stdout",
          "text": [
            "i e o a u\n"
          ]
        }
      ]
    },
    {
      "cell_type": "markdown",
      "metadata": {
        "id": "tEy6hgZxqSg7"
      },
      "source": [
        "Write a Python program to remove and print every third number from a list of numbers until the list becomes empty.\n",
        "\n",
        "---\n",
        "\n"
      ]
    },
    {
      "cell_type": "code",
      "metadata": {
        "colab": {
          "base_uri": "https://localhost:8080/"
        },
        "id": "vTgOVf8DpydB",
        "outputId": "37f0c518-e06d-4183-f3b4-b910c9317330"
      },
      "source": [
        "def rem(l):\n",
        "  len_l = len(l)\n",
        "  pos = 2\n",
        "  idx = 0\n",
        "  while len_l>0:\n",
        "    idx = (pos + idx)%len_l\n",
        "    print(l.pop(idx))\n",
        "    len_l = len_l - 1\n",
        "\n",
        "\n",
        "a = [10,20,30,40,50,60,70,80,90]\n",
        "rem(a)\n",
        "\n"
      ],
      "execution_count": 30,
      "outputs": [
        {
          "output_type": "stream",
          "name": "stdout",
          "text": [
            "30\n",
            "60\n",
            "90\n",
            "40\n",
            "80\n",
            "50\n",
            "20\n",
            "70\n",
            "10\n"
          ]
        }
      ]
    },
    {
      "cell_type": "markdown",
      "metadata": {
        "id": "JKXA8DBms_vS"
      },
      "source": [
        ""
      ]
    },
    {
      "cell_type": "markdown",
      "metadata": {
        "id": "DbZgAh60wZ8H"
      },
      "source": [
        "Write a Python program to sum all the items in a list."
      ]
    },
    {
      "cell_type": "code",
      "metadata": {
        "colab": {
          "base_uri": "https://localhost:8080/"
        },
        "id": "WZ51fdcyq4YS",
        "outputId": "28d6b752-3aa7-4067-d740-a5564e8082ee"
      },
      "source": [
        "def s(l):\n",
        "  print(sum(l))\n",
        "\n",
        "a = [10,20,30,40,50,60,70,80,90]\n",
        "s(a)"
      ],
      "execution_count": 31,
      "outputs": [
        {
          "output_type": "stream",
          "name": "stdout",
          "text": [
            "450\n"
          ]
        }
      ]
    },
    {
      "cell_type": "markdown",
      "metadata": {
        "id": "kBvYekSTwnnM"
      },
      "source": [
        "Write a Python program to multiply all the items in a list"
      ]
    },
    {
      "cell_type": "code",
      "metadata": {
        "colab": {
          "base_uri": "https://localhost:8080/"
        },
        "id": "NHgEG2FKwjbn",
        "outputId": "eb94c333-58a3-458d-f558-9fae062bb831"
      },
      "source": [
        "m = 1\n",
        "a = [10,20,30,40,50,60,70,80,90]\n",
        "\n",
        "for i in a:\n",
        "  m = m*i\n",
        "\n",
        "print(m)"
      ],
      "execution_count": 33,
      "outputs": [
        {
          "output_type": "stream",
          "name": "stdout",
          "text": [
            "362880000000000\n"
          ]
        }
      ]
    },
    {
      "cell_type": "code",
      "metadata": {
        "colab": {
          "base_uri": "https://localhost:8080/"
        },
        "id": "9EgcPVjuwsvr",
        "outputId": "72559315-7e4a-483a-a368-df9040f4e1b7"
      },
      "source": [
        "from functools import reduce\n",
        "\n",
        "reduce(lambda x,y : x*y , a)"
      ],
      "execution_count": 35,
      "outputs": [
        {
          "output_type": "execute_result",
          "data": {
            "text/plain": [
              "362880000000000"
            ]
          },
          "metadata": {},
          "execution_count": 35
        }
      ]
    },
    {
      "cell_type": "markdown",
      "metadata": {
        "id": "As4sPfrixzgZ"
      },
      "source": [
        "Write a Python program to get the largest number from a list"
      ]
    },
    {
      "cell_type": "code",
      "metadata": {
        "colab": {
          "base_uri": "https://localhost:8080/"
        },
        "id": "kzF5vCYWxkEo",
        "outputId": "d636cbfc-8429-44c8-e866-5dcd9f0886c8"
      },
      "source": [
        "a = [10,20,30,40,50,60,70,80,90]\n",
        "\n",
        "print(max(a))\n",
        "print(min(a))"
      ],
      "execution_count": 38,
      "outputs": [
        {
          "output_type": "stream",
          "name": "stdout",
          "text": [
            "90\n",
            "10\n"
          ]
        }
      ]
    },
    {
      "cell_type": "markdown",
      "metadata": {
        "id": "0xREE7PDyUIs"
      },
      "source": [
        "ite a Python program to count the number of strings where the string length is 2 or more and the first and last character are same from a given list of strings."
      ]
    },
    {
      "cell_type": "code",
      "metadata": {
        "colab": {
          "base_uri": "https://localhost:8080/"
        },
        "id": "wLE00ubvx6Za",
        "outputId": "ba8c8913-1284-47b3-b3ec-49fc91306baa"
      },
      "source": [
        "a = ['abc', 'xyz', 'aba', '1221']\n",
        "\n",
        "count = 0\n",
        "for i in a:\n",
        "  if len(i)>=2 and i[0]==i[-1]:\n",
        "    print(i)\n",
        "    count=count+1\n",
        "print(count)\n"
      ],
      "execution_count": 44,
      "outputs": [
        {
          "output_type": "stream",
          "name": "stdout",
          "text": [
            "aba\n",
            "1221\n",
            "2\n"
          ]
        }
      ]
    },
    {
      "cell_type": "markdown",
      "metadata": {
        "id": "tkmZhNhdzF94"
      },
      "source": [
        "Write a Python program to get a list, sorted in increasing order by the last element in each tuple from a given list of non-empty tuples."
      ]
    },
    {
      "cell_type": "code",
      "metadata": {
        "colab": {
          "base_uri": "https://localhost:8080/"
        },
        "id": "c7e-z-dMyYkW",
        "outputId": "edade66b-a676-4cd6-8e0a-6021caddbd0e"
      },
      "source": [
        "a = [(2, 5), (1, 2), (4, 4), (2, 3), (2, 1)]\n",
        "\n",
        "def k(n):\n",
        "  return n[-1]\n",
        "\n",
        "def sort(l):\n",
        "  return sorted(l,key=k)\n",
        "\n",
        "sort(a)\n",
        "\n"
      ],
      "execution_count": 57,
      "outputs": [
        {
          "output_type": "execute_result",
          "data": {
            "text/plain": [
              "[(2, 1), (1, 2), (2, 3), (4, 4), (2, 5)]"
            ]
          },
          "metadata": {},
          "execution_count": 57
        }
      ]
    },
    {
      "cell_type": "markdown",
      "metadata": {
        "id": "8REPqA3e12Cf"
      },
      "source": [
        "Write a Python program to remove duplicates from a list"
      ]
    },
    {
      "cell_type": "code",
      "metadata": {
        "colab": {
          "base_uri": "https://localhost:8080/"
        },
        "id": "c_yXy07Cym63",
        "outputId": "9b0fa2a3-da93-4d5c-968b-490378fcae3a"
      },
      "source": [
        "a = [10,20,30,20,10,50,60,40,80,50,40]\n",
        "\n",
        "dup_items = set()\n",
        "uniq_items = []\n",
        "for x in a:\n",
        "    if x not in dup_items:\n",
        "        uniq_items.append(x)\n",
        "        dup_items.add(x)\n",
        "\n",
        "print(dup_items)"
      ],
      "execution_count": 63,
      "outputs": [
        {
          "output_type": "stream",
          "name": "stdout",
          "text": [
            "{40, 10, 80, 50, 20, 60, 30}\n"
          ]
        }
      ]
    },
    {
      "cell_type": "markdown",
      "metadata": {
        "id": "J5o8iAxi2yWd"
      },
      "source": [
        "Write a Python program to check a list is empty or not"
      ]
    },
    {
      "cell_type": "code",
      "metadata": {
        "colab": {
          "base_uri": "https://localhost:8080/"
        },
        "id": "H2F6m-7T17Ho",
        "outputId": "51a8a1ea-1bde-4578-c17d-5df95689d8db"
      },
      "source": [
        "a = [10,20,30,20,10,50,60,40,80,50,40]\n",
        "\n",
        "b = []\n",
        "if len(b):\n",
        "  print(\"Not empty\")\n",
        "else:\n",
        "  print(\"empty\")"
      ],
      "execution_count": 65,
      "outputs": [
        {
          "output_type": "stream",
          "name": "stdout",
          "text": [
            "empty\n"
          ]
        }
      ]
    },
    {
      "cell_type": "markdown",
      "metadata": {
        "id": "CXs2eLLB3bgo"
      },
      "source": [
        "Write a Python program to find the list of words that are longer than n from a given list of words."
      ]
    },
    {
      "cell_type": "code",
      "metadata": {
        "colab": {
          "base_uri": "https://localhost:8080/"
        },
        "id": "lIILQ0u73BUJ",
        "outputId": "b2499199-2975-4d95-8415-24e8ae6f9906"
      },
      "source": [
        "a = \"I am rohan das\"\n",
        "b=list(a.split(' '))\n",
        "def m(l, n):\n",
        "  for i in l:\n",
        "    if len(i)>=n:\n",
        "      print(i)\n",
        "\n",
        "m(b,1)"
      ],
      "execution_count": 69,
      "outputs": [
        {
          "output_type": "stream",
          "name": "stdout",
          "text": [
            "I\n",
            "am\n",
            "rohan\n",
            "das\n"
          ]
        }
      ]
    },
    {
      "cell_type": "markdown",
      "metadata": {
        "id": "_3eIUgAV4Mb5"
      },
      "source": [
        "Write a Python function that takes two lists and returns True if they have at least one common member."
      ]
    },
    {
      "cell_type": "code",
      "metadata": {
        "colab": {
          "base_uri": "https://localhost:8080/"
        },
        "id": "AjAD-HYe3u04",
        "outputId": "7d9e5b7c-5f9b-4869-9629-1aa8369cf379"
      },
      "source": [
        "a = [1,2,3,4]\n",
        "b = [2,6,7,8]\n",
        "\n",
        "for i in a:\n",
        "  if i in b:\n",
        "    print(\"True\")\n",
        "  else:\n",
        "    print(\"Flse\")"
      ],
      "execution_count": 71,
      "outputs": [
        {
          "output_type": "stream",
          "name": "stdout",
          "text": [
            "Flse\n",
            "True\n",
            "Flse\n",
            "Flse\n"
          ]
        }
      ]
    },
    {
      "cell_type": "markdown",
      "metadata": {
        "id": "wf9J-YZp4v_g"
      },
      "source": [
        "Write a Python script to sort (ascending and descending) a dictionary by value"
      ]
    },
    {
      "cell_type": "code",
      "metadata": {
        "colab": {
          "base_uri": "https://localhost:8080/"
        },
        "id": "thDvx0P94jKe",
        "outputId": "9d907250-9c6d-4ea9-ed79-3c808bda097c"
      },
      "source": [
        "a = {\n",
        "    'm':10,\n",
        "     'n':5,\n",
        "     'o':3,\n",
        "     'p':13\n",
        "}\n",
        "\n",
        "import operator\n",
        "\n",
        "\n",
        "print(sorted(a.items(),key=operator.itemgetter(1)))\n",
        "\n",
        "print(sorted(a.items(),key=operator.itemgetter(1),reverse=True))"
      ],
      "execution_count": 78,
      "outputs": [
        {
          "output_type": "stream",
          "name": "stdout",
          "text": [
            "[('o', 3), ('n', 5), ('m', 10), ('p', 13)]\n",
            "[('p', 13), ('m', 10), ('n', 5), ('o', 3)]\n"
          ]
        }
      ]
    },
    {
      "cell_type": "markdown",
      "metadata": {
        "id": "yLyV1RBd6P1w"
      },
      "source": [
        "Write a Python script to add a key to a dictionary. Go to the editor\n",
        "\n",
        "Sample Dictionary : {0: 10, 1: 20}\n",
        "Expected Result : {0: 10, 1: 20, 2: 30}"
      ]
    },
    {
      "cell_type": "code",
      "metadata": {
        "colab": {
          "base_uri": "https://localhost:8080/"
        },
        "id": "KoVUqcSc47fC",
        "outputId": "5de917af-c32c-43b6-b9a1-268d605d6093"
      },
      "source": [
        "a = {0: 10, 1: 20}\n",
        "\n",
        "a.update({2:30})\n",
        "a"
      ],
      "execution_count": 81,
      "outputs": [
        {
          "output_type": "execute_result",
          "data": {
            "text/plain": [
              "{0: 10, 1: 20, 2: 30}"
            ]
          },
          "metadata": {},
          "execution_count": 81
        }
      ]
    },
    {
      "cell_type": "markdown",
      "metadata": {
        "id": "Lqqqax0_6kLz"
      },
      "source": [
        "Write a Python script to concatenate following dictionaries to create a new one. Go to the editor\n",
        "\n",
        "Sample Dictionary :\n",
        "dic1={1:10, 2:20}\n",
        "dic2={3:30, 4:40}\n",
        "dic3={5:50,6:60}\n",
        "Expected Result : {1: 10, 2: 20, 3: 30, 4: 40, 5: 50, 6: 60}"
      ]
    },
    {
      "cell_type": "code",
      "metadata": {
        "colab": {
          "base_uri": "https://localhost:8080/"
        },
        "id": "gT-ieSFw6TXg",
        "outputId": "fd8d9cd7-a63e-4564-9926-1cd6d2aaded8"
      },
      "source": [
        "dic1={1:10, 2:20}\n",
        "dic2={3:30, 4:40}\n",
        "dic3={5:50,6:60}\n",
        "\n",
        "d = {}\n",
        "for i in (dic1,dic2,dic3):\n",
        "  d.update(i)\n",
        "\n",
        "print(d)"
      ],
      "execution_count": 85,
      "outputs": [
        {
          "output_type": "stream",
          "name": "stdout",
          "text": [
            "{1: 10, 2: 20, 3: 30, 4: 40, 5: 50, 6: 60}\n"
          ]
        }
      ]
    },
    {
      "cell_type": "markdown",
      "metadata": {
        "id": "2zpsGIqTAoB4"
      },
      "source": [
        " Write a Python script to check whether a given key already exists in a dictionary."
      ]
    },
    {
      "cell_type": "code",
      "metadata": {
        "colab": {
          "base_uri": "https://localhost:8080/"
        },
        "id": "AS7SP7xb6zTw",
        "outputId": "c256a300-21f5-469e-bff0-15a08c927da2"
      },
      "source": [
        "a = {1: 10, 2: 20, 3: 30, 4: 40, 5: 50, 6: 60}\n",
        "\n",
        "i = int(input(\"Enter the key : \"))\n",
        "\n",
        "if i in a.keys():\n",
        "  print(\"true\")\n",
        "else:\n",
        "  print(\"False\")"
      ],
      "execution_count": 88,
      "outputs": [
        {
          "output_type": "stream",
          "name": "stdout",
          "text": [
            "Enter the key : 10\n",
            "False\n"
          ]
        }
      ]
    },
    {
      "cell_type": "markdown",
      "metadata": {
        "id": "z5gFQZVpBHt4"
      },
      "source": [
        "Write a Python program to iterate over dictionaries using for loops."
      ]
    },
    {
      "cell_type": "code",
      "metadata": {
        "colab": {
          "base_uri": "https://localhost:8080/"
        },
        "id": "NhkPWHccBHYG",
        "outputId": "0f12d995-f371-4224-e1be-3c1084552779"
      },
      "source": [
        "a = {1: 10, 2: 20, 3: 30, 4: 40, 5: 50, 6: 60}\n",
        "\n",
        "for i,j in a.items():\n",
        "  print(f\"{i} has value {j}\")"
      ],
      "execution_count": 89,
      "outputs": [
        {
          "output_type": "stream",
          "name": "stdout",
          "text": [
            "1 has value 10\n",
            "2 has value 20\n",
            "3 has value 30\n",
            "4 has value 40\n",
            "5 has value 50\n",
            "6 has value 60\n"
          ]
        }
      ]
    },
    {
      "cell_type": "markdown",
      "metadata": {
        "id": "2x8H2HeuBYGI"
      },
      "source": [
        "Write a Python script to generate and print a dictionary that contains a number (between 1 and n) in the form (x, x*x). Go to the editor\n",
        "Sample Dictionary ( n = 5) :\n",
        "Expected Output : {1: 1, 2: 4, 3: 9, 4: 16, 5: 25}"
      ]
    },
    {
      "cell_type": "code",
      "metadata": {
        "colab": {
          "base_uri": "https://localhost:8080/"
        },
        "id": "drHwNP6PAuSP",
        "outputId": "e4a02918-c858-4f06-a986-da7db775d47d"
      },
      "source": [
        "def d(n):\n",
        "  a={}\n",
        "  for i in range(1,n+1):\n",
        "    a.update({i:i**2})\n",
        "  print(a)\n",
        "\n",
        "i = int(input(\"Enter the no : \"))\n",
        "d(i)\n"
      ],
      "execution_count": 91,
      "outputs": [
        {
          "output_type": "stream",
          "name": "stdout",
          "text": [
            "Enter the no : 5\n",
            "{1: 1, 2: 4, 3: 9, 4: 16, 5: 25}\n"
          ]
        }
      ]
    },
    {
      "cell_type": "markdown",
      "metadata": {
        "id": "xIOskNd1CK4W"
      },
      "source": [
        "Write a Python script to print a dictionary where the keys are numbers between 1 and 15 (both included) and the values are square of keys"
      ]
    },
    {
      "cell_type": "code",
      "metadata": {
        "colab": {
          "base_uri": "https://localhost:8080/"
        },
        "id": "-XLXJyfxB3pX",
        "outputId": "2278e0f8-7318-469e-e955-1baa3608320f"
      },
      "source": [
        "a={}\n",
        "for i in range(1,16):\n",
        "  a.update({i:i**2})\n",
        "print(a)"
      ],
      "execution_count": 93,
      "outputs": [
        {
          "output_type": "stream",
          "name": "stdout",
          "text": [
            "{1: 1, 2: 4, 3: 9, 4: 16, 5: 25, 6: 36, 7: 49, 8: 64, 9: 81, 10: 100, 11: 121, 12: 144, 13: 169, 14: 196, 15: 225}\n"
          ]
        }
      ]
    },
    {
      "cell_type": "markdown",
      "metadata": {
        "id": "KJgEAi5FCfss"
      },
      "source": [
        "Write a Python script to merge two Python dictionaries"
      ]
    },
    {
      "cell_type": "code",
      "metadata": {
        "colab": {
          "base_uri": "https://localhost:8080/"
        },
        "id": "0JvlIxxSCXAC",
        "outputId": "329ee243-cf00-4b22-c65f-aed26fa7a88a"
      },
      "source": [
        "dic1={'a': 100, 'b': 200}\n",
        "dic2={'c': 200, 'd': 300}\n",
        "\n",
        "c={}\n",
        "#c=dic1.copy()\n",
        "\n",
        "for i in (dic1,dic2):\n",
        "  c.update(i)\n",
        "print(c)"
      ],
      "execution_count": 96,
      "outputs": [
        {
          "output_type": "stream",
          "name": "stdout",
          "text": [
            "{'a': 100, 'b': 200, 'c': 200, 'd': 300}\n"
          ]
        }
      ]
    },
    {
      "cell_type": "markdown",
      "metadata": {
        "id": "yvu9EU1sDLYA"
      },
      "source": [
        "Write a Python program to sum all the items in a dictionary"
      ]
    },
    {
      "cell_type": "code",
      "metadata": {
        "colab": {
          "base_uri": "https://localhost:8080/"
        },
        "id": "I0M_WLETCrNU",
        "outputId": "917c64e5-7be7-4d82-a50c-d1a3c7f01c49"
      },
      "source": [
        "a={1: 1, 2: 4, 3: 9, 4: 16, 5: 25, 6: 36, 7: 49, 8: 64, 9: 81, 10: 100, 11: 121, 12: 144, 13: 169, 14: 196, 15: 225}\n",
        "\n",
        "sum = 0\n",
        "for i in a.values():\n",
        "  sum=sum+i\n",
        "\n",
        "print(sum)"
      ],
      "execution_count": 98,
      "outputs": [
        {
          "output_type": "stream",
          "name": "stdout",
          "text": [
            "1240\n"
          ]
        }
      ]
    },
    {
      "cell_type": "markdown",
      "metadata": {
        "id": "C4eBdMrKDdHo"
      },
      "source": [
        "Write a Python program to multiply all the items in a dictionary"
      ]
    },
    {
      "cell_type": "code",
      "metadata": {
        "colab": {
          "base_uri": "https://localhost:8080/"
        },
        "id": "V-TFp5VmDO4B",
        "outputId": "3c4a6dd8-d453-4b1f-da7f-666339e27a50"
      },
      "source": [
        "a={1: 1, 2: 4, 3: 9, 4: 16, 5: 25, 6: 36, 7: 49, 8: 64, 9: 81, 10: 100, 11: 121, 12: 144, 13: 169, 14: 196, 15: 225}\n",
        "\n",
        "m=1\n",
        "for i in a.values():\n",
        "  m=m*i\n",
        "\n",
        "print(m)"
      ],
      "execution_count": 99,
      "outputs": [
        {
          "output_type": "stream",
          "name": "stdout",
          "text": [
            "1710012252724199424000000\n"
          ]
        }
      ]
    },
    {
      "cell_type": "markdown",
      "metadata": {
        "id": "PES175S3Dmyt"
      },
      "source": [
        "Write a Python program to remove a key from a dictionary. "
      ]
    },
    {
      "cell_type": "code",
      "metadata": {
        "colab": {
          "base_uri": "https://localhost:8080/"
        },
        "id": "H_Cr03SvDjbR",
        "outputId": "21fbe30a-66ca-49b7-ff1f-0c69354e66b1"
      },
      "source": [
        "a={1: 1, 2: 4, 3: 9, 4: 16, 5: 25, 6: 36, 7: 49, 8: 64, 9: 81, 10: 100, 11: 121, 12: 144, 13: 169, 14: 196, 15: 225}\n",
        "\n",
        "a.pop(2)\n",
        "a"
      ],
      "execution_count": 101,
      "outputs": [
        {
          "output_type": "execute_result",
          "data": {
            "text/plain": [
              "{1: 1,\n",
              " 3: 9,\n",
              " 4: 16,\n",
              " 5: 25,\n",
              " 6: 36,\n",
              " 7: 49,\n",
              " 8: 64,\n",
              " 9: 81,\n",
              " 10: 100,\n",
              " 11: 121,\n",
              " 12: 144,\n",
              " 13: 169,\n",
              " 14: 196,\n",
              " 15: 225}"
            ]
          },
          "metadata": {},
          "execution_count": 101
        }
      ]
    },
    {
      "cell_type": "markdown",
      "metadata": {
        "id": "-XO3a3V4D1ty"
      },
      "source": [
        "Write a Python program to map two lists into a dictionary."
      ]
    },
    {
      "cell_type": "code",
      "metadata": {
        "colab": {
          "base_uri": "https://localhost:8080/"
        },
        "id": "rN3Ea8d-DpjB",
        "outputId": "d25815cf-5e2b-4736-e4cb-0de736239ebc"
      },
      "source": [
        "a = ['m','n']\n",
        "b = [100,200]\n",
        "\n",
        "c = dict(zip(a,b))\n",
        "c"
      ],
      "execution_count": 102,
      "outputs": [
        {
          "output_type": "execute_result",
          "data": {
            "text/plain": [
              "{'m': 100, 'n': 200}"
            ]
          },
          "metadata": {},
          "execution_count": 102
        }
      ]
    },
    {
      "cell_type": "markdown",
      "metadata": {
        "id": "Ww9L06dSEIat"
      },
      "source": [
        "Write a Python program to sort a given dictionary by key"
      ]
    },
    {
      "cell_type": "code",
      "metadata": {
        "colab": {
          "base_uri": "https://localhost:8080/"
        },
        "id": "K_gSWCNuEBuH",
        "outputId": "d3d984a7-8a9e-4aba-e807-d61f7d14025c"
      },
      "source": [
        "c = {'m': 300, 'n': 200}\n",
        "\n",
        "for k in sorted(c):\n",
        "  print(k, c[k])"
      ],
      "execution_count": 107,
      "outputs": [
        {
          "output_type": "stream",
          "name": "stdout",
          "text": [
            "m 300\n",
            "n 200\n"
          ]
        }
      ]
    },
    {
      "cell_type": "markdown",
      "metadata": {
        "id": "Fg6tjSRPE--S"
      },
      "source": [
        "Write a Python program to get the maximum and minimum value in a dictionary."
      ]
    },
    {
      "cell_type": "code",
      "metadata": {
        "colab": {
          "base_uri": "https://localhost:8080/"
        },
        "id": "Vchv7e7hEK5y",
        "outputId": "6ca9a2b4-f7a8-4e78-e74d-27d07ebf1ff1"
      },
      "source": [
        "a={1: 1, 2: 4, 3: 9, 4: 16, 5: 25, 6: 36, 7: 49, 8: 64, 9: 81, 10: 100, 11: 121, 12: 144, 13: 169, 14: 196, 15: 225}\n",
        "\n",
        "min(a.values())\n",
        "max(a.values())\n"
      ],
      "execution_count": 113,
      "outputs": [
        {
          "output_type": "execute_result",
          "data": {
            "text/plain": [
              "225"
            ]
          },
          "metadata": {},
          "execution_count": 113
        }
      ]
    },
    {
      "cell_type": "markdown",
      "metadata": {
        "id": "hLMSDhIfF4zQ"
      },
      "source": [
        "Write a Python program to create a tuple with different data types."
      ]
    },
    {
      "cell_type": "code",
      "metadata": {
        "colab": {
          "base_uri": "https://localhost:8080/"
        },
        "id": "aE8PGQkaFCyC",
        "outputId": "cad80b1c-aa54-4a29-e116-73325dc22c78"
      },
      "source": [
        "l = [2,'rd',3.6,4+3j]\n",
        "\n",
        "t = tuple(l)\n",
        "print(t)\n",
        "\n",
        "for i in t:\n",
        "  print(type(i))\n",
        "\n",
        "t[0]"
      ],
      "execution_count": 116,
      "outputs": [
        {
          "output_type": "stream",
          "name": "stdout",
          "text": [
            "(2, 'rd', 3.6, (4+3j))\n",
            "<class 'int'>\n",
            "<class 'str'>\n",
            "<class 'float'>\n",
            "<class 'complex'>\n"
          ]
        },
        {
          "output_type": "execute_result",
          "data": {
            "text/plain": [
              "2"
            ]
          },
          "metadata": {},
          "execution_count": 116
        }
      ]
    },
    {
      "cell_type": "markdown",
      "metadata": {
        "id": "Is2i9YpXGcW2"
      },
      "source": [
        "Write a Python program to add an item in a tuple."
      ]
    },
    {
      "cell_type": "code",
      "metadata": {
        "colab": {
          "base_uri": "https://localhost:8080/"
        },
        "id": "79J0cNaeGCRA",
        "outputId": "a44ae091-c5ca-4857-8830-57a30d63ca32"
      },
      "source": [
        "t = (2, 'rd', 3.6, (4+3j))\n",
        "l = list(t)\n",
        "l.append('dhj')\n",
        "t1 = tuple(l)\n",
        "print(t1)"
      ],
      "execution_count": 122,
      "outputs": [
        {
          "output_type": "stream",
          "name": "stdout",
          "text": [
            "(2, 'rd', 3.6, (4+3j), 'dhj')\n"
          ]
        }
      ]
    },
    {
      "cell_type": "markdown",
      "metadata": {
        "id": "hjIt9l-VHPC4"
      },
      "source": [
        "Write a Python program to convert a tuple to a string"
      ]
    },
    {
      "cell_type": "code",
      "metadata": {
        "colab": {
          "base_uri": "https://localhost:8080/"
        },
        "id": "vvvEGkbRGgEp",
        "outputId": "9246c976-77be-4390-edf6-7f7cd29ac36b"
      },
      "source": [
        "tup = ('e', 'x', 'e', 'r', 'c', 'i', 's', 'e', 's')\n",
        "str =  ''.join(tup)\n",
        "print(str)"
      ],
      "execution_count": 123,
      "outputs": [
        {
          "output_type": "stream",
          "name": "stdout",
          "text": [
            "exercises\n"
          ]
        }
      ]
    },
    {
      "cell_type": "markdown",
      "metadata": {
        "id": "Dc0m5bfkHbE1"
      },
      "source": [
        "Write a Python program to get the 4th element and 4th element from last of a tuple."
      ]
    },
    {
      "cell_type": "code",
      "metadata": {
        "colab": {
          "base_uri": "https://localhost:8080/"
        },
        "id": "fx4FkosTHbuh",
        "outputId": "2879ba26-99bf-4c9a-ed1b-7789c060eb4e"
      },
      "source": [
        "tup = ('e', 'x', 'e', 'r', 'c', 'i', 's', 'e', 's')\n",
        "print(len(tup))\n",
        "\n",
        "print(tup[3])\n",
        "print(tup[-4])"
      ],
      "execution_count": 125,
      "outputs": [
        {
          "output_type": "stream",
          "name": "stdout",
          "text": [
            "9\n",
            "r\n",
            "i\n"
          ]
        }
      ]
    },
    {
      "cell_type": "markdown",
      "metadata": {
        "id": "sWMSCxBWH_Jy"
      },
      "source": [
        "Write a Python program to find the repeated items of a tuple"
      ]
    },
    {
      "cell_type": "code",
      "metadata": {
        "colab": {
          "base_uri": "https://localhost:8080/"
        },
        "id": "NGb0gPcCHj97",
        "outputId": "c37f0447-1d25-404b-b1f4-54490ed39edd"
      },
      "source": [
        "tup = ('e', 'x', 'e', 'r', 'c', 'i', 's', 'e', 's')\n",
        "\n",
        "tup.count('e')\n"
      ],
      "execution_count": 140,
      "outputs": [
        {
          "output_type": "execute_result",
          "data": {
            "text/plain": [
              "3"
            ]
          },
          "metadata": {},
          "execution_count": 140
        }
      ]
    },
    {
      "cell_type": "markdown",
      "metadata": {
        "id": "bVDHylwlJxdd"
      },
      "source": [
        "Write a Python program to check whether an element exists within a tuple"
      ]
    },
    {
      "cell_type": "code",
      "metadata": {
        "colab": {
          "base_uri": "https://localhost:8080/"
        },
        "id": "gxAX6PgTIBpr",
        "outputId": "0b3d3fde-920f-43cc-dc7c-f72b542a6ba8"
      },
      "source": [
        "tup = ('e', 'x', 'e', 'r', 'c', 'i', 's', 'e', 's')\n",
        "\n",
        "\n",
        "i = input(\"Enter the item : \")\n",
        "\n",
        "i in tup\n",
        "\n"
      ],
      "execution_count": 144,
      "outputs": [
        {
          "name": "stdout",
          "output_type": "stream",
          "text": [
            "Enter the item : e\n"
          ]
        },
        {
          "output_type": "execute_result",
          "data": {
            "text/plain": [
              "True"
            ]
          },
          "metadata": {},
          "execution_count": 144
        }
      ]
    },
    {
      "cell_type": "code",
      "metadata": {
        "id": "Gb1Fp5f_J9_e"
      },
      "source": [
        ""
      ],
      "execution_count": 143,
      "outputs": []
    }
  ]
}